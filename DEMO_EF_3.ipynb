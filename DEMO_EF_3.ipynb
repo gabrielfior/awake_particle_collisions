{
 "cells": [
  {
   "cell_type": "markdown",
   "metadata": {},
   "source": [
    "# DEMO_EF by Gabriel Fior"
   ]
  },
  {
   "cell_type": "markdown",
   "metadata": {},
   "source": [
    "Quick demo on how to process particle collisions with Python. The goal is to determine the energy lost by the particles upon travelling though the gas detector and also evaluating the total ionization. Helpful plots will also be presented."
   ]
  },
  {
   "cell_type": "code",
   "execution_count": 127,
   "metadata": {
    "collapsed": false
   },
   "outputs": [],
   "source": [
    "#import libraries\n",
    "import numpy as np\n",
    "import pandas as pd\n",
    "from __future__ import print_function\n",
    "#from bqplot import *\n",
    "from ipywidgets import Layout\n",
    "#from bqplot import pyplot as plt\n",
    "from bqplot import topo_load\n",
    "from bqplot.interacts import panzoom\n",
    "import datetime as dt\n",
    "\n",
    "from mpl_toolkits.mplot3d import Axes3D\n",
    "\n",
    "import seaborn as sns\n",
    "sns.set(color_codes=True)\n",
    "\n",
    "import matplotlib.pyplot as plt\n",
    "%matplotlib inline"
   ]
  },
  {
   "cell_type": "code",
   "execution_count": 2,
   "metadata": {
    "collapsed": true
   },
   "outputs": [],
   "source": [
    "#import files\n",
    "filename = 'test_lowE_nt_B4_g_processed.csv'\n",
    "df = pd.read_csv(filename,skiprows=19,header=None,\n",
    "                     names=['trackId','parentId','volumeName',\n",
    "                     'particleName','stepNumber','posX','posY','posZ','perp','stepLength',\n",
    "                     'kineeticEnergyDiff','edepStep','kineticEnergyPostStep','processName',\n",
    "                     'fCluster','particleId'])"
   ]
  },
  {
   "cell_type": "code",
   "execution_count": 3,
   "metadata": {
    "collapsed": true
   },
   "outputs": [],
   "source": [
    "#select tracks with secondaries\n",
    "tracks_with_secs = df[(df.particleName!='proton')].particleId.unique()"
   ]
  },
  {
   "cell_type": "code",
   "execution_count": 4,
   "metadata": {
    "collapsed": false
   },
   "outputs": [],
   "source": [
    "df_protons_steps = df[(df.particleName=='proton')]"
   ]
  },
  {
   "cell_type": "code",
   "execution_count": 5,
   "metadata": {
    "collapsed": false
   },
   "outputs": [
    {
     "data": {
      "image/png": "[encoded data removed]",
      "text/plain": [
       "<matplotlib.figure.Figure at 0x1097434d0>"
      ]
     },
     "metadata": {},
     "output_type": "display_data"
    }
   ],
   "source": [
    "plt.title('Histogram of energy deposited by protons')\n",
    "plt.hist(df_protons_steps.edepStep,bins=np.linspace(0,3000,100))\n",
    "plt.ylabel('# of occurances')\n",
    "plt.xlabel('Energy deposited (eV)')\n",
    "plt.show()"
   ]
  },
  {
   "cell_type": "markdown",
   "metadata": {},
   "source": [
    "But where is this energy being deposited?"
   ]
  },
  {
   "cell_type": "markdown",
   "metadata": {},
   "source": [
    "Interesting is also to know the radial distribution. If it's too far away from center, energy deposited shall be neglected."
   ]
  },
  {
   "cell_type": "code",
   "execution_count": 28,
   "metadata": {
    "collapsed": false
   },
   "outputs": [],
   "source": [
    "#Calculating posR\n",
    "def get_radial_value(row):\n",
    "#    return np.sqrt((np.double(row['posY'])*\n",
    "#                    np.double(row['posY']))+ (np.double(row['posY'])*\n",
    "#   \n",
    "    return (row['posX']**2 + row['posY']**2)\n",
    "\n",
    "def get_angle(row):\n",
    "    return np.angle(row['posX'] +1j*(row['posY']),0.j + 1.0)"
   ]
  },
  {
   "cell_type": "code",
   "execution_count": 7,
   "metadata": {
    "collapsed": false
   },
   "outputs": [],
   "source": [
    "#df_protons_steps.set_index(['particleId','particleName'], inplace=True)"
   ]
  },
  {
   "cell_type": "code",
   "execution_count": 29,
   "metadata": {
    "collapsed": false
   },
   "outputs": [
    {
     "name": "stderr",
     "output_type": "stream",
     "text": [
      "/Users/gabrielfior/anaconda/lib/python2.7/site-packages/ipykernel/__main__.py:1: SettingWithCopyWarning: \n",
      "A value is trying to be set on a copy of a slice from a DataFrame.\n",
      "Try using .loc[row_indexer,col_indexer] = value instead\n",
      "\n",
      "See the caveats in the documentation: http://pandas.pydata.org/pandas-docs/stable/indexing.html#indexing-view-versus-copy\n",
      "  if __name__ == '__main__':\n",
      "/Users/gabrielfior/anaconda/lib/python2.7/site-packages/ipykernel/__main__.py:2: SettingWithCopyWarning: \n",
      "A value is trying to be set on a copy of a slice from a DataFrame.\n",
      "Try using .loc[row_indexer,col_indexer] = value instead\n",
      "\n",
      "See the caveats in the documentation: http://pandas.pydata.org/pandas-docs/stable/indexing.html#indexing-view-versus-copy\n",
      "  from ipykernel import kernelapp as app\n"
     ]
    }
   ],
   "source": [
    "df_protons_steps['posR'] = df_protons_steps.apply(get_radial_value,axis=1)\n",
    "df_protons_steps['angle'] = df_protons_steps.apply(get_angle,axis=1) "
   ]
  },
  {
   "cell_type": "code",
   "execution_count": 30,
   "metadata": {
    "collapsed": false
   },
   "outputs": [
    {
     "data": {
      "text/html": [
       "<div>\n",
       "<table border=\"1\" class=\"dataframe\">\n",
       "  <thead>\n",
       "    <tr style=\"text-align: right;\">\n",
       "      <th></th>\n",
       "      <th>trackId</th>\n",
       "      <th>parentId</th>\n",
       "      <th>volumeName</th>\n",
       "      <th>particleName</th>\n",
       "      <th>stepNumber</th>\n",
       "      <th>posX</th>\n",
       "      <th>posY</th>\n",
       "      <th>posZ</th>\n",
       "      <th>perp</th>\n",
       "      <th>stepLength</th>\n",
       "      <th>kineeticEnergyDiff</th>\n",
       "      <th>edepStep</th>\n",
       "      <th>kineticEnergyPostStep</th>\n",
       "      <th>processName</th>\n",
       "      <th>fCluster</th>\n",
       "      <th>particleId</th>\n",
       "      <th>posR</th>\n",
       "      <th>angle</th>\n",
       "    </tr>\n",
       "  </thead>\n",
       "  <tbody>\n",
       "    <tr>\n",
       "      <th>0</th>\n",
       "      <td>1</td>\n",
       "      <td>0</td>\n",
       "      <td>Layer</td>\n",
       "      <td>proton</td>\n",
       "      <td>3</td>\n",
       "      <td>0.000118</td>\n",
       "      <td>0.000086</td>\n",
       "      <td>-7.66830</td>\n",
       "      <td>0.000146</td>\n",
       "      <td>1.33333</td>\n",
       "      <td>-320.738</td>\n",
       "      <td>320.738</td>\n",
       "      <td>199999000</td>\n",
       "      <td>Transportation</td>\n",
       "      <td>0.987373</td>\n",
       "      <td>1</td>\n",
       "      <td>2.132021e-08</td>\n",
       "      <td>36.012115</td>\n",
       "    </tr>\n",
       "    <tr>\n",
       "      <th>1</th>\n",
       "      <td>1</td>\n",
       "      <td>0</td>\n",
       "      <td>Layer</td>\n",
       "      <td>proton</td>\n",
       "      <td>4</td>\n",
       "      <td>0.000192</td>\n",
       "      <td>0.000144</td>\n",
       "      <td>-6.95127</td>\n",
       "      <td>0.000240</td>\n",
       "      <td>1.33333</td>\n",
       "      <td>-353.066</td>\n",
       "      <td>353.066</td>\n",
       "      <td>199999000</td>\n",
       "      <td>Transportation</td>\n",
       "      <td>0.987373</td>\n",
       "      <td>1</td>\n",
       "      <td>5.746463e-08</td>\n",
       "      <td>36.977024</td>\n",
       "    </tr>\n",
       "    <tr>\n",
       "      <th>2</th>\n",
       "      <td>1</td>\n",
       "      <td>0</td>\n",
       "      <td>Layer</td>\n",
       "      <td>proton</td>\n",
       "      <td>5</td>\n",
       "      <td>0.000410</td>\n",
       "      <td>0.000367</td>\n",
       "      <td>-4.84247</td>\n",
       "      <td>0.000550</td>\n",
       "      <td>1.33333</td>\n",
       "      <td>-352.191</td>\n",
       "      <td>352.191</td>\n",
       "      <td>199999000</td>\n",
       "      <td>Transportation</td>\n",
       "      <td>0.987373</td>\n",
       "      <td>1</td>\n",
       "      <td>3.030161e-07</td>\n",
       "      <td>41.882923</td>\n",
       "    </tr>\n",
       "    <tr>\n",
       "      <th>3</th>\n",
       "      <td>1</td>\n",
       "      <td>0</td>\n",
       "      <td>Layer</td>\n",
       "      <td>proton</td>\n",
       "      <td>6</td>\n",
       "      <td>0.000458</td>\n",
       "      <td>0.000449</td>\n",
       "      <td>-4.31959</td>\n",
       "      <td>0.000642</td>\n",
       "      <td>1.33333</td>\n",
       "      <td>-368.105</td>\n",
       "      <td>368.105</td>\n",
       "      <td>199998000</td>\n",
       "      <td>Transportation</td>\n",
       "      <td>0.987373</td>\n",
       "      <td>1</td>\n",
       "      <td>4.119490e-07</td>\n",
       "      <td>44.415536</td>\n",
       "    </tr>\n",
       "    <tr>\n",
       "      <th>4</th>\n",
       "      <td>1</td>\n",
       "      <td>0</td>\n",
       "      <td>Layer</td>\n",
       "      <td>proton</td>\n",
       "      <td>7</td>\n",
       "      <td>0.000694</td>\n",
       "      <td>0.000898</td>\n",
       "      <td>-2.05930</td>\n",
       "      <td>0.001135</td>\n",
       "      <td>1.33333</td>\n",
       "      <td>-633.224</td>\n",
       "      <td>633.224</td>\n",
       "      <td>199998000</td>\n",
       "      <td>Transportation</td>\n",
       "      <td>0.987373</td>\n",
       "      <td>1</td>\n",
       "      <td>1.287268e-06</td>\n",
       "      <td>52.294536</td>\n",
       "    </tr>\n",
       "  </tbody>\n",
       "</table>\n",
       "</div>"
      ],
      "text/plain": [
       "   trackId  parentId volumeName particleName  stepNumber      posX      posY  \\\n",
       "0        1         0      Layer       proton           3  0.000118  0.000086   \n",
       "1        1         0      Layer       proton           4  0.000192  0.000144   \n",
       "2        1         0      Layer       proton           5  0.000410  0.000367   \n",
       "3        1         0      Layer       proton           6  0.000458  0.000449   \n",
       "4        1         0      Layer       proton           7  0.000694  0.000898   \n",
       "\n",
       "      posZ      perp  stepLength  kineeticEnergyDiff  edepStep  \\\n",
       "0 -7.66830  0.000146     1.33333            -320.738   320.738   \n",
       "1 -6.95127  0.000240     1.33333            -353.066   353.066   \n",
       "2 -4.84247  0.000550     1.33333            -352.191   352.191   \n",
       "3 -4.31959  0.000642     1.33333            -368.105   368.105   \n",
       "4 -2.05930  0.001135     1.33333            -633.224   633.224   \n",
       "\n",
       "   kineticEnergyPostStep     processName  fCluster  particleId          posR  \\\n",
       "0              199999000  Transportation  0.987373           1  2.132021e-08   \n",
       "1              199999000  Transportation  0.987373           1  5.746463e-08   \n",
       "2              199999000  Transportation  0.987373           1  3.030161e-07   \n",
       "3              199998000  Transportation  0.987373           1  4.119490e-07   \n",
       "4              199998000  Transportation  0.987373           1  1.287268e-06   \n",
       "\n",
       "       angle  \n",
       "0  36.012115  \n",
       "1  36.977024  \n",
       "2  41.882923  \n",
       "3  44.415536  \n",
       "4  52.294536  "
      ]
     },
     "execution_count": 30,
     "metadata": {},
     "output_type": "execute_result"
    }
   ],
   "source": [
    "df_protons_steps.head(5)"
   ]
  },
  {
   "cell_type": "code",
   "execution_count": 10,
   "metadata": {
    "collapsed": false
   },
   "outputs": [],
   "source": [
    "#sns.pairplot(df_protons_steps['edepStep'],df_protons_steps['posR'])"
   ]
  },
  {
   "cell_type": "code",
   "execution_count": 96,
   "metadata": {
    "collapsed": false
   },
   "outputs": [
    {
     "name": "stderr",
     "output_type": "stream",
     "text": [
      "/Users/gabrielfior/anaconda/lib/python2.7/site-packages/ipykernel/__main__.py:2: FutureWarning: sort is deprecated, use sort_values(inplace=True) for for INPLACE sorting\n",
      "  from ipykernel import kernelapp as app\n"
     ]
    },
    {
     "data": {
      "text/plain": [
       "<matplotlib.collections.PathCollection at 0x10c6724d0>"
      ]
     },
     "execution_count": 96,
     "metadata": {},
     "output_type": "execute_result"
    },
    {
     "data": {
      "image/png": "[encoded data removed]",
      "text/plain": [
       "<matplotlib.figure.Figure at 0x10c5f9510>"
      ]
     },
     "metadata": {},
     "output_type": "display_data"
    }
   ],
   "source": [
    "coordR = df_protons_steps.posR.copy()\n",
    "coordR.sort()\n",
    "plt.scatter(coordR,np.log(df_protons_steps.edepStep))"
   ]
  },
  {
   "cell_type": "markdown",
   "metadata": {},
   "source": [
    "# Number of clusters for electron density calculation"
   ]
  },
  {
   "cell_type": "markdown",
   "metadata": {},
   "source": [
    "Obtaining the energy deposit inside the plasma region (approx 2 mm away), this can be converted into electronic density by a constant (specific for a material)."
   ]
  },
  {
   "cell_type": "code",
   "execution_count": 107,
   "metadata": {
    "collapsed": true
   },
   "outputs": [],
   "source": [
    "df_deposit = df_protons_steps[df_protons_steps.posR<0.002].copy()"
   ]
  },
  {
   "cell_type": "code",
   "execution_count": 109,
   "metadata": {
    "collapsed": false
   },
   "outputs": [
    {
     "data": {
      "text/plain": [
       "255796.52155110234"
      ]
     },
     "execution_count": 109,
     "metadata": {},
     "output_type": "execute_result"
    }
   ],
   "source": [
    "df_deposit.edepStep.sum()/26.3 #26.3 eV = value required for creation 1 electron-ion pair.\n",
    "#That gives us total number of electrons"
   ]
  },
  {
   "cell_type": "code",
   "execution_count": 110,
   "metadata": {
    "collapsed": true
   },
   "outputs": [],
   "source": [
    "#Divide by volume, which is approx 2mm in radius and 10 m long\n",
    "total_volume = 0.2*0.2*np.pi*10*1e2 #"
   ]
  },
  {
   "cell_type": "code",
   "execution_count": 117,
   "metadata": {
    "collapsed": false
   },
   "outputs": [
    {
     "name": "stdout",
     "output_type": "stream",
     "text": [
      "2035.56404153 e-/cm^3\n"
     ]
    }
   ],
   "source": [
    "electronic_density = df_deposit.edepStep.sum()/26.3 / total_volume\n",
    "print(str(electronic_density) + ' e-/cm^3') "
   ]
  },
  {
   "cell_type": "markdown",
   "metadata": {},
   "source": [
    "# Plot tracks of secondaries"
   ]
  },
  {
   "cell_type": "code",
   "execution_count": 119,
   "metadata": {
    "collapsed": false
   },
   "outputs": [
    {
     "data": {
      "text/plain": [
       "array([ 2,  5,  9, 10, 11, 16, 18, 20, 22, 24])"
      ]
     },
     "execution_count": 119,
     "metadata": {},
     "output_type": "execute_result"
    }
   ],
   "source": [
    "tracks_with_secs[:10] #10 fist only\n",
    "# 9 is a track with secondary"
   ]
  },
  {
   "cell_type": "code",
   "execution_count": 124,
   "metadata": {
    "collapsed": false
   },
   "outputs": [],
   "source": [
    "df_track_of_interest = df[df['particleId']==9]"
   ]
  },
  {
   "cell_type": "code",
   "execution_count": 142,
   "metadata": {
    "collapsed": false
   },
   "outputs": [
    {
     "data": {
      "image/png": "[encoded data removed]",
      "text/plain": [
       "<matplotlib.figure.Figure at 0x110b6f8d0>"
      ]
     },
     "metadata": {},
     "output_type": "display_data"
    }
   ],
   "source": [
    "fig = plt.figure()\n",
    "ax = fig.add_subplot(111, projection='3d')\n",
    "#plt.plot(df_track_of_interest.posX)\n",
    "\n",
    "ax.scatter(df_track_of_interest.posX, df_track_of_interest.posY, df_track_of_interest.posZ, c='r', marker='o')\n",
    "ax.scatter(df_track_of_interest.posX, df_track_of_interest.posY, df_track_of_interest.posZ, c='r', marker='o')\n",
    "plt.xlabel('X')\n",
    "plt.ylabel('Y')\n",
    "ax.view_init(30, 45)\n",
    "plt.tight_layout()\n",
    "plt.show()"
   ]
  },
  {
   "cell_type": "code",
   "execution_count": null,
   "metadata": {
    "collapsed": true
   },
   "outputs": [],
   "source": []
  }
 ],
 "metadata": {
  "kernelspec": {
   "display_name": "Python 2",
   "language": "python",
   "name": "python2"
  },
  "language_info": {
   "codemirror_mode": {
    "name": "ipython",
    "version": 2
   },
   "file_extension": ".py",
   "mimetype": "text/x-python",
   "name": "python",
   "nbconvert_exporter": "python",
   "pygments_lexer": "ipython2",
   "version": "2.7.12"
  }
 },
 "nbformat": 4,
 "nbformat_minor": 0
}
