{
 "cells": [
  {
   "cell_type": "code",
   "execution_count": 1,
   "metadata": {
    "collapsed": false
   },
   "outputs": [
    {
     "name": "stderr",
     "output_type": "stream",
     "text": [
      "[WARNING] graphlab.product_key: Unable to write current GraphLab Create license to /Users/gabrielfior/.graphlab/config. Ensure that this user account                         has write permission to /Users/gabrielfior/.graphlab/config to save the license for offline use.\n",
      "WARNING:graphlab.product_key:Unable to write current GraphLab Create license to /Users/gabrielfior/.graphlab/config. Ensure that this user account                         has write permission to /Users/gabrielfior/.graphlab/config to save the license for offline use.\n",
      "[INFO] graphlab.cython.cy_server: GraphLab Create v2.1 started. Logging: /tmp/graphlab_server_1480927934.log\n",
      "INFO:graphlab.cython.cy_server:GraphLab Create v2.1 started. Logging: /tmp/graphlab_server_1480927934.log\n",
      "[WARNING] graphlab.deploy._session: Unable to create session in specified location: '/Users/gabrielfior/.graphlab/artifacts'. Using: '/var/tmp/graphlab-gabrielfior/8983/tmp_session_a8e8a9fe-9d23-473c-88b6-bc197b7cfc89'\n",
      "WARNING:graphlab.deploy._session:Unable to create session in specified location: '/Users/gabrielfior/.graphlab/artifacts'. Using: '/var/tmp/graphlab-gabrielfior/8983/tmp_session_a8e8a9fe-9d23-473c-88b6-bc197b7cfc89'\n"
     ]
    },
    {
     "name": "stdout",
     "output_type": "stream",
     "text": [
      "This non-commercial license of GraphLab Create for academic use is assigned to ga46mal@mytum.de and will expire on July 08, 2017.\n"
     ]
    },
    {
     "name": "stderr",
     "output_type": "stream",
     "text": [
      "/Users/gabrielfior/anaconda/lib/python2.7/site-packages/matplotlib/font_manager.py:273: UserWarning: Matplotlib is building the font cache using fc-list. This may take a moment.\n",
      "  warnings.warn('Matplotlib is building the font cache using fc-list. This may take a moment.')\n"
     ]
    }
   ],
   "source": [
    "import graphlab\n",
    "import numpy as np\n",
    "import matplotlib.pyplot as plt\n",
    "import pandas as pd\n",
    "from math import pow\n",
    "%matplotlib inline\n",
    "import json\n",
    "import datetime\n"
   ]
  },
  {
   "cell_type": "code",
   "execution_count": 2,
   "metadata": {
    "collapsed": false
   },
   "outputs": [],
   "source": [
    "loading=False #Set True to load full csv file\n",
    "ev = '1'\n",
    "full_csv_path = '/Volumes/UNTITLED/Geant4_data/B4_nt_'+(ev)+'ev_1um_processed.csv'\n",
    "full_csv_path = '/Users/gabrielfior/OneDrive/Master Thesis/Share_Ubuntu/B4_nt_B4_g_origin_processed.csv'\n",
    "name_export = 'electrons_rangecut_'+ev+'ev.json'\n",
    "name_export_proton = 'protons_rangecut_'+ev+'ev.json'\n",
    "columns = ['step_number','energy_deposit','r','perp','particleName','trackId','parentId',\n",
    "          'kinecticEnergyDiff','stepLength','posX','posY','posZ','volumeName','processName',\n",
    "          'preKinecticEnergy','postKineticEnergy','endstep','count_particle']\n",
    "\n",
    "\n"
   ]
  },
  {
   "cell_type": "code",
   "execution_count": 3,
   "metadata": {
    "collapsed": false
   },
   "outputs": [
    {
     "name": "stdout",
     "output_type": "stream",
     "text": [
      "Elapsed :0:00:43.637280\n"
     ]
    }
   ],
   "source": [
    "t0=datetime.datetime.now()\n",
    "df = pd.read_csv(full_csv_path,header=None,names=columns,index_col=False)\n",
    "print 'Elapsed :'+str(datetime.datetime.now()-t0)"
   ]
  },
  {
   "cell_type": "code",
   "execution_count": 4,
   "metadata": {
    "collapsed": false
   },
   "outputs": [],
   "source": [
    "df_el = df[df.particleName=='e-']"
   ]
  },
  {
   "cell_type": "code",
   "execution_count": 5,
   "metadata": {
    "collapsed": false
   },
   "outputs": [
    {
     "data": {
      "text/plain": [
       "68"
      ]
     },
     "execution_count": 5,
     "metadata": {},
     "output_type": "execute_result"
    }
   ],
   "source": [
    "len(df_el.count_particle.unique())"
   ]
  },
  {
   "cell_type": "code",
   "execution_count": 6,
   "metadata": {
    "collapsed": false
   },
   "outputs": [
    {
     "data": {
      "text/plain": [
       "168803.0"
      ]
     },
     "execution_count": 6,
     "metadata": {},
     "output_type": "execute_result"
    }
   ],
   "source": [
    "df_el.postKineticEnergy.max()"
   ]
  },
  {
   "cell_type": "code",
   "execution_count": 8,
   "metadata": {
    "collapsed": false
   },
   "outputs": [],
   "source": [
    "path1 = '/Volumes/UNTITLED/Geant4_data/'+name_export\n",
    "path1= '/Users/gabrielfior/OneDrive/Master Thesis/Share_Ubuntu/'+name_export\n",
    "df_el.to_json(path1)\n"
   ]
  },
  {
   "cell_type": "code",
   "execution_count": null,
   "metadata": {
    "collapsed": false
   },
   "outputs": [],
   "source": [
    "#test exported json\n",
    "#with open('/Volumes/UNTITLED/Geant4_data/'+name_export) as data_file:    \n",
    "#    data = json.load(data_file)"
   ]
  },
  {
   "cell_type": "code",
   "execution_count": 9,
   "metadata": {
    "collapsed": false
   },
   "outputs": [
    {
     "data": {
      "text/plain": [
       "1325787.7573330149"
      ]
     },
     "execution_count": 9,
     "metadata": {},
     "output_type": "execute_result"
    }
   ],
   "source": [
    "df.energy_deposit.sum()"
   ]
  },
  {
   "cell_type": "code",
   "execution_count": 10,
   "metadata": {
    "collapsed": false
   },
   "outputs": [],
   "source": [
    "#Get hist of energy deposit of protons\n",
    "df_protons = df[df.particleName=='proton']\n",
    "df_grouped_protons = df_protons.groupby(['processName','count_particle'],as_index=False).agg({'energy_deposit':sum,\n",
    "                                                                'step_number':max,\n",
    "                                                                'kinecticEnergyDiff':sum\n",
    "                                                                \n",
    "                                                                })\n",
    "#data.groupby(['month', 'item']).agg({'duration':sum,      # find the sum of the durations for each group\n",
    "#                                     'network_type': \"count\", # find the number of network type entries\n",
    "#                                     'date': 'first'})  "
   ]
  },
  {
   "cell_type": "code",
   "execution_count": 11,
   "metadata": {
    "collapsed": false
   },
   "outputs": [
    {
     "data": {
      "text/html": [
       "<div>\n",
       "<table border=\"1\" class=\"dataframe\">\n",
       "  <thead>\n",
       "    <tr style=\"text-align: right;\">\n",
       "      <th></th>\n",
       "      <th>processName</th>\n",
       "      <th>count_particle</th>\n",
       "      <th>step_number</th>\n",
       "      <th>energy_deposit</th>\n",
       "      <th>kinecticEnergyDiff</th>\n",
       "    </tr>\n",
       "  </thead>\n",
       "  <tbody>\n",
       "    <tr>\n",
       "      <th>2529</th>\n",
       "      <td>Transportation</td>\n",
       "      <td>2529</td>\n",
       "      <td>12</td>\n",
       "      <td>1.32475</td>\n",
       "      <td>-1.32481</td>\n",
       "    </tr>\n",
       "  </tbody>\n",
       "</table>\n",
       "</div>"
      ],
      "text/plain": [
       "         processName  count_particle  step_number  energy_deposit  \\\n",
       "2529  Transportation            2529           12         1.32475   \n",
       "\n",
       "      kinecticEnergyDiff  \n",
       "2529            -1.32481  "
      ]
     },
     "execution_count": 11,
     "metadata": {},
     "output_type": "execute_result"
    }
   ],
   "source": [
    "df_grouped_protons[df_grouped_protons.count_particle==2529]"
   ]
  },
  {
   "cell_type": "code",
   "execution_count": 13,
   "metadata": {
    "collapsed": false
   },
   "outputs": [],
   "source": [
    "path2= '/Users/gabrielfior/OneDrive/Master Thesis/Share_Ubuntu/'+name_export_proton\n",
    "df_grouped_protons.to_json(path2)"
   ]
  },
  {
   "cell_type": "code",
   "execution_count": 14,
   "metadata": {
    "collapsed": false
   },
   "outputs": [
    {
     "data": {
      "text/plain": [
       "492894.79"
      ]
     },
     "execution_count": 14,
     "metadata": {},
     "output_type": "execute_result"
    }
   ],
   "source": [
    "df_el[df_el.volumeName=='World'].postKineticEnergy.sum()"
   ]
  },
  {
   "cell_type": "code",
   "execution_count": 15,
   "metadata": {
    "collapsed": false
   },
   "outputs": [
    {
     "data": {
      "text/html": [
       "<div>\n",
       "<table border=\"1\" class=\"dataframe\">\n",
       "  <thead>\n",
       "    <tr style=\"text-align: right;\">\n",
       "      <th></th>\n",
       "      <th>step_number</th>\n",
       "      <th>energy_deposit</th>\n",
       "      <th>r</th>\n",
       "      <th>perp</th>\n",
       "      <th>particleName</th>\n",
       "      <th>trackId</th>\n",
       "      <th>parentId</th>\n",
       "      <th>kinecticEnergyDiff</th>\n",
       "      <th>stepLength</th>\n",
       "      <th>posX</th>\n",
       "      <th>posY</th>\n",
       "      <th>posZ</th>\n",
       "      <th>volumeName</th>\n",
       "      <th>processName</th>\n",
       "      <th>preKinecticEnergy</th>\n",
       "      <th>postKineticEnergy</th>\n",
       "      <th>endstep</th>\n",
       "      <th>count_particle</th>\n",
       "    </tr>\n",
       "  </thead>\n",
       "  <tbody>\n",
       "    <tr>\n",
       "      <th>30348</th>\n",
       "      <td>1</td>\n",
       "      <td>3.946850e-19</td>\n",
       "      <td>54.42660</td>\n",
       "      <td>0.156399</td>\n",
       "      <td>proton</td>\n",
       "      <td>1</td>\n",
       "      <td>0</td>\n",
       "      <td>0.000000</td>\n",
       "      <td>10</td>\n",
       "      <td>-0.115441</td>\n",
       "      <td>0.105517</td>\n",
       "      <td>-54.42640</td>\n",
       "      <td>World</td>\n",
       "      <td>Transportation</td>\n",
       "      <td>4.000000e+11</td>\n",
       "      <td>4.000000e+11</td>\n",
       "      <td>endstep</td>\n",
       "      <td>2529</td>\n",
       "    </tr>\n",
       "    <tr>\n",
       "      <th>30349</th>\n",
       "      <td>2</td>\n",
       "      <td>1.324750e-01</td>\n",
       "      <td>43.08300</td>\n",
       "      <td>0.156399</td>\n",
       "      <td>proton</td>\n",
       "      <td>1</td>\n",
       "      <td>0</td>\n",
       "      <td>-0.132481</td>\n",
       "      <td>10</td>\n",
       "      <td>-0.115441</td>\n",
       "      <td>0.105517</td>\n",
       "      <td>-43.08270</td>\n",
       "      <td>Abso</td>\n",
       "      <td>Transportation</td>\n",
       "      <td>4.000000e+11</td>\n",
       "      <td>4.000000e+11</td>\n",
       "      <td>endstep</td>\n",
       "      <td>2529</td>\n",
       "    </tr>\n",
       "    <tr>\n",
       "      <th>30350</th>\n",
       "      <td>3</td>\n",
       "      <td>1.324750e-01</td>\n",
       "      <td>30.74720</td>\n",
       "      <td>0.156399</td>\n",
       "      <td>proton</td>\n",
       "      <td>1</td>\n",
       "      <td>0</td>\n",
       "      <td>-0.132481</td>\n",
       "      <td>10</td>\n",
       "      <td>-0.115441</td>\n",
       "      <td>0.105517</td>\n",
       "      <td>-30.74680</td>\n",
       "      <td>Abso</td>\n",
       "      <td>Transportation</td>\n",
       "      <td>4.000000e+11</td>\n",
       "      <td>4.000000e+11</td>\n",
       "      <td>endstep</td>\n",
       "      <td>2529</td>\n",
       "    </tr>\n",
       "    <tr>\n",
       "      <th>30351</th>\n",
       "      <td>4</td>\n",
       "      <td>1.324750e-01</td>\n",
       "      <td>24.69440</td>\n",
       "      <td>0.156399</td>\n",
       "      <td>proton</td>\n",
       "      <td>1</td>\n",
       "      <td>0</td>\n",
       "      <td>-0.132481</td>\n",
       "      <td>10</td>\n",
       "      <td>-0.115441</td>\n",
       "      <td>0.105517</td>\n",
       "      <td>-24.69390</td>\n",
       "      <td>Abso</td>\n",
       "      <td>Transportation</td>\n",
       "      <td>4.000000e+11</td>\n",
       "      <td>4.000000e+11</td>\n",
       "      <td>endstep</td>\n",
       "      <td>2529</td>\n",
       "    </tr>\n",
       "    <tr>\n",
       "      <th>30352</th>\n",
       "      <td>5</td>\n",
       "      <td>1.324750e-01</td>\n",
       "      <td>10.95510</td>\n",
       "      <td>0.156399</td>\n",
       "      <td>proton</td>\n",
       "      <td>1</td>\n",
       "      <td>0</td>\n",
       "      <td>-0.132481</td>\n",
       "      <td>10</td>\n",
       "      <td>-0.115441</td>\n",
       "      <td>0.105517</td>\n",
       "      <td>-10.95400</td>\n",
       "      <td>Abso</td>\n",
       "      <td>Transportation</td>\n",
       "      <td>4.000000e+11</td>\n",
       "      <td>4.000000e+11</td>\n",
       "      <td>endstep</td>\n",
       "      <td>2529</td>\n",
       "    </tr>\n",
       "    <tr>\n",
       "      <th>30353</th>\n",
       "      <td>6</td>\n",
       "      <td>1.324750e-01</td>\n",
       "      <td>4.77282</td>\n",
       "      <td>0.156399</td>\n",
       "      <td>proton</td>\n",
       "      <td>1</td>\n",
       "      <td>0</td>\n",
       "      <td>-0.132481</td>\n",
       "      <td>10</td>\n",
       "      <td>-0.115441</td>\n",
       "      <td>0.105517</td>\n",
       "      <td>-4.77026</td>\n",
       "      <td>Abso</td>\n",
       "      <td>Transportation</td>\n",
       "      <td>4.000000e+11</td>\n",
       "      <td>4.000000e+11</td>\n",
       "      <td>endstep</td>\n",
       "      <td>2529</td>\n",
       "    </tr>\n",
       "    <tr>\n",
       "      <th>30354</th>\n",
       "      <td>7</td>\n",
       "      <td>1.324750e-01</td>\n",
       "      <td>9.39801</td>\n",
       "      <td>0.156399</td>\n",
       "      <td>proton</td>\n",
       "      <td>1</td>\n",
       "      <td>0</td>\n",
       "      <td>-0.132481</td>\n",
       "      <td>10</td>\n",
       "      <td>-0.115441</td>\n",
       "      <td>0.105517</td>\n",
       "      <td>9.39671</td>\n",
       "      <td>Abso</td>\n",
       "      <td>Transportation</td>\n",
       "      <td>4.000000e+11</td>\n",
       "      <td>4.000000e+11</td>\n",
       "      <td>endstep</td>\n",
       "      <td>2529</td>\n",
       "    </tr>\n",
       "    <tr>\n",
       "      <th>30355</th>\n",
       "      <td>8</td>\n",
       "      <td>1.324750e-01</td>\n",
       "      <td>17.33790</td>\n",
       "      <td>0.156399</td>\n",
       "      <td>proton</td>\n",
       "      <td>1</td>\n",
       "      <td>0</td>\n",
       "      <td>-0.132481</td>\n",
       "      <td>10</td>\n",
       "      <td>-0.115441</td>\n",
       "      <td>0.105517</td>\n",
       "      <td>17.33720</td>\n",
       "      <td>Abso</td>\n",
       "      <td>Transportation</td>\n",
       "      <td>4.000000e+11</td>\n",
       "      <td>4.000000e+11</td>\n",
       "      <td>endstep</td>\n",
       "      <td>2529</td>\n",
       "    </tr>\n",
       "    <tr>\n",
       "      <th>30356</th>\n",
       "      <td>9</td>\n",
       "      <td>1.324750e-01</td>\n",
       "      <td>23.57920</td>\n",
       "      <td>0.156399</td>\n",
       "      <td>proton</td>\n",
       "      <td>1</td>\n",
       "      <td>0</td>\n",
       "      <td>-0.132481</td>\n",
       "      <td>10</td>\n",
       "      <td>-0.115441</td>\n",
       "      <td>0.105517</td>\n",
       "      <td>23.57860</td>\n",
       "      <td>Abso</td>\n",
       "      <td>Transportation</td>\n",
       "      <td>4.000000e+11</td>\n",
       "      <td>4.000000e+11</td>\n",
       "      <td>endstep</td>\n",
       "      <td>2529</td>\n",
       "    </tr>\n",
       "    <tr>\n",
       "      <th>30357</th>\n",
       "      <td>10</td>\n",
       "      <td>1.324750e-01</td>\n",
       "      <td>32.78180</td>\n",
       "      <td>0.156399</td>\n",
       "      <td>proton</td>\n",
       "      <td>1</td>\n",
       "      <td>0</td>\n",
       "      <td>-0.132481</td>\n",
       "      <td>10</td>\n",
       "      <td>-0.115441</td>\n",
       "      <td>0.105517</td>\n",
       "      <td>32.78150</td>\n",
       "      <td>Abso</td>\n",
       "      <td>Transportation</td>\n",
       "      <td>4.000000e+11</td>\n",
       "      <td>4.000000e+11</td>\n",
       "      <td>endstep</td>\n",
       "      <td>2529</td>\n",
       "    </tr>\n",
       "    <tr>\n",
       "      <th>30358</th>\n",
       "      <td>11</td>\n",
       "      <td>1.324750e-01</td>\n",
       "      <td>48.67700</td>\n",
       "      <td>0.156399</td>\n",
       "      <td>proton</td>\n",
       "      <td>1</td>\n",
       "      <td>0</td>\n",
       "      <td>-0.132481</td>\n",
       "      <td>10</td>\n",
       "      <td>-0.115441</td>\n",
       "      <td>0.105517</td>\n",
       "      <td>48.67670</td>\n",
       "      <td>Abso</td>\n",
       "      <td>Transportation</td>\n",
       "      <td>4.000000e+11</td>\n",
       "      <td>4.000000e+11</td>\n",
       "      <td>endstep</td>\n",
       "      <td>2529</td>\n",
       "    </tr>\n",
       "    <tr>\n",
       "      <th>30359</th>\n",
       "      <td>12</td>\n",
       "      <td>3.946850e-19</td>\n",
       "      <td>57.16730</td>\n",
       "      <td>0.156399</td>\n",
       "      <td>proton</td>\n",
       "      <td>1</td>\n",
       "      <td>0</td>\n",
       "      <td>0.000000</td>\n",
       "      <td>10</td>\n",
       "      <td>-0.115441</td>\n",
       "      <td>0.105517</td>\n",
       "      <td>57.16710</td>\n",
       "      <td>World</td>\n",
       "      <td>Transportation</td>\n",
       "      <td>4.000000e+11</td>\n",
       "      <td>4.000000e+11</td>\n",
       "      <td>endstep</td>\n",
       "      <td>2529</td>\n",
       "    </tr>\n",
       "  </tbody>\n",
       "</table>\n",
       "</div>"
      ],
      "text/plain": [
       "       step_number  energy_deposit         r      perp particleName  trackId  \\\n",
       "30348            1    3.946850e-19  54.42660  0.156399       proton        1   \n",
       "30349            2    1.324750e-01  43.08300  0.156399       proton        1   \n",
       "30350            3    1.324750e-01  30.74720  0.156399       proton        1   \n",
       "30351            4    1.324750e-01  24.69440  0.156399       proton        1   \n",
       "30352            5    1.324750e-01  10.95510  0.156399       proton        1   \n",
       "30353            6    1.324750e-01   4.77282  0.156399       proton        1   \n",
       "30354            7    1.324750e-01   9.39801  0.156399       proton        1   \n",
       "30355            8    1.324750e-01  17.33790  0.156399       proton        1   \n",
       "30356            9    1.324750e-01  23.57920  0.156399       proton        1   \n",
       "30357           10    1.324750e-01  32.78180  0.156399       proton        1   \n",
       "30358           11    1.324750e-01  48.67700  0.156399       proton        1   \n",
       "30359           12    3.946850e-19  57.16730  0.156399       proton        1   \n",
       "\n",
       "       parentId  kinecticEnergyDiff  stepLength      posX      posY      posZ  \\\n",
       "30348         0            0.000000          10 -0.115441  0.105517 -54.42640   \n",
       "30349         0           -0.132481          10 -0.115441  0.105517 -43.08270   \n",
       "30350         0           -0.132481          10 -0.115441  0.105517 -30.74680   \n",
       "30351         0           -0.132481          10 -0.115441  0.105517 -24.69390   \n",
       "30352         0           -0.132481          10 -0.115441  0.105517 -10.95400   \n",
       "30353         0           -0.132481          10 -0.115441  0.105517  -4.77026   \n",
       "30354         0           -0.132481          10 -0.115441  0.105517   9.39671   \n",
       "30355         0           -0.132481          10 -0.115441  0.105517  17.33720   \n",
       "30356         0           -0.132481          10 -0.115441  0.105517  23.57860   \n",
       "30357         0           -0.132481          10 -0.115441  0.105517  32.78150   \n",
       "30358         0           -0.132481          10 -0.115441  0.105517  48.67670   \n",
       "30359         0            0.000000          10 -0.115441  0.105517  57.16710   \n",
       "\n",
       "      volumeName     processName  preKinecticEnergy  postKineticEnergy  \\\n",
       "30348      World  Transportation       4.000000e+11       4.000000e+11   \n",
       "30349       Abso  Transportation       4.000000e+11       4.000000e+11   \n",
       "30350       Abso  Transportation       4.000000e+11       4.000000e+11   \n",
       "30351       Abso  Transportation       4.000000e+11       4.000000e+11   \n",
       "30352       Abso  Transportation       4.000000e+11       4.000000e+11   \n",
       "30353       Abso  Transportation       4.000000e+11       4.000000e+11   \n",
       "30354       Abso  Transportation       4.000000e+11       4.000000e+11   \n",
       "30355       Abso  Transportation       4.000000e+11       4.000000e+11   \n",
       "30356       Abso  Transportation       4.000000e+11       4.000000e+11   \n",
       "30357       Abso  Transportation       4.000000e+11       4.000000e+11   \n",
       "30358       Abso  Transportation       4.000000e+11       4.000000e+11   \n",
       "30359      World  Transportation       4.000000e+11       4.000000e+11   \n",
       "\n",
       "       endstep  count_particle  \n",
       "30348  endstep            2529  \n",
       "30349  endstep            2529  \n",
       "30350  endstep            2529  \n",
       "30351  endstep            2529  \n",
       "30352  endstep            2529  \n",
       "30353  endstep            2529  \n",
       "30354  endstep            2529  \n",
       "30355  endstep            2529  \n",
       "30356  endstep            2529  \n",
       "30357  endstep            2529  \n",
       "30358  endstep            2529  \n",
       "30359  endstep            2529  "
      ]
     },
     "execution_count": 15,
     "metadata": {},
     "output_type": "execute_result"
    }
   ],
   "source": [
    "df[df.count_particle==2529]"
   ]
  },
  {
   "cell_type": "code",
   "execution_count": 16,
   "metadata": {
    "collapsed": false
   },
   "outputs": [],
   "source": [
    "#Divide energy lost by protons in processes\n",
    "df_proc = df.groupby(['processName']).agg({'kinecticEnergyDiff':sum,\n",
    "                                          'energy_deposit':sum\n",
    "                                          })"
   ]
  },
  {
   "cell_type": "code",
   "execution_count": 17,
   "metadata": {
    "collapsed": false
   },
   "outputs": [
    {
     "data": {
      "text/html": [
       "<div>\n",
       "<table border=\"1\" class=\"dataframe\">\n",
       "  <thead>\n",
       "    <tr style=\"text-align: right;\">\n",
       "      <th></th>\n",
       "      <th>kinecticEnergyDiff</th>\n",
       "      <th>energy_deposit</th>\n",
       "    </tr>\n",
       "    <tr>\n",
       "      <th>processName</th>\n",
       "      <th></th>\n",
       "      <th></th>\n",
       "    </tr>\n",
       "  </thead>\n",
       "  <tbody>\n",
       "    <tr>\n",
       "      <th>Transportation</th>\n",
       "      <td>-1325843.073114</td>\n",
       "      <td>1325783.073913</td>\n",
       "    </tr>\n",
       "    <tr>\n",
       "      <th>hIoni</th>\n",
       "      <td>-493937.197000</td>\n",
       "      <td>4.683420</td>\n",
       "    </tr>\n",
       "  </tbody>\n",
       "</table>\n",
       "</div>"
      ],
      "text/plain": [
       "                kinecticEnergyDiff  energy_deposit\n",
       "processName                                       \n",
       "Transportation     -1325843.073114  1325783.073913\n",
       "hIoni               -493937.197000        4.683420"
      ]
     },
     "execution_count": 17,
     "metadata": {},
     "output_type": "execute_result"
    }
   ],
   "source": [
    "df_proc.head(10)"
   ]
  },
  {
   "cell_type": "code",
   "execution_count": null,
   "metadata": {
    "collapsed": true
   },
   "outputs": [],
   "source": []
  }
 ],
 "metadata": {
  "kernelspec": {
   "display_name": "Python 2",
   "language": "python",
   "name": "python2"
  },
  "language_info": {
   "codemirror_mode": {
    "name": "ipython",
    "version": 2
   },
   "file_extension": ".py",
   "mimetype": "text/x-python",
   "name": "python",
   "nbconvert_exporter": "python",
   "pygments_lexer": "ipython2",
   "version": "2.7.12"
  }
 },
 "nbformat": 4,
 "nbformat_minor": 0
}
