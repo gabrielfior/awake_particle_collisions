{
 "cells": [
  {
   "cell_type": "code",
   "execution_count": 1,
   "metadata": {
    "collapsed": false
   },
   "outputs": [
    {
     "name": "stderr",
     "output_type": "stream",
     "text": [
      "/Users/gabrielfior/anaconda/lib/python2.7/site-packages/matplotlib/font_manager.py:273: UserWarning: Matplotlib is building the font cache using fc-list. This may take a moment.\n",
      "  warnings.warn('Matplotlib is building the font cache using fc-list. This may take a moment.')\n"
     ]
    }
   ],
   "source": [
    "import numpy as np\n",
    "from numpy.linalg import norm\n",
    "from numpy import array, zeros\n",
    "import datetime\n",
    "import matplotlib.pyplot as plt\n",
    "import os\n",
    "import matplotlib\n",
    "from mpl_toolkits.mplot3d import Axes3D\n",
    "from matplotlib import pyplot as plot\n",
    "%matplotlib inline"
   ]
  },
  {
   "cell_type": "code",
   "execution_count": 2,
   "metadata": {
    "collapsed": false
   },
   "outputs": [
    {
     "data": {
      "text/plain": [
       "'\\ntotal_time = 0.\\ndt = 1e-11\\nv = np.array([100.,0.,0.])\\nB = np.array([0.,0.,5.e-4])\\npos = [np.array([0.,0.,0.])]\\nlist_pos=[]\\nlist_vels=[]\\n\\n\\nq = 1.6*1e-19 #C\\nm = 9.31*1e-31\\ndef calculate_acceleration(v):\\n    return q*np.cross(v,B)/m\\n    \\n\\nwhile total_time<7e-8:\\n    vNplusHalf = v + 0.5*dt*calculate_acceleration(v)\\n    #print vNplusHalf\\n    pos = pos + dt*vNplusHalf\\n    v = vNplusHalf + 0.5*dt*calculate_acceleration(vNplusHalf)\\n    \\n    total_time += dt\\n    list_pos.append(pos)\\n    list_vels.append(v)\\n    \\nplt.plot(np.array(list_pos)[:,0][:,0],np.array(list_pos)[:,0][:,1])\\nplt.show()\\n'"
      ]
     },
     "execution_count": 2,
     "metadata": {},
     "output_type": "execute_result"
    }
   ],
   "source": [
    "\"\"\"\n",
    "total_time = 0.\n",
    "dt = 1e-11\n",
    "v = np.array([100.,0.,0.])\n",
    "B = np.array([0.,0.,5.e-4])\n",
    "pos = [np.array([0.,0.,0.])]\n",
    "list_pos=[]\n",
    "list_vels=[]\n",
    "\n",
    "\n",
    "q = 1.6*1e-19 #C\n",
    "m = 9.31*1e-31\n",
    "def calculate_acceleration(v):\n",
    "    return q*np.cross(v,B)/m\n",
    "    \n",
    "\n",
    "while total_time<7e-8:\n",
    "    vNplusHalf = v + 0.5*dt*calculate_acceleration(v)\n",
    "    #print vNplusHalf\n",
    "    pos = pos + dt*vNplusHalf\n",
    "    v = vNplusHalf + 0.5*dt*calculate_acceleration(vNplusHalf)\n",
    "    \n",
    "    total_time += dt\n",
    "    list_pos.append(pos)\n",
    "    list_vels.append(v)\n",
    "    \n",
    "plt.plot(np.array(list_pos)[:,0][:,0],np.array(list_pos)[:,0][:,1])\n",
    "plt.show()\n",
    "\"\"\""
   ]
  },
  {
   "cell_type": "code",
   "execution_count": 18,
   "metadata": {
    "collapsed": true
   },
   "outputs": [],
   "source": [
    "def simulate_el_trajec(total_time_of_simulation,v,pos,rho0,dt):\n",
    "\n",
    "    total_time = 0.\n",
    "    #dt = 1e-14\n",
    "    #v = np.array([0.,100.,0.])\n",
    "    #B = np.array([0.,0.,5.e-4])\n",
    "    #pos = np.array([0.,50*1e-6,0.])\n",
    "    list_pos=[]\n",
    "    list_vels=[]\n",
    "    list_times=[]\n",
    "    list_elecField=[]\n",
    "    list_bField=[]\n",
    "    list_fZ=[]\n",
    "    list_theta=[]\n",
    "    list_accels=[]\n",
    "    list_radius=[]\n",
    "    list_kinEnergy=[]\n",
    "    list_totEnergy=[]\n",
    "    \n",
    "    q = -1.6*1e-19 #C\n",
    "    m = 9.31*1e-31\n",
    "    ##### E calculation ####\n",
    "    epsilon0 = 8.85*1e-12\n",
    "    beta = 1.\n",
    "    c = 3*1e8\n",
    "    r0 = 200*1e-6\n",
    "    ####B calculation ####\n",
    "    mu0 = 4*np.pi*1e-7\n",
    "    #rho0 = 1. #for gaussian profile\n",
    "    #total_time_of_simulation = .8e-9\n",
    "    sigma_r = 200.e-6\n",
    "    def calculate_acceleration(v,pos1):\n",
    "\n",
    "        #radial_distance = np.sqrt(((pos1)*(pos1)).sum())\n",
    "        radial_distance = np.sqrt((pos[:2]**2).sum())\n",
    "\n",
    "        exponential_term = np.exp(-1.*radial_distance*radial_distance/(2.*sigma_r*sigma_r))\n",
    "        Eradial = (rho0/epsilon0)*(sigma_r*sigma_r/radial_distance)*(1. - exponential_term)\n",
    "\n",
    "        #Btheta = radius*(mu0/(2*np.pi))\n",
    "        Btheta = Eradial*beta/c\n",
    "\n",
    "        theta = np.arctan2((pos1[1]),(pos1[0])) #in radians\n",
    "        #print 'theta (deg): '+str(theta*np.pi/180)\n",
    "        E = np.array([Eradial*np.cos(theta),Eradial*np.sin(theta),0.]) #Ex,Ey,Ez\n",
    "\n",
    "        #############\n",
    "        #Included signs in electric field\n",
    "        signs_positions = np.sign(pos1)\n",
    "        #############\n",
    "\n",
    "        B = np.array([Btheta*np.sign(pos1[1]),-1.*Btheta*np.cos(theta),0.])\n",
    "\n",
    "        acceleration = q*(E + np.cross(v,B))/m\n",
    "        Fmag= q*np.cross(v,B)/m\n",
    "        #print acceleration.shape\n",
    "        return acceleration,B,E,Fmag,theta,radial_distance\n",
    "\n",
    "    t0 = datetime.datetime.now()\n",
    "    while total_time<total_time_of_simulation:\n",
    "        #print 'total time :' + str(total_time)\n",
    "        posNplusHalf = pos + 0.5*dt*v\n",
    "        #print vNplusHalf\n",
    "        a,B,E,Fmag,theta,rad = calculate_acceleration(v,posNplusHalf)\n",
    "        v = v + dt*a\n",
    "        pos = posNplusHalf + 0.5*dt*v\n",
    "        gamma_calc = 1./np.sqrt(1 - ((np.sqrt((v[1:]**2).sum())/c)**2))\n",
    "        kineticEnergy = (gamma_calc-1)*(.511)*1e6 #in eV\n",
    "        totalEnergy = (gamma_calc)*(.511)*1e6 #in eV\n",
    "        total_time += dt\n",
    "        list_pos.append(pos)\n",
    "        list_vels.append(v)\n",
    "        list_times.append(total_time)\n",
    "        list_elecField.append(E)\n",
    "        list_bField.append(B)\n",
    "        list_fZ.append(Fmag)\n",
    "        list_theta.append(theta)\n",
    "        list_accels.append(a)\n",
    "        list_radius.append(rad)\n",
    "        list_kinEnergy.append(kineticEnergy)\n",
    "        list_totEnergy.append(totalEnergy)\n",
    "\n",
    "\n",
    "    print 'total iterations: '+str(len(list_pos))\n",
    "    print 'time elapsed: '+str(datetime.datetime.now()-t0)\n",
    "    print 'investigate B field'\n",
    "    \n",
    "    return list_pos,list_vels,list_times,list_elecField,list_bField,list_fZ,list_theta,list_accels,list_radius,list_kinEnergy,list_totEnergy"
   ]
  },
  {
   "cell_type": "markdown",
   "metadata": {},
   "source": [
    "# Calculate for Gauss density infinite cylinder case"
   ]
  },
  {
   "cell_type": "code",
   "execution_count": 113,
   "metadata": {
    "collapsed": true
   },
   "outputs": [],
   "source": [
    "def calculate_acceleration_new(v,pos1):\n",
    "\n",
    "        q = -1.6*1e-19 #C\n",
    "        m = 9.31*1e-31\n",
    "        ##### E calculation ####\n",
    "        epsilon0 = 8.85*1e-12\n",
    "        beta = 1.\n",
    "        c = 3*1e8\n",
    "        r0 = 200*1e-6\n",
    "        ####B calculation ####\n",
    "        mu0 = 4*np.pi*1e-7\n",
    "        #rho0 = 1. #for gaussian profile\n",
    "        #total_time_of_simulation = .8e-9\n",
    "        sigma_r = 200.e-6\n",
    "    \n",
    "        #radial_distance = np.sqrt(((pos1)*(pos1)).sum())\n",
    "        radial_distance = np.sqrt((pos1[:2]**2).sum())\n",
    "\n",
    "        exponential_term = np.exp(-1.*radial_distance*radial_distance/(2.*sigma_r*sigma_r))\n",
    "        Eradial = (rho0/epsilon0)*(sigma_r*sigma_r/radial_distance)*(1. - exponential_term)\n",
    "\n",
    "        #Btheta = radius*(mu0/(2*np.pi))\n",
    "        Btheta = Eradial*beta/c\n",
    "\n",
    "        theta = np.arctan2((pos1[1]),(pos1[0])) #in radians\n",
    "        #print 'theta (deg): '+str(theta*np.pi/180)\n",
    "        E = np.array([Eradial*np.cos(theta),Eradial*np.sin(theta),0.]) #Ex,Ey,Ez\n",
    "\n",
    "        #############\n",
    "        #Included signs in electric field\n",
    "        signs_positions = np.sign(pos1)\n",
    "        #############\n",
    "\n",
    "        #B = np.array([Btheta*np.sign(pos1[1]),-1.*Btheta*np.cos(theta),0.])\n",
    "        B = np.array([-1.*np.sin(theta)*Btheta,Btheta*np.cos(theta),0.])\n",
    "\n",
    "        acceleration = q*(E + np.cross(v,B))/m\n",
    "        Fmag= q*np.cross(v,B)/m\n",
    "        #print acceleration.shape\n",
    "        return acceleration,B,E,Fmag,theta,radial_distance"
   ]
  },
  {
   "cell_type": "code",
   "execution_count": 111,
   "metadata": {
    "collapsed": false,
    "scrolled": false
   },
   "outputs": [],
   "source": [
    "def simulate_el_trajec_new(total_time_of_simulation,v,pos,rho0,dt):\n",
    "\n",
    "    total_time = 0.\n",
    "    #dt = 1e-14\n",
    "    #v = np.array([0.,100.,0.])\n",
    "    #B = np.array([0.,0.,5.e-4])\n",
    "    #pos = np.array([0.,50*1e-6,0.])\n",
    "    list_pos=[]\n",
    "    list_vels=[]\n",
    "    list_times=[]\n",
    "    list_elecField=[]\n",
    "    list_bField=[]\n",
    "    list_fZ=[]\n",
    "    list_theta=[]\n",
    "    list_accels=[]\n",
    "    list_radius=[]\n",
    "    list_kinEnergy=[]\n",
    "    list_totEnergy=[]\n",
    "    \n",
    "    q = -1.6*1e-19 #C\n",
    "    m = 9.31*1e-31\n",
    "    ##### E calculation ####\n",
    "    epsilon0 = 8.85*1e-12\n",
    "    beta = 1.\n",
    "    c = 3*1e8\n",
    "    r0 = 200*1e-6\n",
    "    ####B calculation ####\n",
    "    mu0 = 4*np.pi*1e-7\n",
    "    #rho0 = 1. #for gaussian profile\n",
    "    #total_time_of_simulation = .8e-9\n",
    "    sigma_r = 200.e-6\n",
    "    \n",
    "\n",
    "    t0 = datetime.datetime.now()\n",
    "    while total_time<total_time_of_simulation:\n",
    "        #print 'total time :' + str(total_time)\n",
    "        #posNplusHalf = pos + 0.5*dt*v\n",
    "        #print vNplusHalf\n",
    "        #def rk4(x, v, a, dt):\n",
    "        \"\"\"Returns final (position, velocity) tuple after\n",
    "        time dt has passed.\n",
    "        x: initial position (number-like object)\n",
    "        v: initial velocity (number-like object)\n",
    "        a: acceleration function a(x,v,dt) (must be callable)\n",
    "        dt: timestep (number)\"\"\"\n",
    "        x1 = pos\n",
    "        v1 = v\n",
    "        a11,B,E,Fmag,theta,rad = calculate_acceleration_new(v1,x1)\n",
    "        a1 = a11\n",
    "        \n",
    "        x2 = pos + 0.5*v1*dt\n",
    "        v2 = v + 0.5*a1*dt\n",
    "        a22,B,E,Fmag,theta,rad = calculate_acceleration_new(v2,x2)\n",
    "        a2 = a22\n",
    "\n",
    "        x3 = pos + 0.5*v2*dt\n",
    "        v3 = v + 0.5*a2*dt\n",
    "        a33,B,E,Fmag,theta,rad = calculate_acceleration_new(v3,x3)\n",
    "        a3 = a33\n",
    "\n",
    "        x4 = pos + v3*dt\n",
    "        v4 = v + a3*dt\n",
    "        a44,B,E,Fmag,theta,rad = calculate_acceleration_new(v4,x4)\n",
    "        a4 = a44\n",
    "\n",
    "        xf = pos + (dt/6.0)*(v1 + 2*v2 + 2*v3 + v4)\n",
    "        vf = v + (dt/6.0)*(a1 + 2*a2 + 2*a3 + a4)\n",
    "        #return xf, vf\n",
    "        ##################\n",
    "        #a,B,E,Fmag,theta,rad = calculate_acceleration(v,posNplusHalf)\n",
    "        #v = v + dt*a\n",
    "        #pos = posNplusHalf + 0.5*dt*v\n",
    "        gamma_calc = 1./np.sqrt(1 - ((np.sqrt((v[1:]**2).sum())/c)**2))\n",
    "        kineticEnergy = (gamma_calc-1)*(.511)*1e6 #in eV\n",
    "        totalEnergy = (gamma_calc)*(.511)*1e6 #in eV\n",
    "        total_time += dt\n",
    "        #list_pos.append(pos)\n",
    "        list_pos.append(xf)\n",
    "        \n",
    "        #list_vels.append(v)\n",
    "        list_vels.append(vf)\n",
    "        \n",
    "        list_times.append(total_time)\n",
    "        list_elecField.append(E)\n",
    "        list_bField.append(B)\n",
    "        list_fZ.append(Fmag)\n",
    "        list_theta.append(theta)\n",
    "        #list_accels.append(a)\n",
    "        list_radius.append(rad)\n",
    "        list_kinEnergy.append(kineticEnergy)\n",
    "        list_totEnergy.append(totalEnergy)\n",
    "\n",
    "        pos = xf\n",
    "        v = vf\n",
    "\n",
    "    print 'total iterations: '+str(len(list_pos))\n",
    "    print 'time elapsed: '+str(datetime.datetime.now()-t0)\n",
    "    print 'investigate B field'\n",
    "    \n",
    "    return list_pos,list_vels,list_times,list_elecField,list_bField,list_fZ,list_theta,list_accels,list_radius,list_kinEnergy,list_totEnergy\n"
   ]
  },
  {
   "cell_type": "code",
   "execution_count": 120,
   "metadata": {
    "collapsed": false
   },
   "outputs": [
    {
     "name": "stdout",
     "output_type": "stream",
     "text": [
      "total iterations: 10000\n",
      "time elapsed: 0:00:03.248965\n",
      "investigate B field\n"
     ]
    }
   ],
   "source": [
    "total_time_of_simulation=30*1e-9\n",
    "#v = np.array([0.,5.934e6,0.])#1keV\n",
    "v = np.array([0.,1.238e8,0.])#50keV \n",
    "pos=np.array([0.,150*1e-6,0.])\n",
    "rho0=0.64\n",
    "#dt=1.e-12\n",
    "dt= total_time_of_simulation/10000.\n",
    "list_pos,list_vels,list_times,list_elecField,list_bField,list_fZ,list_theta,list_accels,list_radius,list_kinetic,list_total = simulate_el_trajec_new(total_time_of_simulation,v,pos,rho0,dt)\n",
    "######\n",
    "#v1 = np.array([0.,1.874e7,0.])#10keV\n",
    "#pos1=np.array([0.,10*1e-6,0.])\n",
    "#list_posb,list_velsb,list_timesb,list_elecFieldb,list_bFieldb,list_fZb,list_thetab,list_accelsb,list_radiusb,list_kineticb,list_totalb = simulate_el_trajec(total_time_of_simulation,v1,pos1,rho0,dt)\n",
    "##\n",
    "#v2 = np.array([0.,1.238e8,0.])#50keV\n",
    "#pos2=np.array([0.,10*1e-6,0.])\n",
    "#list_posc,list_velsc,list_timesc,list_elecFieldc,list_bFieldc,list_fZc,list_thetac,list_accelsc,list_radiusc,list_kineticc,list_totalc = simulate_el_trajec(total_time_of_simulation,v2,pos2,rho0,dt)\n",
    "##\n",
    "#v3 = np.array([0.,1.645e8,0.])#100keV\n",
    "#pos3=np.array([0.,10*1e-6,0.])\n",
    "#list_posd,list_velsd,list_timesd,list_elecFieldd,list_bFieldd,list_fZd,list_thetad,list_accelsd,list_radiusd,list_kineticd,list_totald = simulate_el_trajec(total_time_of_simulation,v3,pos3,rho0,dt)\n"
   ]
  },
  {
   "cell_type": "code",
   "execution_count": 121,
   "metadata": {
    "collapsed": false
   },
   "outputs": [
    {
     "data": {
      "image/png": "[encoded data removed]",
      "text/plain": [
       "<matplotlib.figure.Figure at 0x1063133d0>"
      ]
     },
     "metadata": {},
     "output_type": "display_data"
    }
   ],
   "source": [
    "plt.figure(1)\n",
    "plt.subplot(311)\n",
    "plt.plot(np.array(list_times)*1e9,np.array(list_pos)[:,0]*1e3)\n",
    "plt.title('pos x (mm)')\n",
    "plt.subplot(312)\n",
    "plt.plot(np.array(list_times)*1e9,np.array(list_pos)[:,1]*1e3)\n",
    "plt.title('pos y(mm)')\n",
    "plt.subplot(313)\n",
    "plt.plot(np.array(list_times)*1e9,np.array(list_pos)[:,2]*1e3)\n",
    "plt.title('pos z(mm)')\n",
    "plt.tight_layout()\n",
    "plt.show()\n",
    "\n"
   ]
  },
  {
   "cell_type": "code",
   "execution_count": 105,
   "metadata": {
    "collapsed": false
   },
   "outputs": [
    {
     "data": {
      "image/png": "[encoded data removed]",
      "text/plain": [
       "<matplotlib.figure.Figure at 0x117b41390>"
      ]
     },
     "metadata": {},
     "output_type": "display_data"
    }
   ],
   "source": [
    "plt.figure(2)\n",
    "plt.plot(np.array(list_times)*1e9,np.array(list_elecField)[:,1])\n",
    "plt.title('elec y (mm)')\n",
    "plt.show()"
   ]
  },
  {
   "cell_type": "code",
   "execution_count": null,
   "metadata": {
    "collapsed": false
   },
   "outputs": [],
   "source": []
  },
  {
   "cell_type": "code",
   "execution_count": 20,
   "metadata": {
    "collapsed": false
   },
   "outputs": [],
   "source": [
    "def calculate_beta_from_energy(kE):\n",
    "    \"\"\"\n",
    "    E: kinectic energy in eV\n",
    "    \"\"\"\n",
    "    gamma = (kE+.511*1e6)/(.511*1e6) #electron rest mass in eV\n",
    "    beta = np.sqrt(1 - (1./(gamma*gamma)))\n",
    "    return gamma,beta, \"%.3e\" % (beta*3.*1e8)"
   ]
  },
  {
   "cell_type": "code",
   "execution_count": null,
   "metadata": {
    "collapsed": false
   },
   "outputs": [],
   "source": [
    "for energy in (10,1e3,1e4,5e4,1e5,1e6,1e7,1e8):\n",
    "    print 'energy (eV): '+str(energy)\n",
    "    print calculate_beta_from_energy(energy)"
   ]
  },
  {
   "cell_type": "markdown",
   "metadata": {
    "collapsed": true
   },
   "source": [
    "# Store positions of electron as arrays"
   ]
  },
  {
   "cell_type": "code",
   "execution_count": 21,
   "metadata": {
    "collapsed": false
   },
   "outputs": [
    {
     "name": "stderr",
     "output_type": "stream",
     "text": [
      "/Users/gabrielfior/anaconda/lib/python2.7/site-packages/matplotlib/figure.py:397: UserWarning: matplotlib is currently using a non-GUI backend, so cannot show the figure\n",
      "  \"matplotlib is currently using a non-GUI backend, \"\n"
     ]
    },
    {
     "data": {
      "image/png": "[encoded data removed]",
      "text/plain": [
       "<matplotlib.figure.Figure at 0x105f45a10>"
      ]
     },
     "metadata": {},
     "output_type": "display_data"
    }
   ],
   "source": [
    "fig = plt.figure(1)\n",
    "plt.grid()\n",
    "limit = 100\n",
    "num_imgs = 50\n",
    "#for i,limit in enumerate(range(1,len(list_pos),len(list_pos)/num_imgs)):\n",
    "y = np.array(list_pos)[:,1]*1e6\n",
    "z = np.array(list_pos)[:,2]*1e6\n",
    "plt.scatter(z[:limit],y[:limit],color='b')\n",
    "#plt.scatter(np.linspace(-10,10,1000),np.zeros(len(np.linspace(-10,10,1000))),color='black')\n",
    "plt.scatter(np.linspace(-100,100,1000),np.ones(len(np.linspace(-10,10,1000)))*-200,color='black')\n",
    "plt.scatter(np.linspace(-100,100,1000),np.ones(len(np.linspace(-10,10,1000)))*200,color='black')\n",
    "plt.xlim([z.min(),0.])\n",
    "plt.ylim([-300.,300.])\n",
    "plt.xlabel('z position (um)')\n",
    "plt.ylabel('radial position (um)')\n",
    "plt.title('Electron propagation')\n",
    "\n",
    "fig.show()\n",
    "#plt.savefig(os.getcwd()+'/images_movie_frog/img%05d.png' % (i))\n",
    "\n",
    "#ax.scatter(x, y, z, c=c)"
   ]
  },
  {
   "cell_type": "code",
   "execution_count": 22,
   "metadata": {
    "collapsed": true
   },
   "outputs": [],
   "source": [
    "def return_xs_ys_zs(list_pos1,limit2,stepper):\n",
    "    \n",
    "    ys = np.array(list_pos1)[:,1]*1e6\n",
    "    zs = np.array(list_pos1)[:,2]*1e6\n",
    "    xs = np.array(list_pos1)[:,0]*1e6\n",
    "\n",
    "    ys = ys[:limit2][::stepper]\n",
    "    zs = zs[:limit2][::stepper]\n",
    "    xs = xs[:limit2][::stepper]\n",
    "\n",
    "    return xs,ys,zs\n",
    "\n",
    "def return_maxy_from_pos(p):\n",
    "    list_max=[]\n",
    "    for i in p:\n",
    "        #get max,min\n",
    "        list_max.append(np.array(i)[:,1].max())\n",
    "    \n",
    "    max1 = max(list_max)\n",
    "    return max1\n",
    "\n",
    "def return_min_max_z_from_pos(p):\n",
    "    list_max=[]\n",
    "    list_min=[]\n",
    "    for i in p:\n",
    "        #get max,min\n",
    "        list_max.append(np.array(i)[:,2].max())\n",
    "        list_min.append(np.array(i)[:,2].min())\n",
    "    max1 = max(list_max)\n",
    "    min1 = min(list_max)\n",
    "    return max1,min1\n",
    "\n",
    "def calculate_energy_from_velocity(v1):\n",
    "    \n",
    "    \"\"\"\n",
    "    E: kinectic energy in eV\n",
    "    \"\"\"\n",
    "    c1=3.e8\n",
    "    gamma = 1./np.sqrt(1 - (v1/c1)**2)\n",
    "    energy1 = (gamma+1.)*(.511)*1e6\n",
    "    \n",
    "\n",
    "    return \"%.3e\" % (energy1)"
   ]
  },
  {
   "cell_type": "code",
   "execution_count": 23,
   "metadata": {
    "collapsed": false
   },
   "outputs": [
    {
     "ename": "NameError",
     "evalue": "name 'list_posc' is not defined",
     "output_type": "error",
     "traceback": [
      "\u001b[0;31m---------------------------------------------------------------------------\u001b[0m",
      "\u001b[0;31mNameError\u001b[0m                                 Traceback (most recent call last)",
      "\u001b[0;32m<ipython-input-23-ce9a05706add>\u001b[0m in \u001b[0;36m<module>\u001b[0;34m()\u001b[0m\n\u001b[1;32m     19\u001b[0m     \u001b[0mpositionsA\u001b[0m \u001b[0;34m=\u001b[0m \u001b[0mreturn_xs_ys_zs\u001b[0m\u001b[0;34m(\u001b[0m\u001b[0mlist_pos\u001b[0m\u001b[0;34m,\u001b[0m\u001b[0mlimit2\u001b[0m\u001b[0;34m,\u001b[0m\u001b[0;36m1000\u001b[0m\u001b[0;34m)\u001b[0m\u001b[0;34m\u001b[0m\u001b[0m\n\u001b[1;32m     20\u001b[0m     \u001b[0mpositionsB\u001b[0m \u001b[0;34m=\u001b[0m \u001b[0mreturn_xs_ys_zs\u001b[0m\u001b[0;34m(\u001b[0m\u001b[0mlist_posb\u001b[0m\u001b[0;34m,\u001b[0m\u001b[0mlimit2\u001b[0m\u001b[0;34m,\u001b[0m\u001b[0;36m1000\u001b[0m\u001b[0;34m)\u001b[0m\u001b[0;34m\u001b[0m\u001b[0m\n\u001b[0;32m---> 21\u001b[0;31m     \u001b[0mpositionsC\u001b[0m \u001b[0;34m=\u001b[0m \u001b[0mreturn_xs_ys_zs\u001b[0m\u001b[0;34m(\u001b[0m\u001b[0mlist_posc\u001b[0m\u001b[0;34m,\u001b[0m\u001b[0mlimit2\u001b[0m\u001b[0;34m,\u001b[0m\u001b[0;36m1000\u001b[0m\u001b[0;34m)\u001b[0m\u001b[0;34m\u001b[0m\u001b[0m\n\u001b[0m\u001b[1;32m     22\u001b[0m     \u001b[0mpositionsD\u001b[0m \u001b[0;34m=\u001b[0m \u001b[0mreturn_xs_ys_zs\u001b[0m\u001b[0;34m(\u001b[0m\u001b[0mlist_posd\u001b[0m\u001b[0;34m,\u001b[0m\u001b[0mlimit2\u001b[0m\u001b[0;34m,\u001b[0m\u001b[0;36m1000\u001b[0m\u001b[0;34m)\u001b[0m\u001b[0;34m\u001b[0m\u001b[0m\n\u001b[1;32m     23\u001b[0m \u001b[0;34m\u001b[0m\u001b[0m\n",
      "\u001b[0;31mNameError\u001b[0m: name 'list_posc' is not defined"
     ]
    },
    {
     "data": {
      "image/png": "[encoded data removed]",
      "text/plain": [
       "<matplotlib.figure.Figure at 0x111107110>"
      ]
     },
     "metadata": {},
     "output_type": "display_data"
    }
   ],
   "source": [
    "fig1 = plt.figure(2)\n",
    "limit2 = 10000\n",
    "num_imgs = 30\n",
    "ax1 = fig1.add_subplot(111, projection='3d',)\n",
    "box = ax1.get_position()\n",
    "#ax1.set_position([box.x0, box.y0 + box.height * 0.1,\n",
    "#                 box.width, box.height * 0.9])\n",
    "plt.title('Electron propagation')\n",
    "for i,limit2 in enumerate(range(1,len(list_pos),len(list_pos)/num_imgs)):\n",
    "\n",
    "    #ys = np.array(list_pos)[:,1]*1e6\n",
    "    #zs = np.array(list_pos)[:,2]*1e6\n",
    "    #xs = np.array(list_pos)[:,0]*1e6\n",
    "\n",
    "    #ys = ys[:limit2][::200]\n",
    "    #zs = zs[:limit2][::200]\n",
    "    #xs = xs[:limit2][::200]\n",
    "\n",
    "    positionsA = return_xs_ys_zs(list_pos,limit2,1000)\n",
    "    positionsB = return_xs_ys_zs(list_posb,limit2,1000)\n",
    "    positionsC = return_xs_ys_zs(list_posc,limit2,1000)\n",
    "    positionsD = return_xs_ys_zs(list_posd,limit2,1000)\n",
    "\n",
    "    ax1.scatter(positionsA[0],positionsA[1],positionsA[2],c='blue',marker='o',label='teste')\n",
    "    ax1.scatter(positionsB[0],positionsB[1],positionsB[2],c='red',marker='o',label='teste')\n",
    "    ax1.scatter(positionsC[0],positionsC[1],positionsC[2],c='green',marker='o',label='teste')\n",
    "    ax1.scatter(positionsD[0],positionsD[1],positionsD[2],c='yellow',marker='o',label='teste')\n",
    "\n",
    "    #ax2 = ax1.twiny()\n",
    "    #ax1.scatter(xsb,ysb,zsb,c='r',marker='o',label='teste1')\n",
    "    #ax2.scatter(xsb,ysb,zsb,c='r',marker='o',label='teste1')\n",
    "\n",
    "    #ax1.scatter(xs, ys, zs, c=c, marker=m)\n",
    "\n",
    "    #ax1.set_xlabel('X Label')\n",
    "    ax1.set_ylabel('R (um)')\n",
    "    ax1.set_zlabel('Z (um)')\n",
    "\n",
    "    #plt.zlim([z.min(),0.])\n",
    "    #plt.ylim([-250.,250.])\n",
    "    #plt.ylim([-1*max((np.array(list_posb)[:,1]*1e6).max(),(np.array(list_pos)[:,1]*1e6).max()),\n",
    "    #         max((np.array(list_posb)[:,1]*1e6).max(),(np.array(list_pos)[:,1]*1e6).max())])\n",
    "\n",
    "    #plt.ylim([-1*return_maxy_from_pos([list_pos,list_posb])*1e6,\n",
    "    #         return_maxy_from_pos([list_pos,list_posb])*1e6])\n",
    "    \n",
    "    plt.ylim([-500.,500.])\n",
    "\n",
    "\n",
    "    #ax1.set_zlim3d([min((np.array(list_pos)[:,2]*1e6).min(),(np.array(list_posb)[:,2]*1e6).min()),\n",
    "    #max((np.array(list_posb)[:,2]*1e6).max(),(np.array(list_pos)[:,2]*1e6).max())])\n",
    "    #ax1.set_zlim3d([return_min_max_z_from_pos([list_pos,list_posb,list_posc])[1]*1e6,\n",
    "    #                return_min_max_z_from_pos([list_pos,list_posb,list_posc])[0]*1e6])\n",
    "    maxz = 2e3\n",
    "    ax1.set_zlim3d([-maxz,maxz])\n",
    "\n",
    "    #turn off axis\n",
    "    ax1.w_xaxis.line.set_lw(0.)\n",
    "    ax1.set_xticks([])\n",
    "\n",
    "    ax1.view_init(30, 0)\n",
    "    plt.xlim([-1.,1.])\n",
    "\n",
    "    # Shrink current axis's height by 10% on the bottom\n",
    "\n",
    "\n",
    "    # Put a legend below current axis\n",
    "    #legend\n",
    "    colors = ['blue','red','green','yellow']\n",
    "    scatter1_proxy = matplotlib.lines.Line2D([0],[0], linestyle=\"none\", c=colors[0], marker = 'o')\n",
    "    scatter2_proxy = matplotlib.lines.Line2D([0],[0], linestyle=\"none\", c=colors[1], marker = 'v')\n",
    "    scatter3_proxy = matplotlib.lines.Line2D([0],[0], linestyle=\"none\", c=colors[2], marker = 'o')\n",
    "    scatter4_proxy = matplotlib.lines.Line2D([0],[0], linestyle=\"none\", c=colors[3], marker = 'v')\n",
    "    #ax1.legend([scatter1_proxy, scatter2_proxy], ['label1', 'label2'], numpoints = 1)\n",
    "    ax1.legend([scatter1_proxy,scatter2_proxy,scatter3_proxy,scatter4_proxy],\n",
    "               [r'$E = 1 keV$',r'$E = 10 keV$',r'$E = 50 keV$',r'$E = 100 keV$'],\n",
    "               numpoints=1,loc='upper right')\n",
    "              #bbox_to_anchor=(0.5,-0.05),fancybox=True,shadow=True,ncol=5)\n",
    "    #[r'$r_0 = 50 \\mu m$'],\n",
    "    #ax1.legend(loc='upper center', bbox_to_anchor=(0.5, -0.05),fancybox=True, shadow=True, ncol=5)\n",
    "\n",
    "    fig1.tight_layout()        \n",
    "    plt.savefig(os.getcwd()+'/images_movie_frog/img%05d.png' % (i),dpi = 80,bbox_inches='tight')\n",
    "    fig1.show()\n"
   ]
  },
  {
   "cell_type": "markdown",
   "metadata": {
    "collapsed": false
   },
   "source": [
    "##### print min((np.array(list_pos)[:,2]*1e6).min(),(np.array(list_pos100_1e7)[:,2]*1e6).min())\n",
    "#print max((np.array(list_pos100_1e7)[:,2]*1e6).max(),(np.array(list_pos)[:,2]*1e6).max())\n",
    "print max((np.array(list_posb)[:,1]*1e6).max(),(np.array(list_pos)[:,1]*1e6).max())"
   ]
  },
  {
   "cell_type": "code",
   "execution_count": 24,
   "metadata": {
    "collapsed": false
   },
   "outputs": [
    {
     "ename": "NameError",
     "evalue": "name 'list_pos100_1e7' is not defined",
     "output_type": "error",
     "traceback": [
      "\u001b[0;31m---------------------------------------------------------------------------\u001b[0m",
      "\u001b[0;31mNameError\u001b[0m                                 Traceback (most recent call last)",
      "\u001b[0;32m<ipython-input-24-093a1703fb09>\u001b[0m in \u001b[0;36m<module>\u001b[0;34m()\u001b[0m\n\u001b[0;32m----> 1\u001b[0;31m \u001b[0mplt\u001b[0m\u001b[0;34m.\u001b[0m\u001b[0mplot\u001b[0m\u001b[0;34m(\u001b[0m\u001b[0mnp\u001b[0m\u001b[0;34m.\u001b[0m\u001b[0marray\u001b[0m\u001b[0;34m(\u001b[0m\u001b[0mlist_pos100_1e7\u001b[0m\u001b[0;34m)\u001b[0m\u001b[0;34m[\u001b[0m\u001b[0;34m:\u001b[0m\u001b[0;34m,\u001b[0m\u001b[0;36m2\u001b[0m\u001b[0;34m]\u001b[0m\u001b[0;34m*\u001b[0m\u001b[0;36m1e6\u001b[0m\u001b[0;34m)\u001b[0m\u001b[0;34m\u001b[0m\u001b[0m\n\u001b[0m\u001b[1;32m      2\u001b[0m \u001b[0mplt\u001b[0m\u001b[0;34m.\u001b[0m\u001b[0mplot\u001b[0m\u001b[0;34m(\u001b[0m\u001b[0mnp\u001b[0m\u001b[0;34m.\u001b[0m\u001b[0marray\u001b[0m\u001b[0;34m(\u001b[0m\u001b[0mlist_pos100_1e7\u001b[0m\u001b[0;34m)\u001b[0m\u001b[0;34m[\u001b[0m\u001b[0;34m:\u001b[0m\u001b[0;34m,\u001b[0m\u001b[0;36m1\u001b[0m\u001b[0;34m]\u001b[0m\u001b[0;34m*\u001b[0m\u001b[0;36m1e6\u001b[0m\u001b[0;34m)\u001b[0m\u001b[0;34m\u001b[0m\u001b[0m\n\u001b[1;32m      3\u001b[0m \u001b[0mplt\u001b[0m\u001b[0;34m.\u001b[0m\u001b[0mshow\u001b[0m\u001b[0;34m(\u001b[0m\u001b[0;34m)\u001b[0m\u001b[0;34m\u001b[0m\u001b[0m\n",
      "\u001b[0;31mNameError\u001b[0m: name 'list_pos100_1e7' is not defined"
     ]
    }
   ],
   "source": [
    "plt.plot(np.array(list_pos100_1e7)[:,2]*1e6)\n",
    "plt.plot(np.array(list_pos100_1e7)[:,1]*1e6)\n",
    "plt.show()"
   ]
  },
  {
   "cell_type": "code",
   "execution_count": null,
   "metadata": {
    "collapsed": false
   },
   "outputs": [],
   "source": [
    "plt.plot(np.array(list_pos)[:,2]*1e6)\n",
    "plt.plot(np.array(list_pos)[:,1]*1e6)\n",
    "plt.show()"
   ]
  },
  {
   "cell_type": "code",
   "execution_count": null,
   "metadata": {
    "collapsed": false
   },
   "outputs": [],
   "source": [
    "plt.plot(np.array(list_times)*1e9,np.array(list_fZ)[:,2],'r',label='f50')\n",
    "plt.plot(np.array(list_times)*1e9,np.array(list_fZ100_1e7)[:,2],'black',label='f100')\n",
    "plt.plot(np.array(list_times)*1e9,np.array(list_vels)[:,2]*1e11,'b',label='v50')\n",
    "plt.plot(np.array(list_times)*1e9,np.array(list_vels100_1e7)[:,2]*1e11,'g',label='v100')\n",
    "plt.xlim([0.,0.2])\n",
    "plt.legend()\n",
    "plt.grid()\n",
    "plt.show()"
   ]
  },
  {
   "cell_type": "code",
   "execution_count": null,
   "metadata": {
    "collapsed": false
   },
   "outputs": [],
   "source": [
    "plt.plot(np.array(list_times)*1e9,np.array(list_pos)[:,1]*1e6,'g',label='z50')\n",
    "plt.plot(np.array(list_times100_1e7)*1e9,np.array(list_pos100_1e7)[:,1]*1e6,'black',label='z100')\n",
    "plt.show()"
   ]
  },
  {
   "cell_type": "code",
   "execution_count": null,
   "metadata": {
    "collapsed": false
   },
   "outputs": [],
   "source": [
    "calculate_energy_from_velocity(np.sqrt((list_velsb[0][2]**2).sum()))"
   ]
  },
  {
   "cell_type": "code",
   "execution_count": null,
   "metadata": {
    "collapsed": false
   },
   "outputs": [],
   "source": [
    "\"\"\"\n",
    "def calculate_beta_from_energy(kE):\n",
    "    \n",
    "    E: kinectic energy in eV\n",
    "    \n",
    "    gamma = (kE+.511*1e6)/(.511*1e6) #electron rest mass in eV\n",
    "    beta = np.sqrt(1 - (1./(gamma*gamma)))\n",
    "    return gamma,beta, \"%.3e\" % (beta*3.*1e8)\n",
    "\"\"\"    "
   ]
  },
  {
   "cell_type": "code",
   "execution_count": null,
   "metadata": {
    "collapsed": false
   },
   "outputs": [],
   "source": [
    "print calculate_beta_from_energy(10)#10eV\n",
    "print calculate_beta_from_energy(100)#1keV\n",
    "print calculate_beta_from_energy(1e4)#10keV\n",
    "print calculate_beta_from_energy(1e5)#100kEv"
   ]
  },
  {
   "cell_type": "code",
   "execution_count": null,
   "metadata": {
    "collapsed": false
   },
   "outputs": [],
   "source": []
  },
  {
   "cell_type": "code",
   "execution_count": null,
   "metadata": {
    "collapsed": false
   },
   "outputs": [],
   "source": [
    "print 'kinectic energy conserved? total energy conserved?'\n",
    "plt.plot(np.array(list_times)*1e9,np.array(list_kinetic)/1e6,label='kinectic',color='green')\n",
    "plt.plot(np.array(list_times)*1e9,np.array(list_total)/1e6,label='total',color='red')\n",
    "plt.ylabel('E (keV)')\n",
    "plt.xlabel('time (ns)')\n",
    "plt.legend()\n",
    "plt.show()"
   ]
  },
  {
   "cell_type": "code",
   "execution_count": null,
   "metadata": {
    "collapsed": false
   },
   "outputs": [],
   "source": [
    "fig1 = plt.figure(2)\n",
    "limit2 = 10000\n",
    "num_imgs = 30\n",
    "ax1 = fig1.add_subplot(111, projection='3d',)\n",
    "box = ax1.get_position()\n",
    "#ax1.set_position([box.x0, box.y0 + box.height * 0.1,\n",
    "#                 box.width, box.height * 0.9])\n",
    "plt.title('Electron propagation')\n",
    "for i,limit2 in enumerate(range(1,len(list_pos),len(list_pos)/num_imgs)):\n",
    "\n",
    "    #ys = np.array(list_pos)[:,1]*1e6\n",
    "    #zs = np.array(list_pos)[:,2]*1e6\n",
    "    #xs = np.array(list_pos)[:,0]*1e6\n",
    "\n",
    "    #ys = ys[:limit2][::200]\n",
    "    #zs = zs[:limit2][::200]\n",
    "    #xs = xs[:limit2][::200]\n",
    "\n",
    "    positionsA = return_xs_ys_zs(list_pos,limit2,200)\n",
    "    positionsB = return_xs_ys_zs(list_posb,limit2,200)\n",
    "    positionsC = return_xs_ys_zs(list_posc,limit2,200)\n",
    "    positionsD = return_xs_ys_zs(list_posd,limit2,200)\n",
    "\n",
    "    ax1.scatter(positionsA[0],positionsA[1],positionsA[2],c='blue',marker='o',label='teste')\n",
    "    ax1.scatter(positionsB[0],positionsB[1],positionsB[2],c='red',marker='o',label='teste')\n",
    "    ax1.scatter(positionsC[0],positionsC[1],positionsC[2],c='green',marker='o',label='teste')\n",
    "    ax1.scatter(positionsD[0],positionsD[1],positionsD[2],c='yellow',marker='o',label='teste')\n",
    "\n",
    "    #ax2 = ax1.twiny()\n",
    "    #ax1.scatter(xsb,ysb,zsb,c='r',marker='o',label='teste1')\n",
    "    #ax2.scatter(xsb,ysb,zsb,c='r',marker='o',label='teste1')\n",
    "\n",
    "    #ax1.scatter(xs, ys, zs, c=c, marker=m)\n",
    "\n",
    "    #ax1.set_xlabel('X Label')\n",
    "    ax1.set_ylabel('R (um)')\n",
    "    ax1.set_zlabel('Z (um)')\n",
    "\n",
    "    #plt.zlim([z.min(),0.])\n",
    "    #plt.ylim([-250.,250.])\n",
    "    #plt.ylim([-1*max((np.array(list_posb)[:,1]*1e6).max(),(np.array(list_pos)[:,1]*1e6).max()),\n",
    "    #         max((np.array(list_posb)[:,1]*1e6).max(),(np.array(list_pos)[:,1]*1e6).max())])\n",
    "\n",
    "    plt.ylim([-1*return_maxy_from_pos([list_pos,list_posb,list_posc])*1e6,\n",
    "             return_maxy_from_pos([list_pos,list_posb,list_posc])*1e6])\n",
    "\n",
    "\n",
    "\n",
    "    #ax1.set_zlim3d([min((np.array(list_pos)[:,2]*1e6).min(),(np.array(list_posb)[:,2]*1e6).min()),\n",
    "    #max((np.array(list_posb)[:,2]*1e6).max(),(np.array(list_pos)[:,2]*1e6).max())])\n",
    "    ax1.set_zlim3d([return_min_max_z_from_pos([list_pos,list_posb,list_posc])[1]*1e6,\n",
    "                    return_min_max_z_from_pos([list_pos,list_posb,list_posc])[0]*1e6])\n",
    "\n",
    "    #turn off axis\n",
    "    ax1.w_xaxis.line.set_lw(0.)\n",
    "    ax1.set_xticks([])\n",
    "\n",
    "    ax1.view_init(30, 0)\n",
    "    plt.xlim([-1.,1.])\n",
    "\n",
    "    # Shrink current axis's height by 10% on the bottom\n",
    "\n",
    "\n",
    "    # Put a legend below current axis\n",
    "    #legend\n",
    "    colors = ['blue','red','green','yellow']\n",
    "    scatter1_proxy = matplotlib.lines.Line2D([0],[0], linestyle=\"none\", c=colors[0], marker = 'o')\n",
    "    scatter2_proxy = matplotlib.lines.Line2D([0],[0], linestyle=\"none\", c=colors[1], marker = 'v')\n",
    "    scatter3_proxy = matplotlib.lines.Line2D([0],[0], linestyle=\"none\", c=colors[2], marker = 'o')\n",
    "    scatter4_proxy = matplotlib.lines.Line2D([0],[0], linestyle=\"none\", c=colors[3], marker = 'v')\n",
    "    #ax1.legend([scatter1_proxy, scatter2_proxy], ['label1', 'label2'], numpoints = 1)\n",
    "    ax1.legend([scatter1_proxy,scatter2_proxy,scatter3_proxy,scatter4_proxy],\n",
    "               [r'$E = 10 eV$',r'$E = 1 keV$',r'$E = 10 keV$',r'$E = 100 keV$'],\n",
    "               numpoints=1,loc='upper right')\n",
    "              #bbox_to_anchor=(0.5,-0.05),fancybox=True,shadow=True,ncol=5)\n",
    "    #[r'$r_0 = 50 \\mu m$'],\n",
    "    #ax1.legend(loc='upper center', bbox_to_anchor=(0.5, -0.05),fancybox=True, shadow=True, ncol=5)\n",
    "\n",
    "    fig1.tight_layout()        \n",
    "    plt.savefig(os.getcwd()+'/images_movie_frog/img%05d.png' % (i),dpi = 80,bbox_inches='tight')\n",
    "    fig1.show()\n"
   ]
  },
  {
   "cell_type": "code",
   "execution_count": null,
   "metadata": {
    "collapsed": false
   },
   "outputs": [],
   "source": [
    "fig = plt.figure(4)\n",
    "ax1 = plt.subplot(211)\n",
    "plt.title('Electron trajectory - 1 keV')\n",
    "plt.plot(np.array(list_times)*1e9,np.array(list_pos)[:,1]*1e6,'g',label='r')\n",
    "plt.plot(np.array(list_times)*1e9,np.array(list_pos)[:,2]*1e6,'b',label='z')\n",
    "plt.ylabel(r'$\\mu m$')\n",
    "plt.xlabel('time (ns)')\n",
    "plt.legend()\n",
    "##\n",
    "ax2 = plt.subplot(212)\n",
    "plt.plot(np.array(list_times)*1e9,np.array(list_kinetic),'r',label='kinetic energy')\n",
    "#plt.scatter(np.array(list_times)[::1000]*1e9,np.array(list_kinetic)[::1000],color='r')\n",
    "\n",
    "plt.legend()\n",
    "plt.tight_layout()\n",
    "plt.show()"
   ]
  },
  {
   "cell_type": "code",
   "execution_count": 98,
   "metadata": {
    "collapsed": false
   },
   "outputs": [
    {
     "data": {
      "text/plain": [
       "5.0"
      ]
     },
     "execution_count": 98,
     "metadata": {},
     "output_type": "execute_result"
    }
   ],
   "source": [
    "np.sqrt((pos1[:2]**2).sum())"
   ]
  },
  {
   "cell_type": "code",
   "execution_count": 97,
   "metadata": {
    "collapsed": false
   },
   "outputs": [],
   "source": [
    "pos1=np.array([3.,4.,0.])"
   ]
  },
  {
   "cell_type": "code",
   "execution_count": null,
   "metadata": {
    "collapsed": true
   },
   "outputs": [],
   "source": []
  }
 ],
 "metadata": {
  "kernelspec": {
   "display_name": "Python 2",
   "language": "python",
   "name": "python2"
  },
  "language_info": {
   "codemirror_mode": {
    "name": "ipython",
    "version": 2
   },
   "file_extension": ".py",
   "mimetype": "text/x-python",
   "name": "python",
   "nbconvert_exporter": "python",
   "pygments_lexer": "ipython2",
   "version": "2.7.12"
  }
 },
 "nbformat": 4,
 "nbformat_minor": 0
}
