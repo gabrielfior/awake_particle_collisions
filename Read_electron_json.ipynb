{
 "cells": [
  {
   "cell_type": "code",
   "execution_count": 1,
   "metadata": {
    "collapsed": false
   },
   "outputs": [
    {
     "name": "stderr",
     "output_type": "stream",
     "text": [
      "[WARNING] graphlab.product_key: Unable to write current GraphLab Create license to /Users/gabrielfior/.graphlab/config. Ensure that this user account                         has write permission to /Users/gabrielfior/.graphlab/config to save the license for offline use.\n"
     ]
    },
    {
     "name": "stdout",
     "output_type": "stream",
     "text": [
      "This non-commercial license of GraphLab Create for academic use is assigned to ga46mal@mytum.de and will expire on July 08, 2017.\n"
     ]
    },
    {
     "name": "stderr",
     "output_type": "stream",
     "text": [
      "[INFO] graphlab.cython.cy_server: GraphLab Create v2.1 started. Logging: /tmp/graphlab_server_1485769679.log\n",
      "[WARNING] graphlab.deploy._session: Unable to create session in specified location: '/Users/gabrielfior/.graphlab/artifacts'. Using: '/var/tmp/graphlab-gabrielfior/2214/tmp_session_1b2c6940-6e99-40a1-b389-49b61bf778fa'\n",
      "/Users/gabrielfior/anaconda/lib/python2.7/site-packages/matplotlib/font_manager.py:273: UserWarning: Matplotlib is building the font cache using fc-list. This may take a moment.\n",
      "  warnings.warn('Matplotlib is building the font cache using fc-list. This may take a moment.')\n"
     ]
    }
   ],
   "source": [
    "import graphlab\n",
    "import numpy as np\n",
    "import matplotlib.pyplot as plt\n",
    "import pandas as pd\n",
    "from math import pow\n",
    "%matplotlib inline\n",
    "import json\n",
    "import datetime\n"
   ]
  },
  {
   "cell_type": "code",
   "execution_count": 2,
   "metadata": {
    "collapsed": true
   },
   "outputs": [],
   "source": [
    "loading=True #Set True to load full csv file\n",
    "ev = '990'\n",
    "full_csv_path = '/Volumes/UNTITLED/Geant4_data/B4_nt_'+(ev)+'ev_1um_processed.csv'\n",
    "name_export = 'electrons_rangecut_'+ev+'ev.json'\n",
    "columns = ['step_number','energy_deposit','r','perp','particleName','trackId','parentId',\n",
    "          'kinecticEnergyDiff','stepLength','posX','posY','posZ','volumeName','processName',\n",
    "          'preKinecticEnergy','postKineticEnergy','endstep','count_particle']\n",
    "\n"
   ]
  },
  {
   "cell_type": "code",
   "execution_count": 3,
   "metadata": {
    "collapsed": false
   },
   "outputs": [],
   "source": [
    "#read json\n",
    "name_export = ['electrons_rangecut_1ev.json','electrons_rangecut_10ev.json',\n",
    "              'electrons_rangecut_100ev.json','electrons_rangecut_500ev.json',\n",
    "              'electrons_rangecut_990ev.json']\n",
    "name_export_protons = ['protons_rangecut_1ev.json','protons_rangecut_10ev.json',\n",
    "              'protons_rangecut_100ev.json','protons_rangecut_500ev.json',\n",
    "              'protons_rangecut_990ev.json']\n",
    "name_export = ['electrons_rangecut_1ev.json']\n",
    "#name_export_protons = ['protons_rangecut_1ev.json']\n",
    "data=[]\n",
    "for i in name_export:\n",
    "    file_dir_el = '/Volumes/UNTITLED/Geant4_data/electron_files/'\n",
    "    file_dir_el = '/Users/gabrielfior/OneDrive/Master Thesis/Share_Ubuntu/'        \n",
    "    with open(file_dir_el+i) as data_file:    \n",
    "        data.append(json.load(data_file))\n",
    "\n",
    "data_proton=[]\n",
    "for i in name_export_protons:\n",
    "    file_dir_prot = '/Users/gabrielfior/OneDrive/Master Thesis/Share_Ubuntu/'        \n",
    "    with open(file_dir_prot+i) as data_file:    \n",
    "        data_proton.append(json.load(data_file))\n",
    "        \n",
    "#Read origin file\n",
    "with open(file_dir_prot+'protons_rangecut_1ev_origin.json') as data_file:    \n",
    "    data_origin = (json.load(data_file))\n"
   ]
  },
  {
   "cell_type": "code",
   "execution_count": 4,
   "metadata": {
    "collapsed": false
   },
   "outputs": [
    {
     "name": "stdout",
     "output_type": "stream",
     "text": [
      "1 5\n"
     ]
    }
   ],
   "source": [
    "print len(data), len(data_proton)"
   ]
  },
  {
   "cell_type": "code",
   "execution_count": 9,
   "metadata": {
    "collapsed": false
   },
   "outputs": [],
   "source": [
    "a1 = pd.DataFrame(data[0])\n",
    "#a10 = pd.DataFrame(data[1])\n",
    "#a100 = pd.DataFrame(data[2])\n",
    "#a500 = pd.DataFrame(data[3])\n",
    "#a990 = pd.DataFrame(data[4])\n",
    "\n",
    "pa1 = pd.DataFrame(data_proton[0])\n",
    "pa10 = pd.DataFrame(data_proton[1])\n",
    "pa100 = pd.DataFrame(data_proton[2])\n",
    "pa500 = pd.DataFrame(data_proton[3])\n",
    "pa990 = pd.DataFrame(data_proton[4])\n"
   ]
  },
  {
   "cell_type": "code",
   "execution_count": 6,
   "metadata": {
    "collapsed": false
   },
   "outputs": [
    {
     "data": {
      "text/plain": [
       "1.2584699999841376"
      ]
     },
     "execution_count": 6,
     "metadata": {},
     "output_type": "execute_result"
    }
   ],
   "source": [
    "pa1.energy_deposit.mean()"
   ]
  },
  {
   "cell_type": "code",
   "execution_count": 10,
   "metadata": {
    "collapsed": false
   },
   "outputs": [
    {
     "data": {
      "image/png": "[encoded data removed]",
      "text/plain": [
       "<matplotlib.figure.Figure at 0x16ede9310>"
      ]
     },
     "metadata": {},
     "output_type": "display_data"
    }
   ],
   "source": [
    "plt.subplot(211)\n",
    "plt.tight_layout(pad=0.4, w_pad=0.5, h_pad=2.0)\n",
    "plt.title('Minimum kinectic energy')\n",
    "\n",
    "#plt.scatter([1,10,100,500,990],[a1.preKinecticEnergy.min(),a10.preKinecticEnergy.min(),\n",
    "#                             a100.preKinecticEnergy.min(),a500.preKinecticEnergy.min(),\n",
    "#                             a990.preKinecticEnergy.min()],label='raw data')\n",
    "#plt.plot([1,10,100,500,990],[a1.preKinecticEnergy.min(),a10.preKinecticEnergy.min(),\n",
    "#                             a100.preKinecticEnergy.min(),a500.preKinecticEnergy.min(),\n",
    "#                             a990.preKinecticEnergy.min()])\n",
    "#plt.plot([1,10,100,500,990],[1,10,100,500,990],'r',label='x+y=0')\n",
    "\n",
    "plt.subplot(212)\n",
    "plt.scatter([1,10,100,500,990],[pa1.energy_deposit.mean(),pa10.energy_deposit.mean(),\n",
    "                             pa100.energy_deposit.mean(),pa500.energy_deposit.mean(),\n",
    "                             pa990.energy_deposit.mean()],label='raw data')\n",
    "plt.xlabel('Minimum energy range')\n",
    "plt.title('Mean energy deposited per proton')\n",
    "plt.ylabel('eV')\n",
    "plt.legend(bbox_to_anchor=(1.05, 1), loc=2, borderaxespad=0.)\n",
    "plt.show()"
   ]
  },
  {
   "cell_type": "code",
   "execution_count": 11,
   "metadata": {
    "collapsed": false
   },
   "outputs": [
    {
     "name": "stdout",
     "output_type": "stream",
     "text": [
      "Minimum kinectic energy\n",
      "994.633\n",
      "Mean energy deposited per proton\n",
      "1.25846999998\n"
     ]
    }
   ],
   "source": [
    "print 'Minimum kinectic energy'\n",
    "\n",
    "print a1.preKinecticEnergy.min()\n",
    "\n",
    "print 'Mean energy deposited per proton'\n",
    "print pa1.energy_deposit.mean()"
   ]
  },
  {
   "cell_type": "code",
   "execution_count": 12,
   "metadata": {
    "collapsed": false
   },
   "outputs": [],
   "source": [
    "#Sum energy deposited for all cases (protons+electrons)\n",
    "#el_energy = [a1,a10,a100,a500,a990]\n",
    "el_energy = [a1]\n",
    "#p_energy = [pa1,pa10,pa100,pa500,pa990]\n",
    "p_energy = [pa1]\n",
    "list_scaping_el=[]\n",
    "list_scaping_p=[]\n",
    "list_kinectic_ediff=[]\n",
    "endep=[]\n",
    "for i in range(len(el_energy)):\n",
    "    endep.append([el_energy[i].energy_deposit.sum(),p_energy[i].energy_deposit.sum(),\n",
    "                 el_energy[i].energy_deposit.sum() + p_energy[i].energy_deposit.sum()])\n",
    "    idx_el = el_energy[i].groupby(['count_particle'])['step_number'].transform(max)==el_energy[i]['step_number']\n",
    "\n",
    "\n",
    "    list_scaping_el.append(el_energy[i][idx_el].postKineticEnergy.sum())\n",
    "    list_kinectic_ediff.append(p_energy[i].kinecticEnergyDiff.sum())"
   ]
  },
  {
   "cell_type": "code",
   "execution_count": 13,
   "metadata": {
    "collapsed": false
   },
   "outputs": [
    {
     "ename": "ValueError",
     "evalue": "x and y must be the same size",
     "output_type": "error",
     "traceback": [
      "\u001b[0;31m---------------------------------------------------------------------------\u001b[0m",
      "\u001b[0;31mValueError\u001b[0m                                Traceback (most recent call last)",
      "\u001b[0;32m<ipython-input-13-c4f001dab2a7>\u001b[0m in \u001b[0;36m<module>\u001b[0;34m()\u001b[0m\n\u001b[1;32m      1\u001b[0m \u001b[0mplt\u001b[0m\u001b[0;34m.\u001b[0m\u001b[0msubplot\u001b[0m\u001b[0;34m(\u001b[0m\u001b[0;36m121\u001b[0m\u001b[0;34m)\u001b[0m\u001b[0;34m\u001b[0m\u001b[0m\n\u001b[1;32m      2\u001b[0m \u001b[0mplt\u001b[0m\u001b[0;34m.\u001b[0m\u001b[0mtight_layout\u001b[0m\u001b[0;34m(\u001b[0m\u001b[0mpad\u001b[0m\u001b[0;34m=\u001b[0m\u001b[0;36m0.4\u001b[0m\u001b[0;34m,\u001b[0m \u001b[0mw_pad\u001b[0m\u001b[0;34m=\u001b[0m\u001b[0;36m11.0\u001b[0m\u001b[0;34m,\u001b[0m \u001b[0mh_pad\u001b[0m\u001b[0;34m=\u001b[0m\u001b[0;36m1.0\u001b[0m\u001b[0;34m)\u001b[0m\u001b[0;34m\u001b[0m\u001b[0m\n\u001b[0;32m----> 3\u001b[0;31m \u001b[0mplt\u001b[0m\u001b[0;34m.\u001b[0m\u001b[0mscatter\u001b[0m\u001b[0;34m(\u001b[0m\u001b[0;34m[\u001b[0m\u001b[0;36m1\u001b[0m\u001b[0;34m,\u001b[0m\u001b[0;36m10\u001b[0m\u001b[0;34m,\u001b[0m\u001b[0;36m100\u001b[0m\u001b[0;34m,\u001b[0m\u001b[0;36m500\u001b[0m\u001b[0;34m,\u001b[0m\u001b[0;36m990\u001b[0m\u001b[0;34m]\u001b[0m\u001b[0;34m,\u001b[0m\u001b[0mnp\u001b[0m\u001b[0;34m.\u001b[0m\u001b[0marray\u001b[0m\u001b[0;34m(\u001b[0m\u001b[0mendep\u001b[0m\u001b[0;34m)\u001b[0m\u001b[0;34m[\u001b[0m\u001b[0;34m:\u001b[0m\u001b[0;34m,\u001b[0m\u001b[0;36m0\u001b[0m\u001b[0;34m]\u001b[0m\u001b[0;34m,\u001b[0m\u001b[0mlabel\u001b[0m\u001b[0;34m=\u001b[0m\u001b[0;34m'e'\u001b[0m\u001b[0;34m,\u001b[0m\u001b[0mc\u001b[0m\u001b[0;34m=\u001b[0m\u001b[0;34m'r'\u001b[0m\u001b[0;34m)\u001b[0m\u001b[0;34m\u001b[0m\u001b[0m\n\u001b[0m\u001b[1;32m      4\u001b[0m \u001b[0mplt\u001b[0m\u001b[0;34m.\u001b[0m\u001b[0mlegend\u001b[0m\u001b[0;34m(\u001b[0m\u001b[0mbbox_to_anchor\u001b[0m\u001b[0;34m=\u001b[0m\u001b[0;34m(\u001b[0m\u001b[0;36m1.05\u001b[0m\u001b[0;34m,\u001b[0m \u001b[0;36m1\u001b[0m\u001b[0;34m)\u001b[0m\u001b[0;34m,\u001b[0m \u001b[0mloc\u001b[0m\u001b[0;34m=\u001b[0m\u001b[0;36m2\u001b[0m\u001b[0;34m,\u001b[0m \u001b[0mborderaxespad\u001b[0m\u001b[0;34m=\u001b[0m\u001b[0;36m0.\u001b[0m\u001b[0;34m)\u001b[0m\u001b[0;34m\u001b[0m\u001b[0m\n\u001b[1;32m      5\u001b[0m \u001b[0mplt\u001b[0m\u001b[0;34m.\u001b[0m\u001b[0mxlim\u001b[0m\u001b[0;34m(\u001b[0m\u001b[0;34m[\u001b[0m\u001b[0;34m-\u001b[0m\u001b[0;36m0.1\u001b[0m\u001b[0;34m,\u001b[0m\u001b[0;36m1100\u001b[0m\u001b[0;34m]\u001b[0m\u001b[0;34m)\u001b[0m\u001b[0;34m\u001b[0m\u001b[0m\n",
      "\u001b[0;32m/Users/gabrielfior/anaconda/lib/python2.7/site-packages/matplotlib/pyplot.pyc\u001b[0m in \u001b[0;36mscatter\u001b[0;34m(x, y, s, c, marker, cmap, norm, vmin, vmax, alpha, linewidths, verts, edgecolors, hold, data, **kwargs)\u001b[0m\n\u001b[1;32m   3249\u001b[0m                          \u001b[0mvmin\u001b[0m\u001b[0;34m=\u001b[0m\u001b[0mvmin\u001b[0m\u001b[0;34m,\u001b[0m \u001b[0mvmax\u001b[0m\u001b[0;34m=\u001b[0m\u001b[0mvmax\u001b[0m\u001b[0;34m,\u001b[0m \u001b[0malpha\u001b[0m\u001b[0;34m=\u001b[0m\u001b[0malpha\u001b[0m\u001b[0;34m,\u001b[0m\u001b[0;34m\u001b[0m\u001b[0m\n\u001b[1;32m   3250\u001b[0m                          \u001b[0mlinewidths\u001b[0m\u001b[0;34m=\u001b[0m\u001b[0mlinewidths\u001b[0m\u001b[0;34m,\u001b[0m \u001b[0mverts\u001b[0m\u001b[0;34m=\u001b[0m\u001b[0mverts\u001b[0m\u001b[0;34m,\u001b[0m\u001b[0;34m\u001b[0m\u001b[0m\n\u001b[0;32m-> 3251\u001b[0;31m                          edgecolors=edgecolors, data=data, **kwargs)\n\u001b[0m\u001b[1;32m   3252\u001b[0m     \u001b[0;32mfinally\u001b[0m\u001b[0;34m:\u001b[0m\u001b[0;34m\u001b[0m\u001b[0m\n\u001b[1;32m   3253\u001b[0m         \u001b[0max\u001b[0m\u001b[0;34m.\u001b[0m\u001b[0mhold\u001b[0m\u001b[0;34m(\u001b[0m\u001b[0mwashold\u001b[0m\u001b[0;34m)\u001b[0m\u001b[0;34m\u001b[0m\u001b[0m\n",
      "\u001b[0;32m/Users/gabrielfior/anaconda/lib/python2.7/site-packages/matplotlib/__init__.pyc\u001b[0m in \u001b[0;36minner\u001b[0;34m(ax, *args, **kwargs)\u001b[0m\n\u001b[1;32m   1810\u001b[0m                     warnings.warn(msg % (label_namer, func.__name__),\n\u001b[1;32m   1811\u001b[0m                                   RuntimeWarning, stacklevel=2)\n\u001b[0;32m-> 1812\u001b[0;31m             \u001b[0;32mreturn\u001b[0m \u001b[0mfunc\u001b[0m\u001b[0;34m(\u001b[0m\u001b[0max\u001b[0m\u001b[0;34m,\u001b[0m \u001b[0;34m*\u001b[0m\u001b[0margs\u001b[0m\u001b[0;34m,\u001b[0m \u001b[0;34m**\u001b[0m\u001b[0mkwargs\u001b[0m\u001b[0;34m)\u001b[0m\u001b[0;34m\u001b[0m\u001b[0m\n\u001b[0m\u001b[1;32m   1813\u001b[0m         \u001b[0mpre_doc\u001b[0m \u001b[0;34m=\u001b[0m \u001b[0minner\u001b[0m\u001b[0;34m.\u001b[0m\u001b[0m__doc__\u001b[0m\u001b[0;34m\u001b[0m\u001b[0m\n\u001b[1;32m   1814\u001b[0m         \u001b[0;32mif\u001b[0m \u001b[0mpre_doc\u001b[0m \u001b[0;32mis\u001b[0m \u001b[0mNone\u001b[0m\u001b[0;34m:\u001b[0m\u001b[0;34m\u001b[0m\u001b[0m\n",
      "\u001b[0;32m/Users/gabrielfior/anaconda/lib/python2.7/site-packages/matplotlib/axes/_axes.pyc\u001b[0m in \u001b[0;36mscatter\u001b[0;34m(self, x, y, s, c, marker, cmap, norm, vmin, vmax, alpha, linewidths, verts, edgecolors, **kwargs)\u001b[0m\n\u001b[1;32m   3838\u001b[0m         \u001b[0my\u001b[0m \u001b[0;34m=\u001b[0m \u001b[0mnp\u001b[0m\u001b[0;34m.\u001b[0m\u001b[0mma\u001b[0m\u001b[0;34m.\u001b[0m\u001b[0mravel\u001b[0m\u001b[0;34m(\u001b[0m\u001b[0my\u001b[0m\u001b[0;34m)\u001b[0m\u001b[0;34m\u001b[0m\u001b[0m\n\u001b[1;32m   3839\u001b[0m         \u001b[0;32mif\u001b[0m \u001b[0mx\u001b[0m\u001b[0;34m.\u001b[0m\u001b[0msize\u001b[0m \u001b[0;34m!=\u001b[0m \u001b[0my\u001b[0m\u001b[0;34m.\u001b[0m\u001b[0msize\u001b[0m\u001b[0;34m:\u001b[0m\u001b[0;34m\u001b[0m\u001b[0m\n\u001b[0;32m-> 3840\u001b[0;31m             \u001b[0;32mraise\u001b[0m \u001b[0mValueError\u001b[0m\u001b[0;34m(\u001b[0m\u001b[0;34m\"x and y must be the same size\"\u001b[0m\u001b[0;34m)\u001b[0m\u001b[0;34m\u001b[0m\u001b[0m\n\u001b[0m\u001b[1;32m   3841\u001b[0m \u001b[0;34m\u001b[0m\u001b[0m\n\u001b[1;32m   3842\u001b[0m         \u001b[0ms\u001b[0m \u001b[0;34m=\u001b[0m \u001b[0mnp\u001b[0m\u001b[0;34m.\u001b[0m\u001b[0mma\u001b[0m\u001b[0;34m.\u001b[0m\u001b[0mravel\u001b[0m\u001b[0;34m(\u001b[0m\u001b[0ms\u001b[0m\u001b[0;34m)\u001b[0m  \u001b[0;31m# This doesn't have to match x, y in size.\u001b[0m\u001b[0;34m\u001b[0m\u001b[0m\n",
      "\u001b[0;31mValueError\u001b[0m: x and y must be the same size"
     ]
    },
    {
     "data": {
      "image/png": "[encoded data removed]",
      "text/plain": [
       "<matplotlib.figure.Figure at 0x183ff0650>"
      ]
     },
     "metadata": {},
     "output_type": "display_data"
    }
   ],
   "source": [
    "plt.subplot(121)\n",
    "plt.tight_layout(pad=0.4, w_pad=11.0, h_pad=1.0)\n",
    "plt.scatter([1,10,100,500,990],np.array(endep)[:,0],label='e',c='r')\n",
    "plt.legend(bbox_to_anchor=(1.05, 1), loc=2, borderaxespad=0.)\n",
    "plt.xlim([-0.1,1100])\n",
    "plt.title('energy deposited e-')\n",
    "plt.ylabel('eV')\n",
    "plt.xlabel('Minimum energy range')\n",
    "plt.subplot(122)\n",
    "plt.scatter([1,10,100,500,990],np.array(endep)[:,1],label='p+',c='b')\n",
    "plt.scatter([1,10,100,500,990],np.array(endep)[:,2],label='e- + p+',c='g')\n",
    "plt.title('Total energy deposited')\n",
    "plt.legend(bbox_to_anchor=(1.05, 1), loc=2, borderaxespad=0.)\n",
    "plt.ylabel('eV')\n",
    "plt.xlabel('Minimum energy range')\n",
    "plt.xlim([-0.1,1100])\n",
    "plt.show()\n"
   ]
  },
  {
   "cell_type": "code",
   "execution_count": null,
   "metadata": {
    "collapsed": false
   },
   "outputs": [],
   "source": [
    "\n",
    "plt.subplot(121)\n",
    "plt.tight_layout(pad=0.4, w_pad=11.0, h_pad=1.0)\n",
    "plt.scatter([990],np.array(endep)[:,0],label='e',c='r')\n",
    "plt.legend(bbox_to_anchor=(1.05, 1), loc=2, borderaxespad=0.)\n",
    "plt.xlim([-0.1,1100])\n",
    "plt.title('energy deposited e-')\n",
    "plt.ylabel('eV')\n",
    "plt.xlabel('Minimum energy range')\n",
    "plt.subplot(122)\n",
    "plt.scatter([990],np.array(endep)[:,1],label='p+',c='b')\n",
    "plt.scatter([990],np.array(endep)[:,2],label='e- + p+',c='g')\n",
    "plt.title('Total energy deposited')\n",
    "plt.legend(bbox_to_anchor=(1.05, 1), loc=2, borderaxespad=0.)\n",
    "plt.ylabel('eV')\n",
    "plt.xlabel('Minimum energy range')\n",
    "plt.xlim([-0.1,1100])\n",
    "plt.show()\n",
    "\n",
    "\n"
   ]
  },
  {
   "cell_type": "code",
   "execution_count": null,
   "metadata": {
    "collapsed": false
   },
   "outputs": [],
   "source": [
    "#diff between 990 and 1\n",
    "np.array(endep)[0,:]"
   ]
  },
  {
   "cell_type": "code",
   "execution_count": null,
   "metadata": {
    "collapsed": false
   },
   "outputs": [],
   "source": [
    "idx = a1.groupby(['count_particle'])['step_number'].transform(max)==a1['step_number']\n",
    "a1[idx].postKineticEnergy.sum()\n",
    "\n",
    "#.agg({'energy_deposit':sum,\n",
    "#                                                                'step_number':max,\n",
    "#                                                                'kinecticEnergyDiff':sum     \n",
    "#      In [3]: idx = df.groupby(['Mt'])['count'].transform(max) == df['count']\n",
    "#In [4]: df[idx]"
   ]
  },
  {
   "cell_type": "code",
   "execution_count": null,
   "metadata": {
    "collapsed": false
   },
   "outputs": [],
   "source": [
    "#plt.scatter([1,10,100,500,990],-1/1.e6*np.array(list_kinectic_ediff),c='r',label='kinectic energy diff from p+')\n",
    "#plt.scatter([1,10,100,500,990],np.array(endep)[:,2]/1.e6,c='b',label='total energy deposited+escaping e-')\n",
    "\n",
    "plt.scatter([0],-1/1.e6*np.array(list_kinectic_ediff),c='r',label='kinectic energy diff from p+')\n",
    "plt.scatter([0],np.array(endep)[:,2]/1.e6,c='b',label='total energy deposited+escaping e-')\n",
    "\n",
    "plt.ylabel('MeV')\n",
    "plt.title('Energy overview')\n",
    "plt.xlabel('Energy range cut (eV)')\n",
    "plt.legend(bbox_to_anchor=(1.05, 1), loc=2, borderaxespad=0.)\n"
   ]
  },
  {
   "cell_type": "code",
   "execution_count": null,
   "metadata": {
    "collapsed": false
   },
   "outputs": [],
   "source": [
    "#Energy lost by proton\n",
    "pa1.kinecticEnergyDiff.mean()\n",
    "#pa1.energy_deposit.sum()"
   ]
  },
  {
   "cell_type": "code",
   "execution_count": null,
   "metadata": {
    "collapsed": false
   },
   "outputs": [],
   "source": [
    "#Plot energy lost for different energy cuts\n",
    "p_energy = [pa1,pa10,pa100,pa500,pa990]\n",
    "mydiff = []\n",
    "for i in p_energy:\n",
    "    mydiff.append( i.kinecticEnergyDiff.mean())\n",
    "    \n",
    "#mydiff.append(p_origin.kinecticEnergyDiff.mean())\n",
    "plt.scatter([1,10,100,500,990],mydiff,c='r',label='Penelope')\n",
    "plt.scatter([990],p_origin.kinecticEnergyDiff.mean(),c='b',label='Normal EM Physics')\n",
    "plt.title('Mean energy lost by proton')\n",
    "plt.xlabel('Energy cut (eV)')\n",
    "plt.ylabel('eV')\n",
    "plt.legend(bbox_to_anchor=(1.05, 1), loc=2, borderaxespad=0.)\n"
   ]
  },
  {
   "cell_type": "code",
   "execution_count": null,
   "metadata": {
    "collapsed": false
   },
   "outputs": [],
   "source": [
    "p_origin = pd.DataFrame(data_origin)"
   ]
  },
  {
   "cell_type": "code",
   "execution_count": null,
   "metadata": {
    "collapsed": false
   },
   "outputs": [],
   "source": [
    "p_origin.head(10)"
   ]
  },
  {
   "cell_type": "code",
   "execution_count": null,
   "metadata": {
    "collapsed": true
   },
   "outputs": [],
   "source": []
  }
 ],
 "metadata": {
  "kernelspec": {
   "display_name": "Python 2",
   "language": "python",
   "name": "python2"
  },
  "language_info": {
   "codemirror_mode": {
    "name": "ipython",
    "version": 2
   },
   "file_extension": ".py",
   "mimetype": "text/x-python",
   "name": "python",
   "nbconvert_exporter": "python",
   "pygments_lexer": "ipython2",
   "version": "2.7.12"
  }
 },
 "nbformat": 4,
 "nbformat_minor": 0
}
