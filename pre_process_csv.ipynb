{
 "cells": [
  {
   "cell_type": "code",
   "execution_count": 1,
   "metadata": {
    "collapsed": false
   },
   "outputs": [],
   "source": [
    "# -*- coding: utf-8 -*-\n",
    "import os\n",
    "import csv\n",
    "import sys\n",
    "import datetime\n",
    "import numpy as np"
   ]
  },
  {
   "cell_type": "code",
   "execution_count": 4,
   "metadata": {
    "collapsed": false
   },
   "outputs": [
    {
     "name": "stdout",
     "output_type": "stream",
     "text": [
      "Begin Python!2017-01-28 01:24:37.349481\n",
      "Time elapsed: 0:00:00.628892\n",
      "Python finished!\n"
     ]
    },
    {
     "data": {
      "text/plain": [
       "\"\\n\\nfor row in spamreader:\\n    if 'event' in row:\\n        if row[0].split(',')[4] == 'end_event':\\n            count_id += 1\\n        else:\\n             #print ', '.join(row)\\n            row[0]+=','+str(count_id)\\n            list_elements=[]\\n \\n    for jj in row[0].split(','):\\n               \\n        list_elements.append(jj)\\n \\n    writer.writerow(list_elements)    \\n    \\nf.close()\\ncsvfile.close()\\n\\nprint 'Time elapsed: '+ str(datetime.datetime.now()-t0)\\nprint 'Python finished!'\\n\""
      ]
     },
     "execution_count": 4,
     "metadata": {},
     "output_type": "execute_result"
    }
   ],
   "source": [
    "\n",
    "\n",
    "print 'Begin Python!' + str(datetime.datetime.now())\n",
    "t0 = datetime.datetime.now()\n",
    "filedir= '/Volumes/UNTITLED/'\n",
    "filename = 'test_lowE_nt_B4_g.csv'\n",
    "#filename='xaa'\n",
    "count_id=0\n",
    "\n",
    "csvfile= open(filedir+filename, 'rb')\n",
    "spamreader = csv.reader(csvfile, delimiter=' ', quotechar='|')\n",
    "\n",
    "outputfilename = filename[:-4] + '_processed.csv'\n",
    "f = open(filedir+outputfilename,'wt')\n",
    "writer = csv.writer(f)\n",
    "\n",
    "\n",
    "#outputfilename = str(sys.argv[1]\n",
    "\n",
    "\n",
    "list1=[]\n",
    "count_lines=0\n",
    "\n",
    "for row in spamreader:\n",
    "    count_lines+=1\n",
    "    if '#' in row[0]:\n",
    "        continue\n",
    "    elif row[0].split(',')[2]=='event':\n",
    "        count_id+=1\n",
    "        continue\n",
    "\n",
    "    row[0]+=','+str(count_id)\n",
    "    list_elements=[]\n",
    "    for jj in row[0].split(','):   \n",
    "        list_elements.append(jj)\n",
    "\n",
    "    writer.writerow(list_elements)            \n",
    "\n",
    "f.close()\n",
    "csvfile.close()\n",
    "\n",
    "print 'Time elapsed: '+ str(datetime.datetime.now()-t0)\n",
    "print 'Python finished!'\n",
    "\"\"\"\n",
    "\n",
    "for row in spamreader:\n",
    "    if 'event' in row:\n",
    "        if row[0].split(',')[4] == 'end_event':\n",
    "            count_id += 1\n",
    "        else:\n",
    "             #print ', '.join(row)\n",
    "            row[0]+=','+str(count_id)\n",
    "            list_elements=[]\n",
    " \n",
    "    for jj in row[0].split(','):\n",
    "               \n",
    "        list_elements.append(jj)\n",
    " \n",
    "    writer.writerow(list_elements)    \n",
    "    \n",
    "f.close()\n",
    "csvfile.close()\n",
    "\n",
    "print 'Time elapsed: '+ str(datetime.datetime.now()-t0)\n",
    "print 'Python finished!'\n",
    "\"\"\""
   ]
  },
  {
   "cell_type": "code",
   "execution_count": null,
   "metadata": {
    "collapsed": true
   },
   "outputs": [],
   "source": []
  }
 ],
 "metadata": {
  "kernelspec": {
   "display_name": "Python 2",
   "language": "python",
   "name": "python2"
  },
  "language_info": {
   "codemirror_mode": {
    "name": "ipython",
    "version": 2
   },
   "file_extension": ".py",
   "mimetype": "text/x-python",
   "name": "python",
   "nbconvert_exporter": "python",
   "pygments_lexer": "ipython2",
   "version": "2.7.12"
  }
 },
 "nbformat": 4,
 "nbformat_minor": 0
}
