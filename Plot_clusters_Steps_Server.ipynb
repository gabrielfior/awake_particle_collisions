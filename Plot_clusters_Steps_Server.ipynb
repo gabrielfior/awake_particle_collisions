{
 "cells": [
  {
   "cell_type": "code",
   "execution_count": 1,
   "metadata": {
    "collapsed": false
   },
   "outputs": [],
   "source": [
    "import pandas as pd\n",
    "import matplotlib.pyplot as plt\n",
    "import numpy as np\n",
    "from scipy.stats import norm\n",
    "import matplotlib.mlab as mlab\n",
    "from scipy.optimize import leastsq\n",
    "import datetime\n",
    "%matplotlib inline"
   ]
  },
  {
   "cell_type": "code",
   "execution_count": 25,
   "metadata": {
    "collapsed": false,
    "scrolled": true
   },
   "outputs": [
    {
     "name": "stdout",
     "output_type": "stream",
     "text": [
      "elapsed: 0:00:35.515224\n"
     ]
    },
    {
     "data": {
      "text/plain": [
       "\"\\ncount1=0\\nlist1=[]\\nprint 'reading: elapsed '+str(datetime.datetime.now()-t0)\\nt0 = datetime.datetime.now()\\nfor i in range(df.shape[0]):\\n    \\n    #if i%1000==0:\\n    #    print 'i= ' + str(i)\\n    if df.iloc[i]['processName']=='event':\\n        count1 +=1\\n    else:\\n        list1.append(count1)    \\n\\nprint 'processing: elapsed '+str(datetime.datetime.now()-t0)\\n\""
      ]
     },
     "execution_count": 25,
     "metadata": {},
     "output_type": "execute_result"
    }
   ],
   "source": [
    "#Pre-process file\n",
    "#filename = 'ArgonValidation_nt_B4_g.csv'\n",
    "#filename = '10cm_1e6_400GeV_RbAwake10minus7_cut1_5mm_nt_B4_g_processed.csv'\n",
    "to=datetime.datetime.now()\n",
    "filename = '/home/iwsatlas1/fior/10cm_1e6_400GeV_Ar_cut1_5mm_nt_B4_g_processed.csv'\n",
    "filename = '/home/iwsatlas1/fior/10cm_1e6_400GeV_Rb10minus4_beam_cut1_5mm_nt_B4_g_processed.csv'\n",
    "#filename = '/media/gabriel/UNTITLED/PAI_Geant4/10cm_1e6_400GeV_RbAwake10minus4_cut1_5mm_nt_B4_g_processed.csv'\n",
    "#filename = '/home/gabriel/Dropbox/Test82-build/10cm_1e6_400GeV_Rb10minus7_beam_cut1_5mm_nt_B4_g.csv'\n",
    "columns_new2 =['trackId','parentId','volumeName','particleName','stepNumber',\n",
    "                                               'posX','posY','posZ','perp','kineeticEnergyDiff',\n",
    "                                               'edepStep','kineticEnergyPostStep','processName',\n",
    "                                'mompreX','mompreY','mompreZ','momposX','momposY','momposZ',\n",
    "              'stepLength'] \n",
    "columns_new=['trackId','parentId','volumeName','particleName','stepNumber',\n",
    "                                               'posX','posY','posZ','perp','kineeticEnergyDiff',\n",
    "                                               'edepStep','kineticEnergyPostStep','processName',\n",
    "                                'mompreX','mompreY','mompreZ','momposX','momposY','momposZ','ParticleId']\n",
    "columns_old = ['trackId','parentId','volumeName','particleName','stepNumber',\n",
    "                                               'posX','posY','posZ','perp','kineeticEnergyDiff',\n",
    "                                               'edepStep','kineticEnergyPostStep','processName',\n",
    "                                'ParticleId']\n",
    "columns_new3 = ['trackId','parentId','volumeName','particleName','stepNumber',\n",
    "                                               'posX','posY','posZ','perp','kineeticEnergyDiff',\n",
    "                                               'edepStep','kineticEnergyPostStep','processName',\n",
    "                                'mompreX','mompreY','mompreZ','momposX','momposY','momposZ','stepLength','ParticleId']\n",
    "\n",
    "t0 = datetime.datetime.now()\n",
    "df = pd.read_csv(filename,\n",
    "                 skiprows=0,header=None,#nrows=1e7,#17*1e6\n",
    "                 names=columns_new3,\n",
    "                 index_col=None\n",
    "                )\n",
    "\n",
    "print 'elapsed: '+str(datetime.datetime.now()-t0)\n",
    "\"\"\"\n",
    "count1=0\n",
    "list1=[]\n",
    "print 'reading: elapsed '+str(datetime.datetime.now()-t0)\n",
    "t0 = datetime.datetime.now()\n",
    "for i in range(df.shape[0]):\n",
    "    \n",
    "    #if i%1000==0:\n",
    "    #    print 'i= ' + str(i)\n",
    "    if df.iloc[i]['processName']=='event':\n",
    "        count1 +=1\n",
    "    else:\n",
    "        list1.append(count1)    \n",
    "\n",
    "print 'processing: elapsed '+str(datetime.datetime.now()-t0)\n",
    "\"\"\""
   ]
  },
  {
   "cell_type": "code",
   "execution_count": 26,
   "metadata": {
    "collapsed": false
   },
   "outputs": [
    {
     "name": "stdout",
     "output_type": "stream",
     "text": [
      "/home/iwsatlas1/fior/10cm_1e6_400GeV_Rb10minus4_beam_cut1_5mm_nt_B4_g_processed.csv\n",
      "(17181664, 21)\n",
      "   trackId  parentId volumeName particleName  stepNumber      posX     posY  \\\n",
      "0        1         0      Layer       proton           2  0.106066  0.03324   \n",
      "1        1         0      Layer       proton           3  0.106066  0.03324   \n",
      "2        1         0      Layer       proton           4  0.106066  0.03324   \n",
      "3        1         0      Layer       proton           5  0.106066  0.03324   \n",
      "4        1         0      Layer       proton           6  0.106066  0.03324   \n",
      "\n",
      "      posZ      perp  kineeticEnergyDiff     ...      kineticEnergyPostStep  \\\n",
      "0 -48.4818  0.111153              0.0000     ...               4.000000e+11   \n",
      "1 -42.1998  0.111153              0.0000     ...               4.000000e+11   \n",
      "2 -34.7235  0.111153           -303.7260     ...               4.000000e+11   \n",
      "3 -28.2130  0.111153            -27.3064     ...               4.000000e+11   \n",
      "4 -22.2753  0.111153            -31.4558     ...               4.000000e+11   \n",
      "\n",
      "      processName mompreX  mompreY       mompreZ  momposX  momposY  \\\n",
      "0  Transportation     0.0      0.0  4.009370e+11      0.0      0.0   \n",
      "1  Transportation     0.0      0.0  4.009370e+11      0.0      0.0   \n",
      "2  Transportation     0.0      0.0  4.009370e+11      0.0      0.0   \n",
      "3  Transportation     0.0      0.0  4.009370e+11      0.0      0.0   \n",
      "4  Transportation     0.0      0.0  4.009370e+11      0.0      0.0   \n",
      "\n",
      "        momposZ  stepLength  ParticleId  \n",
      "0  4.009370e+11     6.66667         0.0  \n",
      "1  4.009370e+11     6.66667         0.0  \n",
      "2  4.009370e+11     6.66667         0.0  \n",
      "3  4.009370e+11     6.66667         0.0  \n",
      "4  4.009370e+11     6.66667         0.0  \n",
      "\n",
      "[5 rows x 21 columns]\n"
     ]
    }
   ],
   "source": [
    "print filename\n",
    "print df.shape#, len(df.ParticleId.unique())\n",
    "print df.head()"
   ]
  },
  {
   "cell_type": "code",
   "execution_count": null,
   "metadata": {
    "collapsed": false
   },
   "outputs": [],
   "source": []
  },
  {
   "cell_type": "code",
   "execution_count": 14,
   "metadata": {
    "collapsed": false
   },
   "outputs": [
    {
     "name": "stderr",
     "output_type": "stream",
     "text": [
      "/usr/local/lib/python2.7/dist-packages/ipykernel/__main__.py:25: SettingWithCopyWarning: \n",
      "A value is trying to be set on a copy of a slice from a DataFrame\n",
      "\n",
      "See the the caveats in the documentation: http://pandas.pydata.org/pandas-docs/stable/indexing.html#indexing-view-versus-copy\n"
     ]
    },
    {
     "name": "stdout",
     "output_type": "stream",
     "text": [
      "done\n"
     ]
    }
   ],
   "source": [
    "\n",
    "#NOT NECESSARY BECAUSE OF PRE-PROCESSING BEFORE\n",
    "#reading data frame\n",
    "#filename = 'testem8_nt_B4_g.csv'\n",
    "#filename = 'B4_nt_B4_g_origin_processed.csv'\n",
    "#filename = 'ArgonValidation_nt_B4_g.csv'\n",
    "#filename = 'argon_400geV_ntp.csv'\n",
    "#df = pd.read_csv('/Users/gabrielfior/OneDrive/Master Thesis/Share_Ubuntu/'+filename,\n",
    "#                 skiprows=7,header=None,names=['energyDeposited_ev','fClusters','whatever'])\n",
    "#df = pd.read_csv('/Volumes/UNTITLED/'+filename,\n",
    "#                 skiprows=19,header=None,names=['trackId','parentId','volumeName','particleName','stepNumber',\n",
    "#                                               'posX','posY','posZ','perp','stepLength','kineeticEnergyDiff',\n",
    "#                                               'edepStep','kineticEnergyPostStep','processName','fCluster',\n",
    "#                                                'particleId'])\n",
    "\n",
    "df_new = pd.DataFrame()\n",
    "countId=0\n",
    "for i in range(100):\n",
    "    x = df.iloc[i]\n",
    "    if 'event' in df.volumeName:\n",
    "        countId+=1\n",
    "        \n",
    "    else:\n",
    "        #x['particleId'] = countId\n",
    "        df.iloc[i]['particleId'] = countId\n",
    "    \n",
    "print 'done'\n",
    "    "
   ]
  },
  {
   "cell_type": "code",
   "execution_count": 20,
   "metadata": {
    "collapsed": false
   },
   "outputs": [
    {
     "data": {
      "text/html": [
       "<div>\n",
       "<table border=\"1\" class=\"dataframe\">\n",
       "  <thead>\n",
       "    <tr style=\"text-align: right;\">\n",
       "      <th></th>\n",
       "      <th>trackId</th>\n",
       "      <th>parentId</th>\n",
       "      <th>volumeName</th>\n",
       "      <th>particleName</th>\n",
       "      <th>stepNumber</th>\n",
       "      <th>posX</th>\n",
       "      <th>posY</th>\n",
       "      <th>posZ</th>\n",
       "      <th>perp</th>\n",
       "      <th>kineeticEnergyDiff</th>\n",
       "      <th>...</th>\n",
       "      <th>kineticEnergyPostStep</th>\n",
       "      <th>processName</th>\n",
       "      <th>mompreX</th>\n",
       "      <th>mompreY</th>\n",
       "      <th>mompreZ</th>\n",
       "      <th>momposX</th>\n",
       "      <th>momposY</th>\n",
       "      <th>momposZ</th>\n",
       "      <th>stepLength</th>\n",
       "      <th>ParticleId</th>\n",
       "    </tr>\n",
       "  </thead>\n",
       "  <tbody>\n",
       "    <tr>\n",
       "      <th>0</th>\n",
       "      <td>1</td>\n",
       "      <td>0</td>\n",
       "      <td>Layer</td>\n",
       "      <td>proton</td>\n",
       "      <td>2</td>\n",
       "      <td>0.106066</td>\n",
       "      <td>0.03324</td>\n",
       "      <td>-48.4818</td>\n",
       "      <td>0.111153</td>\n",
       "      <td>0.0000</td>\n",
       "      <td>...</td>\n",
       "      <td>4.000000e+11</td>\n",
       "      <td>Transportation</td>\n",
       "      <td>0.0</td>\n",
       "      <td>0.0</td>\n",
       "      <td>4.009370e+11</td>\n",
       "      <td>0.0</td>\n",
       "      <td>0.0</td>\n",
       "      <td>4.009370e+11</td>\n",
       "      <td>6.66667</td>\n",
       "      <td>0.0</td>\n",
       "    </tr>\n",
       "    <tr>\n",
       "      <th>1</th>\n",
       "      <td>1</td>\n",
       "      <td>0</td>\n",
       "      <td>Layer</td>\n",
       "      <td>proton</td>\n",
       "      <td>3</td>\n",
       "      <td>0.106066</td>\n",
       "      <td>0.03324</td>\n",
       "      <td>-42.1998</td>\n",
       "      <td>0.111153</td>\n",
       "      <td>0.0000</td>\n",
       "      <td>...</td>\n",
       "      <td>4.000000e+11</td>\n",
       "      <td>Transportation</td>\n",
       "      <td>0.0</td>\n",
       "      <td>0.0</td>\n",
       "      <td>4.009370e+11</td>\n",
       "      <td>0.0</td>\n",
       "      <td>0.0</td>\n",
       "      <td>4.009370e+11</td>\n",
       "      <td>6.66667</td>\n",
       "      <td>0.0</td>\n",
       "    </tr>\n",
       "    <tr>\n",
       "      <th>2</th>\n",
       "      <td>1</td>\n",
       "      <td>0</td>\n",
       "      <td>Layer</td>\n",
       "      <td>proton</td>\n",
       "      <td>4</td>\n",
       "      <td>0.106066</td>\n",
       "      <td>0.03324</td>\n",
       "      <td>-34.7235</td>\n",
       "      <td>0.111153</td>\n",
       "      <td>-303.7260</td>\n",
       "      <td>...</td>\n",
       "      <td>4.000000e+11</td>\n",
       "      <td>Transportation</td>\n",
       "      <td>0.0</td>\n",
       "      <td>0.0</td>\n",
       "      <td>4.009370e+11</td>\n",
       "      <td>0.0</td>\n",
       "      <td>0.0</td>\n",
       "      <td>4.009370e+11</td>\n",
       "      <td>6.66667</td>\n",
       "      <td>0.0</td>\n",
       "    </tr>\n",
       "    <tr>\n",
       "      <th>3</th>\n",
       "      <td>1</td>\n",
       "      <td>0</td>\n",
       "      <td>Layer</td>\n",
       "      <td>proton</td>\n",
       "      <td>5</td>\n",
       "      <td>0.106066</td>\n",
       "      <td>0.03324</td>\n",
       "      <td>-28.2130</td>\n",
       "      <td>0.111153</td>\n",
       "      <td>-27.3064</td>\n",
       "      <td>...</td>\n",
       "      <td>4.000000e+11</td>\n",
       "      <td>Transportation</td>\n",
       "      <td>0.0</td>\n",
       "      <td>0.0</td>\n",
       "      <td>4.009370e+11</td>\n",
       "      <td>0.0</td>\n",
       "      <td>0.0</td>\n",
       "      <td>4.009370e+11</td>\n",
       "      <td>6.66667</td>\n",
       "      <td>0.0</td>\n",
       "    </tr>\n",
       "    <tr>\n",
       "      <th>4</th>\n",
       "      <td>1</td>\n",
       "      <td>0</td>\n",
       "      <td>Layer</td>\n",
       "      <td>proton</td>\n",
       "      <td>6</td>\n",
       "      <td>0.106066</td>\n",
       "      <td>0.03324</td>\n",
       "      <td>-22.2753</td>\n",
       "      <td>0.111153</td>\n",
       "      <td>-31.4558</td>\n",
       "      <td>...</td>\n",
       "      <td>4.000000e+11</td>\n",
       "      <td>Transportation</td>\n",
       "      <td>0.0</td>\n",
       "      <td>0.0</td>\n",
       "      <td>4.009370e+11</td>\n",
       "      <td>0.0</td>\n",
       "      <td>0.0</td>\n",
       "      <td>4.009370e+11</td>\n",
       "      <td>6.66667</td>\n",
       "      <td>0.0</td>\n",
       "    </tr>\n",
       "  </tbody>\n",
       "</table>\n",
       "<p>5 rows × 21 columns</p>\n",
       "</div>"
      ],
      "text/plain": [
       "   trackId  parentId volumeName particleName  stepNumber      posX     posY  \\\n",
       "0        1         0      Layer       proton           2  0.106066  0.03324   \n",
       "1        1         0      Layer       proton           3  0.106066  0.03324   \n",
       "2        1         0      Layer       proton           4  0.106066  0.03324   \n",
       "3        1         0      Layer       proton           5  0.106066  0.03324   \n",
       "4        1         0      Layer       proton           6  0.106066  0.03324   \n",
       "\n",
       "      posZ      perp  kineeticEnergyDiff     ...      kineticEnergyPostStep  \\\n",
       "0 -48.4818  0.111153              0.0000     ...               4.000000e+11   \n",
       "1 -42.1998  0.111153              0.0000     ...               4.000000e+11   \n",
       "2 -34.7235  0.111153           -303.7260     ...               4.000000e+11   \n",
       "3 -28.2130  0.111153            -27.3064     ...               4.000000e+11   \n",
       "4 -22.2753  0.111153            -31.4558     ...               4.000000e+11   \n",
       "\n",
       "      processName mompreX  mompreY       mompreZ  momposX  momposY  \\\n",
       "0  Transportation     0.0      0.0  4.009370e+11      0.0      0.0   \n",
       "1  Transportation     0.0      0.0  4.009370e+11      0.0      0.0   \n",
       "2  Transportation     0.0      0.0  4.009370e+11      0.0      0.0   \n",
       "3  Transportation     0.0      0.0  4.009370e+11      0.0      0.0   \n",
       "4  Transportation     0.0      0.0  4.009370e+11      0.0      0.0   \n",
       "\n",
       "        momposZ  stepLength  ParticleId  \n",
       "0  4.009370e+11     6.66667         0.0  \n",
       "1  4.009370e+11     6.66667         0.0  \n",
       "2  4.009370e+11     6.66667         0.0  \n",
       "3  4.009370e+11     6.66667         0.0  \n",
       "4  4.009370e+11     6.66667         0.0  \n",
       "\n",
       "[5 rows x 21 columns]"
      ]
     },
     "execution_count": 20,
     "metadata": {},
     "output_type": "execute_result"
    }
   ],
   "source": [
    "df.head()"
   ]
  },
  {
   "cell_type": "code",
   "execution_count": 27,
   "metadata": {
    "collapsed": false
   },
   "outputs": [
    {
     "name": "stdout",
     "output_type": "stream",
     "text": [
      "82.8616001472\n",
      "Index([u'trackId', u'parentId', u'volumeName', u'particleName', u'stepNumber',\n",
      "       u'posX', u'posY', u'posZ', u'perp', u'kineeticEnergyDiff', u'edepStep',\n",
      "       u'kineticEnergyPostStep', u'processName', u'mompreX', u'mompreY',\n",
      "       u'mompreZ', u'momposX', u'momposY', u'momposZ', u'stepLength',\n",
      "       u'ParticleId'],\n",
      "      dtype='object')\n"
     ]
    }
   ],
   "source": [
    "#df.head(40)\n",
    "\n",
    "#df_events=df[df.processName=='event']\n",
    "df_steps_p = df[(df.particleName=='proton')]\n",
    "df_steps_e = df[(df.particleName=='e-')]\n",
    "\n",
    "#df_steps_p = df[(df.particleName=='proton')]\n",
    "#df_steps_e = df[(df.particleName=='e-')]\n",
    "\n",
    "\n",
    "#del (df)\n",
    "#print df.shape\n",
    "print np.mean(df_steps_p.edepStep)\n",
    "print df_steps_p.columns\n",
    "#df.energyDeposited_ev.unique()"
   ]
  },
  {
   "cell_type": "code",
   "execution_count": 28,
   "metadata": {
    "collapsed": false
   },
   "outputs": [
    {
     "name": "stdout",
     "output_type": "stream",
     "text": [
      "/home/iwsatlas1/fior/10cm_1e6_400GeV_Rb10minus4_beam_cut1_5mm_nt_B4_g_processed.csv\n"
     ]
    },
    {
     "data": {
      "image/png": "[encoded data removed]",
      "text/plain": [
       "<matplotlib.figure.Figure at 0x7fe887540b10>"
      ]
     },
     "metadata": {},
     "output_type": "display_data"
    },
    {
     "data": {
      "image/png": "[encoded data removed]",
      "text/plain": [
       "<matplotlib.figure.Figure at 0x7fe8a83d8b10>"
      ]
     },
     "metadata": {},
     "output_type": "display_data"
    }
   ],
   "source": [
    "#Group by stepNumber\n",
    "agg1 = {'edepStep':['sum'], 'stepNumber': ['max'], 'kineticEnergyPostStep':['min','max']}\n",
    "df_grouped_p = df_steps_p.groupby('ParticleId',as_index=False,group_keys=False).agg(agg1)\n",
    "\n",
    "electronIonPairConv = 10.0 #eV for Rb\n",
    "df_grouped_p['primClusters'] = df_grouped_p.edepStep.apply(lambda x: x/electronIonPairConv)\n",
    "\n",
    "print filename\n",
    "df_grouped_p.edepStep.hist(bins=np.linspace(0,3000,100))\n",
    "plt.title('Histogram - energy lost / proton / 10cm: mean(eV) = '+str(df_grouped_p.edepStep.mean()))\n",
    "plt.show()\n",
    "df_grouped_p.primClusters.hist(bins=np.linspace(0,300,100))\n",
    "plt.title('Histogram - # of clusters, mean electrons/proton / 10cm= '+str(df_grouped_p.primClusters.mean()))\n",
    "plt.show()"
   ]
  },
  {
   "cell_type": "markdown",
   "metadata": {
    "collapsed": true
   },
   "source": [
    "# Investigate radial distribution of energy deposit"
   ]
  },
  {
   "cell_type": "code",
   "execution_count": 29,
   "metadata": {
    "collapsed": false
   },
   "outputs": [],
   "source": [
    "fundouble = lambda x: np.double(\"%.2f\" % round(x*1e6,2))"
   ]
  },
  {
   "cell_type": "code",
   "execution_count": 30,
   "metadata": {
    "collapsed": false
   },
   "outputs": [
    {
     "name": "stderr",
     "output_type": "stream",
     "text": [
      "/home/iwsatlas1/fior/anaconda2/lib/python2.7/site-packages/ipykernel/__main__.py:1: SettingWithCopyWarning: \n",
      "A value is trying to be set on a copy of a slice from a DataFrame.\n",
      "Try using .loc[row_indexer,col_indexer] = value instead\n",
      "\n",
      "See the caveats in the documentation: http://pandas.pydata.org/pandas-docs/stable/indexing.html#indexing-view-versus-copy\n",
      "  if __name__ == '__main__':\n"
     ]
    }
   ],
   "source": [
    "df_steps_p['posRtoGroup'] = df_steps_p.perp.apply(fundouble)"
   ]
  },
  {
   "cell_type": "code",
   "execution_count": 31,
   "metadata": {
    "collapsed": false
   },
   "outputs": [
    {
     "name": "stderr",
     "output_type": "stream",
     "text": [
      "/home/iwsatlas1/fior/anaconda2/lib/python2.7/site-packages/ipykernel/__main__.py:1: RuntimeWarning: divide by zero encountered in log\n",
      "  if __name__ == '__main__':\n"
     ]
    },
    {
     "data": {
      "image/png": "[encoded data removed]",
      "text/plain": [
       "<matplotlib.figure.Figure at 0x7fe7cde0ced0>"
      ]
     },
     "metadata": {},
     "output_type": "display_data"
    }
   ],
   "source": [
    "plt.scatter((df.perp),np.log(df.edepStep))\n",
    "plt.xlim([-.00002,0.0002])\n",
    "plt.show()"
   ]
  },
  {
   "cell_type": "code",
   "execution_count": 32,
   "metadata": {
    "collapsed": false
   },
   "outputs": [
    {
     "name": "stdout",
     "output_type": "stream",
     "text": [
      "1040290.0\n"
     ]
    },
    {
     "data": {
      "text/plain": [
       "array([[<matplotlib.axes._subplots.AxesSubplot object at 0x7fe8874bce10>,\n",
       "        <matplotlib.axes._subplots.AxesSubplot object at 0x7fe7cdadcf10>],\n",
       "       [<matplotlib.axes._subplots.AxesSubplot object at 0x7fe7cdb1d850>,\n",
       "        <matplotlib.axes._subplots.AxesSubplot object at 0x7fe7cdb0c2d0>]], dtype=object)"
      ]
     },
     "execution_count": 32,
     "metadata": {},
     "output_type": "execute_result"
    },
    {
     "data": {
      "image/png": "[encoded data removed]",
      "text/plain": [
       "<matplotlib.figure.Figure at 0x7fe8c10925d0>"
      ]
     },
     "metadata": {},
     "output_type": "display_data"
    }
   ],
   "source": [
    "#data.hist(column=\"ApplicantIncome\",by=\"Loan_Status\",bins=30)\n",
    "print df_steps_p.posRtoGroup.max()\n",
    "df.hist(column='edepStep',by='particleName',bins=10)"
   ]
  },
  {
   "cell_type": "code",
   "execution_count": null,
   "metadata": {
    "collapsed": true
   },
   "outputs": [],
   "source": []
  }
 ],
 "metadata": {
  "kernelspec": {
   "display_name": "Python 2",
   "language": "python",
   "name": "python2"
  },
  "language_info": {
   "codemirror_mode": {
    "name": "ipython",
    "version": 2
   },
   "file_extension": ".py",
   "mimetype": "text/x-python",
   "name": "python",
   "nbconvert_exporter": "python",
   "pygments_lexer": "ipython2",
   "version": "2.7.12"
  }
 },
 "nbformat": 4,
 "nbformat_minor": 0
}
