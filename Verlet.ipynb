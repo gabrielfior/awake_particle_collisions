{
 "cells": [
  {
   "cell_type": "code",
   "execution_count": 2,
   "metadata": {
    "collapsed": false
   },
   "outputs": [
    {
     "name": "stderr",
     "output_type": "stream",
     "text": [
      "/Users/gabrielfior/anaconda/lib/python2.7/site-packages/matplotlib/font_manager.py:273: UserWarning: Matplotlib is building the font cache using fc-list. This may take a moment.\n",
      "  warnings.warn('Matplotlib is building the font cache using fc-list. This may take a moment.')\n"
     ]
    }
   ],
   "source": [
    "import numpy as np\n",
    "from numpy.linalg import norm\n",
    "from numpy import array, zeros\n",
    "\n",
    "import matplotlib.pyplot as plt\n",
    "from matplotlib import pyplot as plot\n",
    "%matplotlib inline"
   ]
  },
  {
   "cell_type": "code",
   "execution_count": 5,
   "metadata": {
    "collapsed": false
   },
   "outputs": [],
   "source": [
    "\n",
    "total_time = 0.\n",
    "dt = 1e-9\n",
    "v = np.array([100.,0.,0.])\n",
    "B = np.array([0.,0.,1.0])\n",
    "pos = [np.array([0.,0.,0.])]\n",
    "list_pos=[]\n",
    "list_vels=[]\n",
    "\n",
    "q = 1.6*1e-19 #C\n",
    "m = 9.31*1e-31\n",
    "def calculate_acceleration(q1,v,B,m1):\n",
    "    return q1*np.cross(v,B)/m1\n",
    "\n",
    "while total_time<1e-7:\n",
    "    posNplusHalf = pos + 0.5*dt*v\n",
    "    v += dt*calculate_acceleration(q,v,B,m)\n",
    "    pos = posNplusHalf + dt*0.5*v\n",
    "    \n",
    "    total_time += dt\n",
    "    list_pos.append(pos)\n",
    "    list_vels.append(v)"
   ]
  },
  {
   "cell_type": "code",
   "execution_count": 11,
   "metadata": {
    "collapsed": false
   },
   "outputs": [
    {
     "name": "stdout",
     "output_type": "stream",
     "text": [
      "(101, 1, 3)\n"
     ]
    },
    {
     "data": {
      "text/plain": [
       "array([[  1.59693263e+218,  -2.33761883e+218,   0.00000000e+000]])"
      ]
     },
     "execution_count": 11,
     "metadata": {},
     "output_type": "execute_result"
    }
   ],
   "source": [
    "#plt.plot(np.array(list_pos)[:,0],np.array(list_pos)[:,1])\n",
    "#plt.show()\n",
    "print np.array(list_pos).shape\n",
    "list_pos[-1]"
   ]
  },
  {
   "cell_type": "code",
   "execution_count": null,
   "metadata": {
    "collapsed": false
   },
   "outputs": [],
   "source": [
    "\"\"\"dt = 1.e-9 # seconds\n",
    "oldpos = np.array([0,0,0]) # m\n",
    "pos = oldpos + np.array([5,8,1])*dt\n",
    "\n",
    "t=0\n",
    "B = np.array([0,0,0.5e-3]) # Tesla, the earth’s magnetic field\n",
    "q = -1.6e-19 # Coulomb, the charge on an electron\n",
    "m = 9e-31 # kg, the mass of an electron\n",
    "\n",
    "velocity = np.array([100,0,0]) # m/s\n",
    "vel_old = np.array([100,0,0]) # m/s\n",
    "vel = np.array([100,0,0]) # m/s\n",
    "accel_old = q*np.cross(vel_old,B)/m\n",
    "list_pos=[]\n",
    "list_kin=[]\n",
    "list_pos_new=[]\n",
    "posnew = 0.\n",
    "while t < 3.e-5:\n",
    "    \n",
    "    \n",
    "    #################\n",
    "    acceleration = q*np.cross(velocity,B)/m\n",
    "    #x[i+1] = x[i] + v[i] * dt + 0.5 * a[i] * dt * dt\n",
    "    #v[i+1] = v[i] + 0.5 * (a[i] + a[i+1]) * dt\n",
    "    # the verlet integration:\n",
    "    #s.force = m*g\n",
    "    olderpos = oldpos\n",
    "    oldpos = 1*pos\n",
    "    pos = 2*pos - olderpos + acceleration*dt**2\n",
    "    # work out the energy using a centered derivative\n",
    "    # for the velocity:\n",
    "    velocity = (pos - olderpos)/(2*dt)\n",
    "    kineticEnergy = 0.5*m*np.dot(velocity,velocity)\n",
    "    #potentialEnergy = -m*dot(g,oldpos+ymax*vector(0,1,0))\n",
    "    potentialEnergy = 0.\n",
    "    #print(kineticEnergy + potentialEnergy)\n",
    "    \n",
    "    t = t+dt\n",
    "        \n",
    "    list_pos.append(pos)\n",
    "    list_kin.append(kineticEnergy)\n",
    "\"\"\"    "
   ]
  },
  {
   "cell_type": "code",
   "execution_count": null,
   "metadata": {
    "collapsed": false
   },
   "outputs": [],
   "source": [
    "print pos\n",
    "plt.subplot(211,aspect='equal')\n",
    "plt.plot(np.array(list_pos)[:,0],np.array(list_pos)[:,1])\n",
    "plt.title('X vs Y')\n",
    "plt.subplot(212)\n",
    "plt.plot(np.array(list_kin))\n",
    "plt.title('Kinetic energy')\n",
    "plt.tight_layout()\n",
    "plt.show()"
   ]
  },
  {
   "cell_type": "code",
   "execution_count": null,
   "metadata": {
    "collapsed": false
   },
   "outputs": [],
   "source": [
    "#!/usr/bin/python\n",
    "#coding: utf8\n",
    "\n",
    "# Velocity Verlet integrator\n",
    "\n",
    "def Verlet(r, v, dt, a):\n",
    "    \"\"\"Return new position and velocity from current values, time step and acceleration.\n",
    "\n",
    "    Parameters:\n",
    "       r is a numpy array giving the current position vector\n",
    "       v is a numpy array giving the current velocity vector\n",
    "       dt is a float value giving the length of the integration time step\n",
    "       a is a function which takes x as a parameter and returns the acceleration vector as an array\n",
    "\n",
    "    Works with arrays of any dimension as long as they're all the same.\n",
    "    \"\"\"\n",
    "    # Deceptively simple (read about Velocity Verlet on wikipedia)\n",
    "    r_new = r + v*dt + a(v,B,r)*dt**2/2\n",
    "    #v_new = v\n",
    "    #v_new = v + (a(v,B,r) + a(v_new2,B,r_new))/2 * dt\n",
    "    return (r_new, 1.)\n",
    "\n",
    "# Then the function itself\n",
    "def calc_acceleration(velocity1,B,r):\n",
    "    # This is just the sun's force of gravity per unit mass:\n",
    "    print 'oi1'\n",
    "    Asun = -MGsun * r / norm(r)**3\n",
    "    print 'oi2'\n",
    "    print v.shape\n",
    "    F = q*np.cross(velocity1,B)/m\n",
    "    print 'oi3'\n",
    "    return F\n",
    "\n",
    "\n",
    "G = 6.673e-11 # Gravitational constant\n",
    "MGsun = 1.98e30 * G # Mass of the sun\n",
    "sun = array([0, 0, 0]) # Place sun at origin\n",
    "q = 1.6*1e-19\n",
    "m = 9.31*1e-31\n",
    "\n",
    "# Set starting values for position and velocity\n",
    "r = array([0.0, 0, 0])\n",
    "v = array([100., 0., 0])\n",
    "\n",
    "\n",
    "# We are now running a simulation of 180 days with 20000 timesteps\n",
    "T = 1 # simulated time in seconds\n",
    "N = 100 # integration time steps\n",
    "M = 1   # save position every M timestep\n",
    "dt = T*1.0 / (N) # calculate timestep length in seconds\n",
    "\n",
    "# Lists for storing the position and velocity\n",
    "Rlist = zeros([3,N/M])\n",
    "Vlist = zeros([3,N/M])\n",
    "# Put the initial values into the lists\n",
    "Rlist[:,0] = r\n",
    "Vlist[:,0] = v\n",
    "\n",
    "# Run simulation\n",
    "print \"Integrating %d seconds with time step dt = %f seconds.\" % (T, dt)\n",
    "print \"Total number of steps:\", N\n",
    "print \"Saving location every %d steps.\" % (M)\n",
    "print \"Start.\"\n",
    "for i in range(N/M):\n",
    "    # Run for M steps before saving values\n",
    "    for j in range(M):\n",
    "        # Update position and velocity based on the current ones\n",
    "        # and the acceleration function \n",
    "        r, v = Verlet(r, v, dt, calc_acceleration)\n",
    "    # Save values into lists\n",
    "    Rlist[:, i] = r\n",
    "    Vlist[:, i] = v\n",
    "print \"Stop.\"\n",
    "\n",
    "# Plot results\t\n",
    "\"\"\"\n",
    "plot.title(\"%d seconds, $dt=%f$, sampled every %.2f seconds\" % (T, dt, M*dt))\n",
    "# Set equal axis\n",
    "plot.axis('equal')\n",
    "# Draw x and y axis lines\n",
    "plot.axhline(color=\"black\")\n",
    "plot.axvline(color=\"black\")\n",
    "\n",
    "# Draw the sun as a \n",
    "plot.scatter(sun[0], sun[1], 400, c=[\"y\"])\n",
    "# Plot the orbit as a line\n",
    "plot.plot(Rlist[0,:], Rlist[1,:], \"-\")\n",
    "plot.show()\n",
    "\"\"\""
   ]
  },
  {
   "cell_type": "code",
   "execution_count": null,
   "metadata": {
    "collapsed": false
   },
   "outputs": [],
   "source": [
    "v"
   ]
  },
  {
   "cell_type": "code",
   "execution_count": null,
   "metadata": {
    "collapsed": true
   },
   "outputs": [],
   "source": []
  }
 ],
 "metadata": {
  "kernelspec": {
   "display_name": "Python 2",
   "language": "python",
   "name": "python2"
  },
  "language_info": {
   "codemirror_mode": {
    "name": "ipython",
    "version": 2
   },
   "file_extension": ".py",
   "mimetype": "text/x-python",
   "name": "python",
   "nbconvert_exporter": "python",
   "pygments_lexer": "ipython2",
   "version": "2.7.12"
  }
 },
 "nbformat": 4,
 "nbformat_minor": 0
}
