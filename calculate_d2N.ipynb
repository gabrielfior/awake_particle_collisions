{
 "cells": [
  {
   "cell_type": "code",
   "execution_count": 16,
   "metadata": {
    "collapsed": false
   },
   "outputs": [],
   "source": [
    "import numpy as np\n",
    "import matplotlib.pyplot as plt\n",
    "from plot_F_E import beta_from_energy\n",
    "from decimal import Decimal\n",
    "%matplotlib inline"
   ]
  },
  {
   "cell_type": "code",
   "execution_count": 17,
   "metadata": {
    "collapsed": true
   },
   "outputs": [],
   "source": [
    "def return_sandia_value(E,material='Rb'):\n",
    "    sandia_Rb = np.array((\n",
    "[0.01,0.4606E+04,0.0000E+00,0.0000E+00, 0.0000E+00],\n",
    "[0.0305,       0.1441E+04, -0.1761E+03,  0.6821E+01,  0.4470E-01 ] ,\n",
    "[ 0.111,       -0.6763E+03,  0.6772E+04, -0.1372E+04,  0.7035E+02 ] ,\n",
    "[ 0.3,         -0.3457E+03,  0.2591E+04,  0.1242E+04, -0.3481E+03] ,\n",
    "[1.805,        0.3524E+03, -0.3194E+04,  0.1657E+05,  0.1224E+05 ] ,\n",
    "[ 1.863,       -0.4025E+03,  0.1067E+05,  0.8396E+04, -0.2275E+04 ] ,\n",
    "[2.065,        0.5234E+01,  0.7494E+03,  0.5033E+05, -0.4276E+05 ] ,\n",
    "[15.2,        -0.2207E+01,  0.2653E+03,  0.6269E+06, -0.3163E+07 ] ,\n",
    "[100.0,        0.1101E+01, -0.4280E+03,  0.6664E+06, -0.3481E+07 ] ,\n",
    "[ 500.0,        0.3467E+00,  0.4515E+03,  0.3525E+06,  0.2783E+08 ] \n",
    "    ))    \n",
    "    sandia_Ar = np.array((    [ 0.01,        -8.294E+04,   5.720E+03,  -1.101E+02,   6.668E-01  ] ,\n",
    " [ 0.04,        -1.401E+03,   9.577E+02,  -7.842E+01,   1.797E+00  ] ,\n",
    " [ 0.245,       -0.2244E+03,  0.1388E+04,  0.2571E+04, -0.5113E+03 ] ,\n",
    " [ 3.203,       -0.1446E+02,  0.4359E+03,  0.6578E+05, -0.7284E+05 ] ,\n",
    " [ 20.0,         0.8786E+00, -0.3001E+03,  0.7682E+05, -0.1219E+06 ] ,\n",
    " [ 100.0,        0.6779E-01, -0.2695E+02,  0.5069E+05,  0.5281E+06 ] ,\n",
    "  [500.0,        0.2598E-01,  0.3454E+02,  0.1059E+05,  0.1068E+08 ] \n",
    "))\n",
    "\n",
    "    if material=='Rb':\n",
    "        sandia=sandia_Rb\n",
    "    elif material=='Ar':\n",
    "        sandia=sandia_Ar\n",
    "\n",
    "    index1 = sandia.shape[0]\n",
    "    index_return = index1-1\n",
    "    try:\n",
    "        for i in range(index1):\n",
    "            if E == sandia[i,0]:\n",
    "                index_return = i\n",
    "            elif E>sandia[i,0] and E<sandia[i+1,0]:\n",
    "                index_return = i\n",
    "            elif E>sandia[-1,0]:\n",
    "                index_return=index1-1\n",
    "                break\n",
    "            elif E<sandia[0,0]:\n",
    "                index_return=0\n",
    "                break\n",
    "            \n",
    "    except IndexError:\n",
    "        pass\n",
    "           \n",
    "    return sandia[index_return]"
   ]
  },
  {
   "cell_type": "code",
   "execution_count": 18,
   "metadata": {
    "collapsed": false
   },
   "outputs": [],
   "source": [
    "def return_sigma_gamma_from_index(index1,energy):\n",
    "\n",
    "    list1 = list(index1)\n",
    "    sum_terms = 0.\n",
    "    for i,j in enumerate(list1):\n",
    "        \n",
    "        sum_terms += j*pow(energy,-(i+1))         \n",
    "\n",
    "\n",
    "    return sum_terms"
   ]
  },
  {
   "cell_type": "code",
   "execution_count": 19,
   "metadata": {
    "collapsed": false
   },
   "outputs": [],
   "source": [
    "#return_sigma_gamma_from_index(return_sandia_value(100),100)"
   ]
  },
  {
   "cell_type": "code",
   "execution_count": 20,
   "metadata": {
    "collapsed": true
   },
   "outputs": [],
   "source": [
    "w = np.linspace(1.e-2,10.,10000) #to be given in keV\n",
    "\n",
    "deltaw = w[2]-w[1]\n",
    "list_cross_sec=[]\n"
   ]
  },
  {
   "cell_type": "code",
   "execution_count": 21,
   "metadata": {
    "collapsed": false
   },
   "outputs": [],
   "source": [
    "def return_bins(E,E_max,Npoints):\n",
    "\n",
    "    w_to_loop = np.linspace(E,E_max,Npoints) # in keV\n",
    "    w_to_loop2 = np.linspace(0,E,Npoints) # in keV\n",
    "        \n",
    "    sum_int1 = 0.\n",
    "    sum_int2 = 0.\n",
    "    list_term1=[]\n",
    "    list_term2=[]\n",
    "\n",
    "    for energy in w_to_loop:\n",
    "        #calculate f(E)\n",
    "        f = return_sigma_gamma_from_index(return_sandia_value(energy),energy)\n",
    "        beta = beta_from_energy(400000+938)[1]\n",
    "        term_inside_log = 2*.511*1e3*beta*beta/((1. - beta*beta)*(energy*1e3))\n",
    "        term1 = f/E * (np.log(term_inside_log) - beta*beta + 1. - (energy/E_max))#energy/Emax\n",
    "        #in keV\n",
    "        list_term1.append([f,beta,term_inside_log,term1])\n",
    "        #multiply term1 by dE\n",
    "        sum_int1 += term1*deltaw\n",
    "\n",
    "    for energy2 in w_to_loop2:\n",
    "\n",
    "        term2 = ((0.001/(energy))-(0.001/E_max))*f\n",
    "        list_term2.append(term2)\n",
    "        sum_int2 += term2*deltaw\n",
    "\n",
    "    sum_int = sum_int1+sum_int2    \n",
    "    return sum_int"
   ]
  },
  {
   "cell_type": "code",
   "execution_count": 22,
   "metadata": {
    "collapsed": false
   },
   "outputs": [
    {
     "name": "stdout",
     "output_type": "stream",
     "text": [
      "4.76E+08\n"
     ]
    }
   ],
   "source": [
    "E_max = 127.*1e6 #Emax is the kinematically maximum energy transfer\n",
    "E=4.17*1e-3\n",
    "Npoints = 10000\n",
    "\n",
    "print '%.2E' % (return_bins(4.17*1e-3,E_max,Npoints) - return_bins(5*1e-3,E_max,Npoints))"
   ]
  },
  {
   "cell_type": "code",
   "execution_count": 23,
   "metadata": {
    "collapsed": false
   },
   "outputs": [],
   "source": [
    "#Create bins\n",
    "#w = np.linspace(1.e-2,10.,10000) #to be given in keV\n",
    "#deltaw = w[2]-w[1]\n",
    "#E=4.17*1e-3\n",
    "#w_to_loop = np.linspace(E,E_max,Npoints) # in keV\n",
    "#w_to_loop2 = np.linspace(0,E,Npoints) # in keV\n",
    "list_energies=[]\n",
    "for energy2 in [4.17,5,6,7,8.34,27.28,126*1e9]:\n",
    "    \n",
    "    list_energies.append([energy2,return_bins(energy2*1.e-3,E_max,Npoints)])\n"
   ]
  },
  {
   "cell_type": "code",
   "execution_count": 24,
   "metadata": {
    "collapsed": false
   },
   "outputs": [
    {
     "data": {
      "text/plain": [
       "[<matplotlib.lines.Line2D at 0x108887b10>]"
      ]
     },
     "execution_count": 24,
     "metadata": {},
     "output_type": "execute_result"
    },
    {
     "data": {
      "image/png": "[encoded data removed]",
      "text/plain": [
       "<matplotlib.figure.Figure at 0x1047f21d0>"
      ]
     },
     "metadata": {},
     "output_type": "display_data"
    }
   ],
   "source": [
    "plt.plot(np.array(list_energies)[:,0],np.array(list_energies)[:,1])"
   ]
  },
  {
   "cell_type": "code",
   "execution_count": 30,
   "metadata": {
    "collapsed": false
   },
   "outputs": [
    {
     "name": "stdout",
     "output_type": "stream",
     "text": [
      "collisions releasing between 4.17 and 8.34 eV\n",
      "9.84E+08\n",
      "collisions releasing between 8.34 and 27.28 eV\n",
      "1.31E+08\n",
      "collisions releasing between 27.28 and E_max eV\n",
      "3.57E+06\n"
     ]
    }
   ],
   "source": [
    "print 'collisions releasing between 4.17 and 8.34 eV'\n",
    "print '%.2E' % (return_bins(4.17*1.e-3,E_max,Npoints) - return_bins(8.34*1.e-3,E_max,Npoints))\n",
    "\n",
    "print 'collisions releasing between 8.34 and 27.28 eV'\n",
    "print '%.2E' % (return_bins(8.34*1.e-3,E_max,Npoints) - return_bins(27.28*1.e-3,E_max,Npoints))\n",
    "\n",
    "print 'collisions releasing between 27.28 and E_max eV'\n",
    "print '%.2E' % (return_bins(27.28*1.e-3,E_max,Npoints) - return_bins(E_max-0.000001,E_max,Npoints))\n",
    "\n",
    "# \n",
    "#553774862027.0\n",
    "\n",
    "# from 27.28 to 127 GeV\n",
    "#5133404.9979"
   ]
  },
  {
   "cell_type": "code",
   "execution_count": null,
   "metadata": {
    "collapsed": false
   },
   "outputs": [],
   "source": []
  },
  {
   "cell_type": "code",
   "execution_count": null,
   "metadata": {
    "collapsed": false
   },
   "outputs": [],
   "source": []
  },
  {
   "cell_type": "code",
   "execution_count": null,
   "metadata": {
    "collapsed": false
   },
   "outputs": [],
   "source": []
  },
  {
   "cell_type": "code",
   "execution_count": null,
   "metadata": {
    "collapsed": true
   },
   "outputs": [],
   "source": []
  }
 ],
 "metadata": {
  "kernelspec": {
   "display_name": "Python 2",
   "language": "python",
   "name": "python2"
  },
  "language_info": {
   "codemirror_mode": {
    "name": "ipython",
    "version": 2
   },
   "file_extension": ".py",
   "mimetype": "text/x-python",
   "name": "python",
   "nbconvert_exporter": "python",
   "pygments_lexer": "ipython2",
   "version": "2.7.12"
  }
 },
 "nbformat": 4,
 "nbformat_minor": 0
}
