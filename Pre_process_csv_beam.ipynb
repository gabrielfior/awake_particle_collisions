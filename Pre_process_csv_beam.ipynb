{
 "cells": [
  {
   "cell_type": "code",
   "execution_count": 1,
   "metadata": {
    "collapsed": true
   },
   "outputs": [],
   "source": [
    "import numpy as np\n",
    "import pandas as pd\n",
    "import datetime"
   ]
  },
  {
   "cell_type": "code",
   "execution_count": 2,
   "metadata": {
    "collapsed": false
   },
   "outputs": [
    {
     "name": "stdout",
     "output_type": "stream",
     "text": [
      "elapsed: 0:00:00.024907\n"
     ]
    }
   ],
   "source": [
    "# Read file\n",
    "filename = '/home/iwsatlas1/fior/10cm_1e6_400GeV_Rb10minus4_beam_cut1_5mm_nt_B4_g.csv'\n",
    "columns_new3 = ['trackId','parentId','volumeName','particleName','stepNumber',\n",
    "                                               'posX','posY','posZ','perp','kineeticEnergyDiff',\n",
    "                                               'edepStep','kineticEnergyPostStep','processName',\n",
    "                                'mompreX','mompreY','mompreZ','momposX','momposY','momposZ','stepLength']#,'ParticleId']\n",
    "\n",
    "t0 = datetime.datetime.now()\n",
    "df = pd.read_csv(filename,\n",
    "                 skiprows=24,header=None,nrows=1e4,#17*1e6\n",
    "                 names=columns_new3,\n",
    "                 index_col=None\n",
    "                )\n",
    "\n",
    "\n",
    "print 'elapsed: '+str(datetime.datetime.now()-t0)"
   ]
  },
  {
   "cell_type": "code",
   "execution_count": 3,
   "metadata": {
    "collapsed": false
   },
   "outputs": [],
   "source": [
    "df['index_col'] = df.index"
   ]
  },
  {
   "cell_type": "code",
   "execution_count": 4,
   "metadata": {
    "collapsed": false
   },
   "outputs": [],
   "source": [
    "#number event lines, make zip from (line_number,event_num)\n",
    "\n",
    "array_indexes = (df[df.volumeName=='event'].index)\n",
    "#volumeName=='event'\n",
    "array_event_numbers = range(1,len(array_indexes)+1)\n",
    "zip_array = zip(array_indexes,array_event_numbers)\n"
   ]
  },
  {
   "cell_type": "code",
   "execution_count": 5,
   "metadata": {
    "collapsed": false
   },
   "outputs": [
    {
     "name": "stdout",
     "output_type": "stream",
     "text": [
      "(15, 1)\n"
     ]
    }
   ],
   "source": [
    "#print array_indexes\n",
    "#print array_event_numbers\n",
    "print zip_array[0]\n",
    "#print zip_array\n"
   ]
  },
  {
   "cell_type": "code",
   "execution_count": 6,
   "metadata": {
    "collapsed": true
   },
   "outputs": [],
   "source": [
    "def calculate_particle_id(row):\n",
    "    for i in range(len(zip_array)-1):\n",
    "        if row['index_col']>zip_array[i][0] and row['index_col']<zip_array[i+1][0]:\n",
    "            return zip_array[i][1]\n",
    "            break\n",
    "        elif row['index_col']<zip_array[i][0]:\n",
    "            return 0\n",
    "            break"
   ]
  },
  {
   "cell_type": "code",
   "execution_count": 7,
   "metadata": {
    "collapsed": false
   },
   "outputs": [
    {
     "name": "stdout",
     "output_type": "stream",
     "text": [
      "started: 2017-03-06 18:16:37.508019\n",
      "ended, elapsed : 0:01:31.808686\n"
     ]
    }
   ],
   "source": [
    "t0 = datetime.datetime.now()\n",
    "print 'started: '+ str(t0)\n",
    "df['particleIdNew'] = df.apply(calculate_particle_id,axis=1)\n",
    "print 'ended, elapsed : '+str(datetime.datetime.now()-t0)"
   ]
  },
  {
   "cell_type": "code",
   "execution_count": null,
   "metadata": {
    "collapsed": false
   },
   "outputs": [],
   "source": [
    "#drop event rows\n",
    "df = df[df.volumeName != 'event']"
   ]
  },
  {
   "cell_type": "code",
   "execution_count": null,
   "metadata": {
    "collapsed": true
   },
   "outputs": [],
   "source": [
    "df.head(100)"
   ]
  },
  {
   "cell_type": "code",
   "execution_count": null,
   "metadata": {
    "collapsed": true
   },
   "outputs": [],
   "source": [
    "#export csv\n",
    "df.to_csv(filename[:-4]+'_proc.csv',header=False,index=False)"
   ]
  },
  {
   "cell_type": "code",
   "execution_count": null,
   "metadata": {
    "collapsed": false
   },
   "outputs": [],
   "source": [
    "#Import file to see how did it go\n",
    "df_test = pd.read_csv(filename[:-4]+'_proc.csv',\n",
    "                 skiprows=0,header=None,#nrows=1e3,#17*1e6\n",
    "                 #names=columns_new3,\n",
    "                 index_col=None\n",
    "                )"
   ]
  },
  {
   "cell_type": "code",
   "execution_count": 9,
   "metadata": {
    "collapsed": false
   },
   "outputs": [
    {
     "ename": "NameError",
     "evalue": "name 'python' is not defined",
     "output_type": "error",
     "traceback": [
      "\u001b[0;31m---------------------------------------------------------------------------\u001b[0m",
      "\u001b[0;31mNameError\u001b[0m                                 Traceback (most recent call last)",
      "\u001b[0;32m<ipython-input-9-371b8c7a7c2c>\u001b[0m in \u001b[0;36m<module>\u001b[0;34m()\u001b[0m\n\u001b[0;32m----> 1\u001b[0;31m \u001b[0mpython\u001b[0m\u001b[0;34m.\u001b[0m\u001b[0m__version__\u001b[0m\u001b[0;34m\u001b[0m\u001b[0m\n\u001b[0m",
      "\u001b[0;31mNameError\u001b[0m: name 'python' is not defined"
     ]
    }
   ],
   "source": [
    "python.__version__"
   ]
  },
  {
   "cell_type": "code",
   "execution_count": null,
   "metadata": {
    "collapsed": true
   },
   "outputs": [],
   "source": []
  }
 ],
 "metadata": {
  "kernelspec": {
   "display_name": "Python 2",
   "language": "python",
   "name": "python2"
  },
  "language_info": {
   "codemirror_mode": {
    "name": "ipython",
    "version": 2
   },
   "file_extension": ".py",
   "mimetype": "text/x-python",
   "name": "python",
   "nbconvert_exporter": "python",
   "pygments_lexer": "ipython2",
   "version": "2.7.13"
  }
 },
 "nbformat": 4,
 "nbformat_minor": 2
}
