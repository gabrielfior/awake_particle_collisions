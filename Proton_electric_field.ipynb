{
 "cells": [
  {
   "cell_type": "code",
   "execution_count": null,
   "metadata": {
    "collapsed": false
   },
   "outputs": [],
   "source": [
    "import numpy as np\n",
    "import matplotlib.pyplot as plt\n",
    "from mpl_toolkits.mplot3d.axes3d import Axes3D, get_test_data\n",
    "#%matplotlib notebook\n",
    "%matplotlib inline"
   ]
  },
  {
   "cell_type": "code",
   "execution_count": null,
   "metadata": {
    "collapsed": false
   },
   "outputs": [],
   "source": [
    "x = np.linspace(-10,10,20)\n",
    "y = np.linspace(-10,10,20)\n",
    "z = np.linspace(-10,10,20)\n",
    "xx,yy,zz = np.meshgrid(x,y,z,indexing='ij')\n",
    "xxx,yyy = np.meshgrid(x,y,indexing='ij')"
   ]
  },
  {
   "cell_type": "code",
   "execution_count": null,
   "metadata": {
    "collapsed": false
   },
   "outputs": [],
   "source": [
    "q = 1.\n",
    "v = 1.\n",
    "c=3.\n",
    "gamma = 4.\n",
    "list_es=[]\n",
    "for time1 in range(5):\n",
    "    #calculate electric field\n",
    "    common_denom = ((gamma*(xx-v*time1))**2 + yy**2 + zz**2)**1.5\n",
    "    print common_denom.max(),common_denom.min()\n",
    "    Ex = gamma*(xx-v*time1)/common_denom\n",
    "    Ey = gamma*yy/common_denom\n",
    "    Ez = gamma*zz/common_denom    \n",
    "    E = np.array([Ex,Ey,Ez])\n",
    "    #calculate magnetic field\n",
    "    Bx = np.zeros_like(Ez)\n",
    "    By = -v*Ez/c /c\n",
    "    Bz = v*Ey/c /c\n",
    "    B = np.array([Bx,By,Bz])\n",
    "    \n",
    "    list_es.append(E)"
   ]
  },
  {
   "cell_type": "code",
   "execution_count": null,
   "metadata": {
    "collapsed": false
   },
   "outputs": [],
   "source": [
    "from mpl_toolkits.mplot3d import Axes3D\n",
    "from matplotlib import pyplot as plt\n",
    "import numpy as np\n",
    "\n",
    "\n",
    "fig = plt.figure(2)\n",
    "ax = fig.add_subplot(111, projection='3d')\n",
    "\n",
    "# Create the mesh in polar coordinates and compute corresponding Z.\n",
    "r = np.linspace(0, 1.25, 50)\n",
    "p = np.linspace(0, 2*np.pi, 50)\n",
    "R, P = np.meshgrid(r, p)\n",
    "Z = ((R**2 - 1)**2)\n",
    "\n",
    "# Express the mesh in the cartesian system.\n",
    "X, Y = R*np.cos(P), R*np.sin(P)\n",
    "\n",
    "# Plot the surface.\n",
    "ax.plot_surface(X, Y, Z, cmap=plt.cm.YlGnBu_r)\n",
    "\n",
    "# Tweak the limits and add latex math labels.\n",
    "ax.set_zlim(0, 1)\n",
    "ax.set_xlabel(r'$\\phi_\\mathrm{real}$')\n",
    "ax.set_ylabel(r'$\\phi_\\mathrm{im}$')\n",
    "ax.set_zlabel(r'$V(\\phi)$')\n",
    "\n",
    "plt.show()"
   ]
  },
  {
   "cell_type": "code",
   "execution_count": null,
   "metadata": {
    "collapsed": false
   },
   "outputs": [],
   "source": [
    "fig = plt.figure(2)\n",
    "ax = fig.add_subplot(111, projection='3d')\n",
    "ax.plot_surface(Ex[0,:,:],Ex[:,0,:],Ex[:,:,0], cmap=plt.cm.YlGnBu_r)\n",
    "plt.show()"
   ]
  },
  {
   "cell_type": "code",
   "execution_count": null,
   "metadata": {
    "collapsed": false
   },
   "outputs": [],
   "source": [
    "print X.shape,Y.shape,Z.shape,R.shape,P.shape"
   ]
  },
  {
   "cell_type": "code",
   "execution_count": null,
   "metadata": {
    "collapsed": false
   },
   "outputs": [],
   "source": [
    "\"\"\"\n",
    "# Set limits and number of points in grid\n",
    "y, x = np.mgrid[10:-10:100j, 10:-10:100j]\n",
    "\n",
    "x_obstacle, y_obstacle = -5.0, 0.0\n",
    "alpha_obstacle, a_obstacle, b_obstacle = 1.0, 1e3, 1e3\n",
    "\n",
    "field = -alpha_obstacle * np.exp(-((x - x_obstacle)**2 / a_obstacle\n",
    "                               + (y - y_obstacle)**2 / b_obstacle))\n",
    "\n",
    "dy, dx = np.gradient(field, np.diff(y[:2, 0]), np.diff(x[0, :2]))\n",
    "skip = (slice(None, None, 3), slice(None, None, 3))\n",
    "\n",
    "fig, ax = plt.subplots()\n",
    "im = ax.imshow(field, extent=[x.min(), x.max(), y.min(), y.max()])\n",
    "#ax.quiver(x[skip], y[skip], dx[skip], dy[skip])\n",
    "\n",
    "fig.colorbar(im)\n",
    "ax.set(aspect=1, title='Quiver Plot')\n",
    "plt.show()\n",
    "\"\"\""
   ]
  },
  {
   "cell_type": "markdown",
   "metadata": {},
   "source": [
    "# Try to use coordinates z, r"
   ]
  },
  {
   "cell_type": "code",
   "execution_count": null,
   "metadata": {
    "collapsed": true
   },
   "outputs": [],
   "source": [
    "z = np.linspace(-10,10,20)\n",
    "r = np.linspace(-10,10,20)\n",
    "rr,zz = np.meshgrid(z,r,indexing='ij')"
   ]
  },
  {
   "cell_type": "code",
   "execution_count": null,
   "metadata": {
    "collapsed": false
   },
   "outputs": [],
   "source": [
    "#Define electric fields and magnetic fields\n",
    "gamma=4.\n",
    "v=1.\n",
    "qover4pieps = 1.6*1e-19/(4*np.pi*8.85*1e-12)\n",
    "list1=[]\n",
    "for time1 in range(5):\n",
    "    common_denom = ((gamma*(zz-v*time1))**2 + rr**2)**1.5\n",
    "    Ez = qover4pieps*gamma*(zz-v*time1)/common_denom\n",
    "    Er = np.sqrt(((qover4pieps*gamma*rr)**2)/common_denom)**0.5\n",
    "        \n",
    "    Bz = 0.\n",
    "    Br = v/ (c**2) * Er\n",
    "    \n",
    "    list1.append([Ez,Er])"
   ]
  },
  {
   "cell_type": "code",
   "execution_count": null,
   "metadata": {
    "collapsed": false
   },
   "outputs": [],
   "source": [
    "fig = plt.figure(3)\n",
    "fig.add_subplot(121)\n",
    "plt.imshow(Er)\n",
    "plt.title('Er')\n",
    "plt.colorbar()\n",
    "fig.add_subplot(122)\n",
    "plt.imshow(Ez)\n",
    "plt.title('Ez')\n",
    "plt.colorbar()\n",
    "plt.tight_layout()\n",
    "plt.show()\n"
   ]
  },
  {
   "cell_type": "code",
   "execution_count": null,
   "metadata": {
    "collapsed": false
   },
   "outputs": [],
   "source": [
    "plt.subplot(511)\n",
    "plt.imshow(list1[0][1])\n",
    "plt.subplot(512)\n",
    "plt.imshow(list1[1][1])\n",
    "plt.subplot(513)\n",
    "plt.imshow(list1[2][1])\n",
    "plt.subplot(514)\n",
    "plt.imshow(list1[3][1])\n",
    "plt.subplot(515)\n",
    "plt.imshow(list1[4][1])\n",
    "\n",
    "plt.show()"
   ]
  },
  {
   "cell_type": "markdown",
   "metadata": {},
   "source": [
    "# New scenario (x,y,z coords)"
   ]
  },
  {
   "cell_type": "code",
   "execution_count": 1,
   "metadata": {
    "collapsed": false
   },
   "outputs": [
    {
     "name": "stderr",
     "output_type": "stream",
     "text": [
      "/Users/gabrielfior/anaconda/lib/python2.7/site-packages/matplotlib/font_manager.py:273: UserWarning: Matplotlib is building the font cache using fc-list. This may take a moment.\n",
      "  warnings.warn('Matplotlib is building the font cache using fc-list. This may take a moment.')\n"
     ]
    }
   ],
   "source": [
    "import numpy as np\n",
    "import matplotlib.pyplot as plt\n",
    "\n",
    "%matplotlib inline"
   ]
  },
  {
   "cell_type": "code",
   "execution_count": 56,
   "metadata": {
    "collapsed": false
   },
   "outputs": [
    {
     "name": "stdout",
     "output_type": "stream",
     "text": [
      "426.401725859\n"
     ]
    }
   ],
   "source": [
    "q=1.6*1e-19\n",
    "vp = 0.99999725*3*1e8 #m/s\n",
    "c = 3*1e8 #m/s\n",
    "fourpiepsilon0 = 4*np.pi*8.85*1e-12\n",
    "gamma = np.sqrt(1/(1 - (vp/c)**2))\n",
    "print gamma\n",
    "x_el = 0.\n",
    "y_el = 1.e-2 #m\n",
    "z_el=0.\n",
    "z_proton=0.\n",
    "vx_el = 0.\n",
    "vy_el = 0.\n",
    "vz_el = vp\n",
    "m_el= 9.31*1e-31 #kg"
   ]
  },
  {
   "cell_type": "code",
   "execution_count": 57,
   "metadata": {
    "collapsed": false
   },
   "outputs": [],
   "source": [
    "\n",
    "deltat = 1.e-9\n",
    "time1=0\n",
    "count_iters = 0\n",
    "list_pos=[]\n",
    "list_vels=[]\n",
    "list_proton=[]\n",
    "list_acs=[]\n",
    "list_es=[]\n",
    "while time1<200*1e-9:\n",
    "    #Calculate E - z propagation\n",
    "    deltaz = z_proton - z_el\n",
    "    com_den = (q/fourpiepsilon0)* ((gamma*gamma*(deltaz - vp*time1)*(deltaz - vp*time1) +y_el**2 + x_el**2))**(-1.5)\n",
    "    Ex = gamma*(x_el)*com_den\n",
    "    Ey = gamma*(y_el)*com_den\n",
    "    Ez = gamma*(deltaz-vp*time1)*com_den\n",
    "    E = np.array([Ex,Ey,Ez])\n",
    "    list_es.append([Ex,Ey,Ez])\n",
    "    # not needed to consider B, since in lab frame electron at rest\n",
    "    F_el = -q*E\n",
    "    \n",
    "    #iterate position for electron\n",
    "    ax = F_el[0]/m_el \n",
    "    ay = F_el[1]/m_el \n",
    "    az = F_el[2]/m_el \n",
    "    vx_el += ax*deltat\n",
    "    vy_el += ay *deltat\n",
    "    vz_el += az *deltat\n",
    "    \n",
    "    x_el += vx_el*deltat\n",
    "    y_el += vy_el*deltat\n",
    "    z_el += vz_el*deltat\n",
    "    #iterate proton\n",
    "    \n",
    "    \n",
    "    count_iters +=1\n",
    "    z_proton += vp*deltat\n",
    "\n",
    "\n",
    "    list_pos.append([x_el,y_el,z_el])\n",
    "    list_vels.append([vx_el,vy_el,vz_el])\n",
    "    list_acs.append([ax,ay,az])\n",
    "    \n",
    "    list_proton.append([z_proton,vp])\n",
    "    time1 += deltat\n",
    "\n",
    "list_pos2 = np.array(list_pos)\n",
    "list_vels2 = np.array(list_vels)"
   ]
  },
  {
   "cell_type": "code",
   "execution_count": 54,
   "metadata": {
    "collapsed": false
   },
   "outputs": [
    {
     "name": "stdout",
     "output_type": "stream",
     "text": [
      "8.59131847244e-23 0.00999167059986\n",
      "-6.29053516315e-11 426.401725859 201\n",
      "60.3\n",
      "#\n"
     ]
    }
   ],
   "source": [
    "#print list_pos2[:,1]\n",
    "#plt.plot(list_pos2[:,1])\n",
    "#plt.plot()\n",
    "print com_den, y_el\n",
    "print ay, gamma, count_iters\n",
    "print time1*3*1e8\n",
    "print '#'\n"
   ]
  },
  {
   "cell_type": "code",
   "execution_count": 63,
   "metadata": {
    "collapsed": false
   },
   "outputs": [
    {
     "data": {
      "image/png": "[encoded data removed]",
      "text/plain": [
       "<matplotlib.figure.Figure at 0x10702e090>"
      ]
     },
     "metadata": {},
     "output_type": "display_data"
    }
   ],
   "source": [
    "#list_es[0]\n",
    "#list_pos2[:,1]\n",
    "plt.plot(list_pos2[:,1])\n",
    "plt.title('Last y: '+str(list_pos2[:,1][-1]))\n",
    "plt.tight_layout()\n",
    "plt.show()"
   ]
  },
  {
   "cell_type": "code",
   "execution_count": null,
   "metadata": {
    "collapsed": false
   },
   "outputs": [],
   "source": []
  },
  {
   "cell_type": "code",
   "execution_count": null,
   "metadata": {
    "collapsed": true
   },
   "outputs": [],
   "source": []
  }
 ],
 "metadata": {
  "kernelspec": {
   "display_name": "Python 2",
   "language": "python",
   "name": "python2"
  },
  "language_info": {
   "codemirror_mode": {
    "name": "ipython",
    "version": 2
   },
   "file_extension": ".py",
   "mimetype": "text/x-python",
   "name": "python",
   "nbconvert_exporter": "python",
   "pygments_lexer": "ipython2",
   "version": "2.7.12"
  }
 },
 "nbformat": 4,
 "nbformat_minor": 0
}
