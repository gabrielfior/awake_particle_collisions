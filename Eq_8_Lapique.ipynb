{
 "cells": [
  {
   "cell_type": "code",
   "execution_count": 1,
   "metadata": {
    "collapsed": false
   },
   "outputs": [
    {
     "name": "stderr",
     "output_type": "stream",
     "text": [
      "/Users/gabrielfior/anaconda/lib/python2.7/site-packages/matplotlib/font_manager.py:273: UserWarning: Matplotlib is building the font cache using fc-list. This may take a moment.\n",
      "  warnings.warn('Matplotlib is building the font cache using fc-list. This may take a moment.')\n"
     ]
    }
   ],
   "source": [
    "import numpy as np\n",
    "import scipy.integrate as integrate1\n",
    "import matplotlib.pyplot as plt\n",
    "%matplotlib inline"
   ]
  },
  {
   "cell_type": "code",
   "execution_count": 2,
   "metadata": {
    "collapsed": true
   },
   "outputs": [],
   "source": [
    "def return_sandia_value(E,material='Rb'):\n",
    "    #// fSandiaTable [n][0]    - left energy borders in   keV   !!!\n",
    "    #00054 // fSandiaTable [n][1-4]  - Photoelectric cross-section coefficients\n",
    "    #00055 //                          in cm^2 keV^(1-4)/g , respectively\n",
    "    #https://www-zeuthen.desy.de/geant4/geant4.9.3.b01/G4StaticSandiaData_8hh-source.html\n",
    "    sandia_Rb = np.array((\n",
    "[0.01,0.4606E+04,0.0000E+00,0.0000E+00, 0.0000E+00],\n",
    "[0.0305,       0.1441E+04, -0.1761E+03,  0.6821E+01,  0.4470E-01 ] ,\n",
    "[ 0.111,       -0.6763E+03,  0.6772E+04, -0.1372E+04,  0.7035E+02 ] ,\n",
    "[ 0.3,         -0.3457E+03,  0.2591E+04,  0.1242E+04, -0.3481E+03] ,\n",
    "[1.805,        0.3524E+03, -0.3194E+04,  0.1657E+05,  0.1224E+05 ] ,\n",
    "[ 1.863,       -0.4025E+03,  0.1067E+05,  0.8396E+04, -0.2275E+04 ] ,\n",
    "[2.065,        0.5234E+01,  0.7494E+03,  0.5033E+05, -0.4276E+05 ] ,\n",
    "[15.2,        -0.2207E+01,  0.2653E+03,  0.6269E+06, -0.3163E+07 ] ,\n",
    "[100.0,        0.1101E+01, -0.4280E+03,  0.6664E+06, -0.3481E+07 ] ,\n",
    "[ 500.0,        0.3467E+00,  0.4515E+03,  0.3525E+06,  0.2783E+08 ] \n",
    "    ))    \n",
    "    sandia_Ar = np.array((\n",
    "    [ 0.01,        -8.294E+04,   5.720E+03,  -1.101E+02,   6.668E-01  ] ,\n",
    " [ 0.04,        -1.401E+03,   9.577E+02,  -7.842E+01,   1.797E+00  ] ,\n",
    " [ 0.245,       -0.2244E+03,  0.1388E+04,  0.2571E+04, -0.5113E+03 ] ,\n",
    " [ 3.203,       -0.1446E+02,  0.4359E+03,  0.6578E+05, -0.7284E+05 ] ,\n",
    " [ 20.0,         0.8786E+00, -0.3001E+03,  0.7682E+05, -0.1219E+06 ] ,\n",
    " [ 100.0,        0.6779E-01, -0.2695E+02,  0.5069E+05,  0.5281E+06 ] ,\n",
    "  [500.0,        0.2598E-01,  0.3454E+02,  0.1059E+05,  0.1068E+08 ] \n",
    "))\n",
    "\n",
    "    if material=='Rb':\n",
    "        sandia=sandia_Rb\n",
    "    elif material=='Ar':\n",
    "        sandia=sandia_Ar\n",
    "\n",
    "    index1 = sandia.shape[0]\n",
    "    index_return = index1-1\n",
    "    try:\n",
    "        for i in range(index1):\n",
    "            if E == sandia[i,0]:\n",
    "                index_return = i\n",
    "            elif E>sandia[i,0] and E<sandia[i+1,0]:\n",
    "                index_return = i\n",
    "            elif E>sandia[-1,0]:\n",
    "                index_return=index1-1\n",
    "                break\n",
    "            elif E<sandia[0,0]:\n",
    "                index_return=0\n",
    "                break\n",
    "            \n",
    "    except IndexError:\n",
    "        pass\n",
    "        \n",
    "    list1 = list(sandia[index_return])\n",
    "    list1=list1[1:]\n",
    "    #print list1\n",
    "    sum_terms = 0.\n",
    "    #print E\n",
    "    for i,j in enumerate(list1):\n",
    "        \n",
    "        sum_terms += j/np.power(E,(i+1))  \n",
    "    \n",
    "    \n",
    "    #return sandia[index_return], sum_terms\n",
    "    return E,sum_terms"
   ]
  },
  {
   "cell_type": "code",
   "execution_count": 3,
   "metadata": {
    "collapsed": true
   },
   "outputs": [],
   "source": [
    "def beta_from_energy(E):\n",
    "    \"\"\"\n",
    "    E given in eV\n",
    "    \"\"\"\n",
    "    exp1 = E/(938.)\n",
    "    beta = np.sqrt(1. - ((1/exp1)**2))\n",
    "    gamma = 1./np.sqrt(1.-(beta*beta))\n",
    "    Ekmax = 2*.511*gamma**2\n",
    "    me_m = 1./1836.\n",
    "    Ekright = 2.*.511*(beta**2)*(gamma**2)/(1.+2*(me_m)*gamma + (me_m**2))\n",
    "    return gamma,beta,Ekmax,Ekright"
   ]
  },
  {
   "cell_type": "code",
   "execution_count": 4,
   "metadata": {
    "collapsed": false
   },
   "outputs": [],
   "source": [
    "# fc = sigma_gamma/(1.097x1e-16 x 18) 18 = Z_argon"
   ]
  },
  {
   "cell_type": "code",
   "execution_count": 36,
   "metadata": {
    "collapsed": false
   },
   "outputs": [],
   "source": [
    "# Calculate 10 eV for argon\n",
    "def calculate_fig_21(E,particle_energy):\n",
    "    #E=10. #ev\n",
    "    #particle_energy = 1e12 #ev\n",
    "    Emax = beta_from_energy((particle_energy/1e6)+938)[-1] *1e6 # in eV\n",
    "    Emax = 100.*1e3 #eV\n",
    "    beta = beta_from_energy((particle_energy/1e6)+938)[1]\n",
    "    term1 = (1./E) - (1./Emax)\n",
    "    A = 0.000110592*1e6 #ev/cm \n",
    "    #obtain linearly spaced f(E) between 0 and E, then integrate\n",
    "\n",
    "    nterms = 1000\n",
    "    list_f_e=[]\n",
    "    list_energies=[]\n",
    "    for j in np.linspace(0.01,E/1.e3,nterms,endpoint=True):#eV\n",
    "        f_e = return_sandia_value(j,'Ar')[1]*(40./(6.*1.097*18.))*1.e-5 #send in keV\n",
    "        list_f_e.append(f_e)\n",
    "        list_energies.append(j)\n",
    "\n",
    "    nterms2=1000\n",
    "    list_f_e2=[]\n",
    "    list_energies2=[]\n",
    "    for jj in np.linspace(E,Emax,nterms2,endpoint=True):\n",
    "        f_e_term2 = return_sandia_value(jj/1.e3,'Ar')[1]*(40./(6.*1.097*18.))*1e-5\n",
    "        list_f_e2.append(f_e_term2)\n",
    "        list_energies2.append(jj)\n",
    "\n",
    "    #term1\n",
    "    array_f_e=np.array(list_f_e)\n",
    "    array_energies=np.array(list_energies)\n",
    "    #integrate\n",
    "    #int_from_f = integrate1.romb(array_f_e)\n",
    "    int_from_f = integrate1.simps(array_f_e,array_energies)\n",
    "    term1 *= int_from_f\n",
    "    #term2\n",
    "    #integrate from E to Emax [(A/beta**2)*f_e/E * log(2*mec^2 *beta**2 /(1-beta**2)E) - beta**2 +1\n",
    "    #- E/Emax]dE\n",
    "    mec2 = .511*1e6 #ev\n",
    "    array_f_e2=np.array(list_f_e2)\n",
    "    array_energies2=np.array(list_energies2)\n",
    "    array_f_e3 = (array_f_e2 / array_energies2)*\\\n",
    "    (np.log(2*mec2*beta*beta/((1-beta*beta)*array_energies2))- beta**2 +1 - (array_energies2/Emax))\n",
    "\n",
    "    #print 'log: '+str(np.log(2*mec2*beta*beta/((1-beta*beta)*array_energies2)))\n",
    "    term2 = integrate1.simps(array_f_e3,array_energies2)\n",
    "\n",
    "    final_term = (A/beta**2)*(term2+term1)\n",
    "    return final_term"
   ]
  },
  {
   "cell_type": "code",
   "execution_count": 28,
   "metadata": {
    "collapsed": true
   },
   "outputs": [],
   "source": [
    "# Calculate 10 eV for argon\n",
    "def calculate_dsigmadE(E,particle_energy):\n",
    "    #E=10. #ev\n",
    "    #particle_energy = 1e12 #ev\n",
    "    #Emax = beta_from_energy((particle_energy/1e6)+938)[-1] *1e6 # in eV\n",
    "    #Emax = 100.*1e3 #eV\n",
    "    beta = beta_from_energy((particle_energy/1e6)+938)[1]\n",
    "    Z=18.\n",
    "    molar_mass = 40.\n",
    "    conversion_factor = molar_mass/(6.*1.e23)\n",
    "    # get values from sandia table then convert to right unit\n",
    "    term1a = return_sandia_value(E/1.e3,'Ar')[1]*conversion_factor*np.log(2.*511.*1e3*beta/(E)) / (E*Z)\n",
    "    #print 'term1a : '+str(term1a)\n",
    "\n",
    "    nterms = 1000\n",
    "    list_sigma_for_integral=[]\n",
    "    list_energies=[]\n",
    "    for j in np.linspace(0.01,E/1.e3,nterms):#eV\n",
    "        sigmadE = return_sandia_value(j,'Ar')[1]*conversion_factor #send in keV\n",
    "        list_sigma_for_integral.append(sigmadE)\n",
    "        list_energies.append(j)\n",
    "                          \n",
    "\n",
    "    array_sigma=np.array(list_sigma_for_integral)\n",
    "    array_energies=np.array(list_energies)\n",
    "    #integrate\n",
    "    #int_from_f = integrate1.romb(array_f_e)\n",
    "    int_from_f = integrate1.simps(array_sigma,array_energies)                          \n",
    "    #print 'int : '+str(int_from_f)\n",
    "\n",
    "    term1b = 1./(Z*E*E) * int_from_f\n",
    "                          \n",
    "    term1 = (1./430.38/beta**2)*(term1a+term1b)\n",
    "    \n",
    "    return term1,array_sigma"
   ]
  },
  {
   "cell_type": "code",
   "execution_count": 7,
   "metadata": {
    "collapsed": false
   },
   "outputs": [
    {
     "name": "stderr",
     "output_type": "stream",
     "text": [
      "/Users/gabrielfior/anaconda/lib/python2.7/site-packages/scipy/integrate/quadrature.py:348: VisibleDeprecationWarning: using a non-integer number instead of an integer will result in an error in the future\n",
      "  x=x.reshape(tuple(shapex))\n"
     ]
    }
   ],
   "source": [
    "a,b= calculate_dsigmadE(11.,1e12)\n",
    "\n"
   ]
  },
  {
   "cell_type": "code",
   "execution_count": 8,
   "metadata": {
    "collapsed": false
   },
   "outputs": [],
   "source": [
    "#print final_term,term1,term2, A, beta\n",
    "#print len(array_energies2)"
   ]
  },
  {
   "cell_type": "code",
   "execution_count": 37,
   "metadata": {
    "collapsed": false
   },
   "outputs": [],
   "source": [
    "list_graph=[]\n",
    "list_energies=np.linspace(10.,10.*1e3,500)\n",
    "for energy1 in list_energies:\n",
    "    list_graph.append(calculate_fig_21(energy1,400.e9))\n",
    "    \n",
    "list_graph2=[]\n",
    "for energy1 in list_energies:\n",
    "    list_graph2.append(calculate_fig_21(energy1,1200.e9))\n"
   ]
  },
  {
   "cell_type": "code",
   "execution_count": 76,
   "metadata": {
    "collapsed": false
   },
   "outputs": [
    {
     "data": {
      "image/png": "[encoded data removed]",
      "text/plain": [
       "<matplotlib.figure.Figure at 0x10b219dd0>"
      ]
     },
     "metadata": {},
     "output_type": "display_data"
    }
   ],
   "source": [
    "plt.figure(1)\n",
    "plt.loglog(list_energies,np.array(list_graph))\n",
    "plt.ylabel('(dN/dx) cm-1')\n",
    "plt.xlabel('Energy (eV)')\n",
    "plt.title('Number of collisions per unit length including an energy transfer greater than E')\n",
    "#plt.loglog(list_energies,np.array(list_graph2))\n",
    "\n",
    "plt.show()\n",
    "#https://www-zeuthen.desy.de/geant4/geant4.9.3.b01/G4PAIxSection_8hh-source.html"
   ]
  },
  {
   "cell_type": "code",
   "execution_count": 11,
   "metadata": {
    "collapsed": true
   },
   "outputs": [
    {
     "data": {
      "text/plain": [
       "array([             nan,   2.74917952e+04,   9.33467198e+03,\n",
       "         7.45258427e+03,   7.50989008e+03,   7.23158899e+03,\n",
       "         6.53624894e+03,   5.63460919e+03,   4.69207196e+03,\n",
       "         3.80096045e+03,   3.00296203e+03,   2.31075107e+03,\n",
       "         1.72206837e+03,   1.22783511e+03,   8.16530573e+02,\n",
       "         4.76418902e+02,   3.56989557e+02,   3.04935764e+02,\n",
       "         3.76205530e+02,   3.56956500e+02,   3.45157213e+02,\n",
       "         3.37665965e+02,   3.32557211e+02,   3.28661314e+02,\n",
       "         3.25280040e+02,   3.22009157e+02,   3.18627058e+02,\n",
       "         3.15024528e+02,   3.11160352e+02,   3.07033276e+02,\n",
       "         3.02664367e+02,   2.98086020e+02,   2.93335207e+02,\n",
       "         2.88449433e+02,   2.83464429e+02,   2.78412922e+02,\n",
       "         2.73324088e+02,   2.68223419e+02,   2.63132830e+02,\n",
       "         2.58070899e+02,   2.53053174e+02,   2.48092505e+02,\n",
       "         2.43199363e+02,   2.38382157e+02,   2.33647509e+02,\n",
       "         2.29000520e+02,   2.24444988e+02,   2.20137800e+02,\n",
       "         2.15772028e+02,   2.11503185e+02,   2.07331624e+02,\n",
       "         2.03257164e+02,   1.99279183e+02,   1.95396703e+02,\n",
       "         1.91608455e+02,   1.87912942e+02,   1.84308481e+02,\n",
       "         1.80793254e+02,   1.77365332e+02,   1.74022716e+02,\n",
       "         1.70763350e+02,   1.67585153e+02,   1.64486024e+02,\n",
       "         1.61463865e+02,   1.58516590e+02,   1.55642129e+02,\n",
       "         1.52838444e+02,   1.50103530e+02,   1.47435420e+02,\n",
       "         2.55176665e+02,   2.51745431e+02,   2.48312147e+02,\n",
       "         2.44882497e+02,   2.41461569e+02,   2.38053909e+02,\n",
       "         2.34663570e+02,   2.31294158e+02,   2.27948873e+02,\n",
       "         2.24630544e+02,   2.21341667e+02,   2.18084431e+02,\n",
       "         2.14860750e+02,   2.11672285e+02,   2.08520469e+02,\n",
       "         2.05406528e+02,   2.02331502e+02,   1.99296258e+02,\n",
       "         1.96301511e+02,   1.93347833e+02,   1.90435674e+02,\n",
       "         1.87565365e+02,   1.84737137e+02,   1.81951126e+02,\n",
       "         1.79207386e+02,   1.76505893e+02,   1.73846557e+02,\n",
       "         1.71229226e+02,   1.68653694e+02,   1.66119706e+02,\n",
       "         1.63780981e+02,   1.61328824e+02,   1.58917206e+02,\n",
       "         1.56545728e+02,   1.54213962e+02,   1.51921460e+02,\n",
       "         1.49667750e+02,   1.47452347e+02,   1.45274748e+02,\n",
       "         1.43134441e+02,   1.41030902e+02,   1.38963598e+02,\n",
       "         1.36931991e+02,   1.34935538e+02,   1.32973691e+02,\n",
       "         1.31045902e+02,   1.29151619e+02,   1.27290293e+02,\n",
       "         1.25461373e+02,   1.23664313e+02,   1.64419670e+02,\n",
       "         1.62352201e+02,   1.60289483e+02,   1.58233926e+02,\n",
       "         1.56187721e+02,   1.54152867e+02,   1.52131096e+02,\n",
       "         1.50123949e+02,   1.48132847e+02,   1.46158979e+02,\n",
       "         1.44203439e+02,   1.42267175e+02,   1.40351010e+02,\n",
       "         1.38455659e+02,   1.36581735e+02,   1.34729741e+02,\n",
       "         1.32900152e+02,   1.31093295e+02,   1.29309498e+02,\n",
       "         1.27548955e+02,   1.25811860e+02,   1.24098332e+02,\n",
       "         1.22408448e+02,   1.20742240e+02,   1.19099701e+02,\n",
       "         1.17480792e+02,   1.15885424e+02,   1.14313532e+02,\n",
       "         1.12764973e+02,   1.11239582e+02,   1.09737210e+02,\n",
       "         1.08257687e+02,   1.06954589e+02,   1.05519769e+02,\n",
       "         1.04107136e+02,   1.02716452e+02,   1.01347468e+02,\n",
       "         9.99999258e+01,   9.86735635e+01,   9.73681097e+01,\n",
       "         9.60832723e+01,   9.48188081e+01,   9.35744166e+01,\n",
       "         9.23497962e+01,   9.11446951e+01,   8.99587905e+01,\n",
       "         8.87918114e+01,   8.76434876e+01,   8.65134946e+01,\n",
       "         8.54015626e+01,   8.43074064e+01,   8.32307393e+01,\n",
       "         8.21712975e+01,   8.11287623e+01,   8.01028740e+01,\n",
       "         7.90933368e+01,   7.80999139e+01,   7.71223150e+01,\n",
       "         7.61602732e+01,   7.52135222e+01,   7.42817835e+01,\n",
       "         7.33648330e+01,   7.24623994e+01,   7.15742116e+01,\n",
       "         7.07000580e+01,   6.98396581e+01,   6.89928066e+01,\n",
       "         6.81592306e+01,   6.73387319e+01,   6.65310454e+01,\n",
       "         6.57359613e+01,   6.49532769e+01,   6.41827356e+01,\n",
       "         6.34241404e+01,   6.26772800e+01,   6.19419636e+01,\n",
       "         6.12179518e+01,   6.05050607e+01,   5.98030929e+01,\n",
       "         5.91118551e+01,   5.84311557e+01,   5.77608093e+01,\n",
       "         5.71006311e+01,   5.64504406e+01,   5.59636319e+01,\n",
       "         5.53325463e+01,   5.47109464e+01,   5.40986469e+01,\n",
       "         5.34954826e+01,   5.29012941e+01,   5.23159037e+01,\n",
       "         5.17391919e+01,   5.11709902e+01,   5.06111296e+01,\n",
       "         5.00594995e+01,   4.95159396e+01,   4.89802894e+01,\n",
       "         4.84524464e+01,   4.79322403e+01,   4.74195729e+01,\n",
       "         4.69142769e+01,   4.64162623e+01,   4.59253657e+01,\n",
       "         4.54414822e+01,   4.49645089e+01,   4.44942918e+01,\n",
       "         4.40307501e+01,   4.35737332e+01,   4.31231486e+01,\n",
       "         4.26789036e+01,   4.22408540e+01,   4.18089139e+01,\n",
       "         4.13829786e+01,   4.09629465e+01,   4.05487360e+01,\n",
       "         4.01402140e+01,   3.97373021e+01,   3.93399060e+01,\n",
       "         3.89479339e+01,   3.85612955e+01,   3.81799015e+01,\n",
       "         3.78036645e+01,   3.74325006e+01,   3.70663428e+01,\n",
       "         3.67050729e+01,   3.63486279e+01,   3.59969299e+01,\n",
       "         3.56498823e+01,   3.53074450e+01,   3.49695248e+01,\n",
       "         3.46360497e+01,   3.43069467e+01,   3.39821452e+01,\n",
       "         3.36615755e+01,   3.33451709e+01,   3.30328636e+01,\n",
       "         3.28778655e+01,   3.25732322e+01,   3.22725043e+01,\n",
       "         3.19756202e+01,   3.16825186e+01,   3.13931215e+01,\n",
       "         3.11074066e+01,   3.08252991e+01,   3.05467418e+01,\n",
       "         3.02716611e+01,   3.00000387e+01,   2.97318033e+01,\n",
       "         2.94668847e+01,   2.92052670e+01,   2.89468816e+01,\n",
       "         2.86916602e+01,   2.84395918e+01,   2.81905911e+01,\n",
       "         2.79446473e+01,   2.77016961e+01,   2.74616737e+01,\n",
       "         2.72245730e+01,   2.69903130e+01,   2.67588870e+01,\n",
       "         2.65302164e+01,   2.63042956e+01,   2.60810491e+01,\n",
       "         2.58604719e+01,   2.56424884e+01,   2.54270963e+01,\n",
       "         2.52142213e+01,   2.50038624e+01,   2.47959471e+01,\n",
       "         2.45904751e+01,   2.43873747e+01,   2.41866292e+01,\n",
       "         2.39882223e+01,   2.37920852e+01,   2.35982202e+01,\n",
       "         2.34065586e+01,   2.32170866e+01,   2.30297910e+01,\n",
       "         2.28446045e+01,   2.26615156e+01,   2.24805121e+01,\n",
       "         2.23015283e+01,   2.21245535e+01,   2.19495776e+01,\n",
       "         2.17765363e+01,   2.16054210e+01,   2.14362223e+01,\n",
       "         2.14221899e+01,   2.12563651e+01,   2.10923614e+01,\n",
       "         2.09301717e+01,   2.07697355e+01,   2.06110461e+01,\n",
       "         2.04540793e+01,   2.02988117e+01,   2.01452381e+01,\n",
       "         1.99932990e+01,   1.98429914e+01,   1.96942923e+01,\n",
       "         1.95471800e+01,   1.94016511e+01,   1.92576483e+01,\n",
       "         1.91151691e+01,   1.89741929e+01,   1.88347005e+01,\n",
       "         1.86966715e+01,   1.85600864e+01,   1.84249444e+01,\n",
       "         1.82911901e+01,   1.81588233e+01,   1.80278256e+01,\n",
       "         1.78981800e+01,   1.77698679e+01,   1.76428722e+01,\n",
       "         1.75171755e+01,   1.73927612e+01,   1.72696125e+01,\n",
       "         1.71477128e+01,   1.70270473e+01,   1.69075992e+01,\n",
       "         1.67893530e+01,   1.66722932e+01,   1.65564048e+01,\n",
       "         1.64416912e+01,   1.63281011e+01,   1.62156382e+01,\n",
       "         1.61042892e+01,   1.59940394e+01,   1.58848567e+01,\n",
       "         1.57767640e+01,   1.56697297e+01,   1.55637406e+01,\n",
       "         1.54587837e+01,   1.53548460e+01,   1.52519159e+01,\n",
       "         1.51499801e+01,   1.50490266e+01,   1.49490431e+01,\n",
       "         1.48500179e+01,   1.49049085e+01,   1.48074395e+01,\n",
       "         1.47108946e+01,   1.46152639e+01,   1.45205354e+01,\n",
       "         1.44266983e+01,   1.43337237e+01,   1.42416373e+01,\n",
       "         1.41504107e+01,   1.40600334e+01,   1.39704955e+01,\n",
       "         1.38817866e+01,   1.37938980e+01,   1.37068192e+01,\n",
       "         1.36205224e+01,   1.35350348e+01,   1.34503287e+01,\n",
       "         1.33663950e+01,   1.32832247e+01,   1.32008089e+01,\n",
       "         1.31191203e+01,   1.30381878e+01,   1.29579839e+01,\n",
       "         1.28785002e+01,   1.27997283e+01,   1.27216601e+01,\n",
       "         1.26442693e+01,   1.25675843e+01,   1.24915793e+01,\n",
       "         1.24162462e+01,   1.23415775e+01,   1.22675482e+01,\n",
       "         1.21941865e+01,   1.21214671e+01,   1.20493827e+01,\n",
       "         1.19779079e+01,   1.19070721e+01,   1.18368502e+01,\n",
       "         1.17672354e+01,   1.16982027e+01,   1.16297815e+01,\n",
       "         1.15619482e+01,   1.14946954e+01,   1.14279987e+01,\n",
       "         1.13618881e+01,   1.12963391e+01,   1.12313457e+01,\n",
       "         1.11668835e+01,   1.11029830e+01,   1.10396201e+01,\n",
       "         1.09767708e+01,   1.10673835e+01,   1.10052735e+01,\n",
       "         1.09436792e+01,   1.08825766e+01,   1.08219969e+01,\n",
       "         1.07619164e+01,   1.07023115e+01,   1.06432135e+01,\n",
       "         1.05845989e+01,   1.05264444e+01,   1.04687814e+01,\n",
       "         1.04115864e+01,   1.03548373e+01,   1.02985649e+01,\n",
       "         1.02427462e+01,   1.01873583e+01,   1.01324329e+01,\n",
       "         1.00779472e+01,   1.00238784e+01,   9.97025844e+00,\n",
       "         9.91706462e+00,   9.86427438e+00,   9.81191978e+00,\n",
       "         9.75997797e+00,   9.70842768e+00,   9.65730034e+00,\n",
       "         9.60655543e+00,   9.55622528e+00,   9.50628766e+00,\n",
       "         9.45672038e+00,   9.40755595e+00,   9.35877227e+00,\n",
       "         9.31034730e+00,   9.26231369e+00,   9.21463126e+00,\n",
       "         9.16733276e+00,   9.12039606e+00,   9.07380028e+00,\n",
       "         9.02757761e+00,   8.98168812e+00,   8.93616474e+00,\n",
       "         8.89098585e+00,   8.84612983e+00,   8.80162976e+00,\n",
       "         8.75744590e+00,   8.71361140e+00,   8.67008661e+00,\n",
       "         8.62690476e+00,   8.58404448e+00,   8.54148399e+00,\n",
       "         8.49925792e+00,   8.61015881e+00,   8.56822861e+00,\n",
       "         8.52658738e+00,   8.48526860e+00,   8.44423293e+00,\n",
       "         8.40351393e+00,   8.36309054e+00,   8.32294174e+00,\n",
       "         8.28310118e+00,   8.24352969e+00,   8.20426097e+00,\n",
       "         8.16525594e+00,   8.12654835e+00,   8.08809899e+00,\n",
       "         8.04994244e+00,   8.01203914e+00,   7.97442299e+00,\n",
       "         7.93705505e+00,   7.89996929e+00,   7.86312683e+00,\n",
       "         7.82656168e+00,   7.79023501e+00,   7.75418089e+00,\n",
       "         7.71837878e+00,   7.68280814e+00,   7.64750310e+00,\n",
       "         7.61242500e+00,   7.57760802e+00,   7.54301324e+00,\n",
       "         7.50867584e+00,   7.47455657e+00,   7.44067151e+00,\n",
       "         7.40703677e+00,   7.37361381e+00,   7.34043701e+00,\n",
       "         7.30746788e+00,   7.27474084e+00,   7.24221745e+00,\n",
       "         7.20993217e+00,   7.17784661e+00])"
      ]
     },
     "execution_count": 11,
     "metadata": {},
     "output_type": "execute_result"
    }
   ],
   "source": [
    "np.array(list_graph)"
   ]
  },
  {
   "cell_type": "code",
   "execution_count": 24,
   "metadata": {
    "collapsed": false
   },
   "outputs": [],
   "source": [
    "list_graphdsigma=[]\n",
    "list_energies=np.linspace(11.,10.*1e3,500)\n",
    "for energy1 in list_energies:\n",
    "    list_graphdsigma.append(calculate_dsigmadE(energy1,400.e9)[0])\n",
    "\n",
    "#plt.loglog(list_energies ,list_graphdsigma)"
   ]
  },
  {
   "cell_type": "code",
   "execution_count": 25,
   "metadata": {
    "collapsed": false
   },
   "outputs": [
    {
     "data": {
      "text/plain": [
       "<matplotlib.text.Text at 0x1088ad6d0>"
      ]
     },
     "execution_count": 25,
     "metadata": {},
     "output_type": "execute_result"
    },
    {
     "data": {
      "image/png": "[encoded data removed]",
      "text/plain": [
       "<matplotlib.figure.Figure at 0x10945a590>"
      ]
     },
     "metadata": {},
     "output_type": "display_data"
    }
   ],
   "source": [
    "plt.loglog(np.array(list_energies),np.array(list_graphdsigma))\n",
    "plt.xlabel('eV')"
   ]
  },
  {
   "cell_type": "code",
   "execution_count": 41,
   "metadata": {
    "collapsed": false
   },
   "outputs": [
    {
     "name": "stdout",
     "output_type": "stream",
     "text": [
      "9706.42140425\n"
     ]
    }
   ],
   "source": [
    "#From drift chambers(1.29): <dE/dx> = int_0^inf E*N*dsigmadE*dE\n",
    "list_dsigma_129=[]\n",
    "N129 = 4.32*1e20\n",
    "list_energies_129=np.linspace(7.,10.*1e3,500)\n",
    "\n",
    "for energy1 in list_energies_129:\n",
    "    list_dsigma_129.append(calculate_dsigmadE(energy1,400.e9)[0]*energy1*N129)\n",
    "\n",
    "#integrate\n",
    "array129_sigma = np.array(list_dsigma_129)\n",
    "int129 = integrate1.simps(array129_sigma,list_energies_129)\n",
    "print int129"
   ]
  },
  {
   "cell_type": "code",
   "execution_count": 42,
   "metadata": {
    "collapsed": false
   },
   "outputs": [
    {
     "data": {
      "text/plain": [
       "2.553283184961243e-19"
      ]
     },
     "execution_count": 42,
     "metadata": {},
     "output_type": "execute_result"
    }
   ],
   "source": [
    "2*np.pi*(2.82*2.82*1e-26)*.511*1e6"
   ]
  },
  {
   "cell_type": "code",
   "execution_count": 50,
   "metadata": {
    "collapsed": false
   },
   "outputs": [
    {
     "data": {
      "text/plain": [
       "0.1569069897693629"
      ]
     },
     "execution_count": 50,
     "metadata": {},
     "output_type": "execute_result"
    }
   ],
   "source": [
    "2.6*1e16*2.5*1e-25*np.log(127*1e9/(4.17))*1e6"
   ]
  },
  {
   "cell_type": "code",
   "execution_count": 49,
   "metadata": {
    "collapsed": false
   },
   "outputs": [
    {
     "data": {
      "text/plain": [
       "2.6117647058823524e+16"
      ]
     },
     "execution_count": 49,
     "metadata": {},
     "output_type": "execute_result"
    }
   ],
   "source": [
    "1.e-7/85 *6*1e23*37"
   ]
  },
  {
   "cell_type": "code",
   "execution_count": 52,
   "metadata": {
    "collapsed": false
   },
   "outputs": [],
   "source": [
    "def calcF(energyy):\n",
    "    return (1./(4.17*energyy*energyy))"
   ]
  },
  {
   "cell_type": "code",
   "execution_count": 58,
   "metadata": {
    "collapsed": false
   },
   "outputs": [
    {
     "data": {
      "text/plain": [
       "0.01379087541346596"
      ]
     },
     "execution_count": 58,
     "metadata": {},
     "output_type": "execute_result"
    }
   ],
   "source": [
    "calcF(4.17)"
   ]
  },
  {
   "cell_type": "code",
   "execution_count": 63,
   "metadata": {
    "collapsed": false
   },
   "outputs": [
    {
     "data": {
      "text/plain": [
       "641.025641025641"
      ]
     },
     "execution_count": 63,
     "metadata": {},
     "output_type": "execute_result"
    }
   ],
   "source": [
    "(0.24*6.5*1e-3)**-1"
   ]
  },
  {
   "cell_type": "code",
   "execution_count": 69,
   "metadata": {
    "collapsed": false
   },
   "outputs": [
    {
     "data": {
      "text/plain": [
       "645.0364445591174"
      ]
     },
     "execution_count": 69,
     "metadata": {},
     "output_type": "execute_result"
    }
   ],
   "source": [
    "(4.19*1e-5*37)**-1"
   ]
  },
  {
   "cell_type": "code",
   "execution_count": 70,
   "metadata": {
    "collapsed": false
   },
   "outputs": [
    {
     "data": {
      "text/plain": [
       "4.193548387096774"
      ]
     },
     "execution_count": 70,
     "metadata": {},
     "output_type": "execute_result"
    }
   ],
   "source": [
    "6.5/1.55"
   ]
  },
  {
   "cell_type": "code",
   "execution_count": null,
   "metadata": {
    "collapsed": true
   },
   "outputs": [],
   "source": []
  }
 ],
 "metadata": {
  "kernelspec": {
   "display_name": "Python 2",
   "language": "python",
   "name": "python2"
  },
  "language_info": {
   "codemirror_mode": {
    "name": "ipython",
    "version": 2
   },
   "file_extension": ".py",
   "mimetype": "text/x-python",
   "name": "python",
   "nbconvert_exporter": "python",
   "pygments_lexer": "ipython2",
   "version": "2.7.12"
  }
 },
 "nbformat": 4,
 "nbformat_minor": 0
}
