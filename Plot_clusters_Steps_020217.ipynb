{
 "cells": [
  {
   "cell_type": "code",
   "execution_count": 1,
   "metadata": {
    "collapsed": false
   },
   "outputs": [
    {
     "name": "stderr",
     "output_type": "stream",
     "text": [
      "/Users/gabrielfior/anaconda/lib/python2.7/site-packages/matplotlib/font_manager.py:273: UserWarning: Matplotlib is building the font cache using fc-list. This may take a moment.\n",
      "  warnings.warn('Matplotlib is building the font cache using fc-list. This may take a moment.')\n"
     ]
    }
   ],
   "source": [
    "import pandas as pd\n",
    "import matplotlib.pyplot as plt\n",
    "import numpy as np\n",
    "from scipy.stats import norm\n",
    "#import matplotlib.pyplot as mlab\n",
    "from scipy.optimize import leastsq\n",
    "import datetime\n",
    "%matplotlib inline"
   ]
  },
  {
   "cell_type": "code",
   "execution_count": 2,
   "metadata": {
    "collapsed": false
   },
   "outputs": [
    {
     "name": "stdout",
     "output_type": "stream",
     "text": [
      "elapsed: 0:01:03.886545\n"
     ]
    },
    {
     "data": {
      "text/plain": [
       "\"\\ncount1=0\\nlist1=[]\\nprint 'reading: elapsed '+str(datetime.datetime.now()-t0)\\nt0 = datetime.datetime.now()\\nfor i in range(df.shape[0]):\\n    \\n    #if i%1000==0:\\n    #    print 'i= ' + str(i)\\n    if df.iloc[i]['processName']=='event':\\n        count1 +=1\\n    else:\\n        list1.append(count1)    \\n\\nprint 'processing: elapsed '+str(datetime.datetime.now()-t0)\\n\""
      ]
     },
     "execution_count": 2,
     "metadata": {},
     "output_type": "execute_result"
    }
   ],
   "source": [
    "#Pre-process file\n",
    "#filename = 'ArgonValidation_nt_B4_g.csv'\n",
    "#filename = '10cm_1e6_400GeV_RbAwake10minus7_cut1_5mm_nt_B4_g_processed.csv'\n",
    "to=datetime.datetime.now()\n",
    "filename = '10cm_1e6_400GeV_Rb10minus7_beam_cut1_5mm_nt_B4_g.csv'\n",
    "t0 = datetime.datetime.now()\n",
    "columns_new2 =['trackId','parentId','volumeName','particleName','stepNumber',\n",
    "                                               'posX','posY','posZ','perp','kineeticEnergyDiff',\n",
    "                                               'edepStep','kineticEnergyPostStep','processName',\n",
    "                                'mompreX','mompreY','mompreZ','momposX','momposY','momposZ',\n",
    "              'stepLength'] \n",
    "df = pd.read_csv('/Volumes/UNTITLED/beam/'+filename,\n",
    "                 skiprows=24,header=None,\n",
    "                 names=columns_new2)\n",
    "print 'elapsed: '+str(datetime.datetime.now()-t0)\n",
    "\"\"\"\n",
    "count1=0\n",
    "list1=[]\n",
    "print 'reading: elapsed '+str(datetime.datetime.now()-t0)\n",
    "t0 = datetime.datetime.now()\n",
    "for i in range(df.shape[0]):\n",
    "    \n",
    "    #if i%1000==0:\n",
    "    #    print 'i= ' + str(i)\n",
    "    if df.iloc[i]['processName']=='event':\n",
    "        count1 +=1\n",
    "    else:\n",
    "        list1.append(count1)    \n",
    "\n",
    "print 'processing: elapsed '+str(datetime.datetime.now()-t0)\n",
    "\"\"\""
   ]
  },
  {
   "cell_type": "code",
   "execution_count": null,
   "metadata": {
    "collapsed": false
   },
   "outputs": [],
   "source": [
    "print filename\n",
    "print df.shape#, len(df.ParticleId.unique())\n",
    "print df.head()"
   ]
  },
  {
   "cell_type": "code",
   "execution_count": null,
   "metadata": {
    "collapsed": false
   },
   "outputs": [],
   "source": []
  },
  {
   "cell_type": "code",
   "execution_count": null,
   "metadata": {
    "collapsed": false
   },
   "outputs": [],
   "source": [
    "\"\"\"\n",
    "NOT NECESSARY BECAUSE OF PRE-PROCESSING BEFORE\n",
    "#reading data frame\n",
    "#filename = 'testem8_nt_B4_g.csv'\n",
    "#filename = 'B4_nt_B4_g_origin_processed.csv'\n",
    "filename = 'ArgonValidation_nt_B4_g.csv'\n",
    "#filename = 'argon_400geV_ntp.csv'\n",
    "#df = pd.read_csv('/Users/gabrielfior/OneDrive/Master Thesis/Share_Ubuntu/'+filename,\n",
    "#                 skiprows=7,header=None,names=['energyDeposited_ev','fClusters','whatever'])\n",
    "df = pd.read_csv('/Volumes/UNTITLED/'+filename,\n",
    "                 skiprows=19,header=None,names=['trackId','parentId','volumeName','particleName','stepNumber',\n",
    "                                               'posX','posY','posZ','perp','stepLength','kineeticEnergyDiff',\n",
    "                                               'edepStep','kineticEnergyPostStep','processName','fCluster',\n",
    "                                                'particleId'])\n",
    "sf = graphlab.SFrame.read_csv('/Volumes/UNTITLED/'+filename,)    \n",
    "#argon_400geV_ntp.csv\n",
    "\"\"\""
   ]
  },
  {
   "cell_type": "code",
   "execution_count": null,
   "metadata": {
    "collapsed": false
   },
   "outputs": [],
   "source": [
    "#df.head()"
   ]
  },
  {
   "cell_type": "code",
   "execution_count": 4,
   "metadata": {
    "collapsed": false
   },
   "outputs": [
    {
     "name": "stdout",
     "output_type": "stream",
     "text": [
      "0.0838972925319\n",
      "Index([u'trackId', u'parentId', u'volumeName', u'particleName', u'stepNumber',\n",
      "       u'posX', u'posY', u'posZ', u'perp', u'kineeticEnergyDiff', u'edepStep',\n",
      "       u'kineticEnergyPostStep', u'processName', u'mompreX', u'mompreY',\n",
      "       u'mompreZ', u'momposX', u'momposY', u'momposZ', u'stepLength'],\n",
      "      dtype='object')\n"
     ]
    }
   ],
   "source": [
    "#df.head(40)\n",
    "\n",
    "#df_events=df[df.processName=='event']\n",
    "df_steps_p = df[(df.particleName=='proton')]\n",
    "df_steps_e = df[(df.particleName=='e-')]\n",
    "\n",
    "#df_steps_p = df[(df.particleName=='proton')]\n",
    "#df_steps_e = df[(df.particleName=='e-')]\n",
    "\n",
    "\n",
    "#del (df)\n",
    "#print df.shape\n",
    "print np.mean(df_steps_p.edepStep)\n",
    "print df_steps_p.columns\n",
    "#df.energyDeposited_ev.unique()"
   ]
  },
  {
   "cell_type": "code",
   "execution_count": null,
   "metadata": {
    "collapsed": false
   },
   "outputs": [],
   "source": [
    "#Group by stepNumber\n",
    "\"\"\"\n",
    "agg1 = {'edepStep':['sum'], 'stepNumber': ['max'], 'kineticEnergyPostStep':['min','max']}\n",
    "df_grouped_p = df_steps_p.groupby('ParticleId',as_index=False,group_keys=False).agg(agg1)\n",
    "\n",
    "electronIonPairConv = 10.0 #eV for Rb\n",
    "df_grouped_p['primClusters'] = df_grouped_p.edepStep.apply(lambda x: x/electronIonPairConv)\n",
    "\n",
    "df_grouped_p.edepStep.hist(bins=np.linspace(0,3000,100))\n",
    "plt.title('Histogram - energy lost / proton / 10cm: mean(eV) = '+str(df_grouped_p.edepStep.mean()))\n",
    "plt.show()\n",
    "df_grouped_p.primClusters.hist(bins=np.linspace(0,300,100))\n",
    "plt.title('Histogram - # of clusters, mean electrons/proton / 10cm= '+str(df_grouped_p.primClusters.mean()))\n",
    "plt.show()\n",
    "\"\"\""
   ]
  },
  {
   "cell_type": "markdown",
   "metadata": {
    "collapsed": true
   },
   "source": [
    "# Plot energy lost log"
   ]
  },
  {
   "cell_type": "code",
   "execution_count": 59,
   "metadata": {
    "collapsed": false
   },
   "outputs": [
    {
     "name": "stderr",
     "output_type": "stream",
     "text": [
      "/Users/gabrielfior/anaconda/lib/python2.7/site-packages/ipykernel/__main__.py:3: SettingWithCopyWarning: \n",
      "A value is trying to be set on a copy of a slice from a DataFrame.\n",
      "Try using .loc[row_indexer,col_indexer] = value instead\n",
      "\n",
      "See the caveats in the documentation: http://pandas.pydata.org/pandas-docs/stable/indexing.html#indexing-view-versus-copy\n",
      "  app.launch_new_instance()\n"
     ]
    }
   ],
   "source": [
    "#df_steps_p['energy_lost_per_cm'] = df_steps_p.apply(lambda x: x['kineeticEnergyDiff']/x['stepLength'],\n",
    "#                                                    axis=1)\n",
    "df_steps_p['energy_lost_per_cm'] = df_steps_p.edepStep*100/df_steps_p.stepLength"
   ]
  },
  {
   "cell_type": "code",
   "execution_count": 62,
   "metadata": {
    "collapsed": false
   },
   "outputs": [
    {
     "data": {
      "text/plain": [
       "<matplotlib.text.Text at 0x15c731750>"
      ]
     },
     "execution_count": 62,
     "metadata": {},
     "output_type": "execute_result"
    },
    {
     "data": {
      "image/png": "[encoded data removed]",
      "text/plain": [
       "<matplotlib.figure.Figure at 0x15c7b7910>"
      ]
     },
     "metadata": {},
     "output_type": "display_data"
    }
   ],
   "source": [
    "#series = pandas.Series(np.random.normal(size=2000))\n",
    "fig, ax = plt.subplots()\n",
    "df_steps_p.energy_lost_per_cm.hist(ax=ax, bins=10, bottom=0.1)\n",
    "ax.set_yscale('log')\n",
    "plt.xlim([1.25845,1.2585])\n",
    "ax.get_xaxis().get_major_formatter().set_useOffset(False)\n",
    "#plt.xlim([1.258350,1.25885])\n",
    "plt.title(r'Energy loss after 10 cm')\n",
    "plt.xlabel('eV')\n",
    "plt.ylabel('Count of events')"
   ]
  },
  {
   "cell_type": "code",
   "execution_count": 46,
   "metadata": {
    "collapsed": false
   },
   "outputs": [
    {
     "data": {
      "text/plain": [
       "count    1.500020e+07\n",
       "mean     1.258475e-01\n",
       "std      9.836138e-10\n",
       "min      1.258470e-01\n",
       "25%      1.258475e-01\n",
       "50%      1.258475e-01\n",
       "75%      1.258475e-01\n",
       "max      1.258485e-01\n",
       "Name: energy_lost_per_cm, dtype: float64"
      ]
     },
     "execution_count": 46,
     "metadata": {},
     "output_type": "execute_result"
    }
   ],
   "source": [
    "df_steps_p.energy_lost_per_cm.describe()"
   ]
  },
  {
   "cell_type": "code",
   "execution_count": null,
   "metadata": {
    "collapsed": true
   },
   "outputs": [],
   "source": []
  }
 ],
 "metadata": {
  "kernelspec": {
   "display_name": "Python 2",
   "language": "python",
   "name": "python2"
  },
  "language_info": {
   "codemirror_mode": {
    "name": "ipython",
    "version": 2
   },
   "file_extension": ".py",
   "mimetype": "text/x-python",
   "name": "python",
   "nbconvert_exporter": "python",
   "pygments_lexer": "ipython2",
   "version": "2.7.12"
  }
 },
 "nbformat": 4,
 "nbformat_minor": 0
}
