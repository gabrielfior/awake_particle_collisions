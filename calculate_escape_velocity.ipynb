{
 "cells": [
  {
   "cell_type": "code",
   "execution_count": 1,
   "metadata": {
    "collapsed": true
   },
   "outputs": [],
   "source": [
    "from scipy.integrate import quad\n",
    "import numpy as np\n"
   ]
  },
  {
   "cell_type": "code",
   "execution_count": 2,
   "metadata": {
    "collapsed": true
   },
   "outputs": [],
   "source": [
    "def integrand(g):\n",
    "    #return (x)**3\n",
    "    return (1./g)*(1. - np.exp(-1.*g*g))\n",
    "\n"
   ]
  },
  {
   "cell_type": "code",
   "execution_count": 27,
   "metadata": {
    "collapsed": false
   },
   "outputs": [
    {
     "name": "stdout",
     "output_type": "stream",
     "text": [
      "0.335768586343\n"
     ]
    }
   ],
   "source": [
    "ans, err = quad(integrand, 10e-6, 0.9)\n",
    "print ans"
   ]
  },
  {
   "cell_type": "code",
   "execution_count": 4,
   "metadata": {
    "collapsed": false
   },
   "outputs": [
    {
     "data": {
      "text/plain": [
       "1482.4858757062148"
      ]
     },
     "execution_count": 4,
     "metadata": {},
     "output_type": "execute_result"
    }
   ],
   "source": [
    "320/8.85 * 41"
   ]
  },
  {
   "cell_type": "code",
   "execution_count": 24,
   "metadata": {
    "collapsed": false
   },
   "outputs": [
    {
     "data": {
      "text/plain": [
       "4.696673189823875"
      ]
     },
     "execution_count": 24,
     "metadata": {},
     "output_type": "execute_result"
    }
   ],
   "source": [
    "1.5*1.6/0.511"
   ]
  },
  {
   "cell_type": "code",
   "execution_count": 29,
   "metadata": {
    "collapsed": false
   },
   "outputs": [
    {
     "data": {
      "text/plain": [
       "0.9906737454333354"
      ]
     },
     "execution_count": 29,
     "metadata": {},
     "output_type": "execute_result"
    }
   ],
   "source": [
    "((4.696+1000)*0.001)**(-2)"
   ]
  },
  {
   "cell_type": "code",
   "execution_count": 30,
   "metadata": {
    "collapsed": false
   },
   "outputs": [
    {
     "data": {
      "text/plain": [
       "28971760.578187384"
      ]
     },
     "execution_count": 30,
     "metadata": {},
     "output_type": "execute_result"
    }
   ],
   "source": [
    "np.sqrt(1 - (((4.696+1000)*0.001)**(-2)))*3*1e8"
   ]
  },
  {
   "cell_type": "code",
   "execution_count": 32,
   "metadata": {
    "collapsed": false
   },
   "outputs": [
    {
     "data": {
      "text/plain": [
       "2.8971760570000002"
      ]
     },
     "execution_count": 32,
     "metadata": {},
     "output_type": "execute_result"
    }
   ],
   "source": [
    "28971760.57/1e7"
   ]
  },
  {
   "cell_type": "code",
   "execution_count": 46,
   "metadata": {
    "collapsed": false
   },
   "outputs": [],
   "source": [
    "def return_velocity_from_energy(E,particle):\n",
    "    if particle=='proton':\n",
    "        mass = 938*1e6\n",
    "    else:\n",
    "        mass = .511*1e6\n",
    "    \n",
    "    c=3.e8\n",
    "    print 'kinectic energy (keV) : '+str(E/1e3)\n",
    "    gamma = ((E+mass)/mass)  #eV\n",
    "    print gamma\n",
    "    v = np.sqrt(1- (1./(gamma*gamma)))*c\n",
    "    print 'v (m/s) : '+ '%.3e' %(v)\n",
    "    return v"
   ]
  },
  {
   "cell_type": "code",
   "execution_count": 48,
   "metadata": {
    "collapsed": false
   },
   "outputs": [
    {
     "name": "stdout",
     "output_type": "stream",
     "text": [
      "kinectic energy (keV) : 0.01\n",
      "1.00001956947\n",
      "v (m/s) : 1.877e+06\n",
      "velocity (1/c): 0.00625602065102\n",
      "kinectic energy (keV) : 1.0\n",
      "1.00195694716\n",
      "v (m/s) : 1.874e+07\n",
      "velocity (1/c): 0.0624694749677\n",
      "kinectic energy (keV) : 10.0\n",
      "1.01956947162\n",
      "v (m/s) : 5.850e+07\n",
      "velocity (1/c): 0.194985414191\n",
      "kinectic energy (keV) : 100.0\n",
      "1.19569471624\n",
      "v (m/s) : 1.645e+08\n",
      "velocity (1/c): 0.548220432879\n",
      "kinectic energy (keV) : 1000.0\n",
      "2.95694716243\n",
      "v (m/s) : 2.823e+08\n",
      "velocity (1/c): 0.941079062759\n",
      "kinectic energy (keV) : 10000.0\n",
      "20.5694716243\n",
      "v (m/s) : 2.996e+08\n",
      "velocity (1/c): 0.998817556025\n",
      "kinectic energy (keV) : 100000.0\n",
      "196.694716243\n",
      "v (m/s) : 3.000e+08\n",
      "velocity (1/c): 0.999987076283\n"
     ]
    }
   ],
   "source": [
    "#E1 = 10 #eV\n",
    "for E1 in (10,1e3,1e4,1e5,1e6,1e7,1e8):\n",
    "    print 'velocity (1/c): '+str(return_velocity_from_energy(E1,'e-')/(3.e8))"
   ]
  },
  {
   "cell_type": "code",
   "execution_count": 6,
   "metadata": {
    "collapsed": false
   },
   "outputs": [
    {
     "data": {
      "text/plain": [
       "0.345703125"
      ]
     },
     "execution_count": 6,
     "metadata": {},
     "output_type": "execute_result"
    }
   ],
   "source": [
    "1e3/(0.64*(200**2)/8.85)"
   ]
  },
  {
   "cell_type": "code",
   "execution_count": null,
   "metadata": {
    "collapsed": true
   },
   "outputs": [],
   "source": []
  }
 ],
 "metadata": {
  "kernelspec": {
   "display_name": "Python 2",
   "language": "python",
   "name": "python2"
  },
  "language_info": {
   "codemirror_mode": {
    "name": "ipython",
    "version": 2
   },
   "file_extension": ".py",
   "mimetype": "text/x-python",
   "name": "python",
   "nbconvert_exporter": "python",
   "pygments_lexer": "ipython2",
   "version": "2.7.12"
  }
 },
 "nbformat": 4,
 "nbformat_minor": 0
}
