{
 "cells": [
  {
   "cell_type": "code",
   "execution_count": 1,
   "metadata": {
    "collapsed": false
   },
   "outputs": [
    {
     "name": "stderr",
     "output_type": "stream",
     "text": [
      "/Users/gabrielfior/anaconda/lib/python2.7/site-packages/matplotlib/font_manager.py:273: UserWarning: Matplotlib is building the font cache using fc-list. This may take a moment.\n",
      "  warnings.warn('Matplotlib is building the font cache using fc-list. This may take a moment.')\n"
     ]
    }
   ],
   "source": [
    "import pandas as pd\n",
    "import matplotlib.pyplot as plt\n",
    "import numpy as np\n",
    "from scipy.stats import norm\n",
    "import matplotlib.mlab as mlab\n",
    "from scipy.optimize import leastsq\n",
    "import datetime\n",
    "%matplotlib inline"
   ]
  },
  {
   "cell_type": "code",
   "execution_count": null,
   "metadata": {
    "collapsed": false
   },
   "outputs": [],
   "source": [
    "#Pre-process file\n",
    "#filename = 'ArgonValidation_nt_B4_g.csv'\n",
    "filename = '10cm_1e6_400GeV_Ar_cut1_5mm_nt_B4_g.csv'\n",
    "t0 = datetime.datetime.now()\n",
    "df = pd.read_csv('/Volumes/UNTITLED/'+filename,\n",
    "                 skiprows=19,header=None,names=['trackId','parentId','volumeName','particleName','stepNumber',\n",
    "                                               'posX','posY','posZ','perp','stepLength','kineeticEnergyDiff',\n",
    "                                               'edepStep','kineticEnergyPostStep','processName','fCluster'\n",
    "                                                ])\n",
    "count1=0\n",
    "list1=[]\n",
    "print 'reading: elapsed '+str(datetime.datetime.now()-t0)\n",
    "t0 = datetime.datetime.now()\n",
    "for i in range(df.shape[0]):\n",
    "    \n",
    "    #if i%1000==0:\n",
    "    #    print 'i= ' + str(i)\n",
    "    if df.iloc[i]['processName']=='event':\n",
    "        count1 +=1\n",
    "    else:\n",
    "        list1.append(count1)    \n",
    "\n",
    "print 'processing: elapsed '+str(datetime.datetime.now()-t0)"
   ]
  },
  {
   "cell_type": "code",
   "execution_count": null,
   "metadata": {
    "collapsed": true
   },
   "outputs": [],
   "source": [
    "#delete unwanted columns\n"
   ]
  },
  {
   "cell_type": "code",
   "execution_count": null,
   "metadata": {
    "collapsed": false
   },
   "outputs": [],
   "source": [
    "df_events = df[df.processName=='event']\n",
    "df_steps = df[df.processName!='event']\n",
    "\n",
    "df_steps.insert(len(df_steps.columns),'particleId',np.array(list1))\n",
    "#print df_steps.particleName.unique()"
   ]
  },
  {
   "cell_type": "code",
   "execution_count": null,
   "metadata": {
    "collapsed": false
   },
   "outputs": [],
   "source": [
    "\"\"\"\n",
    "NOT NECESSARY BECAUSE OF PRE-PROCESSING BEFORE\n",
    "#reading data frame\n",
    "#filename = 'testem8_nt_B4_g.csv'\n",
    "#filename = 'B4_nt_B4_g_origin_processed.csv'\n",
    "filename = 'ArgonValidation_nt_B4_g.csv'\n",
    "#filename = 'argon_400geV_ntp.csv'\n",
    "#df = pd.read_csv('/Users/gabrielfior/OneDrive/Master Thesis/Share_Ubuntu/'+filename,\n",
    "#                 skiprows=7,header=None,names=['energyDeposited_ev','fClusters','whatever'])\n",
    "df = pd.read_csv('/Volumes/UNTITLED/'+filename,\n",
    "                 skiprows=19,header=None,names=['trackId','parentId','volumeName','particleName','stepNumber',\n",
    "                                               'posX','posY','posZ','perp','stepLength','kineeticEnergyDiff',\n",
    "                                               'edepStep','kineticEnergyPostStep','processName','fCluster',\n",
    "                                                'particleId'])\n",
    "sf = graphlab.SFrame.read_csv('/Volumes/UNTITLED/'+filename,)    \n",
    "#argon_400geV_ntp.csv\n",
    "\"\"\""
   ]
  },
  {
   "cell_type": "code",
   "execution_count": null,
   "metadata": {
    "collapsed": false
   },
   "outputs": [],
   "source": [
    "#df.head()"
   ]
  },
  {
   "cell_type": "code",
   "execution_count": null,
   "metadata": {
    "collapsed": false
   },
   "outputs": [],
   "source": [
    "#df.head(40)\n",
    "\n",
    "#df_events=df[df.processName=='event']\n",
    "df_steps_p = df_steps[(df_steps.particleName=='proton')]\n",
    "df_steps_e = df_steps[(df_steps.particleName=='e-')]\n",
    "\n",
    "#df_steps_p = df[(df.particleName=='proton')]\n",
    "#df_steps_e = df[(df.particleName=='e-')]\n",
    "\n",
    "\n",
    "#del (df)\n",
    "#print df.shape\n",
    "#np.mean(df.energyDeposited_ev)\n",
    "#df.energyDeposited_ev.unique()"
   ]
  },
  {
   "cell_type": "code",
   "execution_count": null,
   "metadata": {
    "collapsed": false
   },
   "outputs": [],
   "source": [
    "#Group by stepNumber\n",
    "agg1 = {'edepStep':['sum'], 'stepNumber': ['max'], 'kineticEnergyPostStep':['min','max'],'fCluster':['sum']}\n",
    "df_grouped_p = df_steps_p.groupby('particleId',as_index=False,group_keys=False).agg(agg1)\n",
    "\n",
    "#idx = df.groupby('word')['count'].idxmax()\n",
    "#print df_steps_p.stepNumber"
   ]
  },
  {
   "cell_type": "markdown",
   "metadata": {},
   "source": [
    "# Mean energy deposit by protons"
   ]
  },
  {
   "cell_type": "code",
   "execution_count": null,
   "metadata": {
    "collapsed": false
   },
   "outputs": [],
   "source": [
    "print (df_grouped_p['edepStep'].mean())\n",
    "df_grouped_p.hist(['edepStep'],bins=np.linspace(0,7e3,100))\n",
    "plt.show()\n",
    "#plt.hist(df_grouped_p,bins=np.linspace(0,7000,100))\n",
    "#plt.title('Mean energy deposited by protons: ' + str(df_grouped_p.mean()))\n",
    "#plt.show()"
   ]
  },
  {
   "cell_type": "code",
   "execution_count": null,
   "metadata": {
    "collapsed": false
   },
   "outputs": [],
   "source": [
    "# Mean Clusters generated by proton\n",
    "\n",
    "print (df_grouped_p['fCluster'].mean())\n",
    "df_grouped_p.hist(['fCluster'],bins=np.linspace(0,50,100))\n",
    "plt.show()\n"
   ]
  },
  {
   "cell_type": "markdown",
   "metadata": {},
   "source": [
    "# Exploring df_events "
   ]
  },
  {
   "cell_type": "code",
   "execution_count": null,
   "metadata": {
    "collapsed": false
   },
   "outputs": [],
   "source": [
    "df_events.head()"
   ]
  },
  {
   "cell_type": "code",
   "execution_count": null,
   "metadata": {
    "collapsed": false
   },
   "outputs": [],
   "source": [
    "plt.subplot(121)\n",
    "plt.hist(df_events.kineticEnergyPostStep,bins=np.linspace(0,7000,100))\n",
    "plt.title(str(df_events.kineticEnergyPostStep.mean()))\n",
    "plt.subplot(122)\n",
    "plt.hist(df_events.fCluster,bins=np.linspace(0,600,100))\n",
    "plt.title(str(df_events.fCluster.mean()))\n",
    "plt.show()"
   ]
  },
  {
   "cell_type": "markdown",
   "metadata": {
    "collapsed": true
   },
   "source": [
    "# Fit histograms and get mean, rms"
   ]
  },
  {
   "cell_type": "code",
   "execution_count": null,
   "metadata": {
    "collapsed": false
   },
   "outputs": [],
   "source": [
    "# Generate some data for this demonstration.\n",
    "#data = norm.rvs(10.0, 2.5, size=500)\n",
    "def return_fitted_gaussian_parameters(data1,bins1):\n",
    "    #data = df.fClusters\n",
    "    data = data1\n",
    "    # Fit a normal distribution to the data:\n",
    "    mu, std = norm.fit(data)\n",
    "\n",
    "    # Plot the histogram.\n",
    "    nbins = len(bins1)\n",
    "    result = plt.hist(data, bins=bins1, normed=False, color='g')\n",
    "    dx = result[1][1] - result[1][0]\n",
    "    scale = len(data)*dx\n",
    "    \n",
    "    # Plot the PDF.\n",
    "    xmin, xmax = plt.xlim()\n",
    "    x = np.linspace(xmin, xmax, nbins)\n",
    "    p = norm.pdf(x, mu, std)*scale\n",
    "    plt.plot(x, p, 'k', linewidth=2)\n",
    "    title = \"Fit results: mu = %.2f,  std = %.2f\" % (mu, std)\n",
    "    plt.title(title)\n",
    "    plt.show()\n",
    "        \n",
    "    return [mu,std]"
   ]
  },
  {
   "cell_type": "code",
   "execution_count": null,
   "metadata": {
    "collapsed": false
   },
   "outputs": [],
   "source": [
    "a,b=return_fitted_gaussian_parameters(df_events.fCluster,np.linspace(0,600,100))\n",
    "print a,b"
   ]
  },
  {
   "cell_type": "code",
   "execution_count": null,
   "metadata": {
    "collapsed": false
   },
   "outputs": [],
   "source": [
    "print 'mean value: '+str(df_events.kineticEnergyPostStep.mean())+' kEV'\n",
    "return_fitted_gaussian_parameters(df_events.kineticEnergyPostStep,np.linspace(0,8000,100))"
   ]
  },
  {
   "cell_type": "markdown",
   "metadata": {
    "collapsed": true
   },
   "source": [
    "# Investigate df_steps"
   ]
  },
  {
   "cell_type": "code",
   "execution_count": null,
   "metadata": {
    "collapsed": false
   },
   "outputs": [],
   "source": [
    "#kinetic energy diff sum = edepstep sum + final energy electrons\n",
    "total_energy_deposit = df_steps_e.edepStep.sum() + df_steps_p.edepStep.sum()\n",
    "\n",
    "total_kin_diff = df_steps_p.kineeticEnergyDiff.sum()\n",
    "print -total_kin_diff,total_energy_deposit\n",
    "print 'diference in energy: '+str(-total_kin_diff+total_energy_deposit)"
   ]
  },
  {
   "cell_type": "code",
   "execution_count": null,
   "metadata": {
    "collapsed": false
   },
   "outputs": [],
   "source": [
    "#Get minimum kinectic energy of e-\n",
    "agg1 = {'kineticEnergyPostStep':['min']}\n",
    "df_grouped_e = df_steps_e.groupby('particleId',as_index=False,group_keys=False).agg(agg1)\n",
    "#print df_grouped_e.head()\n",
    "#print df_grouped_e['kineticEnergyPostStep'].sum()\n",
    "print df_steps_e.head()"
   ]
  },
  {
   "cell_type": "code",
   "execution_count": null,
   "metadata": {
    "collapsed": false
   },
   "outputs": [],
   "source": [
    "#print df_steps[df_steps.particleId==0]['kineeticEnergyDiff'].sum()\n",
    "print df_steps[df_steps.particleId==0]['edepStep'].sum()\n",
    "#print df_steps_p[df_steps_p.particleId==0]['edepStep'].sum()\n",
    "print df_steps_p[df_steps_p.particleId==0]['kineeticEnergyDiff'].sum()"
   ]
  },
  {
   "cell_type": "code",
   "execution_count": null,
   "metadata": {
    "collapsed": false
   },
   "outputs": [],
   "source": [
    "#df_steps_e[df_steps_e.particleId==0]#227.165\n",
    "print df_steps_p[df_steps_p.particleId==0]['edepStep'].sum()\n",
    "print df_steps_p[df_steps_p.particleId==0]['kineeticEnergyDiff'].sum()"
   ]
  },
  {
   "cell_type": "code",
   "execution_count": null,
   "metadata": {
    "collapsed": false
   },
   "outputs": [],
   "source": [
    "2281.717 - 2054.55253"
   ]
  },
  {
   "cell_type": "code",
   "execution_count": null,
   "metadata": {
    "collapsed": true
   },
   "outputs": [],
   "source": []
  }
 ],
 "metadata": {
  "kernelspec": {
   "display_name": "Python 2",
   "language": "python",
   "name": "python2"
  },
  "language_info": {
   "codemirror_mode": {
    "name": "ipython",
    "version": 2
   },
   "file_extension": ".py",
   "mimetype": "text/x-python",
   "name": "python",
   "nbconvert_exporter": "python",
   "pygments_lexer": "ipython2",
   "version": "2.7.13"
  }
 },
 "nbformat": 4,
 "nbformat_minor": 0
}
