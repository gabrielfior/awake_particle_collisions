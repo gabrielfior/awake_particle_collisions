{
 "cells": [
  {
   "cell_type": "code",
   "execution_count": 2,
   "metadata": {
    "collapsed": false
   },
   "outputs": [
    {
     "name": "stderr",
     "output_type": "stream",
     "text": [
      "[WARNING] graphlab.product_key: Unable to write current GraphLab Create license to /Users/gabrielfior/.graphlab/config. Ensure that this user account                         has write permission to /Users/gabrielfior/.graphlab/config to save the license for offline use.\n",
      "WARNING:graphlab.product_key:Unable to write current GraphLab Create license to /Users/gabrielfior/.graphlab/config. Ensure that this user account                         has write permission to /Users/gabrielfior/.graphlab/config to save the license for offline use.\n",
      "[INFO] graphlab.cython.cy_server: GraphLab Create v2.1 started. Logging: /tmp/graphlab_server_1474304360.log\n",
      "INFO:graphlab.cython.cy_server:GraphLab Create v2.1 started. Logging: /tmp/graphlab_server_1474304360.log\n",
      "[WARNING] graphlab.deploy._session: Unable to create session in specified location: '/Users/gabrielfior/.graphlab/artifacts'. Using: '/var/tmp/graphlab-gabrielfior/8845/tmp_session_c7b5b34c-bb87-4926-b490-5f446c87503c'\n",
      "WARNING:graphlab.deploy._session:Unable to create session in specified location: '/Users/gabrielfior/.graphlab/artifacts'. Using: '/var/tmp/graphlab-gabrielfior/8845/tmp_session_c7b5b34c-bb87-4926-b490-5f446c87503c'\n"
     ]
    },
    {
     "name": "stdout",
     "output_type": "stream",
     "text": [
      "This non-commercial license of GraphLab Create for academic use is assigned to ga46mal@mytum.de and will expire on July 08, 2017.\n"
     ]
    },
    {
     "name": "stderr",
     "output_type": "stream",
     "text": [
      "/Users/gabrielfior/anaconda/lib/python2.7/site-packages/matplotlib/font_manager.py:273: UserWarning: Matplotlib is building the font cache using fc-list. This may take a moment.\n",
      "  warnings.warn('Matplotlib is building the font cache using fc-list. This may take a moment.')\n"
     ]
    }
   ],
   "source": [
    "import graphlab\n",
    "import numpy as np\n",
    "import matplotlib.pyplot as plt\n",
    "from math import pow\n",
    "%matplotlib inline"
   ]
  },
  {
   "cell_type": "code",
   "execution_count": 3,
   "metadata": {
    "collapsed": true
   },
   "outputs": [],
   "source": [
    "loading=True #Set True to load full csv file\n",
    "full_csv_path = '/Users/gabrielfior/data_mpp2/400GeV_15steps_full.csv'\n"
   ]
  },
  {
   "cell_type": "code",
   "execution_count": 4,
   "metadata": {
    "collapsed": false
   },
   "outputs": [
    {
     "data": {
      "text/html": [
       "<pre>Finished parsing file /Users/gabrielfior/data_mpp2/400GeV_15steps_full.csv</pre>"
      ],
      "text/plain": [
       "Finished parsing file /Users/gabrielfior/data_mpp2/400GeV_15steps_full.csv"
      ]
     },
     "metadata": {},
     "output_type": "display_data"
    },
    {
     "data": {
      "text/html": [
       "<pre>Parsing completed. Parsed 100 lines in 1.90877 secs.</pre>"
      ],
      "text/plain": [
       "Parsing completed. Parsed 100 lines in 1.90877 secs."
      ]
     },
     "metadata": {},
     "output_type": "display_data"
    },
    {
     "data": {
      "text/html": [
       "<pre>Read 480146 lines. Lines per second: 191310</pre>"
      ],
      "text/plain": [
       "Read 480146 lines. Lines per second: 191310"
      ]
     },
     "metadata": {},
     "output_type": "display_data"
    },
    {
     "data": {
      "text/html": [
       "<pre>Read 2861602 lines. Lines per second: 365369</pre>"
      ],
      "text/plain": [
       "Read 2861602 lines. Lines per second: 365369"
      ]
     },
     "metadata": {},
     "output_type": "display_data"
    },
    {
     "data": {
      "text/html": [
       "<pre>Read 5231389 lines. Lines per second: 402025</pre>"
      ],
      "text/plain": [
       "Read 5231389 lines. Lines per second: 402025"
      ]
     },
     "metadata": {},
     "output_type": "display_data"
    },
    {
     "data": {
      "text/html": [
       "<pre>Read 7599625 lines. Lines per second: 416186</pre>"
      ],
      "text/plain": [
       "Read 7599625 lines. Lines per second: 416186"
      ]
     },
     "metadata": {},
     "output_type": "display_data"
    },
    {
     "data": {
      "text/html": [
       "<pre>Read 9968151 lines. Lines per second: 427039</pre>"
      ],
      "text/plain": [
       "Read 9968151 lines. Lines per second: 427039"
      ]
     },
     "metadata": {},
     "output_type": "display_data"
    },
    {
     "data": {
      "text/html": [
       "<pre>Read 12335863 lines. Lines per second: 433352</pre>"
      ],
      "text/plain": [
       "Read 12335863 lines. Lines per second: 433352"
      ]
     },
     "metadata": {},
     "output_type": "display_data"
    },
    {
     "data": {
      "text/html": [
       "<pre>Read 14704594 lines. Lines per second: 428295</pre>"
      ],
      "text/plain": [
       "Read 14704594 lines. Lines per second: 428295"
      ]
     },
     "metadata": {},
     "output_type": "display_data"
    },
    {
     "data": {
      "text/html": [
       "<pre>Read 17073575 lines. Lines per second: 427554</pre>"
      ],
      "text/plain": [
       "Read 17073575 lines. Lines per second: 427554"
      ]
     },
     "metadata": {},
     "output_type": "display_data"
    },
    {
     "data": {
      "text/html": [
       "<pre>Finished parsing file /Users/gabrielfior/data_mpp2/400GeV_15steps_full.csv</pre>"
      ],
      "text/plain": [
       "Finished parsing file /Users/gabrielfior/data_mpp2/400GeV_15steps_full.csv"
      ]
     },
     "metadata": {},
     "output_type": "display_data"
    },
    {
     "data": {
      "text/html": [
       "<pre>Parsing completed. Parsed 18004185 lines in 41.6891 secs.</pre>"
      ],
      "text/plain": [
       "Parsing completed. Parsed 18004185 lines in 41.6891 secs."
      ]
     },
     "metadata": {},
     "output_type": "display_data"
    },
    {
     "name": "stdout",
     "output_type": "stream",
     "text": [
      "------------------------------------------------------\n",
      "Inferred types from first 100 line(s) of file as \n",
      "column_type_hints=[str,str,int,int,int,int,float,str,int,int,int,int,int,int,int,float,int,int,int,float,int]\n",
      "If parsing fails due to incorrect types, you can correct\n",
      "the inferred type list above and pass it to read_csv in\n",
      "the column_type_hints argument\n",
      "------------------------------------------------------\n",
      "['process_name', 'next_vol', 'mom_x', 'mom_dir_z', 'mom_dir_y', 'step_number', 'dE', 'particle_name', 'mom_dir_x', 'count_particle', 'parent_id', 'position_z', 'total_energy', 'position_x', 'position_y', 'velocity', 'kinetic_energy', 'track_id', 'mom_y', 'energy_deposit', 'mom_z']\n"
     ]
    }
   ],
   "source": [
    "if loading:\n",
    "\n",
    "    sf = graphlab.SFrame.read_csv(full_csv_path)    \n",
    "    print sf.column_names()\n",
    "    #sf = sf.select_columns(['position_x','position_y','position_z','energy_deposit','dE',\n",
    "    #                          'count_particle','particle_name'])\n"
   ]
  },
  {
   "cell_type": "code",
   "execution_count": 9,
   "metadata": {
    "collapsed": false
   },
   "outputs": [],
   "source": [
    "def get_radial_value(row):\n",
    "    return np.sqrt((np.double(row['position_x'])*np.double(row['position_x']))+ (np.double(row['position_y'])*np.double(row['position_y'])))\n",
    "\n",
    "def get_kinetic_energy_from_vel(row):\n",
    "    \n",
    "    mass_energy=np.NaN\n",
    "    if row['particle_name']=='proton':\n",
    "        mass_energy = 938.27 #MeV\n",
    "    elif row['particle_name']=='e-':\n",
    "        mass_energy = .511 #MeV\n",
    "    \n",
    "    a = 1. - ((row['velocity']*row['velocity'])/(9.*1e4))\n",
    "    gamma = pow(a,-0.5)\n",
    "    vel_ratio = (row['velocity']*1e6)/(3.*1e8) #conversion mm/ns to m/s\n",
    "    gamma = 1./np.sqrt(1 - vel_ratio**2)\n",
    "    kin_energy = (gamma-1)*mass_energy\n",
    "    return kin_energy\n",
    "\n",
    "def return_num_electrons(row,calc_string,elec_pair_in_ev):\n",
    "    if calc_string=='avg':\n",
    "        return np.double(row['energy_deposit'])/(elec_pair_in_ev*2.25*1.0e-6)\n",
    "    if calc_string=='min':\n",
    "        return np.double(row['energy_deposit'])/(elec_pair_in_ev*1.5*1.0e-6)\n",
    "    if calc_string=='max':\n",
    "        return np.double(row['energy_deposit'])/(elec_pair_in_ev*3.*1.0e-6)           \n",
    "    else:\n",
    "        return np.NaN"
   ]
  },
  {
   "cell_type": "code",
   "execution_count": 10,
   "metadata": {
    "collapsed": false
   },
   "outputs": [
    {
     "name": "stdout",
     "output_type": "stream",
     "text": [
      "initial num rows: 18004185\n"
     ]
    }
   ],
   "source": [
    "print 'initial num rows: '+str(sf.num_rows())"
   ]
  },
  {
   "cell_type": "code",
   "execution_count": 1,
   "metadata": {
    "collapsed": false
   },
   "outputs": [
    {
     "ename": "NameError",
     "evalue": "name 'sf' is not defined",
     "output_type": "error",
     "traceback": [
      "\u001b[0;31m---------------------------------------------------------------------------\u001b[0m",
      "\u001b[0;31mNameError\u001b[0m                                 Traceback (most recent call last)",
      "\u001b[0;32m<ipython-input-1-782f1016c80e>\u001b[0m in \u001b[0;36m<module>\u001b[0;34m()\u001b[0m\n\u001b[0;32m----> 1\u001b[0;31m \u001b[0msf\u001b[0m\u001b[0;34m[\u001b[0m\u001b[0;34m'energy_deposit'\u001b[0m\u001b[0;34m]\u001b[0m\u001b[0;34m.\u001b[0m\u001b[0mshow\u001b[0m\u001b[0;34m(\u001b[0m\u001b[0;34m)\u001b[0m\u001b[0;34m\u001b[0m\u001b[0m\n\u001b[0m",
      "\u001b[0;31mNameError\u001b[0m: name 'sf' is not defined"
     ]
    }
   ],
   "source": [
    "sf['energy_deposit'].show()"
   ]
  },
  {
   "cell_type": "markdown",
   "metadata": {},
   "source": [
    "# Get only steps where Energy Deposited > 10 eV"
   ]
  },
  {
   "cell_type": "code",
   "execution_count": 12,
   "metadata": {
    "collapsed": true
   },
   "outputs": [],
   "source": [
    "sf_energy_deposit = sf[sf['energy_deposit']>=10.0e-6]"
   ]
  },
  {
   "cell_type": "code",
   "execution_count": 13,
   "metadata": {
    "collapsed": false
   },
   "outputs": [
    {
     "name": "stdout",
     "output_type": "stream",
     "text": [
      "final num rows: 40\n"
     ]
    }
   ],
   "source": [
    "print 'final num rows: ' + str(sf_energy_deposit.num_rows())"
   ]
  },
  {
   "cell_type": "code",
   "execution_count": 14,
   "metadata": {
    "collapsed": true
   },
   "outputs": [],
   "source": [
    "sf_energy_deposit['position_r'] = sf_energy_deposit.apply(get_radial_value)\n",
    "sf_energy_deposit['num_e_gen'] = sf_energy_deposit.apply(lambda x: return_num_electrons(x,'avg',4.1))\n",
    "sf_energy_deposit['kin_energy_from_vel'] = sf_energy_deposit.apply(get_kinetic_energy_from_vel)"
   ]
  },
  {
   "cell_type": "code",
   "execution_count": 15,
   "metadata": {
    "collapsed": true
   },
   "outputs": [],
   "source": [
    "x1 = np.array(sf_energy_deposit['position_x'])\n",
    "y1 = np.array(sf_energy_deposit['position_y'])\n",
    "z1 = np.array(sf_energy_deposit['position_z'])\n",
    "r1 = np.array(sf_energy_deposit['position_r'])\n",
    "en_ev = np.array(sf_energy_deposit['energy_deposit']*1e6) #eV\n",
    "elec_generated = np.array(sf_energy_deposit['num_e_gen'])\n",
    "\n"
   ]
  },
  {
   "cell_type": "code",
   "execution_count": 16,
   "metadata": {
    "collapsed": false
   },
   "outputs": [
    {
     "data": {
      "text/plain": [
       "<matplotlib.text.Text at 0x1045e6290>"
      ]
     },
     "execution_count": 16,
     "metadata": {},
     "output_type": "execute_result"
    },
    {
     "data": {
      "image/png": "[encoded data removed]",
      "text/plain": [
       "<matplotlib.figure.Figure at 0x110e1d7d0>"
      ]
     },
     "metadata": {},
     "output_type": "display_data"
    }
   ],
   "source": [
    "plt.scatter(r1, z1, s=en_ev, alpha=0.5)\n",
    "plt.title('Distribution of energy deposition in polar coords.')\n",
    "plt.xlabel('Radial distance r (mm)')\n",
    "plt.ylabel('Propagation distance z (mm)')\n",
    "\n"
   ]
  },
  {
   "cell_type": "code",
   "execution_count": 77,
   "metadata": {
    "collapsed": false
   },
   "outputs": [
    {
     "data": {
      "text/plain": [
       "(-1, 25)"
      ]
     },
     "execution_count": 77,
     "metadata": {},
     "output_type": "execute_result"
    },
    {
     "data": {
      "image/png": "[encoded data removed]",
      "text/plain": [
       "<matplotlib.figure.Figure at 0x17056f990>"
      ]
     },
     "metadata": {},
     "output_type": "display_data"
    }
   ],
   "source": [
    "plt.plot(en_ev,r1,'o')\n",
    "plt.xlim([-1.e9,1.2e9])\n",
    "plt.ylim([-1,25])\n"
   ]
  },
  {
   "cell_type": "code",
   "execution_count": 17,
   "metadata": {
    "collapsed": false
   },
   "outputs": [
    {
     "name": "stdout",
     "output_type": "stream",
     "text": [
      "Total number of e- generated: 2658.227729\n"
     ]
    },
    {
     "data": {
      "image/png": "[encoded data removed]",
      "text/plain": [
       "<matplotlib.figure.Figure at 0x110d8f650>"
      ]
     },
     "metadata": {},
     "output_type": "display_data"
    }
   ],
   "source": [
    "plt.plot(z1,elec_generated,'o')\n",
    "plt.title('Electrons generated vs propagation distance (z)')\n",
    "plt.ylabel('# of e-')\n",
    "plt.xlabel('Propagation distance - z (mm)')\n",
    "print \"Total number of e- generated: \" + str(elec_generated.sum())"
   ]
  },
  {
   "cell_type": "code",
   "execution_count": 18,
   "metadata": {
    "collapsed": false
   },
   "outputs": [],
   "source": [
    "graphlab.canvas.set_target('ipynb')\n",
    "sf_energy_deposit['energy_deposit'] = sf_energy_deposit['energy_deposit']*1e6\n"
   ]
  },
  {
   "cell_type": "code",
   "execution_count": 19,
   "metadata": {
    "collapsed": false
   },
   "outputs": [
    {
     "data": {
      "application/javascript": [
       "$(\"head\").append($(\"<link/>\").attr({\n",
       "  rel:  \"stylesheet\",\n",
       "  type: \"text/css\",\n",
       "  href: \"//cdnjs.cloudflare.com/ajax/libs/font-awesome/4.1.0/css/font-awesome.min.css\"\n",
       "}));\n",
       "$(\"head\").append($(\"<link/>\").attr({\n",
       "  rel:  \"stylesheet\",\n",
       "  type: \"text/css\",\n",
       "  href: \"https://static.turi.com/products/graphlab-create/2.1/canvas/css/canvas.css\"\n",
       "}));\n",
       "\n",
       "            (function(){\n",
       "\n",
       "                var e = null;\n",
       "                if (typeof element == 'undefined') {\n",
       "                    var scripts = document.getElementsByTagName('script');\n",
       "                    var thisScriptTag = scripts[scripts.length-1];\n",
       "                    var parentDiv = thisScriptTag.parentNode;\n",
       "                    e = document.createElement('div');\n",
       "                    parentDiv.appendChild(e);\n",
       "                } else {\n",
       "                    e = element[0];\n",
       "                }\n",
       "\n",
       "                if (typeof requirejs !== 'undefined') {\n",
       "                    // disable load timeout; ipython_app.js is large and can take a while to load.\n",
       "                    requirejs.config({waitSeconds: 0});\n",
       "                }\n",
       "\n",
       "                require(['https://static.turi.com/products/graphlab-create/2.1/canvas/js/ipython_app.js'], function(IPythonApp){\n",
       "                    var app = new IPythonApp();\n",
       "                    app.attachView('sarray','Numeric', {\"ipython\": true, \"sketch\": {\"std\": 478.8534699568487, \"complete\": true, \"min\": 10.0702, \"max\": 1036.1100000000001, \"quantile\": [10.0702, 10.0702, 10.0702, 11.4243, 11.4243, 11.658700000000001, 11.658700000000001, 11.658700000000001, 12.341199999999999, 12.341199999999999, 12.341199999999999, 14.331299999999999, 14.331299999999999, 18.534299999999998, 18.534299999999998, 18.5458, 18.5458, 18.5458, 19.0666, 19.0666, 23.7695, 23.7695, 23.7695, 24.089199999999998, 24.089199999999998, 26.2495, 26.2495, 26.2495, 27.2817, 27.2817, 46.2443, 46.2443, 46.2443, 50.937, 50.937, 52.1227, 52.1227, 52.1227, 61.93149999999999, 61.93149999999999, 991.3109999999999, 991.3109999999999, 991.3109999999999, 992.571, 992.571, 992.613, 992.613, 992.613, 993.1569999999999, 993.1569999999999, 993.5810000000001, 993.5810000000001, 993.5810000000001, 996.1419999999999, 996.1419999999999, 997.031, 997.031, 997.031, 998.2070000000001, 998.2070000000001, 1000.0300000000001, 1000.0300000000001, 1000.0300000000001, 1001.3100000000001, 1001.3100000000001, 1001.61, 1001.61, 1001.61, 1003.5, 1003.5, 1003.77, 1003.77, 1003.77, 1003.91, 1003.91, 1005.2800000000001, 1005.2800000000001, 1005.2800000000001, 1005.98, 1005.98, 1006.9300000000001, 1006.9300000000001, 1006.9300000000001, 1007.0299999999999, 1007.0299999999999, 1008.62, 1008.62, 1008.62, 1009.4100000000001, 1009.4100000000001, 1012.89, 1012.89, 1012.89, 1014.5600000000001, 1014.5600000000001, 1018.0, 1018.0, 1018.0, 1036.1100000000001, 1036.1100000000001, 1036.1100000000001], \"median\": 993.5810000000001, \"numeric\": true, \"num_unique\": 40, \"num_undefined\": 0, \"var\": 229300.6456897146, \"progress\": 1.0, \"size\": 40, \"frequent_items\": {\"1003.5\": {\"frequency\": 1, \"value\": 1003.5}, \"11.658700000000001\": {\"frequency\": 1, \"value\": 11.658700000000001}, \"10.0702\": {\"frequency\": 1, \"value\": 10.0702}, \"1001.3100000000001\": {\"frequency\": 1, \"value\": 1001.3100000000001}, \"52.1227\": {\"frequency\": 1, \"value\": 52.1227}, \"18.534299999999998\": {\"frequency\": 1, \"value\": 18.534299999999998}, \"1005.2800000000001\": {\"frequency\": 1, \"value\": 1005.2800000000001}, \"1036.1100000000001\": {\"frequency\": 1, \"value\": 1036.1100000000001}, \"12.341199999999999\": {\"frequency\": 1, \"value\": 12.341199999999999}, \"61.93149999999999\": {\"frequency\": 1, \"value\": 61.93149999999999}, \"14.331299999999999\": {\"frequency\": 1, \"value\": 14.331299999999999}, \"1001.61\": {\"frequency\": 1, \"value\": 1001.61}, \"1014.5600000000001\": {\"frequency\": 1, \"value\": 1014.5600000000001}, \"1000.0300000000001\": {\"frequency\": 1, \"value\": 1000.0300000000001}, \"992.571\": {\"frequency\": 1, \"value\": 992.571}, \"993.1569999999999\": {\"frequency\": 1, \"value\": 993.1569999999999}, \"1005.98\": {\"frequency\": 1, \"value\": 1005.98}, \"18.5458\": {\"frequency\": 1, \"value\": 18.5458}, \"992.613\": {\"frequency\": 1, \"value\": 992.613}, \"991.3109999999999\": {\"frequency\": 1, \"value\": 991.3109999999999}, \"1003.91\": {\"frequency\": 1, \"value\": 1003.91}, \"1008.62\": {\"frequency\": 1, \"value\": 1008.62}, \"998.2070000000001\": {\"frequency\": 1, \"value\": 998.2070000000001}, \"1007.0299999999999\": {\"frequency\": 1, \"value\": 1007.0299999999999}, \"996.1419999999999\": {\"frequency\": 1, \"value\": 996.1419999999999}, \"50.937\": {\"frequency\": 1, \"value\": 50.937}, \"19.0666\": {\"frequency\": 1, \"value\": 19.0666}, \"23.7695\": {\"frequency\": 1, \"value\": 23.7695}, \"993.5810000000001\": {\"frequency\": 1, \"value\": 993.5810000000001}, \"1009.4100000000001\": {\"frequency\": 1, \"value\": 1009.4100000000001}, \"1003.77\": {\"frequency\": 1, \"value\": 1003.77}, \"1006.9300000000001\": {\"frequency\": 1, \"value\": 1006.9300000000001}, \"1012.89\": {\"frequency\": 1, \"value\": 1012.89}, \"46.2443\": {\"frequency\": 1, \"value\": 46.2443}, \"11.4243\": {\"frequency\": 1, \"value\": 11.4243}, \"26.2495\": {\"frequency\": 1, \"value\": 26.2495}, \"997.031\": {\"frequency\": 1, \"value\": 997.031}, \"24.089199999999998\": {\"frequency\": 1, \"value\": 24.089199999999998}, \"27.2817\": {\"frequency\": 1, \"value\": 27.2817}, \"1018.0\": {\"frequency\": 1, \"value\": 1018.0}}, \"mean\": 613.05377}, \"selected_variable\": {\"name\": [\"<SArray>\"], \"dtype\": \"float\", \"view_component\": \"Numeric\", \"view_file\": \"sarray\", \"descriptives\": {\"rows\": 40}, \"type\": \"SArray\", \"view_components\": [\"Numeric\", \"Categorical\"]}, \"histogram\": {\"progress\": 1.0, \"histogram\": {\"max\": 1040.6805104000002, \"bins\": [16, 0, 0, 0, 0, 0, 0, 0, 0, 0, 0, 24], \"min\": 4.491281599999979}, \"min\": 10.0702, \"complete\": 1, \"max\": 1036.1100000000001}}, e);\n",
       "                });\n",
       "            })();\n",
       "        "
      ]
     },
     "metadata": {},
     "output_type": "display_data"
    }
   ],
   "source": [
    "sf_energy_deposit['energy_deposit'].show()"
   ]
  },
  {
   "cell_type": "markdown",
   "metadata": {
    "collapsed": true
   },
   "source": [
    "# 3D Plot"
   ]
  },
  {
   "cell_type": "code",
   "execution_count": 20,
   "metadata": {
    "collapsed": false
   },
   "outputs": [
    {
     "data": {
      "text/plain": [
       "<mpl_toolkits.mplot3d.art3d.Path3DCollection at 0x1182dbfd0>"
      ]
     },
     "execution_count": 20,
     "metadata": {},
     "output_type": "execute_result"
    },
    {
     "data": {
      "image/png": "[encoded data removed]",
      "text/plain": [
       "<matplotlib.figure.Figure at 0x110e12610>"
      ]
     },
     "metadata": {},
     "output_type": "display_data"
    }
   ],
   "source": [
    "from mpl_toolkits.mplot3d import Axes3D\n",
    "Cen3D = plt.figure(1)\n",
    "Cen3D.clf()\n",
    "ax = Cen3D.add_subplot(111, projection='3d')\n",
    "ax.scatter(x1,y1,z1,cmap='hot',s=en_ev,alpha=0.5)\n"
   ]
  },
  {
   "cell_type": "markdown",
   "metadata": {},
   "source": [
    "# Secondary electrons generated"
   ]
  },
  {
   "cell_type": "code",
   "execution_count": 21,
   "metadata": {
    "collapsed": false
   },
   "outputs": [],
   "source": [
    "sf_el = sf[sf['particle_name']=='e-']"
   ]
  },
  {
   "cell_type": "code",
   "execution_count": 22,
   "metadata": {
    "collapsed": false
   },
   "outputs": [],
   "source": [
    "sf_el['position_r'] = sf_el.apply(get_radial_value)\n",
    "sf_el['num_e_gen'] = sf_el.apply(lambda x: return_num_electrons(x,'avg',4.1))\n",
    "sf_el['kin_energy_from_vel'] = sf_el.apply(get_kinetic_energy_from_vel)\n",
    "sf_el['energy_deposit']=sf_el['energy_deposit']*1e6 #convert to ev"
   ]
  },
  {
   "cell_type": "code",
   "execution_count": 23,
   "metadata": {
    "collapsed": false
   },
   "outputs": [],
   "source": [
    "el_resume = sf_el.groupby(key_columns='count_particle',\n",
    "                        operations={'sum_energy_deposit': graphlab.aggregate.SUM('energy_deposit'),\n",
    "                                       'num_steps':graphlab.aggregate.COUNT()})\n"
   ]
  },
  {
   "cell_type": "code",
   "execution_count": 24,
   "metadata": {
    "collapsed": false
   },
   "outputs": [
    {
     "data": {
      "text/html": [
       "<div style=\"max-height:1000px;max-width:1500px;overflow:auto;\"><table frame=\"box\" rules=\"cols\">\n",
       "    <tr>\n",
       "        <th style=\"padding-left: 1em; padding-right: 1em; text-align: center\">count_particle</th>\n",
       "        <th style=\"padding-left: 1em; padding-right: 1em; text-align: center\">sum_energy_deposit</th>\n",
       "        <th style=\"padding-left: 1em; padding-right: 1em; text-align: center\">num_steps</th>\n",
       "    </tr>\n",
       "    <tr>\n",
       "        <td style=\"padding-left: 1em; padding-right: 1em; text-align: center; vertical-align: top\">28426</td>\n",
       "        <td style=\"padding-left: 1em; padding-right: 1em; text-align: center; vertical-align: top\">1036.11</td>\n",
       "        <td style=\"padding-left: 1em; padding-right: 1em; text-align: center; vertical-align: top\">2</td>\n",
       "    </tr>\n",
       "    <tr>\n",
       "        <td style=\"padding-left: 1em; padding-right: 1em; text-align: center; vertical-align: top\">89590</td>\n",
       "        <td style=\"padding-left: 1em; padding-right: 1em; text-align: center; vertical-align: top\">1018.0</td>\n",
       "        <td style=\"padding-left: 1em; padding-right: 1em; text-align: center; vertical-align: top\">2</td>\n",
       "    </tr>\n",
       "    <tr>\n",
       "        <td style=\"padding-left: 1em; padding-right: 1em; text-align: center; vertical-align: top\">595581</td>\n",
       "        <td style=\"padding-left: 1em; padding-right: 1em; text-align: center; vertical-align: top\">1014.56</td>\n",
       "        <td style=\"padding-left: 1em; padding-right: 1em; text-align: center; vertical-align: top\">2</td>\n",
       "    </tr>\n",
       "    <tr>\n",
       "        <td style=\"padding-left: 1em; padding-right: 1em; text-align: center; vertical-align: top\">259447</td>\n",
       "        <td style=\"padding-left: 1em; padding-right: 1em; text-align: center; vertical-align: top\">1012.89</td>\n",
       "        <td style=\"padding-left: 1em; padding-right: 1em; text-align: center; vertical-align: top\">2</td>\n",
       "    </tr>\n",
       "    <tr>\n",
       "        <td style=\"padding-left: 1em; padding-right: 1em; text-align: center; vertical-align: top\">992961</td>\n",
       "        <td style=\"padding-left: 1em; padding-right: 1em; text-align: center; vertical-align: top\">1009.41</td>\n",
       "        <td style=\"padding-left: 1em; padding-right: 1em; text-align: center; vertical-align: top\">2</td>\n",
       "    </tr>\n",
       "    <tr>\n",
       "        <td style=\"padding-left: 1em; padding-right: 1em; text-align: center; vertical-align: top\">828567</td>\n",
       "        <td style=\"padding-left: 1em; padding-right: 1em; text-align: center; vertical-align: top\">1008.62</td>\n",
       "        <td style=\"padding-left: 1em; padding-right: 1em; text-align: center; vertical-align: top\">2</td>\n",
       "    </tr>\n",
       "    <tr>\n",
       "        <td style=\"padding-left: 1em; padding-right: 1em; text-align: center; vertical-align: top\">147946</td>\n",
       "        <td style=\"padding-left: 1em; padding-right: 1em; text-align: center; vertical-align: top\">1007.03</td>\n",
       "        <td style=\"padding-left: 1em; padding-right: 1em; text-align: center; vertical-align: top\">2</td>\n",
       "    </tr>\n",
       "    <tr>\n",
       "        <td style=\"padding-left: 1em; padding-right: 1em; text-align: center; vertical-align: top\">741097</td>\n",
       "        <td style=\"padding-left: 1em; padding-right: 1em; text-align: center; vertical-align: top\">1006.93</td>\n",
       "        <td style=\"padding-left: 1em; padding-right: 1em; text-align: center; vertical-align: top\">2</td>\n",
       "    </tr>\n",
       "    <tr>\n",
       "        <td style=\"padding-left: 1em; padding-right: 1em; text-align: center; vertical-align: top\">592658</td>\n",
       "        <td style=\"padding-left: 1em; padding-right: 1em; text-align: center; vertical-align: top\">1005.98</td>\n",
       "        <td style=\"padding-left: 1em; padding-right: 1em; text-align: center; vertical-align: top\">2</td>\n",
       "    </tr>\n",
       "    <tr>\n",
       "        <td style=\"padding-left: 1em; padding-right: 1em; text-align: center; vertical-align: top\">152837</td>\n",
       "        <td style=\"padding-left: 1em; padding-right: 1em; text-align: center; vertical-align: top\">1005.28</td>\n",
       "        <td style=\"padding-left: 1em; padding-right: 1em; text-align: center; vertical-align: top\">2</td>\n",
       "    </tr>\n",
       "</table>\n",
       "[1050 rows x 3 columns]<br/>Note: Only the head of the SFrame is printed.<br/>You can use print_rows(num_rows=m, num_columns=n) to print more rows and columns.\n",
       "</div>"
      ],
      "text/plain": [
       "Columns:\n",
       "\tcount_particle\tint\n",
       "\tsum_energy_deposit\tfloat\n",
       "\tnum_steps\tint\n",
       "\n",
       "Rows: 1050\n",
       "\n",
       "Data:\n",
       "+----------------+--------------------+-----------+\n",
       "| count_particle | sum_energy_deposit | num_steps |\n",
       "+----------------+--------------------+-----------+\n",
       "|     28426      |      1036.11       |     2     |\n",
       "|     89590      |       1018.0       |     2     |\n",
       "|     595581     |      1014.56       |     2     |\n",
       "|     259447     |      1012.89       |     2     |\n",
       "|     992961     |      1009.41       |     2     |\n",
       "|     828567     |      1008.62       |     2     |\n",
       "|     147946     |      1007.03       |     2     |\n",
       "|     741097     |      1006.93       |     2     |\n",
       "|     592658     |      1005.98       |     2     |\n",
       "|     152837     |      1005.28       |     2     |\n",
       "+----------------+--------------------+-----------+\n",
       "[1050 rows x 3 columns]\n",
       "Note: Only the head of the SFrame is printed.\n",
       "You can use print_rows(num_rows=m, num_columns=n) to print more rows and columns."
      ]
     },
     "execution_count": 24,
     "metadata": {},
     "output_type": "execute_result"
    }
   ],
   "source": [
    "sf_el.num_rows()\n",
    "\n",
    "el_resume.sort('sum_energy_deposit',ascending=False)"
   ]
  },
  {
   "cell_type": "code",
   "execution_count": 25,
   "metadata": {
    "collapsed": false
   },
   "outputs": [
    {
     "data": {
      "application/javascript": [
       "$(\"head\").append($(\"<link/>\").attr({\n",
       "  rel:  \"stylesheet\",\n",
       "  type: \"text/css\",\n",
       "  href: \"//cdnjs.cloudflare.com/ajax/libs/font-awesome/4.1.0/css/font-awesome.min.css\"\n",
       "}));\n",
       "$(\"head\").append($(\"<link/>\").attr({\n",
       "  rel:  \"stylesheet\",\n",
       "  type: \"text/css\",\n",
       "  href: \"https://static.turi.com/products/graphlab-create/2.1/canvas/css/canvas.css\"\n",
       "}));\n",
       "\n",
       "            (function(){\n",
       "\n",
       "                var e = null;\n",
       "                if (typeof element == 'undefined') {\n",
       "                    var scripts = document.getElementsByTagName('script');\n",
       "                    var thisScriptTag = scripts[scripts.length-1];\n",
       "                    var parentDiv = thisScriptTag.parentNode;\n",
       "                    e = document.createElement('div');\n",
       "                    parentDiv.appendChild(e);\n",
       "                } else {\n",
       "                    e = element[0];\n",
       "                }\n",
       "\n",
       "                if (typeof requirejs !== 'undefined') {\n",
       "                    // disable load timeout; ipython_app.js is large and can take a while to load.\n",
       "                    requirejs.config({waitSeconds: 0});\n",
       "                }\n",
       "\n",
       "                require(['https://static.turi.com/products/graphlab-create/2.1/canvas/js/ipython_app.js'], function(IPythonApp){\n",
       "                    var app = new IPythonApp();\n",
       "                    app.attachView('sarray','Numeric', {\"ipython\": true, \"sketch\": {\"std\": 149.21729771660455, \"complete\": true, \"min\": 1.01312e-17, \"max\": 1036.1100000000001, \"quantile\": [1.01312e-17, 1.2971900000000001e-17, 1.3765600000000002e-17, 1.46079e-17, 1.5884e-17, 1.69629e-17, 2.08459e-17, 0.363825, 0.692604, 0.934507, 1.18919, 1.30238, 1.51618, 1.61969, 1.8219, 1.9403400000000002, 2.05676, 2.14869, 2.2661700000000002, 2.4601, 2.63685, 2.75479, 2.93058, 3.13159, 3.39635, 3.59424, 3.73764, 3.84175, 3.9442999999999997, 4.13256, 4.185, 4.2991, 4.421010000000001, 4.47179, 4.60335, 4.659009999999999, 4.73445, 4.88177, 5.0567899999999995, 5.18121, 5.30437, 5.37773, 5.44409, 5.58202, 5.652970000000001, 5.7434199999999995, 5.87198, 5.92907, 5.99725, 6.090330000000001, 6.2168399999999995, 6.31902, 6.44842, 6.52865, 6.66264, 6.7484399999999996, 6.8804, 6.961469999999999, 7.01433, 7.085500000000001, 7.20228, 7.27149, 7.3611200000000006, 7.43265, 7.52692, 7.56707, 7.62586, 7.667670000000001, 7.74755, 7.798609999999999, 7.84734, 7.93363, 7.984719999999999, 8.043800000000001, 8.144, 8.26304, 8.35397, 8.41836, 8.45318, 8.543289999999999, 8.61528, 8.69075, 8.76895, 8.86514, 8.930729999999999, 8.985019999999999, 9.06748, 9.141480000000001, 9.269730000000001, 9.33297, 9.385489999999999, 9.46448, 9.543619999999999, 9.60713, 9.72198, 9.87547, 11.658700000000001, 23.7695, 993.1569999999999, 1003.91, 1036.1100000000001], \"median\": 6.2168399999999995, \"numeric\": true, \"num_unique\": 1052, \"num_undefined\": 0, \"var\": 22265.801937845798, \"progress\": 1.0, \"size\": 1050, \"frequent_items\": {\"1003.5\": {\"frequency\": 1, \"value\": 1003.5}, \"2.0070200000000002\": {\"frequency\": 1, \"value\": 2.0070200000000002}, \"1.3567399999999998\": {\"frequency\": 1, \"value\": 1.3567399999999998}, \"2.75175\": {\"frequency\": 1, \"value\": 2.75175}, \"7.5688\": {\"frequency\": 1, \"value\": 7.5688}, \"7.59117\": {\"frequency\": 1, \"value\": 7.59117}, \"6.92202\": {\"frequency\": 1, \"value\": 6.92202}, \"7.93363\": {\"frequency\": 1, \"value\": 7.93363}, \"4.659009999999999\": {\"frequency\": 1, \"value\": 4.659009999999999}, \"8.36681\": {\"frequency\": 1, \"value\": 8.36681}, \"4.350009999999999\": {\"frequency\": 1, \"value\": 4.350009999999999}, \"7.01433\": {\"frequency\": 1, \"value\": 7.01433}, \"9.132579999999999\": {\"frequency\": 1, \"value\": 9.132579999999999}, \"1.13095\": {\"frequency\": 1, \"value\": 1.13095}, \"9.49247\": {\"frequency\": 1, \"value\": 9.49247}, \"5.44409\": {\"frequency\": 1, \"value\": 5.44409}, \"9.83424\": {\"frequency\": 1, \"value\": 9.83424}, \"8.20666\": {\"frequency\": 1, \"value\": 8.20666}, \"4.20636\": {\"frequency\": 1, \"value\": 4.20636}, \"1.85496\": {\"frequency\": 1, \"value\": 1.85496}, \"0.9229149999999999\": {\"frequency\": 1, \"value\": 0.9229149999999999}, \"7.82959\": {\"frequency\": 1, \"value\": 7.82959}, \"9.67672\": {\"frequency\": 1, \"value\": 9.67672}, \"7.964059999999999\": {\"frequency\": 1, \"value\": 7.964059999999999}, \"9.46674\": {\"frequency\": 1, \"value\": 9.46674}, \"2.35357\": {\"frequency\": 1, \"value\": 2.35357}, \"8.637360000000001\": {\"frequency\": 1, \"value\": 8.637360000000001}, \"4.172610000000001\": {\"frequency\": 1, \"value\": 4.172610000000001}, \"9.420670000000001\": {\"frequency\": 1, \"value\": 9.420670000000001}, \"6.47946\": {\"frequency\": 1, \"value\": 6.47946}, \"2.2568900000000003\": {\"frequency\": 1, \"value\": 2.2568900000000003}, \"3.72884\": {\"frequency\": 1, \"value\": 3.72884}, \"9.141480000000001\": {\"frequency\": 1, \"value\": 9.141480000000001}, \"8.09969\": {\"frequency\": 1, \"value\": 8.09969}, \"5.79842\": {\"frequency\": 1, \"value\": 5.79842}, \"9.70921\": {\"frequency\": 1, \"value\": 9.70921}, \"1.51714e-17\": {\"frequency\": 1, \"value\": 1.51714e-17}, \"5.73996\": {\"frequency\": 1, \"value\": 5.73996}, \"7.7592099999999995\": {\"frequency\": 1, \"value\": 7.7592099999999995}, \"6.25101\": {\"frequency\": 1, \"value\": 6.25101}, \"5.98463\": {\"frequency\": 1, \"value\": 5.98463}, \"5.1985\": {\"frequency\": 1, \"value\": 5.1985}, \"0.594317\": {\"frequency\": 1, \"value\": 0.594317}, \"3.8127299999999997\": {\"frequency\": 1, \"value\": 3.8127299999999997}, \"9.029\": {\"frequency\": 1, \"value\": 9.029}, \"4.44076\": {\"frequency\": 1, \"value\": 4.44076}, \"4.097709999999999\": {\"frequency\": 1, \"value\": 4.097709999999999}, \"6.961469999999999\": {\"frequency\": 1, \"value\": 6.961469999999999}, \"5.268\": {\"frequency\": 1, \"value\": 5.268}, \"1.18919\": {\"frequency\": 1, \"value\": 1.18919}, \"6.91651\": {\"frequency\": 1, \"value\": 6.91651}, \"0.8676619999999999\": {\"frequency\": 1, \"value\": 0.8676619999999999}, \"2.88715\": {\"frequency\": 1, \"value\": 2.88715}, \"1.48461e-17\": {\"frequency\": 1, \"value\": 1.48461e-17}, \"9.89058\": {\"frequency\": 1, \"value\": 9.89058}, \"1.8507\": {\"frequency\": 1, \"value\": 1.8507}, \"8.01381\": {\"frequency\": 1, \"value\": 8.01381}, \"1.2971900000000001e-17\": {\"frequency\": 1, \"value\": 1.2971900000000001e-17}, \"8.543289999999999\": {\"frequency\": 1, \"value\": 8.543289999999999}, \"1.5884e-17\": {\"frequency\": 1, \"value\": 1.5884e-17}, \"5.92384\": {\"frequency\": 1, \"value\": 5.92384}, \"6.82482\": {\"frequency\": 1, \"value\": 6.82482}, \"1.8219\": {\"frequency\": 1, \"value\": 1.8219}, \"2.1919199999999996\": {\"frequency\": 1, \"value\": 2.1919199999999996}, \"7.28583\": {\"frequency\": 1, \"value\": 7.28583}, \"5.14959\": {\"frequency\": 1, \"value\": 5.14959}, \"7.13238\": {\"frequency\": 1, \"value\": 7.13238}, \"5.6759\": {\"frequency\": 1, \"value\": 5.6759}, \"7.057569999999999\": {\"frequency\": 1, \"value\": 7.057569999999999}, \"52.1227\": {\"frequency\": 1, \"value\": 52.1227}, \"8.22326\": {\"frequency\": 1, \"value\": 8.22326}, \"9.700830000000002\": {\"frequency\": 1, \"value\": 9.700830000000002}, \"4.98416\": {\"frequency\": 1, \"value\": 4.98416}, \"6.34792\": {\"frequency\": 1, \"value\": 6.34792}, \"5.01887\": {\"frequency\": 1, \"value\": 5.01887}, \"6.32554\": {\"frequency\": 1, \"value\": 6.32554}, \"6.48519\": {\"frequency\": 1, \"value\": 6.48519}, \"6.936730000000001\": {\"frequency\": 1, \"value\": 6.936730000000001}, \"5.97465\": {\"frequency\": 1, \"value\": 5.97465}, \"8.041177000000001\": {\"frequency\": 1, \"value\": 8.041177000000001}, \"0.363825\": {\"frequency\": 1, \"value\": 0.363825}, \"14.331299999999999\": {\"frequency\": 1, \"value\": 14.331299999999999}, \"1.3765600000000002e-17\": {\"frequency\": 1, \"value\": 1.3765600000000002e-17}, \"1.62524\": {\"frequency\": 1, \"value\": 1.62524}, \"4.73445\": {\"frequency\": 1, \"value\": 4.73445}, \"8.85523\": {\"frequency\": 1, \"value\": 8.85523}, \"6.956\": {\"frequency\": 1, \"value\": 6.956}, \"5.54448\": {\"frequency\": 1, \"value\": 5.54448}, \"5.59574\": {\"frequency\": 1, \"value\": 5.59574}, \"7.92825\": {\"frequency\": 1, \"value\": 7.92825}, \"8.69671\": {\"frequency\": 1, \"value\": 8.69671}, \"6.58026\": {\"frequency\": 1, \"value\": 6.58026}, \"9.07887\": {\"frequency\": 1, \"value\": 9.07887}, \"8.26304\": {\"frequency\": 1, \"value\": 8.26304}, \"0.574375\": {\"frequency\": 1, \"value\": 0.574375}, \"1.9421599999999999\": {\"frequency\": 1, \"value\": 1.9421599999999999}, \"1.33063\": {\"frequency\": 1, \"value\": 1.33063}, \"1.5592100000000002\": {\"frequency\": 1, \"value\": 1.5592100000000002}, \"8.90204\": {\"frequency\": 1, \"value\": 8.90204}, \"9.306519999999999\": {\"frequency\": 1, \"value\": 9.306519999999999}, \"8.45083\": {\"frequency\": 1, \"value\": 8.45083}, \"8.49085\": {\"frequency\": 1, \"value\": 8.49085}, \"9.04141\": {\"frequency\": 1, \"value\": 9.04141}, \"8.43712\": {\"frequency\": 1, \"value\": 8.43712}, \"6.21329\": {\"frequency\": 1, \"value\": 6.21329}, \"5.81581\": {\"frequency\": 1, \"value\": 5.81581}, \"4.83055\": {\"frequency\": 1, \"value\": 4.83055}, \"1.21646\": {\"frequency\": 1, \"value\": 1.21646}, \"1.47208e-17\": {\"frequency\": 1, \"value\": 1.47208e-17}, \"0.215054\": {\"frequency\": 1, \"value\": 0.215054}, \"7.2431\": {\"frequency\": 1, \"value\": 7.2431}, \"7.701309999999999\": {\"frequency\": 1, \"value\": 7.701309999999999}, \"3.8919099999999998\": {\"frequency\": 1, \"value\": 3.8919099999999998}, \"2.74268\": {\"frequency\": 1, \"value\": 2.74268}, \"7.11261\": {\"frequency\": 1, \"value\": 7.11261}, \"5.91759\": {\"frequency\": 1, \"value\": 5.91759}, \"9.33032\": {\"frequency\": 1, \"value\": 9.33032}, \"8.590269999999999\": {\"frequency\": 1, \"value\": 8.590269999999999}, \"2.71458\": {\"frequency\": 1, \"value\": 2.71458}, \"9.76103\": {\"frequency\": 1, \"value\": 9.76103}, \"8.30339\": {\"frequency\": 1, \"value\": 8.30339}, \"7.738119999999999\": {\"frequency\": 1, \"value\": 7.738119999999999}, \"6.0134\": {\"frequency\": 1, \"value\": 6.0134}, \"2.44002\": {\"frequency\": 1, \"value\": 2.44002}, \"9.60507\": {\"frequency\": 1, \"value\": 9.60507}, \"9.72625\": {\"frequency\": 1, \"value\": 9.72625}, \"9.44565\": {\"frequency\": 1, \"value\": 9.44565}, \"9.95442\": {\"frequency\": 1, \"value\": 9.95442}, \"7.55972\": {\"frequency\": 1, \"value\": 7.55972}, \"5.38807\": {\"frequency\": 1, \"value\": 5.38807}, \"6.81322\": {\"frequency\": 1, \"value\": 6.81322}, \"4.421010000000001\": {\"frequency\": 1, \"value\": 4.421010000000001}, \"2.15836\": {\"frequency\": 1, \"value\": 2.15836}, \"4.10044\": {\"frequency\": 1, \"value\": 4.10044}, \"6.7436799999999995\": {\"frequency\": 1, \"value\": 6.7436799999999995}, \"1.57356\": {\"frequency\": 1, \"value\": 1.57356}, \"6.158\": {\"frequency\": 1, \"value\": 6.158}, \"4.1667700000000005\": {\"frequency\": 1, \"value\": 4.1667700000000005}, \"5.29247\": {\"frequency\": 1, \"value\": 5.29247}, \"9.33297\": {\"frequency\": 1, \"value\": 9.33297}, \"4.7275\": {\"frequency\": 1, \"value\": 4.7275}, \"1.87036e-17\": {\"frequency\": 1, \"value\": 1.87036e-17}, \"6.73913\": {\"frequency\": 1, \"value\": 6.73913}, \"7.1632299999999995\": {\"frequency\": 1, \"value\": 7.1632299999999995}, \"2.6220259999999995\": {\"frequency\": 1, \"value\": 2.6220259999999995}, \"7.572979999999999\": {\"frequency\": 1, \"value\": 7.572979999999999}, \"2.3746199999999997\": {\"frequency\": 1, \"value\": 2.3746199999999997}, \"7.938840000000001\": {\"frequency\": 1, \"value\": 7.938840000000001}, \"5.6783\": {\"frequency\": 1, \"value\": 5.6783}, \"4.4223300000000005\": {\"frequency\": 1, \"value\": 4.4223300000000005}, \"2.1586700000000003\": {\"frequency\": 1, \"value\": 2.1586700000000003}, \"0.223694\": {\"frequency\": 1, \"value\": 0.223694}, \"1001.3100000000001\": {\"frequency\": 1, \"value\": 1001.3100000000001}, \"992.571\": {\"frequency\": 1, \"value\": 992.571}, \"6.01184\": {\"frequency\": 1, \"value\": 6.01184}, \"7.401009999999999\": {\"frequency\": 1, \"value\": 7.401009999999999}, \"8.2526\": {\"frequency\": 1, \"value\": 8.2526}, \"4.4156200000000005\": {\"frequency\": 1, \"value\": 4.4156200000000005}, \"6.5067699999999995\": {\"frequency\": 1, \"value\": 6.5067699999999995}, \"7.800789999999999\": {\"frequency\": 1, \"value\": 7.800789999999999}, \"9.54151\": {\"frequency\": 1, \"value\": 9.54151}, \"9.35541\": {\"frequency\": 1, \"value\": 9.35541}, \"6.875559999999999\": {\"frequency\": 1, \"value\": 6.875559999999999}, \"9.51793\": {\"frequency\": 1, \"value\": 9.51793}, \"3.83244\": {\"frequency\": 1, \"value\": 3.83244}, \"3.92649\": {\"frequency\": 1, \"value\": 3.92649}, \"5.30462\": {\"frequency\": 1, \"value\": 5.30462}, \"9.00495\": {\"frequency\": 1, \"value\": 9.00495}, \"4.04338\": {\"frequency\": 1, \"value\": 4.04338}, \"3.40406\": {\"frequency\": 1, \"value\": 3.40406}, \"2.0107999999999997\": {\"frequency\": 1, \"value\": 2.0107999999999997}, \"7.62939\": {\"frequency\": 1, \"value\": 7.62939}, \"7.74912\": {\"frequency\": 1, \"value\": 7.74912}, \"2.10595\": {\"frequency\": 1, \"value\": 2.10595}, \"6.250319999999999\": {\"frequency\": 1, \"value\": 6.250319999999999}, \"2.46971\": {\"frequency\": 1, \"value\": 2.46971}, \"4.6529\": {\"frequency\": 1, \"value\": 4.6529}, \"7.798609999999999\": {\"frequency\": 1, \"value\": 7.798609999999999}, \"1.6241100000000002e-17\": {\"frequency\": 1, \"value\": 1.6241100000000002e-17}, \"3.1659800000000002\": {\"frequency\": 1, \"value\": 3.1659800000000002}, \"7.653230000000001\": {\"frequency\": 1, \"value\": 7.653230000000001}, \"5.25645\": {\"frequency\": 1, \"value\": 5.25645}, \"8.6392\": {\"frequency\": 1, \"value\": 8.6392}, \"8.54798\": {\"frequency\": 1, \"value\": 8.54798}, \"1.42505e-17\": {\"frequency\": 1, \"value\": 1.42505e-17}, \"5.43971\": {\"frequency\": 1, \"value\": 5.43971}, \"6.0482\": {\"frequency\": 1, \"value\": 6.0482}, \"6.22376\": {\"frequency\": 1, \"value\": 6.22376}, \"8.956290000000001\": {\"frequency\": 1, \"value\": 8.956290000000001}, \"8.340060000000001\": {\"frequency\": 1, \"value\": 8.340060000000001}, \"8.97523\": {\"frequency\": 1, \"value\": 8.97523}, \"3.13159\": {\"frequency\": 1, \"value\": 3.13159}, \"5.4055\": {\"frequency\": 1, \"value\": 5.4055}, \"7.6777299999999995\": {\"frequency\": 1, \"value\": 7.6777299999999995}, \"5.38804\": {\"frequency\": 1, \"value\": 5.38804}, \"3.55076\": {\"frequency\": 1, \"value\": 3.55076}, \"6.5053\": {\"frequency\": 1, \"value\": 6.5053}, \"9.39437\": {\"frequency\": 1, \"value\": 9.39437}, \"2.69752\": {\"frequency\": 1, \"value\": 2.69752}, \"6.33007\": {\"frequency\": 1, \"value\": 6.33007}, \"7.50139\": {\"frequency\": 1, \"value\": 7.50139}, \"3.60139\": {\"frequency\": 1, \"value\": 3.60139}, \"5.73982\": {\"frequency\": 1, \"value\": 5.73982}, \"5.374289999999999\": {\"frequency\": 1, \"value\": 5.374289999999999}, \"1.35165e-17\": {\"frequency\": 1, \"value\": 1.35165e-17}, \"7.095140000000001\": {\"frequency\": 1, \"value\": 7.095140000000001}, \"9.80474\": {\"frequency\": 1, \"value\": 9.80474}, \"2.14869\": {\"frequency\": 1, \"value\": 2.14869}, \"4.679049999999999\": {\"frequency\": 1, \"value\": 4.679049999999999}, \"4.72434\": {\"frequency\": 1, \"value\": 4.72434}, \"2.8126599999999997\": {\"frequency\": 1, \"value\": 2.8126599999999997}, \"4.11522\": {\"frequency\": 1, \"value\": 4.11522}, \"8.79626\": {\"frequency\": 1, \"value\": 8.79626}, \"4.05727\": {\"frequency\": 1, \"value\": 4.05727}, \"8.09505\": {\"frequency\": 1, \"value\": 8.09505}, \"5.62915\": {\"frequency\": 1, \"value\": 5.62915}, \"8.607650000000001\": {\"frequency\": 1, \"value\": 8.607650000000001}, \"6.90793\": {\"frequency\": 1, \"value\": 6.90793}, \"5.02239\": {\"frequency\": 1, \"value\": 5.02239}, \"1.0106\": {\"frequency\": 1, \"value\": 1.0106}, \"8.043009999999999\": {\"frequency\": 1, \"value\": 8.043009999999999}, \"1.79397e-17\": {\"frequency\": 1, \"value\": 1.79397e-17}, \"2.4601\": {\"frequency\": 1, \"value\": 2.4601}, \"2.38671\": {\"frequency\": 1, \"value\": 2.38671}, \"1.23461\": {\"frequency\": 1, \"value\": 1.23461}, \"7.52692\": {\"frequency\": 1, \"value\": 7.52692}, \"6.51568\": {\"frequency\": 1, \"value\": 6.51568}, \"8.26942\": {\"frequency\": 1, \"value\": 8.26942}, \"8.65319\": {\"frequency\": 1, \"value\": 8.65319}, \"6.148750000000001\": {\"frequency\": 1, \"value\": 6.148750000000001}, \"992.613\": {\"frequency\": 1, \"value\": 992.613}, \"1.3559699999999999e-17\": {\"frequency\": 1, \"value\": 1.3559699999999999e-17}, \"1.57238\": {\"frequency\": 1, \"value\": 1.57238}, \"2.7898099999999997\": {\"frequency\": 1, \"value\": 2.7898099999999997}, \"5.6174599999999995\": {\"frequency\": 1, \"value\": 5.6174599999999995}, \"8.8255\": {\"frequency\": 1, \"value\": 8.8255}, \"8.98847\": {\"frequency\": 1, \"value\": 8.98847}, \"5.5517900000000004\": {\"frequency\": 1, \"value\": 5.5517900000000004}, \"8.57373\": {\"frequency\": 1, \"value\": 8.57373}, \"7.984719999999999\": {\"frequency\": 1, \"value\": 7.984719999999999}, \"2.5492399999999997\": {\"frequency\": 1, \"value\": 2.5492399999999997}, \"6.30246\": {\"frequency\": 1, \"value\": 6.30246}, \"2.34066\": {\"frequency\": 1, \"value\": 2.34066}, \"4.47179\": {\"frequency\": 1, \"value\": 4.47179}, \"6.71608\": {\"frequency\": 1, \"value\": 6.71608}, \"1.3044909999999998\": {\"frequency\": 1, \"value\": 1.3044909999999998}, \"1.9403400000000002\": {\"frequency\": 1, \"value\": 1.9403400000000002}, \"2.66965\": {\"frequency\": 1, \"value\": 2.66965}, \"7.47307\": {\"frequency\": 1, \"value\": 7.47307}, \"2.1106499999999997\": {\"frequency\": 1, \"value\": 2.1106499999999997}, \"3.88593\": {\"frequency\": 1, \"value\": 3.88593}, \"0.272372\": {\"frequency\": 1, \"value\": 0.272372}, \"8.8857\": {\"frequency\": 1, \"value\": 8.8857}, \"5.03063\": {\"frequency\": 1, \"value\": 5.03063}, \"7.25481\": {\"frequency\": 1, \"value\": 7.25481}, \"2.57693\": {\"frequency\": 1, \"value\": 2.57693}, \"1.54566\": {\"frequency\": 1, \"value\": 1.54566}, \"7.56711\": {\"frequency\": 1, \"value\": 7.56711}, \"8.42424\": {\"frequency\": 1, \"value\": 8.42424}, \"2.8500900000000002\": {\"frequency\": 1, \"value\": 2.8500900000000002}, \"8.90813\": {\"frequency\": 1, \"value\": 8.90813}, \"5.62467\": {\"frequency\": 1, \"value\": 5.62467}, \"9.4888\": {\"frequency\": 1, \"value\": 9.4888}, \"8.5618\": {\"frequency\": 1, \"value\": 8.5618}, \"8.42136\": {\"frequency\": 1, \"value\": 8.42136}, \"7.899900000000001\": {\"frequency\": 1, \"value\": 7.899900000000001}, \"7.7247200000000005\": {\"frequency\": 1, \"value\": 7.7247200000000005}, \"1007.0299999999999\": {\"frequency\": 1, \"value\": 1007.0299999999999}, \"5.64044\": {\"frequency\": 1, \"value\": 5.64044}, \"7.86796\": {\"frequency\": 1, \"value\": 7.86796}, \"9.982750000000001\": {\"frequency\": 1, \"value\": 9.982750000000001}, \"9.73817\": {\"frequency\": 1, \"value\": 9.73817}, \"1.86944\": {\"frequency\": 1, \"value\": 1.86944}, \"2.05676\": {\"frequency\": 1, \"value\": 2.05676}, \"6.80472\": {\"frequency\": 1, \"value\": 6.80472}, \"6.9243\": {\"frequency\": 1, \"value\": 6.9243}, \"5.780749999999999\": {\"frequency\": 1, \"value\": 5.780749999999999}, \"8.44825\": {\"frequency\": 1, \"value\": 8.44825}, \"3.75488\": {\"frequency\": 1, \"value\": 3.75488}, \"8.799\": {\"frequency\": 1, \"value\": 8.799}, \"1.20082\": {\"frequency\": 1, \"value\": 1.20082}, \"9.23721\": {\"frequency\": 1, \"value\": 9.23721}, \"993.1569999999999\": {\"frequency\": 1, \"value\": 993.1569999999999}, \"8.317200000000001\": {\"frequency\": 1, \"value\": 8.317200000000001}, \"4.461259999999999\": {\"frequency\": 1, \"value\": 4.461259999999999}, \"7.46933\": {\"frequency\": 1, \"value\": 7.46933}, \"3.84175\": {\"frequency\": 1, \"value\": 3.84175}, \"8.6507\": {\"frequency\": 1, \"value\": 8.6507}, \"1.38339\": {\"frequency\": 1, \"value\": 1.38339}, \"5.94555\": {\"frequency\": 1, \"value\": 5.94555}, \"7.00086\": {\"frequency\": 1, \"value\": 7.00086}, \"8.35397\": {\"frequency\": 1, \"value\": 8.35397}, \"3.2719899999999997\": {\"frequency\": 1, \"value\": 3.2719899999999997}, \"2.116912\": {\"frequency\": 1, \"value\": 2.116912}, \"4.75278\": {\"frequency\": 1, \"value\": 4.75278}, \"1.3203100000000002e-17\": {\"frequency\": 1, \"value\": 1.3203100000000002e-17}, \"2.2148\": {\"frequency\": 1, \"value\": 2.2148}, \"7.761410000000001\": {\"frequency\": 1, \"value\": 7.761410000000001}, \"6.38114\": {\"frequency\": 1, \"value\": 6.38114}, \"5.75087\": {\"frequency\": 1, \"value\": 5.75087}, \"7.52615\": {\"frequency\": 1, \"value\": 7.52615}, \"0.873853\": {\"frequency\": 1, \"value\": 0.873853}, \"7.39061\": {\"frequency\": 1, \"value\": 7.39061}, \"9.007340000000001\": {\"frequency\": 1, \"value\": 9.007340000000001}, \"5.65815\": {\"frequency\": 1, \"value\": 5.65815}, \"6.69817\": {\"frequency\": 1, \"value\": 6.69817}, \"6.8804\": {\"frequency\": 1, \"value\": 6.8804}, \"1.03165\": {\"frequency\": 1, \"value\": 1.03165}, \"1.92691\": {\"frequency\": 1, \"value\": 1.92691}, \"6.173220000000001\": {\"frequency\": 1, \"value\": 6.173220000000001}, \"4.13327\": {\"frequency\": 1, \"value\": 4.13327}, \"8.71967\": {\"frequency\": 1, \"value\": 8.71967}, \"3.7491600000000003\": {\"frequency\": 1, \"value\": 3.7491600000000003}, \"1.56841e-17\": {\"frequency\": 1, \"value\": 1.56841e-17}, \"7.893000000000001\": {\"frequency\": 1, \"value\": 7.893000000000001}, \"2.57887\": {\"frequency\": 1, \"value\": 2.57887}, \"7.36407\": {\"frequency\": 1, \"value\": 7.36407}, \"6.66264\": {\"frequency\": 1, \"value\": 6.66264}, \"2.23793e-17\": {\"frequency\": 1, \"value\": 2.23793e-17}, \"8.3695\": {\"frequency\": 1, \"value\": 8.3695}, \"7.957560000000001\": {\"frequency\": 1, \"value\": 7.957560000000001}, \"4.36451\": {\"frequency\": 1, \"value\": 4.36451}, \"1.3442900000000001e-17\": {\"frequency\": 1, \"value\": 1.3442900000000001e-17}, \"1.95919\": {\"frequency\": 1, \"value\": 1.95919}, \"50.937\": {\"frequency\": 1, \"value\": 50.937}, \"6.55905\": {\"frequency\": 1, \"value\": 6.55905}, \"2.01191\": {\"frequency\": 1, \"value\": 2.01191}, \"8.01933\": {\"frequency\": 1, \"value\": 8.01933}, \"2.452492\": {\"frequency\": 1, \"value\": 2.452492}, \"11.658700000000001\": {\"frequency\": 1, \"value\": 11.658700000000001}, \"0.844688\": {\"frequency\": 1, \"value\": 0.844688}, \"8.86514\": {\"frequency\": 1, \"value\": 8.86514}, \"5.29633\": {\"frequency\": 1, \"value\": 5.29633}, \"1.5508199999999999\": {\"frequency\": 1, \"value\": 1.5508199999999999}, \"7.655519999999999\": {\"frequency\": 1, \"value\": 7.655519999999999}, \"6.13831\": {\"frequency\": 1, \"value\": 6.13831}, \"6.66359\": {\"frequency\": 1, \"value\": 6.66359}, \"2.09875\": {\"frequency\": 1, \"value\": 2.09875}, \"2.06017e-17\": {\"frequency\": 1, \"value\": 2.06017e-17}, \"1.67669e-17\": {\"frequency\": 1, \"value\": 1.67669e-17}, \"7.56136\": {\"frequency\": 1, \"value\": 7.56136}, \"1.01312e-17\": {\"frequency\": 1, \"value\": 1.01312e-17}, \"2.46958\": {\"frequency\": 1, \"value\": 2.46958}, \"2.7582\": {\"frequency\": 1, \"value\": 2.7582}, \"3.92182\": {\"frequency\": 1, \"value\": 3.92182}, \"5.8949\": {\"frequency\": 1, \"value\": 5.8949}, \"5.652970000000001\": {\"frequency\": 1, \"value\": 5.652970000000001}, \"6.80992\": {\"frequency\": 1, \"value\": 6.80992}, \"7.205629999999999\": {\"frequency\": 1, \"value\": 7.205629999999999}, \"2.08459e-17\": {\"frequency\": 1, \"value\": 2.08459e-17}, \"6.071490000000001\": {\"frequency\": 1, \"value\": 6.071490000000001}, \"8.05063\": {\"frequency\": 1, \"value\": 8.05063}, \"1.57487e-17\": {\"frequency\": 1, \"value\": 1.57487e-17}, \"7.324990000000001\": {\"frequency\": 1, \"value\": 7.324990000000001}, \"1009.4100000000001\": {\"frequency\": 1, \"value\": 1009.4100000000001}, \"2.5560199999999997\": {\"frequency\": 1, \"value\": 2.5560199999999997}, \"9.679089999999999\": {\"frequency\": 1, \"value\": 9.679089999999999}, \"8.27194\": {\"frequency\": 1, \"value\": 8.27194}, \"4.15862\": {\"frequency\": 1, \"value\": 4.15862}, \"7.96646\": {\"frequency\": 1, \"value\": 7.96646}, \"7.894820000000001\": {\"frequency\": 1, \"value\": 7.894820000000001}, \"7.783159999999999\": {\"frequency\": 1, \"value\": 7.783159999999999}, \"2.71075\": {\"frequency\": 1, \"value\": 2.71075}, \"6.25998\": {\"frequency\": 1, \"value\": 6.25998}, \"2.14263\": {\"frequency\": 1, \"value\": 2.14263}, \"3.7121500000000003\": {\"frequency\": 1, \"value\": 3.7121500000000003}, \"8.975\": {\"frequency\": 1, \"value\": 8.975}, \"5.95028\": {\"frequency\": 1, \"value\": 5.95028}, \"7.8540600000000005\": {\"frequency\": 1, \"value\": 7.8540600000000005}, \"1.83869\": {\"frequency\": 1, \"value\": 1.83869}, \"8.63014\": {\"frequency\": 1, \"value\": 8.63014}, \"9.25337\": {\"frequency\": 1, \"value\": 9.25337}, \"7.323840000000001\": {\"frequency\": 1, \"value\": 7.323840000000001}, \"9.544789999999999\": {\"frequency\": 1, \"value\": 9.544789999999999}, \"9.071470000000001\": {\"frequency\": 1, \"value\": 9.071470000000001}, \"3.60152\": {\"frequency\": 1, \"value\": 3.60152}, \"3.31007\": {\"frequency\": 1, \"value\": 3.31007}, \"5.88807\": {\"frequency\": 1, \"value\": 5.88807}, \"7.64157\": {\"frequency\": 1, \"value\": 7.64157}, \"7.55659\": {\"frequency\": 1, \"value\": 7.55659}, \"1.88783\": {\"frequency\": 1, \"value\": 1.88783}, \"5.077299999999999\": {\"frequency\": 1, \"value\": 5.077299999999999}, \"6.53411\": {\"frequency\": 1, \"value\": 6.53411}, \"7.80724\": {\"frequency\": 1, \"value\": 7.80724}, \"2.92769\": {\"frequency\": 1, \"value\": 2.92769}, \"4.69386\": {\"frequency\": 1, \"value\": 4.69386}, \"7.43262\": {\"frequency\": 1, \"value\": 7.43262}, \"7.98985\": {\"frequency\": 1, \"value\": 7.98985}, \"9.94528\": {\"frequency\": 1, \"value\": 9.94528}, \"5.0864\": {\"frequency\": 1, \"value\": 5.0864}, \"9.33111\": {\"frequency\": 1, \"value\": 9.33111}, \"5.95716\": {\"frequency\": 1, \"value\": 5.95716}, \"7.5997\": {\"frequency\": 1, \"value\": 7.5997}, \"2.95645\": {\"frequency\": 1, \"value\": 2.95645}, \"2.75977\": {\"frequency\": 1, \"value\": 2.75977}, \"8.7134\": {\"frequency\": 1, \"value\": 8.7134}, \"3.0055899999999998\": {\"frequency\": 1, \"value\": 3.0055899999999998}, \"4.0109900000000005\": {\"frequency\": 1, \"value\": 4.0109900000000005}, \"8.4205\": {\"frequency\": 1, \"value\": 8.4205}, \"2.69476\": {\"frequency\": 1, \"value\": 2.69476}, \"1001.61\": {\"frequency\": 1, \"value\": 1001.61}, \"6.64878\": {\"frequency\": 1, \"value\": 6.64878}, \"1.56581\": {\"frequency\": 1, \"value\": 1.56581}, \"5.94827\": {\"frequency\": 1, \"value\": 5.94827}, \"4.480219999999999\": {\"frequency\": 1, \"value\": 4.480219999999999}, \"6.21828\": {\"frequency\": 1, \"value\": 6.21828}, \"6.20704\": {\"frequency\": 1, \"value\": 6.20704}, \"18.47453\": {\"frequency\": 1, \"value\": 18.47453}, \"3.73764\": {\"frequency\": 1, \"value\": 3.73764}, \"4.13256\": {\"frequency\": 1, \"value\": 4.13256}, \"6.61034\": {\"frequency\": 1, \"value\": 6.61034}, \"3.38193\": {\"frequency\": 1, \"value\": 3.38193}, \"2.23867\": {\"frequency\": 1, \"value\": 2.23867}, \"5.3158199999999995\": {\"frequency\": 1, \"value\": 5.3158199999999995}, \"1.70041e-17\": {\"frequency\": 1, \"value\": 1.70041e-17}, \"9.30543\": {\"frequency\": 1, \"value\": 9.30543}, \"0.918075\": {\"frequency\": 1, \"value\": 0.918075}, \"9.66878\": {\"frequency\": 1, \"value\": 9.66878}, \"0.299643\": {\"frequency\": 1, \"value\": 0.299643}, \"5.365970000000001\": {\"frequency\": 1, \"value\": 5.365970000000001}, \"9.20209\": {\"frequency\": 1, \"value\": 9.20209}, \"7.27149\": {\"frequency\": 1, \"value\": 7.27149}, \"8.9784\": {\"frequency\": 1, \"value\": 8.9784}, \"9.73857\": {\"frequency\": 1, \"value\": 9.73857}, \"8.7354\": {\"frequency\": 1, \"value\": 8.7354}, \"5.74023\": {\"frequency\": 1, \"value\": 5.74023}, \"9.60686\": {\"frequency\": 1, \"value\": 9.60686}, \"1.5650600000000001\": {\"frequency\": 1, \"value\": 1.5650600000000001}, \"1.07162e-17\": {\"frequency\": 1, \"value\": 1.07162e-17}, \"4.196669999999999\": {\"frequency\": 1, \"value\": 4.196669999999999}, \"6.01724\": {\"frequency\": 1, \"value\": 6.01724}, \"0.692604\": {\"frequency\": 1, \"value\": 0.692604}, \"7.88787\": {\"frequency\": 1, \"value\": 7.88787}, \"1.04925\": {\"frequency\": 1, \"value\": 1.04925}, \"2.08683\": {\"frequency\": 1, \"value\": 2.08683}, \"2.31136\": {\"frequency\": 1, \"value\": 2.31136}, \"4.66328\": {\"frequency\": 1, \"value\": 4.66328}, \"9.12852\": {\"frequency\": 1, \"value\": 9.12852}, \"5.77774\": {\"frequency\": 1, \"value\": 5.77774}, \"9.20856\": {\"frequency\": 1, \"value\": 9.20856}, \"8.61528\": {\"frequency\": 1, \"value\": 8.61528}, \"8.55931\": {\"frequency\": 1, \"value\": 8.55931}, \"9.373209999999998\": {\"frequency\": 1, \"value\": 9.373209999999998}, \"8.76895\": {\"frequency\": 1, \"value\": 8.76895}, \"4.45503\": {\"frequency\": 1, \"value\": 4.45503}, \"8.7401\": {\"frequency\": 1, \"value\": 8.7401}, \"9.39141\": {\"frequency\": 1, \"value\": 9.39141}, \"61.93149999999999\": {\"frequency\": 1, \"value\": 61.93149999999999}, \"8.46408\": {\"frequency\": 1, \"value\": 8.46408}, \"8.35662\": {\"frequency\": 1, \"value\": 8.35662}, \"7.03083\": {\"frequency\": 1, \"value\": 7.03083}, \"1.2891500000000001e-17\": {\"frequency\": 1, \"value\": 1.2891500000000001e-17}, \"1.43994e-17\": {\"frequency\": 1, \"value\": 1.43994e-17}, \"7.14892\": {\"frequency\": 1, \"value\": 7.14892}, \"7.26535\": {\"frequency\": 1, \"value\": 7.26535}, \"1.2837699999999999\": {\"frequency\": 1, \"value\": 1.2837699999999999}, \"1.8094e-17\": {\"frequency\": 1, \"value\": 1.8094e-17}, \"7.51288\": {\"frequency\": 1, \"value\": 7.51288}, \"2.80068\": {\"frequency\": 1, \"value\": 2.80068}, \"7.68914\": {\"frequency\": 1, \"value\": 7.68914}, \"9.554030000000001\": {\"frequency\": 1, \"value\": 9.554030000000001}, \"2.1149299999999998\": {\"frequency\": 1, \"value\": 2.1149299999999998}, \"8.078380000000001\": {\"frequency\": 1, \"value\": 8.078380000000001}, \"6.07114\": {\"frequency\": 1, \"value\": 6.07114}, \"3.5798099999999997\": {\"frequency\": 1, \"value\": 3.5798099999999997}, \"7.6483799999999995\": {\"frequency\": 1, \"value\": 7.6483799999999995}, \"2.93058\": {\"frequency\": 1, \"value\": 2.93058}, \"7.53742\": {\"frequency\": 1, \"value\": 7.53742}, \"0.5199\": {\"frequency\": 1, \"value\": 0.5199}, \"5.08341\": {\"frequency\": 1, \"value\": 5.08341}, \"12.977549999999999\": {\"frequency\": 1, \"value\": 12.977549999999999}, \"9.58007\": {\"frequency\": 1, \"value\": 9.58007}, \"998.2070000000001\": {\"frequency\": 1, \"value\": 998.2070000000001}, \"5.5324800000000005\": {\"frequency\": 1, \"value\": 5.5324800000000005}, \"1005.2800000000001\": {\"frequency\": 1, \"value\": 1005.2800000000001}, \"3.8664699999999996\": {\"frequency\": 1, \"value\": 3.8664699999999996}, \"1.4675500000000002e-17\": {\"frequency\": 1, \"value\": 1.4675500000000002e-17}, \"3.33224\": {\"frequency\": 1, \"value\": 3.33224}, \"9.349889999999998\": {\"frequency\": 1, \"value\": 9.349889999999998}, \"9.07719\": {\"frequency\": 1, \"value\": 9.07719}, \"9.457790000000001\": {\"frequency\": 1, \"value\": 9.457790000000001}, \"23.7695\": {\"frequency\": 1, \"value\": 23.7695}, \"4.51523\": {\"frequency\": 1, \"value\": 4.51523}, \"1.6180100000000002\": {\"frequency\": 1, \"value\": 1.6180100000000002}, \"9.1105\": {\"frequency\": 1, \"value\": 9.1105}, \"4.17498\": {\"frequency\": 1, \"value\": 4.17498}, \"6.8459699999999994\": {\"frequency\": 1, \"value\": 6.8459699999999994}, \"1003.77\": {\"frequency\": 1, \"value\": 1003.77}, \"1.80094\": {\"frequency\": 1, \"value\": 1.80094}, \"3.77112\": {\"frequency\": 1, \"value\": 3.77112}, \"5.74378\": {\"frequency\": 1, \"value\": 5.74378}, \"1.2556800000000001e-17\": {\"frequency\": 1, \"value\": 1.2556800000000001e-17}, \"5.5963\": {\"frequency\": 1, \"value\": 5.5963}, \"8.09708\": {\"frequency\": 1, \"value\": 8.09708}, \"9.37656\": {\"frequency\": 1, \"value\": 9.37656}, \"9.6441\": {\"frequency\": 1, \"value\": 9.6441}, \"9.05152\": {\"frequency\": 1, \"value\": 9.05152}, \"4.61207\": {\"frequency\": 1, \"value\": 4.61207}, \"9.2136\": {\"frequency\": 1, \"value\": 9.2136}, \"2.09729\": {\"frequency\": 1, \"value\": 2.09729}, \"9.42918\": {\"frequency\": 1, \"value\": 9.42918}, \"9.63739\": {\"frequency\": 1, \"value\": 9.63739}, \"0.520195\": {\"frequency\": 1, \"value\": 0.520195}, \"8.70132\": {\"frequency\": 1, \"value\": 8.70132}, \"5.58185\": {\"frequency\": 1, \"value\": 5.58185}, \"7.56707\": {\"frequency\": 1, \"value\": 7.56707}, \"4.28453\": {\"frequency\": 1, \"value\": 4.28453}, \"1018.0\": {\"frequency\": 1, \"value\": 1018.0}, \"8.45718\": {\"frequency\": 1, \"value\": 8.45718}, \"8.39851\": {\"frequency\": 1, \"value\": 8.39851}, \"9.35355\": {\"frequency\": 1, \"value\": 9.35355}, \"0.407179\": {\"frequency\": 1, \"value\": 0.407179}, \"6.99075\": {\"frequency\": 1, \"value\": 6.99075}, \"6.25065\": {\"frequency\": 1, \"value\": 6.25065}, \"8.84338\": {\"frequency\": 1, \"value\": 8.84338}, \"5.44082\": {\"frequency\": 1, \"value\": 5.44082}, \"7.16594\": {\"frequency\": 1, \"value\": 7.16594}, \"8.486500000000001\": {\"frequency\": 1, \"value\": 8.486500000000001}, \"5.3436699999999995\": {\"frequency\": 1, \"value\": 5.3436699999999995}, \"1.05649\": {\"frequency\": 1, \"value\": 1.05649}, \"4.54871\": {\"frequency\": 1, \"value\": 4.54871}, \"1.1485\": {\"frequency\": 1, \"value\": 1.1485}, \"7.11998\": {\"frequency\": 1, \"value\": 7.11998}, \"1005.98\": {\"frequency\": 1, \"value\": 1005.98}, \"4.2087900000000005\": {\"frequency\": 1, \"value\": 4.2087900000000005}, \"7.30604\": {\"frequency\": 1, \"value\": 7.30604}, \"4.45702\": {\"frequency\": 1, \"value\": 4.45702}, \"7.32675\": {\"frequency\": 1, \"value\": 7.32675}, \"4.46579\": {\"frequency\": 1, \"value\": 4.46579}, \"3.63651\": {\"frequency\": 1, \"value\": 3.63651}, \"5.59956\": {\"frequency\": 1, \"value\": 5.59956}, \"5.38151\": {\"frequency\": 1, \"value\": 5.38151}, \"4.37554\": {\"frequency\": 1, \"value\": 4.37554}, \"4.5770800000000005\": {\"frequency\": 1, \"value\": 4.5770800000000005}, \"7.79653\": {\"frequency\": 1, \"value\": 7.79653}, \"3.6456299999999997\": {\"frequency\": 1, \"value\": 3.6456299999999997}, \"1.42109\": {\"frequency\": 1, \"value\": 1.42109}, \"1.4375500000000002e-17\": {\"frequency\": 1, \"value\": 1.4375500000000002e-17}, \"6.9141200000000005\": {\"frequency\": 1, \"value\": 6.9141200000000005}, \"3.9826900000000003\": {\"frequency\": 1, \"value\": 3.9826900000000003}, \"1.02909\": {\"frequency\": 1, \"value\": 1.02909}, \"9.50343\": {\"frequency\": 1, \"value\": 9.50343}, \"1.63285e-17\": {\"frequency\": 1, \"value\": 1.63285e-17}, \"7.762769999999999\": {\"frequency\": 1, \"value\": 7.762769999999999}, \"8.55306\": {\"frequency\": 1, \"value\": 8.55306}, \"4.60335\": {\"frequency\": 1, \"value\": 4.60335}, \"5.93059\": {\"frequency\": 1, \"value\": 5.93059}, \"2.11856\": {\"frequency\": 1, \"value\": 2.11856}, \"1.34881e-17\": {\"frequency\": 1, \"value\": 1.34881e-17}, \"6.6384300000000005\": {\"frequency\": 1, \"value\": 6.6384300000000005}, \"8.02601\": {\"frequency\": 1, \"value\": 8.02601}, \"1.67947\": {\"frequency\": 1, \"value\": 1.67947}, \"6.15667\": {\"frequency\": 1, \"value\": 6.15667}, \"7.43265\": {\"frequency\": 1, \"value\": 7.43265}, \"7.833629999999999\": {\"frequency\": 1, \"value\": 7.833629999999999}, \"2.56446\": {\"frequency\": 1, \"value\": 2.56446}, \"1.93567\": {\"frequency\": 1, \"value\": 1.93567}, \"6.293240000000001\": {\"frequency\": 1, \"value\": 6.293240000000001}, \"6.419639999999999\": {\"frequency\": 1, \"value\": 6.419639999999999}, \"1.29311\": {\"frequency\": 1, \"value\": 1.29311}, \"6.44842\": {\"frequency\": 1, \"value\": 6.44842}, \"5.18121\": {\"frequency\": 1, \"value\": 5.18121}, \"5.08093\": {\"frequency\": 1, \"value\": 5.08093}, \"3.16699\": {\"frequency\": 1, \"value\": 3.16699}, \"0.406001\": {\"frequency\": 1, \"value\": 0.406001}, \"1.7118200000000002e-17\": {\"frequency\": 1, \"value\": 1.7118200000000002e-17}, \"3.8355\": {\"frequency\": 1, \"value\": 3.8355}, \"4.6745\": {\"frequency\": 1, \"value\": 4.6745}, \"5.91326\": {\"frequency\": 1, \"value\": 5.91326}, \"2.15887\": {\"frequency\": 1, \"value\": 2.15887}, \"2.0279000000000003\": {\"frequency\": 1, \"value\": 2.0279000000000003}, \"7.00965\": {\"frequency\": 1, \"value\": 7.00965}, \"3.8734\": {\"frequency\": 1, \"value\": 3.8734}, \"1.80257\": {\"frequency\": 1, \"value\": 1.80257}, \"8.930729999999999\": {\"frequency\": 1, \"value\": 8.930729999999999}, \"6.49244\": {\"frequency\": 1, \"value\": 6.49244}, \"5.51504\": {\"frequency\": 1, \"value\": 5.51504}, \"2.95204\": {\"frequency\": 1, \"value\": 2.95204}, \"4.61756\": {\"frequency\": 1, \"value\": 4.61756}, \"3.6152499999999996\": {\"frequency\": 1, \"value\": 3.6152499999999996}, \"1003.91\": {\"frequency\": 1, \"value\": 1003.91}, \"3.40428\": {\"frequency\": 1, \"value\": 3.40428}, \"6.48482\": {\"frequency\": 1, \"value\": 6.48482}, \"1.30464\": {\"frequency\": 1, \"value\": 1.30464}, \"5.0567899999999995\": {\"frequency\": 1, \"value\": 5.0567899999999995}, \"2.0383999999999998\": {\"frequency\": 1, \"value\": 2.0383999999999998}, \"4.24454\": {\"frequency\": 1, \"value\": 4.24454}, \"7.29709\": {\"frequency\": 1, \"value\": 7.29709}, \"6.05185\": {\"frequency\": 1, \"value\": 6.05185}, \"1.4010000000000002e-17\": {\"frequency\": 1, \"value\": 1.4010000000000002e-17}, \"0.7590340000000001\": {\"frequency\": 1, \"value\": 0.7590340000000001}, \"16.8576\": {\"frequency\": 1, \"value\": 16.8576}, \"9.72198\": {\"frequency\": 1, \"value\": 9.72198}, \"4.7968\": {\"frequency\": 1, \"value\": 4.7968}, \"46.2443\": {\"frequency\": 1, \"value\": 46.2443}, \"9.0053\": {\"frequency\": 1, \"value\": 9.0053}, \"8.470880000000001\": {\"frequency\": 1, \"value\": 8.470880000000001}, \"2.1935599999999997\": {\"frequency\": 1, \"value\": 2.1935599999999997}, \"4.17714\": {\"frequency\": 1, \"value\": 4.17714}, \"4.42117\": {\"frequency\": 1, \"value\": 4.42117}, \"3.9892\": {\"frequency\": 1, \"value\": 3.9892}, \"1.07658e-17\": {\"frequency\": 1, \"value\": 1.07658e-17}, \"7.0131499999999996\": {\"frequency\": 1, \"value\": 7.0131499999999996}, \"9.3444\": {\"frequency\": 1, \"value\": 9.3444}, \"7.92102\": {\"frequency\": 1, \"value\": 7.92102}, \"0.642692\": {\"frequency\": 1, \"value\": 0.642692}, \"8.52696\": {\"frequency\": 1, \"value\": 8.52696}, \"5.2410000000000005\": {\"frequency\": 1, \"value\": 5.2410000000000005}, \"8.144\": {\"frequency\": 1, \"value\": 8.144}, \"6.98573\": {\"frequency\": 1, \"value\": 6.98573}, \"8.32398\": {\"frequency\": 1, \"value\": 8.32398}, \"7.74755\": {\"frequency\": 1, \"value\": 7.74755}, \"1.0398800000000001\": {\"frequency\": 1, \"value\": 1.0398800000000001}, \"4.88177\": {\"frequency\": 1, \"value\": 4.88177}, \"4.453\": {\"frequency\": 1, \"value\": 4.453}, \"4.14651\": {\"frequency\": 1, \"value\": 4.14651}, \"1012.89\": {\"frequency\": 1, \"value\": 1012.89}, \"2.98424\": {\"frequency\": 1, \"value\": 2.98424}, \"5.119459999999999\": {\"frequency\": 1, \"value\": 5.119459999999999}, \"5.35752\": {\"frequency\": 1, \"value\": 5.35752}, \"0.934507\": {\"frequency\": 1, \"value\": 0.934507}, \"8.77577\": {\"frequency\": 1, \"value\": 8.77577}, \"3.55551\": {\"frequency\": 1, \"value\": 3.55551}, \"7.94353\": {\"frequency\": 1, \"value\": 7.94353}, \"9.69462\": {\"frequency\": 1, \"value\": 9.69462}, \"2.2661700000000002\": {\"frequency\": 1, \"value\": 2.2661700000000002}, \"7.54296\": {\"frequency\": 1, \"value\": 7.54296}, \"8.63961\": {\"frequency\": 1, \"value\": 8.63961}, \"7.97648\": {\"frequency\": 1, \"value\": 7.97648}, \"1.2628300000000001e-17\": {\"frequency\": 1, \"value\": 1.2628300000000001e-17}, \"9.46739\": {\"frequency\": 1, \"value\": 9.46739}, \"8.2992\": {\"frequency\": 1, \"value\": 8.2992}, \"5.92404\": {\"frequency\": 1, \"value\": 5.92404}, \"8.45318\": {\"frequency\": 1, \"value\": 8.45318}, \"7.80758\": {\"frequency\": 1, \"value\": 7.80758}, \"7.844119999999999\": {\"frequency\": 1, \"value\": 7.844119999999999}, \"10.0702\": {\"frequency\": 1, \"value\": 10.0702}, \"9.385489999999999\": {\"frequency\": 1, \"value\": 9.385489999999999}, \"4.79178\": {\"frequency\": 1, \"value\": 4.79178}, \"7.56905\": {\"frequency\": 1, \"value\": 7.56905}, \"7.58438\": {\"frequency\": 1, \"value\": 7.58438}, \"1.49163e-17\": {\"frequency\": 1, \"value\": 1.49163e-17}, \"7.99262\": {\"frequency\": 1, \"value\": 7.99262}, \"0.518348\": {\"frequency\": 1, \"value\": 0.518348}, \"12.341199999999999\": {\"frequency\": 1, \"value\": 12.341199999999999}, \"7.61036\": {\"frequency\": 1, \"value\": 7.61036}, \"0.823919\": {\"frequency\": 1, \"value\": 0.823919}, \"1.59742\": {\"frequency\": 1, \"value\": 1.59742}, \"4.288609999999999\": {\"frequency\": 1, \"value\": 4.288609999999999}, \"7.78539\": {\"frequency\": 1, \"value\": 7.78539}, \"7.24817\": {\"frequency\": 1, \"value\": 7.24817}, \"9.908190000000001\": {\"frequency\": 1, \"value\": 9.908190000000001}, \"5.40792\": {\"frequency\": 1, \"value\": 5.40792}, \"8.41836\": {\"frequency\": 1, \"value\": 8.41836}, \"8.16659\": {\"frequency\": 1, \"value\": 8.16659}, \"4.3339\": {\"frequency\": 1, \"value\": 4.3339}, \"18.5458\": {\"frequency\": 1, \"value\": 18.5458}, \"5.26744\": {\"frequency\": 1, \"value\": 5.26744}, \"8.493089999999999\": {\"frequency\": 1, \"value\": 8.493089999999999}, \"1.9204400000000001\": {\"frequency\": 1, \"value\": 1.9204400000000001}, \"8.83367\": {\"frequency\": 1, \"value\": 8.83367}, \"7.52901\": {\"frequency\": 1, \"value\": 7.52901}, \"0.815169\": {\"frequency\": 1, \"value\": 0.815169}, \"1.8638600000000002e-17\": {\"frequency\": 1, \"value\": 1.8638600000000002e-17}, \"5.325699999999999\": {\"frequency\": 1, \"value\": 5.325699999999999}, \"4.17378\": {\"frequency\": 1, \"value\": 4.17378}, \"9.32902\": {\"frequency\": 1, \"value\": 9.32902}, \"8.63098\": {\"frequency\": 1, \"value\": 8.63098}, \"9.494720000000001\": {\"frequency\": 1, \"value\": 9.494720000000001}, \"9.46979\": {\"frequency\": 1, \"value\": 9.46979}, \"996.1419999999999\": {\"frequency\": 1, \"value\": 996.1419999999999}, \"2.83277\": {\"frequency\": 1, \"value\": 2.83277}, \"9.765410000000001\": {\"frequency\": 1, \"value\": 9.765410000000001}, \"4.80755\": {\"frequency\": 1, \"value\": 4.80755}, \"1.2309300000000001e-17\": {\"frequency\": 1, \"value\": 1.2309300000000001e-17}, \"5.17781\": {\"frequency\": 1, \"value\": 5.17781}, \"4.94634\": {\"frequency\": 1, \"value\": 4.94634}, \"9.60068\": {\"frequency\": 1, \"value\": 9.60068}, \"7.4572899999999995\": {\"frequency\": 1, \"value\": 7.4572899999999995}, \"1.70658\": {\"frequency\": 1, \"value\": 1.70658}, \"7.80911\": {\"frequency\": 1, \"value\": 7.80911}, \"0.607986\": {\"frequency\": 1, \"value\": 0.607986}, \"2.75479\": {\"frequency\": 1, \"value\": 2.75479}, \"1.6321800000000002e-17\": {\"frequency\": 1, \"value\": 1.6321800000000002e-17}, \"5.6461500000000004\": {\"frequency\": 1, \"value\": 5.6461500000000004}, \"7.10963\": {\"frequency\": 1, \"value\": 7.10963}, \"7.415089999999999\": {\"frequency\": 1, \"value\": 7.415089999999999}, \"8.928130000000001\": {\"frequency\": 1, \"value\": 8.928130000000001}, \"1.12056\": {\"frequency\": 1, \"value\": 1.12056}, \"6.2504\": {\"frequency\": 1, \"value\": 6.2504}, \"6.62013\": {\"frequency\": 1, \"value\": 6.62013}, \"2.73505\": {\"frequency\": 1, \"value\": 2.73505}, \"5.86169\": {\"frequency\": 1, \"value\": 5.86169}, \"7.54392\": {\"frequency\": 1, \"value\": 7.54392}, \"9.35538\": {\"frequency\": 1, \"value\": 9.35538}, \"4.79742\": {\"frequency\": 1, \"value\": 4.79742}, \"9.88486\": {\"frequency\": 1, \"value\": 9.88486}, \"7.02494\": {\"frequency\": 1, \"value\": 7.02494}, \"6.31902\": {\"frequency\": 1, \"value\": 6.31902}, \"7.5448\": {\"frequency\": 1, \"value\": 7.5448}, \"7.06724\": {\"frequency\": 1, \"value\": 7.06724}, \"8.42871\": {\"frequency\": 1, \"value\": 8.42871}, \"1014.5600000000001\": {\"frequency\": 1, \"value\": 1014.5600000000001}, \"3.17362\": {\"frequency\": 1, \"value\": 3.17362}, \"18.534299999999998\": {\"frequency\": 1, \"value\": 18.534299999999998}, \"8.42023\": {\"frequency\": 1, \"value\": 8.42023}, \"8.232429999999999\": {\"frequency\": 1, \"value\": 8.232429999999999}, \"1.62959e-17\": {\"frequency\": 1, \"value\": 1.62959e-17}, \"7.218\": {\"frequency\": 1, \"value\": 7.218}, \"9.241340000000001\": {\"frequency\": 1, \"value\": 9.241340000000001}, \"3.9226600000000005\": {\"frequency\": 1, \"value\": 3.9226600000000005}, \"1.8052000000000001\": {\"frequency\": 1, \"value\": 1.8052000000000001}, \"9.36206\": {\"frequency\": 1, \"value\": 9.36206}, \"4.63055\": {\"frequency\": 1, \"value\": 4.63055}, \"6.34403\": {\"frequency\": 1, \"value\": 6.34403}, \"7.7330700000000006\": {\"frequency\": 1, \"value\": 7.7330700000000006}, \"1.50864e-17\": {\"frequency\": 1, \"value\": 1.50864e-17}, \"5.88464\": {\"frequency\": 1, \"value\": 5.88464}, \"7.8503300000000005\": {\"frequency\": 1, \"value\": 7.8503300000000005}, \"9.39833\": {\"frequency\": 1, \"value\": 9.39833}, \"8.42781\": {\"frequency\": 1, \"value\": 8.42781}, \"1.2384700000000002\": {\"frequency\": 1, \"value\": 1.2384700000000002}, \"4.18192\": {\"frequency\": 1, \"value\": 4.18192}, \"4.63084\": {\"frequency\": 1, \"value\": 4.63084}, \"6.67068\": {\"frequency\": 1, \"value\": 6.67068}, \"5.892410000000001\": {\"frequency\": 1, \"value\": 5.892410000000001}, \"9.899280000000001\": {\"frequency\": 1, \"value\": 9.899280000000001}, \"8.887939999999999\": {\"frequency\": 1, \"value\": 8.887939999999999}, \"8.5032\": {\"frequency\": 1, \"value\": 8.5032}, \"7.8088299999999995\": {\"frequency\": 1, \"value\": 7.8088299999999995}, \"8.572859999999999\": {\"frequency\": 1, \"value\": 8.572859999999999}, \"6.40538\": {\"frequency\": 1, \"value\": 6.40538}, \"1.46079e-17\": {\"frequency\": 1, \"value\": 1.46079e-17}, \"5.58202\": {\"frequency\": 1, \"value\": 5.58202}, \"5.32917\": {\"frequency\": 1, \"value\": 5.32917}, \"2.51792\": {\"frequency\": 1, \"value\": 2.51792}, \"9.25909\": {\"frequency\": 1, \"value\": 9.25909}, \"8.29911\": {\"frequency\": 1, \"value\": 8.29911}, \"9.59053\": {\"frequency\": 1, \"value\": 9.59053}, \"8.985019999999999\": {\"frequency\": 1, \"value\": 8.985019999999999}, \"9.126100000000001\": {\"frequency\": 1, \"value\": 9.126100000000001}, \"8.92704\": {\"frequency\": 1, \"value\": 8.92704}, \"4.47344\": {\"frequency\": 1, \"value\": 4.47344}, \"3.45308\": {\"frequency\": 1, \"value\": 3.45308}, \"1.51618\": {\"frequency\": 1, \"value\": 1.51618}, \"9.60713\": {\"frequency\": 1, \"value\": 9.60713}, \"8.07711\": {\"frequency\": 1, \"value\": 8.07711}, \"5.48679\": {\"frequency\": 1, \"value\": 5.48679}, \"6.36771\": {\"frequency\": 1, \"value\": 6.36771}, \"1.43807e-17\": {\"frequency\": 1, \"value\": 1.43807e-17}, \"9.60725\": {\"frequency\": 1, \"value\": 9.60725}, \"4.3824499999999995\": {\"frequency\": 1, \"value\": 4.3824499999999995}, \"7.68371\": {\"frequency\": 1, \"value\": 7.68371}, \"8.41062\": {\"frequency\": 1, \"value\": 8.41062}, \"5.67087\": {\"frequency\": 1, \"value\": 5.67087}, \"7.7978000000000005\": {\"frequency\": 1, \"value\": 7.7978000000000005}, \"8.69075\": {\"frequency\": 1, \"value\": 8.69075}, \"5.53726\": {\"frequency\": 1, \"value\": 5.53726}, \"3.70051\": {\"frequency\": 1, \"value\": 3.70051}, \"997.031\": {\"frequency\": 1, \"value\": 997.031}, \"7.20228\": {\"frequency\": 1, \"value\": 7.20228}, \"4.78739\": {\"frequency\": 1, \"value\": 4.78739}, \"27.2817\": {\"frequency\": 1, \"value\": 27.2817}, \"3.86283\": {\"frequency\": 1, \"value\": 3.86283}, \"5.60079\": {\"frequency\": 1, \"value\": 5.60079}, \"4.40802\": {\"frequency\": 1, \"value\": 4.40802}, \"4.31956\": {\"frequency\": 1, \"value\": 4.31956}, \"8.81578\": {\"frequency\": 1, \"value\": 8.81578}, \"6.373600000000001\": {\"frequency\": 1, \"value\": 6.373600000000001}, \"7.24333\": {\"frequency\": 1, \"value\": 7.24333}, \"7.13307\": {\"frequency\": 1, \"value\": 7.13307}, \"7.25304\": {\"frequency\": 1, \"value\": 7.25304}, \"6.655880000000001\": {\"frequency\": 1, \"value\": 6.655880000000001}, \"8.086780000000001\": {\"frequency\": 1, \"value\": 8.086780000000001}, \"5.02034\": {\"frequency\": 1, \"value\": 5.02034}, \"9.1432\": {\"frequency\": 1, \"value\": 9.1432}, \"4.62286\": {\"frequency\": 1, \"value\": 4.62286}, \"1.6929500000000002e-17\": {\"frequency\": 1, \"value\": 1.6929500000000002e-17}, \"1.26514e-17\": {\"frequency\": 1, \"value\": 1.26514e-17}, \"7.44483\": {\"frequency\": 1, \"value\": 7.44483}, \"5.8904000000000005\": {\"frequency\": 1, \"value\": 5.8904000000000005}, \"1.68222\": {\"frequency\": 1, \"value\": 1.68222}, \"0.49746799999999997\": {\"frequency\": 1, \"value\": 0.49746799999999997}, \"1.43993\": {\"frequency\": 1, \"value\": 1.43993}, \"1.5057e-17\": {\"frequency\": 1, \"value\": 1.5057e-17}, \"7.60748\": {\"frequency\": 1, \"value\": 7.60748}, \"8.93407\": {\"frequency\": 1, \"value\": 8.93407}, \"3.0304900000000004\": {\"frequency\": 1, \"value\": 3.0304900000000004}, \"7.95609\": {\"frequency\": 1, \"value\": 7.95609}, \"6.83169\": {\"frequency\": 1, \"value\": 6.83169}, \"8.6409\": {\"frequency\": 1, \"value\": 8.6409}, \"5.78465\": {\"frequency\": 1, \"value\": 5.78465}, \"2.68322\": {\"frequency\": 1, \"value\": 2.68322}, \"3.39635\": {\"frequency\": 1, \"value\": 3.39635}, \"9.269730000000001\": {\"frequency\": 1, \"value\": 9.269730000000001}, \"5.7434199999999995\": {\"frequency\": 1, \"value\": 5.7434199999999995}, \"8.920525\": {\"frequency\": 1, \"value\": 8.920525}, \"8.113109999999999\": {\"frequency\": 1, \"value\": 8.113109999999999}, \"6.7484399999999996\": {\"frequency\": 1, \"value\": 6.7484399999999996}, \"7.36747\": {\"frequency\": 1, \"value\": 7.36747}, \"3.8061\": {\"frequency\": 1, \"value\": 3.8061}, \"9.370109999999999\": {\"frequency\": 1, \"value\": 9.370109999999999}, \"9.396790000000001\": {\"frequency\": 1, \"value\": 9.396790000000001}, \"7.07045\": {\"frequency\": 1, \"value\": 7.07045}, \"1.61969\": {\"frequency\": 1, \"value\": 1.61969}, \"9.09732\": {\"frequency\": 1, \"value\": 9.09732}, \"7.74877\": {\"frequency\": 1, \"value\": 7.74877}, \"8.225060000000001\": {\"frequency\": 1, \"value\": 8.225060000000001}, \"8.94521\": {\"frequency\": 1, \"value\": 8.94521}, \"7.98487\": {\"frequency\": 1, \"value\": 7.98487}, \"9.22201\": {\"frequency\": 1, \"value\": 9.22201}, \"2.1494799999999996\": {\"frequency\": 1, \"value\": 2.1494799999999996}, \"4.5623000000000005\": {\"frequency\": 1, \"value\": 4.5623000000000005}, \"4.162719999999999\": {\"frequency\": 1, \"value\": 4.162719999999999}, \"7.48926\": {\"frequency\": 1, \"value\": 7.48926}, \"6.0464899999999995\": {\"frequency\": 1, \"value\": 6.0464899999999995}, \"6.04081\": {\"frequency\": 1, \"value\": 6.04081}, \"8.90231\": {\"frequency\": 1, \"value\": 8.90231}, \"3.76508\": {\"frequency\": 1, \"value\": 3.76508}, \"5.22028\": {\"frequency\": 1, \"value\": 5.22028}, \"9.7706\": {\"frequency\": 1, \"value\": 9.7706}, \"6.65004\": {\"frequency\": 1, \"value\": 6.65004}, \"1.8285900000000002\": {\"frequency\": 1, \"value\": 1.8285900000000002}, \"7.681839999999999\": {\"frequency\": 1, \"value\": 7.681839999999999}, \"5.99132\": {\"frequency\": 1, \"value\": 5.99132}, \"1.38318e-17\": {\"frequency\": 1, \"value\": 1.38318e-17}, \"8.206990000000001\": {\"frequency\": 1, \"value\": 8.206990000000001}, \"8.39412\": {\"frequency\": 1, \"value\": 8.39412}, \"7.84734\": {\"frequency\": 1, \"value\": 7.84734}, \"8.5472\": {\"frequency\": 1, \"value\": 8.5472}, \"8.847760000000001\": {\"frequency\": 1, \"value\": 8.847760000000001}, \"6.88736\": {\"frequency\": 1, \"value\": 6.88736}, \"7.433940000000001\": {\"frequency\": 1, \"value\": 7.433940000000001}, \"2.30241\": {\"frequency\": 1, \"value\": 2.30241}, \"9.87547\": {\"frequency\": 1, \"value\": 9.87547}, \"5.1861500000000005\": {\"frequency\": 1, \"value\": 5.1861500000000005}, \"7.1584\": {\"frequency\": 1, \"value\": 7.1584}, \"1.32502e-17\": {\"frequency\": 1, \"value\": 1.32502e-17}, \"5.30437\": {\"frequency\": 1, \"value\": 5.30437}, \"6.75915\": {\"frequency\": 1, \"value\": 6.75915}, \"8.95403\": {\"frequency\": 1, \"value\": 8.95403}, \"5.99725\": {\"frequency\": 1, \"value\": 5.99725}, \"5.14045\": {\"frequency\": 1, \"value\": 5.14045}, \"5.31613\": {\"frequency\": 1, \"value\": 5.31613}, \"3.02072\": {\"frequency\": 1, \"value\": 3.02072}, \"8.0379\": {\"frequency\": 1, \"value\": 8.0379}, \"4.47119\": {\"frequency\": 1, \"value\": 4.47119}, \"4.661490000000001\": {\"frequency\": 1, \"value\": 4.661490000000001}, \"6.994000000000001\": {\"frequency\": 1, \"value\": 6.994000000000001}, \"1000.0300000000001\": {\"frequency\": 1, \"value\": 1000.0300000000001}, \"1036.1100000000001\": {\"frequency\": 1, \"value\": 1036.1100000000001}, \"0.27099\": {\"frequency\": 1, \"value\": 0.27099}, \"2.20836\": {\"frequency\": 1, \"value\": 2.20836}, \"6.90548\": {\"frequency\": 1, \"value\": 6.90548}, \"7.96423\": {\"frequency\": 1, \"value\": 7.96423}, \"6.19023\": {\"frequency\": 1, \"value\": 6.19023}, \"5.37773\": {\"frequency\": 1, \"value\": 5.37773}, \"1.214111\": {\"frequency\": 1, \"value\": 1.214111}, \"8.935830000000001\": {\"frequency\": 1, \"value\": 8.935830000000001}, \"4.80152\": {\"frequency\": 1, \"value\": 4.80152}, \"8.2786\": {\"frequency\": 1, \"value\": 8.2786}, \"5.02485\": {\"frequency\": 1, \"value\": 5.02485}, \"1.7592400000000002e-17\": {\"frequency\": 1, \"value\": 1.7592400000000002e-17}, \"3.09703\": {\"frequency\": 1, \"value\": 3.09703}, \"4.62629\": {\"frequency\": 1, \"value\": 4.62629}, \"4.185\": {\"frequency\": 1, \"value\": 4.185}, \"1008.62\": {\"frequency\": 1, \"value\": 1008.62}, \"5.80008\": {\"frequency\": 1, \"value\": 5.80008}, \"9.40212\": {\"frequency\": 1, \"value\": 9.40212}, \"2.53241\": {\"frequency\": 1, \"value\": 2.53241}, \"7.635390000000001\": {\"frequency\": 1, \"value\": 7.635390000000001}, \"7.380120000000001\": {\"frequency\": 1, \"value\": 7.380120000000001}, \"1.3012300000000001e-17\": {\"frequency\": 1, \"value\": 1.3012300000000001e-17}, \"9.27918\": {\"frequency\": 1, \"value\": 9.27918}, \"1.96827\": {\"frequency\": 1, \"value\": 1.96827}, \"7.667670000000001\": {\"frequency\": 1, \"value\": 7.667670000000001}, \"9.14566\": {\"frequency\": 1, \"value\": 9.14566}, \"6.99945\": {\"frequency\": 1, \"value\": 6.99945}, \"2.37687e-17\": {\"frequency\": 1, \"value\": 2.37687e-17}, \"5.96012\": {\"frequency\": 1, \"value\": 5.96012}, \"6.81264\": {\"frequency\": 1, \"value\": 6.81264}, \"7.0257700000000005\": {\"frequency\": 1, \"value\": 7.0257700000000005}, \"7.659190000000001\": {\"frequency\": 1, \"value\": 7.659190000000001}, \"3.32134\": {\"frequency\": 1, \"value\": 3.32134}, \"3.19669\": {\"frequency\": 1, \"value\": 3.19669}, \"2.93377\": {\"frequency\": 1, \"value\": 2.93377}, \"5.13494\": {\"frequency\": 1, \"value\": 5.13494}, \"5.37967\": {\"frequency\": 1, \"value\": 5.37967}, \"8.71491\": {\"frequency\": 1, \"value\": 8.71491}, \"7.5028999999999995\": {\"frequency\": 1, \"value\": 7.5028999999999995}, \"4.67846\": {\"frequency\": 1, \"value\": 4.67846}, \"1.58236\": {\"frequency\": 1, \"value\": 1.58236}, \"7.537649999999999\": {\"frequency\": 1, \"value\": 7.537649999999999}, \"4.5831100000000005\": {\"frequency\": 1, \"value\": 4.5831100000000005}, \"8.164109999999999\": {\"frequency\": 1, \"value\": 8.164109999999999}, \"1.68262e-17\": {\"frequency\": 1, \"value\": 1.68262e-17}, \"1.24106\": {\"frequency\": 1, \"value\": 1.24106}, \"26.2495\": {\"frequency\": 1, \"value\": 26.2495}, \"1.56535e-17\": {\"frequency\": 1, \"value\": 1.56535e-17}, \"6.97371\": {\"frequency\": 1, \"value\": 6.97371}, \"1.50756\": {\"frequency\": 1, \"value\": 1.50756}, \"5.4565\": {\"frequency\": 1, \"value\": 5.4565}, \"9.851899999999999\": {\"frequency\": 1, \"value\": 9.851899999999999}, \"9.06748\": {\"frequency\": 1, \"value\": 9.06748}, \"8.36304\": {\"frequency\": 1, \"value\": 8.36304}, \"8.71525\": {\"frequency\": 1, \"value\": 8.71525}, \"3.6399\": {\"frequency\": 1, \"value\": 3.6399}, \"4.201309999999999\": {\"frequency\": 1, \"value\": 4.201309999999999}, \"2.34685\": {\"frequency\": 1, \"value\": 2.34685}, \"7.29107\": {\"frequency\": 1, \"value\": 7.29107}, \"6.5358\": {\"frequency\": 1, \"value\": 6.5358}, \"8.447999999999999\": {\"frequency\": 1, \"value\": 8.447999999999999}, \"5.92907\": {\"frequency\": 1, \"value\": 5.92907}, \"6.69555\": {\"frequency\": 1, \"value\": 6.69555}, \"2.98278\": {\"frequency\": 1, \"value\": 2.98278}, \"8.176070000000001\": {\"frequency\": 1, \"value\": 8.176070000000001}, \"7.27559\": {\"frequency\": 1, \"value\": 7.27559}, \"5.7956\": {\"frequency\": 1, \"value\": 5.7956}, \"5.655889999999999\": {\"frequency\": 1, \"value\": 5.655889999999999}, \"4.2991\": {\"frequency\": 1, \"value\": 4.2991}, \"6.487299999999999\": {\"frequency\": 1, \"value\": 6.487299999999999}, \"2.76826\": {\"frequency\": 1, \"value\": 2.76826}, \"1.76885e-17\": {\"frequency\": 1, \"value\": 1.76885e-17}, \"9.60343\": {\"frequency\": 1, \"value\": 9.60343}, \"9.061639999999999\": {\"frequency\": 1, \"value\": 9.061639999999999}, \"1.90465\": {\"frequency\": 1, \"value\": 1.90465}, \"7.26361\": {\"frequency\": 1, \"value\": 7.26361}, \"7.60209\": {\"frequency\": 1, \"value\": 7.60209}, \"9.09849\": {\"frequency\": 1, \"value\": 9.09849}, \"1.67151e-17\": {\"frequency\": 1, \"value\": 1.67151e-17}, \"0.705413\": {\"frequency\": 1, \"value\": 0.705413}, \"1.24347\": {\"frequency\": 1, \"value\": 1.24347}, \"7.32187\": {\"frequency\": 1, \"value\": 7.32187}, \"7.71091\": {\"frequency\": 1, \"value\": 7.71091}, \"1.31092e-17\": {\"frequency\": 1, \"value\": 1.31092e-17}, \"4.69193\": {\"frequency\": 1, \"value\": 4.69193}, \"1.26772e-17\": {\"frequency\": 1, \"value\": 1.26772e-17}, \"6.090330000000001\": {\"frequency\": 1, \"value\": 6.090330000000001}, \"8.40663\": {\"frequency\": 1, \"value\": 8.40663}, \"6.98298\": {\"frequency\": 1, \"value\": 6.98298}, \"4.54021\": {\"frequency\": 1, \"value\": 4.54021}, \"7.085500000000001\": {\"frequency\": 1, \"value\": 7.085500000000001}, \"2.63685\": {\"frequency\": 1, \"value\": 2.63685}, \"7.947000000000001\": {\"frequency\": 1, \"value\": 7.947000000000001}, \"7.84497\": {\"frequency\": 1, \"value\": 7.84497}, \"9.96065\": {\"frequency\": 1, \"value\": 9.96065}, \"9.271379999999999\": {\"frequency\": 1, \"value\": 9.271379999999999}, \"5.555280000000001\": {\"frequency\": 1, \"value\": 5.555280000000001}, \"9.46448\": {\"frequency\": 1, \"value\": 9.46448}, \"4.2835\": {\"frequency\": 1, \"value\": 4.2835}, \"5.87198\": {\"frequency\": 1, \"value\": 5.87198}, \"4.88602\": {\"frequency\": 1, \"value\": 4.88602}, \"6.2168399999999995\": {\"frequency\": 1, \"value\": 6.2168399999999995}, \"1.5075\": {\"frequency\": 1, \"value\": 1.5075}, \"4.65106\": {\"frequency\": 1, \"value\": 4.65106}, \"3.7017800000000003\": {\"frequency\": 1, \"value\": 3.7017800000000003}, \"1.70182e-17\": {\"frequency\": 1, \"value\": 1.70182e-17}, \"7.666389999999999\": {\"frequency\": 1, \"value\": 7.666389999999999}, \"9.291269999999999\": {\"frequency\": 1, \"value\": 9.291269999999999}, \"1.79189\": {\"frequency\": 1, \"value\": 1.79189}, \"9.90639\": {\"frequency\": 1, \"value\": 9.90639}, \"1.40157e-17\": {\"frequency\": 1, \"value\": 1.40157e-17}, \"19.0666\": {\"frequency\": 1, \"value\": 19.0666}, \"8.11027\": {\"frequency\": 1, \"value\": 8.11027}, \"8.9327\": {\"frequency\": 1, \"value\": 8.9327}, \"4.36136\": {\"frequency\": 1, \"value\": 4.36136}, \"24.303456999999998\": {\"frequency\": 1, \"value\": 24.303456999999998}, \"8.8772\": {\"frequency\": 1, \"value\": 8.8772}, \"9.543619999999999\": {\"frequency\": 1, \"value\": 9.543619999999999}, \"1.3376800000000001e-17\": {\"frequency\": 1, \"value\": 1.3376800000000001e-17}, \"8.56116\": {\"frequency\": 1, \"value\": 8.56116}, \"1.98363\": {\"frequency\": 1, \"value\": 1.98363}, \"991.3109999999999\": {\"frequency\": 1, \"value\": 991.3109999999999}, \"3.51981\": {\"frequency\": 1, \"value\": 3.51981}, \"5.973680000000001\": {\"frequency\": 1, \"value\": 5.973680000000001}, \"8.99932\": {\"frequency\": 1, \"value\": 8.99932}, \"1006.9300000000001\": {\"frequency\": 1, \"value\": 1006.9300000000001}, \"13.850539999999999\": {\"frequency\": 1, \"value\": 13.850539999999999}, \"7.05162\": {\"frequency\": 1, \"value\": 7.05162}, \"3.42082\": {\"frequency\": 1, \"value\": 3.42082}, \"7.9554\": {\"frequency\": 1, \"value\": 7.9554}, \"7.73353\": {\"frequency\": 1, \"value\": 7.73353}, \"6.694859999999999\": {\"frequency\": 1, \"value\": 6.694859999999999}, \"4.05792\": {\"frequency\": 1, \"value\": 4.05792}, \"1.26775e-17\": {\"frequency\": 1, \"value\": 1.26775e-17}, \"3.35595\": {\"frequency\": 1, \"value\": 3.35595}, \"993.5810000000001\": {\"frequency\": 1, \"value\": 993.5810000000001}, \"1.68885e-17\": {\"frequency\": 1, \"value\": 1.68885e-17}, \"2.03615\": {\"frequency\": 1, \"value\": 2.03615}, \"7.4002300000000005\": {\"frequency\": 1, \"value\": 7.4002300000000005}, \"4.98871\": {\"frequency\": 1, \"value\": 4.98871}, \"7.0136400000000005\": {\"frequency\": 1, \"value\": 7.0136400000000005}, \"3.5359599999999998\": {\"frequency\": 1, \"value\": 3.5359599999999998}, \"9.46511\": {\"frequency\": 1, \"value\": 9.46511}, \"6.73694\": {\"frequency\": 1, \"value\": 6.73694}, \"1.4181600000000002e-17\": {\"frequency\": 1, \"value\": 1.4181600000000002e-17}, \"3.59424\": {\"frequency\": 1, \"value\": 3.59424}, \"0.221471\": {\"frequency\": 1, \"value\": 0.221471}, \"5.38475\": {\"frequency\": 1, \"value\": 5.38475}, \"6.17151\": {\"frequency\": 1, \"value\": 6.17151}, \"8.41687\": {\"frequency\": 1, \"value\": 8.41687}, \"8.696940000000001\": {\"frequency\": 1, \"value\": 8.696940000000001}, \"1.30238\": {\"frequency\": 1, \"value\": 1.30238}, \"8.87725\": {\"frequency\": 1, \"value\": 8.87725}, \"8.31111\": {\"frequency\": 1, \"value\": 8.31111}, \"1.3947700000000002e-17\": {\"frequency\": 1, \"value\": 1.3947700000000002e-17}, \"9.55121\": {\"frequency\": 1, \"value\": 9.55121}, \"6.2024799999999995\": {\"frequency\": 1, \"value\": 6.2024799999999995}, \"7.025650000000001\": {\"frequency\": 1, \"value\": 7.025650000000001}, \"4.5825499999999995\": {\"frequency\": 1, \"value\": 4.5825499999999995}, \"4.65752\": {\"frequency\": 1, \"value\": 4.65752}, \"6.79726\": {\"frequency\": 1, \"value\": 6.79726}, \"1.2560200000000001\": {\"frequency\": 1, \"value\": 1.2560200000000001}, \"8.14331\": {\"frequency\": 1, \"value\": 8.14331}, \"8.6745\": {\"frequency\": 1, \"value\": 8.6745}, \"6.49106\": {\"frequency\": 1, \"value\": 6.49106}, \"3.88352\": {\"frequency\": 1, \"value\": 3.88352}, \"7.05109\": {\"frequency\": 1, \"value\": 7.05109}, \"4.72208\": {\"frequency\": 1, \"value\": 4.72208}, \"7.3611200000000006\": {\"frequency\": 1, \"value\": 7.3611200000000006}, \"7.62586\": {\"frequency\": 1, \"value\": 7.62586}, \"9.69062\": {\"frequency\": 1, \"value\": 9.69062}, \"4.83407\": {\"frequency\": 1, \"value\": 4.83407}, \"3.8954400000000002\": {\"frequency\": 1, \"value\": 3.8954400000000002}, \"4.56686\": {\"frequency\": 1, \"value\": 4.56686}, \"3.9442999999999997\": {\"frequency\": 1, \"value\": 3.9442999999999997}, \"8.043800000000001\": {\"frequency\": 1, \"value\": 8.043800000000001}, \"9.351600000000001\": {\"frequency\": 1, \"value\": 9.351600000000001}, \"7.39975\": {\"frequency\": 1, \"value\": 7.39975}, \"7.8466700000000005\": {\"frequency\": 1, \"value\": 7.8466700000000005}, \"5.6280600000000005\": {\"frequency\": 1, \"value\": 5.6280600000000005}, \"1.7755159999999999\": {\"frequency\": 1, \"value\": 1.7755159999999999}, \"6.52865\": {\"frequency\": 1, \"value\": 6.52865}, \"4.35367\": {\"frequency\": 1, \"value\": 4.35367}, \"4.98353\": {\"frequency\": 1, \"value\": 4.98353}, \"3.77532\": {\"frequency\": 1, \"value\": 3.77532}, \"5.27968\": {\"frequency\": 1, \"value\": 5.27968}, \"1.3401100000000002e-17\": {\"frequency\": 1, \"value\": 1.3401100000000002e-17}, \"0.25135599999999997\": {\"frequency\": 1, \"value\": 0.25135599999999997}, \"8.98888\": {\"frequency\": 1, \"value\": 8.98888}, \"5.7272300000000005\": {\"frequency\": 1, \"value\": 5.7272300000000005}, \"9.275730000000001\": {\"frequency\": 1, \"value\": 9.275730000000001}, \"5.43347\": {\"frequency\": 1, \"value\": 5.43347}, \"1.69629e-17\": {\"frequency\": 1, \"value\": 1.69629e-17}, \"7.6457500000000005\": {\"frequency\": 1, \"value\": 7.6457500000000005}, \"4.259510000000001\": {\"frequency\": 1, \"value\": 4.259510000000001}, \"6.41646\": {\"frequency\": 1, \"value\": 6.41646}, \"8.75671\": {\"frequency\": 1, \"value\": 8.75671}, \"7.3437399999999995\": {\"frequency\": 1, \"value\": 7.3437399999999995}, \"8.48936\": {\"frequency\": 1, \"value\": 8.48936}}, \"mean\": 28.733128516190465}, \"selected_variable\": {\"name\": [\"<SArray>\"], \"dtype\": \"float\", \"view_component\": \"Numeric\", \"view_file\": \"sarray\", \"descriptives\": {\"rows\": 1050}, \"type\": \"SArray\", \"view_components\": [\"Numeric\", \"Categorical\"]}, \"histogram\": {\"progress\": 1.0, \"histogram\": {\"max\": 1053.9380723999914, \"bins\": [1026, 0, 0, 0, 0, 0, 0, 0, 0, 0, 0, 24], \"min\": -15.345992879999812}, \"min\": 1.01312e-17, \"complete\": 1, \"max\": 1036.1100000000001}}, e);\n",
       "                });\n",
       "            })();\n",
       "        "
      ]
     },
     "metadata": {},
     "output_type": "display_data"
    }
   ],
   "source": [
    "el_resume['sum_energy_deposit'].show()"
   ]
  },
  {
   "cell_type": "code",
   "execution_count": 26,
   "metadata": {
    "collapsed": false
   },
   "outputs": [],
   "source": [
    "sf_el['kin_energy_from_vel']=sf_el['kin_energy_from_vel']*1e6 #convert to ev"
   ]
  },
  {
   "cell_type": "code",
   "execution_count": 27,
   "metadata": {
    "collapsed": false
   },
   "outputs": [
    {
     "data": {
      "text/html": [
       "<div style=\"max-height:1000px;max-width:1500px;overflow:auto;\"><table frame=\"box\" rules=\"cols\">\n",
       "    <tr>\n",
       "        <th style=\"padding-left: 1em; padding-right: 1em; text-align: center\">process_name</th>\n",
       "        <th style=\"padding-left: 1em; padding-right: 1em; text-align: center\">next_vol</th>\n",
       "        <th style=\"padding-left: 1em; padding-right: 1em; text-align: center\">mom_x</th>\n",
       "        <th style=\"padding-left: 1em; padding-right: 1em; text-align: center\">mom_dir_z</th>\n",
       "        <th style=\"padding-left: 1em; padding-right: 1em; text-align: center\">mom_dir_y</th>\n",
       "        <th style=\"padding-left: 1em; padding-right: 1em; text-align: center\">step_number</th>\n",
       "        <th style=\"padding-left: 1em; padding-right: 1em; text-align: center\">dE</th>\n",
       "        <th style=\"padding-left: 1em; padding-right: 1em; text-align: center\">particle_name</th>\n",
       "        <th style=\"padding-left: 1em; padding-right: 1em; text-align: center\">mom_dir_x</th>\n",
       "    </tr>\n",
       "    <tr>\n",
       "        <td style=\"padding-left: 1em; padding-right: 1em; text-align: center; vertical-align: top\">initStep</td>\n",
       "        <td style=\"padding-left: 1em; padding-right: 1em; text-align: center; vertical-align: top\">Abso</td>\n",
       "        <td style=\"padding-left: 1em; padding-right: 1em; text-align: center; vertical-align: top\">0</td>\n",
       "        <td style=\"padding-left: 1em; padding-right: 1em; text-align: center; vertical-align: top\">0</td>\n",
       "        <td style=\"padding-left: 1em; padding-right: 1em; text-align: center; vertical-align: top\">0</td>\n",
       "        <td style=\"padding-left: 1em; padding-right: 1em; text-align: center; vertical-align: top\">0</td>\n",
       "        <td style=\"padding-left: 1em; padding-right: 1em; text-align: center; vertical-align: top\">0.0</td>\n",
       "        <td style=\"padding-left: 1em; padding-right: 1em; text-align: center; vertical-align: top\">e-</td>\n",
       "        <td style=\"padding-left: 1em; padding-right: 1em; text-align: center; vertical-align: top\">0</td>\n",
       "    </tr>\n",
       "    <tr>\n",
       "        <td style=\"padding-left: 1em; padding-right: 1em; text-align: center; vertical-align: top\">Transportation</td>\n",
       "        <td style=\"padding-left: 1em; padding-right: 1em; text-align: center; vertical-align: top\">World</td>\n",
       "        <td style=\"padding-left: 1em; padding-right: 1em; text-align: center; vertical-align: top\">0</td>\n",
       "        <td style=\"padding-left: 1em; padding-right: 1em; text-align: center; vertical-align: top\">0</td>\n",
       "        <td style=\"padding-left: 1em; padding-right: 1em; text-align: center; vertical-align: top\">0</td>\n",
       "        <td style=\"padding-left: 1em; padding-right: 1em; text-align: center; vertical-align: top\">1</td>\n",
       "        <td style=\"padding-left: 1em; padding-right: 1em; text-align: center; vertical-align: top\">3.31e-06</td>\n",
       "        <td style=\"padding-left: 1em; padding-right: 1em; text-align: center; vertical-align: top\">e-</td>\n",
       "        <td style=\"padding-left: 1em; padding-right: 1em; text-align: center; vertical-align: top\">0</td>\n",
       "    </tr>\n",
       "    <tr>\n",
       "        <td style=\"padding-left: 1em; padding-right: 1em; text-align: center; vertical-align: top\">Transportation</td>\n",
       "        <td style=\"padding-left: 1em; padding-right: 1em; text-align: center; vertical-align: top\">OutOfWorld</td>\n",
       "        <td style=\"padding-left: 1em; padding-right: 1em; text-align: center; vertical-align: top\">0</td>\n",
       "        <td style=\"padding-left: 1em; padding-right: 1em; text-align: center; vertical-align: top\">0</td>\n",
       "        <td style=\"padding-left: 1em; padding-right: 1em; text-align: center; vertical-align: top\">0</td>\n",
       "        <td style=\"padding-left: 1em; padding-right: 1em; text-align: center; vertical-align: top\">2</td>\n",
       "        <td style=\"padding-left: 1em; padding-right: 1em; text-align: center; vertical-align: top\">3.37e-24</td>\n",
       "        <td style=\"padding-left: 1em; padding-right: 1em; text-align: center; vertical-align: top\">e-</td>\n",
       "        <td style=\"padding-left: 1em; padding-right: 1em; text-align: center; vertical-align: top\">0</td>\n",
       "    </tr>\n",
       "    <tr>\n",
       "        <td style=\"padding-left: 1em; padding-right: 1em; text-align: center; vertical-align: top\">initStep</td>\n",
       "        <td style=\"padding-left: 1em; padding-right: 1em; text-align: center; vertical-align: top\">Abso</td>\n",
       "        <td style=\"padding-left: 1em; padding-right: 1em; text-align: center; vertical-align: top\">0</td>\n",
       "        <td style=\"padding-left: 1em; padding-right: 1em; text-align: center; vertical-align: top\">0</td>\n",
       "        <td style=\"padding-left: 1em; padding-right: 1em; text-align: center; vertical-align: top\">0</td>\n",
       "        <td style=\"padding-left: 1em; padding-right: 1em; text-align: center; vertical-align: top\">0</td>\n",
       "        <td style=\"padding-left: 1em; padding-right: 1em; text-align: center; vertical-align: top\">0.0</td>\n",
       "        <td style=\"padding-left: 1em; padding-right: 1em; text-align: center; vertical-align: top\">e-</td>\n",
       "        <td style=\"padding-left: 1em; padding-right: 1em; text-align: center; vertical-align: top\">0</td>\n",
       "    </tr>\n",
       "    <tr>\n",
       "        <td style=\"padding-left: 1em; padding-right: 1em; text-align: center; vertical-align: top\">Transportation</td>\n",
       "        <td style=\"padding-left: 1em; padding-right: 1em; text-align: center; vertical-align: top\">World</td>\n",
       "        <td style=\"padding-left: 1em; padding-right: 1em; text-align: center; vertical-align: top\">0</td>\n",
       "        <td style=\"padding-left: 1em; padding-right: 1em; text-align: center; vertical-align: top\">0</td>\n",
       "        <td style=\"padding-left: 1em; padding-right: 1em; text-align: center; vertical-align: top\">0</td>\n",
       "        <td style=\"padding-left: 1em; padding-right: 1em; text-align: center; vertical-align: top\">1</td>\n",
       "        <td style=\"padding-left: 1em; padding-right: 1em; text-align: center; vertical-align: top\">4.18e-06</td>\n",
       "        <td style=\"padding-left: 1em; padding-right: 1em; text-align: center; vertical-align: top\">e-</td>\n",
       "        <td style=\"padding-left: 1em; padding-right: 1em; text-align: center; vertical-align: top\">0</td>\n",
       "    </tr>\n",
       "    <tr>\n",
       "        <td style=\"padding-left: 1em; padding-right: 1em; text-align: center; vertical-align: top\">Transportation</td>\n",
       "        <td style=\"padding-left: 1em; padding-right: 1em; text-align: center; vertical-align: top\">OutOfWorld</td>\n",
       "        <td style=\"padding-left: 1em; padding-right: 1em; text-align: center; vertical-align: top\">0</td>\n",
       "        <td style=\"padding-left: 1em; padding-right: 1em; text-align: center; vertical-align: top\">0</td>\n",
       "        <td style=\"padding-left: 1em; padding-right: 1em; text-align: center; vertical-align: top\">0</td>\n",
       "        <td style=\"padding-left: 1em; padding-right: 1em; text-align: center; vertical-align: top\">2</td>\n",
       "        <td style=\"padding-left: 1em; padding-right: 1em; text-align: center; vertical-align: top\">4.45e-24</td>\n",
       "        <td style=\"padding-left: 1em; padding-right: 1em; text-align: center; vertical-align: top\">e-</td>\n",
       "        <td style=\"padding-left: 1em; padding-right: 1em; text-align: center; vertical-align: top\">0</td>\n",
       "    </tr>\n",
       "    <tr>\n",
       "        <td style=\"padding-left: 1em; padding-right: 1em; text-align: center; vertical-align: top\">initStep</td>\n",
       "        <td style=\"padding-left: 1em; padding-right: 1em; text-align: center; vertical-align: top\">Abso</td>\n",
       "        <td style=\"padding-left: 1em; padding-right: 1em; text-align: center; vertical-align: top\">0</td>\n",
       "        <td style=\"padding-left: 1em; padding-right: 1em; text-align: center; vertical-align: top\">0</td>\n",
       "        <td style=\"padding-left: 1em; padding-right: 1em; text-align: center; vertical-align: top\">0</td>\n",
       "        <td style=\"padding-left: 1em; padding-right: 1em; text-align: center; vertical-align: top\">0</td>\n",
       "        <td style=\"padding-left: 1em; padding-right: 1em; text-align: center; vertical-align: top\">0.0</td>\n",
       "        <td style=\"padding-left: 1em; padding-right: 1em; text-align: center; vertical-align: top\">e-</td>\n",
       "        <td style=\"padding-left: 1em; padding-right: 1em; text-align: center; vertical-align: top\">0</td>\n",
       "    </tr>\n",
       "    <tr>\n",
       "        <td style=\"padding-left: 1em; padding-right: 1em; text-align: center; vertical-align: top\">Transportation</td>\n",
       "        <td style=\"padding-left: 1em; padding-right: 1em; text-align: center; vertical-align: top\">World</td>\n",
       "        <td style=\"padding-left: 1em; padding-right: 1em; text-align: center; vertical-align: top\">0</td>\n",
       "        <td style=\"padding-left: 1em; padding-right: 1em; text-align: center; vertical-align: top\">0</td>\n",
       "        <td style=\"padding-left: 1em; padding-right: 1em; text-align: center; vertical-align: top\">0</td>\n",
       "        <td style=\"padding-left: 1em; padding-right: 1em; text-align: center; vertical-align: top\">1</td>\n",
       "        <td style=\"padding-left: 1em; padding-right: 1em; text-align: center; vertical-align: top\">5.02e-06</td>\n",
       "        <td style=\"padding-left: 1em; padding-right: 1em; text-align: center; vertical-align: top\">e-</td>\n",
       "        <td style=\"padding-left: 1em; padding-right: 1em; text-align: center; vertical-align: top\">0</td>\n",
       "    </tr>\n",
       "    <tr>\n",
       "        <td style=\"padding-left: 1em; padding-right: 1em; text-align: center; vertical-align: top\">Transportation</td>\n",
       "        <td style=\"padding-left: 1em; padding-right: 1em; text-align: center; vertical-align: top\">OutOfWorld</td>\n",
       "        <td style=\"padding-left: 1em; padding-right: 1em; text-align: center; vertical-align: top\">0</td>\n",
       "        <td style=\"padding-left: 1em; padding-right: 1em; text-align: center; vertical-align: top\">0</td>\n",
       "        <td style=\"padding-left: 1em; padding-right: 1em; text-align: center; vertical-align: top\">0</td>\n",
       "        <td style=\"padding-left: 1em; padding-right: 1em; text-align: center; vertical-align: top\">2</td>\n",
       "        <td style=\"padding-left: 1em; padding-right: 1em; text-align: center; vertical-align: top\">5.24e-24</td>\n",
       "        <td style=\"padding-left: 1em; padding-right: 1em; text-align: center; vertical-align: top\">e-</td>\n",
       "        <td style=\"padding-left: 1em; padding-right: 1em; text-align: center; vertical-align: top\">0</td>\n",
       "    </tr>\n",
       "    <tr>\n",
       "        <td style=\"padding-left: 1em; padding-right: 1em; text-align: center; vertical-align: top\">initStep</td>\n",
       "        <td style=\"padding-left: 1em; padding-right: 1em; text-align: center; vertical-align: top\">Abso</td>\n",
       "        <td style=\"padding-left: 1em; padding-right: 1em; text-align: center; vertical-align: top\">0</td>\n",
       "        <td style=\"padding-left: 1em; padding-right: 1em; text-align: center; vertical-align: top\">0</td>\n",
       "        <td style=\"padding-left: 1em; padding-right: 1em; text-align: center; vertical-align: top\">0</td>\n",
       "        <td style=\"padding-left: 1em; padding-right: 1em; text-align: center; vertical-align: top\">0</td>\n",
       "        <td style=\"padding-left: 1em; padding-right: 1em; text-align: center; vertical-align: top\">0.0</td>\n",
       "        <td style=\"padding-left: 1em; padding-right: 1em; text-align: center; vertical-align: top\">e-</td>\n",
       "        <td style=\"padding-left: 1em; padding-right: 1em; text-align: center; vertical-align: top\">0</td>\n",
       "    </tr>\n",
       "</table>\n",
       "<table frame=\"box\" rules=\"cols\">\n",
       "    <tr>\n",
       "        <th style=\"padding-left: 1em; padding-right: 1em; text-align: center\">count_particle</th>\n",
       "        <th style=\"padding-left: 1em; padding-right: 1em; text-align: center\">parent_id</th>\n",
       "        <th style=\"padding-left: 1em; padding-right: 1em; text-align: center\">position_z</th>\n",
       "        <th style=\"padding-left: 1em; padding-right: 1em; text-align: center\">total_energy</th>\n",
       "        <th style=\"padding-left: 1em; padding-right: 1em; text-align: center\">position_x</th>\n",
       "        <th style=\"padding-left: 1em; padding-right: 1em; text-align: center\">position_y</th>\n",
       "        <th style=\"padding-left: 1em; padding-right: 1em; text-align: center\">velocity</th>\n",
       "        <th style=\"padding-left: 1em; padding-right: 1em; text-align: center\">kinetic_energy</th>\n",
       "        <th style=\"padding-left: 1em; padding-right: 1em; text-align: center\">track_id</th>\n",
       "    </tr>\n",
       "    <tr>\n",
       "        <td style=\"padding-left: 1em; padding-right: 1em; text-align: center; vertical-align: top\">2318</td>\n",
       "        <td style=\"padding-left: 1em; padding-right: 1em; text-align: center; vertical-align: top\">1</td>\n",
       "        <td style=\"padding-left: 1em; padding-right: 1em; text-align: center; vertical-align: top\">635</td>\n",
       "        <td style=\"padding-left: 1em; padding-right: 1em; text-align: center; vertical-align: top\">0</td>\n",
       "        <td style=\"padding-left: 1em; padding-right: 1em; text-align: center; vertical-align: top\">0</td>\n",
       "        <td style=\"padding-left: 1em; padding-right: 1em; text-align: center; vertical-align: top\">0</td>\n",
       "        <td style=\"padding-left: 1em; padding-right: 1em; text-align: center; vertical-align: top\">42.8773</td>\n",
       "        <td style=\"padding-left: 1em; padding-right: 1em; text-align: center; vertical-align: top\">0</td>\n",
       "        <td style=\"padding-left: 1em; padding-right: 1em; text-align: center; vertical-align: top\">2</td>\n",
       "    </tr>\n",
       "    <tr>\n",
       "        <td style=\"padding-left: 1em; padding-right: 1em; text-align: center; vertical-align: top\">2318</td>\n",
       "        <td style=\"padding-left: 1em; padding-right: 1em; text-align: center; vertical-align: top\">1</td>\n",
       "        <td style=\"padding-left: 1em; padding-right: 1em; text-align: center; vertical-align: top\">636</td>\n",
       "        <td style=\"padding-left: 1em; padding-right: 1em; text-align: center; vertical-align: top\">0</td>\n",
       "        <td style=\"padding-left: 1em; padding-right: 1em; text-align: center; vertical-align: top\">-20</td>\n",
       "        <td style=\"padding-left: 1em; padding-right: 1em; text-align: center; vertical-align: top\">-6</td>\n",
       "        <td style=\"padding-left: 1em; padding-right: 1em; text-align: center; vertical-align: top\">42.8642</td>\n",
       "        <td style=\"padding-left: 1em; padding-right: 1em; text-align: center; vertical-align: top\">0</td>\n",
       "        <td style=\"padding-left: 1em; padding-right: 1em; text-align: center; vertical-align: top\">2</td>\n",
       "    </tr>\n",
       "    <tr>\n",
       "        <td style=\"padding-left: 1em; padding-right: 1em; text-align: center; vertical-align: top\">2318</td>\n",
       "        <td style=\"padding-left: 1em; padding-right: 1em; text-align: center; vertical-align: top\">1</td>\n",
       "        <td style=\"padding-left: 1em; padding-right: 1em; text-align: center; vertical-align: top\">637</td>\n",
       "        <td style=\"padding-left: 1em; padding-right: 1em; text-align: center; vertical-align: top\">0</td>\n",
       "        <td style=\"padding-left: 1em; padding-right: 1em; text-align: center; vertical-align: top\">-24</td>\n",
       "        <td style=\"padding-left: 1em; padding-right: 1em; text-align: center; vertical-align: top\">-7</td>\n",
       "        <td style=\"padding-left: 1em; padding-right: 1em; text-align: center; vertical-align: top\">42.8642</td>\n",
       "        <td style=\"padding-left: 1em; padding-right: 1em; text-align: center; vertical-align: top\">0</td>\n",
       "        <td style=\"padding-left: 1em; padding-right: 1em; text-align: center; vertical-align: top\">2</td>\n",
       "    </tr>\n",
       "    <tr>\n",
       "        <td style=\"padding-left: 1em; padding-right: 1em; text-align: center; vertical-align: top\">4231</td>\n",
       "        <td style=\"padding-left: 1em; padding-right: 1em; text-align: center; vertical-align: top\">1</td>\n",
       "        <td style=\"padding-left: 1em; padding-right: 1em; text-align: center; vertical-align: top\">347</td>\n",
       "        <td style=\"padding-left: 1em; padding-right: 1em; text-align: center; vertical-align: top\">0</td>\n",
       "        <td style=\"padding-left: 1em; padding-right: 1em; text-align: center; vertical-align: top\">0</td>\n",
       "        <td style=\"padding-left: 1em; padding-right: 1em; text-align: center; vertical-align: top\">0</td>\n",
       "        <td style=\"padding-left: 1em; padding-right: 1em; text-align: center; vertical-align: top\">36.2651</td>\n",
       "        <td style=\"padding-left: 1em; padding-right: 1em; text-align: center; vertical-align: top\">0</td>\n",
       "        <td style=\"padding-left: 1em; padding-right: 1em; text-align: center; vertical-align: top\">2</td>\n",
       "    </tr>\n",
       "    <tr>\n",
       "        <td style=\"padding-left: 1em; padding-right: 1em; text-align: center; vertical-align: top\">4231</td>\n",
       "        <td style=\"padding-left: 1em; padding-right: 1em; text-align: center; vertical-align: top\">1</td>\n",
       "        <td style=\"padding-left: 1em; padding-right: 1em; text-align: center; vertical-align: top\">348</td>\n",
       "        <td style=\"padding-left: 1em; padding-right: 1em; text-align: center; vertical-align: top\">0</td>\n",
       "        <td style=\"padding-left: 1em; padding-right: 1em; text-align: center; vertical-align: top\">-4</td>\n",
       "        <td style=\"padding-left: 1em; padding-right: 1em; text-align: center; vertical-align: top\">20</td>\n",
       "        <td style=\"padding-left: 1em; padding-right: 1em; text-align: center; vertical-align: top\">36.2452</td>\n",
       "        <td style=\"padding-left: 1em; padding-right: 1em; text-align: center; vertical-align: top\">0</td>\n",
       "        <td style=\"padding-left: 1em; padding-right: 1em; text-align: center; vertical-align: top\">2</td>\n",
       "    </tr>\n",
       "    <tr>\n",
       "        <td style=\"padding-left: 1em; padding-right: 1em; text-align: center; vertical-align: top\">4231</td>\n",
       "        <td style=\"padding-left: 1em; padding-right: 1em; text-align: center; vertical-align: top\">1</td>\n",
       "        <td style=\"padding-left: 1em; padding-right: 1em; text-align: center; vertical-align: top\">348</td>\n",
       "        <td style=\"padding-left: 1em; padding-right: 1em; text-align: center; vertical-align: top\">0</td>\n",
       "        <td style=\"padding-left: 1em; padding-right: 1em; text-align: center; vertical-align: top\">-5</td>\n",
       "        <td style=\"padding-left: 1em; padding-right: 1em; text-align: center; vertical-align: top\">24</td>\n",
       "        <td style=\"padding-left: 1em; padding-right: 1em; text-align: center; vertical-align: top\">36.2452</td>\n",
       "        <td style=\"padding-left: 1em; padding-right: 1em; text-align: center; vertical-align: top\">0</td>\n",
       "        <td style=\"padding-left: 1em; padding-right: 1em; text-align: center; vertical-align: top\">2</td>\n",
       "    </tr>\n",
       "    <tr>\n",
       "        <td style=\"padding-left: 1em; padding-right: 1em; text-align: center; vertical-align: top\">4466</td>\n",
       "        <td style=\"padding-left: 1em; padding-right: 1em; text-align: center; vertical-align: top\">1</td>\n",
       "        <td style=\"padding-left: 1em; padding-right: 1em; text-align: center; vertical-align: top\">-458</td>\n",
       "        <td style=\"padding-left: 1em; padding-right: 1em; text-align: center; vertical-align: top\">0</td>\n",
       "        <td style=\"padding-left: 1em; padding-right: 1em; text-align: center; vertical-align: top\">0</td>\n",
       "        <td style=\"padding-left: 1em; padding-right: 1em; text-align: center; vertical-align: top\">0</td>\n",
       "        <td style=\"padding-left: 1em; padding-right: 1em; text-align: center; vertical-align: top\">34.6526</td>\n",
       "        <td style=\"padding-left: 1em; padding-right: 1em; text-align: center; vertical-align: top\">0</td>\n",
       "        <td style=\"padding-left: 1em; padding-right: 1em; text-align: center; vertical-align: top\">2</td>\n",
       "    </tr>\n",
       "    <tr>\n",
       "        <td style=\"padding-left: 1em; padding-right: 1em; text-align: center; vertical-align: top\">4466</td>\n",
       "        <td style=\"padding-left: 1em; padding-right: 1em; text-align: center; vertical-align: top\">1</td>\n",
       "        <td style=\"padding-left: 1em; padding-right: 1em; text-align: center; vertical-align: top\">-457</td>\n",
       "        <td style=\"padding-left: 1em; padding-right: 1em; text-align: center; vertical-align: top\">0</td>\n",
       "        <td style=\"padding-left: 1em; padding-right: 1em; text-align: center; vertical-align: top\">20</td>\n",
       "        <td style=\"padding-left: 1em; padding-right: 1em; text-align: center; vertical-align: top\">-11</td>\n",
       "        <td style=\"padding-left: 1em; padding-right: 1em; text-align: center; vertical-align: top\">34.6276</td>\n",
       "        <td style=\"padding-left: 1em; padding-right: 1em; text-align: center; vertical-align: top\">0</td>\n",
       "        <td style=\"padding-left: 1em; padding-right: 1em; text-align: center; vertical-align: top\">2</td>\n",
       "    </tr>\n",
       "    <tr>\n",
       "        <td style=\"padding-left: 1em; padding-right: 1em; text-align: center; vertical-align: top\">4466</td>\n",
       "        <td style=\"padding-left: 1em; padding-right: 1em; text-align: center; vertical-align: top\">1</td>\n",
       "        <td style=\"padding-left: 1em; padding-right: 1em; text-align: center; vertical-align: top\">-456</td>\n",
       "        <td style=\"padding-left: 1em; padding-right: 1em; text-align: center; vertical-align: top\">0</td>\n",
       "        <td style=\"padding-left: 1em; padding-right: 1em; text-align: center; vertical-align: top\">24</td>\n",
       "        <td style=\"padding-left: 1em; padding-right: 1em; text-align: center; vertical-align: top\">-13</td>\n",
       "        <td style=\"padding-left: 1em; padding-right: 1em; text-align: center; vertical-align: top\">34.6276</td>\n",
       "        <td style=\"padding-left: 1em; padding-right: 1em; text-align: center; vertical-align: top\">0</td>\n",
       "        <td style=\"padding-left: 1em; padding-right: 1em; text-align: center; vertical-align: top\">2</td>\n",
       "    </tr>\n",
       "    <tr>\n",
       "        <td style=\"padding-left: 1em; padding-right: 1em; text-align: center; vertical-align: top\">4604</td>\n",
       "        <td style=\"padding-left: 1em; padding-right: 1em; text-align: center; vertical-align: top\">1</td>\n",
       "        <td style=\"padding-left: 1em; padding-right: 1em; text-align: center; vertical-align: top\">542</td>\n",
       "        <td style=\"padding-left: 1em; padding-right: 1em; text-align: center; vertical-align: top\">0</td>\n",
       "        <td style=\"padding-left: 1em; padding-right: 1em; text-align: center; vertical-align: top\">-1</td>\n",
       "        <td style=\"padding-left: 1em; padding-right: 1em; text-align: center; vertical-align: top\">-1</td>\n",
       "        <td style=\"padding-left: 1em; padding-right: 1em; text-align: center; vertical-align: top\">29.8123</td>\n",
       "        <td style=\"padding-left: 1em; padding-right: 1em; text-align: center; vertical-align: top\">0</td>\n",
       "        <td style=\"padding-left: 1em; padding-right: 1em; text-align: center; vertical-align: top\">2</td>\n",
       "    </tr>\n",
       "</table>\n",
       "<table frame=\"box\" rules=\"cols\">\n",
       "    <tr>\n",
       "        <th style=\"padding-left: 1em; padding-right: 1em; text-align: center\">mom_y</th>\n",
       "        <th style=\"padding-left: 1em; padding-right: 1em; text-align: center\">energy_deposit</th>\n",
       "        <th style=\"padding-left: 1em; padding-right: 1em; text-align: center\">mom_z</th>\n",
       "        <th style=\"padding-left: 1em; padding-right: 1em; text-align: center\">position_r</th>\n",
       "        <th style=\"padding-left: 1em; padding-right: 1em; text-align: center\">num_e_gen</th>\n",
       "        <th style=\"padding-left: 1em; padding-right: 1em; text-align: center\">kin_energy_from_vel</th>\n",
       "    </tr>\n",
       "    <tr>\n",
       "        <td style=\"padding-left: 1em; padding-right: 1em; text-align: center; vertical-align: top\">0</td>\n",
       "        <td style=\"padding-left: 1em; padding-right: 1em; text-align: center; vertical-align: top\">3.31007</td>\n",
       "        <td style=\"padding-left: 1em; padding-right: 1em; text-align: center; vertical-align: top\">0</td>\n",
       "        <td style=\"padding-left: 1em; padding-right: 1em; text-align: center; vertical-align: top\">0.0</td>\n",
       "        <td style=\"padding-left: 1em; padding-right: 1em; text-align: center; vertical-align: top\">0.358815176152</td>\n",
       "        <td style=\"padding-left: 1em; padding-right: 1em; text-align: center; vertical-align: top\">5300.53846553</td>\n",
       "    </tr>\n",
       "    <tr>\n",
       "        <td style=\"padding-left: 1em; padding-right: 1em; text-align: center; vertical-align: top\">0</td>\n",
       "        <td style=\"padding-left: 1em; padding-right: 1em; text-align: center; vertical-align: top\">3.3739e-18</td>\n",
       "        <td style=\"padding-left: 1em; padding-right: 1em; text-align: center; vertical-align: top\">0</td>\n",
       "        <td style=\"padding-left: 1em; padding-right: 1em; text-align: center; vertical-align: top\">20.8806130178</td>\n",
       "        <td style=\"padding-left: 1em; padding-right: 1em; text-align: center; vertical-align: top\">3.65734417344e-19</td>\n",
       "        <td style=\"padding-left: 1em; padding-right: 1em; text-align: center; vertical-align: top\">5297.24955809</td>\n",
       "    </tr>\n",
       "    <tr>\n",
       "        <td style=\"padding-left: 1em; padding-right: 1em; text-align: center; vertical-align: top\">0</td>\n",
       "        <td style=\"padding-left: 1em; padding-right: 1em; text-align: center; vertical-align: top\">0.0</td>\n",
       "        <td style=\"padding-left: 1em; padding-right: 1em; text-align: center; vertical-align: top\">0</td>\n",
       "        <td style=\"padding-left: 1em; padding-right: 1em; text-align: center; vertical-align: top\">25.0</td>\n",
       "        <td style=\"padding-left: 1em; padding-right: 1em; text-align: center; vertical-align: top\">0.0</td>\n",
       "        <td style=\"padding-left: 1em; padding-right: 1em; text-align: center; vertical-align: top\">5297.24955809</td>\n",
       "    </tr>\n",
       "    <tr>\n",
       "        <td style=\"padding-left: 1em; padding-right: 1em; text-align: center; vertical-align: top\">0</td>\n",
       "        <td style=\"padding-left: 1em; padding-right: 1em; text-align: center; vertical-align: top\">4.18192</td>\n",
       "        <td style=\"padding-left: 1em; padding-right: 1em; text-align: center; vertical-align: top\">0</td>\n",
       "        <td style=\"padding-left: 1em; padding-right: 1em; text-align: center; vertical-align: top\">0.0</td>\n",
       "        <td style=\"padding-left: 1em; padding-right: 1em; text-align: center; vertical-align: top\">0.453324661247</td>\n",
       "        <td style=\"padding-left: 1em; padding-right: 1em; text-align: center; vertical-align: top\">3775.00947029</td>\n",
       "    </tr>\n",
       "    <tr>\n",
       "        <td style=\"padding-left: 1em; padding-right: 1em; text-align: center; vertical-align: top\">0</td>\n",
       "        <td style=\"padding-left: 1em; padding-right: 1em; text-align: center; vertical-align: top\">4.45398e-18</td>\n",
       "        <td style=\"padding-left: 1em; padding-right: 1em; text-align: center; vertical-align: top\">0</td>\n",
       "        <td style=\"padding-left: 1em; padding-right: 1em; text-align: center; vertical-align: top\">20.3960780544</td>\n",
       "        <td style=\"padding-left: 1em; padding-right: 1em; text-align: center; vertical-align: top\">4.82816260163e-19</td>\n",
       "        <td style=\"padding-left: 1em; padding-right: 1em; text-align: center; vertical-align: top\">3770.82167409</td>\n",
       "    </tr>\n",
       "    <tr>\n",
       "        <td style=\"padding-left: 1em; padding-right: 1em; text-align: center; vertical-align: top\">0</td>\n",
       "        <td style=\"padding-left: 1em; padding-right: 1em; text-align: center; vertical-align: top\">0.0</td>\n",
       "        <td style=\"padding-left: 1em; padding-right: 1em; text-align: center; vertical-align: top\">0</td>\n",
       "        <td style=\"padding-left: 1em; padding-right: 1em; text-align: center; vertical-align: top\">24.5153013443</td>\n",
       "        <td style=\"padding-left: 1em; padding-right: 1em; text-align: center; vertical-align: top\">0.0</td>\n",
       "        <td style=\"padding-left: 1em; padding-right: 1em; text-align: center; vertical-align: top\">3770.82167409</td>\n",
       "    </tr>\n",
       "    <tr>\n",
       "        <td style=\"padding-left: 1em; padding-right: 1em; text-align: center; vertical-align: top\">0</td>\n",
       "        <td style=\"padding-left: 1em; padding-right: 1em; text-align: center; vertical-align: top\">5.02034</td>\n",
       "        <td style=\"padding-left: 1em; padding-right: 1em; text-align: center; vertical-align: top\">0</td>\n",
       "        <td style=\"padding-left: 1em; padding-right: 1em; text-align: center; vertical-align: top\">0.0</td>\n",
       "        <td style=\"padding-left: 1em; padding-right: 1em; text-align: center; vertical-align: top\">0.544210298103</td>\n",
       "        <td style=\"padding-left: 1em; padding-right: 1em; text-align: center; vertical-align: top\">3443.44142218</td>\n",
       "    </tr>\n",
       "    <tr>\n",
       "        <td style=\"padding-left: 1em; padding-right: 1em; text-align: center; vertical-align: top\">0</td>\n",
       "        <td style=\"padding-left: 1em; padding-right: 1em; text-align: center; vertical-align: top\">5.23619e-18</td>\n",
       "        <td style=\"padding-left: 1em; padding-right: 1em; text-align: center; vertical-align: top\">0</td>\n",
       "        <td style=\"padding-left: 1em; padding-right: 1em; text-align: center; vertical-align: top\">22.825424421</td>\n",
       "        <td style=\"padding-left: 1em; padding-right: 1em; text-align: center; vertical-align: top\">5.67608672087e-19</td>\n",
       "        <td style=\"padding-left: 1em; padding-right: 1em; text-align: center; vertical-align: top\">3438.42445353</td>\n",
       "    </tr>\n",
       "    <tr>\n",
       "        <td style=\"padding-left: 1em; padding-right: 1em; text-align: center; vertical-align: top\">0</td>\n",
       "        <td style=\"padding-left: 1em; padding-right: 1em; text-align: center; vertical-align: top\">0.0</td>\n",
       "        <td style=\"padding-left: 1em; padding-right: 1em; text-align: center; vertical-align: top\">0</td>\n",
       "        <td style=\"padding-left: 1em; padding-right: 1em; text-align: center; vertical-align: top\">27.2946881279</td>\n",
       "        <td style=\"padding-left: 1em; padding-right: 1em; text-align: center; vertical-align: top\">0.0</td>\n",
       "        <td style=\"padding-left: 1em; padding-right: 1em; text-align: center; vertical-align: top\">3438.42445353</td>\n",
       "    </tr>\n",
       "    <tr>\n",
       "        <td style=\"padding-left: 1em; padding-right: 1em; text-align: center; vertical-align: top\">0</td>\n",
       "        <td style=\"padding-left: 1em; padding-right: 1em; text-align: center; vertical-align: top\">5.6759</td>\n",
       "        <td style=\"padding-left: 1em; padding-right: 1em; text-align: center; vertical-align: top\">0</td>\n",
       "        <td style=\"padding-left: 1em; padding-right: 1em; text-align: center; vertical-align: top\">1.41421356237</td>\n",
       "        <td style=\"padding-left: 1em; padding-right: 1em; text-align: center; vertical-align: top\">0.615273712737</td>\n",
       "        <td style=\"padding-left: 1em; padding-right: 1em; text-align: center; vertical-align: top\">2541.97098618</td>\n",
       "    </tr>\n",
       "</table>\n",
       "[3153 rows x 24 columns]<br/>Note: Only the head of the SFrame is printed.<br/>You can use print_rows(num_rows=m, num_columns=n) to print more rows and columns.\n",
       "</div>"
      ],
      "text/plain": [
       "Columns:\n",
       "\tprocess_name\tstr\n",
       "\tnext_vol\tstr\n",
       "\tmom_x\tint\n",
       "\tmom_dir_z\tint\n",
       "\tmom_dir_y\tint\n",
       "\tstep_number\tint\n",
       "\tdE\tfloat\n",
       "\tparticle_name\tstr\n",
       "\tmom_dir_x\tint\n",
       "\tcount_particle\tint\n",
       "\tparent_id\tint\n",
       "\tposition_z\tint\n",
       "\ttotal_energy\tint\n",
       "\tposition_x\tint\n",
       "\tposition_y\tint\n",
       "\tvelocity\tfloat\n",
       "\tkinetic_energy\tint\n",
       "\ttrack_id\tint\n",
       "\tmom_y\tint\n",
       "\tenergy_deposit\tfloat\n",
       "\tmom_z\tint\n",
       "\tposition_r\tfloat\n",
       "\tnum_e_gen\tfloat\n",
       "\tkin_energy_from_vel\tfloat\n",
       "\n",
       "Rows: 3153\n",
       "\n",
       "Data:\n",
       "+----------------+------------+-------+-----------+-----------+-------------+\n",
       "|  process_name  |  next_vol  | mom_x | mom_dir_z | mom_dir_y | step_number |\n",
       "+----------------+------------+-------+-----------+-----------+-------------+\n",
       "|    initStep    |    Abso    |   0   |     0     |     0     |      0      |\n",
       "| Transportation |   World    |   0   |     0     |     0     |      1      |\n",
       "| Transportation | OutOfWorld |   0   |     0     |     0     |      2      |\n",
       "|    initStep    |    Abso    |   0   |     0     |     0     |      0      |\n",
       "| Transportation |   World    |   0   |     0     |     0     |      1      |\n",
       "| Transportation | OutOfWorld |   0   |     0     |     0     |      2      |\n",
       "|    initStep    |    Abso    |   0   |     0     |     0     |      0      |\n",
       "| Transportation |   World    |   0   |     0     |     0     |      1      |\n",
       "| Transportation | OutOfWorld |   0   |     0     |     0     |      2      |\n",
       "|    initStep    |    Abso    |   0   |     0     |     0     |      0      |\n",
       "+----------------+------------+-------+-----------+-----------+-------------+\n",
       "+----------+---------------+-----------+----------------+-----------+------------+\n",
       "|    dE    | particle_name | mom_dir_x | count_particle | parent_id | position_z |\n",
       "+----------+---------------+-----------+----------------+-----------+------------+\n",
       "|   0.0    |       e-      |     0     |      2318      |     1     |    635     |\n",
       "| 3.31e-06 |       e-      |     0     |      2318      |     1     |    636     |\n",
       "| 3.37e-24 |       e-      |     0     |      2318      |     1     |    637     |\n",
       "|   0.0    |       e-      |     0     |      4231      |     1     |    347     |\n",
       "| 4.18e-06 |       e-      |     0     |      4231      |     1     |    348     |\n",
       "| 4.45e-24 |       e-      |     0     |      4231      |     1     |    348     |\n",
       "|   0.0    |       e-      |     0     |      4466      |     1     |    -458    |\n",
       "| 5.02e-06 |       e-      |     0     |      4466      |     1     |    -457    |\n",
       "| 5.24e-24 |       e-      |     0     |      4466      |     1     |    -456    |\n",
       "|   0.0    |       e-      |     0     |      4604      |     1     |    542     |\n",
       "+----------+---------------+-----------+----------------+-----------+------------+\n",
       "+--------------+------------+------------+----------+----------------+----------+\n",
       "| total_energy | position_x | position_y | velocity | kinetic_energy | track_id |\n",
       "+--------------+------------+------------+----------+----------------+----------+\n",
       "|      0       |     0      |     0      | 42.8773  |       0        |    2     |\n",
       "|      0       |    -20     |     -6     | 42.8642  |       0        |    2     |\n",
       "|      0       |    -24     |     -7     | 42.8642  |       0        |    2     |\n",
       "|      0       |     0      |     0      | 36.2651  |       0        |    2     |\n",
       "|      0       |     -4     |     20     | 36.2452  |       0        |    2     |\n",
       "|      0       |     -5     |     24     | 36.2452  |       0        |    2     |\n",
       "|      0       |     0      |     0      | 34.6526  |       0        |    2     |\n",
       "|      0       |     20     |    -11     | 34.6276  |       0        |    2     |\n",
       "|      0       |     24     |    -13     | 34.6276  |       0        |    2     |\n",
       "|      0       |     -1     |     -1     | 29.8123  |       0        |    2     |\n",
       "+--------------+------------+------------+----------+----------------+----------+\n",
       "+-------+----------------+-----+\n",
       "| mom_y | energy_deposit | ... |\n",
       "+-------+----------------+-----+\n",
       "|   0   |    3.31007     | ... |\n",
       "|   0   |   3.3739e-18   | ... |\n",
       "|   0   |      0.0       | ... |\n",
       "|   0   |    4.18192     | ... |\n",
       "|   0   |  4.45398e-18   | ... |\n",
       "|   0   |      0.0       | ... |\n",
       "|   0   |    5.02034     | ... |\n",
       "|   0   |  5.23619e-18   | ... |\n",
       "|   0   |      0.0       | ... |\n",
       "|   0   |     5.6759     | ... |\n",
       "+-------+----------------+-----+\n",
       "[3153 rows x 24 columns]\n",
       "Note: Only the head of the SFrame is printed.\n",
       "You can use print_rows(num_rows=m, num_columns=n) to print more rows and columns."
      ]
     },
     "execution_count": 27,
     "metadata": {},
     "output_type": "execute_result"
    }
   ],
   "source": [
    "sf_el"
   ]
  },
  {
   "cell_type": "code",
   "execution_count": 28,
   "metadata": {
    "collapsed": false
   },
   "outputs": [
    {
     "data": {
      "application/javascript": [
       "$(\"head\").append($(\"<link/>\").attr({\n",
       "  rel:  \"stylesheet\",\n",
       "  type: \"text/css\",\n",
       "  href: \"//cdnjs.cloudflare.com/ajax/libs/font-awesome/4.1.0/css/font-awesome.min.css\"\n",
       "}));\n",
       "$(\"head\").append($(\"<link/>\").attr({\n",
       "  rel:  \"stylesheet\",\n",
       "  type: \"text/css\",\n",
       "  href: \"https://static.turi.com/products/graphlab-create/2.1/canvas/css/canvas.css\"\n",
       "}));\n",
       "\n",
       "            (function(){\n",
       "\n",
       "                var e = null;\n",
       "                if (typeof element == 'undefined') {\n",
       "                    var scripts = document.getElementsByTagName('script');\n",
       "                    var thisScriptTag = scripts[scripts.length-1];\n",
       "                    var parentDiv = thisScriptTag.parentNode;\n",
       "                    e = document.createElement('div');\n",
       "                    parentDiv.appendChild(e);\n",
       "                } else {\n",
       "                    e = element[0];\n",
       "                }\n",
       "\n",
       "                if (typeof requirejs !== 'undefined') {\n",
       "                    // disable load timeout; ipython_app.js is large and can take a while to load.\n",
       "                    requirejs.config({waitSeconds: 0});\n",
       "                }\n",
       "\n",
       "                require(['https://static.turi.com/products/graphlab-create/2.1/canvas/js/ipython_app.js'], function(IPythonApp){\n",
       "                    var app = new IPythonApp();\n",
       "                    app.attachView('sarray','Numeric', {\"ipython\": true, \"sketch\": {\"std\": 36227.60716059244, \"complete\": true, \"min\": 0.0, \"max\": 931583.4909664245, \"quantile\": [0.0, 996.7870920129308, 1005.5045308306834, 1016.9570529598559, 1024.6573144572335, 1032.6588172733532, 1039.9929128756955, 1047.3312865213522, 1061.8985895870799, 1074.4133584771926, 1088.431524828715, 1100.0804494304152, 1110.0989540284233, 1121.0702251136806, 1133.6576166698908, 1144.0466729532106, 1162.2532105988535, 1172.2051874943206, 1185.2534895649562, 1203.0467367788806, 1225.796955637562, 1248.5350997917203, 1269.8537897289289, 1286.8772285057864, 1307.0032834717388, 1325.5590567917554, 1337.7923093201293, 1362.3417963140253, 1375.8893680028532, 1396.2492478812053, 1422.8807390663867, 1438.1432942290444, 1456.8131394708407, 1485.3668441425173, 1506.7655580260257, 1528.5846141116547, 1572.8207922654274, 1616.7550640525565, 1648.502674723339, 1683.264446913339, 1720.8019991793087, 1748.1375262994607, 1774.8618399385002, 1791.3114944778065, 1820.7585344969757, 1848.827694678292, 1884.423833900281, 1917.7895636740823, 1968.1100163187175, 2020.3158646501292, 2059.9537400042464, 2110.532956143948, 2170.191933733644, 2201.7200028501325, 2281.115588003546, 2318.842495151344, 2343.6307242254406, 2379.0883800243914, 2444.3145754756288, 2526.155673777361, 2589.841127992571, 2624.1964754325263, 2731.6643064836057, 2828.7151603542907, 2903.341691983217, 3012.716335225623, 3106.7775430940205, 3187.836926778086, 3287.411165151172, 3421.2948935131562, 3476.547051274633, 3588.420267008339, 3676.680329104108, 3763.167796260324, 3848.2488589910445, 4024.038435762655, 4081.426518891128, 4279.422967114773, 4424.798742501671, 4667.665051184331, 4931.475125879258, 5259.4163276546105, 5442.106841628022, 5939.171364481573, 6363.724014021633, 6756.353634149263, 7543.413555645021, 8029.219522773584, 8870.135938953066, 9742.907943303804, 10432.012415357212, 11366.30180662094, 12768.81668468249, 14671.240920084887, 16232.468301220812, 19968.009996373723, 22678.562985450462, 25710.59135066553, 34961.37884156224, 79514.61196822216, 931583.4909664245], \"median\": 2059.9537400042464, \"numeric\": true, \"num_unique\": 2005, \"num_undefined\": 0, \"var\": 1312439520.5822086, \"progress\": 1.0, \"size\": 3153, \"frequent_items\": {\"0.0\": {\"frequency\": 24, \"value\": 0.0}, \"1384.8452178139444\": {\"frequency\": 1, \"value\": 1384.8452178139444}, \"1421.55078593498\": {\"frequency\": 1, \"value\": 1421.55078593498}, \"3725.7715045133637\": {\"frequency\": 1, \"value\": 3725.7715045133637}, \"7540.630905369891\": {\"frequency\": 2, \"value\": 7540.630905369891}, \"3017.628934224258\": {\"frequency\": 2, \"value\": 3017.628934224258}, \"2450.127959215343\": {\"frequency\": 1, \"value\": 2450.127959215343}, \"4054.4707400439574\": {\"frequency\": 1, \"value\": 4054.4707400439574}, \"25396.364640159198\": {\"frequency\": 2, \"value\": 25396.364640159198}, \"1774.8618399385002\": {\"frequency\": 2, \"value\": 1774.8618399385002}, \"1174.8740273334138\": {\"frequency\": 1, \"value\": 1174.8740273334138}, \"5942.103685542835\": {\"frequency\": 1, \"value\": 5942.103685542835}, \"1504.8042430085045\": {\"frequency\": 2, \"value\": 1504.8042430085045}, \"2429.0313423383923\": {\"frequency\": 2, \"value\": 2429.0313423383923}, \"1725.3403837881795\": {\"frequency\": 1, \"value\": 1725.3403837881795}, \"1995.4849171529856\": {\"frequency\": 1, \"value\": 1995.4849171529856}, \"2786.073389452062\": {\"frequency\": 2, \"value\": 2786.073389452062}, \"1410.0933391441106\": {\"frequency\": 1, \"value\": 1410.0933391441106}, \"13743.355583513281\": {\"frequency\": 1, \"value\": 13743.355583513281}, \"1432.3492120997737\": {\"frequency\": 2, \"value\": 1432.3492120997737}, \"4741.398811794486\": {\"frequency\": 2, \"value\": 4741.398811794486}, \"1628.7041970770038\": {\"frequency\": 2, \"value\": 1628.7041970770038}, \"1201.7193400186804\": {\"frequency\": 2, \"value\": 1201.7193400186804}, \"1816.7313002514932\": {\"frequency\": 1, \"value\": 1816.7313002514932}, \"1713.8511777494462\": {\"frequency\": 2, \"value\": 1713.8511777494462}, \"1287.533797602692\": {\"frequency\": 3, \"value\": 1287.533797602692}, \"4834.789505748351\": {\"frequency\": 2, \"value\": 4834.789505748351}, \"3767.414286052346\": {\"frequency\": 1, \"value\": 3767.414286052346}, \"1037.5162271197257\": {\"frequency\": 3, \"value\": 1037.5162271197257}, \"4233.504381564109\": {\"frequency\": 1, \"value\": 4233.504381564109}, \"1596.0259985007276\": {\"frequency\": 2, \"value\": 1596.0259985007276}, \"1810.8145748859306\": {\"frequency\": 1, \"value\": 1810.8145748859306}, \"8506.934584977864\": {\"frequency\": 2, \"value\": 8506.934584977864}, \"2830.203377546204\": {\"frequency\": 1, \"value\": 2830.203377546204}, \"3833.1481567653223\": {\"frequency\": 2, \"value\": 3833.1481567653223}, \"2360.3743004899957\": {\"frequency\": 1, \"value\": 2360.3743004899957}, \"1976.0197178138526\": {\"frequency\": 1, \"value\": 1976.0197178138526}, \"8111.789627713133\": {\"frequency\": 1, \"value\": 8111.789627713133}, \"4935.828766712126\": {\"frequency\": 1, \"value\": 4935.828766712126}, \"1009.9959329622671\": {\"frequency\": 3, \"value\": 1009.9959329622671}, \"2598.0520920241374\": {\"frequency\": 2, \"value\": 2598.0520920241374}, \"7827.221377956607\": {\"frequency\": 1, \"value\": 7827.221377956607}, \"24006.127713562397\": {\"frequency\": 1, \"value\": 24006.127713562397}, \"1787.9493353688074\": {\"frequency\": 1, \"value\": 1787.9493353688074}, \"5441.852254099485\": {\"frequency\": 1, \"value\": 5441.852254099485}, \"4079.717160493078\": {\"frequency\": 1, \"value\": 4079.717160493078}, \"20742.12011182844\": {\"frequency\": 1, \"value\": 20742.12011182844}, \"4309.035891369682\": {\"frequency\": 1, \"value\": 4309.035891369682}, \"1292.6705963790635\": {\"frequency\": 2, \"value\": 1292.6705963790635}, \"2330.315808937287\": {\"frequency\": 2, \"value\": 2330.315808937287}, \"10167.528882578847\": {\"frequency\": 1, \"value\": 10167.528882578847}, \"1792.490446015513\": {\"frequency\": 2, \"value\": 1792.490446015513}, \"1030.5060748626283\": {\"frequency\": 2, \"value\": 1030.5060748626283}, \"1287.0109603281694\": {\"frequency\": 2, \"value\": 1287.0109603281694}, \"1045.250714141497\": {\"frequency\": 1, \"value\": 1045.250714141497}, \"1183.807844553247\": {\"frequency\": 2, \"value\": 1183.807844553247}, \"1467.4992534857379\": {\"frequency\": 1, \"value\": 1467.4992534857379}, \"1925.8195683803465\": {\"frequency\": 1, \"value\": 1925.8195683803465}, \"1039.9929128756955\": {\"frequency\": 2, \"value\": 1039.9929128756955}, \"1007.1580831636248\": {\"frequency\": 1, \"value\": 1007.1580831636248}, \"2022.9145935929098\": {\"frequency\": 1, \"value\": 2022.9145935929098}, \"1631.0747050595376\": {\"frequency\": 1, \"value\": 1631.0747050595376}, \"2630.119705018375\": {\"frequency\": 1, \"value\": 2630.119705018375}, \"2444.5503436077474\": {\"frequency\": 2, \"value\": 2444.5503436077474}, \"14998.986616588438\": {\"frequency\": 2, \"value\": 14998.986616588438}, \"2122.1431451702365\": {\"frequency\": 2, \"value\": 2122.1431451702365}, \"1626.6639471423666\": {\"frequency\": 1, \"value\": 1626.6639471423666}, \"1054.1570280125377\": {\"frequency\": 1, \"value\": 1054.1570280125377}, \"1841.9685530900354\": {\"frequency\": 2, \"value\": 1841.9685530900354}, \"1130.5012687287704\": {\"frequency\": 2, \"value\": 1130.5012687287704}, \"47809.743777918055\": {\"frequency\": 1, \"value\": 47809.743777918055}, \"2594.023066218248\": {\"frequency\": 2, \"value\": 2594.023066218248}, \"2059.9537400042464\": {\"frequency\": 2, \"value\": 2059.9537400042464}, \"41147.58818167724\": {\"frequency\": 2, \"value\": 41147.58818167724}, \"1332.2190692015683\": {\"frequency\": 3, \"value\": 1332.2190692015683}, \"8962.006466228222\": {\"frequency\": 1, \"value\": 8962.006466228222}, \"7728.0032751371755\": {\"frequency\": 1, \"value\": 7728.0032751371755}, \"1033.7469223684727\": {\"frequency\": 1, \"value\": 1033.7469223684727}, \"5363.786520387946\": {\"frequency\": 1, \"value\": 5363.786520387946}, \"15000.440242644254\": {\"frequency\": 1, \"value\": 15000.440242644254}, \"3614.2243214289533\": {\"frequency\": 1, \"value\": 3614.2243214289533}, \"4096.563915997889\": {\"frequency\": 1, \"value\": 4096.563915997889}, \"3837.3503330976355\": {\"frequency\": 2, \"value\": 3837.3503330976355}, \"1541.6644259281093\": {\"frequency\": 2, \"value\": 1541.6644259281093}, \"46172.51173959917\": {\"frequency\": 2, \"value\": 46172.51173959917}, \"1396.2492478812053\": {\"frequency\": 2, \"value\": 1396.2492478812053}, \"1115.883186811494\": {\"frequency\": 1, \"value\": 1115.883186811494}, \"1669.7816253295096\": {\"frequency\": 1, \"value\": 1669.7816253295096}, \"1641.247937557707\": {\"frequency\": 2, \"value\": 1641.247937557707}, \"1207.30409079852\": {\"frequency\": 2, \"value\": 1207.30409079852}, \"4398.692933646495\": {\"frequency\": 1, \"value\": 4398.692933646495}, \"7703.847237760229\": {\"frequency\": 1, \"value\": 7703.847237760229}, \"7352.185229988116\": {\"frequency\": 1, \"value\": 7352.185229988116}, \"1172.1935905369394\": {\"frequency\": 2, \"value\": 1172.1935905369394}, \"1073.2040266209694\": {\"frequency\": 1, \"value\": 1073.2040266209694}, \"1458.328054728536\": {\"frequency\": 2, \"value\": 1458.328054728536}, \"2579.410031156875\": {\"frequency\": 2, \"value\": 2579.410031156875}, \"2757.6268301722735\": {\"frequency\": 1, \"value\": 2757.6268301722735}, \"2136.4735155717844\": {\"frequency\": 1, \"value\": 2136.4735155717844}, \"1181.33832252895\": {\"frequency\": 1, \"value\": 1181.33832252895}, \"2663.461803416514\": {\"frequency\": 1, \"value\": 2663.461803416514}, \"3095.0028226513887\": {\"frequency\": 1, \"value\": 3095.0028226513887}, \"1432.4262175047388\": {\"frequency\": 1, \"value\": 1432.4262175047388}, \"2277.5243137957623\": {\"frequency\": 1, \"value\": 2277.5243137957623}, \"1215.4281740739252\": {\"frequency\": 3, \"value\": 1215.4281740739252}, \"1040.5497587881353\": {\"frequency\": 3, \"value\": 1040.5497587881353}, \"3070.935473616891\": {\"frequency\": 1, \"value\": 3070.935473616891}, \"1512.5517218281727\": {\"frequency\": 1, \"value\": 1512.5517218281727}, \"1127.406218741635\": {\"frequency\": 1, \"value\": 1127.406218741635}, \"2475.45165120927\": {\"frequency\": 2, \"value\": 2475.45165120927}, \"2905.4569789431903\": {\"frequency\": 2, \"value\": 2905.4569789431903}, \"2303.2792661590006\": {\"frequency\": 1, \"value\": 2303.2792661590006}, \"1448.7470568578808\": {\"frequency\": 3, \"value\": 1448.7470568578808}, \"1780.8476453755668\": {\"frequency\": 2, \"value\": 1780.8476453755668}, \"8037.040032992664\": {\"frequency\": 1, \"value\": 8037.040032992664}, \"4213.960910067403\": {\"frequency\": 1, \"value\": 4213.960910067403}, \"1752.7265586515389\": {\"frequency\": 1, \"value\": 1752.7265586515389}, \"2832.7451631339172\": {\"frequency\": 2, \"value\": 2832.7451631339172}, \"1899.2031328938212\": {\"frequency\": 1, \"value\": 1899.2031328938212}, \"3192.430683695904\": {\"frequency\": 1, \"value\": 3192.430683695904}, \"1801.4604689580888\": {\"frequency\": 2, \"value\": 1801.4604689580888}, \"1430.7197560598322\": {\"frequency\": 2, \"value\": 1430.7197560598322}, \"4192.7305878981815\": {\"frequency\": 2, \"value\": 4192.7305878981815}, \"1137.2295237818205\": {\"frequency\": 2, \"value\": 1137.2295237818205}, \"19826.945847892173\": {\"frequency\": 1, \"value\": 19826.945847892173}, \"2377.842855856624\": {\"frequency\": 2, \"value\": 2377.842855856624}, \"3180.547947456391\": {\"frequency\": 1, \"value\": 3180.547947456391}, \"4004.373156801566\": {\"frequency\": 1, \"value\": 4004.373156801566}, \"1145.7197834071337\": {\"frequency\": 1, \"value\": 1145.7197834071337}, \"1828.3472280312149\": {\"frequency\": 1, \"value\": 1828.3472280312149}, \"3837.5626273444727\": {\"frequency\": 1, \"value\": 3837.5626273444727}, \"2319.9737688512887\": {\"frequency\": 2, \"value\": 2319.9737688512887}, \"1480.703686728506\": {\"frequency\": 2, \"value\": 1480.703686728506}, \"1783.6865989858131\": {\"frequency\": 1, \"value\": 1783.6865989858131}, \"5402.010081064054\": {\"frequency\": 2, \"value\": 5402.010081064054}, \"166830.2607823125\": {\"frequency\": 3, \"value\": 166830.2607823125}, \"26751.813867575405\": {\"frequency\": 2, \"value\": 26751.813867575405}, \"3476.547051274633\": {\"frequency\": 1, \"value\": 3476.547051274633}, \"1938.7569346458192\": {\"frequency\": 2, \"value\": 1938.7569346458192}, \"8867.991671801758\": {\"frequency\": 2, \"value\": 8867.991671801758}, \"1352.2754918708117\": {\"frequency\": 2, \"value\": 1352.2754918708117}, \"2296.912326909032\": {\"frequency\": 1, \"value\": 2296.912326909032}, \"2726.248272770064\": {\"frequency\": 2, \"value\": 2726.248272770064}, \"1133.8970878088157\": {\"frequency\": 1, \"value\": 1133.8970878088157}, \"2235.6193761132267\": {\"frequency\": 2, \"value\": 2235.6193761132267}, \"3676.015869125397\": {\"frequency\": 2, \"value\": 3676.015869125397}, \"2914.2024034238357\": {\"frequency\": 2, \"value\": 2914.2024034238357}, \"11366.30180662094\": {\"frequency\": 1, \"value\": 11366.30180662094}, \"3722.9494763649514\": {\"frequency\": 2, \"value\": 3722.9494763649514}, \"2112.5334768117605\": {\"frequency\": 2, \"value\": 2112.5334768117605}, \"1137.0011171986187\": {\"frequency\": 2, \"value\": 1137.0011171986187}, \"1240.6100046533684\": {\"frequency\": 1, \"value\": 1240.6100046533684}, \"3576.6184489893676\": {\"frequency\": 1, \"value\": 3576.6184489893676}, \"1205.8331510021906\": {\"frequency\": 2, \"value\": 1205.8331510021906}, \"1429.5143067074068\": {\"frequency\": 1, \"value\": 1429.5143067074068}, \"1916.0636300542571\": {\"frequency\": 1, \"value\": 1916.0636300542571}, \"1144.7799392274037\": {\"frequency\": 1, \"value\": 1144.7799392274037}, \"1880.7823847402904\": {\"frequency\": 1, \"value\": 1880.7823847402904}, \"5921.486971109138\": {\"frequency\": 1, \"value\": 5921.486971109138}, \"4053.5315835323568\": {\"frequency\": 1, \"value\": 4053.5315835323568}, \"3247.2366653252025\": {\"frequency\": 2, \"value\": 3247.2366653252025}, \"1196.3702880822082\": {\"frequency\": 2, \"value\": 1196.3702880822082}, \"1192.1207801500627\": {\"frequency\": 2, \"value\": 1192.1207801500627}, \"1236.3532108319919\": {\"frequency\": 1, \"value\": 1236.3532108319919}, \"21088.956076918894\": {\"frequency\": 2, \"value\": 21088.956076918894}, \"3334.1945620955016\": {\"frequency\": 1, \"value\": 3334.1945620955016}, \"11954.724197101183\": {\"frequency\": 2, \"value\": 11954.724197101183}, \"5355.451942510024\": {\"frequency\": 1, \"value\": 5355.451942510024}, \"8311.001579685459\": {\"frequency\": 2, \"value\": 8311.001579685459}, \"1005.0430694249445\": {\"frequency\": 2, \"value\": 1005.0430694249445}, \"1375.8893680028532\": {\"frequency\": 2, \"value\": 1375.8893680028532}, \"5438.924945843228\": {\"frequency\": 2, \"value\": 5438.924945843228}, \"1039.6545114028643\": {\"frequency\": 2, \"value\": 1039.6545114028643}, \"1183.4582256368974\": {\"frequency\": 3, \"value\": 1183.4582256368974}, \"3146.090285430097\": {\"frequency\": 1, \"value\": 3146.090285430097}, \"1112.876202842486\": {\"frequency\": 3, \"value\": 1112.876202842486}, \"1509.7692703773996\": {\"frequency\": 1, \"value\": 1509.7692703773996}, \"9730.625959784462\": {\"frequency\": 2, \"value\": 9730.625959784462}, \"1276.0319698045932\": {\"frequency\": 1, \"value\": 1276.0319698045932}, \"3004.550275527122\": {\"frequency\": 1, \"value\": 3004.550275527122}, \"9309.962845910535\": {\"frequency\": 1, \"value\": 9309.962845910535}, \"991.7711162330828\": {\"frequency\": 1, \"value\": 991.7711162330828}, \"1368.6179292973611\": {\"frequency\": 2, \"value\": 1368.6179292973611}, \"1032.4738969055122\": {\"frequency\": 2, \"value\": 1032.4738969055122}, \"1005.5045308306834\": {\"frequency\": 2, \"value\": 1005.5045308306834}, \"12770.990524242028\": {\"frequency\": 1, \"value\": 12770.990524242028}, \"4931.475125879258\": {\"frequency\": 2, \"value\": 4931.475125879258}, \"1934.5691342386863\": {\"frequency\": 1, \"value\": 1934.5691342386863}, \"1438.4519586411416\": {\"frequency\": 2, \"value\": 1438.4519586411416}, \"6484.675024001881\": {\"frequency\": 1, \"value\": 6484.675024001881}, \"4179.007274458175\": {\"frequency\": 2, \"value\": 4179.007274458175}, \"4793.120379231044\": {\"frequency\": 1, \"value\": 4793.120379231044}, \"1923.6576857081436\": {\"frequency\": 1, \"value\": 1923.6576857081436}, \"12268.64313313769\": {\"frequency\": 2, \"value\": 12268.64313313769}, \"1070.7874250914258\": {\"frequency\": 1, \"value\": 1070.7874250914258}, \"1748.1375262994607\": {\"frequency\": 2, \"value\": 1748.1375262994607}, \"24372.16138400049\": {\"frequency\": 2, \"value\": 24372.16138400049}, \"2221.8033818598465\": {\"frequency\": 2, \"value\": 2221.8033818598465}, \"1364.3445637570949\": {\"frequency\": 3, \"value\": 1364.3445637570949}, \"1875.7757189705837\": {\"frequency\": 1, \"value\": 1875.7757189705837}, \"1383.583827550539\": {\"frequency\": 1, \"value\": 1383.583827550539}, \"4137.270871581851\": {\"frequency\": 1, \"value\": 4137.270871581851}, \"4071.679386532004\": {\"frequency\": 2, \"value\": 4071.679386532004}, \"1109.9974137992447\": {\"frequency\": 1, \"value\": 1109.9974137992447}, \"1128.634622768193\": {\"frequency\": 2, \"value\": 1128.634622768193}, \"24373.388440355775\": {\"frequency\": 1, \"value\": 24373.388440355775}, \"2128.023168691766\": {\"frequency\": 2, \"value\": 2128.023168691766}, \"19478.193177762358\": {\"frequency\": 1, \"value\": 19478.193177762358}, \"2621.699934417719\": {\"frequency\": 1, \"value\": 2621.699934417719}, \"2083.1081391455896\": {\"frequency\": 2, \"value\": 2083.1081391455896}, \"11364.452109300673\": {\"frequency\": 2, \"value\": 11364.452109300673}, \"1091.8748742392277\": {\"frequency\": 2, \"value\": 1091.8748742392277}, \"5178.542477846608\": {\"frequency\": 1, \"value\": 5178.542477846608}, \"8098.431158829572\": {\"frequency\": 1, \"value\": 8098.431158829572}, \"1201.1204919483087\": {\"frequency\": 2, \"value\": 1201.1204919483087}, \"1445.2381689071794\": {\"frequency\": 2, \"value\": 1445.2381689071794}, \"1769.4862218308986\": {\"frequency\": 2, \"value\": 1769.4862218308986}, \"1094.1473563318332\": {\"frequency\": 1, \"value\": 1094.1473563318332}, \"3204.181433275986\": {\"frequency\": 1, \"value\": 3204.181433275986}, \"3064.1443280385565\": {\"frequency\": 1, \"value\": 3064.1443280385565}, \"17617.185889118387\": {\"frequency\": 2, \"value\": 17617.185889118387}, \"25774.311005871663\": {\"frequency\": 2, \"value\": 25774.311005871663}, \"9856.827389775597\": {\"frequency\": 2, \"value\": 9856.827389775597}, \"21497.36597854913\": {\"frequency\": 2, \"value\": 21497.36597854913}, \"1506.7655580260257\": {\"frequency\": 2, \"value\": 1506.7655580260257}, \"1164.1361654418931\": {\"frequency\": 2, \"value\": 1164.1361654418931}, \"33898.18548963095\": {\"frequency\": 1, \"value\": 33898.18548963095}, \"1709.9599000675344\": {\"frequency\": 2, \"value\": 1709.9599000675344}, \"4305.294683538431\": {\"frequency\": 2, \"value\": 4305.294683538431}, \"3199.578990142058\": {\"frequency\": 2, \"value\": 3199.578990142058}, \"4114.04081607486\": {\"frequency\": 1, \"value\": 4114.04081607486}, \"1087.794883621163\": {\"frequency\": 1, \"value\": 1087.794883621163}, \"3122.2010958803457\": {\"frequency\": 2, \"value\": 3122.2010958803457}, \"2177.8378803786586\": {\"frequency\": 2, \"value\": 2177.8378803786586}, \"1110.0989540284233\": {\"frequency\": 3, \"value\": 1110.0989540284233}, \"1484.9877670941194\": {\"frequency\": 2, \"value\": 1484.9877670941194}, \"1325.5590567917554\": {\"frequency\": 2, \"value\": 1325.5590567917554}, \"4050.038036966847\": {\"frequency\": 2, \"value\": 4050.038036966847}, \"2791.063306511077\": {\"frequency\": 1, \"value\": 2791.063306511077}, \"1399.367653349593\": {\"frequency\": 1, \"value\": 1399.367653349593}, \"20056.21845204205\": {\"frequency\": 2, \"value\": 20056.21845204205}, \"22936.5232185889\": {\"frequency\": 2, \"value\": 22936.5232185889}, \"3685.1992070525985\": {\"frequency\": 1, \"value\": 3685.1992070525985}, \"1403.0610452427002\": {\"frequency\": 2, \"value\": 1403.0610452427002}, \"1909.4944679902203\": {\"frequency\": 2, \"value\": 1909.4944679902203}, \"9307.355565906253\": {\"frequency\": 2, \"value\": 9307.355565906253}, \"1969.7841976049085\": {\"frequency\": 1, \"value\": 1969.7841976049085}, \"1432.3877145402093\": {\"frequency\": 2, \"value\": 1432.3877145402093}, \"1531.9687784051716\": {\"frequency\": 1, \"value\": 1531.9687784051716}, \"8880.16821719719\": {\"frequency\": 1, \"value\": 8880.16821719719}, \"3160.345769954234\": {\"frequency\": 2, \"value\": 3160.345769954234}, \"9467.019816338341\": {\"frequency\": 2, \"value\": 9467.019816338341}, \"46173.39183875308\": {\"frequency\": 1, \"value\": 46173.39183875308}, \"2188.250081843952\": {\"frequency\": 2, \"value\": 2188.250081843952}, \"1064.3823686707262\": {\"frequency\": 2, \"value\": 1064.3823686707262}, \"2823.527688049724\": {\"frequency\": 2, \"value\": 2823.527688049724}, \"3681.395621360293\": {\"frequency\": 1, \"value\": 3681.395621360293}, \"1514.135316547908\": {\"frequency\": 2, \"value\": 1514.135316547908}, \"2549.037237038565\": {\"frequency\": 2, \"value\": 2549.037237038565}, \"3163.1124404733196\": {\"frequency\": 1, \"value\": 3163.1124404733196}, \"17244.188606275573\": {\"frequency\": 1, \"value\": 17244.188606275573}, \"1914.9927582826133\": {\"frequency\": 2, \"value\": 1914.9927582826133}, \"1025.9688395214002\": {\"frequency\": 2, \"value\": 1025.9688395214002}, \"2515.890807759927\": {\"frequency\": 2, \"value\": 2515.890807759927}, \"1205.8213871373046\": {\"frequency\": 1, \"value\": 1205.8213871373046}, \"1057.7764761934695\": {\"frequency\": 1, \"value\": 1057.7764761934695}, \"1023.5415591682076\": {\"frequency\": 2, \"value\": 1023.5415591682076}, \"1616.7550640525565\": {\"frequency\": 2, \"value\": 1616.7550640525565}, \"1029.3979709052464\": {\"frequency\": 2, \"value\": 1029.3979709052464}, \"1047.024544696309\": {\"frequency\": 2, \"value\": 1047.024544696309}, \"3341.2473420077827\": {\"frequency\": 2, \"value\": 3341.2473420077827}, \"2201.7200028501325\": {\"frequency\": 2, \"value\": 2201.7200028501325}, \"2416.6926601162036\": {\"frequency\": 1, \"value\": 2416.6926601162036}, \"10915.321460574196\": {\"frequency\": 2, \"value\": 10915.321460574196}, \"1851.881984656623\": {\"frequency\": 1, \"value\": 1851.881984656623}, \"1454.0313996089576\": {\"frequency\": 1, \"value\": 1454.0313996089576}, \"1815.761385243334\": {\"frequency\": 1, \"value\": 1815.761385243334}, \"2828.7151603542907\": {\"frequency\": 1, \"value\": 2828.7151603542907}, \"6642.178423390017\": {\"frequency\": 2, \"value\": 6642.178423390017}, \"1478.5509553392972\": {\"frequency\": 2, \"value\": 1478.5509553392972}, \"1453.0099483202425\": {\"frequency\": 1, \"value\": 1453.0099483202425}, \"1549.2135626783486\": {\"frequency\": 2, \"value\": 1549.2135626783486}, \"2312.879275763763\": {\"frequency\": 2, \"value\": 2312.879275763763}, \"3912.002716457658\": {\"frequency\": 2, \"value\": 3912.002716457658}, \"4394.797644736793\": {\"frequency\": 2, \"value\": 4394.797644736793}, \"1226.722361565901\": {\"frequency\": 2, \"value\": 1226.722361565901}, \"2148.8656269340336\": {\"frequency\": 2, \"value\": 2148.8656269340336}, \"3800.228918324243\": {\"frequency\": 2, \"value\": 3800.228918324243}, \"1372.797566270838\": {\"frequency\": 3, \"value\": 1372.797566270838}, \"2243.075603517815\": {\"frequency\": 1, \"value\": 2243.075603517815}, \"2442.378348184458\": {\"frequency\": 2, \"value\": 2442.378348184458}, \"6996.688353849635\": {\"frequency\": 1, \"value\": 6996.688353849635}, \"3175.731904906223\": {\"frequency\": 1, \"value\": 3175.731904906223}, \"1697.6135112126635\": {\"frequency\": 1, \"value\": 1697.6135112126635}, \"28462.433521188836\": {\"frequency\": 2, \"value\": 28462.433521188836}, \"1519.935787992917\": {\"frequency\": 1, \"value\": 1519.935787992917}, \"1745.9517168186617\": {\"frequency\": 2, \"value\": 1745.9517168186617}, \"4667.665051184331\": {\"frequency\": 2, \"value\": 4667.665051184331}, \"1283.4148080477864\": {\"frequency\": 1, \"value\": 1283.4148080477864}, \"1328.584242119106\": {\"frequency\": 1, \"value\": 1328.584242119106}, \"1483.9030932965454\": {\"frequency\": 1, \"value\": 1483.9030932965454}, \"1011.4271330469979\": {\"frequency\": 1, \"value\": 1011.4271330469979}, \"1868.3371801249705\": {\"frequency\": 2, \"value\": 1868.3371801249705}, \"1074.4133584771926\": {\"frequency\": 2, \"value\": 1074.4133584771926}, \"1300.0530078456554\": {\"frequency\": 1, \"value\": 1300.0530078456554}, \"69182.08627785234\": {\"frequency\": 2, \"value\": 69182.08627785234}, \"16812.105958882097\": {\"frequency\": 1, \"value\": 16812.105958882097}, \"1158.3996954471077\": {\"frequency\": 1, \"value\": 1158.3996954471077}, \"3662.0972480553023\": {\"frequency\": 2, \"value\": 3662.0972480553023}, \"1023.5523887956438\": {\"frequency\": 1, \"value\": 1023.5523887956438}, \"1014.1309049290876\": {\"frequency\": 2, \"value\": 1014.1309049290876}, \"2343.96038426679\": {\"frequency\": 1, \"value\": 2343.96038426679}, \"1026.9665985461813\": {\"frequency\": 2, \"value\": 1026.9665985461813}, \"34959.91596135817\": {\"frequency\": 2, \"value\": 34959.91596135817}, \"3643.037211489\": {\"frequency\": 2, \"value\": 3643.037211489}, \"2883.331669485858\": {\"frequency\": 2, \"value\": 2883.331669485858}, \"1553.5701342243344\": {\"frequency\": 2, \"value\": 1553.5701342243344}, \"3868.750639639825\": {\"frequency\": 1, \"value\": 3868.750639639825}, \"2417.7643153295667\": {\"frequency\": 2, \"value\": 2417.7643153295667}, \"24377.53733520827\": {\"frequency\": 2, \"value\": 24377.53733520827}, \"14671.240920084887\": {\"frequency\": 2, \"value\": 14671.240920084887}, \"6318.532591542245\": {\"frequency\": 2, \"value\": 6318.532591542245}, \"77298.9278490558\": {\"frequency\": 3, \"value\": 77298.9278490558}, \"5351.716213806492\": {\"frequency\": 2, \"value\": 5351.716213806492}, \"1208.775936730815\": {\"frequency\": 3, \"value\": 1208.775936730815}, \"19476.607106011787\": {\"frequency\": 2, \"value\": 19476.607106011787}, \"2336.7956172130525\": {\"frequency\": 1, \"value\": 2336.7956172130525}, \"2271.599342308508\": {\"frequency\": 2, \"value\": 2271.599342308508}, \"3765.6901652237793\": {\"frequency\": 2, \"value\": 3765.6901652237793}, \"1769.4290789139532\": {\"frequency\": 2, \"value\": 1769.4290789139532}, \"1137.6864064544873\": {\"frequency\": 2, \"value\": 1137.6864064544873}, \"1830.6429508112665\": {\"frequency\": 1, \"value\": 1830.6429508112665}, \"2582.630630242928\": {\"frequency\": 1, \"value\": 2582.630630242928}, \"2195.0036877567177\": {\"frequency\": 1, \"value\": 2195.0036877567177}, \"20627.4357688368\": {\"frequency\": 2, \"value\": 20627.4357688368}, \"1874.0985317320904\": {\"frequency\": 2, \"value\": 1874.0985317320904}, \"1269.7088874516355\": {\"frequency\": 1, \"value\": 1269.7088874516355}, \"2342.3123206594405\": {\"frequency\": 1, \"value\": 2342.3123206594405}, \"3763.167796260324\": {\"frequency\": 2, \"value\": 3763.167796260324}, \"3167.5340084520576\": {\"frequency\": 2, \"value\": 3167.5340084520576}, \"10393.401669972103\": {\"frequency\": 2, \"value\": 10393.401669972103}, \"3848.2488589910445\": {\"frequency\": 2, \"value\": 3848.2488589910445}, \"2889.345571750339\": {\"frequency\": 1, \"value\": 2889.345571750339}, \"1674.4457359502417\": {\"frequency\": 2, \"value\": 1674.4457359502417}, \"15267.749496722628\": {\"frequency\": 2, \"value\": 15267.749496722628}, \"1307.5302118236516\": {\"frequency\": 2, \"value\": 1307.5302118236516}, \"2830.747947462131\": {\"frequency\": 2, \"value\": 2830.747947462131}, \"1781.2489741511392\": {\"frequency\": 2, \"value\": 1781.2489741511392}, \"2366.5487308865854\": {\"frequency\": 1, \"value\": 2366.5487308865854}, \"6418.577949884503\": {\"frequency\": 1, \"value\": 6418.577949884503}, \"2990.753826193322\": {\"frequency\": 2, \"value\": 2990.753826193322}, \"3780.5477787777063\": {\"frequency\": 1, \"value\": 3780.5477787777063}, \"5438.390482970654\": {\"frequency\": 2, \"value\": 5438.390482970654}, \"4424.798742501671\": {\"frequency\": 2, \"value\": 4424.798742501671}, \"3697.642547213189\": {\"frequency\": 1, \"value\": 3697.642547213189}, \"1223.4731343487751\": {\"frequency\": 2, \"value\": 1223.4731343487751}, \"6379.683572153493\": {\"frequency\": 1, \"value\": 6379.683572153493}, \"1362.3417963140253\": {\"frequency\": 1, \"value\": 1362.3417963140253}, \"1109.7041017012673\": {\"frequency\": 2, \"value\": 1109.7041017012673}, \"2607.1464966345434\": {\"frequency\": 2, \"value\": 2607.1464966345434}, \"3764.302754274772\": {\"frequency\": 1, \"value\": 3764.302754274772}, \"17222.54717108909\": {\"frequency\": 2, \"value\": 17222.54717108909}, \"2163.5723093430756\": {\"frequency\": 2, \"value\": 2163.5723093430756}, \"380237.1310489882\": {\"frequency\": 3, \"value\": 380237.1310489882}, \"3989.521534976388\": {\"frequency\": 1, \"value\": 3989.521534976388}, \"2902.348699330846\": {\"frequency\": 2, \"value\": 2902.348699330846}, \"1692.6792870666732\": {\"frequency\": 1, \"value\": 1692.6792870666732}, \"5256.0157928100625\": {\"frequency\": 2, \"value\": 5256.0157928100625}, \"5781.377160029677\": {\"frequency\": 1, \"value\": 5781.377160029677}, \"7562.937715028415\": {\"frequency\": 2, \"value\": 7562.937715028415}, \"2431.8018901782043\": {\"frequency\": 1, \"value\": 2431.8018901782043}, \"2299.5069936231866\": {\"frequency\": 1, \"value\": 2299.5069936231866}, \"12654.617834066428\": {\"frequency\": 1, \"value\": 12654.617834066428}, \"3276.9523127482917\": {\"frequency\": 1, \"value\": 3276.9523127482917}, \"3681.624194931219\": {\"frequency\": 1, \"value\": 3681.624194931219}, \"2120.2319639437533\": {\"frequency\": 1, \"value\": 2120.2319639437533}, \"4066.5587692962176\": {\"frequency\": 2, \"value\": 4066.5587692962176}, \"3696.3722516863736\": {\"frequency\": 1, \"value\": 3696.3722516863736}, \"1024.061446492338\": {\"frequency\": 1, \"value\": 1024.061446492338}, \"24360.126519341266\": {\"frequency\": 1, \"value\": 24360.126519341266}, \"1764.033301310166\": {\"frequency\": 2, \"value\": 1764.033301310166}, \"1764.96055096106\": {\"frequency\": 2, \"value\": 1764.96055096106}, \"2614.287318357578\": {\"frequency\": 2, \"value\": 2614.287318357578}, \"1527.4971788436872\": {\"frequency\": 3, \"value\": 1527.4971788436872}, \"1172.2051874943206\": {\"frequency\": 2, \"value\": 1172.2051874943206}, \"6133.959446140849\": {\"frequency\": 2, \"value\": 6133.959446140849}, \"1044.9005073609912\": {\"frequency\": 1, \"value\": 1044.9005073609912}, \"3164.9383555686386\": {\"frequency\": 1, \"value\": 3164.9383555686386}, \"2595.4641175777397\": {\"frequency\": 1, \"value\": 2595.4641175777397}, \"1631.8424117267436\": {\"frequency\": 1, \"value\": 1631.8424117267436}, \"3334.016860025914\": {\"frequency\": 1, \"value\": 3334.016860025914}, \"1308.6334328136768\": {\"frequency\": 2, \"value\": 1308.6334328136768}, \"1231.521138151269\": {\"frequency\": 1, \"value\": 1231.521138151269}, \"2362.7239174811903\": {\"frequency\": 2, \"value\": 2362.7239174811903}, \"1351.0167446471062\": {\"frequency\": 1, \"value\": 1351.0167446471062}, \"1061.8985895870799\": {\"frequency\": 2, \"value\": 1061.8985895870799}, \"1092.165797884588\": {\"frequency\": 2, \"value\": 1092.165797884588}, \"34109.42697490804\": {\"frequency\": 1, \"value\": 34109.42697490804}, \"1005.5689292891121\": {\"frequency\": 1, \"value\": 1005.5689292891121}, \"7151.6237101335755\": {\"frequency\": 1, \"value\": 7151.6237101335755}, \"4071.766947455705\": {\"frequency\": 1, \"value\": 4071.766947455705}, \"3070.310895716097\": {\"frequency\": 1, \"value\": 3070.310895716097}, \"4332.96529287865\": {\"frequency\": 1, \"value\": 4332.96529287865}, \"1989.0665894583497\": {\"frequency\": 2, \"value\": 1989.0665894583497}, \"6310.274181595748\": {\"frequency\": 2, \"value\": 6310.274181595748}, \"1861.8224551873825\": {\"frequency\": 1, \"value\": 1861.8224551873825}, \"1834.2638643628832\": {\"frequency\": 1, \"value\": 1834.2638643628832}, \"1263.8112309459589\": {\"frequency\": 1, \"value\": 1263.8112309459589}, \"1357.7160981059965\": {\"frequency\": 2, \"value\": 1357.7160981059965}, \"1051.1584088361194\": {\"frequency\": 2, \"value\": 1051.1584088361194}, \"1343.2282333656112\": {\"frequency\": 2, \"value\": 1343.2282333656112}, \"9742.907943303804\": {\"frequency\": 2, \"value\": 9742.907943303804}, \"2116.7095445985806\": {\"frequency\": 1, \"value\": 2116.7095445985806}, \"1266.4025601593737\": {\"frequency\": 2, \"value\": 1266.4025601593737}, \"1917.8342103688826\": {\"frequency\": 1, \"value\": 1917.8342103688826}, \"4935.586845212491\": {\"frequency\": 1, \"value\": 4935.586845212491}, \"1438.1432942290444\": {\"frequency\": 2, \"value\": 1438.1432942290444}, \"3397.467261258195\": {\"frequency\": 2, \"value\": 3397.467261258195}, \"1001.3980673353059\": {\"frequency\": 3, \"value\": 1001.3980673353059}, \"4231.3603437478405\": {\"frequency\": 2, \"value\": 4231.3603437478405}, \"3466.084554676131\": {\"frequency\": 1, \"value\": 3466.084554676131}, \"1319.5930242296902\": {\"frequency\": 2, \"value\": 1319.5930242296902}, \"1884.600837598265\": {\"frequency\": 2, \"value\": 1884.600837598265}, \"1032.6588172733532\": {\"frequency\": 3, \"value\": 1032.6588172733532}, \"3658.3267008670614\": {\"frequency\": 1, \"value\": 3658.3267008670614}, \"1993.2380647268064\": {\"frequency\": 2, \"value\": 1993.2380647268064}, \"2504.010319829828\": {\"frequency\": 1, \"value\": 2504.010319829828}, \"3017.4976281706795\": {\"frequency\": 1, \"value\": 3017.4976281706795}, \"1148.472785312874\": {\"frequency\": 2, \"value\": 1148.472785312874}, \"2533.576755690913\": {\"frequency\": 2, \"value\": 2533.576755690913}, \"5917.655460129918\": {\"frequency\": 2, \"value\": 5917.655460129918}, \"2763.3794895287715\": {\"frequency\": 2, \"value\": 2763.3794895287715}, \"51281.24896534793\": {\"frequency\": 2, \"value\": 51281.24896534793}, \"1566.7039148452754\": {\"frequency\": 1, \"value\": 1566.7039148452754}, \"2102.478145150654\": {\"frequency\": 1, \"value\": 2102.478145150654}, \"20740.527662750257\": {\"frequency\": 2, \"value\": 20740.527662750257}, \"3556.258437830094\": {\"frequency\": 2, \"value\": 3556.258437830094}, \"12821.16656534131\": {\"frequency\": 1, \"value\": 12821.16656534131}, \"2626.2574735132494\": {\"frequency\": 2, \"value\": 2626.2574735132494}, \"4442.071609767953\": {\"frequency\": 1, \"value\": 4442.071609767953}, \"5078.364593717292\": {\"frequency\": 2, \"value\": 5078.364593717292}, \"1333.6917369113642\": {\"frequency\": 1, \"value\": 1333.6917369113642}, \"5101.325586605742\": {\"frequency\": 2, \"value\": 5101.325586605742}, \"1849.6312068337772\": {\"frequency\": 2, \"value\": 1849.6312068337772}, \"17618.779013662017\": {\"frequency\": 1, \"value\": 17618.779013662017}, \"1003.3805487846035\": {\"frequency\": 1, \"value\": 1003.3805487846035}, \"3067.964579975229\": {\"frequency\": 1, \"value\": 3067.964579975229}, \"1118.4751877223011\": {\"frequency\": 1, \"value\": 1118.4751877223011}, \"6356.069813761598\": {\"frequency\": 1, \"value\": 6356.069813761598}, \"21090.349796672086\": {\"frequency\": 1, \"value\": 21090.349796672086}, \"14673.02460461946\": {\"frequency\": 1, \"value\": 14673.02460461946}, \"1598.8607395404763\": {\"frequency\": 2, \"value\": 1598.8607395404763}, \"1133.6576166698908\": {\"frequency\": 3, \"value\": 1133.6576166698908}, \"1039.2943386382087\": {\"frequency\": 1, \"value\": 1039.2943386382087}, \"2059.8611400254604\": {\"frequency\": 1, \"value\": 2059.8611400254604}, \"3169.303524321235\": {\"frequency\": 2, \"value\": 3169.303524321235}, \"2188.0750115114965\": {\"frequency\": 2, \"value\": 2188.0750115114965}, \"1316.086335410492\": {\"frequency\": 1, \"value\": 1316.086335410492}, \"2726.1414327446123\": {\"frequency\": 1, \"value\": 2726.1414327446123}, \"1216.7513813601802\": {\"frequency\": 1, \"value\": 1216.7513813601802}, \"1662.673258900708\": {\"frequency\": 2, \"value\": 1662.673258900708}, \"5342.155938915999\": {\"frequency\": 1, \"value\": 5342.155938915999}, \"1135.3002174086862\": {\"frequency\": 1, \"value\": 1135.3002174086862}, \"2020.7743403522659\": {\"frequency\": 2, \"value\": 2020.7743403522659}, \"1248.1879181028714\": {\"frequency\": 2, \"value\": 1248.1879181028714}, \"4097.925508963521\": {\"frequency\": 1, \"value\": 4097.925508963521}, \"4073.7811177994754\": {\"frequency\": 2, \"value\": 4073.7811177994754}, \"1042.1884125861366\": {\"frequency\": 2, \"value\": 1042.1884125861366}, \"1133.8856838419993\": {\"frequency\": 3, \"value\": 1133.8856838419993}, \"1712.5863713793885\": {\"frequency\": 2, \"value\": 1712.5863713793885}, \"1799.543611001886\": {\"frequency\": 1, \"value\": 1799.543611001886}, \"5051.490034316544\": {\"frequency\": 1, \"value\": 5051.490034316544}, \"4197.199021477527\": {\"frequency\": 1, \"value\": 4197.199021477527}, \"1002.4587168209233\": {\"frequency\": 3, \"value\": 1002.4587168209233}, \"1088.7890198466057\": {\"frequency\": 3, \"value\": 1088.7890198466057}, \"1281.3881428369807\": {\"frequency\": 1, \"value\": 1281.3881428369807}, \"3064.4657402084736\": {\"frequency\": 2, \"value\": 3064.4657402084736}, \"1445.908652615002\": {\"frequency\": 1, \"value\": 1445.908652615002}, \"1255.6210560863974\": {\"frequency\": 2, \"value\": 1255.6210560863974}, \"2431.869074997344\": {\"frequency\": 1, \"value\": 2431.869074997344}, \"3995.588820234571\": {\"frequency\": 1, \"value\": 3995.588820234571}, \"7980.449151878083\": {\"frequency\": 1, \"value\": 7980.449151878083}, \"2376.9794878637963\": {\"frequency\": 1, \"value\": 2376.9794878637963}, \"2079.63278278506\": {\"frequency\": 2, \"value\": 2079.63278278506}, \"6685.994129516162\": {\"frequency\": 2, \"value\": 6685.994129516162}, \"3332.990232386196\": {\"frequency\": 2, \"value\": 3332.990232386196}, \"139144.68757212235\": {\"frequency\": 3, \"value\": 139144.68757212235}, \"2354.2246223511092\": {\"frequency\": 2, \"value\": 2354.2246223511092}, \"11231.257871733895\": {\"frequency\": 2, \"value\": 11231.257871733895}, \"8034.662167084826\": {\"frequency\": 2, \"value\": 8034.662167084826}, \"3352.7021911090146\": {\"frequency\": 1, \"value\": 3352.7021911090146}, \"1013.0101751853616\": {\"frequency\": 2, \"value\": 1013.0101751853616}, \"3187.836926778086\": {\"frequency\": 2, \"value\": 3187.836926778086}, \"1638.8149777493707\": {\"frequency\": 2, \"value\": 1638.8149777493707}, \"1497.2344181816889\": {\"frequency\": 2, \"value\": 1497.2344181816889}, \"4290.459169368515\": {\"frequency\": 2, \"value\": 4290.459169368515}, \"4109.486516284461\": {\"frequency\": 2, \"value\": 4109.486516284461}, \"1613.8770053181943\": {\"frequency\": 2, \"value\": 1613.8770053181943}, \"2334.5743444173677\": {\"frequency\": 1, \"value\": 2334.5743444173677}, \"2531.8790376175093\": {\"frequency\": 1, \"value\": 2531.8790376175093}, \"2095.264019245113\": {\"frequency\": 1, \"value\": 2095.264019245113}, \"1389.7954774731459\": {\"frequency\": 1, \"value\": 1389.7954774731459}, \"2006.8755637551592\": {\"frequency\": 2, \"value\": 2006.8755637551592}, \"1100.911700939307\": {\"frequency\": 1, \"value\": 1100.911700939307}, \"1225.796955637562\": {\"frequency\": 2, \"value\": 1225.796955637562}, \"2775.765801424279\": {\"frequency\": 2, \"value\": 2775.765801424279}, \"6148.418335746797\": {\"frequency\": 1, \"value\": 6148.418335746797}, \"2481.7609300813388\": {\"frequency\": 1, \"value\": 2481.7609300813388}, \"1557.7320291938543\": {\"frequency\": 1, \"value\": 1557.7320291938543}, \"23291.806321139844\": {\"frequency\": 2, \"value\": 23291.806321139844}, \"6718.465260028524\": {\"frequency\": 1, \"value\": 6718.465260028524}, \"1623.8043055292958\": {\"frequency\": 2, \"value\": 1623.8043055292958}, \"3620.237016248534\": {\"frequency\": 2, \"value\": 3620.237016248534}, \"4567.1667438640925\": {\"frequency\": 2, \"value\": 4567.1667438640925}, \"2086.974837676905\": {\"frequency\": 1, \"value\": 2086.974837676905}, \"1684.490352702831\": {\"frequency\": 1, \"value\": 1684.490352702831}, \"2206.8000670373517\": {\"frequency\": 1, \"value\": 2206.8000670373517}, \"12159.102646929638\": {\"frequency\": 2, \"value\": 12159.102646929638}, \"1752.8829490343314\": {\"frequency\": 2, \"value\": 1752.8829490343314}, \"2612.4924650705198\": {\"frequency\": 1, \"value\": 2612.4924650705198}, \"1296.0602049148677\": {\"frequency\": 1, \"value\": 1296.0602049148677}, \"4235.090438463047\": {\"frequency\": 1, \"value\": 4235.090438463047}, \"9858.923085681206\": {\"frequency\": 1, \"value\": 9858.923085681206}, \"1558.267730747164\": {\"frequency\": 2, \"value\": 1558.267730747164}, \"1653.2745730272477\": {\"frequency\": 2, \"value\": 1653.2745730272477}, \"1263.5221327791494\": {\"frequency\": 1, \"value\": 1263.5221327791494}, \"1323.8566106040003\": {\"frequency\": 1, \"value\": 1323.8566106040003}, \"1004.4637110996274\": {\"frequency\": 2, \"value\": 1004.4637110996274}, \"25397.682530950337\": {\"frequency\": 1, \"value\": 25397.682530950337}, \"2910.3343431822495\": {\"frequency\": 1, \"value\": 2910.3343431822495}, \"1532.8585800948981\": {\"frequency\": 1, \"value\": 1532.8585800948981}, \"1235.7814327927927\": {\"frequency\": 1, \"value\": 1235.7814327927927}, \"3567.964255521391\": {\"frequency\": 1, \"value\": 3567.964255521391}, \"1802.613965462692\": {\"frequency\": 2, \"value\": 1802.613965462692}, \"2029.9396532560786\": {\"frequency\": 2, \"value\": 2029.9396532560786}, \"1932.4919007901347\": {\"frequency\": 2, \"value\": 1932.4919007901347}, \"10946.13834974944\": {\"frequency\": 2, \"value\": 10946.13834974944}, \"1170.8835076593102\": {\"frequency\": 1, \"value\": 1170.8835076593102}, \"1371.1525552039811\": {\"frequency\": 3, \"value\": 1371.1525552039811}, \"5243.373901944612\": {\"frequency\": 1, \"value\": 5243.373901944612}, \"1018.2527966727422\": {\"frequency\": 3, \"value\": 1018.2527966727422}, \"1187.8205372316306\": {\"frequency\": 2, \"value\": 1187.8205372316306}, \"1947.3713203811885\": {\"frequency\": 1, \"value\": 1947.3713203811885}, \"1707.6160640731691\": {\"frequency\": 1, \"value\": 1707.6160640731691}, \"1101.2375481167833\": {\"frequency\": 1, \"value\": 1101.2375481167833}, \"3329.06291005117\": {\"frequency\": 2, \"value\": 3329.06291005117}, \"1793.5691002800174\": {\"frequency\": 2, \"value\": 1793.5691002800174}, \"1444.9416590325263\": {\"frequency\": 1, \"value\": 1444.9416590325263}, \"1014.626811715752\": {\"frequency\": 1, \"value\": 1014.626811715752}, \"2052.9375870985923\": {\"frequency\": 2, \"value\": 2052.9375870985923}, \"1326.3860058382338\": {\"frequency\": 3, \"value\": 1326.3860058382338}, \"1784.2317113293743\": {\"frequency\": 1, \"value\": 1784.2317113293743}, \"1636.5486129913809\": {\"frequency\": 1, \"value\": 1636.5486129913809}, \"4838.18861523546\": {\"frequency\": 1, \"value\": 4838.18861523546}, \"1162.2532105988535\": {\"frequency\": 1, \"value\": 1162.2532105988535}, \"2129.969319590369\": {\"frequency\": 2, \"value\": 2129.969319590369}, \"1683.264446913339\": {\"frequency\": 1, \"value\": 1683.264446913339}, \"14989.03361671845\": {\"frequency\": 1, \"value\": 14989.03361671845}, \"2448.3747762931494\": {\"frequency\": 1, \"value\": 2448.3747762931494}, \"1549.1467923735563\": {\"frequency\": 1, \"value\": 1549.1467923735563}, \"4805.350884890243\": {\"frequency\": 1, \"value\": 4805.350884890243}, \"1064.8352838567348\": {\"frequency\": 2, \"value\": 1064.8352838567348}, \"1008.2970389087718\": {\"frequency\": 2, \"value\": 1008.2970389087718}, \"14571.115928664613\": {\"frequency\": 2, \"value\": 14571.115928664613}, \"1741.9102119800896\": {\"frequency\": 1, \"value\": 1741.9102119800896}, \"12783.876750924936\": {\"frequency\": 2, \"value\": 12783.876750924936}, \"6363.724014021633\": {\"frequency\": 1, \"value\": 6363.724014021633}, \"2946.483113519661\": {\"frequency\": 2, \"value\": 2946.483113519661}, \"1260.6209589957718\": {\"frequency\": 2, \"value\": 1260.6209589957718}, \"1017.2377267985311\": {\"frequency\": 2, \"value\": 1017.2377267985311}, \"1586.9827798856586\": {\"frequency\": 2, \"value\": 1586.9827798856586}, \"995.6119962367313\": {\"frequency\": 1, \"value\": 995.6119962367313}, \"41148.402171821646\": {\"frequency\": 1, \"value\": 41148.402171821646}, \"7543.413555645021\": {\"frequency\": 1, \"value\": 7543.413555645021}, \"2026.632199001991\": {\"frequency\": 1, \"value\": 2026.632199001991}, \"2292.36303233829\": {\"frequency\": 1, \"value\": 2292.36303233829}, \"2110.454830393742\": {\"frequency\": 1, \"value\": 2110.454830393742}, \"1352.499885326369\": {\"frequency\": 1, \"value\": 1352.499885326369}, \"28105.959180466343\": {\"frequency\": 2, \"value\": 28105.959180466343}, \"7149.095283503575\": {\"frequency\": 2, \"value\": 7149.095283503575}, \"5080.255477845205\": {\"frequency\": 1, \"value\": 5080.255477845205}, \"1490.168364244858\": {\"frequency\": 1, \"value\": 1490.168364244858}, \"2275.640455927622\": {\"frequency\": 2, \"value\": 2275.640455927622}, \"1775.877846143019\": {\"frequency\": 1, \"value\": 1775.877846143019}, \"2296.161947285065\": {\"frequency\": 2, \"value\": 2296.161947285065}, \"37682.3725430893\": {\"frequency\": 1, \"value\": 37682.3725430893}, \"1012.6762324506839\": {\"frequency\": 1, \"value\": 1012.6762324506839}, \"15392.212792038767\": {\"frequency\": 2, \"value\": 15392.212792038767}, \"1849.6019851017672\": {\"frequency\": 2, \"value\": 1849.6019851017672}, \"1326.0033551956399\": {\"frequency\": 2, \"value\": 1326.0033551956399}, \"58369.37309083748\": {\"frequency\": 1, \"value\": 58369.37309083748}, \"8805.370656207826\": {\"frequency\": 1, \"value\": 8805.370656207826}, \"1915.8256322462535\": {\"frequency\": 1, \"value\": 1915.8256322462535}, \"47808.84226173197\": {\"frequency\": 2, \"value\": 47808.84226173197}, \"1512.5385287328404\": {\"frequency\": 2, \"value\": 1512.5385287328404}, \"1187.8905869276434\": {\"frequency\": 1, \"value\": 1187.8905869276434}, \"4079.344657235337\": {\"frequency\": 1, \"value\": 4079.344657235337}, \"3758.923779822538\": {\"frequency\": 2, \"value\": 3758.923779822538}, \"5259.4163276546105\": {\"frequency\": 1, \"value\": 5259.4163276546105}, \"15713.812330066905\": {\"frequency\": 2, \"value\": 15713.812330066905}, \"3392.903282984709\": {\"frequency\": 1, \"value\": 3392.903282984709}, \"1303.5502759145488\": {\"frequency\": 2, \"value\": 1303.5502759145488}, \"6289.488253631232\": {\"frequency\": 1, \"value\": 6289.488253631232}, \"3901.417970556741\": {\"frequency\": 1, \"value\": 3901.417970556741}, \"2646.8603607562272\": {\"frequency\": 2, \"value\": 2646.8603607562272}, \"1359.3154390636298\": {\"frequency\": 2, \"value\": 1359.3154390636298}, \"1318.6328297871198\": {\"frequency\": 2, \"value\": 1318.6328297871198}, \"1348.6255139424293\": {\"frequency\": 2, \"value\": 1348.6255139424293}, \"1753.5654626984322\": {\"frequency\": 1, \"value\": 1753.5654626984322}, \"4571.024439785105\": {\"frequency\": 1, \"value\": 4571.024439785105}, \"1433.234900801378\": {\"frequency\": 1, \"value\": 1433.234900801378}, \"1259.7187919455694\": {\"frequency\": 2, \"value\": 1259.7187919455694}, \"1114.7861804959418\": {\"frequency\": 2, \"value\": 1114.7861804959418}, \"1053.4097160863707\": {\"frequency\": 1, \"value\": 1053.4097160863707}, \"4407.492395706949\": {\"frequency\": 1, \"value\": 4407.492395706949}, \"1159.2183148522759\": {\"frequency\": 1, \"value\": 1159.2183148522759}, \"3602.5020645808195\": {\"frequency\": 2, \"value\": 3602.5020645808195}, \"9076.78564556862\": {\"frequency\": 1, \"value\": 9076.78564556862}, \"1440.2402996586081\": {\"frequency\": 1, \"value\": 1440.2402996586081}, \"3881.3819682059975\": {\"frequency\": 2, \"value\": 3881.3819682059975}, \"1257.8433303442448\": {\"frequency\": 1, \"value\": 1257.8433303442448}, \"3496.2257303926153\": {\"frequency\": 2, \"value\": 3496.2257303926153}, \"2483.0509318945265\": {\"frequency\": 1, \"value\": 2483.0509318945265}, \"1224.0894411744734\": {\"frequency\": 1, \"value\": 1224.0894411744734}, \"1448.1275282597453\": {\"frequency\": 1, \"value\": 1448.1275282597453}, \"1384.2901344301288\": {\"frequency\": 1, \"value\": 1384.2901344301288}, \"3106.7775430940205\": {\"frequency\": 2, \"value\": 3106.7775430940205}, \"7977.986753227622\": {\"frequency\": 3, \"value\": 7977.986753227622}, \"1048.5587072177616\": {\"frequency\": 1, \"value\": 1048.5587072177616}, \"1802.5562817307878\": {\"frequency\": 1, \"value\": 1802.5562817307878}, \"3504.911396231335\": {\"frequency\": 1, \"value\": 3504.911396231335}, \"1126.1671254980536\": {\"frequency\": 2, \"value\": 1126.1671254980536}, \"1296.0846068505907\": {\"frequency\": 1, \"value\": 1296.0846068505907}, \"1109.5123418743742\": {\"frequency\": 1, \"value\": 1109.5123418743742}, \"7117.412692362212\": {\"frequency\": 1, \"value\": 7117.412692362212}, \"9351.223826666734\": {\"frequency\": 2, \"value\": 9351.223826666734}, \"1456.8131394708407\": {\"frequency\": 2, \"value\": 1456.8131394708407}, \"1045.666661605621\": {\"frequency\": 2, \"value\": 1045.666661605621}, \"1211.0030886499515\": {\"frequency\": 1, \"value\": 1211.0030886499515}, \"1157.0743823084151\": {\"frequency\": 1, \"value\": 1157.0743823084151}, \"1128.884936033268\": {\"frequency\": 2, \"value\": 1128.884936033268}, \"2561.871453521057\": {\"frequency\": 2, \"value\": 2561.871453521057}, \"4023.6903293428904\": {\"frequency\": 1, \"value\": 4023.6903293428904}, \"8029.219522773584\": {\"frequency\": 2, \"value\": 8029.219522773584}, \"2020.453401802323\": {\"frequency\": 1, \"value\": 2020.453401802323}, \"1342.6071302454752\": {\"frequency\": 2, \"value\": 1342.6071302454752}, \"13217.321894974162\": {\"frequency\": 1, \"value\": 13217.321894974162}, \"13984.57971828594\": {\"frequency\": 1, \"value\": 13984.57971828594}, \"1842.8434669124413\": {\"frequency\": 2, \"value\": 1842.8434669124413}, \"998.7007878305011\": {\"frequency\": 2, \"value\": 998.7007878305011}, \"1104.521205013009\": {\"frequency\": 1, \"value\": 1104.521205013009}, \"2089.0883110662303\": {\"frequency\": 2, \"value\": 2089.0883110662303}, \"1231.830294615582\": {\"frequency\": 2, \"value\": 1231.830294615582}, \"2561.509232332921\": {\"frequency\": 1, \"value\": 2561.509232332921}, \"1387.9128204962926\": {\"frequency\": 2, \"value\": 1387.9128204962926}, \"2322.762166079385\": {\"frequency\": 1, \"value\": 2322.762166079385}, \"1426.6950530963345\": {\"frequency\": 1, \"value\": 1426.6950530963345}, \"2902.734842445529\": {\"frequency\": 2, \"value\": 2902.734842445529}, \"7794.956022757247\": {\"frequency\": 2, \"value\": 7794.956022757247}, \"15253.91598237599\": {\"frequency\": 2, \"value\": 15253.91598237599}, \"1210.5197739153002\": {\"frequency\": 2, \"value\": 1210.5197739153002}, \"1849.295171078282\": {\"frequency\": 1, \"value\": 1849.295171078282}, \"3127.548424363199\": {\"frequency\": 1, \"value\": 3127.548424363199}, \"2886.337817666619\": {\"frequency\": 2, \"value\": 2886.337817666619}, \"4856.090347884419\": {\"frequency\": 2, \"value\": 4856.090347884419}, \"1981.6296649513488\": {\"frequency\": 2, \"value\": 1981.6296649513488}, \"19825.394961804162\": {\"frequency\": 2, \"value\": 19825.394961804162}, \"10433.921585499551\": {\"frequency\": 1, \"value\": 10433.921585499551}, \"1052.9592601914321\": {\"frequency\": 1, \"value\": 1052.9592601914321}, \"2660.154850664217\": {\"frequency\": 1, \"value\": 2660.154850664217}, \"2652.4058324918688\": {\"frequency\": 1, \"value\": 2652.4058324918688}, \"1189.058389120451\": {\"frequency\": 2, \"value\": 1189.058389120451}, \"3427.6206860126376\": {\"frequency\": 1, \"value\": 3427.6206860126376}, \"2765.1369763676566\": {\"frequency\": 1, \"value\": 2765.1369763676566}, \"20056.582776553154\": {\"frequency\": 1, \"value\": 20056.582776553154}, \"1212.1233389129068\": {\"frequency\": 1, \"value\": 1212.1233389129068}, \"2827.064071773968\": {\"frequency\": 1, \"value\": 2827.064071773968}, \"1033.4421946626453\": {\"frequency\": 2, \"value\": 1033.4421946626453}, \"1521.5100612515305\": {\"frequency\": 1, \"value\": 1521.5100612515305}, \"3023.6158504394402\": {\"frequency\": 1, \"value\": 3023.6158504394402}, \"19258.551956264648\": {\"frequency\": 2, \"value\": 19258.551956264648}, \"1171.4978791590352\": {\"frequency\": 2, \"value\": 1171.4978791590352}, \"4698.548174293258\": {\"frequency\": 1, \"value\": 4698.548174293258}, \"1786.8723991032155\": {\"frequency\": 2, \"value\": 1786.8723991032155}, \"383718.3354002835\": {\"frequency\": 3, \"value\": 383718.3354002835}, \"3423.2360315019123\": {\"frequency\": 2, \"value\": 3423.2360315019123}, \"2605.388949587381\": {\"frequency\": 1, \"value\": 2605.388949587381}, \"2371.122777978384\": {\"frequency\": 2, \"value\": 2371.122777978384}, \"1348.2894190055133\": {\"frequency\": 2, \"value\": 1348.2894190055133}, \"1754.2054417689035\": {\"frequency\": 2, \"value\": 1754.2054417689035}, \"1329.5975322734153\": {\"frequency\": 2, \"value\": 1329.5975322734153}, \"1717.2825924267388\": {\"frequency\": 2, \"value\": 1717.2825924267388}, \"2320.3181254163355\": {\"frequency\": 1, \"value\": 2320.3181254163355}, \"2333.6696904403834\": {\"frequency\": 1, \"value\": 2333.6696904403834}, \"48041.82466499066\": {\"frequency\": 1, \"value\": 48041.82466499066}, \"21852.451443288344\": {\"frequency\": 2, \"value\": 21852.451443288344}, \"4329.235914351401\": {\"frequency\": 2, \"value\": 4329.235914351401}, \"4575.814055863132\": {\"frequency\": 2, \"value\": 4575.814055863132}, \"1651.7567369385379\": {\"frequency\": 2, \"value\": 1651.7567369385379}, \"19316.03749954986\": {\"frequency\": 1, \"value\": 19316.03749954986}, \"1019.9709391606111\": {\"frequency\": 2, \"value\": 1019.9709391606111}, \"10059.682845279674\": {\"frequency\": 2, \"value\": 10059.682845279674}, \"1095.6375171341247\": {\"frequency\": 2, \"value\": 1095.6375171341247}, \"3355.0193520999974\": {\"frequency\": 2, \"value\": 3355.0193520999974}, \"1810.756758011261\": {\"frequency\": 2, \"value\": 1810.756758011261}, \"4890.215443491383\": {\"frequency\": 2, \"value\": 4890.215443491383}, \"2407.4764127006483\": {\"frequency\": 1, \"value\": 2407.4764127006483}, \"1415.038014037602\": {\"frequency\": 1, \"value\": 1415.038014037602}, \"2343.6307242254406\": {\"frequency\": 2, \"value\": 2343.6307242254406}, \"1007.8241859991892\": {\"frequency\": 2, \"value\": 1007.8241859991892}, \"5450.435290873639\": {\"frequency\": 1, \"value\": 5450.435290873639}, \"2823.6727258449414\": {\"frequency\": 2, \"value\": 2823.6727258449414}, \"15269.57373655294\": {\"frequency\": 1, \"value\": 15269.57373655294}, \"1305.1537580584616\": {\"frequency\": 1, \"value\": 1305.1537580584616}, \"1455.2602084860666\": {\"frequency\": 1, \"value\": 1455.2602084860666}, \"1301.6176313399167\": {\"frequency\": 2, \"value\": 1301.6176313399167}, \"1715.0883355382723\": {\"frequency\": 2, \"value\": 1715.0883355382723}, \"1282.6015202887988\": {\"frequency\": 1, \"value\": 1282.6015202887988}, \"1325.904615708381\": {\"frequency\": 2, \"value\": 1325.904615708381}, \"17224.11970166044\": {\"frequency\": 1, \"value\": 17224.11970166044}, \"3112.073177734795\": {\"frequency\": 1, \"value\": 3112.073177734795}, \"3237.5438969786524\": {\"frequency\": 2, \"value\": 3237.5438969786524}, \"15125.218561364421\": {\"frequency\": 2, \"value\": 15125.218561364421}, \"2758.9345280489983\": {\"frequency\": 2, \"value\": 2758.9345280489983}, \"1059.4067194690517\": {\"frequency\": 1, \"value\": 1059.4067194690517}, \"26417.47631503482\": {\"frequency\": 1, \"value\": 26417.47631503482}, \"1443.717270730822\": {\"frequency\": 2, \"value\": 1443.717270730822}, \"33897.46841563395\": {\"frequency\": 2, \"value\": 33897.46841563395}, \"1808.690420707746\": {\"frequency\": 2, \"value\": 1808.690420707746}, \"2475.8076016731407\": {\"frequency\": 2, \"value\": 2475.8076016731407}, \"1258.5043895612828\": {\"frequency\": 2, \"value\": 1258.5043895612828}, \"5406.373038078868\": {\"frequency\": 1, \"value\": 5406.373038078868}, \"1496.289549844006\": {\"frequency\": 2, \"value\": 1496.289549844006}, \"1670.697269000983\": {\"frequency\": 2, \"value\": 1670.697269000983}, \"1884.423833900281\": {\"frequency\": 1, \"value\": 1884.423833900281}, \"2215.48831084394\": {\"frequency\": 2, \"value\": 2215.48831084394}, \"2537.025427110928\": {\"frequency\": 2, \"value\": 2537.025427110928}, \"1317.9682868768775\": {\"frequency\": 1, \"value\": 1317.9682868768775}, \"1773.6601857136989\": {\"frequency\": 1, \"value\": 1773.6601857136989}, \"2720.855530566664\": {\"frequency\": 2, \"value\": 2720.855530566664}, \"1123.2256178251719\": {\"frequency\": 1, \"value\": 1123.2256178251719}, \"5240.028715256327\": {\"frequency\": 2, \"value\": 5240.028715256327}, \"1018.5444537144722\": {\"frequency\": 3, \"value\": 1018.5444537144722}, \"2368.918054869563\": {\"frequency\": 1, \"value\": 2368.918054869563}, \"1154.5986784360312\": {\"frequency\": 2, \"value\": 1154.5986784360312}, \"7797.726753722427\": {\"frequency\": 1, \"value\": 7797.726753722427}, \"6715.677945665865\": {\"frequency\": 2, \"value\": 6715.677945665865}, \"1922.7783764881706\": {\"frequency\": 1, \"value\": 1922.7783764881706}, \"16810.790056988193\": {\"frequency\": 2, \"value\": 16810.790056988193}, \"6321.920186492686\": {\"frequency\": 1, \"value\": 6321.920186492686}, \"2036.7622738620478\": {\"frequency\": 1, \"value\": 2036.7622738620478}, \"5447.072545214746\": {\"frequency\": 2, \"value\": 5447.072545214746}, \"1315.9756747405463\": {\"frequency\": 1, \"value\": 1315.9756747405463}, \"1800.9126894915846\": {\"frequency\": 2, \"value\": 1800.9126894915846}, \"1875.599137038596\": {\"frequency\": 1, \"value\": 1875.599137038596}, \"1848.3018555090812\": {\"frequency\": 1, \"value\": 1848.3018555090812}, \"4320.7211025157785\": {\"frequency\": 1, \"value\": 4320.7211025157785}, \"1512.7364312847062\": {\"frequency\": 2, \"value\": 1512.7364312847062}, \"1395.6285226092693\": {\"frequency\": 1, \"value\": 1395.6285226092693}, \"4220.068783699261\": {\"frequency\": 2, \"value\": 4220.068783699261}, \"2344.1252231601275\": {\"frequency\": 2, \"value\": 2344.1252231601275}, \"2657.7111681157976\": {\"frequency\": 2, \"value\": 2657.7111681157976}, \"1181.163690886218\": {\"frequency\": 1, \"value\": 1181.163690886218}, \"2336.071528417697\": {\"frequency\": 2, \"value\": 2336.071528417697}, \"10948.57912650082\": {\"frequency\": 1, \"value\": 10948.57912650082}, \"1646.6427043374647\": {\"frequency\": 1, \"value\": 1646.6427043374647}, \"2202.9016234358255\": {\"frequency\": 1, \"value\": 2202.9016234358255}, \"2190.9406960385327\": {\"frequency\": 2, \"value\": 2190.9406960385327}, \"34961.37884156224\": {\"frequency\": 1, \"value\": 34961.37884156224}, \"1528.5846141116547\": {\"frequency\": 1, \"value\": 1528.5846141116547}, \"3563.590128843197\": {\"frequency\": 2, \"value\": 3563.590128843197}, \"1328.2877433144188\": {\"frequency\": 2, \"value\": 1328.2877433144188}, \"1286.6705658744997\": {\"frequency\": 2, \"value\": 1286.6705658744997}, \"998.5938286245807\": {\"frequency\": 1, \"value\": 998.5938286245807}, \"1229.7026657168758\": {\"frequency\": 3, \"value\": 1229.7026657168758}, \"1231.0455894042082\": {\"frequency\": 2, \"value\": 1231.0455894042082}, \"1876.820668279336\": {\"frequency\": 2, \"value\": 1876.820668279336}, \"1639.8869039239212\": {\"frequency\": 2, \"value\": 1639.8869039239212}, \"7725.582792106183\": {\"frequency\": 2, \"value\": 7725.582792106183}, \"3991.3412196048635\": {\"frequency\": 2, \"value\": 3991.3412196048635}, \"3172.112711514115\": {\"frequency\": 1, \"value\": 3172.112711514115}, \"1202.3418321392994\": {\"frequency\": 3, \"value\": 1202.3418321392994}, \"1793.597868905013\": {\"frequency\": 1, \"value\": 1793.597868905013}, \"2277.1020006652534\": {\"frequency\": 2, \"value\": 2277.1020006652534}, \"5995.444238033687\": {\"frequency\": 2, \"value\": 5995.444238033687}, \"2426.144972933239\": {\"frequency\": 2, \"value\": 2426.144972933239}, \"1085.6071662584607\": {\"frequency\": 2, \"value\": 1085.6071662584607}, \"1648.502674723339\": {\"frequency\": 2, \"value\": 1648.502674723339}, \"24016.261594094587\": {\"frequency\": 1, \"value\": 24016.261594094587}, \"2194.4457950903734\": {\"frequency\": 1, \"value\": 2194.4457950903734}, \"1894.5856926039648\": {\"frequency\": 2, \"value\": 1894.5856926039648}, \"1036.5896004874446\": {\"frequency\": 1, \"value\": 1036.5896004874446}, \"2126.7680683338494\": {\"frequency\": 1, \"value\": 2126.7680683338494}, \"1540.399176213775\": {\"frequency\": 2, \"value\": 1540.399176213775}, \"1344.8562127098332\": {\"frequency\": 2, \"value\": 1344.8562127098332}, \"1038.8469389808997\": {\"frequency\": 2, \"value\": 1038.8469389808997}, \"1064.603290759668\": {\"frequency\": 2, \"value\": 1064.603290759668}, \"1082.140401532966\": {\"frequency\": 2, \"value\": 1082.140401532966}, \"1690.4870869522422\": {\"frequency\": 2, \"value\": 1690.4870869522422}, \"20086.57475096417\": {\"frequency\": 2, \"value\": 20086.57475096417}, \"1495.4368032232906\": {\"frequency\": 1, \"value\": 1495.4368032232906}, \"5365.454249984874\": {\"frequency\": 1, \"value\": 5365.454249984874}, \"1776.5505760452722\": {\"frequency\": 2, \"value\": 1776.5505760452722}, \"5284.405444175739\": {\"frequency\": 2, \"value\": 5284.405444175739}, \"1809.7595645197441\": {\"frequency\": 2, \"value\": 1809.7595645197441}, \"9954.146884841264\": {\"frequency\": 1, \"value\": 9954.146884841264}, \"1854.9973657469336\": {\"frequency\": 2, \"value\": 1854.9973657469336}, \"2199.2779470924042\": {\"frequency\": 2, \"value\": 2199.2779470924042}, \"1499.9920100556717\": {\"frequency\": 3, \"value\": 1499.9920100556717}, \"3438.4244535292764\": {\"frequency\": 2, \"value\": 3438.4244535292764}, \"12176.936130463217\": {\"frequency\": 1, \"value\": 12176.936130463217}, \"1081.7840101968761\": {\"frequency\": 1, \"value\": 1081.7840101968761}, \"1311.4549132746804\": {\"frequency\": 1, \"value\": 1311.4549132746804}, \"3735.7096392064923\": {\"frequency\": 1, \"value\": 3735.7096392064923}, \"3482.2992633100275\": {\"frequency\": 2, \"value\": 3482.2992633100275}, \"3030.078785723689\": {\"frequency\": 1, \"value\": 3030.078785723689}, \"1746.7605883621293\": {\"frequency\": 2, \"value\": 1746.7605883621293}, \"1054.6297309366412\": {\"frequency\": 1, \"value\": 1054.6297309366412}, \"25710.59135066553\": {\"frequency\": 2, \"value\": 25710.59135066553}, \"3175.44306161935\": {\"frequency\": 2, \"value\": 3175.44306161935}, \"6688.718161604199\": {\"frequency\": 1, \"value\": 6688.718161604199}, \"2984.6325285845664\": {\"frequency\": 1, \"value\": 2984.6325285845664}, \"7935.690853153898\": {\"frequency\": 1, \"value\": 7935.690853153898}, \"1085.227890539224\": {\"frequency\": 1, \"value\": 1085.227890539224}, \"79515.92937454292\": {\"frequency\": 1, \"value\": 79515.92937454292}, \"2289.381584696959\": {\"frequency\": 2, \"value\": 2289.381584696959}, \"4615.04247609932\": {\"frequency\": 2, \"value\": 4615.04247609932}, \"1117.6146237055937\": {\"frequency\": 2, \"value\": 1117.6146237055937}, \"1407.4334724207145\": {\"frequency\": 2, \"value\": 1407.4334724207145}, \"1501.253479633237\": {\"frequency\": 2, \"value\": 1501.253479633237}, \"2344.6032894003642\": {\"frequency\": 1, \"value\": 2344.6032894003642}, \"1466.1483396762067\": {\"frequency\": 1, \"value\": 1466.1483396762067}, \"1121.0702251136806\": {\"frequency\": 1, \"value\": 1121.0702251136806}, \"1487.8124144529227\": {\"frequency\": 2, \"value\": 1487.8124144529227}, \"1167.2469856194577\": {\"frequency\": 2, \"value\": 1167.2469856194577}, \"6777.1403044799945\": {\"frequency\": 1, \"value\": 6777.1403044799945}, \"1394.8939671165535\": {\"frequency\": 1, \"value\": 1394.8939671165535}, \"2100.9813060763745\": {\"frequency\": 1, \"value\": 2100.9813060763745}, \"4058.3377564453026\": {\"frequency\": 2, \"value\": 4058.3377564453026}, \"5506.999771044523\": {\"frequency\": 2, \"value\": 5506.999771044523}, \"1367.3515062277163\": {\"frequency\": 1, \"value\": 1367.3515062277163}, \"1771.84418368845\": {\"frequency\": 1, \"value\": 1771.84418368845}, \"1856.4755421964894\": {\"frequency\": 1, \"value\": 1856.4755421964894}, \"1362.579547055052\": {\"frequency\": 3, \"value\": 1362.579547055052}, \"1476.9472239823342\": {\"frequency\": 2, \"value\": 1476.9472239823342}, \"1423.5971284610787\": {\"frequency\": 2, \"value\": 1423.5971284610787}, \"1139.5834599086256\": {\"frequency\": 1, \"value\": 1139.5834599086256}, \"2020.1630511800379\": {\"frequency\": 2, \"value\": 2020.1630511800379}, \"1249.3134429417125\": {\"frequency\": 3, \"value\": 1249.3134429417125}, \"1424.6464565815684\": {\"frequency\": 2, \"value\": 1424.6464565815684}, \"4000.3593200718565\": {\"frequency\": 2, \"value\": 4000.3593200718565}, \"3292.038892011895\": {\"frequency\": 1, \"value\": 3292.038892011895}, \"1039.5781058575537\": {\"frequency\": 1, \"value\": 1039.5781058575537}, \"1963.272539569846\": {\"frequency\": 2, \"value\": 1963.272539569846}, \"1175.5126824197498\": {\"frequency\": 1, \"value\": 1175.5126824197498}, \"4894.068334129162\": {\"frequency\": 1, \"value\": 4894.068334129162}, \"18510.78897184268\": {\"frequency\": 2, \"value\": 18510.78897184268}, \"1774.0463866460686\": {\"frequency\": 1, \"value\": 1774.0463866460686}, \"14673.720709744139\": {\"frequency\": 1, \"value\": 14673.720709744139}, \"1011.3840745245802\": {\"frequency\": 1, \"value\": 1011.3840745245802}, \"3558.3203271304733\": {\"frequency\": 1, \"value\": 3558.3203271304733}, \"3916.4638881409246\": {\"frequency\": 1, \"value\": 3916.4638881409246}, \"2196.8691678561067\": {\"frequency\": 2, \"value\": 2196.8691678561067}, \"2310.8496381156588\": {\"frequency\": 2, \"value\": 2310.8496381156588}, \"4229.216869061311\": {\"frequency\": 2, \"value\": 4229.216869061311}, \"16232.330103453558\": {\"frequency\": 2, \"value\": 16232.330103453558}, \"1007.9531347877645\": {\"frequency\": 1, \"value\": 1007.9531347877645}, \"1004.5173483100643\": {\"frequency\": 1, \"value\": 1004.5173483100643}, \"1502.094757799988\": {\"frequency\": 1, \"value\": 1502.094757799988}, \"1274.7249461346478\": {\"frequency\": 2, \"value\": 1274.7249461346478}, \"1911.1431111681309\": {\"frequency\": 2, \"value\": 1911.1431111681309}, \"3608.2579117331766\": {\"frequency\": 1, \"value\": 3608.2579117331766}, \"5323.666223612034\": {\"frequency\": 2, \"value\": 5323.666223612034}, \"3529.855597952044\": {\"frequency\": 1, \"value\": 3529.855597952044}, \"1048.3613942516538\": {\"frequency\": 2, \"value\": 1048.3613942516538}, \"1050.2256527945267\": {\"frequency\": 3, \"value\": 1050.2256527945267}, \"11557.36387127046\": {\"frequency\": 2, \"value\": 11557.36387127046}, \"3692.0216359452756\": {\"frequency\": 2, \"value\": 3692.0216359452756}, \"1604.401937628656\": {\"frequency\": 2, \"value\": 1604.401937628656}, \"1740.464934003612\": {\"frequency\": 2, \"value\": 1740.464934003612}, \"1503.6070294753945\": {\"frequency\": 1, \"value\": 1503.6070294753945}, \"2944.8341806314133\": {\"frequency\": 2, \"value\": 2944.8341806314133}, \"1568.6788156255118\": {\"frequency\": 1, \"value\": 1568.6788156255118}, \"1105.5342861358952\": {\"frequency\": 2, \"value\": 1105.5342861358952}, \"1091.0694437146287\": {\"frequency\": 3, \"value\": 1091.0694437146287}, \"1613.1817510006447\": {\"frequency\": 1, \"value\": 1613.1817510006447}, \"2716.161359739396\": {\"frequency\": 2, \"value\": 2716.161359739396}, \"9074.54780390916\": {\"frequency\": 2, \"value\": 9074.54780390916}, \"2316.990437504906\": {\"frequency\": 2, \"value\": 2316.990437504906}, \"2830.5119605738632\": {\"frequency\": 2, \"value\": 2830.5119605738632}, \"69183.2669080059\": {\"frequency\": 1, \"value\": 69183.2669080059}, \"1858.3643802462386\": {\"frequency\": 1, \"value\": 1858.3643802462386}, \"1258.2760037988705\": {\"frequency\": 1, \"value\": 1258.2760037988705}, \"1108.8131242870854\": {\"frequency\": 3, \"value\": 1108.8131242870854}, \"5123.7979462461135\": {\"frequency\": 1, \"value\": 5123.7979462461135}, \"2496.6506761558617\": {\"frequency\": 2, \"value\": 2496.6506761558617}, \"4077.701470767792\": {\"frequency\": 1, \"value\": 4077.701470767792}, \"1195.1637284902845\": {\"frequency\": 1, \"value\": 1195.1637284902845}, \"2873.517897560729\": {\"frequency\": 2, \"value\": 2873.517897560729}, \"1117.2184238044047\": {\"frequency\": 2, \"value\": 1117.2184238044047}, \"6759.178406927396\": {\"frequency\": 1, \"value\": 6759.178406927396}, \"8026.1237262490395\": {\"frequency\": 1, \"value\": 8026.1237262490395}, \"3323.1468269240218\": {\"frequency\": 2, \"value\": 3323.1468269240218}, \"2100.357783342672\": {\"frequency\": 1, \"value\": 2100.357783342672}, \"2599.3900185711864\": {\"frequency\": 1, \"value\": 2599.3900185711864}, \"2526.155673777361\": {\"frequency\": 2, \"value\": 2526.155673777361}, \"6136.9148712477645\": {\"frequency\": 1, \"value\": 6136.9148712477645}, \"991.2275970852176\": {\"frequency\": 1, \"value\": 991.2275970852176}, \"1262.8356586400605\": {\"frequency\": 3, \"value\": 1262.8356586400605}, \"1389.9850782568951\": {\"frequency\": 2, \"value\": 1389.9850782568951}, \"4049.6232818985604\": {\"frequency\": 2, \"value\": 4049.6232818985604}, \"4745.379781742628\": {\"frequency\": 1, \"value\": 4745.379781742628}, \"1985.0358651452111\": {\"frequency\": 2, \"value\": 1985.0358651452111}, \"3248.697710511957\": {\"frequency\": 2, \"value\": 3248.697710511957}, \"12785.568603627502\": {\"frequency\": 1, \"value\": 12785.568603627502}, \"2650.2115024861223\": {\"frequency\": 2, \"value\": 2650.2115024861223}, \"1923.0168130259513\": {\"frequency\": 1, \"value\": 1923.0168130259513}, \"1047.3312865213522\": {\"frequency\": 3, \"value\": 1047.3312865213522}, \"1734.8737696171506\": {\"frequency\": 2, \"value\": 1734.8737696171506}, \"1044.747310515376\": {\"frequency\": 2, \"value\": 1044.747310515376}, \"8197.689475469042\": {\"frequency\": 1, \"value\": 8197.689475469042}, \"3293.078630125968\": {\"frequency\": 2, \"value\": 3293.078630125968}, \"1144.0466729532106\": {\"frequency\": 2, \"value\": 1144.0466729532106}, \"3984.497969853549\": {\"frequency\": 2, \"value\": 3984.497969853549}, \"2357.3149694199988\": {\"frequency\": 1, \"value\": 2357.3149694199988}, \"1620.4553428319784\": {\"frequency\": 2, \"value\": 1620.4553428319784}, \"2654.0741447256296\": {\"frequency\": 2, \"value\": 2654.0741447256296}, \"1418.6756379621995\": {\"frequency\": 2, \"value\": 1418.6756379621995}, \"2850.9165601364207\": {\"frequency\": 1, \"value\": 2850.9165601364207}, \"3800.334532886926\": {\"frequency\": 2, \"value\": 3800.334532886926}, \"1286.8772285057864\": {\"frequency\": 2, \"value\": 1286.8772285057864}, \"1079.1018414997832\": {\"frequency\": 1, \"value\": 1079.1018414997832}, \"4506.342924713557\": {\"frequency\": 1, \"value\": 4506.342924713557}, \"994.7364705826602\": {\"frequency\": 1, \"value\": 994.7364705826602}, \"8031.9718779566665\": {\"frequency\": 1, \"value\": 8031.9718779566665}, \"1504.6726574727595\": {\"frequency\": 1, \"value\": 1504.6726574727595}, \"1926.8040066202614\": {\"frequency\": 2, \"value\": 1926.8040066202614}, \"5763.836466743055\": {\"frequency\": 2, \"value\": 5763.836466743055}, \"2182.110974050246\": {\"frequency\": 2, \"value\": 2182.110974050246}, \"3242.1353997891188\": {\"frequency\": 1, \"value\": 3242.1353997891188}, \"1779.930494904916\": {\"frequency\": 1, \"value\": 1779.930494904916}, \"4671.261053723751\": {\"frequency\": 1, \"value\": 4671.261053723751}, \"3402.194006113227\": {\"frequency\": 1, \"value\": 3402.194006113227}, \"3698.767259121606\": {\"frequency\": 2, \"value\": 3698.767259121606}, \"8023.403704887846\": {\"frequency\": 2, \"value\": 8023.403704887846}, \"4046.087842252681\": {\"frequency\": 2, \"value\": 4046.087842252681}, \"1307.0032834717388\": {\"frequency\": 2, \"value\": 1307.0032834717388}, \"1110.2117820052677\": {\"frequency\": 1, \"value\": 1110.2117820052677}, \"2425.9101130134914\": {\"frequency\": 2, \"value\": 2425.9101130134914}, \"1280.5269973472482\": {\"frequency\": 1, \"value\": 1280.5269973472482}, \"1754.9593469459603\": {\"frequency\": 1, \"value\": 1754.9593469459603}, \"1180.2674537688881\": {\"frequency\": 2, \"value\": 1180.2674537688881}, \"1898.092649643268\": {\"frequency\": 2, \"value\": 1898.092649643268}, \"1376.9710721126073\": {\"frequency\": 1, \"value\": 1376.9710721126073}, \"2286.4509438694413\": {\"frequency\": 2, \"value\": 2286.4509438694413}, \"4413.8354886407\": {\"frequency\": 1, \"value\": 4413.8354886407}, \"1127.2015504096478\": {\"frequency\": 1, \"value\": 1127.2015504096478}, \"10238.84679518244\": {\"frequency\": 1, \"value\": 10238.84679518244}, \"1306.194718685105\": {\"frequency\": 2, \"value\": 1306.194718685105}, \"9353.36245351211\": {\"frequency\": 1, \"value\": 9353.36245351211}, \"2752.399213363991\": {\"frequency\": 2, \"value\": 2752.399213363991}, \"989.9386724588934\": {\"frequency\": 1, \"value\": 989.9386724588934}, \"1476.3998102903545\": {\"frequency\": 2, \"value\": 1476.3998102903545}, \"10077.030522085843\": {\"frequency\": 2, \"value\": 10077.030522085843}, \"1367.9532966829884\": {\"frequency\": 2, \"value\": 1367.9532966829884}, \"3146.2244356187302\": {\"frequency\": 2, \"value\": 3146.2244356187302}, \"1030.7342885789421\": {\"frequency\": 2, \"value\": 1030.7342885789421}, \"1028.105943162406\": {\"frequency\": 2, \"value\": 1028.105943162406}, \"1551.6049003392511\": {\"frequency\": 2, \"value\": 1551.6049003392511}, \"1466.01847732324\": {\"frequency\": 1, \"value\": 1466.01847732324}, \"2313.9599374423947\": {\"frequency\": 2, \"value\": 2313.9599374423947}, \"1172.6923120371243\": {\"frequency\": 1, \"value\": 1172.6923120371243}, \"1118.7470142632114\": {\"frequency\": 2, \"value\": 1118.7470142632114}, \"1813.330516518971\": {\"frequency\": 2, \"value\": 1813.330516518971}, \"7646.8782299231\": {\"frequency\": 2, \"value\": 7646.8782299231}, \"1294.9501626139167\": {\"frequency\": 1, \"value\": 1294.9501626139167}, \"1326.139128063455\": {\"frequency\": 2, \"value\": 1326.139128063455}, \"1430.8095441450382\": {\"frequency\": 1, \"value\": 1430.8095441450382}, \"1045.3163845053095\": {\"frequency\": 1, \"value\": 1045.3163845053095}, \"1355.4062340684231\": {\"frequency\": 1, \"value\": 1355.4062340684231}, \"1309.9088520243158\": {\"frequency\": 2, \"value\": 1309.9088520243158}, \"12270.29687143035\": {\"frequency\": 1, \"value\": 12270.29687143035}, \"2781.124024666537\": {\"frequency\": 1, \"value\": 2781.124024666537}, \"1945.4370118535346\": {\"frequency\": 1, \"value\": 1945.4370118535346}, \"1376.744633330364\": {\"frequency\": 2, \"value\": 1376.744633330364}, \"7114.861373270599\": {\"frequency\": 2, \"value\": 7114.861373270599}, \"7649.6817068882765\": {\"frequency\": 1, \"value\": 7649.6817068882765}, \"1384.3784356169747\": {\"frequency\": 2, \"value\": 1384.3784356169747}, \"2865.1641033013293\": {\"frequency\": 2, \"value\": 2865.1641033013293}, \"1096.9604718275534\": {\"frequency\": 1, \"value\": 1096.9604718275534}, \"2014.1621395209395\": {\"frequency\": 2, \"value\": 2014.1621395209395}, \"5583.101692427346\": {\"frequency\": 1, \"value\": 5583.101692427346}, \"3160.46102305597\": {\"frequency\": 2, \"value\": 3160.46102305597}, \"1016.9570529598559\": {\"frequency\": 1, \"value\": 1016.9570529598559}, \"1745.1855929052135\": {\"frequency\": 2, \"value\": 1745.1855929052135}, \"1231.1050279211051\": {\"frequency\": 2, \"value\": 1231.1050279211051}, \"2575.049916557104\": {\"frequency\": 2, \"value\": 2575.049916557104}, \"1848.827694678292\": {\"frequency\": 2, \"value\": 1848.827694678292}, \"2444.3145754756288\": {\"frequency\": 1, \"value\": 2444.3145754756288}, \"2837.4141984368835\": {\"frequency\": 1, \"value\": 2837.4141984368835}, \"1092.2217492249115\": {\"frequency\": 1, \"value\": 1092.2217492249115}, \"1076.3897085620665\": {\"frequency\": 1, \"value\": 1076.3897085620665}, \"2281.5870553636773\": {\"frequency\": 1, \"value\": 2281.5870553636773}, \"5047.793260804976\": {\"frequency\": 2, \"value\": 5047.793260804976}, \"11956.70378902497\": {\"frequency\": 1, \"value\": 11956.70378902497}, \"1024.6573144572335\": {\"frequency\": 2, \"value\": 1024.6573144572335}, \"11169.656968675059\": {\"frequency\": 2, \"value\": 11169.656968675059}, \"1466.8237178189322\": {\"frequency\": 1, \"value\": 1466.8237178189322}, \"1275.0274376711131\": {\"frequency\": 2, \"value\": 1275.0274376711131}, \"3624.420112613666\": {\"frequency\": 1, \"value\": 3624.420112613666}, \"5126.437887818516\": {\"frequency\": 1, \"value\": 5126.437887818516}, \"2038.9878916137316\": {\"frequency\": 1, \"value\": 2038.9878916137316}, \"22937.650056149363\": {\"frequency\": 1, \"value\": 22937.650056149363}, \"6994.1019782783005\": {\"frequency\": 2, \"value\": 6994.1019782783005}, \"1729.6871248062146\": {\"frequency\": 2, \"value\": 1729.6871248062146}, \"3740.7990649675876\": {\"frequency\": 2, \"value\": 3740.7990649675876}, \"1761.7804029999666\": {\"frequency\": 1, \"value\": 1761.7804029999666}, \"1086.2989589075705\": {\"frequency\": 2, \"value\": 1086.2989589075705}, \"11233.20816383069\": {\"frequency\": 1, \"value\": 11233.20816383069}, \"1305.0558069038211\": {\"frequency\": 3, \"value\": 1305.0558069038211}, \"1196.663235122191\": {\"frequency\": 1, \"value\": 1196.663235122191}, \"1768.843418040333\": {\"frequency\": 2, \"value\": 1768.843418040333}, \"4409.682280853328\": {\"frequency\": 2, \"value\": 4409.682280853328}, \"2486.158525645328\": {\"frequency\": 1, \"value\": 2486.158525645328}, \"25775.338553555066\": {\"frequency\": 1, \"value\": 25775.338553555066}, \"3524.0833373729197\": {\"frequency\": 2, \"value\": 3524.0833373729197}, \"3346.7249511361015\": {\"frequency\": 1, \"value\": 3346.7249511361015}, \"1181.3033951569585\": {\"frequency\": 2, \"value\": 1181.3033951569585}, \"1366.950387029219\": {\"frequency\": 1, \"value\": 1366.950387029219}, \"1905.0719584681476\": {\"frequency\": 1, \"value\": 1905.0719584681476}, \"3842.829466407598\": {\"frequency\": 1, \"value\": 3842.829466407598}, \"1988.4298827742368\": {\"frequency\": 1, \"value\": 1988.4298827742368}, \"6415.412950275601\": {\"frequency\": 2, \"value\": 6415.412950275601}, \"3603.611751945743\": {\"frequency\": 2, \"value\": 3603.611751945743}, \"1487.1452386302806\": {\"frequency\": 1, \"value\": 1487.1452386302806}, \"1119.0641873811958\": {\"frequency\": 2, \"value\": 1119.0641873811958}, \"2137.637165482023\": {\"frequency\": 1, \"value\": 2137.637165482023}, \"10785.704947040831\": {\"frequency\": 2, \"value\": 10785.704947040831}, \"3702.9135550292053\": {\"frequency\": 1, \"value\": 3702.9135550292053}, \"1196.0539459820707\": {\"frequency\": 1, \"value\": 1196.0539459820707}, \"1333.790769307646\": {\"frequency\": 1, \"value\": 1333.790769307646}, \"1377.3485119617337\": {\"frequency\": 1, \"value\": 1377.3485119617337}, \"3781.0112494161863\": {\"frequency\": 1, \"value\": 3781.0112494161863}, \"1163.974378819002\": {\"frequency\": 1, \"value\": 1163.974378819002}, \"1404.2424466461835\": {\"frequency\": 1, \"value\": 1404.2424466461835}, \"1890.3137375565689\": {\"frequency\": 2, \"value\": 1890.3137375565689}, \"1706.9987980086214\": {\"frequency\": 2, \"value\": 1706.9987980086214}, \"2192.1352953818414\": {\"frequency\": 2, \"value\": 2192.1352953818414}, \"1190.0514768062803\": {\"frequency\": 1, \"value\": 1190.0514768062803}, \"4294.598733802186\": {\"frequency\": 1, \"value\": 4294.598733802186}, \"1115.0349382848765\": {\"frequency\": 1, \"value\": 1115.0349382848765}, \"1269.8537897289289\": {\"frequency\": 1, \"value\": 1269.8537897289289}, \"8095.760878885226\": {\"frequency\": 2, \"value\": 8095.760878885226}, \"1047.057407723213\": {\"frequency\": 2, \"value\": 1047.057407723213}, \"5584.26287303529\": {\"frequency\": 1, \"value\": 5584.26287303529}, \"2096.291611130996\": {\"frequency\": 2, \"value\": 2096.291611130996}, \"1838.471008718826\": {\"frequency\": 1, \"value\": 1838.471008718826}, \"1502.3445582186084\": {\"frequency\": 2, \"value\": 1502.3445582186084}, \"1460.0511062460573\": {\"frequency\": 2, \"value\": 1460.0511062460573}, \"2908.6774094792213\": {\"frequency\": 1, \"value\": 2908.6774094792213}, \"5174.276697174962\": {\"frequency\": 2, \"value\": 5174.276697174962}, \"3347.8922586288786\": {\"frequency\": 2, \"value\": 3347.8922586288786}, \"1441.360193460683\": {\"frequency\": 1, \"value\": 1441.360193460683}, \"1102.0130353880008\": {\"frequency\": 3, \"value\": 1102.0130353880008}, \"13215.393360558293\": {\"frequency\": 2, \"value\": 13215.393360558293}, \"1013.0963629717514\": {\"frequency\": 1, \"value\": 1013.0963629717514}, \"1868.9246601334387\": {\"frequency\": 2, \"value\": 1868.9246601334387}, \"2283.0180191191716\": {\"frequency\": 1, \"value\": 2283.0180191191716}, \"1824.9354107188585\": {\"frequency\": 2, \"value\": 1824.9354107188585}, \"1437.461779130577\": {\"frequency\": 2, \"value\": 1437.461779130577}, \"1908.9896229001056\": {\"frequency\": 2, \"value\": 1908.9896229001056}, \"5410.864750661245\": {\"frequency\": 2, \"value\": 5410.864750661245}, \"1420.3109163394138\": {\"frequency\": 2, \"value\": 1420.3109163394138}, \"1381.9700968482807\": {\"frequency\": 2, \"value\": 1381.9700968482807}, \"6313.108926772083\": {\"frequency\": 1, \"value\": 6313.108926772083}, \"23949.078580486675\": {\"frequency\": 2, \"value\": 23949.078580486675}, \"6644.808159089643\": {\"frequency\": 1, \"value\": 6644.808159089643}, \"2160.1873026222597\": {\"frequency\": 1, \"value\": 2160.1873026222597}, \"9744.921046483849\": {\"frequency\": 1, \"value\": 9744.921046483849}, \"1882.1825184484412\": {\"frequency\": 1, \"value\": 1882.1825184484412}, \"8870.135938953066\": {\"frequency\": 1, \"value\": 8870.135938953066}, \"1284.216212051811\": {\"frequency\": 1, \"value\": 1284.216212051811}, \"1469.6698275791343\": {\"frequency\": 1, \"value\": 1469.6698275791343}, \"1915.9297544378287\": {\"frequency\": 2, \"value\": 1915.9297544378287}, \"3141.473478347538\": {\"frequency\": 2, \"value\": 3141.473478347538}, \"5510.3049675084185\": {\"frequency\": 1, \"value\": 5510.3049675084185}, \"1622.7513965747617\": {\"frequency\": 1, \"value\": 1622.7513965747617}, \"1443.2147792741564\": {\"frequency\": 1, \"value\": 1443.2147792741564}, \"12819.794845331544\": {\"frequency\": 2, \"value\": 12819.794845331544}, \"2031.3338932317317\": {\"frequency\": 2, \"value\": 2031.3338932317317}, \"4428.982201977402\": {\"frequency\": 1, \"value\": 4428.982201977402}, \"2020.3158646501292\": {\"frequency\": 2, \"value\": 2020.3158646501292}, \"2066.5028377145964\": {\"frequency\": 1, \"value\": 2066.5028377145964}, \"5766.8279576363575\": {\"frequency\": 1, \"value\": 5766.8279576363575}, \"1493.2470294540651\": {\"frequency\": 1, \"value\": 1493.2470294540651}, \"10917.167656379457\": {\"frequency\": 1, \"value\": 10917.167656379457}, \"1428.0658835863728\": {\"frequency\": 1, \"value\": 1428.0658835863728}, \"12709.27714422625\": {\"frequency\": 2, \"value\": 12709.27714422625}, \"1684.3788880094473\": {\"frequency\": 2, \"value\": 1684.3788880094473}, \"2686.2275084671055\": {\"frequency\": 1, \"value\": 2686.2275084671055}, \"1048.1860206788651\": {\"frequency\": 3, \"value\": 1048.1860206788651}, \"2223.166971853606\": {\"frequency\": 1, \"value\": 2223.166971853606}, \"3593.5283016731173\": {\"frequency\": 1, \"value\": 3593.5283016731173}, \"1572.8207922654274\": {\"frequency\": 3, \"value\": 1572.8207922654274}, \"1530.4819333329028\": {\"frequency\": 1, \"value\": 1530.4819333329028}, \"7078.404307698651\": {\"frequency\": 2, \"value\": 7078.404307698651}, \"1074.1914112303277\": {\"frequency\": 1, \"value\": 1074.1914112303277}, \"12653.015718700693\": {\"frequency\": 2, \"value\": 12653.015718700693}, \"3287.411165151172\": {\"frequency\": 2, \"value\": 3287.411165151172}, \"2498.012738046067\": {\"frequency\": 2, \"value\": 2498.012738046067}, \"1327.484893816245\": {\"frequency\": 1, \"value\": 1327.484893816245}, \"12768.81668468249\": {\"frequency\": 2, \"value\": 12768.81668468249}, \"2439.9717846484737\": {\"frequency\": 1, \"value\": 2439.9717846484737}, \"3681.021607679309\": {\"frequency\": 2, \"value\": 3681.021607679309}, \"1776.1211590445057\": {\"frequency\": 1, \"value\": 1776.1211590445057}, \"1714.9336660366246\": {\"frequency\": 1, \"value\": 1714.9336660366246}, \"1714.455641426507\": {\"frequency\": 1, \"value\": 1714.455641426507}, \"2287.167145932398\": {\"frequency\": 1, \"value\": 2287.167145932398}, \"26416.555950358925\": {\"frequency\": 2, \"value\": 26416.555950358925}, \"24177.53255482247\": {\"frequency\": 1, \"value\": 24177.53255482247}, \"1771.2867033550933\": {\"frequency\": 2, \"value\": 1771.2867033550933}, \"1677.0721988297325\": {\"frequency\": 2, \"value\": 1677.0721988297325}, \"3676.327327023454\": {\"frequency\": 2, \"value\": 3676.327327023454}, \"4085.3068230007625\": {\"frequency\": 1, \"value\": 4085.3068230007625}, \"1002.0408175969262\": {\"frequency\": 1, \"value\": 1002.0408175969262}, \"1736.5713854431176\": {\"frequency\": 1, \"value\": 1736.5713854431176}, \"2350.8556940980984\": {\"frequency\": 1, \"value\": 2350.8556940980984}, \"1172.2979652393058\": {\"frequency\": 1, \"value\": 1172.2979652393058}, \"1839.3887871943\": {\"frequency\": 2, \"value\": 1839.3887871943}, \"1128.0430846571328\": {\"frequency\": 2, \"value\": 1128.0430846571328}, \"1624.8301991670826\": {\"frequency\": 2, \"value\": 1624.8301991670826}, \"2028.0865282708407\": {\"frequency\": 1, \"value\": 2028.0865282708407}, \"1230.5225929973556\": {\"frequency\": 1, \"value\": 1230.5225929973556}, \"2351.549095714737\": {\"frequency\": 2, \"value\": 2351.549095714737}, \"1035.5108796219436\": {\"frequency\": 1, \"value\": 1035.5108796219436}, \"1608.1559071849028\": {\"frequency\": 1, \"value\": 1608.1559071849028}, \"1655.9117684698099\": {\"frequency\": 1, \"value\": 1655.9117684698099}, \"8802.61056598127\": {\"frequency\": 2, \"value\": 8802.61056598127}, \"3425.7183119716183\": {\"frequency\": 1, \"value\": 3425.7183119716183}, \"4702.510376586175\": {\"frequency\": 2, \"value\": 4702.510376586175}, \"48040.92011446282\": {\"frequency\": 2, \"value\": 48040.92011446282}, \"1037.4071905392154\": {\"frequency\": 3, \"value\": 1037.4071905392154}, \"1036.0011370375194\": {\"frequency\": 2, \"value\": 1036.0011370375194}, \"9951.934898146534\": {\"frequency\": 2, \"value\": 9951.934898146534}, \"992.1868499170555\": {\"frequency\": 1, \"value\": 992.1868499170555}, \"2907.867529089643\": {\"frequency\": 1, \"value\": 2907.867529089643}, \"1240.9083765287335\": {\"frequency\": 1, \"value\": 1240.9083765287335}, \"1907.6832801516725\": {\"frequency\": 2, \"value\": 1907.6832801516725}, \"1278.1149241669623\": {\"frequency\": 2, \"value\": 1278.1149241669623}, \"1239.0709821493492\": {\"frequency\": 1, \"value\": 1239.0709821493492}, \"2700.933958150212\": {\"frequency\": 1, \"value\": 2700.933958150212}, \"2611.1859297356837\": {\"frequency\": 1, \"value\": 2611.1859297356837}, \"2999.7795256273885\": {\"frequency\": 2, \"value\": 2999.7795256273885}, \"10662.14613121155\": {\"frequency\": 1, \"value\": 10662.14613121155}, \"1697.4176808096531\": {\"frequency\": 1, \"value\": 1697.4176808096531}, \"2794.290270519866\": {\"frequency\": 2, \"value\": 2794.290270519866}, \"32196.620515621595\": {\"frequency\": 2, \"value\": 32196.620515621595}, \"4621.959840917114\": {\"frequency\": 2, \"value\": 4621.959840917114}, \"7426.0829131697965\": {\"frequency\": 1, \"value\": 7426.0829131697965}, \"1582.281962591378\": {\"frequency\": 1, \"value\": 1582.281962591378}, \"2762.1244921255175\": {\"frequency\": 1, \"value\": 2762.1244921255175}, \"5475.997035053685\": {\"frequency\": 2, \"value\": 5475.997035053685}, \"1968.2909739827817\": {\"frequency\": 2, \"value\": 1968.2909739827817}, \"10394.228481876866\": {\"frequency\": 1, \"value\": 10394.228481876866}, \"2026.3107873403962\": {\"frequency\": 2, \"value\": 2026.3107873403962}, \"2155.0201011906925\": {\"frequency\": 1, \"value\": 2155.0201011906925}, \"1637.7434070669385\": {\"frequency\": 1, \"value\": 1637.7434070669385}, \"1061.920654723558\": {\"frequency\": 2, \"value\": 1061.920654723558}, \"3264.752450125921\": {\"frequency\": 1, \"value\": 3264.752450125921}, \"3232.022964766483\": {\"frequency\": 1, \"value\": 3232.022964766483}, \"1700.6643494768216\": {\"frequency\": 2, \"value\": 1700.6643494768216}, \"3012.716335225623\": {\"frequency\": 2, \"value\": 3012.716335225623}, \"1179.7322033713385\": {\"frequency\": 1, \"value\": 1179.7322033713385}, \"2838.286672842145\": {\"frequency\": 1, \"value\": 2838.286672842145}, \"1950.23709183122\": {\"frequency\": 1, \"value\": 1950.23709183122}, \"1095.1892408167346\": {\"frequency\": 1, \"value\": 1095.1892408167346}, \"79514.61196822216\": {\"frequency\": 2, \"value\": 79514.61196822216}, \"3227.399999172594\": {\"frequency\": 2, \"value\": 3227.399999172594}, \"1375.9648217721206\": {\"frequency\": 2, \"value\": 1375.9648217721206}, \"2029.6179747530896\": {\"frequency\": 1, \"value\": 2029.6179747530896}, \"1011.7716345162299\": {\"frequency\": 1, \"value\": 1011.7716345162299}, \"3769.9381244203873\": {\"frequency\": 1, \"value\": 3769.9381244203873}, \"1118.0901572145597\": {\"frequency\": 2, \"value\": 1118.0901572145597}, \"1679.6311850056475\": {\"frequency\": 2, \"value\": 1679.6311850056475}, \"2206.03288252321\": {\"frequency\": 1, \"value\": 2206.03288252321}, \"2434.3219695900625\": {\"frequency\": 2, \"value\": 2434.3219695900625}, \"1744.1927233722415\": {\"frequency\": 2, \"value\": 1744.1927233722415}, \"1038.6941906279126\": {\"frequency\": 1, \"value\": 1038.6941906279126}, \"1025.1341347346768\": {\"frequency\": 2, \"value\": 1025.1341347346768}, \"3607.764367696063\": {\"frequency\": 1, \"value\": 3607.764367696063}, \"1753.4090414027241\": {\"frequency\": 1, \"value\": 1753.4090414027241}, \"26752.86502518282\": {\"frequency\": 1, \"value\": 26752.86502518282}, \"2000.2713567549686\": {\"frequency\": 1, \"value\": 2000.2713567549686}, \"2199.565176080719\": {\"frequency\": 2, \"value\": 2199.565176080719}, \"3776.6726279971813\": {\"frequency\": 2, \"value\": 3776.6726279971813}, \"2383.541773433986\": {\"frequency\": 1, \"value\": 2383.541773433986}, \"3097.3026991067895\": {\"frequency\": 2, \"value\": 3097.3026991067895}, \"1660.4593718397548\": {\"frequency\": 1, \"value\": 1660.4593718397548}, \"2769.335739011026\": {\"frequency\": 1, \"value\": 2769.335739011026}, \"3448.0603609892405\": {\"frequency\": 1, \"value\": 3448.0603609892405}, \"4467.276976586461\": {\"frequency\": 2, \"value\": 4467.276976586461}, \"11432.432948425694\": {\"frequency\": 2, \"value\": 11432.432948425694}, \"2191.131809633618\": {\"frequency\": 1, \"value\": 2191.131809633618}, \"1658.8690648011047\": {\"frequency\": 1, \"value\": 1658.8690648011047}, \"1788.1791244199837\": {\"frequency\": 1, \"value\": 1788.1791244199837}, \"3025.3436160686224\": {\"frequency\": 2, \"value\": 3025.3436160686224}, \"1182.5028667894521\": {\"frequency\": 3, \"value\": 1182.5028667894521}, \"2204.898338047199\": {\"frequency\": 2, \"value\": 2204.898338047199}, \"7565.421782893916\": {\"frequency\": 1, \"value\": 7565.421782893916}, \"1360.290504609098\": {\"frequency\": 1, \"value\": 1360.290504609098}, \"13657.492014846903\": {\"frequency\": 1, \"value\": 13657.492014846903}, \"13089.10928492105\": {\"frequency\": 1, \"value\": 13089.10928492105}, \"9879.683520627897\": {\"frequency\": 2, \"value\": 9879.683520627897}, \"1271.0253900520925\": {\"frequency\": 2, \"value\": 1271.0253900520925}, \"2844.4160405334405\": {\"frequency\": 2, \"value\": 2844.4160405334405}, \"2080.54788022034\": {\"frequency\": 2, \"value\": 2080.54788022034}, \"1459.8437673326066\": {\"frequency\": 2, \"value\": 1459.8437673326066}, \"1361.578633187992\": {\"frequency\": 2, \"value\": 1361.578633187992}, \"5121.503994564795\": {\"frequency\": 2, \"value\": 5121.503994564795}, \"1777.123214045485\": {\"frequency\": 2, \"value\": 1777.123214045485}, \"6756.353634149263\": {\"frequency\": 2, \"value\": 6756.353634149263}, \"2914.7920534229847\": {\"frequency\": 1, \"value\": 2914.7920534229847}, \"1677.4892897695754\": {\"frequency\": 2, \"value\": 1677.4892897695754}, \"4619.575545820534\": {\"frequency\": 1, \"value\": 4619.575545820534}, \"5479.394671305752\": {\"frequency\": 1, \"value\": 5479.394671305752}, \"1049.3262135424516\": {\"frequency\": 1, \"value\": 1049.3262135424516}, \"5122.7619016236895\": {\"frequency\": 2, \"value\": 5122.7619016236895}, \"2131.2881947006185\": {\"frequency\": 2, \"value\": 2131.2881947006185}, \"1560.987855291766\": {\"frequency\": 2, \"value\": 1560.987855291766}, \"12320.637237450033\": {\"frequency\": 1, \"value\": 12320.637237450033}, \"1354.6699932424012\": {\"frequency\": 2, \"value\": 1354.6699932424012}, \"8687.270107564904\": {\"frequency\": 1, \"value\": 8687.270107564904}, \"1967.7481263777695\": {\"frequency\": 1, \"value\": 1967.7481263777695}, \"1337.2344556636622\": {\"frequency\": 1, \"value\": 1337.2344556636622}, \"2600.8673595299997\": {\"frequency\": 2, \"value\": 2600.8673595299997}, \"2042.2133933016562\": {\"frequency\": 1, \"value\": 2042.2133933016562}, \"1380.2691479063076\": {\"frequency\": 1, \"value\": 1380.2691479063076}, \"6732.1547296616\": {\"frequency\": 1, \"value\": 6732.1547296616}, \"2046.271991344442\": {\"frequency\": 2, \"value\": 2046.271991344442}, \"6360.518053378125\": {\"frequency\": 2, \"value\": 6360.518053378125}, \"1137.5264869772554\": {\"frequency\": 1, \"value\": 1137.5264869772554}, \"32197.31445252576\": {\"frequency\": 1, \"value\": 32197.31445252576}, \"5819.363771740231\": {\"frequency\": 2, \"value\": 5819.363771740231}, \"1603.3282507158424\": {\"frequency\": 1, \"value\": 1603.3282507158424}, \"20087.72079779958\": {\"frequency\": 1, \"value\": 20087.72079779958}, \"98279.22751905005\": {\"frequency\": 3, \"value\": 98279.22751905005}, \"4789.190041771676\": {\"frequency\": 2, \"value\": 4789.190041771676}, \"1164.5406816906304\": {\"frequency\": 2, \"value\": 1164.5406816906304}, \"3692.167307544048\": {\"frequency\": 2, \"value\": 3692.167307544048}, \"5954.641268354799\": {\"frequency\": 1, \"value\": 5954.641268354799}, \"4606.613389098527\": {\"frequency\": 2, \"value\": 4606.613389098527}, \"15255.516926693042\": {\"frequency\": 1, \"value\": 15255.516926693042}, \"1149.8160836370123\": {\"frequency\": 2, \"value\": 1149.8160836370123}, \"1043.1722293793794\": {\"frequency\": 1, \"value\": 1043.1722293793794}, \"3479.473003035574\": {\"frequency\": 1, \"value\": 3479.473003035574}, \"4024.038435762655\": {\"frequency\": 2, \"value\": 4024.038435762655}, \"2281.115588003546\": {\"frequency\": 2, \"value\": 2281.115588003546}, \"1043.718996657213\": {\"frequency\": 2, \"value\": 1043.718996657213}, \"2614.2698895667154\": {\"frequency\": 1, \"value\": 2614.2698895667154}, \"10648.044443030956\": {\"frequency\": 2, \"value\": 10648.044443030956}, \"18512.22952772309\": {\"frequency\": 1, \"value\": 18512.22952772309}, \"6285.7253625894\": {\"frequency\": 2, \"value\": 6285.7253625894}, \"1043.4127891708988\": {\"frequency\": 2, \"value\": 1043.4127891708988}, \"2239.4505859853657\": {\"frequency\": 1, \"value\": 2239.4505859853657}, \"1638.0456089588763\": {\"frequency\": 2, \"value\": 1638.0456089588763}, \"1315.2995173513493\": {\"frequency\": 1, \"value\": 1315.2995173513493}, \"2293.6996236450423\": {\"frequency\": 2, \"value\": 2293.6996236450423}, \"24176.253299776326\": {\"frequency\": 2, \"value\": 24176.253299776326}, \"2283.489686962969\": {\"frequency\": 2, \"value\": 2283.489686962969}, \"1174.049840930895\": {\"frequency\": 1, \"value\": 1174.049840930895}, \"1946.846411355845\": {\"frequency\": 1, \"value\": 1946.846411355845}, \"3885.718219955915\": {\"frequency\": 1, \"value\": 3885.718219955915}, \"3337.6508488787076\": {\"frequency\": 1, \"value\": 3337.6508488787076}, \"1146.9123412066724\": {\"frequency\": 1, \"value\": 1146.9123412066724}, \"3503.473141502366\": {\"frequency\": 2, \"value\": 3503.473141502366}, \"2104.256346626522\": {\"frequency\": 2, \"value\": 2104.256346626522}, \"1367.288827427509\": {\"frequency\": 3, \"value\": 1367.288827427509}, \"1847.76148889494\": {\"frequency\": 1, \"value\": 1847.76148889494}, \"1098.0373685041445\": {\"frequency\": 3, \"value\": 1098.0373685041445}, \"1740.8191124621655\": {\"frequency\": 2, \"value\": 1740.8191124621655}, \"1007.4373895647799\": {\"frequency\": 2, \"value\": 1007.4373895647799}, \"1058.0627785450001\": {\"frequency\": 2, \"value\": 1058.0627785450001}, \"8195.381141860142\": {\"frequency\": 2, \"value\": 8195.381141860142}, \"6044.5421667678065\": {\"frequency\": 2, \"value\": 6044.5421667678065}, \"1044.3206076390948\": {\"frequency\": 2, \"value\": 1044.3206076390948}, \"1003.9381428904699\": {\"frequency\": 3, \"value\": 1003.9381428904699}, \"1135.2773952850328\": {\"frequency\": 2, \"value\": 1135.2773952850328}, \"1165.0261948932432\": {\"frequency\": 2, \"value\": 1165.0261948932432}, \"3676.680329104108\": {\"frequency\": 2, \"value\": 3676.680329104108}, \"1132.8025711067783\": {\"frequency\": 2, \"value\": 1132.8025711067783}, \"1093.6433983902582\": {\"frequency\": 3, \"value\": 1093.6433983902582}, \"1032.3651280237368\": {\"frequency\": 1, \"value\": 1032.3651280237368}, \"5300.53846552813\": {\"frequency\": 1, \"value\": 5300.53846552813}, \"5082.171293665294\": {\"frequency\": 1, \"value\": 5082.171293665294}, \"19969.25590848647\": {\"frequency\": 1, \"value\": 19969.25590848647}, \"1100.0804494304152\": {\"frequency\": 2, \"value\": 1100.0804494304152}, \"1604.8641429081038\": {\"frequency\": 2, \"value\": 1604.8641429081038}, \"4694.187046016838\": {\"frequency\": 2, \"value\": 4694.187046016838}, \"2721.407012248671\": {\"frequency\": 1, \"value\": 2721.407012248671}, \"1387.3192302149175\": {\"frequency\": 2, \"value\": 1387.3192302149175}, \"3271.7097609033317\": {\"frequency\": 2, \"value\": 3271.7097609033317}, \"1266.6678707686158\": {\"frequency\": 1, \"value\": 1266.6678707686158}, \"2542.8816427650327\": {\"frequency\": 1, \"value\": 2542.8816427650327}, \"12175.014907735296\": {\"frequency\": 2, \"value\": 12175.014907735296}, \"1297.0608747922292\": {\"frequency\": 1, \"value\": 1297.0608747922292}, \"1530.6146576134524\": {\"frequency\": 2, \"value\": 1530.6146576134524}, \"1654.1856141298729\": {\"frequency\": 2, \"value\": 1654.1856141298729}, \"1156.8900516387757\": {\"frequency\": 1, \"value\": 1156.8900516387757}, \"7423.6233177240065\": {\"frequency\": 2, \"value\": 7423.6233177240065}, \"2603.753757305323\": {\"frequency\": 1, \"value\": 2603.753757305323}, \"1612.1595941420064\": {\"frequency\": 2, \"value\": 1612.1595941420064}, \"19465.506711191127\": {\"frequency\": 2, \"value\": 19465.506711191127}, \"1333.345152816959\": {\"frequency\": 1, \"value\": 1333.345152816959}, \"2481.3875724208838\": {\"frequency\": 1, \"value\": 2481.3875724208838}, \"1321.3789405190514\": {\"frequency\": 3, \"value\": 1321.3789405190514}, \"1842.683050242017\": {\"frequency\": 2, \"value\": 1842.683050242017}, \"2995.554583268416\": {\"frequency\": 1, \"value\": 2995.554583268416}, \"1079.1352088344624\": {\"frequency\": 2, \"value\": 1079.1352088344624}, \"3469.5702484682347\": {\"frequency\": 2, \"value\": 3469.5702484682347}, \"3509.1874416224578\": {\"frequency\": 1, \"value\": 3509.1874416224578}, \"1562.6371794549564\": {\"frequency\": 1, \"value\": 1562.6371794549564}, \"22677.499716568487\": {\"frequency\": 2, \"value\": 22677.499716568487}, \"1426.669436442051\": {\"frequency\": 1, \"value\": 1426.669436442051}, \"3443.441422182342\": {\"frequency\": 1, \"value\": 3443.441422182342}, \"1783.5288190942156\": {\"frequency\": 2, \"value\": 1783.5288190942156}, \"12161.375123259253\": {\"frequency\": 1, \"value\": 12161.375123259253}, \"12420.074381700906\": {\"frequency\": 2, \"value\": 12420.074381700906}, \"1683.9887910548573\": {\"frequency\": 1, \"value\": 1683.9887910548573}, \"2536.3389332429215\": {\"frequency\": 2, \"value\": 2536.3389332429215}, \"20286.930255820407\": {\"frequency\": 1, \"value\": 20286.930255820407}, \"4303.0192314221495\": {\"frequency\": 1, \"value\": 4303.0192314221495}, \"1219.7549225439\": {\"frequency\": 1, \"value\": 1219.7549225439}, \"4133.453320456046\": {\"frequency\": 2, \"value\": 4133.453320456046}, \"1181.6992692540923\": {\"frequency\": 2, \"value\": 1181.6992692540923}, \"3090.348734627044\": {\"frequency\": 2, \"value\": 3090.348734627044}, \"1175.559136901557\": {\"frequency\": 3, \"value\": 1175.559136901557}, \"4317.019761329416\": {\"frequency\": 2, \"value\": 4317.019761329416}, \"1559.3394139288039\": {\"frequency\": 1, \"value\": 1559.3394139288039}, \"2424.1993411701037\": {\"frequency\": 1, \"value\": 2424.1993411701037}, \"7085.687767624312\": {\"frequency\": 2, \"value\": 7085.687767624312}, \"1115.148019271076\": {\"frequency\": 2, \"value\": 1115.148019271076}, \"2087.161276810034\": {\"frequency\": 1, \"value\": 2087.161276810034}, \"1060.2002689071526\": {\"frequency\": 1, \"value\": 1060.2002689071526}, \"1152.332594092321\": {\"frequency\": 2, \"value\": 1152.332594092321}, \"7132.437191674745\": {\"frequency\": 1, \"value\": 7132.437191674745}, \"1086.8570182418953\": {\"frequency\": 1, \"value\": 1086.8570182418953}, \"9674.250803585213\": {\"frequency\": 1, \"value\": 9674.250803585213}, \"1623.7906291673262\": {\"frequency\": 1, \"value\": 1623.7906291673262}, \"1503.1861460314608\": {\"frequency\": 2, \"value\": 1503.1861460314608}, \"1102.1029647845296\": {\"frequency\": 3, \"value\": 1102.1029647845296}, \"2170.191933733644\": {\"frequency\": 1, \"value\": 2170.191933733644}, \"2327.260003042655\": {\"frequency\": 2, \"value\": 2327.260003042655}, \"1524.5948530886874\": {\"frequency\": 2, \"value\": 1524.5948530886874}, \"2327.9826971194693\": {\"frequency\": 1, \"value\": 2327.9826971194693}, \"9004.85661315103\": {\"frequency\": 1, \"value\": 9004.85661315103}, \"2053.1995099570554\": {\"frequency\": 1, \"value\": 2053.1995099570554}, \"14746.915235689436\": {\"frequency\": 2, \"value\": 14746.915235689436}, \"3730.7493244665\": {\"frequency\": 2, \"value\": 3730.7493244665}, \"2153.1096766474125\": {\"frequency\": 2, \"value\": 2153.1096766474125}, \"3804.4124139484943\": {\"frequency\": 1, \"value\": 3804.4124139484943}, \"60102.645544907326\": {\"frequency\": 3, \"value\": 60102.645544907326}, \"1397.6432216010558\": {\"frequency\": 1, \"value\": 1397.6432216010558}, \"1071.5963478429162\": {\"frequency\": 1, \"value\": 1071.5963478429162}, \"1183.8194994156831\": {\"frequency\": 1, \"value\": 1183.8194994156831}, \"1018.5120452956082\": {\"frequency\": 3, \"value\": 1018.5120452956082}, \"1075.0016306083435\": {\"frequency\": 2, \"value\": 1075.0016306083435}, \"1646.7804433970807\": {\"frequency\": 1, \"value\": 1646.7804433970807}, \"3471.9689700637496\": {\"frequency\": 2, \"value\": 3471.9689700637496}, \"4279.422967114773\": {\"frequency\": 2, \"value\": 4279.422967114773}, \"14572.806076354313\": {\"frequency\": 1, \"value\": 14572.806076354313}, \"2528.4339446512745\": {\"frequency\": 1, \"value\": 2528.4339446512745}, \"4331.631566129254\": {\"frequency\": 2, \"value\": 4331.631566129254}, \"1014.4219658265678\": {\"frequency\": 1, \"value\": 1014.4219658265678}, \"1410.7682548673124\": {\"frequency\": 1, \"value\": 1410.7682548673124}, \"239841.5242399849\": {\"frequency\": 3, \"value\": 239841.5242399849}, \"3770.8216740851867\": {\"frequency\": 2, \"value\": 3770.8216740851867}, \"1766.673046478869\": {\"frequency\": 2, \"value\": 1766.673046478869}, \"1027.888876000892\": {\"frequency\": 1, \"value\": 1027.888876000892}, \"1960.2766457256253\": {\"frequency\": 2, \"value\": 1960.2766457256253}, \"8684.693082301867\": {\"frequency\": 2, \"value\": 8684.693082301867}, \"2327.0629245269206\": {\"frequency\": 2, \"value\": 2327.0629245269206}, \"1440.7165224708442\": {\"frequency\": 2, \"value\": 1440.7165224708442}, \"4706.073125270346\": {\"frequency\": 1, \"value\": 4706.073125270346}, \"1222.0514864789698\": {\"frequency\": 2, \"value\": 1222.0514864789698}, \"2978.163648006694\": {\"frequency\": 2, \"value\": 2978.163648006694}, \"1447.288797157932\": {\"frequency\": 2, \"value\": 1447.288797157932}, \"1203.4932843580293\": {\"frequency\": 3, \"value\": 1203.4932843580293}, \"1938.7868640690904\": {\"frequency\": 2, \"value\": 1938.7868640690904}, \"7088.350586405482\": {\"frequency\": 1, \"value\": 7088.350586405482}, \"2544.9441228306364\": {\"frequency\": 2, \"value\": 2544.9441228306364}, \"4506.22756211648\": {\"frequency\": 1, \"value\": 4506.22756211648}, \"1094.5618095517725\": {\"frequency\": 1, \"value\": 1094.5618095517725}, \"2879.0268781933337\": {\"frequency\": 1, \"value\": 2879.0268781933337}, \"1125.928480160091\": {\"frequency\": 1, \"value\": 1125.928480160091}, \"2694.7348966957193\": {\"frequency\": 2, \"value\": 2694.7348966957193}, \"1311.1726269282613\": {\"frequency\": 1, \"value\": 1311.1726269282613}, \"4062.8188896977904\": {\"frequency\": 1, \"value\": 4062.8188896977904}, \"1336.0075919283654\": {\"frequency\": 1, \"value\": 1336.0075919283654}, \"1314.8816170557907\": {\"frequency\": 2, \"value\": 1314.8816170557907}, \"1036.862094366997\": {\"frequency\": 1, \"value\": 1036.862094366997}, \"13982.674137625027\": {\"frequency\": 2, \"value\": 13982.674137625027}, \"1761.9514579050735\": {\"frequency\": 1, \"value\": 1761.9514579050735}, \"5124.932787354495\": {\"frequency\": 1, \"value\": 5124.932787354495}, \"1319.9377956439191\": {\"frequency\": 1, \"value\": 1319.9377956439191}, \"3259.988355492849\": {\"frequency\": 2, \"value\": 3259.988355492849}, \"4076.9566724973083\": {\"frequency\": 1, \"value\": 4076.9566724973083}, \"1438.4905440508917\": {\"frequency\": 1, \"value\": 1438.4905440508917}, \"1170.9182790578313\": {\"frequency\": 2, \"value\": 1170.9182790578313}, \"1164.5291230983057\": {\"frequency\": 2, \"value\": 1164.5291230983057}, \"1524.740565294807\": {\"frequency\": 2, \"value\": 1524.740565294807}, \"1617.805998512844\": {\"frequency\": 2, \"value\": 1617.805998512844}, \"5998.444725679445\": {\"frequency\": 1, \"value\": 5998.444725679445}, \"5442.106841628022\": {\"frequency\": 1, \"value\": 5442.106841628022}, \"2203.428666520614\": {\"frequency\": 1, \"value\": 2203.428666520614}, \"1284.6048626234817\": {\"frequency\": 1, \"value\": 1284.6048626234817}, \"1520.5706896100007\": {\"frequency\": 2, \"value\": 1520.5706896100007}, \"3472.3923625341167\": {\"frequency\": 1, \"value\": 3472.3923625341167}, \"4932.079678403449\": {\"frequency\": 2, \"value\": 4932.079678403449}, \"2799.6306700101877\": {\"frequency\": 1, \"value\": 2799.6306700101877}, \"6606.575800364143\": {\"frequency\": 2, \"value\": 6606.575800364143}, \"1853.7538194989147\": {\"frequency\": 2, \"value\": 1853.7538194989147}, \"1389.719640824877\": {\"frequency\": 2, \"value\": 1389.719640824877}, \"9882.026673264432\": {\"frequency\": 1, \"value\": 9882.026673264432}, \"5743.128352522121\": {\"frequency\": 1, \"value\": 5743.128352522121}, \"10165.397796759975\": {\"frequency\": 2, \"value\": 10165.397796759975}, \"2909.395354680691\": {\"frequency\": 2, \"value\": 2909.395354680691}, \"1064.36027773451\": {\"frequency\": 2, \"value\": 1064.36027773451}, \"1585.752860560276\": {\"frequency\": 2, \"value\": 1585.752860560276}, \"1791.6996423373573\": {\"frequency\": 2, \"value\": 1791.6996423373573}, \"1549.3471076633625\": {\"frequency\": 2, \"value\": 1549.3471076633625}, \"2952.0448019169844\": {\"frequency\": 1, \"value\": 2952.0448019169844}, \"1248.5350997917203\": {\"frequency\": 2, \"value\": 1248.5350997917203}, \"1276.0077595079556\": {\"frequency\": 2, \"value\": 1276.0077595079556}, \"2360.2088794724577\": {\"frequency\": 1, \"value\": 2360.2088794724577}, \"3442.497944502523\": {\"frequency\": 2, \"value\": 3442.497944502523}, \"6774.511551330788\": {\"frequency\": 2, \"value\": 6774.511551330788}, \"1100.5746688805527\": {\"frequency\": 2, \"value\": 1100.5746688805527}, \"4092.6122319111496\": {\"frequency\": 2, \"value\": 4092.6122319111496}, \"4208.681521237303\": {\"frequency\": 2, \"value\": 4208.681521237303}, \"1026.2182334056517\": {\"frequency\": 1, \"value\": 1026.2182334056517}, \"10650.011508721613\": {\"frequency\": 1, \"value\": 10650.011508721613}, \"1258.0356203703311\": {\"frequency\": 1, \"value\": 1258.0356203703311}, \"3251.0360857731753\": {\"frequency\": 1, \"value\": 3251.0360857731753}, \"3804.4335487495773\": {\"frequency\": 1, \"value\": 3804.4335487495773}, \"1200.3105257992029\": {\"frequency\": 1, \"value\": 1200.3105257992029}, \"1652.6259565348396\": {\"frequency\": 2, \"value\": 1652.6259565348396}, \"3421.2948935131562\": {\"frequency\": 2, \"value\": 3421.2948935131562}, \"1842.2310050715914\": {\"frequency\": 1, \"value\": 1842.2310050715914}, \"4075.817705526636\": {\"frequency\": 2, \"value\": 4075.817705526636}, \"1333.1718778571003\": {\"frequency\": 1, \"value\": 1333.1718778571003}, \"5581.140874892239\": {\"frequency\": 2, \"value\": 5581.140874892239}, \"1628.1015722144648\": {\"frequency\": 1, \"value\": 1628.1015722144648}, \"3001.7060660835577\": {\"frequency\": 1, \"value\": 3001.7060660835577}, \"1270.9770658381956\": {\"frequency\": 2, \"value\": 1270.9770658381956}, \"8121.572350133217\": {\"frequency\": 1, \"value\": 8121.572350133217}, \"17242.901124619486\": {\"frequency\": 2, \"value\": 17242.901124619486}, \"1002.8659852203965\": {\"frequency\": 2, \"value\": 1002.8659852203965}, \"3474.3282096939492\": {\"frequency\": 1, \"value\": 3474.3282096939492}, \"4625.631035979016\": {\"frequency\": 1, \"value\": 4625.631035979016}, \"1094.091355217228\": {\"frequency\": 1, \"value\": 1094.091355217228}, \"3175.346783523961\": {\"frequency\": 1, \"value\": 3175.346783523961}, \"3790.582150016551\": {\"frequency\": 1, \"value\": 3790.582150016551}, \"1346.758856145318\": {\"frequency\": 2, \"value\": 1346.758856145318}, \"999.8777204560121\": {\"frequency\": 1, \"value\": 999.8777204560121}, \"1185.2534895649562\": {\"frequency\": 2, \"value\": 1185.2534895649562}, \"1458.7295761500804\": {\"frequency\": 2, \"value\": 1458.7295761500804}, \"1799.2842662473354\": {\"frequency\": 1, \"value\": 1799.2842662473354}, \"10432.012415357212\": {\"frequency\": 2, \"value\": 10432.012415357212}, \"3275.386919880584\": {\"frequency\": 1, \"value\": 3275.386919880584}, \"1133.019151837235\": {\"frequency\": 1, \"value\": 1133.019151837235}, \"3648.309283031551\": {\"frequency\": 1, \"value\": 3648.309283031551}, \"1227.9092957334992\": {\"frequency\": 3, \"value\": 1227.9092957334992}, \"1429.8092095454747\": {\"frequency\": 1, \"value\": 1429.8092095454747}, \"2541.970986182224\": {\"frequency\": 1, \"value\": 2541.970986182224}, \"231792.5182661853\": {\"frequency\": 3, \"value\": 231792.5182661853}, \"3360.3697914798754\": {\"frequency\": 1, \"value\": 3360.3697914798754}, \"1485.3668441425173\": {\"frequency\": 1, \"value\": 1485.3668441425173}, \"6453.475194523061\": {\"frequency\": 1, \"value\": 6453.475194523061}, \"1026.5978045148195\": {\"frequency\": 1, \"value\": 1026.5978045148195}, \"2197.2678794389185\": {\"frequency\": 2, \"value\": 2197.2678794389185}, \"1139.400541874753\": {\"frequency\": 1, \"value\": 1139.400541874753}, \"2589.841127992571\": {\"frequency\": 2, \"value\": 2589.841127992571}, \"2332.995428408846\": {\"frequency\": 1, \"value\": 2332.995428408846}, \"1326.855137651318\": {\"frequency\": 2, \"value\": 1326.855137651318}, \"1510.494303821053\": {\"frequency\": 1, \"value\": 1510.494303821053}, \"3387.964196573354\": {\"frequency\": 2, \"value\": 3387.964196573354}, \"1122.5787805165444\": {\"frequency\": 3, \"value\": 1122.5787805165444}, \"1250.37957204794\": {\"frequency\": 2, \"value\": 1250.37957204794}, \"4610.838605387834\": {\"frequency\": 1, \"value\": 4610.838605387834}, \"7700.819100626316\": {\"frequency\": 2, \"value\": 7700.819100626316}, \"2089.4769357184578\": {\"frequency\": 1, \"value\": 2089.4769357184578}, \"2409.732814063528\": {\"frequency\": 2, \"value\": 2409.732814063528}, \"1017.2053393614634\": {\"frequency\": 2, \"value\": 1017.2053393614634}, \"2350.8226775763624\": {\"frequency\": 1, \"value\": 2350.8226775763624}, \"2034.1545042500366\": {\"frequency\": 1, \"value\": 2034.1545042500366}, \"1171.4630990670685\": {\"frequency\": 2, \"value\": 1171.4630990670685}, \"5939.171364481573\": {\"frequency\": 2, \"value\": 5939.171364481573}, \"16234.1267266836\": {\"frequency\": 1, \"value\": 16234.1267266836}, \"13655.486131487356\": {\"frequency\": 2, \"value\": 13655.486131487356}, \"1137.2409447192256\": {\"frequency\": 1, \"value\": 1137.2409447192256}, \"1073.0265678756098\": {\"frequency\": 1, \"value\": 1073.0265678756098}, \"1421.6019263364187\": {\"frequency\": 2, \"value\": 1421.6019263364187}, \"2586.841283028421\": {\"frequency\": 2, \"value\": 2586.841283028421}, \"2821.3344568776547\": {\"frequency\": 2, \"value\": 2821.3344568776547}, \"1784.6047316703457\": {\"frequency\": 1, \"value\": 1784.6047316703457}, \"3329.5561613916666\": {\"frequency\": 2, \"value\": 3329.5561613916666}, \"2383.2924040280614\": {\"frequency\": 1, \"value\": 2383.2924040280614}, \"10062.013767147104\": {\"frequency\": 1, \"value\": 10062.013767147104}, \"1106.9083225115978\": {\"frequency\": 3, \"value\": 1106.9083225115978}, \"3486.561075136501\": {\"frequency\": 1, \"value\": 3486.561075136501}, \"1402.0071012766198\": {\"frequency\": 2, \"value\": 1402.0071012766198}, \"1256.8821031015573\": {\"frequency\": 2, \"value\": 1256.8821031015573}, \"2162.037649274421\": {\"frequency\": 1, \"value\": 2162.037649274421}, \"28155.957509875247\": {\"frequency\": 1, \"value\": 28155.957509875247}, \"4501.729617925236\": {\"frequency\": 2, \"value\": 4501.729617925236}, \"1807.910437217096\": {\"frequency\": 1, \"value\": 1807.910437217096}, \"1112.5486214220239\": {\"frequency\": 2, \"value\": 1112.5486214220239}, \"1789.0984305970057\": {\"frequency\": 1, \"value\": 1789.0984305970057}, \"1814.039349021149\": {\"frequency\": 2, \"value\": 1814.039349021149}, \"7824.784356059546\": {\"frequency\": 2, \"value\": 7824.784356059546}, \"4403.3878834267\": {\"frequency\": 2, \"value\": 4403.3878834267}, \"2327.2271560319878\": {\"frequency\": 2, \"value\": 2327.2271560319878}, \"8313.295442612349\": {\"frequency\": 1, \"value\": 8313.295442612349}, \"1005.4830651400537\": {\"frequency\": 3, \"value\": 1005.4830651400537}, \"1892.1165255607407\": {\"frequency\": 1, \"value\": 1892.1165255607407}, \"3554.442036163917\": {\"frequency\": 1, \"value\": 3554.442036163917}, \"1337.7923093201293\": {\"frequency\": 3, \"value\": 1337.7923093201293}, \"2189.2369753973153\": {\"frequency\": 1, \"value\": 2189.2369753973153}, \"2254.259440498013\": {\"frequency\": 2, \"value\": 2254.259440498013}, \"1574.988119879655\": {\"frequency\": 2, \"value\": 1574.988119879655}, \"1076.1009138822624\": {\"frequency\": 2, \"value\": 1076.1009138822624}, \"1197.7415922896867\": {\"frequency\": 1, \"value\": 1197.7415922896867}, \"1170.1766023510834\": {\"frequency\": 1, \"value\": 1170.1766023510834}, \"1082.8533619698703\": {\"frequency\": 2, \"value\": 1082.8533619698703}, \"1021.993517615447\": {\"frequency\": 1, \"value\": 1021.993517615447}, \"1153.137544192349\": {\"frequency\": 1, \"value\": 1153.137544192349}, \"37681.60459292789\": {\"frequency\": 2, \"value\": 37681.60459292789}, \"3775.0094702916263\": {\"frequency\": 1, \"value\": 3775.0094702916263}, \"4579.722081472147\": {\"frequency\": 1, \"value\": 4579.722081472147}, \"1037.1346243841783\": {\"frequency\": 1, \"value\": 1037.1346243841783}, \"14098.627811397622\": {\"frequency\": 2, \"value\": 14098.627811397622}, \"1648.2546171347199\": {\"frequency\": 1, \"value\": 1648.2546171347199}, \"2339.215562342295\": {\"frequency\": 1, \"value\": 2339.215562342295}, \"2055.141350767617\": {\"frequency\": 2, \"value\": 2055.141350767617}, \"2110.532956143948\": {\"frequency\": 2, \"value\": 2110.532956143948}, \"7080.9194307479975\": {\"frequency\": 1, \"value\": 7080.9194307479975}, \"1088.431524828715\": {\"frequency\": 2, \"value\": 1088.431524828715}, \"9732.67237380586\": {\"frequency\": 1, \"value\": 9732.67237380586}, \"2371.089616495163\": {\"frequency\": 2, \"value\": 2371.089616495163}, \"5297.249558086839\": {\"frequency\": 2, \"value\": 5297.249558086839}, \"3327.622831346605\": {\"frequency\": 1, \"value\": 3327.622831346605}, \"3244.7439287670945\": {\"frequency\": 2, \"value\": 3244.7439287670945}, \"5338.12262415829\": {\"frequency\": 2, \"value\": 5338.12262415829}, \"1073.9583915291155\": {\"frequency\": 3, \"value\": 1073.9583915291155}, \"1556.540428184368\": {\"frequency\": 1, \"value\": 1556.540428184368}, \"1125.5194332822477\": {\"frequency\": 1, \"value\": 1125.5194332822477}, \"1211.5218763307203\": {\"frequency\": 1, \"value\": 1211.5218763307203}, \"1522.542385846294\": {\"frequency\": 1, \"value\": 1522.542385846294}, \"19259.873511842092\": {\"frequency\": 1, \"value\": 19259.873511842092}, \"5119.210579448046\": {\"frequency\": 2, \"value\": 5119.210579448046}, \"1270.8925006989905\": {\"frequency\": 2, \"value\": 1270.8925006989905}, \"2320.1541428476917\": {\"frequency\": 2, \"value\": 2320.1541428476917}, \"1000.166710787584\": {\"frequency\": 1, \"value\": 1000.166710787584}, \"24015.045392653843\": {\"frequency\": 2, \"value\": 24015.045392653843}, \"2354.455913587871\": {\"frequency\": 2, \"value\": 2354.455913587871}, \"10660.214290023705\": {\"frequency\": 2, \"value\": 10660.214290023705}, \"1940.3285469866523\": {\"frequency\": 2, \"value\": 1940.3285469866523}, \"1834.6421613187028\": {\"frequency\": 2, \"value\": 1834.6421613187028}, \"5823.53102032124\": {\"frequency\": 1, \"value\": 5823.53102032124}, \"14100.1167904296\": {\"frequency\": 1, \"value\": 14100.1167904296}, \"1131.457958923195\": {\"frequency\": 2, \"value\": 1131.457958923195}, \"1090.756301758156\": {\"frequency\": 1, \"value\": 1090.756301758156}, \"2333.242098107689\": {\"frequency\": 2, \"value\": 2333.242098107689}, \"3666.782145890318\": {\"frequency\": 1, \"value\": 3666.782145890318}, \"1011.6962697628161\": {\"frequency\": 2, \"value\": 1011.6962697628161}, \"1274.386198694841\": {\"frequency\": 1, \"value\": 1274.386198694841}, \"1494.741669005161\": {\"frequency\": 2, \"value\": 1494.741669005161}, \"4801.677643522113\": {\"frequency\": 2, \"value\": 4801.677643522113}, \"138521.43540092994\": {\"frequency\": 3, \"value\": 138521.43540092994}, \"1189.9579918737043\": {\"frequency\": 1, \"value\": 1189.9579918737043}, \"3570.9091502847996\": {\"frequency\": 2, \"value\": 3570.9091502847996}, \"1179.4995240641651\": {\"frequency\": 2, \"value\": 1179.4995240641651}, \"2233.415532402846\": {\"frequency\": 2, \"value\": 2233.415532402846}, \"3166.649440952353\": {\"frequency\": 1, \"value\": 3166.649440952353}, \"1131.1504067946646\": {\"frequency\": 2, \"value\": 1131.1504067946646}, \"11181.812635964214\": {\"frequency\": 1, \"value\": 11181.812635964214}, \"1485.2099787301775\": {\"frequency\": 1, \"value\": 1485.2099787301775}, \"3981.554643958758\": {\"frequency\": 1, \"value\": 3981.554643958758}, \"1021.3659775706531\": {\"frequency\": 1, \"value\": 1021.3659775706531}, \"1112.5034415989371\": {\"frequency\": 3, \"value\": 1112.5034415989371}, \"1776.3358609557047\": {\"frequency\": 1, \"value\": 1776.3358609557047}, \"1647.5381126844584\": {\"frequency\": 1, \"value\": 1647.5381126844584}, \"2680.7871800646494\": {\"frequency\": 2, \"value\": 2680.7871800646494}, \"1736.019567852448\": {\"frequency\": 2, \"value\": 1736.019567852448}, \"2134.210040834466\": {\"frequency\": 1, \"value\": 2134.210040834466}, \"3049.4346552908755\": {\"frequency\": 2, \"value\": 3049.4346552908755}, \"1033.6489692338719\": {\"frequency\": 2, \"value\": 1033.6489692338719}, \"1084.3022925604896\": {\"frequency\": 3, \"value\": 1084.3022925604896}, \"2289.4141581278986\": {\"frequency\": 1, \"value\": 2289.4141581278986}, \"1028.3013233792126\": {\"frequency\": 3, \"value\": 1028.3013233792126}, \"1016.546907634343\": {\"frequency\": 1, \"value\": 1016.546907634343}, \"1747.2715525967362\": {\"frequency\": 1, \"value\": 1747.2715525967362}, \"1369.1949126672657\": {\"frequency\": 1, \"value\": 1369.1949126672657}, \"2522.8172494189603\": {\"frequency\": 2, \"value\": 2522.8172494189603}, \"20057.41553283474\": {\"frequency\": 1, \"value\": 20057.41553283474}, \"1179.2901325114497\": {\"frequency\": 1, \"value\": 1179.2901325114497}, \"4727.242570807591\": {\"frequency\": 2, \"value\": 4727.242570807591}, \"1787.6333999109438\": {\"frequency\": 1, \"value\": 1787.6333999109438}, \"2328.081255181857\": {\"frequency\": 1, \"value\": 2328.081255181857}, \"1848.9883829172807\": {\"frequency\": 1, \"value\": 1848.9883829172807}, \"2199.0545599846905\": {\"frequency\": 1, \"value\": 2199.0545599846905}, \"1154.6216958981759\": {\"frequency\": 2, \"value\": 1154.6216958981759}, \"1148.4268746038258\": {\"frequency\": 2, \"value\": 1148.4268746038258}, \"3550.096860144442\": {\"frequency\": 2, \"value\": 3550.096860144442}, \"2208.7346146863842\": {\"frequency\": 1, \"value\": 2208.7346146863842}, \"1154.5411357944197\": {\"frequency\": 2, \"value\": 1154.5411357944197}, \"2555.2004392452727\": {\"frequency\": 2, \"value\": 2555.2004392452727}, \"34108.707040281035\": {\"frequency\": 2, \"value\": 34108.707040281035}, \"5104.895045571454\": {\"frequency\": 1, \"value\": 5104.895045571454}, \"23950.119314345873\": {\"frequency\": 1, \"value\": 23950.119314345873}, \"1779.8731809666863\": {\"frequency\": 2, \"value\": 1779.8731809666863}, \"1085.1163515883525\": {\"frequency\": 2, \"value\": 1085.1163515883525}, \"1002.3194073138276\": {\"frequency\": 1, \"value\": 1002.3194073138276}, \"1291.2940889306744\": {\"frequency\": 2, \"value\": 1291.2940889306744}, \"11434.364462637168\": {\"frequency\": 1, \"value\": 11434.364462637168}, \"1968.1100163187175\": {\"frequency\": 2, \"value\": 1968.1100163187175}, \"4224.686167519392\": {\"frequency\": 1, \"value\": 4224.686167519392}, \"2604.7278511887944\": {\"frequency\": 2, \"value\": 2604.7278511887944}, \"1510.2833668114783\": {\"frequency\": 1, \"value\": 1510.2833668114783}, \"3588.420267008339\": {\"frequency\": 2, \"value\": 3588.420267008339}, \"1435.1484205395166\": {\"frequency\": 2, \"value\": 1435.1484205395166}, \"1719.7880350861103\": {\"frequency\": 1, \"value\": 1719.7880350861103}, \"5287.690178518209\": {\"frequency\": 1, \"value\": 5287.690178518209}, \"1127.4630743860346\": {\"frequency\": 1, \"value\": 1127.4630743860346}, \"28463.268610516137\": {\"frequency\": 1, \"value\": 28463.268610516137}, \"4074.4818196905253\": {\"frequency\": 2, \"value\": 4074.4818196905253}, \"1142.214545342767\": {\"frequency\": 3, \"value\": 1142.214545342767}, \"1992.039258497359\": {\"frequency\": 1, \"value\": 1992.039258497359}, \"2336.3841890783024\": {\"frequency\": 2, \"value\": 2336.3841890783024}, \"1427.3483564594362\": {\"frequency\": 1, \"value\": 1427.3483564594362}, \"3962.7958082866417\": {\"frequency\": 2, \"value\": 3962.7958082866417}, \"1043.3034403415186\": {\"frequency\": 1, \"value\": 1043.3034403415186}, \"1829.2043203875462\": {\"frequency\": 2, \"value\": 1829.2043203875462}, \"2521.3627448834277\": {\"frequency\": 1, \"value\": 2521.3627448834277}, \"931583.4909664245\": {\"frequency\": 3, \"value\": 931583.4909664245}, \"1162.8537406116359\": {\"frequency\": 1, \"value\": 1162.8537406116359}, \"7349.440360337609\": {\"frequency\": 2, \"value\": 7349.440360337609}, \"1202.3770724132642\": {\"frequency\": 1, \"value\": 1202.3770724132642}, \"1351.95140124645\": {\"frequency\": 1, \"value\": 1351.95140124645}, \"1085.317125866507\": {\"frequency\": 2, \"value\": 1085.317125866507}, \"5414.4696834969045\": {\"frequency\": 1, \"value\": 5414.4696834969045}, \"15127.033158328131\": {\"frequency\": 1, \"value\": 15127.033158328131}, \"1720.8019991793087\": {\"frequency\": 1, \"value\": 1720.8019991793087}, \"1841.0646972405177\": {\"frequency\": 2, \"value\": 1841.0646972405177}, \"2379.0883800243914\": {\"frequency\": 1, \"value\": 2379.0883800243914}, \"1446.9146734268782\": {\"frequency\": 2, \"value\": 1446.9146734268782}, \"1371.8933145199644\": {\"frequency\": 1, \"value\": 1371.8933145199644}, \"1379.7024005076453\": {\"frequency\": 3, \"value\": 1379.7024005076453}, \"2062.053241215271\": {\"frequency\": 2, \"value\": 2062.053241215271}, \"2605.841329507086\": {\"frequency\": 2, \"value\": 2605.841329507086}, \"1537.9367796273507\": {\"frequency\": 1, \"value\": 1537.9367796273507}, \"1686.6228352060211\": {\"frequency\": 1, \"value\": 1686.6228352060211}, \"1156.671178234057\": {\"frequency\": 3, \"value\": 1156.671178234057}, \"1446.3987210595035\": {\"frequency\": 3, \"value\": 1446.3987210595035}, \"2477.2486206348035\": {\"frequency\": 2, \"value\": 2477.2486206348035}, \"11559.459362807029\": {\"frequency\": 1, \"value\": 11559.459362807029}, \"6352.921121550584\": {\"frequency\": 2, \"value\": 6352.921121550584}, \"28107.106485653203\": {\"frequency\": 1, \"value\": 28107.106485653203}, \"1334.0383665724362\": {\"frequency\": 1, \"value\": 1334.0383665724362}, \"1039.1633823359973\": {\"frequency\": 2, \"value\": 1039.1633823359973}, \"14671.675953838563\": {\"frequency\": 2, \"value\": 14671.675953838563}, \"1146.304517111253\": {\"frequency\": 1, \"value\": 1146.304517111253}, \"1048.25178403377\": {\"frequency\": 2, \"value\": 1048.25178403377}, \"3150.92154373406\": {\"frequency\": 1, \"value\": 3150.92154373406}, \"11171.451811039315\": {\"frequency\": 1, \"value\": 11171.451811039315}, \"4335.452471020069\": {\"frequency\": 1, \"value\": 4335.452471020069}, \"3466.729171229135\": {\"frequency\": 2, \"value\": 3466.729171229135}, \"10385.494845207168\": {\"frequency\": 1, \"value\": 10385.494845207168}, \"10079.080811429058\": {\"frequency\": 1, \"value\": 10079.080811429058}, \"1594.128555310456\": {\"frequency\": 1, \"value\": 1594.128555310456}, \"1325.250560544353\": {\"frequency\": 2, \"value\": 1325.250560544353}, \"1039.9383282344634\": {\"frequency\": 1, \"value\": 1039.9383282344634}, \"13087.313611990194\": {\"frequency\": 2, \"value\": 13087.313611990194}, \"2154.846390563585\": {\"frequency\": 2, \"value\": 2154.846390563585}, \"1031.8431178703393\": {\"frequency\": 1, \"value\": 1031.8431178703393}, \"2318.842495151344\": {\"frequency\": 1, \"value\": 2318.842495151344}, \"3101.9811861252824\": {\"frequency\": 1, \"value\": 3101.9811861252824}, \"3673.317137781491\": {\"frequency\": 1, \"value\": 3673.317137781491}, \"2502.33980033969\": {\"frequency\": 1, \"value\": 2502.33980033969}, \"1187.038457398481\": {\"frequency\": 2, \"value\": 1187.038457398481}, \"83499.18011874834\": {\"frequency\": 3, \"value\": 83499.18011874834}, \"6465.455003423089\": {\"frequency\": 1, \"value\": 6465.455003423089}, \"2318.760529734385\": {\"frequency\": 1, \"value\": 2318.760529734385}, \"3059.4763509225477\": {\"frequency\": 2, \"value\": 3059.4763509225477}, \"1285.9413025006884\": {\"frequency\": 1, \"value\": 1285.9413025006884}, \"3433.2909817364794\": {\"frequency\": 1, \"value\": 3433.2909817364794}, \"12318.58512956732\": {\"frequency\": 2, \"value\": 12318.58512956732}, \"1099.676171415421\": {\"frequency\": 1, \"value\": 1099.676171415421}, \"1162.4379723754782\": {\"frequency\": 2, \"value\": 1162.4379723754782}, \"1499.2958038834477\": {\"frequency\": 2, \"value\": 1499.2958038834477}, \"3062.4241219032956\": {\"frequency\": 2, \"value\": 3062.4241219032956}, \"3654.164854108278\": {\"frequency\": 2, \"value\": 3654.164854108278}, \"2599.4247746036244\": {\"frequency\": 2, \"value\": 2599.4247746036244}, \"1139.8006943335836\": {\"frequency\": 2, \"value\": 1139.8006943335836}, \"14987.448527299877\": {\"frequency\": 2, \"value\": 14987.448527299877}, \"1143.5999551672278\": {\"frequency\": 1, \"value\": 1143.5999551672278}, \"1137.2523657144977\": {\"frequency\": 2, \"value\": 1137.2523657144977}, \"10395.88221320483\": {\"frequency\": 1, \"value\": 10395.88221320483}, \"8119.212595277205\": {\"frequency\": 2, \"value\": 8119.212595277205}, \"1050.9388992339652\": {\"frequency\": 1, \"value\": 1050.9388992339652}, \"1135.8822598416043\": {\"frequency\": 1, \"value\": 1135.8822598416043}, \"3054.661017292918\": {\"frequency\": 1, \"value\": 3054.661017292918}, \"3608.874890747683\": {\"frequency\": 2, \"value\": 3608.874890747683}, \"1772.1015123483626\": {\"frequency\": 1, \"value\": 1772.1015123483626}, \"19314.866445506803\": {\"frequency\": 2, \"value\": 19314.866445506803}, \"9259.073864386815\": {\"frequency\": 1, \"value\": 9259.073864386815}, \"3680.8553856718145\": {\"frequency\": 1, \"value\": 3680.8553856718145}, \"3560.709622676765\": {\"frequency\": 1, \"value\": 3560.709622676765}, \"1254.408652764889\": {\"frequency\": 2, \"value\": 1254.408652764889}, \"1021.0090157181522\": {\"frequency\": 3, \"value\": 1021.0090157181522}, \"2608.1038316229497\": {\"frequency\": 2, \"value\": 2608.1038316229497}, \"21853.765274266756\": {\"frequency\": 1, \"value\": 21853.765274266756}, \"1559.4867995703119\": {\"frequency\": 2, \"value\": 1559.4867995703119}, \"2093.131806577086\": {\"frequency\": 2, \"value\": 2093.131806577086}, \"10383.554580282682\": {\"frequency\": 2, \"value\": 10383.554580282682}, \"4471.228470710216\": {\"frequency\": 1, \"value\": 4471.228470710216}, \"2593.762678914231\": {\"frequency\": 1, \"value\": 2593.762678914231}, \"2377.1787124270986\": {\"frequency\": 2, \"value\": 2377.1787124270986}, \"11091.250058729256\": {\"frequency\": 2, \"value\": 11091.250058729256}, \"1355.91797824175\": {\"frequency\": 1, \"value\": 1355.91797824175}, \"3474.9131061779512\": {\"frequency\": 2, \"value\": 3474.9131061779512}, \"1613.890639274286\": {\"frequency\": 1, \"value\": 1613.890639274286}, \"1476.504071640939\": {\"frequency\": 1, \"value\": 1476.504071640939}, \"1810.3520661434188\": {\"frequency\": 1, \"value\": 1810.3520661434188}, \"1706.4798210258016\": {\"frequency\": 2, \"value\": 1706.4798210258016}, \"2046.087420642302\": {\"frequency\": 2, \"value\": 2046.087420642302}, \"2068.342811791393\": {\"frequency\": 1, \"value\": 2068.342811791393}, \"2016.5888951206816\": {\"frequency\": 2, \"value\": 2016.5888951206816}, \"2891.6758505339285\": {\"frequency\": 1, \"value\": 2891.6758505339285}, \"1067.7539448020302\": {\"frequency\": 2, \"value\": 1067.7539448020302}, \"1018.7173074007719\": {\"frequency\": 2, \"value\": 1018.7173074007719}, \"1661.5522915531953\": {\"frequency\": 1, \"value\": 1661.5522915531953}, \"1901.2324680175557\": {\"frequency\": 1, \"value\": 1901.2324680175557}, \"1950.6123514234841\": {\"frequency\": 1, \"value\": 1950.6123514234841}, \"12710.883206155057\": {\"frequency\": 1, \"value\": 12710.883206155057}, \"1161.941458739047\": {\"frequency\": 2, \"value\": 1161.941458739047}, \"2631.868275151947\": {\"frequency\": 1, \"value\": 2631.868275151947}, \"1140.1094318559258\": {\"frequency\": 1, \"value\": 1140.1094318559258}, \"4437.011960344906\": {\"frequency\": 2, \"value\": 4437.011960344906}, \"1521.1792630601592\": {\"frequency\": 1, \"value\": 1521.1792630601592}, \"1493.4829748159211\": {\"frequency\": 2, \"value\": 1493.4829748159211}, \"1337.9658877966076\": {\"frequency\": 1, \"value\": 1337.9658877966076}, \"1630.7183321000919\": {\"frequency\": 2, \"value\": 1630.7183321000919}, \"1070.1338634958438\": {\"frequency\": 2, \"value\": 1070.1338634958438}, \"1917.7895636740823\": {\"frequency\": 2, \"value\": 1917.7895636740823}, \"8959.883435019605\": {\"frequency\": 2, \"value\": 8959.883435019605}, \"1412.6792797919586\": {\"frequency\": 2, \"value\": 1412.6792797919586}, \"2338.573411524821\": {\"frequency\": 2, \"value\": 2338.573411524821}, \"1077.9009642799558\": {\"frequency\": 2, \"value\": 1077.9009642799558}, \"1193.0098519703593\": {\"frequency\": 2, \"value\": 1193.0098519703593}, \"2129.2472546644863\": {\"frequency\": 1, \"value\": 2129.2472546644863}, \"2415.386908313064\": {\"frequency\": 1, \"value\": 2415.386908313064}, \"25711.798414313904\": {\"frequency\": 1, \"value\": 25711.798414313904}, \"3977.444528836382\": {\"frequency\": 2, \"value\": 3977.444528836382}, \"2260.2422227086704\": {\"frequency\": 1, \"value\": 2260.2422227086704}, \"9469.172721765182\": {\"frequency\": 1, \"value\": 9469.172721765182}, \"2495.2209196788153\": {\"frequency\": 2, \"value\": 2495.2209196788153}, \"24358.841454248133\": {\"frequency\": 2, \"value\": 24358.841454248133}, \"1163.0963067644427\": {\"frequency\": 1, \"value\": 1163.0963067644427}, \"4606.986807703758\": {\"frequency\": 2, \"value\": 4606.986807703758}, \"1821.5123330262043\": {\"frequency\": 1, \"value\": 1821.5123330262043}, \"9307.931165214344\": {\"frequency\": 1, \"value\": 9307.931165214344}, \"2550.344990194883\": {\"frequency\": 1, \"value\": 2550.344990194883}, \"2015.3219126716492\": {\"frequency\": 1, \"value\": 2015.3219126716492}, \"1505.659691084567\": {\"frequency\": 2, \"value\": 1505.659691084567}, \"1008.1035855590242\": {\"frequency\": 2, \"value\": 1008.1035855590242}, \"4502.721271668427\": {\"frequency\": 2, \"value\": 4502.721271668427}, \"1917.9532708052388\": {\"frequency\": 1, \"value\": 1917.9532708052388}, \"3297.6711910631416\": {\"frequency\": 1, \"value\": 3297.6711910631416}, \"1034.6178227271514\": {\"frequency\": 1, \"value\": 1034.6178227271514}, \"9256.98067216481\": {\"frequency\": 2, \"value\": 9256.98067216481}, \"1017.3025032332614\": {\"frequency\": 1, \"value\": 1017.3025032332614}, \"1716.8605093650467\": {\"frequency\": 1, \"value\": 1716.8605093650467}, \"2094.7503195091404\": {\"frequency\": 2, \"value\": 2094.7503195091404}, \"6047.447923284571\": {\"frequency\": 1, \"value\": 6047.447923284571}, \"1363.368028662147\": {\"frequency\": 2, \"value\": 1363.368028662147}, \"1028.3121783848653\": {\"frequency\": 2, \"value\": 1028.3121783848653}, \"4298.965517410339\": {\"frequency\": 2, \"value\": 4298.965517410339}, \"3451.6774072925145\": {\"frequency\": 2, \"value\": 3451.6774072925145}, \"58368.33388646349\": {\"frequency\": 2, \"value\": 58368.33388646349}, \"1419.2887555947198\": {\"frequency\": 2, \"value\": 1419.2887555947198}, \"9002.728117304374\": {\"frequency\": 2, \"value\": 9002.728117304374}, \"1288.032416867808\": {\"frequency\": 2, \"value\": 1288.032416867808}, \"1265.004114323417\": {\"frequency\": 2, \"value\": 1265.004114323417}, \"1093.856166336381\": {\"frequency\": 1, \"value\": 1093.856166336381}, \"1477.5729654851186\": {\"frequency\": 2, \"value\": 1477.5729654851186}, \"2035.3507992076957\": {\"frequency\": 2, \"value\": 2035.3507992076957}, \"1003.8201772602441\": {\"frequency\": 1, \"value\": 1003.8201772602441}, \"1310.9149140619224\": {\"frequency\": 2, \"value\": 1310.9149140619224}, \"2183.493891747493\": {\"frequency\": 2, \"value\": 2183.493891747493}, \"9672.107346802635\": {\"frequency\": 2, \"value\": 9672.107346802635}, \"2120.592201518137\": {\"frequency\": 2, \"value\": 2120.592201518137}, \"2063.3041967438944\": {\"frequency\": 1, \"value\": 2063.3041967438944}, \"1875.4961348132886\": {\"frequency\": 2, \"value\": 1875.4961348132886}, \"6462.723689037663\": {\"frequency\": 2, \"value\": 6462.723689037663}, \"2059.490761299752\": {\"frequency\": 1, \"value\": 2059.490761299752}, \"1735.7649128364137\": {\"frequency\": 1, \"value\": 1735.7649128364137}, \"20628.652723150484\": {\"frequency\": 1, \"value\": 20628.652723150484}, \"1594.6028088237717\": {\"frequency\": 1, \"value\": 1594.6028088237717}, \"1233.3171713155946\": {\"frequency\": 2, \"value\": 1233.3171713155946}, \"1278.890415452224\": {\"frequency\": 1, \"value\": 1278.890415452224}, \"4283.130025652612\": {\"frequency\": 1, \"value\": 4283.130025652612}, \"1938.9963766104497\": {\"frequency\": 1, \"value\": 1938.9963766104497}, \"1136.4758699820413\": {\"frequency\": 2, \"value\": 1136.4758699820413}, \"1005.1825697439674\": {\"frequency\": 2, \"value\": 1005.1825697439674}, \"1766.501758980127\": {\"frequency\": 2, \"value\": 1766.501758980127}, \"4859.833211867535\": {\"frequency\": 1, \"value\": 4859.833211867535}, \"2312.8629040825085\": {\"frequency\": 2, \"value\": 2312.8629040825085}, \"1280.0662228349008\": {\"frequency\": 1, \"value\": 1280.0662228349008}, \"2995.928348739264\": {\"frequency\": 2, \"value\": 2995.928348739264}, \"1047.6819041247422\": {\"frequency\": 1, \"value\": 1047.6819041247422}, \"1297.207347045443\": {\"frequency\": 2, \"value\": 1297.207347045443}, \"2316.9576645227544\": {\"frequency\": 1, \"value\": 2316.9576645227544}, \"991.1849744876137\": {\"frequency\": 1, \"value\": 991.1849744876137}, \"1005.4723323815961\": {\"frequency\": 1, \"value\": 1005.4723323815961}, \"2835.4879710468717\": {\"frequency\": 1, \"value\": 2835.4879710468717}, \"1090.44320517546\": {\"frequency\": 2, \"value\": 1090.44320517546}, \"3170.0153206312602\": {\"frequency\": 2, \"value\": 3170.0153206312602}, \"1857.588227880939\": {\"frequency\": 1, \"value\": 1857.588227880939}, \"2198.4323283062786\": {\"frequency\": 1, \"value\": 2198.4323283062786}, \"3111.768267375386\": {\"frequency\": 1, \"value\": 3111.768267375386}, \"6450.579514390329\": {\"frequency\": 2, \"value\": 6450.579514390329}, \"1108.497421547895\": {\"frequency\": 3, \"value\": 1108.497421547895}, \"3428.8825603253604\": {\"frequency\": 2, \"value\": 3428.8825603253604}, \"1271.8470438143395\": {\"frequency\": 2, \"value\": 1271.8470438143395}, \"1031.3973396814292\": {\"frequency\": 2, \"value\": 1031.3973396814292}, \"1422.8807390663867\": {\"frequency\": 2, \"value\": 1422.8807390663867}, \"1370.750872118707\": {\"frequency\": 2, \"value\": 1370.750872118707}, \"11093.112486094356\": {\"frequency\": 1, \"value\": 11093.112486094356}, \"8878.02264447867\": {\"frequency\": 2, \"value\": 8878.02264447867}, \"1818.1504557829269\": {\"frequency\": 1, \"value\": 1818.1504557829269}, \"1117.0599637040805\": {\"frequency\": 2, \"value\": 1117.0599637040805}, \"3896.7302865718316\": {\"frequency\": 2, \"value\": 3896.7302865718316}, \"8509.128251571758\": {\"frequency\": 1, \"value\": 8509.128251571758}, \"2810.63461089782\": {\"frequency\": 1, \"value\": 2810.63461089782}, \"1333.8031486188452\": {\"frequency\": 1, \"value\": 1333.8031486188452}, \"5777.357134691534\": {\"frequency\": 2, \"value\": 5777.357134691534}, \"21853.0536100108\": {\"frequency\": 1, \"value\": 21853.0536100108}, \"2756.677604608962\": {\"frequency\": 2, \"value\": 2756.677604608962}, \"3065.713739735287\": {\"frequency\": 2, \"value\": 3065.713739735287}, \"3721.089631979915\": {\"frequency\": 2, \"value\": 3721.089631979915}, \"12821.9331502461\": {\"frequency\": 1, \"value\": 12821.9331502461}, \"2554.40809340641\": {\"frequency\": 1, \"value\": 2554.40809340641}, \"1108.7567454691748\": {\"frequency\": 3, \"value\": 1108.7567454691748}, \"1008.3937726053575\": {\"frequency\": 1, \"value\": 1008.3937726053575}, \"2870.134662838422\": {\"frequency\": 1, \"value\": 2870.134662838422}, \"1943.248973715083\": {\"frequency\": 2, \"value\": 1943.248973715083}, \"3967.135654481159\": {\"frequency\": 1, \"value\": 3967.135654481159}, \"1067.2782819690703\": {\"frequency\": 1, \"value\": 1067.2782819690703}, \"1034.1278957440866\": {\"frequency\": 1, \"value\": 1034.1278957440866}, \"1823.513566823986\": {\"frequency\": 2, \"value\": 1823.513566823986}, \"1791.3114944778065\": {\"frequency\": 1, \"value\": 1791.3114944778065}, \"1192.2260474905088\": {\"frequency\": 1, \"value\": 1192.2260474905088}, \"2185.9110952494057\": {\"frequency\": 1, \"value\": 2185.9110952494057}, \"4730.744069840193\": {\"frequency\": 1, \"value\": 4730.744069840193}, \"3461.6142275993816\": {\"frequency\": 2, \"value\": 3461.6142275993816}, \"1215.286445017711\": {\"frequency\": 1, \"value\": 1215.286445017711}, \"11179.60537633644\": {\"frequency\": 2, \"value\": 11179.60537633644}, \"4093.4902132416432\": {\"frequency\": 2, \"value\": 4093.4902132416432}, \"1744.589836764864\": {\"frequency\": 1, \"value\": 1744.589836764864}, \"1425.8242174837303\": {\"frequency\": 2, \"value\": 1425.8242174837303}, \"4610.511721185606\": {\"frequency\": 1, \"value\": 4610.511721185606}, \"1566.2876001798072\": {\"frequency\": 1, \"value\": 1566.2876001798072}, \"10787.539122429482\": {\"frequency\": 1, \"value\": 10787.539122429482}, \"1056.5986434693416\": {\"frequency\": 1, \"value\": 1056.5986434693416}, \"8108.834033876239\": {\"frequency\": 2, \"value\": 8108.834033876239}, \"2401.848475784425\": {\"frequency\": 2, \"value\": 2401.848475784425}, \"1722.5771662503287\": {\"frequency\": 1, \"value\": 1722.5771662503287}, \"1106.5591004665016\": {\"frequency\": 2, \"value\": 1106.5591004665016}, \"1420.1831258734255\": {\"frequency\": 1, \"value\": 1420.1831258734255}, \"3728.050836489599\": {\"frequency\": 1, \"value\": 3728.050836489599}, \"2951.599668875159\": {\"frequency\": 1, \"value\": 2951.599668875159}, \"5326.812647365804\": {\"frequency\": 1, \"value\": 5326.812647365804}, \"1421.8320696684766\": {\"frequency\": 2, \"value\": 1421.8320696684766}, \"1515.151898697788\": {\"frequency\": 1, \"value\": 1515.151898697788}, \"14748.922256404074\": {\"frequency\": 1, \"value\": 14748.922256404074}, \"2410.3848642708494\": {\"frequency\": 2, \"value\": 2410.3848642708494}, \"2436.1036295160543\": {\"frequency\": 1, \"value\": 2436.1036295160543}, \"1061.876524681843\": {\"frequency\": 3, \"value\": 1061.876524681843}, \"3553.0545460639114\": {\"frequency\": 2, \"value\": 3553.0545460639114}, \"7129.912369771071\": {\"frequency\": 2, \"value\": 7129.912369771071}, \"2211.9181050680504\": {\"frequency\": 1, \"value\": 2211.9181050680504}, \"1215.7352823482684\": {\"frequency\": 2, \"value\": 1215.7352823482684}, \"1943.7134524483104\": {\"frequency\": 2, \"value\": 1943.7134524483104}, \"1301.2019354002343\": {\"frequency\": 1, \"value\": 1301.2019354002343}, \"5579.154625421375\": {\"frequency\": 2, \"value\": 5579.154625421375}, \"1057.655360046356\": {\"frequency\": 1, \"value\": 1057.655360046356}, \"23292.829832213156\": {\"frequency\": 1, \"value\": 23292.829832213156}, \"2624.1964754325263\": {\"frequency\": 2, \"value\": 2624.1964754325263}, \"6376.113659674903\": {\"frequency\": 2, \"value\": 6376.113659674903}, \"3863.976768078322\": {\"frequency\": 2, \"value\": 3863.976768078322}, \"1017.5508321759968\": {\"frequency\": 1, \"value\": 1017.5508321759968}, \"2731.6643064836057\": {\"frequency\": 1, \"value\": 2731.6643064836057}, \"3106.396740796878\": {\"frequency\": 2, \"value\": 3106.396740796878}, \"4028.6740874569136\": {\"frequency\": 1, \"value\": 4028.6740874569136}, \"10236.743240301324\": {\"frequency\": 2, \"value\": 10236.743240301324}, \"1165.8009156542992\": {\"frequency\": 2, \"value\": 1165.8009156542992}, \"1172.9707148211196\": {\"frequency\": 1, \"value\": 1172.9707148211196}, \"19968.009996373723\": {\"frequency\": 2, \"value\": 19968.009996373723}, \"1124.6788503931423\": {\"frequency\": 1, \"value\": 1124.6788503931423}, \"1149.4830554277728\": {\"frequency\": 1, \"value\": 1149.4830554277728}, \"1677.6422362992625\": {\"frequency\": 1, \"value\": 1677.6422362992625}, \"28155.064201117773\": {\"frequency\": 2, \"value\": 28155.064201117773}, \"6145.514268306542\": {\"frequency\": 2, \"value\": 6145.514268306542}, \"6729.449819507173\": {\"frequency\": 2, \"value\": 6729.449819507173}, \"2504.11261503933\": {\"frequency\": 1, \"value\": 2504.11261503933}, \"3253.375326249508\": {\"frequency\": 1, \"value\": 3253.375326249508}, \"1875.3048525936354\": {\"frequency\": 2, \"value\": 1875.3048525936354}, \"5361.588564149077\": {\"frequency\": 2, \"value\": 5361.588564149077}, \"3500.638037562837\": {\"frequency\": 2, \"value\": 3500.638037562837}, \"1063.2781053127785\": {\"frequency\": 1, \"value\": 1063.2781053127785}, \"2568.3440977055793\": {\"frequency\": 1, \"value\": 2568.3440977055793}, \"1754.1627728090175\": {\"frequency\": 1, \"value\": 1754.1627728090175}, \"1660.8190266611168\": {\"frequency\": 1, \"value\": 1660.8190266611168}, \"1548.9064313523847\": {\"frequency\": 1, \"value\": 1548.9064313523847}, \"3252.2835730205175\": {\"frequency\": 1, \"value\": 3252.2835730205175}, \"1029.7238213956673\": {\"frequency\": 2, \"value\": 1029.7238213956673}, \"1426.4132827062133\": {\"frequency\": 3, \"value\": 1426.4132827062133}, \"3457.750395443923\": {\"frequency\": 1, \"value\": 3457.750395443923}, \"1417.4242725403087\": {\"frequency\": 2, \"value\": 1417.4242725403087}, \"3500.860752915519\": {\"frequency\": 1, \"value\": 3500.860752915519}, \"1688.505574250711\": {\"frequency\": 2, \"value\": 1688.505574250711}, \"1438.670616225158\": {\"frequency\": 2, \"value\": 1438.670616225158}, \"4018.514086660813\": {\"frequency\": 2, \"value\": 4018.514086660813}, \"1916.4652854384638\": {\"frequency\": 2, \"value\": 1916.4652854384638}, \"2053.677177779854\": {\"frequency\": 1, \"value\": 2053.677177779854}, \"5740.090962236976\": {\"frequency\": 2, \"value\": 5740.090962236976}, \"1227.1139857079302\": {\"frequency\": 2, \"value\": 1227.1139857079302}, \"1778.8703387533262\": {\"frequency\": 2, \"value\": 1778.8703387533262}, \"1041.8605777414916\": {\"frequency\": 1, \"value\": 1041.8605777414916}, \"1501.0431973978937\": {\"frequency\": 1, \"value\": 1501.0431973978937}, \"7932.9872610930815\": {\"frequency\": 2, \"value\": 7932.9872610930815}, \"4051.5444376776004\": {\"frequency\": 1, \"value\": 4051.5444376776004}, \"21498.558702602953\": {\"frequency\": 1, \"value\": 21498.558702602953}, \"2478.961447110352\": {\"frequency\": 2, \"value\": 2478.961447110352}, \"1773.3884402813937\": {\"frequency\": 1, \"value\": 1773.3884402813937}, \"51282.19581940947\": {\"frequency\": 1, \"value\": 51282.19581940947}, \"7975.6182467904755\": {\"frequency\": 2, \"value\": 7975.6182467904755}, \"13741.845877181082\": {\"frequency\": 2, \"value\": 13741.845877181082}, \"15715.349978000437\": {\"frequency\": 1, \"value\": 15715.349978000437}, \"1280.4663643314439\": {\"frequency\": 1, \"value\": 1280.4663643314439}, \"1065.7966698896562\": {\"frequency\": 2, \"value\": 1065.7966698896562}, \"20285.41080905437\": {\"frequency\": 2, \"value\": 20285.41080905437}, \"2196.0240212530366\": {\"frequency\": 1, \"value\": 2196.0240212530366}, \"1620.4143568552024\": {\"frequency\": 1, \"value\": 1620.4143568552024}, \"1521.642390732467\": {\"frequency\": 2, \"value\": 1521.642390732467}, \"1069.3254982276314\": {\"frequency\": 3, \"value\": 1069.3254982276314}, \"3270.6148476013354\": {\"frequency\": 2, \"value\": 3270.6148476013354}, \"2656.1822536446584\": {\"frequency\": 1, \"value\": 2656.1822536446584}, \"3668.8560959190813\": {\"frequency\": 2, \"value\": 3668.8560959190813}, \"1181.7342025386206\": {\"frequency\": 1, \"value\": 1181.7342025386206}, \"1126.2239495807455\": {\"frequency\": 2, \"value\": 1126.2239495807455}, \"1861.7931357418756\": {\"frequency\": 1, \"value\": 1861.7931357418756}, \"5951.679011214761\": {\"frequency\": 2, \"value\": 5951.679011214761}, \"1974.9168262884837\": {\"frequency\": 1, \"value\": 1974.9168262884837}, \"1820.7585344969757\": {\"frequency\": 3, \"value\": 1820.7585344969757}, \"24005.085517410585\": {\"frequency\": 2, \"value\": 24005.085517410585}, \"6481.911512617674\": {\"frequency\": 2, \"value\": 6481.911512617674}, \"3774.8200206377624\": {\"frequency\": 2, \"value\": 3774.8200206377624}, \"1727.964699773429\": {\"frequency\": 2, \"value\": 1727.964699773429}, \"19466.98996060563\": {\"frequency\": 1, \"value\": 19466.98996060563}, \"1203.0467367788806\": {\"frequency\": 2, \"value\": 1203.0467367788806}, \"2227.806367881839\": {\"frequency\": 1, \"value\": 2227.806367881839}, \"2919.5114556212156\": {\"frequency\": 1, \"value\": 2919.5114556212156}, \"2584.900134892395\": {\"frequency\": 1, \"value\": 2584.900134892395}, \"1058.679562568217\": {\"frequency\": 1, \"value\": 1058.679562568217}, \"1468.2269296022603\": {\"frequency\": 2, \"value\": 1468.2269296022603}, \"2805.572581431825\": {\"frequency\": 2, \"value\": 2805.572581431825}, \"4081.426518891128\": {\"frequency\": 2, \"value\": 4081.426518891128}, \"3785.563246985737\": {\"frequency\": 2, \"value\": 3785.563246985737}, \"6610.18509267975\": {\"frequency\": 1, \"value\": 6610.18509267975}, \"22678.562985450462\": {\"frequency\": 1, \"value\": 22678.562985450462}, \"1883.0228528680311\": {\"frequency\": 1, \"value\": 1883.0228528680311}, \"1392.4510796530421\": {\"frequency\": 1, \"value\": 1392.4510796530421}, \"2606.4851701844304\": {\"frequency\": 1, \"value\": 2606.4851701844304}, \"1146.1898515679993\": {\"frequency\": 1, \"value\": 1146.1898515679993}, \"1044.3534278145444\": {\"frequency\": 2, \"value\": 1044.3534278145444}, \"24378.881434671344\": {\"frequency\": 1, \"value\": 24378.881434671344}, \"1374.6195438387429\": {\"frequency\": 3, \"value\": 1374.6195438387429}, \"15393.777230237758\": {\"frequency\": 1, \"value\": 15393.777230237758}, \"1432.015546231105\": {\"frequency\": 1, \"value\": 1432.015546231105}, \"4184.023127941244\": {\"frequency\": 1, \"value\": 4184.023127941244}, \"2612.9803239541743\": {\"frequency\": 1, \"value\": 2612.9803239541743}, \"1318.0790322623611\": {\"frequency\": 1, \"value\": 1318.0790322623611}, \"1414.068779436279\": {\"frequency\": 2, \"value\": 1414.068779436279}, \"1228.419855787678\": {\"frequency\": 2, \"value\": 1228.419855787678}, \"12421.89795716263\": {\"frequency\": 1, \"value\": 12421.89795716263}, \"3744.9696133870816\": {\"frequency\": 1, \"value\": 3744.9696133870816}, \"16232.468301220812\": {\"frequency\": 1, \"value\": 16232.468301220812}, \"2903.341691983217\": {\"frequency\": 2, \"value\": 2903.341691983217}, \"2907.2049856913864\": {\"frequency\": 1, \"value\": 2907.2049856913864}, \"1324.5473249081112\": {\"frequency\": 2, \"value\": 1324.5473249081112}, \"996.7870920129308\": {\"frequency\": 1, \"value\": 996.7870920129308}, \"1018.9225903723378\": {\"frequency\": 2, \"value\": 1018.9225903723378}, \"1747.6264335083354\": {\"frequency\": 1, \"value\": 1747.6264335083354}, \"1513.1586672389592\": {\"frequency\": 1, \"value\": 1513.1586672389592}, \"2437.3310088053026\": {\"frequency\": 2, \"value\": 2437.3310088053026}, \"2360.1923376961327\": {\"frequency\": 2, \"value\": 2360.1923376961327}, \"1172.0892205291789\": {\"frequency\": 2, \"value\": 1172.0892205291789}, \"2051.3818078762165\": {\"frequency\": 2, \"value\": 2051.3818078762165}, \"1356.5546744715575\": {\"frequency\": 1, \"value\": 1356.5546744715575}, \"1127.5654181943232\": {\"frequency\": 1, \"value\": 1127.5654181943232}, \"3853.0126800918165\": {\"frequency\": 1, \"value\": 3853.0126800918165}}, \"mean\": 7032.081547492885}, \"selected_variable\": {\"name\": [\"<SArray>\"], \"dtype\": \"float\", \"view_component\": \"Numeric\", \"view_file\": \"sarray\", \"descriptives\": {\"rows\": 3153}, \"type\": \"SArray\", \"view_components\": [\"Numeric\", \"Categorical\"]}, \"histogram\": {\"progress\": 1.0, \"histogram\": {\"max\": 943336.9733029758, \"bins\": [3117, 18, 3, 6, 6, 0, 0, 0, 0, 0, 0, 3], \"min\": -8495.783624827163}, \"min\": 0.0, \"complete\": 1, \"max\": 931583.4909664245}}, e);\n",
       "                });\n",
       "            })();\n",
       "        "
      ]
     },
     "metadata": {},
     "output_type": "display_data"
    }
   ],
   "source": [
    "sf_el['kin_energy_from_vel'].show()"
   ]
  },
  {
   "cell_type": "code",
   "execution_count": 29,
   "metadata": {
    "collapsed": false
   },
   "outputs": [
    {
     "data": {
      "text/plain": [
       "3153"
      ]
     },
     "execution_count": 29,
     "metadata": {},
     "output_type": "execute_result"
    }
   ],
   "source": [
    "sf_el.num_rows()"
   ]
  },
  {
   "cell_type": "markdown",
   "metadata": {},
   "source": [
    "# Average energy loss by protons"
   ]
  },
  {
   "cell_type": "code",
   "execution_count": 30,
   "metadata": {
    "collapsed": true
   },
   "outputs": [],
   "source": [
    "protons = sf[sf['particle_name']=='proton']"
   ]
  },
  {
   "cell_type": "code",
   "execution_count": 31,
   "metadata": {
    "collapsed": false
   },
   "outputs": [
    {
     "data": {
      "text/plain": [
       "18001032"
      ]
     },
     "execution_count": 31,
     "metadata": {},
     "output_type": "execute_result"
    }
   ],
   "source": [
    "protons.num_rows()"
   ]
  },
  {
   "cell_type": "code",
   "execution_count": 32,
   "metadata": {
    "collapsed": false
   },
   "outputs": [],
   "source": [
    "protons_resume = protons.groupby(key_columns='count_particle',\n",
    "                        operations={'sum_energy_deposit': graphlab.aggregate.SUM('energy_deposit'),\n",
    "                                       'num_steps':graphlab.aggregate.COUNT(),\n",
    "                                   'sum_dE':graphlab.aggregate.SUM('dE')\n",
    "                                   })"
   ]
  },
  {
   "cell_type": "code",
   "execution_count": 33,
   "metadata": {
    "collapsed": false
   },
   "outputs": [
    {
     "data": {
      "text/plain": [
       "['process_name',\n",
       " 'next_vol',\n",
       " 'mom_x',\n",
       " 'mom_dir_z',\n",
       " 'mom_dir_y',\n",
       " 'step_number',\n",
       " 'dE',\n",
       " 'particle_name',\n",
       " 'mom_dir_x',\n",
       " 'count_particle',\n",
       " 'parent_id',\n",
       " 'position_z',\n",
       " 'total_energy',\n",
       " 'position_x',\n",
       " 'position_y',\n",
       " 'velocity',\n",
       " 'kinetic_energy',\n",
       " 'track_id',\n",
       " 'mom_y',\n",
       " 'energy_deposit',\n",
       " 'mom_z']"
      ]
     },
     "execution_count": 33,
     "metadata": {},
     "output_type": "execute_result"
    }
   ],
   "source": [
    "protons.column_names()"
   ]
  },
  {
   "cell_type": "code",
   "execution_count": 34,
   "metadata": {
    "collapsed": false
   },
   "outputs": [
    {
     "data": {
      "application/javascript": [
       "$(\"head\").append($(\"<link/>\").attr({\n",
       "  rel:  \"stylesheet\",\n",
       "  type: \"text/css\",\n",
       "  href: \"//cdnjs.cloudflare.com/ajax/libs/font-awesome/4.1.0/css/font-awesome.min.css\"\n",
       "}));\n",
       "$(\"head\").append($(\"<link/>\").attr({\n",
       "  rel:  \"stylesheet\",\n",
       "  type: \"text/css\",\n",
       "  href: \"https://static.turi.com/products/graphlab-create/2.1/canvas/css/canvas.css\"\n",
       "}));\n",
       "\n",
       "            (function(){\n",
       "\n",
       "                var e = null;\n",
       "                if (typeof element == 'undefined') {\n",
       "                    var scripts = document.getElementsByTagName('script');\n",
       "                    var thisScriptTag = scripts[scripts.length-1];\n",
       "                    var parentDiv = thisScriptTag.parentNode;\n",
       "                    e = document.createElement('div');\n",
       "                    parentDiv.appendChild(e);\n",
       "                } else {\n",
       "                    e = element[0];\n",
       "                }\n",
       "\n",
       "                if (typeof requirejs !== 'undefined') {\n",
       "                    // disable load timeout; ipython_app.js is large and can take a while to load.\n",
       "                    requirejs.config({waitSeconds: 0});\n",
       "                }\n",
       "\n",
       "                require(['https://static.turi.com/products/graphlab-create/2.1/canvas/js/ipython_app.js'], function(IPythonApp){\n",
       "                    var app = new IPythonApp();\n",
       "                    app.attachView('sarray','Numeric', {\"ipython\": true, \"sketch\": {\"std\": 1.1932977877782513e-10, \"complete\": true, \"min\": 1.9941999999999993e-05, \"max\": 1.9951999999999995e-05, \"quantile\": [1.9941999999999993e-05, 1.9949999999999994e-05, 1.9949999999999994e-05, 1.9949999999999994e-05, 1.9949999999999994e-05, 1.9949999999999994e-05, 1.9949999999999994e-05, 1.9949999999999994e-05, 1.9949999999999994e-05, 1.9949999999999994e-05, 1.9949999999999994e-05, 1.9949999999999994e-05, 1.9949999999999994e-05, 1.9949999999999994e-05, 1.9949999999999994e-05, 1.9949999999999994e-05, 1.9949999999999994e-05, 1.9949999999999994e-05, 1.9949999999999994e-05, 1.9949999999999994e-05, 1.9949999999999994e-05, 1.9949999999999994e-05, 1.9949999999999994e-05, 1.9949999999999994e-05, 1.9949999999999994e-05, 1.9949999999999994e-05, 1.9949999999999994e-05, 1.9949999999999994e-05, 1.9949999999999994e-05, 1.9949999999999994e-05, 1.9949999999999994e-05, 1.9949999999999994e-05, 1.9949999999999994e-05, 1.9949999999999994e-05, 1.9949999999999994e-05, 1.9949999999999994e-05, 1.9949999999999994e-05, 1.9949999999999994e-05, 1.9949999999999994e-05, 1.9949999999999994e-05, 1.9949999999999994e-05, 1.9949999999999994e-05, 1.9949999999999994e-05, 1.9949999999999994e-05, 1.9949999999999994e-05, 1.9949999999999994e-05, 1.9949999999999994e-05, 1.9949999999999994e-05, 1.9949999999999994e-05, 1.9949999999999994e-05, 1.9949999999999994e-05, 1.9949999999999994e-05, 1.9949999999999994e-05, 1.9949999999999994e-05, 1.9949999999999994e-05, 1.9949999999999994e-05, 1.9949999999999994e-05, 1.9949999999999994e-05, 1.9949999999999994e-05, 1.9949999999999994e-05, 1.9949999999999994e-05, 1.9949999999999994e-05, 1.9949999999999994e-05, 1.9949999999999994e-05, 1.9949999999999994e-05, 1.9949999999999994e-05, 1.9949999999999994e-05, 1.9949999999999994e-05, 1.9949999999999994e-05, 1.9949999999999994e-05, 1.9949999999999994e-05, 1.9949999999999994e-05, 1.9949999999999994e-05, 1.9949999999999994e-05, 1.9949999999999994e-05, 1.9949999999999994e-05, 1.9949999999999994e-05, 1.9949999999999994e-05, 1.9949999999999994e-05, 1.9949999999999994e-05, 1.9949999999999994e-05, 1.9949999999999994e-05, 1.9949999999999994e-05, 1.9949999999999994e-05, 1.9949999999999994e-05, 1.9949999999999994e-05, 1.9949999999999994e-05, 1.9949999999999994e-05, 1.9949999999999994e-05, 1.9949999999999994e-05, 1.9949999999999994e-05, 1.9949999999999994e-05, 1.9949999999999994e-05, 1.9949999999999994e-05, 1.9949999999999994e-05, 1.9949999999999994e-05, 1.9949999999999994e-05, 1.9949999999999994e-05, 1.9949999999999994e-05, 1.9949999999999994e-05, 1.9951999999999995e-05], \"median\": 1.9949999999999994e-05, \"numeric\": true, \"num_unique\": 126, \"num_undefined\": 0, \"var\": 1.4239596103164685e-20, \"progress\": 1.0, \"size\": 999999, \"frequent_items\": {\"1.9943799999999994e-05\": {\"frequency\": 1, \"value\": 1.9943799999999994e-05}, \"1.9947699999999995e-05\": {\"frequency\": 3, \"value\": 1.9947699999999995e-05}, \"1.9943999999999994e-05\": {\"frequency\": 23, \"value\": 1.9943999999999994e-05}, \"1.9951599999999994e-05\": {\"frequency\": 2, \"value\": 1.9951599999999994e-05}, \"1.9947299999999995e-05\": {\"frequency\": 3, \"value\": 1.9947299999999995e-05}, \"1.9946399999999996e-05\": {\"frequency\": 1, \"value\": 1.9946399999999996e-05}, \"1.9951199999999996e-05\": {\"frequency\": 3, \"value\": 1.9951199999999996e-05}, \"1.9942999999999992e-05\": {\"frequency\": 19, \"value\": 1.9942999999999992e-05}, \"1.9946899999999994e-05\": {\"frequency\": 1, \"value\": 1.9946899999999994e-05}, \"1.9950799999999992e-05\": {\"frequency\": 4, \"value\": 1.9950799999999992e-05}, \"1.995049999999999e-05\": {\"frequency\": 1, \"value\": 1.995049999999999e-05}, \"1.9946499999999993e-05\": {\"frequency\": 1, \"value\": 1.9946499999999993e-05}, \"1.9948999999999995e-05\": {\"frequency\": 18, \"value\": 1.9948999999999995e-05}, \"1.9950399999999995e-05\": {\"frequency\": 1, \"value\": 1.9950399999999995e-05}, \"1.9942199999999993e-05\": {\"frequency\": 1, \"value\": 1.9942199999999993e-05}, \"1.9950299999999994e-05\": {\"frequency\": 1, \"value\": 1.9950299999999994e-05}, \"1.9949999999999997e-05\": {\"frequency\": 7, \"value\": 1.9949999999999997e-05}, \"1.9945699999999994e-05\": {\"frequency\": 2, \"value\": 1.9945699999999994e-05}, \"1.9943399999999993e-05\": {\"frequency\": 2, \"value\": 1.9943399999999993e-05}, \"1.9949599999999996e-05\": {\"frequency\": 1, \"value\": 1.9949599999999996e-05}, \"1.9945299999999994e-05\": {\"frequency\": 1, \"value\": 1.9945299999999994e-05}, \"1.994879999999999e-05\": {\"frequency\": 1, \"value\": 1.994879999999999e-05}, \"1.9949199999999995e-05\": {\"frequency\": 2, \"value\": 1.9949199999999995e-05}, \"1.9943029999999994e-05\": {\"frequency\": 1, \"value\": 1.9943029999999994e-05}, \"1.9942949999999992e-05\": {\"frequency\": 1, \"value\": 1.9942949999999992e-05}, \"1.9944899999999993e-05\": {\"frequency\": 1, \"value\": 1.9944899999999993e-05}, \"1.995029999999999e-05\": {\"frequency\": 1, \"value\": 1.995029999999999e-05}, \"1.9944499999999992e-05\": {\"frequency\": 1, \"value\": 1.9944499999999992e-05}, \"1.9943199999999992e-05\": {\"frequency\": 1, \"value\": 1.9943199999999992e-05}, \"1.9948399999999994e-05\": {\"frequency\": 1, \"value\": 1.9948399999999994e-05}, \"1.9944099999999994e-05\": {\"frequency\": 2, \"value\": 1.9944099999999994e-05}, \"1.9947999999999996e-05\": {\"frequency\": 14, \"value\": 1.9947999999999996e-05}, \"1.9943699999999997e-05\": {\"frequency\": 1, \"value\": 1.9943699999999997e-05}, \"1.9947599999999992e-05\": {\"frequency\": 1, \"value\": 1.9947599999999992e-05}, \"1.9943299999999996e-05\": {\"frequency\": 2, \"value\": 1.9943299999999996e-05}, \"1.9942999999999995e-05\": {\"frequency\": 17, \"value\": 1.9942999999999995e-05}, \"1.994289999999999e-05\": {\"frequency\": 1, \"value\": 1.994289999999999e-05}, \"1.9942899999999995e-05\": {\"frequency\": 2, \"value\": 1.9942899999999995e-05}, \"1.9946799999999993e-05\": {\"frequency\": 2, \"value\": 1.9946799999999993e-05}, \"1.9942499999999994e-05\": {\"frequency\": 1, \"value\": 1.9942499999999994e-05}, \"1.9945599999999994e-05\": {\"frequency\": 1, \"value\": 1.9945599999999994e-05}, \"1.9946399999999993e-05\": {\"frequency\": 1, \"value\": 1.9946399999999993e-05}, \"1.9950299999999998e-05\": {\"frequency\": 1, \"value\": 1.9950299999999998e-05}, \"1.9942099999999993e-05\": {\"frequency\": 2, \"value\": 1.9942099999999993e-05}, \"1.9950999999999996e-05\": {\"frequency\": 13, \"value\": 1.9950999999999996e-05}, \"1.9949899999999993e-05\": {\"frequency\": 1, \"value\": 1.9949899999999993e-05}, \"1.9948199999999996e-05\": {\"frequency\": 1, \"value\": 1.9948199999999996e-05}, \"1.994559999999999e-05\": {\"frequency\": 1, \"value\": 1.994559999999999e-05}, \"1.9949499999999993e-05\": {\"frequency\": 1, \"value\": 1.9949499999999993e-05}, \"1.9951529999999992e-05\": {\"frequency\": 1, \"value\": 1.9951529999999992e-05}, \"1.994269999999999e-05\": {\"frequency\": 1, \"value\": 1.994269999999999e-05}, \"1.9945199999999993e-05\": {\"frequency\": 1, \"value\": 1.9945199999999993e-05}, \"1.9949259999999993e-05\": {\"frequency\": 1, \"value\": 1.9949259999999993e-05}, \"1.994259999999999e-05\": {\"frequency\": 1, \"value\": 1.994259999999999e-05}, \"1.9944799999999996e-05\": {\"frequency\": 1, \"value\": 1.9944799999999996e-05}, \"1.9948779999999993e-05\": {\"frequency\": 1, \"value\": 1.9948779999999993e-05}, \"1.9948699999999994e-05\": {\"frequency\": 1, \"value\": 1.9948699999999994e-05}, \"1.9947999999999993e-05\": {\"frequency\": 17, \"value\": 1.9947999999999993e-05}, \"1.9947799999999992e-05\": {\"frequency\": 1, \"value\": 1.9947799999999992e-05}, \"1.9944399999999995e-05\": {\"frequency\": 1, \"value\": 1.9944399999999995e-05}, \"1.9943399999999996e-05\": {\"frequency\": 1, \"value\": 1.9943399999999996e-05}, \"1.9942799999999995e-05\": {\"frequency\": 1, \"value\": 1.9942799999999995e-05}, \"1.9943999999999997e-05\": {\"frequency\": 3, \"value\": 1.9943999999999997e-05}, \"1.9947899999999996e-05\": {\"frequency\": 1, \"value\": 1.9947899999999996e-05}, \"1.9950599999999995e-05\": {\"frequency\": 2, \"value\": 1.9950599999999995e-05}, \"1.9943599999999997e-05\": {\"frequency\": 1, \"value\": 1.9943599999999997e-05}, \"1.9951399999999997e-05\": {\"frequency\": 1, \"value\": 1.9951399999999997e-05}, \"1.9943699999999993e-05\": {\"frequency\": 2, \"value\": 1.9943699999999993e-05}, \"1.9947099999999994e-05\": {\"frequency\": 1, \"value\": 1.9947099999999994e-05}, \"1.9950699999999992e-05\": {\"frequency\": 1, \"value\": 1.9950699999999992e-05}, \"1.9944999999999996e-05\": {\"frequency\": 11, \"value\": 1.9944999999999996e-05}, \"1.9950999999999992e-05\": {\"frequency\": 23, \"value\": 1.9950999999999992e-05}, \"1.9946699999999997e-05\": {\"frequency\": 1, \"value\": 1.9946699999999997e-05}, \"1.9946619999999994e-05\": {\"frequency\": 1, \"value\": 1.9946619999999994e-05}, \"1.995059999999999e-05\": {\"frequency\": 2, \"value\": 1.995059999999999e-05}, \"1.9947599999999995e-05\": {\"frequency\": 1, \"value\": 1.9947599999999995e-05}, \"1.9941999999999993e-05\": {\"frequency\": 16, \"value\": 1.9941999999999993e-05}, \"1.9944799999999992e-05\": {\"frequency\": 1, \"value\": 1.9944799999999992e-05}, \"1.9949799999999997e-05\": {\"frequency\": 1, \"value\": 1.9949799999999997e-05}, \"1.9945419999999995e-05\": {\"frequency\": 1, \"value\": 1.9945419999999995e-05}, \"1.9941999999999996e-05\": {\"frequency\": 10, \"value\": 1.9941999999999996e-05}, \"1.994599999999999e-05\": {\"frequency\": 25, \"value\": 1.994599999999999e-05}, \"1.994899999999999e-05\": {\"frequency\": 17, \"value\": 1.994899999999999e-05}, \"1.9948839999999994e-05\": {\"frequency\": 1, \"value\": 1.9948839999999994e-05}, \"1.9944699999999996e-05\": {\"frequency\": 2, \"value\": 1.9944699999999996e-05}, \"1.9945999999999995e-05\": {\"frequency\": 34, \"value\": 1.9945999999999995e-05}, \"1.994999999999999e-05\": {\"frequency\": 2, \"value\": 1.994999999999999e-05}, \"1.9948199999999993e-05\": {\"frequency\": 1, \"value\": 1.9948199999999993e-05}, \"1.9943899999999994e-05\": {\"frequency\": 2, \"value\": 1.9943899999999994e-05}, \"1.994787999999999e-05\": {\"frequency\": 1, \"value\": 1.994787999999999e-05}, \"1.9947799999999996e-05\": {\"frequency\": 3, \"value\": 1.9947799999999996e-05}, \"1.9951699999999994e-05\": {\"frequency\": 1, \"value\": 1.9951699999999994e-05}, \"1.9947399999999995e-05\": {\"frequency\": 1, \"value\": 1.9947399999999995e-05}, \"1.9943259999999996e-05\": {\"frequency\": 1, \"value\": 1.9943259999999996e-05}, \"1.9947239999999994e-05\": {\"frequency\": 1, \"value\": 1.9947239999999994e-05}, \"1.9943099999999995e-05\": {\"frequency\": 2, \"value\": 1.9943099999999995e-05}, \"1.9946999999999994e-05\": {\"frequency\": 458, \"value\": 1.9946999999999994e-05}, \"1.9951999999999995e-05\": {\"frequency\": 11, \"value\": 1.9951999999999995e-05}, \"1.995019999999999e-05\": {\"frequency\": 2, \"value\": 1.995019999999999e-05}, \"1.9942699999999995e-05\": {\"frequency\": 1, \"value\": 1.9942699999999995e-05}, \"1.9946999999999997e-05\": {\"frequency\": 85, \"value\": 1.9946999999999997e-05}, \"1.9950499999999995e-05\": {\"frequency\": 1, \"value\": 1.9950499999999995e-05}, \"1.9942299999999994e-05\": {\"frequency\": 1, \"value\": 1.9942299999999994e-05}, \"1.9946499999999996e-05\": {\"frequency\": 1, \"value\": 1.9946499999999996e-05}, \"1.9942139999999993e-05\": {\"frequency\": 1, \"value\": 1.9942139999999993e-05}, \"1.9946199999999992e-05\": {\"frequency\": 1, \"value\": 1.9946199999999992e-05}, \"1.9950099999999994e-05\": {\"frequency\": 3, \"value\": 1.9950099999999994e-05}, \"1.9949599999999993e-05\": {\"frequency\": 2, \"value\": 1.9949599999999993e-05}, \"1.9943499999999993e-05\": {\"frequency\": 1, \"value\": 1.9943499999999993e-05}, \"1.994579999999999e-05\": {\"frequency\": 2, \"value\": 1.994579999999999e-05}, \"1.9949699999999996e-05\": {\"frequency\": 1, \"value\": 1.9949699999999996e-05}, \"1.9950899999999992e-05\": {\"frequency\": 2, \"value\": 1.9950899999999992e-05}, \"1.9951599999999997e-05\": {\"frequency\": 1, \"value\": 1.9951599999999997e-05}, \"1.994734999999999e-05\": {\"frequency\": 1, \"value\": 1.994734999999999e-05}, \"1.994399999999999e-05\": {\"frequency\": 11, \"value\": 1.994399999999999e-05}, \"1.9944999999999993e-05\": {\"frequency\": 18, \"value\": 1.9944999999999993e-05}, \"1.994439999999999e-05\": {\"frequency\": 1, \"value\": 1.994439999999999e-05}, \"1.9948899999999995e-05\": {\"frequency\": 1, \"value\": 1.9948899999999995e-05}, \"1.9949399999999996e-05\": {\"frequency\": 1, \"value\": 1.9949399999999996e-05}, \"1.9949999999999994e-05\": {\"frequency\": 998975, \"value\": 1.9949999999999994e-05}, \"1.9948499999999994e-05\": {\"frequency\": 1, \"value\": 1.9948499999999994e-05}, \"1.994249999999999e-05\": {\"frequency\": 2, \"value\": 1.994249999999999e-05}, \"1.9948099999999993e-05\": {\"frequency\": 2, \"value\": 1.9948099999999993e-05}, \"1.994699999999999e-05\": {\"frequency\": 26, \"value\": 1.994699999999999e-05}, \"1.9950699999999995e-05\": {\"frequency\": 1, \"value\": 1.9950699999999995e-05}, \"1.995199999999999e-05\": {\"frequency\": 11, \"value\": 1.995199999999999e-05}}, \"mean\": 1.9949996806796808e-05}, \"selected_variable\": {\"name\": [\"<SArray>\"], \"dtype\": \"float\", \"view_component\": \"Numeric\", \"view_file\": \"sarray\", \"descriptives\": {\"rows\": 999999}, \"type\": \"SArray\", \"view_components\": [\"Numeric\", \"Categorical\"]}, \"histogram\": {\"progress\": 1.0, \"histogram\": {\"max\": 1.9954388999999993e-05, \"bins\": [0, 31, 59, 52, 98, 580, 53, 49, 999004, 51, 22, 0], \"min\": 1.994002499999999e-05}, \"min\": 1.9941999999999993e-05, \"complete\": 1, \"max\": 1.9951999999999995e-05}}, e);\n",
       "                });\n",
       "            })();\n",
       "        "
      ]
     },
     "metadata": {},
     "output_type": "display_data"
    }
   ],
   "source": [
    "protons_resume['sum_dE'].show()"
   ]
  },
  {
   "cell_type": "code",
   "execution_count": 35,
   "metadata": {
    "collapsed": false
   },
   "outputs": [
    {
     "data": {
      "text/plain": [
       "2658.2277289972899"
      ]
     },
     "execution_count": 35,
     "metadata": {},
     "output_type": "execute_result"
    }
   ],
   "source": [
    "elec_generated.sum()"
   ]
  },
  {
   "cell_type": "markdown",
   "metadata": {
    "collapsed": true
   },
   "source": [
    "# Questions Patric - 30.08"
   ]
  },
  {
   "cell_type": "markdown",
   "metadata": {},
   "source": [
    "1 - Number of secondary particles generated\n",
    "\n",
    "2 - Amount of energy lost by protons who generated electrons\n",
    "\n",
    "3 - Plot energy loss as scatter (exact x,y position, whatever energy lost)\n",
    "\n",
    "4 - Plot energy deposited by electrons"
   ]
  },
  {
   "cell_type": "code",
   "execution_count": 36,
   "metadata": {
    "collapsed": false
   },
   "outputs": [
    {
     "data": {
      "text/html": [
       "<pre>Finished parsing file /Users/gabrielfior/data_mpp2/400GeV_15steps_full.csv</pre>"
      ],
      "text/plain": [
       "Finished parsing file /Users/gabrielfior/data_mpp2/400GeV_15steps_full.csv"
      ]
     },
     "metadata": {},
     "output_type": "display_data"
    },
    {
     "data": {
      "text/html": [
       "<pre>Parsing completed. Parsed 100 lines in 1.98879 secs.</pre>"
      ],
      "text/plain": [
       "Parsing completed. Parsed 100 lines in 1.98879 secs."
      ]
     },
     "metadata": {},
     "output_type": "display_data"
    },
    {
     "data": {
      "text/html": [
       "<pre>Read 480146 lines. Lines per second: 213698</pre>"
      ],
      "text/plain": [
       "Read 480146 lines. Lines per second: 213698"
      ]
     },
     "metadata": {},
     "output_type": "display_data"
    },
    {
     "data": {
      "text/html": [
       "<pre>Read 2861602 lines. Lines per second: 367473</pre>"
      ],
      "text/plain": [
       "Read 2861602 lines. Lines per second: 367473"
      ]
     },
     "metadata": {},
     "output_type": "display_data"
    },
    {
     "data": {
      "text/html": [
       "<pre>Read 5231389 lines. Lines per second: 391443</pre>"
      ],
      "text/plain": [
       "Read 5231389 lines. Lines per second: 391443"
      ]
     },
     "metadata": {},
     "output_type": "display_data"
    },
    {
     "data": {
      "text/html": [
       "<pre>Read 7599625 lines. Lines per second: 402110</pre>"
      ],
      "text/plain": [
       "Read 7599625 lines. Lines per second: 402110"
      ]
     },
     "metadata": {},
     "output_type": "display_data"
    },
    {
     "data": {
      "text/html": [
       "<pre>Read 9968151 lines. Lines per second: 407477</pre>"
      ],
      "text/plain": [
       "Read 9968151 lines. Lines per second: 407477"
      ]
     },
     "metadata": {},
     "output_type": "display_data"
    },
    {
     "data": {
      "text/html": [
       "<pre>Read 12335863 lines. Lines per second: 412336</pre>"
      ],
      "text/plain": [
       "Read 12335863 lines. Lines per second: 412336"
      ]
     },
     "metadata": {},
     "output_type": "display_data"
    },
    {
     "data": {
      "text/html": [
       "<pre>Read 14704594 lines. Lines per second: 414883</pre>"
      ],
      "text/plain": [
       "Read 14704594 lines. Lines per second: 414883"
      ]
     },
     "metadata": {},
     "output_type": "display_data"
    },
    {
     "data": {
      "text/html": [
       "<pre>Read 17073575 lines. Lines per second: 416997</pre>"
      ],
      "text/plain": [
       "Read 17073575 lines. Lines per second: 416997"
      ]
     },
     "metadata": {},
     "output_type": "display_data"
    },
    {
     "data": {
      "text/html": [
       "<pre>Finished parsing file /Users/gabrielfior/data_mpp2/400GeV_15steps_full.csv</pre>"
      ],
      "text/plain": [
       "Finished parsing file /Users/gabrielfior/data_mpp2/400GeV_15steps_full.csv"
      ]
     },
     "metadata": {},
     "output_type": "display_data"
    },
    {
     "data": {
      "text/html": [
       "<pre>Parsing completed. Parsed 18004185 lines in 42.4436 secs.</pre>"
      ],
      "text/plain": [
       "Parsing completed. Parsed 18004185 lines in 42.4436 secs."
      ]
     },
     "metadata": {},
     "output_type": "display_data"
    },
    {
     "name": "stdout",
     "output_type": "stream",
     "text": [
      "------------------------------------------------------\n",
      "Inferred types from first 100 line(s) of file as \n",
      "column_type_hints=[str,str,int,int,int,int,float,str,int,int,int,int,int,int,int,float,int,int,int,float,int]\n",
      "If parsing fails due to incorrect types, you can correct\n",
      "the inferred type list above and pass it to read_csv in\n",
      "the column_type_hints argument\n",
      "------------------------------------------------------\n"
     ]
    }
   ],
   "source": [
    "sf = graphlab.SFrame.read_csv(full_csv_path)    "
   ]
  },
  {
   "cell_type": "code",
   "execution_count": 37,
   "metadata": {
    "collapsed": false
   },
   "outputs": [],
   "source": [
    "#el_resume = sf_el.groupby(key_columns='count_particle',\n",
    "#                        operations={'sum_energy_deposit': graphlab.aggregate.SUM('energy_deposit'),\n",
    "#                                       'num_steps':graphlab.aggregate.COUNT()})\n",
    "sf['position_r'] = sf.apply(get_radial_value)\n",
    "sf['num_e_gen'] = sf.apply(lambda x: return_num_electrons(x,'avg',4.1))\n",
    "sf['kin_energy_from_vel'] = sf.apply(get_kinetic_energy_from_vel)\n",
    "sf['energy_deposit_eV']=sf['energy_deposit']*1e6 #convert to ev"
   ]
  },
  {
   "cell_type": "code",
   "execution_count": 38,
   "metadata": {
    "collapsed": false
   },
   "outputs": [
    {
     "data": {
      "text/plain": [
       "['process_name',\n",
       " 'next_vol',\n",
       " 'mom_x',\n",
       " 'mom_dir_z',\n",
       " 'mom_dir_y',\n",
       " 'step_number',\n",
       " 'dE',\n",
       " 'particle_name',\n",
       " 'mom_dir_x',\n",
       " 'count_particle',\n",
       " 'parent_id',\n",
       " 'position_z',\n",
       " 'total_energy',\n",
       " 'position_x',\n",
       " 'position_y',\n",
       " 'velocity',\n",
       " 'kinetic_energy',\n",
       " 'track_id',\n",
       " 'mom_y',\n",
       " 'energy_deposit',\n",
       " 'mom_z',\n",
       " 'position_r',\n",
       " 'num_e_gen',\n",
       " 'kin_energy_from_vel',\n",
       " 'energy_deposit_eV']"
      ]
     },
     "execution_count": 38,
     "metadata": {},
     "output_type": "execute_result"
    }
   ],
   "source": [
    "sf.column_names()"
   ]
  },
  {
   "cell_type": "code",
   "execution_count": 39,
   "metadata": {
    "collapsed": false
   },
   "outputs": [],
   "source": [
    "el_ids=sf[sf['particle_name']=='e-']['count_particle'].unique() #284571,15383"
   ]
  },
  {
   "cell_type": "code",
   "execution_count": 40,
   "metadata": {
    "collapsed": false
   },
   "outputs": [
    {
     "data": {
      "text/html": [
       "<div style=\"max-height:1000px;max-width:1500px;overflow:auto;\"><table frame=\"box\" rules=\"cols\">\n",
       "    <tr>\n",
       "        <th style=\"padding-left: 1em; padding-right: 1em; text-align: center\">process_name</th>\n",
       "        <th style=\"padding-left: 1em; padding-right: 1em; text-align: center\">next_vol</th>\n",
       "        <th style=\"padding-left: 1em; padding-right: 1em; text-align: center\">mom_x</th>\n",
       "        <th style=\"padding-left: 1em; padding-right: 1em; text-align: center\">mom_dir_z</th>\n",
       "        <th style=\"padding-left: 1em; padding-right: 1em; text-align: center\">mom_dir_y</th>\n",
       "        <th style=\"padding-left: 1em; padding-right: 1em; text-align: center\">step_number</th>\n",
       "        <th style=\"padding-left: 1em; padding-right: 1em; text-align: center\">dE</th>\n",
       "        <th style=\"padding-left: 1em; padding-right: 1em; text-align: center\">particle_name</th>\n",
       "        <th style=\"padding-left: 1em; padding-right: 1em; text-align: center\">mom_dir_x</th>\n",
       "    </tr>\n",
       "    <tr>\n",
       "        <td style=\"padding-left: 1em; padding-right: 1em; text-align: center; vertical-align: top\">initStep</td>\n",
       "        <td style=\"padding-left: 1em; padding-right: 1em; text-align: center; vertical-align: top\">World</td>\n",
       "        <td style=\"padding-left: 1em; padding-right: 1em; text-align: center; vertical-align: top\">0</td>\n",
       "        <td style=\"padding-left: 1em; padding-right: 1em; text-align: center; vertical-align: top\">1</td>\n",
       "        <td style=\"padding-left: 1em; padding-right: 1em; text-align: center; vertical-align: top\">0</td>\n",
       "        <td style=\"padding-left: 1em; padding-right: 1em; text-align: center; vertical-align: top\">0</td>\n",
       "        <td style=\"padding-left: 1em; padding-right: 1em; text-align: center; vertical-align: top\">0.0</td>\n",
       "        <td style=\"padding-left: 1em; padding-right: 1em; text-align: center; vertical-align: top\">proton</td>\n",
       "        <td style=\"padding-left: 1em; padding-right: 1em; text-align: center; vertical-align: top\">0</td>\n",
       "    </tr>\n",
       "    <tr>\n",
       "        <td style=\"padding-left: 1em; padding-right: 1em; text-align: center; vertical-align: top\">Transportation</td>\n",
       "        <td style=\"padding-left: 1em; padding-right: 1em; text-align: center; vertical-align: top\">Abso</td>\n",
       "        <td style=\"padding-left: 1em; padding-right: 1em; text-align: center; vertical-align: top\">0</td>\n",
       "        <td style=\"padding-left: 1em; padding-right: 1em; text-align: center; vertical-align: top\">1</td>\n",
       "        <td style=\"padding-left: 1em; padding-right: 1em; text-align: center; vertical-align: top\">0</td>\n",
       "        <td style=\"padding-left: 1em; padding-right: 1em; text-align: center; vertical-align: top\">1</td>\n",
       "        <td style=\"padding-left: 1em; padding-right: 1em; text-align: center; vertical-align: top\">5.92e-24</td>\n",
       "        <td style=\"padding-left: 1em; padding-right: 1em; text-align: center; vertical-align: top\">proton</td>\n",
       "        <td style=\"padding-left: 1em; padding-right: 1em; text-align: center; vertical-align: top\">0</td>\n",
       "    </tr>\n",
       "    <tr>\n",
       "        <td style=\"padding-left: 1em; padding-right: 1em; text-align: center; vertical-align: top\">Transportation</td>\n",
       "        <td style=\"padding-left: 1em; padding-right: 1em; text-align: center; vertical-align: top\">Abso</td>\n",
       "        <td style=\"padding-left: 1em; padding-right: 1em; text-align: center; vertical-align: top\">0</td>\n",
       "        <td style=\"padding-left: 1em; padding-right: 1em; text-align: center; vertical-align: top\">1</td>\n",
       "        <td style=\"padding-left: 1em; padding-right: 1em; text-align: center; vertical-align: top\">0</td>\n",
       "        <td style=\"padding-left: 1em; padding-right: 1em; text-align: center; vertical-align: top\">2</td>\n",
       "        <td style=\"padding-left: 1em; padding-right: 1em; text-align: center; vertical-align: top\">1.33e-06</td>\n",
       "        <td style=\"padding-left: 1em; padding-right: 1em; text-align: center; vertical-align: top\">proton</td>\n",
       "        <td style=\"padding-left: 1em; padding-right: 1em; text-align: center; vertical-align: top\">0</td>\n",
       "    </tr>\n",
       "    <tr>\n",
       "        <td style=\"padding-left: 1em; padding-right: 1em; text-align: center; vertical-align: top\">Transportation</td>\n",
       "        <td style=\"padding-left: 1em; padding-right: 1em; text-align: center; vertical-align: top\">Abso</td>\n",
       "        <td style=\"padding-left: 1em; padding-right: 1em; text-align: center; vertical-align: top\">0</td>\n",
       "        <td style=\"padding-left: 1em; padding-right: 1em; text-align: center; vertical-align: top\">1</td>\n",
       "        <td style=\"padding-left: 1em; padding-right: 1em; text-align: center; vertical-align: top\">0</td>\n",
       "        <td style=\"padding-left: 1em; padding-right: 1em; text-align: center; vertical-align: top\">3</td>\n",
       "        <td style=\"padding-left: 1em; padding-right: 1em; text-align: center; vertical-align: top\">1.33e-06</td>\n",
       "        <td style=\"padding-left: 1em; padding-right: 1em; text-align: center; vertical-align: top\">proton</td>\n",
       "        <td style=\"padding-left: 1em; padding-right: 1em; text-align: center; vertical-align: top\">0</td>\n",
       "    </tr>\n",
       "    <tr>\n",
       "        <td style=\"padding-left: 1em; padding-right: 1em; text-align: center; vertical-align: top\">Transportation</td>\n",
       "        <td style=\"padding-left: 1em; padding-right: 1em; text-align: center; vertical-align: top\">Abso</td>\n",
       "        <td style=\"padding-left: 1em; padding-right: 1em; text-align: center; vertical-align: top\">0</td>\n",
       "        <td style=\"padding-left: 1em; padding-right: 1em; text-align: center; vertical-align: top\">1</td>\n",
       "        <td style=\"padding-left: 1em; padding-right: 1em; text-align: center; vertical-align: top\">0</td>\n",
       "        <td style=\"padding-left: 1em; padding-right: 1em; text-align: center; vertical-align: top\">4</td>\n",
       "        <td style=\"padding-left: 1em; padding-right: 1em; text-align: center; vertical-align: top\">1.33e-06</td>\n",
       "        <td style=\"padding-left: 1em; padding-right: 1em; text-align: center; vertical-align: top\">proton</td>\n",
       "        <td style=\"padding-left: 1em; padding-right: 1em; text-align: center; vertical-align: top\">0</td>\n",
       "    </tr>\n",
       "    <tr>\n",
       "        <td style=\"padding-left: 1em; padding-right: 1em; text-align: center; vertical-align: top\">Transportation</td>\n",
       "        <td style=\"padding-left: 1em; padding-right: 1em; text-align: center; vertical-align: top\">Abso</td>\n",
       "        <td style=\"padding-left: 1em; padding-right: 1em; text-align: center; vertical-align: top\">0</td>\n",
       "        <td style=\"padding-left: 1em; padding-right: 1em; text-align: center; vertical-align: top\">1</td>\n",
       "        <td style=\"padding-left: 1em; padding-right: 1em; text-align: center; vertical-align: top\">7</td>\n",
       "        <td style=\"padding-left: 1em; padding-right: 1em; text-align: center; vertical-align: top\">5</td>\n",
       "        <td style=\"padding-left: 1em; padding-right: 1em; text-align: center; vertical-align: top\">1.33e-06</td>\n",
       "        <td style=\"padding-left: 1em; padding-right: 1em; text-align: center; vertical-align: top\">proton</td>\n",
       "        <td style=\"padding-left: 1em; padding-right: 1em; text-align: center; vertical-align: top\">-4</td>\n",
       "    </tr>\n",
       "    <tr>\n",
       "        <td style=\"padding-left: 1em; padding-right: 1em; text-align: center; vertical-align: top\">hIoni</td>\n",
       "        <td style=\"padding-left: 1em; padding-right: 1em; text-align: center; vertical-align: top\">Abso</td>\n",
       "        <td style=\"padding-left: 1em; padding-right: 1em; text-align: center; vertical-align: top\">0</td>\n",
       "        <td style=\"padding-left: 1em; padding-right: 1em; text-align: center; vertical-align: top\">1</td>\n",
       "        <td style=\"padding-left: 1em; padding-right: 1em; text-align: center; vertical-align: top\">7</td>\n",
       "        <td style=\"padding-left: 1em; padding-right: 1em; text-align: center; vertical-align: top\">6</td>\n",
       "        <td style=\"padding-left: 1em; padding-right: 1em; text-align: center; vertical-align: top\">1.64e-07</td>\n",
       "        <td style=\"padding-left: 1em; padding-right: 1em; text-align: center; vertical-align: top\">proton</td>\n",
       "        <td style=\"padding-left: 1em; padding-right: 1em; text-align: center; vertical-align: top\">-4</td>\n",
       "    </tr>\n",
       "    <tr>\n",
       "        <td style=\"padding-left: 1em; padding-right: 1em; text-align: center; vertical-align: top\">Transportation</td>\n",
       "        <td style=\"padding-left: 1em; padding-right: 1em; text-align: center; vertical-align: top\">Abso</td>\n",
       "        <td style=\"padding-left: 1em; padding-right: 1em; text-align: center; vertical-align: top\">0</td>\n",
       "        <td style=\"padding-left: 1em; padding-right: 1em; text-align: center; vertical-align: top\">1</td>\n",
       "        <td style=\"padding-left: 1em; padding-right: 1em; text-align: center; vertical-align: top\">7</td>\n",
       "        <td style=\"padding-left: 1em; padding-right: 1em; text-align: center; vertical-align: top\">7</td>\n",
       "        <td style=\"padding-left: 1em; padding-right: 1em; text-align: center; vertical-align: top\">1.16e-06</td>\n",
       "        <td style=\"padding-left: 1em; padding-right: 1em; text-align: center; vertical-align: top\">proton</td>\n",
       "        <td style=\"padding-left: 1em; padding-right: 1em; text-align: center; vertical-align: top\">-4</td>\n",
       "    </tr>\n",
       "    <tr>\n",
       "        <td style=\"padding-left: 1em; padding-right: 1em; text-align: center; vertical-align: top\">Transportation</td>\n",
       "        <td style=\"padding-left: 1em; padding-right: 1em; text-align: center; vertical-align: top\">Abso</td>\n",
       "        <td style=\"padding-left: 1em; padding-right: 1em; text-align: center; vertical-align: top\">0</td>\n",
       "        <td style=\"padding-left: 1em; padding-right: 1em; text-align: center; vertical-align: top\">1</td>\n",
       "        <td style=\"padding-left: 1em; padding-right: 1em; text-align: center; vertical-align: top\">7</td>\n",
       "        <td style=\"padding-left: 1em; padding-right: 1em; text-align: center; vertical-align: top\">8</td>\n",
       "        <td style=\"padding-left: 1em; padding-right: 1em; text-align: center; vertical-align: top\">1.33e-06</td>\n",
       "        <td style=\"padding-left: 1em; padding-right: 1em; text-align: center; vertical-align: top\">proton</td>\n",
       "        <td style=\"padding-left: 1em; padding-right: 1em; text-align: center; vertical-align: top\">-4</td>\n",
       "    </tr>\n",
       "    <tr>\n",
       "        <td style=\"padding-left: 1em; padding-right: 1em; text-align: center; vertical-align: top\">Transportation</td>\n",
       "        <td style=\"padding-left: 1em; padding-right: 1em; text-align: center; vertical-align: top\">Abso</td>\n",
       "        <td style=\"padding-left: 1em; padding-right: 1em; text-align: center; vertical-align: top\">0</td>\n",
       "        <td style=\"padding-left: 1em; padding-right: 1em; text-align: center; vertical-align: top\">1</td>\n",
       "        <td style=\"padding-left: 1em; padding-right: 1em; text-align: center; vertical-align: top\">7</td>\n",
       "        <td style=\"padding-left: 1em; padding-right: 1em; text-align: center; vertical-align: top\">9</td>\n",
       "        <td style=\"padding-left: 1em; padding-right: 1em; text-align: center; vertical-align: top\">1.33e-06</td>\n",
       "        <td style=\"padding-left: 1em; padding-right: 1em; text-align: center; vertical-align: top\">proton</td>\n",
       "        <td style=\"padding-left: 1em; padding-right: 1em; text-align: center; vertical-align: top\">-4</td>\n",
       "    </tr>\n",
       "</table>\n",
       "<table frame=\"box\" rules=\"cols\">\n",
       "    <tr>\n",
       "        <th style=\"padding-left: 1em; padding-right: 1em; text-align: center\">count_particle</th>\n",
       "        <th style=\"padding-left: 1em; padding-right: 1em; text-align: center\">parent_id</th>\n",
       "        <th style=\"padding-left: 1em; padding-right: 1em; text-align: center\">position_z</th>\n",
       "        <th style=\"padding-left: 1em; padding-right: 1em; text-align: center\">total_energy</th>\n",
       "        <th style=\"padding-left: 1em; padding-right: 1em; text-align: center\">position_x</th>\n",
       "        <th style=\"padding-left: 1em; padding-right: 1em; text-align: center\">position_y</th>\n",
       "        <th style=\"padding-left: 1em; padding-right: 1em; text-align: center\">velocity</th>\n",
       "        <th style=\"padding-left: 1em; padding-right: 1em; text-align: center\">kinetic_energy</th>\n",
       "        <th style=\"padding-left: 1em; padding-right: 1em; text-align: center\">track_id</th>\n",
       "    </tr>\n",
       "    <tr>\n",
       "        <td style=\"padding-left: 1em; padding-right: 1em; text-align: center; vertical-align: top\">284570</td>\n",
       "        <td style=\"padding-left: 1em; padding-right: 1em; text-align: center; vertical-align: top\">0</td>\n",
       "        <td style=\"padding-left: 1em; padding-right: 1em; text-align: center; vertical-align: top\">-900</td>\n",
       "        <td style=\"padding-left: 1em; padding-right: 1em; text-align: center; vertical-align: top\">400938</td>\n",
       "        <td style=\"padding-left: 1em; padding-right: 1em; text-align: center; vertical-align: top\">0</td>\n",
       "        <td style=\"padding-left: 1em; padding-right: 1em; text-align: center; vertical-align: top\">0</td>\n",
       "        <td style=\"padding-left: 1em; padding-right: 1em; text-align: center; vertical-align: top\">299.792</td>\n",
       "        <td style=\"padding-left: 1em; padding-right: 1em; text-align: center; vertical-align: top\">400000</td>\n",
       "        <td style=\"padding-left: 1em; padding-right: 1em; text-align: center; vertical-align: top\">1</td>\n",
       "    </tr>\n",
       "    <tr>\n",
       "        <td style=\"padding-left: 1em; padding-right: 1em; text-align: center; vertical-align: top\">284570</td>\n",
       "        <td style=\"padding-left: 1em; padding-right: 1em; text-align: center; vertical-align: top\">0</td>\n",
       "        <td style=\"padding-left: 1em; padding-right: 1em; text-align: center; vertical-align: top\">-750</td>\n",
       "        <td style=\"padding-left: 1em; padding-right: 1em; text-align: center; vertical-align: top\">400938</td>\n",
       "        <td style=\"padding-left: 1em; padding-right: 1em; text-align: center; vertical-align: top\">0</td>\n",
       "        <td style=\"padding-left: 1em; padding-right: 1em; text-align: center; vertical-align: top\">0</td>\n",
       "        <td style=\"padding-left: 1em; padding-right: 1em; text-align: center; vertical-align: top\">299.792</td>\n",
       "        <td style=\"padding-left: 1em; padding-right: 1em; text-align: center; vertical-align: top\">400000</td>\n",
       "        <td style=\"padding-left: 1em; padding-right: 1em; text-align: center; vertical-align: top\">1</td>\n",
       "    </tr>\n",
       "    <tr>\n",
       "        <td style=\"padding-left: 1em; padding-right: 1em; text-align: center; vertical-align: top\">284570</td>\n",
       "        <td style=\"padding-left: 1em; padding-right: 1em; text-align: center; vertical-align: top\">0</td>\n",
       "        <td style=\"padding-left: 1em; padding-right: 1em; text-align: center; vertical-align: top\">-650</td>\n",
       "        <td style=\"padding-left: 1em; padding-right: 1em; text-align: center; vertical-align: top\">400938</td>\n",
       "        <td style=\"padding-left: 1em; padding-right: 1em; text-align: center; vertical-align: top\">0</td>\n",
       "        <td style=\"padding-left: 1em; padding-right: 1em; text-align: center; vertical-align: top\">0</td>\n",
       "        <td style=\"padding-left: 1em; padding-right: 1em; text-align: center; vertical-align: top\">299.792</td>\n",
       "        <td style=\"padding-left: 1em; padding-right: 1em; text-align: center; vertical-align: top\">400000</td>\n",
       "        <td style=\"padding-left: 1em; padding-right: 1em; text-align: center; vertical-align: top\">1</td>\n",
       "    </tr>\n",
       "    <tr>\n",
       "        <td style=\"padding-left: 1em; padding-right: 1em; text-align: center; vertical-align: top\">284570</td>\n",
       "        <td style=\"padding-left: 1em; padding-right: 1em; text-align: center; vertical-align: top\">0</td>\n",
       "        <td style=\"padding-left: 1em; padding-right: 1em; text-align: center; vertical-align: top\">-550</td>\n",
       "        <td style=\"padding-left: 1em; padding-right: 1em; text-align: center; vertical-align: top\">400938</td>\n",
       "        <td style=\"padding-left: 1em; padding-right: 1em; text-align: center; vertical-align: top\">0</td>\n",
       "        <td style=\"padding-left: 1em; padding-right: 1em; text-align: center; vertical-align: top\">0</td>\n",
       "        <td style=\"padding-left: 1em; padding-right: 1em; text-align: center; vertical-align: top\">299.792</td>\n",
       "        <td style=\"padding-left: 1em; padding-right: 1em; text-align: center; vertical-align: top\">400000</td>\n",
       "        <td style=\"padding-left: 1em; padding-right: 1em; text-align: center; vertical-align: top\">1</td>\n",
       "    </tr>\n",
       "    <tr>\n",
       "        <td style=\"padding-left: 1em; padding-right: 1em; text-align: center; vertical-align: top\">284570</td>\n",
       "        <td style=\"padding-left: 1em; padding-right: 1em; text-align: center; vertical-align: top\">0</td>\n",
       "        <td style=\"padding-left: 1em; padding-right: 1em; text-align: center; vertical-align: top\">-450</td>\n",
       "        <td style=\"padding-left: 1em; padding-right: 1em; text-align: center; vertical-align: top\">400938</td>\n",
       "        <td style=\"padding-left: 1em; padding-right: 1em; text-align: center; vertical-align: top\">0</td>\n",
       "        <td style=\"padding-left: 1em; padding-right: 1em; text-align: center; vertical-align: top\">0</td>\n",
       "        <td style=\"padding-left: 1em; padding-right: 1em; text-align: center; vertical-align: top\">299.792</td>\n",
       "        <td style=\"padding-left: 1em; padding-right: 1em; text-align: center; vertical-align: top\">400000</td>\n",
       "        <td style=\"padding-left: 1em; padding-right: 1em; text-align: center; vertical-align: top\">1</td>\n",
       "    </tr>\n",
       "    <tr>\n",
       "        <td style=\"padding-left: 1em; padding-right: 1em; text-align: center; vertical-align: top\">284570</td>\n",
       "        <td style=\"padding-left: 1em; padding-right: 1em; text-align: center; vertical-align: top\">0</td>\n",
       "        <td style=\"padding-left: 1em; padding-right: 1em; text-align: center; vertical-align: top\">-350</td>\n",
       "        <td style=\"padding-left: 1em; padding-right: 1em; text-align: center; vertical-align: top\">400938</td>\n",
       "        <td style=\"padding-left: 1em; padding-right: 1em; text-align: center; vertical-align: top\">0</td>\n",
       "        <td style=\"padding-left: 1em; padding-right: 1em; text-align: center; vertical-align: top\">0</td>\n",
       "        <td style=\"padding-left: 1em; padding-right: 1em; text-align: center; vertical-align: top\">299.792</td>\n",
       "        <td style=\"padding-left: 1em; padding-right: 1em; text-align: center; vertical-align: top\">400000</td>\n",
       "        <td style=\"padding-left: 1em; padding-right: 1em; text-align: center; vertical-align: top\">1</td>\n",
       "    </tr>\n",
       "    <tr>\n",
       "        <td style=\"padding-left: 1em; padding-right: 1em; text-align: center; vertical-align: top\">284570</td>\n",
       "        <td style=\"padding-left: 1em; padding-right: 1em; text-align: center; vertical-align: top\">0</td>\n",
       "        <td style=\"padding-left: 1em; padding-right: 1em; text-align: center; vertical-align: top\">-338</td>\n",
       "        <td style=\"padding-left: 1em; padding-right: 1em; text-align: center; vertical-align: top\">400938</td>\n",
       "        <td style=\"padding-left: 1em; padding-right: 1em; text-align: center; vertical-align: top\">0</td>\n",
       "        <td style=\"padding-left: 1em; padding-right: 1em; text-align: center; vertical-align: top\">0</td>\n",
       "        <td style=\"padding-left: 1em; padding-right: 1em; text-align: center; vertical-align: top\">299.792</td>\n",
       "        <td style=\"padding-left: 1em; padding-right: 1em; text-align: center; vertical-align: top\">400000</td>\n",
       "        <td style=\"padding-left: 1em; padding-right: 1em; text-align: center; vertical-align: top\">1</td>\n",
       "    </tr>\n",
       "    <tr>\n",
       "        <td style=\"padding-left: 1em; padding-right: 1em; text-align: center; vertical-align: top\">284570</td>\n",
       "        <td style=\"padding-left: 1em; padding-right: 1em; text-align: center; vertical-align: top\">0</td>\n",
       "        <td style=\"padding-left: 1em; padding-right: 1em; text-align: center; vertical-align: top\">-250</td>\n",
       "        <td style=\"padding-left: 1em; padding-right: 1em; text-align: center; vertical-align: top\">400938</td>\n",
       "        <td style=\"padding-left: 1em; padding-right: 1em; text-align: center; vertical-align: top\">-4</td>\n",
       "        <td style=\"padding-left: 1em; padding-right: 1em; text-align: center; vertical-align: top\">6</td>\n",
       "        <td style=\"padding-left: 1em; padding-right: 1em; text-align: center; vertical-align: top\">299.792</td>\n",
       "        <td style=\"padding-left: 1em; padding-right: 1em; text-align: center; vertical-align: top\">400000</td>\n",
       "        <td style=\"padding-left: 1em; padding-right: 1em; text-align: center; vertical-align: top\">1</td>\n",
       "    </tr>\n",
       "    <tr>\n",
       "        <td style=\"padding-left: 1em; padding-right: 1em; text-align: center; vertical-align: top\">284570</td>\n",
       "        <td style=\"padding-left: 1em; padding-right: 1em; text-align: center; vertical-align: top\">0</td>\n",
       "        <td style=\"padding-left: 1em; padding-right: 1em; text-align: center; vertical-align: top\">-150</td>\n",
       "        <td style=\"padding-left: 1em; padding-right: 1em; text-align: center; vertical-align: top\">400938</td>\n",
       "        <td style=\"padding-left: 1em; padding-right: 1em; text-align: center; vertical-align: top\">-8</td>\n",
       "        <td style=\"padding-left: 1em; padding-right: 1em; text-align: center; vertical-align: top\">1</td>\n",
       "        <td style=\"padding-left: 1em; padding-right: 1em; text-align: center; vertical-align: top\">299.792</td>\n",
       "        <td style=\"padding-left: 1em; padding-right: 1em; text-align: center; vertical-align: top\">400000</td>\n",
       "        <td style=\"padding-left: 1em; padding-right: 1em; text-align: center; vertical-align: top\">1</td>\n",
       "    </tr>\n",
       "    <tr>\n",
       "        <td style=\"padding-left: 1em; padding-right: 1em; text-align: center; vertical-align: top\">284570</td>\n",
       "        <td style=\"padding-left: 1em; padding-right: 1em; text-align: center; vertical-align: top\">0</td>\n",
       "        <td style=\"padding-left: 1em; padding-right: 1em; text-align: center; vertical-align: top\">-50</td>\n",
       "        <td style=\"padding-left: 1em; padding-right: 1em; text-align: center; vertical-align: top\">400938</td>\n",
       "        <td style=\"padding-left: 1em; padding-right: 1em; text-align: center; vertical-align: top\">-1</td>\n",
       "        <td style=\"padding-left: 1em; padding-right: 1em; text-align: center; vertical-align: top\">2</td>\n",
       "        <td style=\"padding-left: 1em; padding-right: 1em; text-align: center; vertical-align: top\">299.792</td>\n",
       "        <td style=\"padding-left: 1em; padding-right: 1em; text-align: center; vertical-align: top\">400000</td>\n",
       "        <td style=\"padding-left: 1em; padding-right: 1em; text-align: center; vertical-align: top\">1</td>\n",
       "    </tr>\n",
       "</table>\n",
       "<table frame=\"box\" rules=\"cols\">\n",
       "    <tr>\n",
       "        <th style=\"padding-left: 1em; padding-right: 1em; text-align: center\">mom_y</th>\n",
       "        <th style=\"padding-left: 1em; padding-right: 1em; text-align: center\">energy_deposit</th>\n",
       "        <th style=\"padding-left: 1em; padding-right: 1em; text-align: center\">mom_z</th>\n",
       "        <th style=\"padding-left: 1em; padding-right: 1em; text-align: center\">position_r</th>\n",
       "        <th style=\"padding-left: 1em; padding-right: 1em; text-align: center\">num_e_gen</th>\n",
       "        <th style=\"padding-left: 1em; padding-right: 1em; text-align: center\">kin_energy_from_vel</th>\n",
       "        <th style=\"padding-left: 1em; padding-right: 1em; text-align: center\">energy_deposit_eV</th>\n",
       "    </tr>\n",
       "    <tr>\n",
       "        <td style=\"padding-left: 1em; padding-right: 1em; text-align: center; vertical-align: top\">0</td>\n",
       "        <td style=\"padding-left: 1em; padding-right: 1em; text-align: center; vertical-align: top\">5.92027e-24</td>\n",
       "        <td style=\"padding-left: 1em; padding-right: 1em; text-align: center; vertical-align: top\">400937</td>\n",
       "        <td style=\"padding-left: 1em; padding-right: 1em; text-align: center; vertical-align: top\">0.0</td>\n",
       "        <td style=\"padding-left: 1em; padding-right: 1em; text-align: center; vertical-align: top\">6.41763685637e-19</td>\n",
       "        <td style=\"padding-left: 1em; padding-right: 1em; text-align: center; vertical-align: top\">24262.6899025</td>\n",
       "        <td style=\"padding-left: 1em; padding-right: 1em; text-align: center; vertical-align: top\">5.92027e-18</td>\n",
       "    </tr>\n",
       "    <tr>\n",
       "        <td style=\"padding-left: 1em; padding-right: 1em; text-align: center; vertical-align: top\">0</td>\n",
       "        <td style=\"padding-left: 1em; padding-right: 1em; text-align: center; vertical-align: top\">1.32696e-06</td>\n",
       "        <td style=\"padding-left: 1em; padding-right: 1em; text-align: center; vertical-align: top\">400937</td>\n",
       "        <td style=\"padding-left: 1em; padding-right: 1em; text-align: center; vertical-align: top\">0.0</td>\n",
       "        <td style=\"padding-left: 1em; padding-right: 1em; text-align: center; vertical-align: top\">0.143843902439</td>\n",
       "        <td style=\"padding-left: 1em; padding-right: 1em; text-align: center; vertical-align: top\">24262.6899025</td>\n",
       "        <td style=\"padding-left: 1em; padding-right: 1em; text-align: center; vertical-align: top\">1.32696</td>\n",
       "    </tr>\n",
       "    <tr>\n",
       "        <td style=\"padding-left: 1em; padding-right: 1em; text-align: center; vertical-align: top\">0</td>\n",
       "        <td style=\"padding-left: 1em; padding-right: 1em; text-align: center; vertical-align: top\">1.32696e-06</td>\n",
       "        <td style=\"padding-left: 1em; padding-right: 1em; text-align: center; vertical-align: top\">400937</td>\n",
       "        <td style=\"padding-left: 1em; padding-right: 1em; text-align: center; vertical-align: top\">0.0</td>\n",
       "        <td style=\"padding-left: 1em; padding-right: 1em; text-align: center; vertical-align: top\">0.143843902439</td>\n",
       "        <td style=\"padding-left: 1em; padding-right: 1em; text-align: center; vertical-align: top\">24262.6899025</td>\n",
       "        <td style=\"padding-left: 1em; padding-right: 1em; text-align: center; vertical-align: top\">1.32696</td>\n",
       "    </tr>\n",
       "    <tr>\n",
       "        <td style=\"padding-left: 1em; padding-right: 1em; text-align: center; vertical-align: top\">0</td>\n",
       "        <td style=\"padding-left: 1em; padding-right: 1em; text-align: center; vertical-align: top\">1.32696e-06</td>\n",
       "        <td style=\"padding-left: 1em; padding-right: 1em; text-align: center; vertical-align: top\">400937</td>\n",
       "        <td style=\"padding-left: 1em; padding-right: 1em; text-align: center; vertical-align: top\">0.0</td>\n",
       "        <td style=\"padding-left: 1em; padding-right: 1em; text-align: center; vertical-align: top\">0.143843902439</td>\n",
       "        <td style=\"padding-left: 1em; padding-right: 1em; text-align: center; vertical-align: top\">24262.6899025</td>\n",
       "        <td style=\"padding-left: 1em; padding-right: 1em; text-align: center; vertical-align: top\">1.32696</td>\n",
       "    </tr>\n",
       "    <tr>\n",
       "        <td style=\"padding-left: 1em; padding-right: 1em; text-align: center; vertical-align: top\">0</td>\n",
       "        <td style=\"padding-left: 1em; padding-right: 1em; text-align: center; vertical-align: top\">1.32696e-06</td>\n",
       "        <td style=\"padding-left: 1em; padding-right: 1em; text-align: center; vertical-align: top\">400937</td>\n",
       "        <td style=\"padding-left: 1em; padding-right: 1em; text-align: center; vertical-align: top\">0.0</td>\n",
       "        <td style=\"padding-left: 1em; padding-right: 1em; text-align: center; vertical-align: top\">0.143843902439</td>\n",
       "        <td style=\"padding-left: 1em; padding-right: 1em; text-align: center; vertical-align: top\">24262.6899025</td>\n",
       "        <td style=\"padding-left: 1em; padding-right: 1em; text-align: center; vertical-align: top\">1.32696</td>\n",
       "    </tr>\n",
       "    <tr>\n",
       "        <td style=\"padding-left: 1em; padding-right: 1em; text-align: center; vertical-align: top\">0</td>\n",
       "        <td style=\"padding-left: 1em; padding-right: 1em; text-align: center; vertical-align: top\">1.63738e-07</td>\n",
       "        <td style=\"padding-left: 1em; padding-right: 1em; text-align: center; vertical-align: top\">400937</td>\n",
       "        <td style=\"padding-left: 1em; padding-right: 1em; text-align: center; vertical-align: top\">0.0</td>\n",
       "        <td style=\"padding-left: 1em; padding-right: 1em; text-align: center; vertical-align: top\">0.0177493766938</td>\n",
       "        <td style=\"padding-left: 1em; padding-right: 1em; text-align: center; vertical-align: top\">24262.6899025</td>\n",
       "        <td style=\"padding-left: 1em; padding-right: 1em; text-align: center; vertical-align: top\">0.163738</td>\n",
       "    </tr>\n",
       "    <tr>\n",
       "        <td style=\"padding-left: 1em; padding-right: 1em; text-align: center; vertical-align: top\">0</td>\n",
       "        <td style=\"padding-left: 1em; padding-right: 1em; text-align: center; vertical-align: top\">1.16322e-06</td>\n",
       "        <td style=\"padding-left: 1em; padding-right: 1em; text-align: center; vertical-align: top\">400937</td>\n",
       "        <td style=\"padding-left: 1em; padding-right: 1em; text-align: center; vertical-align: top\">0.0</td>\n",
       "        <td style=\"padding-left: 1em; padding-right: 1em; text-align: center; vertical-align: top\">0.126094308943</td>\n",
       "        <td style=\"padding-left: 1em; padding-right: 1em; text-align: center; vertical-align: top\">24262.6899025</td>\n",
       "        <td style=\"padding-left: 1em; padding-right: 1em; text-align: center; vertical-align: top\">1.16322</td>\n",
       "    </tr>\n",
       "    <tr>\n",
       "        <td style=\"padding-left: 1em; padding-right: 1em; text-align: center; vertical-align: top\">0</td>\n",
       "        <td style=\"padding-left: 1em; padding-right: 1em; text-align: center; vertical-align: top\">1.32696e-06</td>\n",
       "        <td style=\"padding-left: 1em; padding-right: 1em; text-align: center; vertical-align: top\">400937</td>\n",
       "        <td style=\"padding-left: 1em; padding-right: 1em; text-align: center; vertical-align: top\">7.21110255093</td>\n",
       "        <td style=\"padding-left: 1em; padding-right: 1em; text-align: center; vertical-align: top\">0.143843902439</td>\n",
       "        <td style=\"padding-left: 1em; padding-right: 1em; text-align: center; vertical-align: top\">24262.6899025</td>\n",
       "        <td style=\"padding-left: 1em; padding-right: 1em; text-align: center; vertical-align: top\">1.32696</td>\n",
       "    </tr>\n",
       "    <tr>\n",
       "        <td style=\"padding-left: 1em; padding-right: 1em; text-align: center; vertical-align: top\">0</td>\n",
       "        <td style=\"padding-left: 1em; padding-right: 1em; text-align: center; vertical-align: top\">1.32696e-06</td>\n",
       "        <td style=\"padding-left: 1em; padding-right: 1em; text-align: center; vertical-align: top\">400937</td>\n",
       "        <td style=\"padding-left: 1em; padding-right: 1em; text-align: center; vertical-align: top\">8.0622577483</td>\n",
       "        <td style=\"padding-left: 1em; padding-right: 1em; text-align: center; vertical-align: top\">0.143843902439</td>\n",
       "        <td style=\"padding-left: 1em; padding-right: 1em; text-align: center; vertical-align: top\">24262.6899025</td>\n",
       "        <td style=\"padding-left: 1em; padding-right: 1em; text-align: center; vertical-align: top\">1.32696</td>\n",
       "    </tr>\n",
       "    <tr>\n",
       "        <td style=\"padding-left: 1em; padding-right: 1em; text-align: center; vertical-align: top\">0</td>\n",
       "        <td style=\"padding-left: 1em; padding-right: 1em; text-align: center; vertical-align: top\">1.32696e-06</td>\n",
       "        <td style=\"padding-left: 1em; padding-right: 1em; text-align: center; vertical-align: top\">400937</td>\n",
       "        <td style=\"padding-left: 1em; padding-right: 1em; text-align: center; vertical-align: top\">2.2360679775</td>\n",
       "        <td style=\"padding-left: 1em; padding-right: 1em; text-align: center; vertical-align: top\">0.143843902439</td>\n",
       "        <td style=\"padding-left: 1em; padding-right: 1em; text-align: center; vertical-align: top\">24262.6899025</td>\n",
       "        <td style=\"padding-left: 1em; padding-right: 1em; text-align: center; vertical-align: top\">1.32696</td>\n",
       "    </tr>\n",
       "</table>\n",
       "[? rows x 25 columns]<br/>Note: Only the head of the SFrame is printed. This SFrame is lazily evaluated.<br/>You can use sf.materialize() to force materialization.\n",
       "</div>"
      ],
      "text/plain": [
       "Columns:\n",
       "\tprocess_name\tstr\n",
       "\tnext_vol\tstr\n",
       "\tmom_x\tint\n",
       "\tmom_dir_z\tint\n",
       "\tmom_dir_y\tint\n",
       "\tstep_number\tint\n",
       "\tdE\tfloat\n",
       "\tparticle_name\tstr\n",
       "\tmom_dir_x\tint\n",
       "\tcount_particle\tint\n",
       "\tparent_id\tint\n",
       "\tposition_z\tint\n",
       "\ttotal_energy\tint\n",
       "\tposition_x\tint\n",
       "\tposition_y\tint\n",
       "\tvelocity\tfloat\n",
       "\tkinetic_energy\tint\n",
       "\ttrack_id\tint\n",
       "\tmom_y\tint\n",
       "\tenergy_deposit\tfloat\n",
       "\tmom_z\tint\n",
       "\tposition_r\tfloat\n",
       "\tnum_e_gen\tfloat\n",
       "\tkin_energy_from_vel\tfloat\n",
       "\tenergy_deposit_eV\tfloat\n",
       "\n",
       "Rows: Unknown\n",
       "\n",
       "Data:\n",
       "+----------------+----------+-------+-----------+-----------+-------------+\n",
       "|  process_name  | next_vol | mom_x | mom_dir_z | mom_dir_y | step_number |\n",
       "+----------------+----------+-------+-----------+-----------+-------------+\n",
       "|    initStep    |  World   |   0   |     1     |     0     |      0      |\n",
       "| Transportation |   Abso   |   0   |     1     |     0     |      1      |\n",
       "| Transportation |   Abso   |   0   |     1     |     0     |      2      |\n",
       "| Transportation |   Abso   |   0   |     1     |     0     |      3      |\n",
       "| Transportation |   Abso   |   0   |     1     |     0     |      4      |\n",
       "| Transportation |   Abso   |   0   |     1     |     7     |      5      |\n",
       "|     hIoni      |   Abso   |   0   |     1     |     7     |      6      |\n",
       "| Transportation |   Abso   |   0   |     1     |     7     |      7      |\n",
       "| Transportation |   Abso   |   0   |     1     |     7     |      8      |\n",
       "| Transportation |   Abso   |   0   |     1     |     7     |      9      |\n",
       "+----------------+----------+-------+-----------+-----------+-------------+\n",
       "+----------+---------------+-----------+----------------+-----------+------------+\n",
       "|    dE    | particle_name | mom_dir_x | count_particle | parent_id | position_z |\n",
       "+----------+---------------+-----------+----------------+-----------+------------+\n",
       "|   0.0    |     proton    |     0     |     284570     |     0     |    -900    |\n",
       "| 5.92e-24 |     proton    |     0     |     284570     |     0     |    -750    |\n",
       "| 1.33e-06 |     proton    |     0     |     284570     |     0     |    -650    |\n",
       "| 1.33e-06 |     proton    |     0     |     284570     |     0     |    -550    |\n",
       "| 1.33e-06 |     proton    |     0     |     284570     |     0     |    -450    |\n",
       "| 1.33e-06 |     proton    |     -4    |     284570     |     0     |    -350    |\n",
       "| 1.64e-07 |     proton    |     -4    |     284570     |     0     |    -338    |\n",
       "| 1.16e-06 |     proton    |     -4    |     284570     |     0     |    -250    |\n",
       "| 1.33e-06 |     proton    |     -4    |     284570     |     0     |    -150    |\n",
       "| 1.33e-06 |     proton    |     -4    |     284570     |     0     |    -50     |\n",
       "+----------+---------------+-----------+----------------+-----------+------------+\n",
       "+--------------+------------+------------+----------+----------------+----------+\n",
       "| total_energy | position_x | position_y | velocity | kinetic_energy | track_id |\n",
       "+--------------+------------+------------+----------+----------------+----------+\n",
       "|    400938    |     0      |     0      | 299.792  |     400000     |    1     |\n",
       "|    400938    |     0      |     0      | 299.792  |     400000     |    1     |\n",
       "|    400938    |     0      |     0      | 299.792  |     400000     |    1     |\n",
       "|    400938    |     0      |     0      | 299.792  |     400000     |    1     |\n",
       "|    400938    |     0      |     0      | 299.792  |     400000     |    1     |\n",
       "|    400938    |     0      |     0      | 299.792  |     400000     |    1     |\n",
       "|    400938    |     0      |     0      | 299.792  |     400000     |    1     |\n",
       "|    400938    |     -4     |     6      | 299.792  |     400000     |    1     |\n",
       "|    400938    |     -8     |     1      | 299.792  |     400000     |    1     |\n",
       "|    400938    |     -1     |     2      | 299.792  |     400000     |    1     |\n",
       "+--------------+------------+------------+----------+----------------+----------+\n",
       "+-------+----------------+-----+\n",
       "| mom_y | energy_deposit | ... |\n",
       "+-------+----------------+-----+\n",
       "|   0   |  5.92027e-24   | ... |\n",
       "|   0   |  1.32696e-06   | ... |\n",
       "|   0   |  1.32696e-06   | ... |\n",
       "|   0   |  1.32696e-06   | ... |\n",
       "|   0   |  1.32696e-06   | ... |\n",
       "|   0   |  1.63738e-07   | ... |\n",
       "|   0   |  1.16322e-06   | ... |\n",
       "|   0   |  1.32696e-06   | ... |\n",
       "|   0   |  1.32696e-06   | ... |\n",
       "|   0   |  1.32696e-06   | ... |\n",
       "+-------+----------------+-----+\n",
       "[? rows x 25 columns]\n",
       "Note: Only the head of the SFrame is printed. This SFrame is lazily evaluated.\n",
       "You can use sf.materialize() to force materialization."
      ]
     },
     "execution_count": 40,
     "metadata": {},
     "output_type": "execute_result"
    }
   ],
   "source": [
    "sf[sf['count_particle']==284570] #proton"
   ]
  },
  {
   "cell_type": "code",
   "execution_count": 41,
   "metadata": {
    "collapsed": false
   },
   "outputs": [
    {
     "data": {
      "text/html": [
       "<div style=\"max-height:1000px;max-width:1500px;overflow:auto;\"><table frame=\"box\" rules=\"cols\">\n",
       "    <tr>\n",
       "        <th style=\"padding-left: 1em; padding-right: 1em; text-align: center\">process_name</th>\n",
       "        <th style=\"padding-left: 1em; padding-right: 1em; text-align: center\">next_vol</th>\n",
       "        <th style=\"padding-left: 1em; padding-right: 1em; text-align: center\">mom_x</th>\n",
       "        <th style=\"padding-left: 1em; padding-right: 1em; text-align: center\">mom_dir_z</th>\n",
       "        <th style=\"padding-left: 1em; padding-right: 1em; text-align: center\">mom_dir_y</th>\n",
       "        <th style=\"padding-left: 1em; padding-right: 1em; text-align: center\">step_number</th>\n",
       "        <th style=\"padding-left: 1em; padding-right: 1em; text-align: center\">dE</th>\n",
       "        <th style=\"padding-left: 1em; padding-right: 1em; text-align: center\">particle_name</th>\n",
       "        <th style=\"padding-left: 1em; padding-right: 1em; text-align: center\">mom_dir_x</th>\n",
       "    </tr>\n",
       "    <tr>\n",
       "        <td style=\"padding-left: 1em; padding-right: 1em; text-align: center; vertical-align: top\">initStep</td>\n",
       "        <td style=\"padding-left: 1em; padding-right: 1em; text-align: center; vertical-align: top\">Abso</td>\n",
       "        <td style=\"padding-left: 1em; padding-right: 1em; text-align: center; vertical-align: top\">0</td>\n",
       "        <td style=\"padding-left: 1em; padding-right: 1em; text-align: center; vertical-align: top\">0</td>\n",
       "        <td style=\"padding-left: 1em; padding-right: 1em; text-align: center; vertical-align: top\">0</td>\n",
       "        <td style=\"padding-left: 1em; padding-right: 1em; text-align: center; vertical-align: top\">0</td>\n",
       "        <td style=\"padding-left: 1em; padding-right: 1em; text-align: center; vertical-align: top\">0.0</td>\n",
       "        <td style=\"padding-left: 1em; padding-right: 1em; text-align: center; vertical-align: top\">e-</td>\n",
       "        <td style=\"padding-left: 1em; padding-right: 1em; text-align: center; vertical-align: top\">0</td>\n",
       "    </tr>\n",
       "    <tr>\n",
       "        <td style=\"padding-left: 1em; padding-right: 1em; text-align: center; vertical-align: top\">Transportation</td>\n",
       "        <td style=\"padding-left: 1em; padding-right: 1em; text-align: center; vertical-align: top\">World</td>\n",
       "        <td style=\"padding-left: 1em; padding-right: 1em; text-align: center; vertical-align: top\">0</td>\n",
       "        <td style=\"padding-left: 1em; padding-right: 1em; text-align: center; vertical-align: top\">0</td>\n",
       "        <td style=\"padding-left: 1em; padding-right: 1em; text-align: center; vertical-align: top\">0</td>\n",
       "        <td style=\"padding-left: 1em; padding-right: 1em; text-align: center; vertical-align: top\">1</td>\n",
       "        <td style=\"padding-left: 1em; padding-right: 1em; text-align: center; vertical-align: top\">9.14e-06</td>\n",
       "        <td style=\"padding-left: 1em; padding-right: 1em; text-align: center; vertical-align: top\">e-</td>\n",
       "        <td style=\"padding-left: 1em; padding-right: 1em; text-align: center; vertical-align: top\">0</td>\n",
       "    </tr>\n",
       "    <tr>\n",
       "        <td style=\"padding-left: 1em; padding-right: 1em; text-align: center; vertical-align: top\">Transportation</td>\n",
       "        <td style=\"padding-left: 1em; padding-right: 1em; text-align: center; vertical-align: top\">OutOfWorld</td>\n",
       "        <td style=\"padding-left: 1em; padding-right: 1em; text-align: center; vertical-align: top\">0</td>\n",
       "        <td style=\"padding-left: 1em; padding-right: 1em; text-align: center; vertical-align: top\">0</td>\n",
       "        <td style=\"padding-left: 1em; padding-right: 1em; text-align: center; vertical-align: top\">0</td>\n",
       "        <td style=\"padding-left: 1em; padding-right: 1em; text-align: center; vertical-align: top\">2</td>\n",
       "        <td style=\"padding-left: 1em; padding-right: 1em; text-align: center; vertical-align: top\">1.2e-23</td>\n",
       "        <td style=\"padding-left: 1em; padding-right: 1em; text-align: center; vertical-align: top\">e-</td>\n",
       "        <td style=\"padding-left: 1em; padding-right: 1em; text-align: center; vertical-align: top\">0</td>\n",
       "    </tr>\n",
       "</table>\n",
       "<table frame=\"box\" rules=\"cols\">\n",
       "    <tr>\n",
       "        <th style=\"padding-left: 1em; padding-right: 1em; text-align: center\">count_particle</th>\n",
       "        <th style=\"padding-left: 1em; padding-right: 1em; text-align: center\">parent_id</th>\n",
       "        <th style=\"padding-left: 1em; padding-right: 1em; text-align: center\">position_z</th>\n",
       "        <th style=\"padding-left: 1em; padding-right: 1em; text-align: center\">total_energy</th>\n",
       "        <th style=\"padding-left: 1em; padding-right: 1em; text-align: center\">position_x</th>\n",
       "        <th style=\"padding-left: 1em; padding-right: 1em; text-align: center\">position_y</th>\n",
       "        <th style=\"padding-left: 1em; padding-right: 1em; text-align: center\">velocity</th>\n",
       "        <th style=\"padding-left: 1em; padding-right: 1em; text-align: center\">kinetic_energy</th>\n",
       "        <th style=\"padding-left: 1em; padding-right: 1em; text-align: center\">track_id</th>\n",
       "    </tr>\n",
       "    <tr>\n",
       "        <td style=\"padding-left: 1em; padding-right: 1em; text-align: center; vertical-align: top\">284571</td>\n",
       "        <td style=\"padding-left: 1em; padding-right: 1em; text-align: center; vertical-align: top\">1</td>\n",
       "        <td style=\"padding-left: 1em; padding-right: 1em; text-align: center; vertical-align: top\">-338</td>\n",
       "        <td style=\"padding-left: 1em; padding-right: 1em; text-align: center; vertical-align: top\">0</td>\n",
       "        <td style=\"padding-left: 1em; padding-right: 1em; text-align: center; vertical-align: top\">0</td>\n",
       "        <td style=\"padding-left: 1em; padding-right: 1em; text-align: center; vertical-align: top\">0</td>\n",
       "        <td style=\"padding-left: 1em; padding-right: 1em; text-align: center; vertical-align: top\">21.1947</td>\n",
       "        <td style=\"padding-left: 1em; padding-right: 1em; text-align: center; vertical-align: top\">0</td>\n",
       "        <td style=\"padding-left: 1em; padding-right: 1em; text-align: center; vertical-align: top\">2</td>\n",
       "    </tr>\n",
       "    <tr>\n",
       "        <td style=\"padding-left: 1em; padding-right: 1em; text-align: center; vertical-align: top\">284571</td>\n",
       "        <td style=\"padding-left: 1em; padding-right: 1em; text-align: center; vertical-align: top\">1</td>\n",
       "        <td style=\"padding-left: 1em; padding-right: 1em; text-align: center; vertical-align: top\">-337</td>\n",
       "        <td style=\"padding-left: 1em; padding-right: 1em; text-align: center; vertical-align: top\">0</td>\n",
       "        <td style=\"padding-left: 1em; padding-right: 1em; text-align: center; vertical-align: top\">11</td>\n",
       "        <td style=\"padding-left: 1em; padding-right: 1em; text-align: center; vertical-align: top\">-20</td>\n",
       "        <td style=\"padding-left: 1em; padding-right: 1em; text-align: center; vertical-align: top\">21.1189</td>\n",
       "        <td style=\"padding-left: 1em; padding-right: 1em; text-align: center; vertical-align: top\">0</td>\n",
       "        <td style=\"padding-left: 1em; padding-right: 1em; text-align: center; vertical-align: top\">2</td>\n",
       "    </tr>\n",
       "    <tr>\n",
       "        <td style=\"padding-left: 1em; padding-right: 1em; text-align: center; vertical-align: top\">284571</td>\n",
       "        <td style=\"padding-left: 1em; padding-right: 1em; text-align: center; vertical-align: top\">1</td>\n",
       "        <td style=\"padding-left: 1em; padding-right: 1em; text-align: center; vertical-align: top\">-336</td>\n",
       "        <td style=\"padding-left: 1em; padding-right: 1em; text-align: center; vertical-align: top\">0</td>\n",
       "        <td style=\"padding-left: 1em; padding-right: 1em; text-align: center; vertical-align: top\">13</td>\n",
       "        <td style=\"padding-left: 1em; padding-right: 1em; text-align: center; vertical-align: top\">-24</td>\n",
       "        <td style=\"padding-left: 1em; padding-right: 1em; text-align: center; vertical-align: top\">21.1189</td>\n",
       "        <td style=\"padding-left: 1em; padding-right: 1em; text-align: center; vertical-align: top\">0</td>\n",
       "        <td style=\"padding-left: 1em; padding-right: 1em; text-align: center; vertical-align: top\">2</td>\n",
       "    </tr>\n",
       "</table>\n",
       "<table frame=\"box\" rules=\"cols\">\n",
       "    <tr>\n",
       "        <th style=\"padding-left: 1em; padding-right: 1em; text-align: center\">mom_y</th>\n",
       "        <th style=\"padding-left: 1em; padding-right: 1em; text-align: center\">energy_deposit</th>\n",
       "        <th style=\"padding-left: 1em; padding-right: 1em; text-align: center\">mom_z</th>\n",
       "        <th style=\"padding-left: 1em; padding-right: 1em; text-align: center\">position_r</th>\n",
       "        <th style=\"padding-left: 1em; padding-right: 1em; text-align: center\">num_e_gen</th>\n",
       "        <th style=\"padding-left: 1em; padding-right: 1em; text-align: center\">kin_energy_from_vel</th>\n",
       "        <th style=\"padding-left: 1em; padding-right: 1em; text-align: center\">energy_deposit_eV</th>\n",
       "    </tr>\n",
       "    <tr>\n",
       "        <td style=\"padding-left: 1em; padding-right: 1em; text-align: center; vertical-align: top\">0</td>\n",
       "        <td style=\"padding-left: 1em; padding-right: 1em; text-align: center; vertical-align: top\">9.14148e-06</td>\n",
       "        <td style=\"padding-left: 1em; padding-right: 1em; text-align: center; vertical-align: top\">0</td>\n",
       "        <td style=\"padding-left: 1em; padding-right: 1em; text-align: center; vertical-align: top\">0.0</td>\n",
       "        <td style=\"padding-left: 1em; padding-right: 1em; text-align: center; vertical-align: top\">0.990946341463</td>\n",
       "        <td style=\"padding-left: 1em; padding-right: 1em; text-align: center; vertical-align: top\">0.00128006622283</td>\n",
       "        <td style=\"padding-left: 1em; padding-right: 1em; text-align: center; vertical-align: top\">9.14148</td>\n",
       "    </tr>\n",
       "    <tr>\n",
       "        <td style=\"padding-left: 1em; padding-right: 1em; text-align: center; vertical-align: top\">0</td>\n",
       "        <td style=\"padding-left: 1em; padding-right: 1em; text-align: center; vertical-align: top\">1.19907e-23</td>\n",
       "        <td style=\"padding-left: 1em; padding-right: 1em; text-align: center; vertical-align: top\">0</td>\n",
       "        <td style=\"padding-left: 1em; padding-right: 1em; text-align: center; vertical-align: top\">22.825424421</td>\n",
       "        <td style=\"padding-left: 1em; padding-right: 1em; text-align: center; vertical-align: top\">1.29980487805e-18</td>\n",
       "        <td style=\"padding-left: 1em; padding-right: 1em; text-align: center; vertical-align: top\">0.0012708925007</td>\n",
       "        <td style=\"padding-left: 1em; padding-right: 1em; text-align: center; vertical-align: top\">1.19907e-17</td>\n",
       "    </tr>\n",
       "    <tr>\n",
       "        <td style=\"padding-left: 1em; padding-right: 1em; text-align: center; vertical-align: top\">0</td>\n",
       "        <td style=\"padding-left: 1em; padding-right: 1em; text-align: center; vertical-align: top\">0.0</td>\n",
       "        <td style=\"padding-left: 1em; padding-right: 1em; text-align: center; vertical-align: top\">0</td>\n",
       "        <td style=\"padding-left: 1em; padding-right: 1em; text-align: center; vertical-align: top\">27.2946881279</td>\n",
       "        <td style=\"padding-left: 1em; padding-right: 1em; text-align: center; vertical-align: top\">0.0</td>\n",
       "        <td style=\"padding-left: 1em; padding-right: 1em; text-align: center; vertical-align: top\">0.0012708925007</td>\n",
       "        <td style=\"padding-left: 1em; padding-right: 1em; text-align: center; vertical-align: top\">0.0</td>\n",
       "    </tr>\n",
       "</table>\n",
       "[? rows x 25 columns]<br/>Note: Only the head of the SFrame is printed. This SFrame is lazily evaluated.<br/>You can use sf.materialize() to force materialization.\n",
       "</div>"
      ],
      "text/plain": [
       "Columns:\n",
       "\tprocess_name\tstr\n",
       "\tnext_vol\tstr\n",
       "\tmom_x\tint\n",
       "\tmom_dir_z\tint\n",
       "\tmom_dir_y\tint\n",
       "\tstep_number\tint\n",
       "\tdE\tfloat\n",
       "\tparticle_name\tstr\n",
       "\tmom_dir_x\tint\n",
       "\tcount_particle\tint\n",
       "\tparent_id\tint\n",
       "\tposition_z\tint\n",
       "\ttotal_energy\tint\n",
       "\tposition_x\tint\n",
       "\tposition_y\tint\n",
       "\tvelocity\tfloat\n",
       "\tkinetic_energy\tint\n",
       "\ttrack_id\tint\n",
       "\tmom_y\tint\n",
       "\tenergy_deposit\tfloat\n",
       "\tmom_z\tint\n",
       "\tposition_r\tfloat\n",
       "\tnum_e_gen\tfloat\n",
       "\tkin_energy_from_vel\tfloat\n",
       "\tenergy_deposit_eV\tfloat\n",
       "\n",
       "Rows: Unknown\n",
       "\n",
       "Data:\n",
       "+----------------+------------+-------+-----------+-----------+-------------+\n",
       "|  process_name  |  next_vol  | mom_x | mom_dir_z | mom_dir_y | step_number |\n",
       "+----------------+------------+-------+-----------+-----------+-------------+\n",
       "|    initStep    |    Abso    |   0   |     0     |     0     |      0      |\n",
       "| Transportation |   World    |   0   |     0     |     0     |      1      |\n",
       "| Transportation | OutOfWorld |   0   |     0     |     0     |      2      |\n",
       "+----------------+------------+-------+-----------+-----------+-------------+\n",
       "+----------+---------------+-----------+----------------+-----------+------------+\n",
       "|    dE    | particle_name | mom_dir_x | count_particle | parent_id | position_z |\n",
       "+----------+---------------+-----------+----------------+-----------+------------+\n",
       "|   0.0    |       e-      |     0     |     284571     |     1     |    -338    |\n",
       "| 9.14e-06 |       e-      |     0     |     284571     |     1     |    -337    |\n",
       "| 1.2e-23  |       e-      |     0     |     284571     |     1     |    -336    |\n",
       "+----------+---------------+-----------+----------------+-----------+------------+\n",
       "+--------------+------------+------------+----------+----------------+----------+\n",
       "| total_energy | position_x | position_y | velocity | kinetic_energy | track_id |\n",
       "+--------------+------------+------------+----------+----------------+----------+\n",
       "|      0       |     0      |     0      | 21.1947  |       0        |    2     |\n",
       "|      0       |     11     |    -20     | 21.1189  |       0        |    2     |\n",
       "|      0       |     13     |    -24     | 21.1189  |       0        |    2     |\n",
       "+--------------+------------+------------+----------+----------------+----------+\n",
       "+-------+----------------+-----+\n",
       "| mom_y | energy_deposit | ... |\n",
       "+-------+----------------+-----+\n",
       "|   0   |  9.14148e-06   | ... |\n",
       "|   0   |  1.19907e-23   | ... |\n",
       "|   0   |      0.0       | ... |\n",
       "+-------+----------------+-----+\n",
       "[? rows x 25 columns]\n",
       "Note: Only the head of the SFrame is printed. This SFrame is lazily evaluated.\n",
       "You can use sf.materialize() to force materialization."
      ]
     },
     "execution_count": 41,
     "metadata": {},
     "output_type": "execute_result"
    }
   ],
   "source": [
    "sf[sf['count_particle']==284571] # e-"
   ]
  },
  {
   "cell_type": "code",
   "execution_count": 42,
   "metadata": {
    "collapsed": false
   },
   "outputs": [],
   "source": [
    "# Energy deposited in ionization process\n",
    "en_dep = sf[sf['process_name']=='hIoni']"
   ]
  },
  {
   "cell_type": "code",
   "execution_count": 43,
   "metadata": {
    "collapsed": false
   },
   "outputs": [
    {
     "data": {
      "application/javascript": [
       "$(\"head\").append($(\"<link/>\").attr({\n",
       "  rel:  \"stylesheet\",\n",
       "  type: \"text/css\",\n",
       "  href: \"//cdnjs.cloudflare.com/ajax/libs/font-awesome/4.1.0/css/font-awesome.min.css\"\n",
       "}));\n",
       "$(\"head\").append($(\"<link/>\").attr({\n",
       "  rel:  \"stylesheet\",\n",
       "  type: \"text/css\",\n",
       "  href: \"https://static.turi.com/products/graphlab-create/2.1/canvas/css/canvas.css\"\n",
       "}));\n",
       "\n",
       "            (function(){\n",
       "\n",
       "                var e = null;\n",
       "                if (typeof element == 'undefined') {\n",
       "                    var scripts = document.getElementsByTagName('script');\n",
       "                    var thisScriptTag = scripts[scripts.length-1];\n",
       "                    var parentDiv = thisScriptTag.parentNode;\n",
       "                    e = document.createElement('div');\n",
       "                    parentDiv.appendChild(e);\n",
       "                } else {\n",
       "                    e = element[0];\n",
       "                }\n",
       "\n",
       "                if (typeof requirejs !== 'undefined') {\n",
       "                    // disable load timeout; ipython_app.js is large and can take a while to load.\n",
       "                    requirejs.config({waitSeconds: 0});\n",
       "                }\n",
       "\n",
       "                require(['https://static.turi.com/products/graphlab-create/2.1/canvas/js/ipython_app.js'], function(IPythonApp){\n",
       "                    var app = new IPythonApp();\n",
       "                    app.attachView('sarray','Numeric', {\"ipython\": true, \"sketch\": {\"std\": 0.37769612494565735, \"complete\": true, \"min\": 0.0015300000000000001, \"max\": 1.32, \"quantile\": [0.0015300000000000001, 0.010400000000000001, 0.027299999999999998, 0.048100000000000004, 0.057800000000000004, 0.0745, 0.0935, 0.101, 0.116, 0.124, 0.13899999999999998, 0.151, 0.16999999999999998, 0.181, 0.195, 0.22, 0.243, 0.252, 0.268, 0.28700000000000003, 0.29900000000000004, 0.309, 0.324, 0.346, 0.357, 0.367, 0.386, 0.397, 0.408, 0.42, 0.437, 0.464, 0.48100000000000004, 0.496, 0.505, 0.5179999999999999, 0.532, 0.547, 0.5640000000000001, 0.575, 0.586, 0.596, 0.603, 0.615, 0.627, 0.633, 0.641, 0.655, 0.674, 0.689, 0.7, 0.707, 0.72, 0.7320000000000001, 0.747, 0.754, 0.773, 0.785, 0.7969999999999999, 0.812, 0.83, 0.841, 0.8490000000000001, 0.858, 0.868, 0.88, 0.895, 0.909, 0.918, 0.925, 0.9460000000000001, 0.9569999999999999, 0.9700000000000001, 0.9820000000000001, 1.0, 1.01, 1.03, 1.0499999999999998, 1.0499999999999998, 1.0699999999999998, 1.08, 1.0899999999999999, 1.1099999999999999, 1.13, 1.1400000000000001, 1.15, 1.16, 1.16, 1.17, 1.18, 1.19, 1.2, 1.22, 1.23, 1.25, 1.25, 1.27, 1.28, 1.3, 1.31, 1.32], \"median\": 0.7, \"numeric\": true, \"num_unique\": 588, \"num_undefined\": 0, \"var\": 0.14265436279896562, \"progress\": 1.0, \"size\": 1050, \"frequent_items\": {\"0.625\": {\"frequency\": 3, \"value\": 0.625}, \"1.25\": {\"frequency\": 12, \"value\": 1.25}, \"0.727\": {\"frequency\": 1, \"value\": 0.727}, \"0.875\": {\"frequency\": 2, \"value\": 0.875}, \"1.0\": {\"frequency\": 5, \"value\": 1.0}, \"0.352\": {\"frequency\": 2, \"value\": 0.352}, \"0.40299999999999997\": {\"frequency\": 2, \"value\": 0.40299999999999997}, \"0.7829999999999999\": {\"frequency\": 3, \"value\": 0.7829999999999999}, \"0.40900000000000003\": {\"frequency\": 1, \"value\": 0.40900000000000003}, \"0.0431\": {\"frequency\": 1, \"value\": 0.0431}, \"0.434\": {\"frequency\": 2, \"value\": 0.434}, \"0.27599999999999997\": {\"frequency\": 2, \"value\": 0.27599999999999997}, \"0.75\": {\"frequency\": 1, \"value\": 0.75}, \"0.48\": {\"frequency\": 2, \"value\": 0.48}, \"0.986\": {\"frequency\": 1, \"value\": 0.986}, \"0.07289999999999999\": {\"frequency\": 1, \"value\": 0.07289999999999999}, \"0.704\": {\"frequency\": 2, \"value\": 0.704}, \"0.0112\": {\"frequency\": 1, \"value\": 0.0112}, \"0.769\": {\"frequency\": 1, \"value\": 0.769}, \"0.49399999999999994\": {\"frequency\": 1, \"value\": 0.49399999999999994}, \"0.0658\": {\"frequency\": 1, \"value\": 0.0658}, \"0.386\": {\"frequency\": 1, \"value\": 0.386}, \"0.955\": {\"frequency\": 1, \"value\": 0.955}, \"0.9199999999999999\": {\"frequency\": 2, \"value\": 0.9199999999999999}, \"0.13899999999999998\": {\"frequency\": 3, \"value\": 0.13899999999999998}, \"0.611\": {\"frequency\": 2, \"value\": 0.611}, \"0.08600000000000001\": {\"frequency\": 1, \"value\": 0.08600000000000001}, \"0.7150000000000001\": {\"frequency\": 2, \"value\": 0.7150000000000001}, \"0.892\": {\"frequency\": 1, \"value\": 0.892}, \"0.52\": {\"frequency\": 1, \"value\": 0.52}, \"0.437\": {\"frequency\": 2, \"value\": 0.437}, \"0.619\": {\"frequency\": 1, \"value\": 0.619}, \"0.298\": {\"frequency\": 1, \"value\": 0.298}, \"0.573\": {\"frequency\": 1, \"value\": 0.573}, \"0.7999999999999999\": {\"frequency\": 1, \"value\": 0.7999999999999999}, \"0.9420000000000001\": {\"frequency\": 1, \"value\": 0.9420000000000001}, \"0.6519999999999999\": {\"frequency\": 1, \"value\": 0.6519999999999999}, \"0.972\": {\"frequency\": 1, \"value\": 0.972}, \"0.044700000000000004\": {\"frequency\": 1, \"value\": 0.044700000000000004}, \"0.88\": {\"frequency\": 1, \"value\": 0.88}, \"0.689\": {\"frequency\": 2, \"value\": 0.689}, \"0.0482\": {\"frequency\": 1, \"value\": 0.0482}, \"0.919\": {\"frequency\": 1, \"value\": 0.919}, \"0.0473\": {\"frequency\": 1, \"value\": 0.0473}, \"0.414\": {\"frequency\": 1, \"value\": 0.414}, \"0.655\": {\"frequency\": 2, \"value\": 0.655}, \"0.0508\": {\"frequency\": 1, \"value\": 0.0508}, \"0.328\": {\"frequency\": 1, \"value\": 0.328}, \"1.18\": {\"frequency\": 9, \"value\": 1.18}, \"0.9299999999999999\": {\"frequency\": 1, \"value\": 0.9299999999999999}, \"0.7050000000000001\": {\"frequency\": 2, \"value\": 0.7050000000000001}, \"0.894\": {\"frequency\": 1, \"value\": 0.894}, \"0.557\": {\"frequency\": 3, \"value\": 0.557}, \"0.8460000000000001\": {\"frequency\": 1, \"value\": 0.8460000000000001}, \"0.909\": {\"frequency\": 1, \"value\": 0.909}, \"0.583\": {\"frequency\": 1, \"value\": 0.583}, \"0.636\": {\"frequency\": 3, \"value\": 0.636}, \"0.0935\": {\"frequency\": 1, \"value\": 0.0935}, \"0.863\": {\"frequency\": 1, \"value\": 0.863}, \"0.048100000000000004\": {\"frequency\": 1, \"value\": 0.048100000000000004}, \"0.42\": {\"frequency\": 2, \"value\": 0.42}, \"0.173\": {\"frequency\": 2, \"value\": 0.173}, \"0.6689999999999999\": {\"frequency\": 1, \"value\": 0.6689999999999999}, \"0.0129\": {\"frequency\": 1, \"value\": 0.0129}, \"0.15\": {\"frequency\": 1, \"value\": 0.15}, \"0.123\": {\"frequency\": 3, \"value\": 0.123}, \"0.243\": {\"frequency\": 1, \"value\": 0.243}, \"0.543\": {\"frequency\": 2, \"value\": 0.543}, \"0.167\": {\"frequency\": 1, \"value\": 0.167}, \"0.197\": {\"frequency\": 1, \"value\": 0.197}, \"0.26\": {\"frequency\": 1, \"value\": 0.26}, \"0.7220000000000001\": {\"frequency\": 2, \"value\": 0.7220000000000001}, \"0.28700000000000003\": {\"frequency\": 2, \"value\": 0.28700000000000003}, \"0.653\": {\"frequency\": 2, \"value\": 0.653}, \"0.5880000000000001\": {\"frequency\": 4, \"value\": 0.5880000000000001}, \"0.22\": {\"frequency\": 3, \"value\": 0.22}, \"0.607\": {\"frequency\": 1, \"value\": 0.607}, \"0.872\": {\"frequency\": 2, \"value\": 0.872}, \"1.19\": {\"frequency\": 7, \"value\": 1.19}, \"0.44499999999999995\": {\"frequency\": 1, \"value\": 0.44499999999999995}, \"0.8150000000000001\": {\"frequency\": 1, \"value\": 0.8150000000000001}, \"0.654\": {\"frequency\": 1, \"value\": 0.654}, \"0.181\": {\"frequency\": 1, \"value\": 0.181}, \"0.913\": {\"frequency\": 2, \"value\": 0.913}, \"0.687\": {\"frequency\": 1, \"value\": 0.687}, \"0.5549999999999999\": {\"frequency\": 1, \"value\": 0.5549999999999999}, \"0.826\": {\"frequency\": 1, \"value\": 0.826}, \"0.108\": {\"frequency\": 1, \"value\": 0.108}, \"0.644\": {\"frequency\": 1, \"value\": 0.644}, \"0.29400000000000004\": {\"frequency\": 2, \"value\": 0.29400000000000004}, \"0.5910000000000001\": {\"frequency\": 1, \"value\": 0.5910000000000001}, \"0.516\": {\"frequency\": 1, \"value\": 0.516}, \"0.8029999999999999\": {\"frequency\": 3, \"value\": 0.8029999999999999}, \"0.8180000000000001\": {\"frequency\": 1, \"value\": 0.8180000000000001}, \"0.795\": {\"frequency\": 1, \"value\": 0.795}, \"0.17800000000000002\": {\"frequency\": 1, \"value\": 0.17800000000000002}, \"0.0965\": {\"frequency\": 1, \"value\": 0.0965}, \"0.765\": {\"frequency\": 1, \"value\": 0.765}, \"0.039\": {\"frequency\": 1, \"value\": 0.039}, \"0.871\": {\"frequency\": 2, \"value\": 0.871}, \"0.703\": {\"frequency\": 1, \"value\": 0.703}, \"0.755\": {\"frequency\": 1, \"value\": 0.755}, \"0.6799999999999999\": {\"frequency\": 1, \"value\": 0.6799999999999999}, \"0.0796\": {\"frequency\": 1, \"value\": 0.0796}, \"0.9069999999999999\": {\"frequency\": 1, \"value\": 0.9069999999999999}, \"0.5640000000000001\": {\"frequency\": 1, \"value\": 0.5640000000000001}, \"0.424\": {\"frequency\": 1, \"value\": 0.424}, \"0.36600000000000005\": {\"frequency\": 1, \"value\": 0.36600000000000005}, \"1.2\": {\"frequency\": 10, \"value\": 1.2}, \"0.0814\": {\"frequency\": 1, \"value\": 0.0814}, \"0.379\": {\"frequency\": 2, \"value\": 0.379}, \"0.346\": {\"frequency\": 4, \"value\": 0.346}, \"0.7\": {\"frequency\": 2, \"value\": 0.7}, \"0.517\": {\"frequency\": 1, \"value\": 0.517}, \"0.876\": {\"frequency\": 1, \"value\": 0.876}, \"0.893\": {\"frequency\": 1, \"value\": 0.893}, \"0.16999999999999998\": {\"frequency\": 1, \"value\": 0.16999999999999998}, \"0.6080000000000001\": {\"frequency\": 1, \"value\": 0.6080000000000001}, \"0.8350000000000001\": {\"frequency\": 1, \"value\": 0.8350000000000001}, \"0.9269999999999999\": {\"frequency\": 1, \"value\": 0.9269999999999999}, \"0.203\": {\"frequency\": 1, \"value\": 0.203}, \"1.12\": {\"frequency\": 7, \"value\": 1.12}, \"0.539\": {\"frequency\": 2, \"value\": 0.539}, \"0.129\": {\"frequency\": 1, \"value\": 0.129}, \"0.309\": {\"frequency\": 2, \"value\": 0.309}, \"1.24\": {\"frequency\": 8, \"value\": 1.24}, \"0.595\": {\"frequency\": 1, \"value\": 0.595}, \"0.12100000000000001\": {\"frequency\": 1, \"value\": 0.12100000000000001}, \"0.572\": {\"frequency\": 1, \"value\": 0.572}, \"0.46199999999999997\": {\"frequency\": 1, \"value\": 0.46199999999999997}, \"0.19399999999999998\": {\"frequency\": 1, \"value\": 0.19399999999999998}, \"0.17200000000000001\": {\"frequency\": 3, \"value\": 0.17200000000000001}, \"0.185\": {\"frequency\": 1, \"value\": 0.185}, \"0.847\": {\"frequency\": 3, \"value\": 0.847}, \"0.9569999999999999\": {\"frequency\": 3, \"value\": 0.9569999999999999}, \"0.915\": {\"frequency\": 1, \"value\": 0.915}, \"0.206\": {\"frequency\": 3, \"value\": 0.206}, \"0.774\": {\"frequency\": 2, \"value\": 0.774}, \"0.15200000000000002\": {\"frequency\": 1, \"value\": 0.15200000000000002}, \"0.436\": {\"frequency\": 1, \"value\": 0.436}, \"0.767\": {\"frequency\": 1, \"value\": 0.767}, \"0.444\": {\"frequency\": 1, \"value\": 0.444}, \"0.513\": {\"frequency\": 4, \"value\": 0.513}, \"0.16899999999999998\": {\"frequency\": 1, \"value\": 0.16899999999999998}, \"0.454\": {\"frequency\": 1, \"value\": 0.454}, \"0.76\": {\"frequency\": 1, \"value\": 0.76}, \"0.435\": {\"frequency\": 3, \"value\": 0.435}, \"0.365\": {\"frequency\": 2, \"value\": 0.365}, \"0.06770000000000001\": {\"frequency\": 1, \"value\": 0.06770000000000001}, \"0.862\": {\"frequency\": 2, \"value\": 0.862}, \"0.189\": {\"frequency\": 3, \"value\": 0.189}, \"0.964\": {\"frequency\": 2, \"value\": 0.964}, \"0.744\": {\"frequency\": 2, \"value\": 0.744}, \"0.408\": {\"frequency\": 1, \"value\": 0.408}, \"0.13199999999999998\": {\"frequency\": 1, \"value\": 0.13199999999999998}, \"0.789\": {\"frequency\": 1, \"value\": 0.789}, \"0.053\": {\"frequency\": 1, \"value\": 0.053}, \"0.367\": {\"frequency\": 5, \"value\": 0.367}, \"0.812\": {\"frequency\": 2, \"value\": 0.812}, \"0.9739999999999999\": {\"frequency\": 2, \"value\": 0.9739999999999999}, \"0.149\": {\"frequency\": 1, \"value\": 0.149}, \"0.166\": {\"frequency\": 1, \"value\": 0.166}, \"0.312\": {\"frequency\": 3, \"value\": 0.312}, \"0.474\": {\"frequency\": 2, \"value\": 0.474}, \"0.9820000000000001\": {\"frequency\": 1, \"value\": 0.9820000000000001}, \"0.808\": {\"frequency\": 1, \"value\": 0.808}, \"0.248\": {\"frequency\": 2, \"value\": 0.248}, \"0.891\": {\"frequency\": 1, \"value\": 0.891}, \"0.9710000000000001\": {\"frequency\": 1, \"value\": 0.9710000000000001}, \"0.6980000000000001\": {\"frequency\": 1, \"value\": 0.6980000000000001}, \"0.39999999999999997\": {\"frequency\": 2, \"value\": 0.39999999999999997}, \"1.1\": {\"frequency\": 5, \"value\": 1.1}, \"0.527\": {\"frequency\": 1, \"value\": 0.527}, \"0.754\": {\"frequency\": 3, \"value\": 0.754}, \"0.303\": {\"frequency\": 1, \"value\": 0.303}, \"0.08\": {\"frequency\": 1, \"value\": 0.08}, \"0.618\": {\"frequency\": 2, \"value\": 0.618}, \"0.833\": {\"frequency\": 3, \"value\": 0.833}, \"0.8099999999999999\": {\"frequency\": 1, \"value\": 0.8099999999999999}, \"1.01\": {\"frequency\": 8, \"value\": 1.01}, \"0.6619999999999999\": {\"frequency\": 1, \"value\": 0.6619999999999999}, \"0.918\": {\"frequency\": 2, \"value\": 0.918}, \"0.561\": {\"frequency\": 2, \"value\": 0.561}, \"0.9909999999999999\": {\"frequency\": 1, \"value\": 0.9909999999999999}, \"0.305\": {\"frequency\": 3, \"value\": 0.305}, \"0.36\": {\"frequency\": 1, \"value\": 0.36}, \"0.00878\": {\"frequency\": 1, \"value\": 0.00878}, \"0.853\": {\"frequency\": 2, \"value\": 0.853}, \"0.663\": {\"frequency\": 1, \"value\": 0.663}, \"0.286\": {\"frequency\": 1, \"value\": 0.286}, \"0.101\": {\"frequency\": 2, \"value\": 0.101}, \"0.752\": {\"frequency\": 1, \"value\": 0.752}, \"0.0534\": {\"frequency\": 1, \"value\": 0.0534}, \"0.21400000000000002\": {\"frequency\": 1, \"value\": 0.21400000000000002}, \"0.515\": {\"frequency\": 1, \"value\": 0.515}, \"0.9650000000000001\": {\"frequency\": 1, \"value\": 0.9650000000000001}, \"0.0569\": {\"frequency\": 1, \"value\": 0.0569}, \"0.5670000000000001\": {\"frequency\": 1, \"value\": 0.5670000000000001}, \"0.23099999999999998\": {\"frequency\": 1, \"value\": 0.23099999999999998}, \"0.136\": {\"frequency\": 1, \"value\": 0.136}, \"0.896\": {\"frequency\": 1, \"value\": 0.896}, \"0.499\": {\"frequency\": 2, \"value\": 0.499}, \"0.6\": {\"frequency\": 2, \"value\": 0.6}, \"0.124\": {\"frequency\": 3, \"value\": 0.124}, \"0.749\": {\"frequency\": 1, \"value\": 0.749}, \"0.6789999999999999\": {\"frequency\": 2, \"value\": 0.6789999999999999}, \"0.00884\": {\"frequency\": 1, \"value\": 0.00884}, \"0.28\": {\"frequency\": 1, \"value\": 0.28}, \"0.719\": {\"frequency\": 1, \"value\": 0.719}, \"0.747\": {\"frequency\": 1, \"value\": 0.747}, \"0.0241\": {\"frequency\": 1, \"value\": 0.0241}, \"0.5249999999999999\": {\"frequency\": 1, \"value\": 0.5249999999999999}, \"0.787\": {\"frequency\": 1, \"value\": 0.787}, \"0.49100000000000005\": {\"frequency\": 1, \"value\": 0.49100000000000005}, \"0.733\": {\"frequency\": 1, \"value\": 0.733}, \"0.14600000000000002\": {\"frequency\": 2, \"value\": 0.14600000000000002}, \"0.257\": {\"frequency\": 1, \"value\": 0.257}, \"0.936\": {\"frequency\": 1, \"value\": 0.936}, \"0.394\": {\"frequency\": 1, \"value\": 0.394}, \"0.13699999999999998\": {\"frequency\": 1, \"value\": 0.13699999999999998}, \"0.64\": {\"frequency\": 2, \"value\": 0.64}, \"0.641\": {\"frequency\": 2, \"value\": 0.641}, \"0.575\": {\"frequency\": 2, \"value\": 0.575}, \"0.617\": {\"frequency\": 1, \"value\": 0.617}, \"0.013000000000000001\": {\"frequency\": 1, \"value\": 0.013000000000000001}, \"0.969\": {\"frequency\": 1, \"value\": 0.969}, \"0.821\": {\"frequency\": 1, \"value\": 0.821}, \"0.5479999999999999\": {\"frequency\": 2, \"value\": 0.5479999999999999}, \"0.9169999999999999\": {\"frequency\": 1, \"value\": 0.9169999999999999}, \"1.0499999999999998\": {\"frequency\": 14, \"value\": 1.0499999999999998}, \"0.925\": {\"frequency\": 1, \"value\": 0.925}, \"0.593\": {\"frequency\": 1, \"value\": 0.593}, \"0.648\": {\"frequency\": 1, \"value\": 0.648}, \"0.785\": {\"frequency\": 2, \"value\": 0.785}, \"0.268\": {\"frequency\": 1, \"value\": 0.268}, \"0.895\": {\"frequency\": 2, \"value\": 0.895}, \"0.205\": {\"frequency\": 1, \"value\": 0.205}, \"0.502\": {\"frequency\": 2, \"value\": 0.502}, \"0.9990000000000001\": {\"frequency\": 1, \"value\": 0.9990000000000001}, \"0.047799999999999995\": {\"frequency\": 1, \"value\": 0.047799999999999995}, \"0.6010000000000001\": {\"frequency\": 1, \"value\": 0.6010000000000001}, \"0.222\": {\"frequency\": 2, \"value\": 0.222}, \"0.5780000000000001\": {\"frequency\": 1, \"value\": 0.5780000000000001}, \"0.00662\": {\"frequency\": 1, \"value\": 0.00662}, \"0.117\": {\"frequency\": 1, \"value\": 0.117}, \"0.010499999999999999\": {\"frequency\": 1, \"value\": 0.010499999999999999}, \"0.532\": {\"frequency\": 1, \"value\": 0.532}, \"0.884\": {\"frequency\": 1, \"value\": 0.884}, \"0.432\": {\"frequency\": 1, \"value\": 0.432}, \"0.9560000000000001\": {\"frequency\": 1, \"value\": 0.9560000000000001}, \"0.184\": {\"frequency\": 1, \"value\": 0.184}, \"0.419\": {\"frequency\": 3, \"value\": 0.419}, \"0.615\": {\"frequency\": 3, \"value\": 0.615}, \"0.565\": {\"frequency\": 1, \"value\": 0.565}, \"0.5419999999999999\": {\"frequency\": 1, \"value\": 0.5419999999999999}, \"0.933\": {\"frequency\": 2, \"value\": 0.933}, \"0.83\": {\"frequency\": 2, \"value\": 0.83}, \"0.296\": {\"frequency\": 1, \"value\": 0.296}, \"0.0477\": {\"frequency\": 1, \"value\": 0.0477}, \"0.7969999999999999\": {\"frequency\": 2, \"value\": 0.7969999999999999}, \"0.0117\": {\"frequency\": 1, \"value\": 0.0117}, \"0.31\": {\"frequency\": 2, \"value\": 0.31}, \"0.9700000000000001\": {\"frequency\": 2, \"value\": 0.9700000000000001}, \"0.637\": {\"frequency\": 1, \"value\": 0.637}, \"0.665\": {\"frequency\": 1, \"value\": 0.665}, \"0.337\": {\"frequency\": 1, \"value\": 0.337}, \"0.09949999999999999\": {\"frequency\": 1, \"value\": 0.09949999999999999}, \"0.526\": {\"frequency\": 1, \"value\": 0.526}, \"0.753\": {\"frequency\": 2, \"value\": 0.753}, \"0.632\": {\"frequency\": 3, \"value\": 0.632}, \"0.98\": {\"frequency\": 2, \"value\": 0.98}, \"0.291\": {\"frequency\": 2, \"value\": 0.291}, \"0.5589999999999999\": {\"frequency\": 1, \"value\": 0.5589999999999999}, \"0.912\": {\"frequency\": 1, \"value\": 0.912}, \"0.39299999999999996\": {\"frequency\": 2, \"value\": 0.39299999999999996}, \"0.0837\": {\"frequency\": 1, \"value\": 0.0837}, \"0.932\": {\"frequency\": 1, \"value\": 0.932}, \"0.027299999999999998\": {\"frequency\": 1, \"value\": 0.027299999999999998}, \"0.841\": {\"frequency\": 1, \"value\": 0.841}, \"0.0015300000000000001\": {\"frequency\": 1, \"value\": 0.0015300000000000001}, \"0.375\": {\"frequency\": 1, \"value\": 0.375}, \"0.25\": {\"frequency\": 1, \"value\": 0.25}, \"0.392\": {\"frequency\": 2, \"value\": 0.392}, \"0.693\": {\"frequency\": 1, \"value\": 0.693}, \"0.868\": {\"frequency\": 2, \"value\": 0.868}, \"0.14100000000000001\": {\"frequency\": 1, \"value\": 0.14100000000000001}, \"0.0668\": {\"frequency\": 1, \"value\": 0.0668}, \"0.6910000000000001\": {\"frequency\": 2, \"value\": 0.6910000000000001}, \"0.443\": {\"frequency\": 1, \"value\": 0.443}, \"0.668\": {\"frequency\": 2, \"value\": 0.668}, \"0.585\": {\"frequency\": 2, \"value\": 0.585}, \"1.04\": {\"frequency\": 6, \"value\": 1.04}, \"0.493\": {\"frequency\": 2, \"value\": 0.493}, \"0.368\": {\"frequency\": 1, \"value\": 0.368}, \"0.109\": {\"frequency\": 1, \"value\": 0.109}, \"0.724\": {\"frequency\": 1, \"value\": 0.724}, \"0.951\": {\"frequency\": 2, \"value\": 0.951}, \"0.738\": {\"frequency\": 1, \"value\": 0.738}, \"0.128\": {\"frequency\": 1, \"value\": 0.128}, \"0.0281\": {\"frequency\": 1, \"value\": 0.0281}, \"0.105\": {\"frequency\": 1, \"value\": 0.105}, \"0.0939\": {\"frequency\": 1, \"value\": 0.0939}, \"0.729\": {\"frequency\": 2, \"value\": 0.729}, \"0.227\": {\"frequency\": 1, \"value\": 0.227}, \"0.0184\": {\"frequency\": 1, \"value\": 0.0184}, \"0.162\": {\"frequency\": 1, \"value\": 0.162}, \"0.00735\": {\"frequency\": 1, \"value\": 0.00735}, \"0.0865\": {\"frequency\": 1, \"value\": 0.0865}, \"0.08059999999999999\": {\"frequency\": 1, \"value\": 0.08059999999999999}, \"0.061000000000000006\": {\"frequency\": 1, \"value\": 0.061000000000000006}, \"0.8560000000000001\": {\"frequency\": 2, \"value\": 0.8560000000000001}, \"0.35400000000000004\": {\"frequency\": 1, \"value\": 0.35400000000000004}, \"1.02\": {\"frequency\": 8, \"value\": 1.02}, \"1.26\": {\"frequency\": 8, \"value\": 1.26}, \"0.407\": {\"frequency\": 1, \"value\": 0.407}, \"0.456\": {\"frequency\": 1, \"value\": 0.456}, \"0.639\": {\"frequency\": 1, \"value\": 0.639}, \"0.843\": {\"frequency\": 3, \"value\": 0.843}, \"0.873\": {\"frequency\": 1, \"value\": 0.873}, \"0.41\": {\"frequency\": 1, \"value\": 0.41}, \"0.612\": {\"frequency\": 1, \"value\": 0.612}, \"0.16799999999999998\": {\"frequency\": 1, \"value\": 0.16799999999999998}, \"0.254\": {\"frequency\": 2, \"value\": 0.254}, \"0.906\": {\"frequency\": 3, \"value\": 0.906}, \"0.84\": {\"frequency\": 1, \"value\": 0.84}, \"0.62\": {\"frequency\": 1, \"value\": 0.62}, \"0.0587\": {\"frequency\": 1, \"value\": 0.0587}, \"0.523\": {\"frequency\": 1, \"value\": 0.523}, \"0.589\": {\"frequency\": 1, \"value\": 0.589}, \"0.057800000000000004\": {\"frequency\": 1, \"value\": 0.057800000000000004}, \"0.0054199999999999995\": {\"frequency\": 1, \"value\": 0.0054199999999999995}, \"0.0971\": {\"frequency\": 1, \"value\": 0.0971}, \"0.266\": {\"frequency\": 2, \"value\": 0.266}, \"0.633\": {\"frequency\": 1, \"value\": 0.633}, \"0.566\": {\"frequency\": 1, \"value\": 0.566}, \"0.0856\": {\"frequency\": 1, \"value\": 0.0856}, \"0.7250000000000001\": {\"frequency\": 2, \"value\": 0.7250000000000001}, \"0.675\": {\"frequency\": 1, \"value\": 0.675}, \"0.246\": {\"frequency\": 1, \"value\": 0.246}, \"0.5770000000000001\": {\"frequency\": 1, \"value\": 0.5770000000000001}, \"0.317\": {\"frequency\": 1, \"value\": 0.317}, \"0.201\": {\"frequency\": 2, \"value\": 0.201}, \"0.781\": {\"frequency\": 1, \"value\": 0.781}, \"0.223\": {\"frequency\": 1, \"value\": 0.223}, \"0.883\": {\"frequency\": 1, \"value\": 0.883}, \"0.459\": {\"frequency\": 1, \"value\": 0.459}, \"1.22\": {\"frequency\": 6, \"value\": 1.22}, \"0.837\": {\"frequency\": 2, \"value\": 0.837}, \"0.74\": {\"frequency\": 2, \"value\": 0.74}, \"0.861\": {\"frequency\": 1, \"value\": 0.861}, \"1.27\": {\"frequency\": 7, \"value\": 1.27}, \"0.5179999999999999\": {\"frequency\": 2, \"value\": 0.5179999999999999}, \"0.061200000000000004\": {\"frequency\": 1, \"value\": 0.061200000000000004}, \"1.03\": {\"frequency\": 3, \"value\": 1.03}, \"0.402\": {\"frequency\": 1, \"value\": 0.402}, \"0.311\": {\"frequency\": 1, \"value\": 0.311}, \"0.503\": {\"frequency\": 1, \"value\": 0.503}, \"0.963\": {\"frequency\": 1, \"value\": 0.963}, \"0.9969999999999999\": {\"frequency\": 2, \"value\": 0.9969999999999999}, \"0.845\": {\"frequency\": 3, \"value\": 0.845}, \"0.06330000000000001\": {\"frequency\": 1, \"value\": 0.06330000000000001}, \"0.475\": {\"frequency\": 1, \"value\": 0.475}, \"0.13\": {\"frequency\": 1, \"value\": 0.13}, \"0.69\": {\"frequency\": 3, \"value\": 0.69}, \"0.113\": {\"frequency\": 1, \"value\": 0.113}, \"0.29700000000000004\": {\"frequency\": 1, \"value\": 0.29700000000000004}, \"0.9460000000000001\": {\"frequency\": 1, \"value\": 0.9460000000000001}, \"0.923\": {\"frequency\": 3, \"value\": 0.923}, \"0.373\": {\"frequency\": 2, \"value\": 0.373}, \"1.1099999999999999\": {\"frequency\": 6, \"value\": 1.1099999999999999}, \"0.65\": {\"frequency\": 1, \"value\": 0.65}, \"0.188\": {\"frequency\": 2, \"value\": 0.188}, \"0.151\": {\"frequency\": 1, \"value\": 0.151}, \"0.706\": {\"frequency\": 1, \"value\": 0.706}, \"0.739\": {\"frequency\": 1, \"value\": 0.739}, \"0.6829999999999999\": {\"frequency\": 1, \"value\": 0.6829999999999999}, \"1.0699999999999998\": {\"frequency\": 9, \"value\": 1.0699999999999998}, \"0.315\": {\"frequency\": 1, \"value\": 0.315}, \"0.0992\": {\"frequency\": 1, \"value\": 0.0992}, \"0.522\": {\"frequency\": 1, \"value\": 0.522}, \"0.339\": {\"frequency\": 1, \"value\": 0.339}, \"0.0974\": {\"frequency\": 1, \"value\": 0.0974}, \"0.77\": {\"frequency\": 1, \"value\": 0.77}, \"0.6729999999999999\": {\"frequency\": 1, \"value\": 0.6729999999999999}, \"1.28\": {\"frequency\": 6, \"value\": 1.28}, \"0.103\": {\"frequency\": 2, \"value\": 0.103}, \"0.49800000000000005\": {\"frequency\": 1, \"value\": 0.49800000000000005}, \"0.634\": {\"frequency\": 1, \"value\": 0.634}, \"0.195\": {\"frequency\": 1, \"value\": 0.195}, \"0.9490000000000001\": {\"frequency\": 1, \"value\": 0.9490000000000001}, \"0.00303\": {\"frequency\": 1, \"value\": 0.00303}, \"0.814\": {\"frequency\": 1, \"value\": 0.814}, \"0.7959999999999999\": {\"frequency\": 2, \"value\": 0.7959999999999999}, \"0.5980000000000001\": {\"frequency\": 5, \"value\": 0.5980000000000001}, \"0.14700000000000002\": {\"frequency\": 1, \"value\": 0.14700000000000002}, \"0.7320000000000001\": {\"frequency\": 1, \"value\": 0.7320000000000001}, \"0.85\": {\"frequency\": 1, \"value\": 0.85}, \"0.623\": {\"frequency\": 1, \"value\": 0.623}, \"0.882\": {\"frequency\": 1, \"value\": 0.882}, \"0.099\": {\"frequency\": 1, \"value\": 0.099}, \"0.322\": {\"frequency\": 1, \"value\": 0.322}, \"0.621\": {\"frequency\": 1, \"value\": 0.621}, \"0.508\": {\"frequency\": 1, \"value\": 0.508}, \"0.817\": {\"frequency\": 2, \"value\": 0.817}, \"0.212\": {\"frequency\": 1, \"value\": 0.212}, \"0.175\": {\"frequency\": 2, \"value\": 0.175}, \"0.164\": {\"frequency\": 2, \"value\": 0.164}, \"0.13799999999999998\": {\"frequency\": 1, \"value\": 0.13799999999999998}, \"0.734\": {\"frequency\": 2, \"value\": 0.734}, \"0.422\": {\"frequency\": 2, \"value\": 0.422}, \"0.267\": {\"frequency\": 1, \"value\": 0.267}, \"0.0745\": {\"frequency\": 1, \"value\": 0.0745}, \"0.7180000000000001\": {\"frequency\": 1, \"value\": 0.7180000000000001}, \"0.711\": {\"frequency\": 1, \"value\": 0.711}, \"0.452\": {\"frequency\": 1, \"value\": 0.452}, \"0.938\": {\"frequency\": 1, \"value\": 0.938}, \"1.29\": {\"frequency\": 4, \"value\": 1.29}, \"0.505\": {\"frequency\": 2, \"value\": 0.505}, \"0.8320000000000001\": {\"frequency\": 1, \"value\": 0.8320000000000001}, \"0.171\": {\"frequency\": 1, \"value\": 0.171}, \"0.911\": {\"frequency\": 3, \"value\": 0.911}, \"0.116\": {\"frequency\": 3, \"value\": 0.116}, \"0.638\": {\"frequency\": 1, \"value\": 0.638}, \"1.23\": {\"frequency\": 8, \"value\": 1.23}, \"0.967\": {\"frequency\": 1, \"value\": 0.967}, \"0.569\": {\"frequency\": 2, \"value\": 0.569}, \"0.983\": {\"frequency\": 1, \"value\": 0.983}, \"1.32\": {\"frequency\": 10, \"value\": 1.32}, \"0.888\": {\"frequency\": 1, \"value\": 0.888}, \"0.947\": {\"frequency\": 1, \"value\": 0.947}, \"1.17\": {\"frequency\": 13, \"value\": 1.17}, \"0.253\": {\"frequency\": 1, \"value\": 0.253}, \"0.0941\": {\"frequency\": 1, \"value\": 0.0941}, \"0.389\": {\"frequency\": 1, \"value\": 0.389}, \"0.106\": {\"frequency\": 1, \"value\": 0.106}, \"0.8490000000000001\": {\"frequency\": 3, \"value\": 0.8490000000000001}, \"0.7010000000000001\": {\"frequency\": 2, \"value\": 0.7010000000000001}, \"0.0101\": {\"frequency\": 1, \"value\": 0.0101}, \"1.13\": {\"frequency\": 9, \"value\": 1.13}, \"0.464\": {\"frequency\": 1, \"value\": 0.464}, \"0.966\": {\"frequency\": 2, \"value\": 0.966}, \"0.055\": {\"frequency\": 1, \"value\": 0.055}, \"0.757\": {\"frequency\": 1, \"value\": 0.757}, \"0.492\": {\"frequency\": 2, \"value\": 0.492}, \"0.144\": {\"frequency\": 1, \"value\": 0.144}, \"0.09570000000000001\": {\"frequency\": 1, \"value\": 0.09570000000000001}, \"0.586\": {\"frequency\": 3, \"value\": 0.586}, \"0.859\": {\"frequency\": 1, \"value\": 0.859}, \"0.469\": {\"frequency\": 4, \"value\": 0.469}, \"0.7899999999999999\": {\"frequency\": 1, \"value\": 0.7899999999999999}, \"0.857\": {\"frequency\": 1, \"value\": 0.857}, \"0.22499999999999998\": {\"frequency\": 1, \"value\": 0.22499999999999998}, \"0.49699999999999994\": {\"frequency\": 1, \"value\": 0.49699999999999994}, \"0.496\": {\"frequency\": 2, \"value\": 0.496}, \"0.723\": {\"frequency\": 1, \"value\": 0.723}, \"0.0206\": {\"frequency\": 1, \"value\": 0.0206}, \"0.275\": {\"frequency\": 1, \"value\": 0.275}, \"0.55\": {\"frequency\": 1, \"value\": 0.55}, \"0.325\": {\"frequency\": 1, \"value\": 0.325}, \"0.29\": {\"frequency\": 1, \"value\": 0.29}, \"0.736\": {\"frequency\": 1, \"value\": 0.736}, \"0.38\": {\"frequency\": 1, \"value\": 0.38}, \"1.06\": {\"frequency\": 6, \"value\": 1.06}, \"0.192\": {\"frequency\": 1, \"value\": 0.192}, \"0.8660000000000001\": {\"frequency\": 3, \"value\": 0.8660000000000001}, \"0.35900000000000004\": {\"frequency\": 1, \"value\": 0.35900000000000004}, \"0.0673\": {\"frequency\": 1, \"value\": 0.0673}, \"0.48500000000000004\": {\"frequency\": 1, \"value\": 0.48500000000000004}, \"1.1400000000000001\": {\"frequency\": 11, \"value\": 1.1400000000000001}, \"0.778\": {\"frequency\": 1, \"value\": 0.778}, \"0.922\": {\"frequency\": 2, \"value\": 0.922}, \"0.0928\": {\"frequency\": 1, \"value\": 0.0928}, \"0.252\": {\"frequency\": 1, \"value\": 0.252}, \"0.524\": {\"frequency\": 1, \"value\": 0.524}, \"0.501\": {\"frequency\": 2, \"value\": 0.501}, \"0.397\": {\"frequency\": 2, \"value\": 0.397}, \"0.603\": {\"frequency\": 3, \"value\": 0.603}, \"0.145\": {\"frequency\": 2, \"value\": 0.145}, \"0.8220000000000001\": {\"frequency\": 1, \"value\": 0.8220000000000001}, \"0.6819999999999999\": {\"frequency\": 1, \"value\": 0.6819999999999999}, \"0.6719999999999999\": {\"frequency\": 1, \"value\": 0.6719999999999999}, \"0.24699999999999997\": {\"frequency\": 2, \"value\": 0.24699999999999997}, \"0.0444\": {\"frequency\": 1, \"value\": 0.0444}, \"0.5700000000000001\": {\"frequency\": 1, \"value\": 0.5700000000000001}, \"0.674\": {\"frequency\": 2, \"value\": 0.674}, \"0.00295\": {\"frequency\": 1, \"value\": 0.00295}, \"0.958\": {\"frequency\": 1, \"value\": 0.958}, \"0.596\": {\"frequency\": 1, \"value\": 0.596}, \"0.34400000000000003\": {\"frequency\": 1, \"value\": 0.34400000000000003}, \"0.18\": {\"frequency\": 1, \"value\": 0.18}, \"0.651\": {\"frequency\": 1, \"value\": 0.651}, \"0.627\": {\"frequency\": 1, \"value\": 0.627}, \"0.265\": {\"frequency\": 1, \"value\": 0.265}, \"0.357\": {\"frequency\": 2, \"value\": 0.357}, \"0.9850000000000001\": {\"frequency\": 2, \"value\": 0.9850000000000001}, \"0.7120000000000001\": {\"frequency\": 1, \"value\": 0.7120000000000001}, \"0.0489\": {\"frequency\": 1, \"value\": 0.0489}, \"0.28200000000000003\": {\"frequency\": 1, \"value\": 0.28200000000000003}, \"0.992\": {\"frequency\": 1, \"value\": 0.992}, \"0.916\": {\"frequency\": 1, \"value\": 0.916}, \"0.773\": {\"frequency\": 3, \"value\": 0.773}, \"0.768\": {\"frequency\": 1, \"value\": 0.768}, \"0.33099999999999996\": {\"frequency\": 1, \"value\": 0.33099999999999996}, \"0.597\": {\"frequency\": 1, \"value\": 0.597}, \"0.647\": {\"frequency\": 1, \"value\": 0.647}, \"0.606\": {\"frequency\": 1, \"value\": 0.606}, \"0.824\": {\"frequency\": 1, \"value\": 0.824}, \"0.865\": {\"frequency\": 1, \"value\": 0.865}, \"0.33799999999999997\": {\"frequency\": 1, \"value\": 0.33799999999999997}, \"0.5279999999999999\": {\"frequency\": 1, \"value\": 0.5279999999999999}, \"1.21\": {\"frequency\": 8, \"value\": 1.21}, \"0.707\": {\"frequency\": 2, \"value\": 0.707}, \"0.72\": {\"frequency\": 2, \"value\": 0.72}, \"0.0497\": {\"frequency\": 1, \"value\": 0.0497}, \"0.798\": {\"frequency\": 1, \"value\": 0.798}, \"0.258\": {\"frequency\": 1, \"value\": 0.258}, \"0.35\": {\"frequency\": 1, \"value\": 0.35}, \"0.582\": {\"frequency\": 1, \"value\": 0.582}, \"0.536\": {\"frequency\": 1, \"value\": 0.536}, \"0.27099999999999996\": {\"frequency\": 1, \"value\": 0.27099999999999996}, \"0.221\": {\"frequency\": 2, \"value\": 0.221}, \"1.3\": {\"frequency\": 11, \"value\": 1.3}, \"0.384\": {\"frequency\": 1, \"value\": 0.384}, \"0.9790000000000001\": {\"frequency\": 2, \"value\": 0.9790000000000001}, \"0.948\": {\"frequency\": 1, \"value\": 0.948}, \"0.5810000000000001\": {\"frequency\": 1, \"value\": 0.5810000000000001}, \"0.0329\": {\"frequency\": 1, \"value\": 0.0329}, \"0.404\": {\"frequency\": 1, \"value\": 0.404}, \"0.46499999999999997\": {\"frequency\": 1, \"value\": 0.46499999999999997}, \"0.165\": {\"frequency\": 1, \"value\": 0.165}, \"0.762\": {\"frequency\": 1, \"value\": 0.762}, \"0.307\": {\"frequency\": 4, \"value\": 0.307}, \"0.748\": {\"frequency\": 1, \"value\": 0.748}, \"1.08\": {\"frequency\": 12, \"value\": 1.08}, \"0.33\": {\"frequency\": 1, \"value\": 0.33}, \"0.483\": {\"frequency\": 1, \"value\": 0.483}, \"0.568\": {\"frequency\": 1, \"value\": 0.568}, \"0.788\": {\"frequency\": 2, \"value\": 0.788}, \"0.0531\": {\"frequency\": 1, \"value\": 0.0531}, \"1.0899999999999999\": {\"frequency\": 5, \"value\": 1.0899999999999999}, \"0.251\": {\"frequency\": 2, \"value\": 0.251}, \"0.854\": {\"frequency\": 1, \"value\": 0.854}, \"0.811\": {\"frequency\": 1, \"value\": 0.811}, \"0.87\": {\"frequency\": 1, \"value\": 0.87}, \"0.0116\": {\"frequency\": 2, \"value\": 0.0116}, \"0.406\": {\"frequency\": 1, \"value\": 0.406}, \"0.903\": {\"frequency\": 1, \"value\": 0.903}, \"0.49500000000000005\": {\"frequency\": 1, \"value\": 0.49500000000000005}, \"0.387\": {\"frequency\": 3, \"value\": 0.387}, \"1.15\": {\"frequency\": 12, \"value\": 1.15}, \"0.24900000000000003\": {\"frequency\": 1, \"value\": 0.24900000000000003}, \"0.48100000000000004\": {\"frequency\": 1, \"value\": 0.48100000000000004}, \"0.29900000000000004\": {\"frequency\": 3, \"value\": 0.29900000000000004}, \"0.8250000000000001\": {\"frequency\": 1, \"value\": 0.8250000000000001}, \"0.401\": {\"frequency\": 1, \"value\": 0.401}, \"0.529\": {\"frequency\": 1, \"value\": 0.529}, \"0.751\": {\"frequency\": 1, \"value\": 0.751}, \"0.33599999999999997\": {\"frequency\": 1, \"value\": 0.33599999999999997}, \"0.631\": {\"frequency\": 6, \"value\": 0.631}, \"0.858\": {\"frequency\": 1, \"value\": 0.858}, \"0.5349999999999999\": {\"frequency\": 2, \"value\": 0.5349999999999999}, \"0.055600000000000004\": {\"frequency\": 1, \"value\": 0.055600000000000004}, \"0.71\": {\"frequency\": 2, \"value\": 0.71}, \"0.010400000000000001\": {\"frequency\": 1, \"value\": 0.010400000000000001}, \"0.6940000000000001\": {\"frequency\": 3, \"value\": 0.6940000000000001}, \"0.547\": {\"frequency\": 2, \"value\": 0.547}, \"0.981\": {\"frequency\": 1, \"value\": 0.981}, \"0.9139999999999999\": {\"frequency\": 1, \"value\": 0.9139999999999999}, \"0.38299999999999995\": {\"frequency\": 1, \"value\": 0.38299999999999995}, \"0.364\": {\"frequency\": 1, \"value\": 0.364}, \"1.31\": {\"frequency\": 5, \"value\": 1.31}, \"0.592\": {\"frequency\": 1, \"value\": 0.592}, \"0.889\": {\"frequency\": 1, \"value\": 0.889}, \"0.10700000000000001\": {\"frequency\": 2, \"value\": 0.10700000000000001}, \"0.27\": {\"frequency\": 1, \"value\": 0.27}, \"0.412\": {\"frequency\": 2, \"value\": 0.412}, \"1.16\": {\"frequency\": 15, \"value\": 1.16}, \"0.079\": {\"frequency\": 1, \"value\": 0.079}, \"0.283\": {\"frequency\": 1, \"value\": 0.283}, \"0.134\": {\"frequency\": 1, \"value\": 0.134}, \"0.00926\": {\"frequency\": 1, \"value\": 0.00926}, \"0.324\": {\"frequency\": 1, \"value\": 0.324}, \"0.9900000000000001\": {\"frequency\": 1, \"value\": 0.9900000000000001}, \"0.945\": {\"frequency\": 1, \"value\": 0.945}, \"0.34700000000000003\": {\"frequency\": 2, \"value\": 0.34700000000000003}, \"0.772\": {\"frequency\": 1, \"value\": 0.772}, \"0.671\": {\"frequency\": 1, \"value\": 0.671}, \"0.898\": {\"frequency\": 3, \"value\": 0.898}, \"0.9339999999999999\": {\"frequency\": 1, \"value\": 0.9339999999999999}}, \"mean\": 0.6866714095238095}, \"selected_variable\": {\"name\": [\"<SArray>\"], \"dtype\": \"float\", \"view_component\": \"Numeric\", \"view_file\": \"sarray\", \"descriptives\": {\"rows\": 1050}, \"type\": \"SArray\", \"view_components\": [\"Numeric\", \"Categorical\"]}, \"histogram\": {\"progress\": 1.0, \"histogram\": {\"max\": 1.325, \"bins\": [83, 77, 76, 81, 75, 104, 92, 97, 89, 84, 107, 85], \"min\": 0.00019999999999886775}, \"min\": 0.0015300000000000001, \"complete\": 1, \"max\": 1.32}}, e);\n",
       "                });\n",
       "            })();\n",
       "        "
      ]
     },
     "metadata": {},
     "output_type": "display_data"
    }
   ],
   "source": [
    "(en_dep['dE']*1e6).show()"
   ]
  },
  {
   "cell_type": "code",
   "execution_count": 44,
   "metadata": {
    "collapsed": false
   },
   "outputs": [
    {
     "data": {
      "text/html": [
       "<div style=\"max-height:1000px;max-width:1500px;overflow:auto;\"><table frame=\"box\" rules=\"cols\">\n",
       "    <tr>\n",
       "        <th style=\"padding-left: 1em; padding-right: 1em; text-align: center\">process_name</th>\n",
       "        <th style=\"padding-left: 1em; padding-right: 1em; text-align: center\">next_vol</th>\n",
       "        <th style=\"padding-left: 1em; padding-right: 1em; text-align: center\">mom_x</th>\n",
       "        <th style=\"padding-left: 1em; padding-right: 1em; text-align: center\">mom_dir_z</th>\n",
       "        <th style=\"padding-left: 1em; padding-right: 1em; text-align: center\">mom_dir_y</th>\n",
       "        <th style=\"padding-left: 1em; padding-right: 1em; text-align: center\">step_number</th>\n",
       "        <th style=\"padding-left: 1em; padding-right: 1em; text-align: center\">dE</th>\n",
       "        <th style=\"padding-left: 1em; padding-right: 1em; text-align: center\">particle_name</th>\n",
       "        <th style=\"padding-left: 1em; padding-right: 1em; text-align: center\">mom_dir_x</th>\n",
       "        <th style=\"padding-left: 1em; padding-right: 1em; text-align: center\">count_particle</th>\n",
       "    </tr>\n",
       "    <tr>\n",
       "        <td style=\"padding-left: 1em; padding-right: 1em; text-align: center; vertical-align: top\">hIoni</td>\n",
       "        <td style=\"padding-left: 1em; padding-right: 1em; text-align: center; vertical-align: top\">Abso</td>\n",
       "        <td style=\"padding-left: 1em; padding-right: 1em; text-align: center; vertical-align: top\">0</td>\n",
       "        <td style=\"padding-left: 1em; padding-right: 1em; text-align: center; vertical-align: top\">1</td>\n",
       "        <td style=\"padding-left: 1em; padding-right: 1em; text-align: center; vertical-align: top\">5</td>\n",
       "        <td style=\"padding-left: 1em; padding-right: 1em; text-align: center; vertical-align: top\">15</td>\n",
       "        <td style=\"padding-left: 1em; padding-right: 1em; text-align: center; vertical-align: top\">1.13e-06</td>\n",
       "        <td style=\"padding-left: 1em; padding-right: 1em; text-align: center; vertical-align: top\">proton</td>\n",
       "        <td style=\"padding-left: 1em; padding-right: 1em; text-align: center; vertical-align: top\">1</td>\n",
       "        <td style=\"padding-left: 1em; padding-right: 1em; text-align: center; vertical-align: top\">2317</td>\n",
       "    </tr>\n",
       "    <tr>\n",
       "        <td style=\"padding-left: 1em; padding-right: 1em; text-align: center; vertical-align: top\">hIoni</td>\n",
       "        <td style=\"padding-left: 1em; padding-right: 1em; text-align: center; vertical-align: top\">Abso</td>\n",
       "        <td style=\"padding-left: 1em; padding-right: 1em; text-align: center; vertical-align: top\">0</td>\n",
       "        <td style=\"padding-left: 1em; padding-right: 1em; text-align: center; vertical-align: top\">1</td>\n",
       "        <td style=\"padding-left: 1em; padding-right: 1em; text-align: center; vertical-align: top\">-1</td>\n",
       "        <td style=\"padding-left: 1em; padding-right: 1em; text-align: center; vertical-align: top\">12</td>\n",
       "        <td style=\"padding-left: 1em; padding-right: 1em; text-align: center; vertical-align: top\">1.28e-06</td>\n",
       "        <td style=\"padding-left: 1em; padding-right: 1em; text-align: center; vertical-align: top\">proton</td>\n",
       "        <td style=\"padding-left: 1em; padding-right: 1em; text-align: center; vertical-align: top\">3</td>\n",
       "        <td style=\"padding-left: 1em; padding-right: 1em; text-align: center; vertical-align: top\">4230</td>\n",
       "    </tr>\n",
       "    <tr>\n",
       "        <td style=\"padding-left: 1em; padding-right: 1em; text-align: center; vertical-align: top\">hIoni</td>\n",
       "        <td style=\"padding-left: 1em; padding-right: 1em; text-align: center; vertical-align: top\">Abso</td>\n",
       "        <td style=\"padding-left: 1em; padding-right: 1em; text-align: center; vertical-align: top\">0</td>\n",
       "        <td style=\"padding-left: 1em; padding-right: 1em; text-align: center; vertical-align: top\">1</td>\n",
       "        <td style=\"padding-left: 1em; padding-right: 1em; text-align: center; vertical-align: top\">7</td>\n",
       "        <td style=\"padding-left: 1em; padding-right: 1em; text-align: center; vertical-align: top\">4</td>\n",
       "        <td style=\"padding-left: 1em; padding-right: 1em; text-align: center; vertical-align: top\">1.22e-06</td>\n",
       "        <td style=\"padding-left: 1em; padding-right: 1em; text-align: center; vertical-align: top\">proton</td>\n",
       "        <td style=\"padding-left: 1em; padding-right: 1em; text-align: center; vertical-align: top\">-1</td>\n",
       "        <td style=\"padding-left: 1em; padding-right: 1em; text-align: center; vertical-align: top\">4465</td>\n",
       "    </tr>\n",
       "    <tr>\n",
       "        <td style=\"padding-left: 1em; padding-right: 1em; text-align: center; vertical-align: top\">hIoni</td>\n",
       "        <td style=\"padding-left: 1em; padding-right: 1em; text-align: center; vertical-align: top\">Abso</td>\n",
       "        <td style=\"padding-left: 1em; padding-right: 1em; text-align: center; vertical-align: top\">0</td>\n",
       "        <td style=\"padding-left: 1em; padding-right: 1em; text-align: center; vertical-align: top\">1</td>\n",
       "        <td style=\"padding-left: 1em; padding-right: 1em; text-align: center; vertical-align: top\">1</td>\n",
       "        <td style=\"padding-left: 1em; padding-right: 1em; text-align: center; vertical-align: top\">14</td>\n",
       "        <td style=\"padding-left: 1em; padding-right: 1em; text-align: center; vertical-align: top\">1.22e-06</td>\n",
       "        <td style=\"padding-left: 1em; padding-right: 1em; text-align: center; vertical-align: top\">proton</td>\n",
       "        <td style=\"padding-left: 1em; padding-right: 1em; text-align: center; vertical-align: top\">-1</td>\n",
       "        <td style=\"padding-left: 1em; padding-right: 1em; text-align: center; vertical-align: top\">4603</td>\n",
       "    </tr>\n",
       "    <tr>\n",
       "        <td style=\"padding-left: 1em; padding-right: 1em; text-align: center; vertical-align: top\">hIoni</td>\n",
       "        <td style=\"padding-left: 1em; padding-right: 1em; text-align: center; vertical-align: top\">Abso</td>\n",
       "        <td style=\"padding-left: 1em; padding-right: 1em; text-align: center; vertical-align: top\">0</td>\n",
       "        <td style=\"padding-left: 1em; padding-right: 1em; text-align: center; vertical-align: top\">1</td>\n",
       "        <td style=\"padding-left: 1em; padding-right: 1em; text-align: center; vertical-align: top\">-2</td>\n",
       "        <td style=\"padding-left: 1em; padding-right: 1em; text-align: center; vertical-align: top\">10</td>\n",
       "        <td style=\"padding-left: 1em; padding-right: 1em; text-align: center; vertical-align: top\">5.68e-07</td>\n",
       "        <td style=\"padding-left: 1em; padding-right: 1em; text-align: center; vertical-align: top\">proton</td>\n",
       "        <td style=\"padding-left: 1em; padding-right: 1em; text-align: center; vertical-align: top\">9</td>\n",
       "        <td style=\"padding-left: 1em; padding-right: 1em; text-align: center; vertical-align: top\">5876</td>\n",
       "    </tr>\n",
       "    <tr>\n",
       "        <td style=\"padding-left: 1em; padding-right: 1em; text-align: center; vertical-align: top\">hIoni</td>\n",
       "        <td style=\"padding-left: 1em; padding-right: 1em; text-align: center; vertical-align: top\">Abso</td>\n",
       "        <td style=\"padding-left: 1em; padding-right: 1em; text-align: center; vertical-align: top\">0</td>\n",
       "        <td style=\"padding-left: 1em; padding-right: 1em; text-align: center; vertical-align: top\">1</td>\n",
       "        <td style=\"padding-left: 1em; padding-right: 1em; text-align: center; vertical-align: top\">-1</td>\n",
       "        <td style=\"padding-left: 1em; padding-right: 1em; text-align: center; vertical-align: top\">9</td>\n",
       "        <td style=\"padding-left: 1em; padding-right: 1em; text-align: center; vertical-align: top\">9.57e-07</td>\n",
       "        <td style=\"padding-left: 1em; padding-right: 1em; text-align: center; vertical-align: top\">proton</td>\n",
       "        <td style=\"padding-left: 1em; padding-right: 1em; text-align: center; vertical-align: top\">9</td>\n",
       "        <td style=\"padding-left: 1em; padding-right: 1em; text-align: center; vertical-align: top\">6353</td>\n",
       "    </tr>\n",
       "    <tr>\n",
       "        <td style=\"padding-left: 1em; padding-right: 1em; text-align: center; vertical-align: top\">hIoni</td>\n",
       "        <td style=\"padding-left: 1em; padding-right: 1em; text-align: center; vertical-align: top\">Abso</td>\n",
       "        <td style=\"padding-left: 1em; padding-right: 1em; text-align: center; vertical-align: top\">0</td>\n",
       "        <td style=\"padding-left: 1em; padding-right: 1em; text-align: center; vertical-align: top\">1</td>\n",
       "        <td style=\"padding-left: 1em; padding-right: 1em; text-align: center; vertical-align: top\">-2</td>\n",
       "        <td style=\"padding-left: 1em; padding-right: 1em; text-align: center; vertical-align: top\">9</td>\n",
       "        <td style=\"padding-left: 1em; padding-right: 1em; text-align: center; vertical-align: top\">9.85e-07</td>\n",
       "        <td style=\"padding-left: 1em; padding-right: 1em; text-align: center; vertical-align: top\">proton</td>\n",
       "        <td style=\"padding-left: 1em; padding-right: 1em; text-align: center; vertical-align: top\">-2</td>\n",
       "        <td style=\"padding-left: 1em; padding-right: 1em; text-align: center; vertical-align: top\">6910</td>\n",
       "    </tr>\n",
       "    <tr>\n",
       "        <td style=\"padding-left: 1em; padding-right: 1em; text-align: center; vertical-align: top\">hIoni</td>\n",
       "        <td style=\"padding-left: 1em; padding-right: 1em; text-align: center; vertical-align: top\">Abso</td>\n",
       "        <td style=\"padding-left: 1em; padding-right: 1em; text-align: center; vertical-align: top\">0</td>\n",
       "        <td style=\"padding-left: 1em; padding-right: 1em; text-align: center; vertical-align: top\">1</td>\n",
       "        <td style=\"padding-left: 1em; padding-right: 1em; text-align: center; vertical-align: top\">7</td>\n",
       "        <td style=\"padding-left: 1em; padding-right: 1em; text-align: center; vertical-align: top\">11</td>\n",
       "        <td style=\"padding-left: 1em; padding-right: 1em; text-align: center; vertical-align: top\">1.09e-06</td>\n",
       "        <td style=\"padding-left: 1em; padding-right: 1em; text-align: center; vertical-align: top\">proton</td>\n",
       "        <td style=\"padding-left: 1em; padding-right: 1em; text-align: center; vertical-align: top\">4</td>\n",
       "        <td style=\"padding-left: 1em; padding-right: 1em; text-align: center; vertical-align: top\">7016</td>\n",
       "    </tr>\n",
       "    <tr>\n",
       "        <td style=\"padding-left: 1em; padding-right: 1em; text-align: center; vertical-align: top\">hIoni</td>\n",
       "        <td style=\"padding-left: 1em; padding-right: 1em; text-align: center; vertical-align: top\">Abso</td>\n",
       "        <td style=\"padding-left: 1em; padding-right: 1em; text-align: center; vertical-align: top\">0</td>\n",
       "        <td style=\"padding-left: 1em; padding-right: 1em; text-align: center; vertical-align: top\">1</td>\n",
       "        <td style=\"padding-left: 1em; padding-right: 1em; text-align: center; vertical-align: top\">6</td>\n",
       "        <td style=\"padding-left: 1em; padding-right: 1em; text-align: center; vertical-align: top\">3</td>\n",
       "        <td style=\"padding-left: 1em; padding-right: 1em; text-align: center; vertical-align: top\">4.01e-07</td>\n",
       "        <td style=\"padding-left: 1em; padding-right: 1em; text-align: center; vertical-align: top\">proton</td>\n",
       "        <td style=\"padding-left: 1em; padding-right: 1em; text-align: center; vertical-align: top\">6</td>\n",
       "        <td style=\"padding-left: 1em; padding-right: 1em; text-align: center; vertical-align: top\">7646</td>\n",
       "    </tr>\n",
       "    <tr>\n",
       "        <td style=\"padding-left: 1em; padding-right: 1em; text-align: center; vertical-align: top\">hIoni</td>\n",
       "        <td style=\"padding-left: 1em; padding-right: 1em; text-align: center; vertical-align: top\">Abso</td>\n",
       "        <td style=\"padding-left: 1em; padding-right: 1em; text-align: center; vertical-align: top\">0</td>\n",
       "        <td style=\"padding-left: 1em; padding-right: 1em; text-align: center; vertical-align: top\">1</td>\n",
       "        <td style=\"padding-left: 1em; padding-right: 1em; text-align: center; vertical-align: top\">-7</td>\n",
       "        <td style=\"padding-left: 1em; padding-right: 1em; text-align: center; vertical-align: top\">16</td>\n",
       "        <td style=\"padding-left: 1em; padding-right: 1em; text-align: center; vertical-align: top\">6.31e-07</td>\n",
       "        <td style=\"padding-left: 1em; padding-right: 1em; text-align: center; vertical-align: top\">proton</td>\n",
       "        <td style=\"padding-left: 1em; padding-right: 1em; text-align: center; vertical-align: top\">-6</td>\n",
       "        <td style=\"padding-left: 1em; padding-right: 1em; text-align: center; vertical-align: top\">7707</td>\n",
       "    </tr>\n",
       "</table>\n",
       "<table frame=\"box\" rules=\"cols\">\n",
       "    <tr>\n",
       "        <th style=\"padding-left: 1em; padding-right: 1em; text-align: center\">parent_id</th>\n",
       "        <th style=\"padding-left: 1em; padding-right: 1em; text-align: center\">position_z</th>\n",
       "        <th style=\"padding-left: 1em; padding-right: 1em; text-align: center\">total_energy</th>\n",
       "        <th style=\"padding-left: 1em; padding-right: 1em; text-align: center\">position_x</th>\n",
       "        <th style=\"padding-left: 1em; padding-right: 1em; text-align: center\">position_y</th>\n",
       "        <th style=\"padding-left: 1em; padding-right: 1em; text-align: center\">velocity</th>\n",
       "        <th style=\"padding-left: 1em; padding-right: 1em; text-align: center\">kinetic_energy</th>\n",
       "        <th style=\"padding-left: 1em; padding-right: 1em; text-align: center\">track_id</th>\n",
       "        <th style=\"padding-left: 1em; padding-right: 1em; text-align: center\">mom_y</th>\n",
       "    </tr>\n",
       "    <tr>\n",
       "        <td style=\"padding-left: 1em; padding-right: 1em; text-align: center; vertical-align: top\">0</td>\n",
       "        <td style=\"padding-left: 1em; padding-right: 1em; text-align: center; vertical-align: top\">635</td>\n",
       "        <td style=\"padding-left: 1em; padding-right: 1em; text-align: center; vertical-align: top\">400938</td>\n",
       "        <td style=\"padding-left: 1em; padding-right: 1em; text-align: center; vertical-align: top\">0</td>\n",
       "        <td style=\"padding-left: 1em; padding-right: 1em; text-align: center; vertical-align: top\">0</td>\n",
       "        <td style=\"padding-left: 1em; padding-right: 1em; text-align: center; vertical-align: top\">299.792</td>\n",
       "        <td style=\"padding-left: 1em; padding-right: 1em; text-align: center; vertical-align: top\">400000</td>\n",
       "        <td style=\"padding-left: 1em; padding-right: 1em; text-align: center; vertical-align: top\">1</td>\n",
       "        <td style=\"padding-left: 1em; padding-right: 1em; text-align: center; vertical-align: top\">0</td>\n",
       "    </tr>\n",
       "    <tr>\n",
       "        <td style=\"padding-left: 1em; padding-right: 1em; text-align: center; vertical-align: top\">0</td>\n",
       "        <td style=\"padding-left: 1em; padding-right: 1em; text-align: center; vertical-align: top\">347</td>\n",
       "        <td style=\"padding-left: 1em; padding-right: 1em; text-align: center; vertical-align: top\">400938</td>\n",
       "        <td style=\"padding-left: 1em; padding-right: 1em; text-align: center; vertical-align: top\">0</td>\n",
       "        <td style=\"padding-left: 1em; padding-right: 1em; text-align: center; vertical-align: top\">0</td>\n",
       "        <td style=\"padding-left: 1em; padding-right: 1em; text-align: center; vertical-align: top\">299.792</td>\n",
       "        <td style=\"padding-left: 1em; padding-right: 1em; text-align: center; vertical-align: top\">400000</td>\n",
       "        <td style=\"padding-left: 1em; padding-right: 1em; text-align: center; vertical-align: top\">1</td>\n",
       "        <td style=\"padding-left: 1em; padding-right: 1em; text-align: center; vertical-align: top\">0</td>\n",
       "    </tr>\n",
       "    <tr>\n",
       "        <td style=\"padding-left: 1em; padding-right: 1em; text-align: center; vertical-align: top\">0</td>\n",
       "        <td style=\"padding-left: 1em; padding-right: 1em; text-align: center; vertical-align: top\">-458</td>\n",
       "        <td style=\"padding-left: 1em; padding-right: 1em; text-align: center; vertical-align: top\">400938</td>\n",
       "        <td style=\"padding-left: 1em; padding-right: 1em; text-align: center; vertical-align: top\">0</td>\n",
       "        <td style=\"padding-left: 1em; padding-right: 1em; text-align: center; vertical-align: top\">0</td>\n",
       "        <td style=\"padding-left: 1em; padding-right: 1em; text-align: center; vertical-align: top\">299.792</td>\n",
       "        <td style=\"padding-left: 1em; padding-right: 1em; text-align: center; vertical-align: top\">400000</td>\n",
       "        <td style=\"padding-left: 1em; padding-right: 1em; text-align: center; vertical-align: top\">1</td>\n",
       "        <td style=\"padding-left: 1em; padding-right: 1em; text-align: center; vertical-align: top\">0</td>\n",
       "    </tr>\n",
       "    <tr>\n",
       "        <td style=\"padding-left: 1em; padding-right: 1em; text-align: center; vertical-align: top\">0</td>\n",
       "        <td style=\"padding-left: 1em; padding-right: 1em; text-align: center; vertical-align: top\">542</td>\n",
       "        <td style=\"padding-left: 1em; padding-right: 1em; text-align: center; vertical-align: top\">400938</td>\n",
       "        <td style=\"padding-left: 1em; padding-right: 1em; text-align: center; vertical-align: top\">-1</td>\n",
       "        <td style=\"padding-left: 1em; padding-right: 1em; text-align: center; vertical-align: top\">-1</td>\n",
       "        <td style=\"padding-left: 1em; padding-right: 1em; text-align: center; vertical-align: top\">299.792</td>\n",
       "        <td style=\"padding-left: 1em; padding-right: 1em; text-align: center; vertical-align: top\">400000</td>\n",
       "        <td style=\"padding-left: 1em; padding-right: 1em; text-align: center; vertical-align: top\">1</td>\n",
       "        <td style=\"padding-left: 1em; padding-right: 1em; text-align: center; vertical-align: top\">0</td>\n",
       "    </tr>\n",
       "    <tr>\n",
       "        <td style=\"padding-left: 1em; padding-right: 1em; text-align: center; vertical-align: top\">0</td>\n",
       "        <td style=\"padding-left: 1em; padding-right: 1em; text-align: center; vertical-align: top\">92</td>\n",
       "        <td style=\"padding-left: 1em; padding-right: 1em; text-align: center; vertical-align: top\">400938</td>\n",
       "        <td style=\"padding-left: 1em; padding-right: 1em; text-align: center; vertical-align: top\">0</td>\n",
       "        <td style=\"padding-left: 1em; padding-right: 1em; text-align: center; vertical-align: top\">0</td>\n",
       "        <td style=\"padding-left: 1em; padding-right: 1em; text-align: center; vertical-align: top\">299.792</td>\n",
       "        <td style=\"padding-left: 1em; padding-right: 1em; text-align: center; vertical-align: top\">400000</td>\n",
       "        <td style=\"padding-left: 1em; padding-right: 1em; text-align: center; vertical-align: top\">1</td>\n",
       "        <td style=\"padding-left: 1em; padding-right: 1em; text-align: center; vertical-align: top\">0</td>\n",
       "    </tr>\n",
       "    <tr>\n",
       "        <td style=\"padding-left: 1em; padding-right: 1em; text-align: center; vertical-align: top\">0</td>\n",
       "        <td style=\"padding-left: 1em; padding-right: 1em; text-align: center; vertical-align: top\">22</td>\n",
       "        <td style=\"padding-left: 1em; padding-right: 1em; text-align: center; vertical-align: top\">400938</td>\n",
       "        <td style=\"padding-left: 1em; padding-right: 1em; text-align: center; vertical-align: top\">0</td>\n",
       "        <td style=\"padding-left: 1em; padding-right: 1em; text-align: center; vertical-align: top\">0</td>\n",
       "        <td style=\"padding-left: 1em; padding-right: 1em; text-align: center; vertical-align: top\">299.792</td>\n",
       "        <td style=\"padding-left: 1em; padding-right: 1em; text-align: center; vertical-align: top\">400000</td>\n",
       "        <td style=\"padding-left: 1em; padding-right: 1em; text-align: center; vertical-align: top\">1</td>\n",
       "        <td style=\"padding-left: 1em; padding-right: 1em; text-align: center; vertical-align: top\">0</td>\n",
       "    </tr>\n",
       "    <tr>\n",
       "        <td style=\"padding-left: 1em; padding-right: 1em; text-align: center; vertical-align: top\">0</td>\n",
       "        <td style=\"padding-left: 1em; padding-right: 1em; text-align: center; vertical-align: top\">24</td>\n",
       "        <td style=\"padding-left: 1em; padding-right: 1em; text-align: center; vertical-align: top\">400938</td>\n",
       "        <td style=\"padding-left: 1em; padding-right: 1em; text-align: center; vertical-align: top\">0</td>\n",
       "        <td style=\"padding-left: 1em; padding-right: 1em; text-align: center; vertical-align: top\">0</td>\n",
       "        <td style=\"padding-left: 1em; padding-right: 1em; text-align: center; vertical-align: top\">299.792</td>\n",
       "        <td style=\"padding-left: 1em; padding-right: 1em; text-align: center; vertical-align: top\">400000</td>\n",
       "        <td style=\"padding-left: 1em; padding-right: 1em; text-align: center; vertical-align: top\">1</td>\n",
       "        <td style=\"padding-left: 1em; padding-right: 1em; text-align: center; vertical-align: top\">0</td>\n",
       "    </tr>\n",
       "    <tr>\n",
       "        <td style=\"padding-left: 1em; padding-right: 1em; text-align: center; vertical-align: top\">0</td>\n",
       "        <td style=\"padding-left: 1em; padding-right: 1em; text-align: center; vertical-align: top\">233</td>\n",
       "        <td style=\"padding-left: 1em; padding-right: 1em; text-align: center; vertical-align: top\">400938</td>\n",
       "        <td style=\"padding-left: 1em; padding-right: 1em; text-align: center; vertical-align: top\">0</td>\n",
       "        <td style=\"padding-left: 1em; padding-right: 1em; text-align: center; vertical-align: top\">0</td>\n",
       "        <td style=\"padding-left: 1em; padding-right: 1em; text-align: center; vertical-align: top\">299.792</td>\n",
       "        <td style=\"padding-left: 1em; padding-right: 1em; text-align: center; vertical-align: top\">400000</td>\n",
       "        <td style=\"padding-left: 1em; padding-right: 1em; text-align: center; vertical-align: top\">1</td>\n",
       "        <td style=\"padding-left: 1em; padding-right: 1em; text-align: center; vertical-align: top\">0</td>\n",
       "    </tr>\n",
       "    <tr>\n",
       "        <td style=\"padding-left: 1em; padding-right: 1em; text-align: center; vertical-align: top\">0</td>\n",
       "        <td style=\"padding-left: 1em; padding-right: 1em; text-align: center; vertical-align: top\">-620</td>\n",
       "        <td style=\"padding-left: 1em; padding-right: 1em; text-align: center; vertical-align: top\">400938</td>\n",
       "        <td style=\"padding-left: 1em; padding-right: 1em; text-align: center; vertical-align: top\">0</td>\n",
       "        <td style=\"padding-left: 1em; padding-right: 1em; text-align: center; vertical-align: top\">0</td>\n",
       "        <td style=\"padding-left: 1em; padding-right: 1em; text-align: center; vertical-align: top\">299.792</td>\n",
       "        <td style=\"padding-left: 1em; padding-right: 1em; text-align: center; vertical-align: top\">400000</td>\n",
       "        <td style=\"padding-left: 1em; padding-right: 1em; text-align: center; vertical-align: top\">1</td>\n",
       "        <td style=\"padding-left: 1em; padding-right: 1em; text-align: center; vertical-align: top\">0</td>\n",
       "    </tr>\n",
       "    <tr>\n",
       "        <td style=\"padding-left: 1em; padding-right: 1em; text-align: center; vertical-align: top\">0</td>\n",
       "        <td style=\"padding-left: 1em; padding-right: 1em; text-align: center; vertical-align: top\">698</td>\n",
       "        <td style=\"padding-left: 1em; padding-right: 1em; text-align: center; vertical-align: top\">400938</td>\n",
       "        <td style=\"padding-left: 1em; padding-right: 1em; text-align: center; vertical-align: top\">0</td>\n",
       "        <td style=\"padding-left: 1em; padding-right: 1em; text-align: center; vertical-align: top\">0</td>\n",
       "        <td style=\"padding-left: 1em; padding-right: 1em; text-align: center; vertical-align: top\">299.792</td>\n",
       "        <td style=\"padding-left: 1em; padding-right: 1em; text-align: center; vertical-align: top\">400000</td>\n",
       "        <td style=\"padding-left: 1em; padding-right: 1em; text-align: center; vertical-align: top\">1</td>\n",
       "        <td style=\"padding-left: 1em; padding-right: 1em; text-align: center; vertical-align: top\">0</td>\n",
       "    </tr>\n",
       "</table>\n",
       "<table frame=\"box\" rules=\"cols\">\n",
       "    <tr>\n",
       "        <th style=\"padding-left: 1em; padding-right: 1em; text-align: center\">energy_deposit</th>\n",
       "        <th style=\"padding-left: 1em; padding-right: 1em; text-align: center\">mom_z</th>\n",
       "        <th style=\"padding-left: 1em; padding-right: 1em; text-align: center\">position_r</th>\n",
       "        <th style=\"padding-left: 1em; padding-right: 1em; text-align: center\">num_e_gen</th>\n",
       "        <th style=\"padding-left: 1em; padding-right: 1em; text-align: center\">kin_energy_from_vel</th>\n",
       "        <th style=\"padding-left: 1em; padding-right: 1em; text-align: center\">energy_deposit_eV</th>\n",
       "    </tr>\n",
       "    <tr>\n",
       "        <td style=\"padding-left: 1em; padding-right: 1em; text-align: center; vertical-align: top\">2.0133e-07</td>\n",
       "        <td style=\"padding-left: 1em; padding-right: 1em; text-align: center; vertical-align: top\">400937</td>\n",
       "        <td style=\"padding-left: 1em; padding-right: 1em; text-align: center; vertical-align: top\">0.0</td>\n",
       "        <td style=\"padding-left: 1em; padding-right: 1em; text-align: center; vertical-align: top\">0.0218243902439</td>\n",
       "        <td style=\"padding-left: 1em; padding-right: 1em; text-align: center; vertical-align: top\">24262.6899025</td>\n",
       "        <td style=\"padding-left: 1em; padding-right: 1em; text-align: center; vertical-align: top\">0.20133</td>\n",
       "    </tr>\n",
       "    <tr>\n",
       "        <td style=\"padding-left: 1em; padding-right: 1em; text-align: center; vertical-align: top\">4.39148e-08</td>\n",
       "        <td style=\"padding-left: 1em; padding-right: 1em; text-align: center; vertical-align: top\">400937</td>\n",
       "        <td style=\"padding-left: 1em; padding-right: 1em; text-align: center; vertical-align: top\">0.0</td>\n",
       "        <td style=\"padding-left: 1em; padding-right: 1em; text-align: center; vertical-align: top\">0.00476041192412</td>\n",
       "        <td style=\"padding-left: 1em; padding-right: 1em; text-align: center; vertical-align: top\">24262.6899025</td>\n",
       "        <td style=\"padding-left: 1em; padding-right: 1em; text-align: center; vertical-align: top\">0.0439148</td>\n",
       "    </tr>\n",
       "    <tr>\n",
       "        <td style=\"padding-left: 1em; padding-right: 1em; text-align: center; vertical-align: top\">1.06688e-07</td>\n",
       "        <td style=\"padding-left: 1em; padding-right: 1em; text-align: center; vertical-align: top\">400937</td>\n",
       "        <td style=\"padding-left: 1em; padding-right: 1em; text-align: center; vertical-align: top\">0.0</td>\n",
       "        <td style=\"padding-left: 1em; padding-right: 1em; text-align: center; vertical-align: top\">0.0115650948509</td>\n",
       "        <td style=\"padding-left: 1em; padding-right: 1em; text-align: center; vertical-align: top\">24262.6899025</td>\n",
       "        <td style=\"padding-left: 1em; padding-right: 1em; text-align: center; vertical-align: top\">0.106688</td>\n",
       "    </tr>\n",
       "    <tr>\n",
       "        <td style=\"padding-left: 1em; padding-right: 1em; text-align: center; vertical-align: top\">1.06788e-07</td>\n",
       "        <td style=\"padding-left: 1em; padding-right: 1em; text-align: center; vertical-align: top\">400937</td>\n",
       "        <td style=\"padding-left: 1em; padding-right: 1em; text-align: center; vertical-align: top\">1.41421356237</td>\n",
       "        <td style=\"padding-left: 1em; padding-right: 1em; text-align: center; vertical-align: top\">0.0115759349593</td>\n",
       "        <td style=\"padding-left: 1em; padding-right: 1em; text-align: center; vertical-align: top\">24262.6899025</td>\n",
       "        <td style=\"padding-left: 1em; padding-right: 1em; text-align: center; vertical-align: top\">0.106788</td>\n",
       "    </tr>\n",
       "    <tr>\n",
       "        <td style=\"padding-left: 1em; padding-right: 1em; text-align: center; vertical-align: top\">7.58947e-07</td>\n",
       "        <td style=\"padding-left: 1em; padding-right: 1em; text-align: center; vertical-align: top\">400937</td>\n",
       "        <td style=\"padding-left: 1em; padding-right: 1em; text-align: center; vertical-align: top\">0.0</td>\n",
       "        <td style=\"padding-left: 1em; padding-right: 1em; text-align: center; vertical-align: top\">0.0822706775068</td>\n",
       "        <td style=\"padding-left: 1em; padding-right: 1em; text-align: center; vertical-align: top\">24262.6899025</td>\n",
       "        <td style=\"padding-left: 1em; padding-right: 1em; text-align: center; vertical-align: top\">0.758947</td>\n",
       "    </tr>\n",
       "    <tr>\n",
       "        <td style=\"padding-left: 1em; padding-right: 1em; text-align: center; vertical-align: top\">3.69721e-07</td>\n",
       "        <td style=\"padding-left: 1em; padding-right: 1em; text-align: center; vertical-align: top\">400937</td>\n",
       "        <td style=\"padding-left: 1em; padding-right: 1em; text-align: center; vertical-align: top\">0.0</td>\n",
       "        <td style=\"padding-left: 1em; padding-right: 1em; text-align: center; vertical-align: top\">0.0400781571816</td>\n",
       "        <td style=\"padding-left: 1em; padding-right: 1em; text-align: center; vertical-align: top\">24262.6899025</td>\n",
       "        <td style=\"padding-left: 1em; padding-right: 1em; text-align: center; vertical-align: top\">0.369721</td>\n",
       "    </tr>\n",
       "    <tr>\n",
       "        <td style=\"padding-left: 1em; padding-right: 1em; text-align: center; vertical-align: top\">3.41499e-07</td>\n",
       "        <td style=\"padding-left: 1em; padding-right: 1em; text-align: center; vertical-align: top\">400937</td>\n",
       "        <td style=\"padding-left: 1em; padding-right: 1em; text-align: center; vertical-align: top\">0.0</td>\n",
       "        <td style=\"padding-left: 1em; padding-right: 1em; text-align: center; vertical-align: top\">0.0370188617886</td>\n",
       "        <td style=\"padding-left: 1em; padding-right: 1em; text-align: center; vertical-align: top\">24262.6899025</td>\n",
       "        <td style=\"padding-left: 1em; padding-right: 1em; text-align: center; vertical-align: top\">0.341499</td>\n",
       "    </tr>\n",
       "    <tr>\n",
       "        <td style=\"padding-left: 1em; padding-right: 1em; text-align: center; vertical-align: top\">2.32205e-07</td>\n",
       "        <td style=\"padding-left: 1em; padding-right: 1em; text-align: center; vertical-align: top\">400937</td>\n",
       "        <td style=\"padding-left: 1em; padding-right: 1em; text-align: center; vertical-align: top\">0.0</td>\n",
       "        <td style=\"padding-left: 1em; padding-right: 1em; text-align: center; vertical-align: top\">0.0251712737127</td>\n",
       "        <td style=\"padding-left: 1em; padding-right: 1em; text-align: center; vertical-align: top\">24262.6899025</td>\n",
       "        <td style=\"padding-left: 1em; padding-right: 1em; text-align: center; vertical-align: top\">0.232205</td>\n",
       "    </tr>\n",
       "    <tr>\n",
       "        <td style=\"padding-left: 1em; padding-right: 1em; text-align: center; vertical-align: top\">9.25682e-07</td>\n",
       "        <td style=\"padding-left: 1em; padding-right: 1em; text-align: center; vertical-align: top\">400937</td>\n",
       "        <td style=\"padding-left: 1em; padding-right: 1em; text-align: center; vertical-align: top\">0.0</td>\n",
       "        <td style=\"padding-left: 1em; padding-right: 1em; text-align: center; vertical-align: top\">0.100344932249</td>\n",
       "        <td style=\"padding-left: 1em; padding-right: 1em; text-align: center; vertical-align: top\">24262.6899025</td>\n",
       "        <td style=\"padding-left: 1em; padding-right: 1em; text-align: center; vertical-align: top\">0.925682</td>\n",
       "    </tr>\n",
       "    <tr>\n",
       "        <td style=\"padding-left: 1em; padding-right: 1em; text-align: center; vertical-align: top\">6.96246e-07</td>\n",
       "        <td style=\"padding-left: 1em; padding-right: 1em; text-align: center; vertical-align: top\">400937</td>\n",
       "        <td style=\"padding-left: 1em; padding-right: 1em; text-align: center; vertical-align: top\">0.0</td>\n",
       "        <td style=\"padding-left: 1em; padding-right: 1em; text-align: center; vertical-align: top\">0.0754738211382</td>\n",
       "        <td style=\"padding-left: 1em; padding-right: 1em; text-align: center; vertical-align: top\">24262.6899025</td>\n",
       "        <td style=\"padding-left: 1em; padding-right: 1em; text-align: center; vertical-align: top\">0.696246</td>\n",
       "    </tr>\n",
       "</table>\n",
       "[10 rows x 25 columns]<br/>\n",
       "</div>"
      ],
      "text/plain": [
       "Columns:\n",
       "\tprocess_name\tstr\n",
       "\tnext_vol\tstr\n",
       "\tmom_x\tint\n",
       "\tmom_dir_z\tint\n",
       "\tmom_dir_y\tint\n",
       "\tstep_number\tint\n",
       "\tdE\tfloat\n",
       "\tparticle_name\tstr\n",
       "\tmom_dir_x\tint\n",
       "\tcount_particle\tint\n",
       "\tparent_id\tint\n",
       "\tposition_z\tint\n",
       "\ttotal_energy\tint\n",
       "\tposition_x\tint\n",
       "\tposition_y\tint\n",
       "\tvelocity\tfloat\n",
       "\tkinetic_energy\tint\n",
       "\ttrack_id\tint\n",
       "\tmom_y\tint\n",
       "\tenergy_deposit\tfloat\n",
       "\tmom_z\tint\n",
       "\tposition_r\tfloat\n",
       "\tnum_e_gen\tfloat\n",
       "\tkin_energy_from_vel\tfloat\n",
       "\tenergy_deposit_eV\tfloat\n",
       "\n",
       "Rows: 10\n",
       "\n",
       "Data:\n",
       "+--------------+----------+-------+-----------+-----------+-------------+\n",
       "| process_name | next_vol | mom_x | mom_dir_z | mom_dir_y | step_number |\n",
       "+--------------+----------+-------+-----------+-----------+-------------+\n",
       "|    hIoni     |   Abso   |   0   |     1     |     5     |      15     |\n",
       "|    hIoni     |   Abso   |   0   |     1     |     -1    |      12     |\n",
       "|    hIoni     |   Abso   |   0   |     1     |     7     |      4      |\n",
       "|    hIoni     |   Abso   |   0   |     1     |     1     |      14     |\n",
       "|    hIoni     |   Abso   |   0   |     1     |     -2    |      10     |\n",
       "|    hIoni     |   Abso   |   0   |     1     |     -1    |      9      |\n",
       "|    hIoni     |   Abso   |   0   |     1     |     -2    |      9      |\n",
       "|    hIoni     |   Abso   |   0   |     1     |     7     |      11     |\n",
       "|    hIoni     |   Abso   |   0   |     1     |     6     |      3      |\n",
       "|    hIoni     |   Abso   |   0   |     1     |     -7    |      16     |\n",
       "+--------------+----------+-------+-----------+-----------+-------------+\n",
       "+----------+---------------+-----------+----------------+-----------+------------+\n",
       "|    dE    | particle_name | mom_dir_x | count_particle | parent_id | position_z |\n",
       "+----------+---------------+-----------+----------------+-----------+------------+\n",
       "| 1.13e-06 |     proton    |     1     |      2317      |     0     |    635     |\n",
       "| 1.28e-06 |     proton    |     3     |      4230      |     0     |    347     |\n",
       "| 1.22e-06 |     proton    |     -1    |      4465      |     0     |    -458    |\n",
       "| 1.22e-06 |     proton    |     -1    |      4603      |     0     |    542     |\n",
       "| 5.68e-07 |     proton    |     9     |      5876      |     0     |     92     |\n",
       "| 9.57e-07 |     proton    |     9     |      6353      |     0     |     22     |\n",
       "| 9.85e-07 |     proton    |     -2    |      6910      |     0     |     24     |\n",
       "| 1.09e-06 |     proton    |     4     |      7016      |     0     |    233     |\n",
       "| 4.01e-07 |     proton    |     6     |      7646      |     0     |    -620    |\n",
       "| 6.31e-07 |     proton    |     -6    |      7707      |     0     |    698     |\n",
       "+----------+---------------+-----------+----------------+-----------+------------+\n",
       "+--------------+------------+------------+----------+----------------+----------+\n",
       "| total_energy | position_x | position_y | velocity | kinetic_energy | track_id |\n",
       "+--------------+------------+------------+----------+----------------+----------+\n",
       "|    400938    |     0      |     0      | 299.792  |     400000     |    1     |\n",
       "|    400938    |     0      |     0      | 299.792  |     400000     |    1     |\n",
       "|    400938    |     0      |     0      | 299.792  |     400000     |    1     |\n",
       "|    400938    |     -1     |     -1     | 299.792  |     400000     |    1     |\n",
       "|    400938    |     0      |     0      | 299.792  |     400000     |    1     |\n",
       "|    400938    |     0      |     0      | 299.792  |     400000     |    1     |\n",
       "|    400938    |     0      |     0      | 299.792  |     400000     |    1     |\n",
       "|    400938    |     0      |     0      | 299.792  |     400000     |    1     |\n",
       "|    400938    |     0      |     0      | 299.792  |     400000     |    1     |\n",
       "|    400938    |     0      |     0      | 299.792  |     400000     |    1     |\n",
       "+--------------+------------+------------+----------+----------------+----------+\n",
       "+-------+----------------+-----+\n",
       "| mom_y | energy_deposit | ... |\n",
       "+-------+----------------+-----+\n",
       "|   0   |   2.0133e-07   | ... |\n",
       "|   0   |  4.39148e-08   | ... |\n",
       "|   0   |  1.06688e-07   | ... |\n",
       "|   0   |  1.06788e-07   | ... |\n",
       "|   0   |  7.58947e-07   | ... |\n",
       "|   0   |  3.69721e-07   | ... |\n",
       "|   0   |  3.41499e-07   | ... |\n",
       "|   0   |  2.32205e-07   | ... |\n",
       "|   0   |  9.25682e-07   | ... |\n",
       "|   0   |  6.96246e-07   | ... |\n",
       "+-------+----------------+-----+\n",
       "[10 rows x 25 columns]"
      ]
     },
     "execution_count": 44,
     "metadata": {},
     "output_type": "execute_result"
    }
   ],
   "source": [
    "en_dep.head()"
   ]
  },
  {
   "cell_type": "code",
   "execution_count": 45,
   "metadata": {
    "collapsed": false
   },
   "outputs": [
    {
     "data": {
      "application/javascript": [
       "$(\"head\").append($(\"<link/>\").attr({\n",
       "  rel:  \"stylesheet\",\n",
       "  type: \"text/css\",\n",
       "  href: \"//cdnjs.cloudflare.com/ajax/libs/font-awesome/4.1.0/css/font-awesome.min.css\"\n",
       "}));\n",
       "$(\"head\").append($(\"<link/>\").attr({\n",
       "  rel:  \"stylesheet\",\n",
       "  type: \"text/css\",\n",
       "  href: \"https://static.turi.com/products/graphlab-create/2.1/canvas/css/canvas.css\"\n",
       "}));\n",
       "\n",
       "            (function(){\n",
       "\n",
       "                var e = null;\n",
       "                if (typeof element == 'undefined') {\n",
       "                    var scripts = document.getElementsByTagName('script');\n",
       "                    var thisScriptTag = scripts[scripts.length-1];\n",
       "                    var parentDiv = thisScriptTag.parentNode;\n",
       "                    e = document.createElement('div');\n",
       "                    parentDiv.appendChild(e);\n",
       "                } else {\n",
       "                    e = element[0];\n",
       "                }\n",
       "\n",
       "                if (typeof requirejs !== 'undefined') {\n",
       "                    // disable load timeout; ipython_app.js is large and can take a while to load.\n",
       "                    requirejs.config({waitSeconds: 0});\n",
       "                }\n",
       "\n",
       "                require(['https://static.turi.com/products/graphlab-create/2.1/canvas/js/ipython_app.js'], function(IPythonApp){\n",
       "                    var app = new IPythonApp();\n",
       "                    app.attachView('sarray','Numeric', {\"ipython\": true, \"sketch\": {\"std\": 36.24195294496856, \"complete\": true, \"min\": 0.9899386724588934, \"max\": 931.5834909664245, \"quantile\": [0.9899386724588934, 1.000166710787584, 1.0071580831636249, 1.014626811715752, 1.0235523887956437, 1.0346178227271514, 1.0405497587881352, 1.0485587072177616, 1.058679562568217, 1.0732040266209695, 1.0868570182418953, 1.0951892408167345, 1.108497421547895, 1.1184751877223011, 1.1275654181943233, 1.142214545342767, 1.157074382308415, 1.1726923120371244, 1.1825028667894522, 1.1977415922896866, 1.2154281740739252, 1.2390709821493493, 1.2697088874516356, 1.2834148080477865, 1.3050558069038212, 1.3213789405190515, 1.3340383665724362, 1.3565546744715575, 1.372797566270838, 1.392451079653042, 1.4264132827062133, 1.433234900801378, 1.4487470568578809, 1.4839030932965454, 1.5046726574727596, 1.527497178843687, 1.5626371794549563, 1.6131817510006448, 1.6466427043374647, 1.6776422362992625, 1.7168605093650466, 1.7476264335083354, 1.7740463866460687, 1.7881791244199838, 1.816731300251493, 1.848301855509081, 1.8807823847402902, 1.9178342103688826, 1.95023709183122, 2.015321912671649, 2.053677177779854, 2.100357783342672, 2.1550201011906926, 2.1990545599846905, 2.2602422227086705, 2.3169576645227545, 2.339215562342295, 2.368918054869563, 2.436103629516054, 2.504010319829828, 2.582630630242928, 2.6129803239541745, 2.721407012248671, 2.81063461089782, 2.8916758505339284, 2.995554583268416, 3.095002822651389, 3.175346783523961, 3.2753869198805843, 3.3603697914798754, 3.474328209693949, 3.560709622676765, 3.673317137781491, 3.735709639206492, 3.8375626273444725, 3.995588820234571, 4.079344657235337, 4.224686167519392, 4.4074923957069485, 4.610838605387834, 4.859833211867535, 5.178542477846608, 5.441852254099485, 5.82353102032124, 6.356069813761598, 6.718465260028524, 7.426082913169797, 7.980449151878084, 8.805370656207826, 9.674250803585213, 10.39588221320483, 11.23320816383069, 12.710883206155057, 14.572806076354313, 16.234126726683602, 19.826945847892173, 22.937650056149362, 25.711798414313904, 37.6823725430893, 79.51592937454292, 931.5834909664245], \"median\": 2.053677177779854, \"numeric\": true, \"num_unique\": 1047, \"num_undefined\": 0, \"var\": 1313.4791532653153, \"progress\": 1.0, \"size\": 1050, \"frequent_items\": {\"1.1069083225115979\": {\"frequency\": 1, \"value\": 1.1069083225115979}, \"1.0405497587881352\": {\"frequency\": 1, \"value\": 1.0405497587881352}, \"1.851881984656623\": {\"frequency\": 1, \"value\": 1.851881984656623}, \"4.02369032934289\": {\"frequency\": 1, \"value\": 4.02369032934289}, \"1.0083937726053576\": {\"frequency\": 1, \"value\": 1.0083937726053576}, \"2.830203377546204\": {\"frequency\": 1, \"value\": 2.830203377546204}, \"1.18133832252895\": {\"frequency\": 1, \"value\": 1.18133832252895}, \"2.137637165482023\": {\"frequency\": 1, \"value\": 2.137637165482023}, \"2.3336696904403835\": {\"frequency\": 1, \"value\": 2.3336696904403835}, \"1.6466427043374647\": {\"frequency\": 1, \"value\": 1.6466427043374647}, \"3.264752450125921\": {\"frequency\": 1, \"value\": 3.264752450125921}, \"1.8283472280312147\": {\"frequency\": 1, \"value\": 1.8283472280312147}, \"1.6033282507158424\": {\"frequency\": 1, \"value\": 1.6033282507158424}, \"1.7527265586515388\": {\"frequency\": 1, \"value\": 1.7527265586515388}, \"1.0577764761934696\": {\"frequency\": 1, \"value\": 1.0577764761934696}, \"1.4432147792741563\": {\"frequency\": 1, \"value\": 1.4432147792741563}, \"1.1275654181943233\": {\"frequency\": 1, \"value\": 1.1275654181943233}, \"1.42155078593498\": {\"frequency\": 1, \"value\": 1.42155078593498}, \"1.714455641426507\": {\"frequency\": 1, \"value\": 1.714455641426507}, \"3.457750395443923\": {\"frequency\": 1, \"value\": 3.457750395443923}, \"1.099676171415421\": {\"frequency\": 1, \"value\": 1.099676171415421}, \"21.498558702602953\": {\"frequency\": 1, \"value\": 21.498558702602953}, \"0.9985938286245808\": {\"frequency\": 1, \"value\": 0.9985938286245808}, \"1.4308095441450381\": {\"frequency\": 1, \"value\": 1.4308095441450381}, \"2.6524058324918687\": {\"frequency\": 1, \"value\": 2.6524058324918687}, \"1.35591797824175\": {\"frequency\": 1, \"value\": 1.35591797824175}, \"1.8618224551873825\": {\"frequency\": 1, \"value\": 1.8618224551873825}, \"2.208734614686384\": {\"frequency\": 1, \"value\": 2.208734614686384}, \"8.197689475469042\": {\"frequency\": 1, \"value\": 8.197689475469042}, \"2.1202319639437532\": {\"frequency\": 1, \"value\": 2.1202319639437532}, \"4.184023127941244\": {\"frequency\": 1, \"value\": 4.184023127941244}, \"1.0744133584771927\": {\"frequency\": 2, \"value\": 1.0744133584771927}, \"1.4696698275791342\": {\"frequency\": 1, \"value\": 1.4696698275791342}, \"2.20603288252321\": {\"frequency\": 1, \"value\": 2.20603288252321}, \"8.098431158829571\": {\"frequency\": 1, \"value\": 8.098431158829571}, \"1.992039258497359\": {\"frequency\": 1, \"value\": 1.992039258497359}, \"1.5104943038210532\": {\"frequency\": 1, \"value\": 1.5104943038210532}, \"2.5284339446512747\": {\"frequency\": 1, \"value\": 2.5284339446512747}, \"1.7365713854431175\": {\"frequency\": 1, \"value\": 1.7365713854431175}, \"1.502094757799988\": {\"frequency\": 1, \"value\": 1.502094757799988}, \"1.1150349382848765\": {\"frequency\": 1, \"value\": 1.1150349382848765}, \"24.006127713562396\": {\"frequency\": 1, \"value\": 24.006127713562396}, \"8.02612372624904\": {\"frequency\": 1, \"value\": 8.02612372624904}, \"1.2493134429417125\": {\"frequency\": 1, \"value\": 1.2493134429417125}, \"1.3773485119617337\": {\"frequency\": 1, \"value\": 1.3773485119617337}, \"1.2390709821493493\": {\"frequency\": 1, \"value\": 1.2390709821493493}, \"1.5379367796273506\": {\"frequency\": 1, \"value\": 1.5379367796273506}, \"1.175559136901557\": {\"frequency\": 1, \"value\": 1.175559136901557}, \"1.6365486129913809\": {\"frequency\": 1, \"value\": 1.6365486129913809}, \"2.3169576645227545\": {\"frequency\": 1, \"value\": 2.3169576645227545}, \"1.374619543838743\": {\"frequency\": 1, \"value\": 1.374619543838743}, \"13.743355583513281\": {\"frequency\": 1, \"value\": 13.743355583513281}, \"1.021365977570653\": {\"frequency\": 1, \"value\": 1.021365977570653}, \"5.104895045571454\": {\"frequency\": 1, \"value\": 5.104895045571454}, \"3.9164638881409246\": {\"frequency\": 1, \"value\": 3.9164638881409246}, \"14.98903361671845\": {\"frequency\": 1, \"value\": 14.98903361671845}, \"3.6963722516863737\": {\"frequency\": 1, \"value\": 3.6963722516863737}, \"3.697642547213189\": {\"frequency\": 1, \"value\": 3.697642547213189}, \"4.83818861523546\": {\"frequency\": 1, \"value\": 4.83818861523546}, \"4.859833211867535\": {\"frequency\": 1, \"value\": 4.859833211867535}, \"2.450127959215343\": {\"frequency\": 1, \"value\": 2.450127959215343}, \"2.243075603517815\": {\"frequency\": 1, \"value\": 2.243075603517815}, \"1.153137544192349\": {\"frequency\": 1, \"value\": 1.153137544192349}, \"3.9014179705567407\": {\"frequency\": 1, \"value\": 3.9014179705567407}, \"1.2638112309459588\": {\"frequency\": 1, \"value\": 1.2638112309459588}, \"1.1825028667894522\": {\"frequency\": 1, \"value\": 1.1825028667894522}, \"3.172112711514115\": {\"frequency\": 1, \"value\": 3.172112711514115}, \"4.571024439785105\": {\"frequency\": 1, \"value\": 4.571024439785105}, \"1.0980373685041445\": {\"frequency\": 1, \"value\": 1.0980373685041445}, \"1.6081559071849028\": {\"frequency\": 1, \"value\": 1.6081559071849028}, \"1.432015546231105\": {\"frequency\": 1, \"value\": 1.432015546231105}, \"3.232022964766483\": {\"frequency\": 1, \"value\": 3.232022964766483}, \"0.9921868499170555\": {\"frequency\": 1, \"value\": 0.9921868499170555}, \"1.7534090414027241\": {\"frequency\": 1, \"value\": 1.7534090414027241}, \"9.674250803585213\": {\"frequency\": 1, \"value\": 9.674250803585213}, \"2.110454830393742\": {\"frequency\": 1, \"value\": 2.110454830393742}, \"2.838286672842145\": {\"frequency\": 1, \"value\": 2.838286672842145}, \"69.1832669080059\": {\"frequency\": 1, \"value\": 69.1832669080059}, \"2.593762678914231\": {\"frequency\": 1, \"value\": 2.593762678914231}, \"1.3111726269282613\": {\"frequency\": 1, \"value\": 1.3111726269282613}, \"1.0024587168209234\": {\"frequency\": 1, \"value\": 1.0024587168209234}, \"1.0951892408167345\": {\"frequency\": 1, \"value\": 1.0951892408167345}, \"3.0045502755271216\": {\"frequency\": 1, \"value\": 3.0045502755271216}, \"5.442106841628022\": {\"frequency\": 1, \"value\": 5.442106841628022}, \"1.0054723323815962\": {\"frequency\": 1, \"value\": 1.0054723323815962}, \"7.977986753227622\": {\"frequency\": 1, \"value\": 7.977986753227622}, \"3.070310895716097\": {\"frequency\": 1, \"value\": 3.070310895716097}, \"1.3711525552039812\": {\"frequency\": 1, \"value\": 1.3711525552039812}, \"1.0843022925604897\": {\"frequency\": 1, \"value\": 1.0843022925604897}, \"1.1255194332822478\": {\"frequency\": 1, \"value\": 1.1255194332822478}, \"2.5041126150393302\": {\"frequency\": 1, \"value\": 2.5041126150393302}, \"1.1461898515679994\": {\"frequency\": 1, \"value\": 1.1461898515679994}, \"4.085306823000763\": {\"frequency\": 1, \"value\": 4.085306823000763}, \"1.8757757189705837\": {\"frequency\": 1, \"value\": 1.8757757189705837}, \"1.3565546744715575\": {\"frequency\": 1, \"value\": 1.3565546744715575}, \"4.610838605387834\": {\"frequency\": 1, \"value\": 4.610838605387834}, \"2.1550201011906926\": {\"frequency\": 1, \"value\": 2.1550201011906926}, \"98.27922751905005\": {\"frequency\": 1, \"value\": 98.27922751905005}, \"1.3897954774731458\": {\"frequency\": 1, \"value\": 1.3897954774731458}, \"1.0868570182418953\": {\"frequency\": 1, \"value\": 1.0868570182418953}, \"1.2859413025006883\": {\"frequency\": 1, \"value\": 1.2859413025006883}, \"1.7846047316703457\": {\"frequency\": 1, \"value\": 1.7846047316703457}, \"1.5319687784051716\": {\"frequency\": 1, \"value\": 1.5319687784051716}, \"1.744589836764864\": {\"frequency\": 1, \"value\": 1.744589836764864}, \"1.8564755421964894\": {\"frequency\": 1, \"value\": 1.8564755421964894}, \"1.5125517218281728\": {\"frequency\": 1, \"value\": 1.5125517218281728}, \"2.630119705018375\": {\"frequency\": 1, \"value\": 2.630119705018375}, \"1.2297026657168757\": {\"frequency\": 1, \"value\": 1.2297026657168757}, \"15.000440242644254\": {\"frequency\": 1, \"value\": 15.000440242644254}, \"1.8583643802462386\": {\"frequency\": 1, \"value\": 1.8583643802462386}, \"1.2698537897289288\": {\"frequency\": 1, \"value\": 1.2698537897289288}, \"4.698548174293258\": {\"frequency\": 1, \"value\": 4.698548174293258}, \"4.471228470710217\": {\"frequency\": 1, \"value\": 4.471228470710217}, \"1.5328585800948982\": {\"frequency\": 1, \"value\": 1.5328585800948982}, \"1.1274630743860345\": {\"frequency\": 1, \"value\": 1.1274630743860345}, \"3.6851992070525985\": {\"frequency\": 1, \"value\": 3.6851992070525985}, \"19.826945847892173\": {\"frequency\": 1, \"value\": 19.826945847892173}, \"1.3333451528169589\": {\"frequency\": 1, \"value\": 1.3333451528169589}, \"1.810352066143419\": {\"frequency\": 1, \"value\": 1.810352066143419}, \"16.234126726683602\": {\"frequency\": 1, \"value\": 16.234126726683602}, \"1.4852099787301773\": {\"frequency\": 1, \"value\": 1.4852099787301773}, \"2.5213627448834277\": {\"frequency\": 1, \"value\": 2.5213627448834277}, \"1.6482546171347199\": {\"frequency\": 1, \"value\": 1.6482546171347199}, \"3.146090285430097\": {\"frequency\": 1, \"value\": 3.146090285430097}, \"1.8755991370385958\": {\"frequency\": 1, \"value\": 1.8755991370385958}, \"1.2409083765287334\": {\"frequency\": 1, \"value\": 1.2409083765287334}, \"1.0945618095517724\": {\"frequency\": 1, \"value\": 1.0945618095517724}, \"7.151623710133576\": {\"frequency\": 1, \"value\": 7.151623710133576}, \"1.0038201772602442\": {\"frequency\": 1, \"value\": 1.0038201772602442}, \"2.582630630242928\": {\"frequency\": 1, \"value\": 2.582630630242928}, \"3.2522835730205175\": {\"frequency\": 1, \"value\": 3.2522835730205175}, \"1.2357814327927927\": {\"frequency\": 1, \"value\": 1.2357814327927927}, \"1.7549593469459603\": {\"frequency\": 1, \"value\": 1.7549593469459603}, \"5.406373038078868\": {\"frequency\": 1, \"value\": 5.406373038078868}, \"1.2406100046533683\": {\"frequency\": 1, \"value\": 1.2406100046533683}, \"20.28693025582041\": {\"frequency\": 1, \"value\": 20.28693025582041}, \"3.433290981736479\": {\"frequency\": 1, \"value\": 3.433290981736479}, \"1.9345691342386864\": {\"frequency\": 1, \"value\": 1.9345691342386864}, \"2.799630670010188\": {\"frequency\": 1, \"value\": 2.799630670010188}, \"1.362579547055052\": {\"frequency\": 1, \"value\": 1.362579547055052}, \"2.0002713567549684\": {\"frequency\": 1, \"value\": 2.0002713567549684}, \"1.6266639471423667\": {\"frequency\": 1, \"value\": 1.6266639471423667}, \"3.648309283031551\": {\"frequency\": 1, \"value\": 3.648309283031551}, \"139.14468757212234\": {\"frequency\": 1, \"value\": 139.14468757212234}, \"1.9236576857081435\": {\"frequency\": 1, \"value\": 1.9236576857081435}, \"1.0374071905392155\": {\"frequency\": 1, \"value\": 1.0374071905392155}, \"1.6976135112126636\": {\"frequency\": 1, \"value\": 1.6976135112126636}, \"3.3376508488787078\": {\"frequency\": 1, \"value\": 3.3376508488787078}, \"3.7257715045133635\": {\"frequency\": 1, \"value\": 3.7257715045133635}, \"1.0791018414997833\": {\"frequency\": 1, \"value\": 1.0791018414997833}, \"5.998444725679445\": {\"frequency\": 1, \"value\": 5.998444725679445}, \"1.2167513813601802\": {\"frequency\": 1, \"value\": 1.2167513813601802}, \"1.950612351423484\": {\"frequency\": 1, \"value\": 1.950612351423484}, \"1.7992842662473354\": {\"frequency\": 1, \"value\": 1.7992842662473354}, \"1.327484893816245\": {\"frequency\": 1, \"value\": 1.327484893816245}, \"2.34396038426679\": {\"frequency\": 1, \"value\": 2.34396038426679}, \"1.7842317113293744\": {\"frequency\": 1, \"value\": 1.7842317113293744}, \"1.8422310050715913\": {\"frequency\": 1, \"value\": 1.8422310050715913}, \"2.368918054869563\": {\"frequency\": 1, \"value\": 2.368918054869563}, \"24.373388440355775\": {\"frequency\": 1, \"value\": 24.373388440355775}, \"1.280066222834901\": {\"frequency\": 1, \"value\": 1.280066222834901}, \"3.681624194931219\": {\"frequency\": 1, \"value\": 3.681624194931219}, \"2.835487971046872\": {\"frequency\": 1, \"value\": 2.835487971046872}, \"1.3769710721126074\": {\"frequency\": 1, \"value\": 1.3769710721126074}, \"3.7699381244203876\": {\"frequency\": 1, \"value\": 3.7699381244203876}, \"2.995554583268416\": {\"frequency\": 1, \"value\": 2.995554583268416}, \"1.1622532105988534\": {\"frequency\": 1, \"value\": 1.1622532105988534}, \"3.7810112494161863\": {\"frequency\": 1, \"value\": 3.7810112494161863}, \"1.9473713203811884\": {\"frequency\": 1, \"value\": 1.9473713203811884}, \"28.155957509875247\": {\"frequency\": 1, \"value\": 28.155957509875247}, \"13.984579718285941\": {\"frequency\": 1, \"value\": 13.984579718285941}, \"4.706073125270346\": {\"frequency\": 1, \"value\": 4.706073125270346}, \"1.916063630054257\": {\"frequency\": 1, \"value\": 1.916063630054257}, \"3.2753869198805843\": {\"frequency\": 1, \"value\": 3.2753869198805843}, \"1.582281962591378\": {\"frequency\": 1, \"value\": 1.582281962591378}, \"1.196663235122191\": {\"frequency\": 1, \"value\": 1.196663235122191}, \"1.8477614888949399\": {\"frequency\": 1, \"value\": 1.8477614888949399}, \"1.9760197178138525\": {\"frequency\": 1, \"value\": 1.9760197178138525}, \"4.33296529287865\": {\"frequency\": 1, \"value\": 4.33296529287865}, \"2.7621244921255172\": {\"frequency\": 1, \"value\": 2.7621244921255172}, \"3.981554643958758\": {\"frequency\": 1, \"value\": 3.981554643958758}, \"6.61018509267975\": {\"frequency\": 1, \"value\": 6.61018509267975}, \"1.5131586672389592\": {\"frequency\": 1, \"value\": 1.5131586672389592}, \"1.0431722293793793\": {\"frequency\": 1, \"value\": 1.0431722293793793}, \"1.7879493353688074\": {\"frequency\": 1, \"value\": 1.7879493353688074}, \"2.481387572420884\": {\"frequency\": 1, \"value\": 2.481387572420884}, \"1.366950387029219\": {\"frequency\": 1, \"value\": 1.366950387029219}, \"3.842829466407598\": {\"frequency\": 1, \"value\": 3.842829466407598}, \"1.1394005418747528\": {\"frequency\": 1, \"value\": 1.1394005418747528}, \"4.0769566724973085\": {\"frequency\": 1, \"value\": 4.0769566724973085}, \"5.124932787354496\": {\"frequency\": 1, \"value\": 5.124932787354496}, \"1.623790629167326\": {\"frequency\": 1, \"value\": 1.623790629167326}, \"1.6839887910548572\": {\"frequency\": 1, \"value\": 1.6839887910548572}, \"1.559339413928804\": {\"frequency\": 1, \"value\": 1.559339413928804}, \"3.607764367696063\": {\"frequency\": 1, \"value\": 3.607764367696063}, \"5.123797946246113\": {\"frequency\": 1, \"value\": 5.123797946246113}, \"1.1899579918737042\": {\"frequency\": 1, \"value\": 1.1899579918737042}, \"2.3279826971194693\": {\"frequency\": 1, \"value\": 2.3279826971194693}, \"2.1620376492744207\": {\"frequency\": 1, \"value\": 2.1620376492744207}, \"23.292829832213155\": {\"frequency\": 1, \"value\": 23.292829832213155}, \"1.415038014037602\": {\"frequency\": 1, \"value\": 1.415038014037602}, \"4.805350884890243\": {\"frequency\": 1, \"value\": 4.805350884890243}, \"3.476547051274633\": {\"frequency\": 1, \"value\": 3.476547051274633}, \"1.1125034415989372\": {\"frequency\": 1, \"value\": 1.1125034415989372}, \"11.36630180662094\": {\"frequency\": 1, \"value\": 11.36630180662094}, \"12.654617834066428\": {\"frequency\": 1, \"value\": 12.654617834066428}, \"2.1167095445985806\": {\"frequency\": 1, \"value\": 2.1167095445985806}, \"1.3179682868768776\": {\"frequency\": 1, \"value\": 1.3179682868768776}, \"1.0763897085620666\": {\"frequency\": 1, \"value\": 1.0763897085620666}, \"1.8821825184484413\": {\"frequency\": 1, \"value\": 1.8821825184484413}, \"2.1990545599846905\": {\"frequency\": 1, \"value\": 2.1990545599846905}, \"1.9012324680175556\": {\"frequency\": 1, \"value\": 1.9012324680175556}, \"25.711798414313904\": {\"frequency\": 1, \"value\": 25.711798414313904}, \"1.3718933145199643\": {\"frequency\": 1, \"value\": 1.3718933145199643}, \"1.1102117820052677\": {\"frequency\": 1, \"value\": 1.1102117820052677}, \"2.3508556940980982\": {\"frequency\": 1, \"value\": 2.3508556940980982}, \"1.061876524681843\": {\"frequency\": 1, \"value\": 1.061876524681843}, \"1.8181504557829269\": {\"frequency\": 1, \"value\": 1.8181504557829269}, \"1.094091355217228\": {\"frequency\": 1, \"value\": 1.094091355217228}, \"1.1729707148211197\": {\"frequency\": 1, \"value\": 1.1729707148211197}, \"1.4201831258734254\": {\"frequency\": 1, \"value\": 1.4201831258734254}, \"1.0887890198466057\": {\"frequency\": 1, \"value\": 1.0887890198466057}, \"1.0055689292891121\": {\"frequency\": 1, \"value\": 1.0055689292891121}, \"9.07678564556862\": {\"frequency\": 1, \"value\": 9.07678564556862}, \"2.611185929735684\": {\"frequency\": 1, \"value\": 2.611185929735684}, \"1.0473312865213522\": {\"frequency\": 1, \"value\": 1.0473312865213522}, \"2.283018019119172\": {\"frequency\": 1, \"value\": 2.283018019119172}, \"1.3372344556636622\": {\"frequency\": 1, \"value\": 1.3372344556636622}, \"11.55945936280703\": {\"frequency\": 1, \"value\": 11.55945936280703}, \"1.7197880350861103\": {\"frequency\": 1, \"value\": 1.7197880350861103}, \"1.783686598985813\": {\"frequency\": 1, \"value\": 1.783686598985813}, \"1.0054830651400537\": {\"frequency\": 1, \"value\": 1.0054830651400537}, \"2.731664306483606\": {\"frequency\": 1, \"value\": 2.731664306483606}, \"1.3842901344301288\": {\"frequency\": 1, \"value\": 1.3842901344301288}, \"1.333803148618845\": {\"frequency\": 1, \"value\": 1.333803148618845}, \"8.031971877956666\": {\"frequency\": 1, \"value\": 8.031971877956666}, \"2.4817609300813386\": {\"frequency\": 1, \"value\": 2.4817609300813386}, \"1.0365896004874446\": {\"frequency\": 1, \"value\": 1.0365896004874446}, \"1.8921165255607406\": {\"frequency\": 1, \"value\": 1.8921165255607406}, \"2.6561822536446584\": {\"frequency\": 1, \"value\": 2.6561822536446584}, \"1.7541627728090174\": {\"frequency\": 1, \"value\": 1.7541627728090174}, \"1.0502256527945266\": {\"frequency\": 1, \"value\": 1.0502256527945266}, \"15.127033158328132\": {\"frequency\": 1, \"value\": 15.127033158328132}, \"2.5993900185711865\": {\"frequency\": 1, \"value\": 2.5993900185711865}, \"4.077701470767792\": {\"frequency\": 1, \"value\": 4.077701470767792}, \"2.81063461089782\": {\"frequency\": 1, \"value\": 2.81063461089782}, \"9.882026673264432\": {\"frequency\": 1, \"value\": 9.882026673264432}, \"1.1592183148522759\": {\"frequency\": 1, \"value\": 1.1592183148522759}, \"1.3152995173513493\": {\"frequency\": 1, \"value\": 1.3152995173513493}, \"2.3329954284088457\": {\"frequency\": 1, \"value\": 2.3329954284088457}, \"48.041824664990656\": {\"frequency\": 1, \"value\": 48.041824664990656}, \"1.1726923120371244\": {\"frequency\": 1, \"value\": 1.1726923120371244}, \"2.448374776293149\": {\"frequency\": 1, \"value\": 2.448374776293149}, \"11.434364462637168\": {\"frequency\": 1, \"value\": 11.434364462637168}, \"1.7761211590445056\": {\"frequency\": 1, \"value\": 1.7761211590445056}, \"1.085227890539224\": {\"frequency\": 1, \"value\": 1.085227890539224}, \"12.320637237450033\": {\"frequency\": 1, \"value\": 12.320637237450033}, \"3.3527021911090147\": {\"frequency\": 1, \"value\": 3.3527021911090147}, \"1.2666678707686159\": {\"frequency\": 1, \"value\": 1.2666678707686159}, \"1.024061446492338\": {\"frequency\": 1, \"value\": 1.024061446492338}, \"1.3331718778571002\": {\"frequency\": 1, \"value\": 1.3331718778571002}, \"3.868750639639825\": {\"frequency\": 1, \"value\": 3.868750639639825}, \"3.466084554676131\": {\"frequency\": 1, \"value\": 3.466084554676131}, \"1.287533797602692\": {\"frequency\": 1, \"value\": 1.287533797602692}, \"4.197199021477527\": {\"frequency\": 1, \"value\": 4.197199021477527}, \"1.6615522915531953\": {\"frequency\": 1, \"value\": 1.6615522915531953}, \"1.6475381126844584\": {\"frequency\": 1, \"value\": 1.6475381126844584}, \"11.181812635964214\": {\"frequency\": 1, \"value\": 11.181812635964214}, \"1.278890415452224\": {\"frequency\": 1, \"value\": 1.278890415452224}, \"1.3285842421191059\": {\"frequency\": 1, \"value\": 1.3285842421191059}, \"2.907867529089643\": {\"frequency\": 1, \"value\": 2.907867529089643}, \"1.0693254982276315\": {\"frequency\": 1, \"value\": 1.0693254982276315}, \"1.0602002689071526\": {\"frequency\": 1, \"value\": 1.0602002689071526}, \"0.9998777204560121\": {\"frequency\": 1, \"value\": 0.9998777204560121}, \"2.1024781451506542\": {\"frequency\": 1, \"value\": 2.1024781451506542}, \"1.9389963766104497\": {\"frequency\": 1, \"value\": 1.9389963766104497}, \"1.8342638643628832\": {\"frequency\": 1, \"value\": 1.8342638643628832}, \"7.5654217828939165\": {\"frequency\": 1, \"value\": 7.5654217828939165}, \"4.213960910067403\": {\"frequency\": 1, \"value\": 4.213960910067403}, \"3.673317137781491\": {\"frequency\": 1, \"value\": 3.673317137781491}, \"1.7357649128364137\": {\"frequency\": 1, \"value\": 1.7357649128364137}, \"7.0883505864054825\": {\"frequency\": 1, \"value\": 7.0883505864054825}, \"1.8384710087188258\": {\"frequency\": 1, \"value\": 1.8384710087188258}, \"1.8306429508112665\": {\"frequency\": 1, \"value\": 1.8306429508112665}, \"0.9947364705826602\": {\"frequency\": 1, \"value\": 0.9947364705826602}, \"15.393777230237758\": {\"frequency\": 1, \"value\": 15.393777230237758}, \"1.100911700939307\": {\"frequency\": 1, \"value\": 1.100911700939307}, \"3.474328209693949\": {\"frequency\": 1, \"value\": 3.474328209693949}, \"3.1019811861252826\": {\"frequency\": 1, \"value\": 3.1019811861252826}, \"2.1950036877567176\": {\"frequency\": 1, \"value\": 2.1950036877567176}, \"5.355451942510024\": {\"frequency\": 1, \"value\": 5.355451942510024}, \"3.989521534976388\": {\"frequency\": 1, \"value\": 3.989521534976388}, \"1.2121233389129067\": {\"frequency\": 1, \"value\": 1.2121233389129067}, \"1.163974378819002\": {\"frequency\": 1, \"value\": 1.163974378819002}, \"1.8617931357418755\": {\"frequency\": 1, \"value\": 1.8617931357418755}, \"1.0392943386382087\": {\"frequency\": 1, \"value\": 1.0392943386382087}, \"1.3802691479063076\": {\"frequency\": 1, \"value\": 1.3802691479063076}, \"1.127406218741635\": {\"frequency\": 1, \"value\": 1.127406218741635}, \"1.8844238339002808\": {\"frequency\": 1, \"value\": 1.8844238339002808}, \"1.087794883621163\": {\"frequency\": 1, \"value\": 1.087794883621163}, \"6.289488253631232\": {\"frequency\": 1, \"value\": 6.289488253631232}, \"1.5489064313523848\": {\"frequency\": 1, \"value\": 1.5489064313523848}, \"1.445908652615002\": {\"frequency\": 1, \"value\": 1.445908652615002}, \"4.320721102515779\": {\"frequency\": 1, \"value\": 4.320721102515779}, \"7.132437191674745\": {\"frequency\": 1, \"value\": 7.132437191674745}, \"1.0375162271197258\": {\"frequency\": 1, \"value\": 1.0375162271197258}, \"3.967135654481159\": {\"frequency\": 1, \"value\": 3.967135654481159}, \"6.379683572153493\": {\"frequency\": 1, \"value\": 6.379683572153493}, \"2.3508226775763625\": {\"frequency\": 1, \"value\": 2.3508226775763625}, \"7.827221377956607\": {\"frequency\": 1, \"value\": 7.827221377956607}, \"3.180547947456391\": {\"frequency\": 1, \"value\": 3.180547947456391}, \"2.4241993411701035\": {\"frequency\": 1, \"value\": 2.4241993411701035}, \"6.313108926772083\": {\"frequency\": 1, \"value\": 6.313108926772083}, \"10.238846795182441\": {\"frequency\": 1, \"value\": 10.238846795182441}, \"32.19731445252576\": {\"frequency\": 1, \"value\": 32.19731445252576}, \"1.5046726574727596\": {\"frequency\": 1, \"value\": 1.5046726574727596}, \"5.74312835252212\": {\"frequency\": 1, \"value\": 5.74312835252212}, \"2.066502837714596\": {\"frequency\": 1, \"value\": 2.066502837714596}, \"3.276952312748292\": {\"frequency\": 1, \"value\": 3.276952312748292}, \"1.3114549132746804\": {\"frequency\": 1, \"value\": 1.3114549132746804}, \"1.7617804029999666\": {\"frequency\": 1, \"value\": 1.7617804029999666}, \"4.894068334129162\": {\"frequency\": 1, \"value\": 4.894068334129162}, \"6.484675024001881\": {\"frequency\": 1, \"value\": 6.484675024001881}, \"4.096563915997889\": {\"frequency\": 1, \"value\": 4.096563915997889}, \"19.46698996060563\": {\"frequency\": 1, \"value\": 19.46698996060563}, \"19.96925590848647\": {\"frequency\": 1, \"value\": 19.96925590848647}, \"1.684490352702831\": {\"frequency\": 1, \"value\": 1.684490352702831}, \"2.908677409479221\": {\"frequency\": 1, \"value\": 2.908677409479221}, \"2.870134662838422\": {\"frequency\": 1, \"value\": 2.870134662838422}, \"10.94857912650082\": {\"frequency\": 1, \"value\": 10.94857912650082}, \"2.9520448019169843\": {\"frequency\": 1, \"value\": 2.9520448019169843}, \"2.2775243137957624\": {\"frequency\": 1, \"value\": 2.2775243137957624}, \"1.6227513965747618\": {\"frequency\": 1, \"value\": 1.6227513965747618}, \"1.1336576166698908\": {\"frequency\": 1, \"value\": 1.1336576166698908}, \"2.9846325285845663\": {\"frequency\": 1, \"value\": 2.9846325285845663}, \"1.0453163845053095\": {\"frequency\": 1, \"value\": 1.0453163845053095}, \"1.7890984305970057\": {\"frequency\": 1, \"value\": 1.7890984305970057}, \"47.80974377791806\": {\"frequency\": 1, \"value\": 47.80974377791806}, \"2.9072049856913864\": {\"frequency\": 1, \"value\": 2.9072049856913864}, \"0.9956119962367314\": {\"frequency\": 1, \"value\": 0.9956119962367314}, \"2.8916758505339284\": {\"frequency\": 1, \"value\": 2.8916758505339284}, \"4.11404081607486\": {\"frequency\": 1, \"value\": 4.11404081607486}, \"1.1225787805165444\": {\"frequency\": 1, \"value\": 1.1225787805165444}, \"1.2743861986948408\": {\"frequency\": 1, \"value\": 1.2743861986948408}, \"1.8207585344969757\": {\"frequency\": 1, \"value\": 1.8207585344969757}, \"2.3573149694199986\": {\"frequency\": 1, \"value\": 2.3573149694199986}, \"1.8108145748859306\": {\"frequency\": 1, \"value\": 1.8108145748859306}, \"1.0481860206788651\": {\"frequency\": 1, \"value\": 1.0481860206788651}, \"1.441360193460683\": {\"frequency\": 1, \"value\": 1.441360193460683}, \"1.036862094366997\": {\"frequency\": 1, \"value\": 1.036862094366997}, \"1.1748740273334137\": {\"frequency\": 1, \"value\": 1.1748740273334137}, \"5.082171293665294\": {\"frequency\": 1, \"value\": 5.082171293665294}, \"2.134210040834466\": {\"frequency\": 1, \"value\": 2.134210040834466}, \"1.011427133046998\": {\"frequency\": 1, \"value\": 1.011427133046998}, \"2.328081255181857\": {\"frequency\": 1, \"value\": 2.328081255181857}, \"1.7168605093650466\": {\"frequency\": 1, \"value\": 1.7168605093650466}, \"4.079344657235337\": {\"frequency\": 1, \"value\": 4.079344657235337}, \"2.6129803239541745\": {\"frequency\": 1, \"value\": 2.6129803239541745}, \"1.4273483564594363\": {\"frequency\": 1, \"value\": 1.4273483564594363}, \"1.4264132827062133\": {\"frequency\": 1, \"value\": 1.4264132827062133}, \"1.5946028088237718\": {\"frequency\": 1, \"value\": 1.5946028088237718}, \"4.137270871581851\": {\"frequency\": 1, \"value\": 4.137270871581851}, \"6.465455003423089\": {\"frequency\": 1, \"value\": 6.465455003423089}, \"1.1184751877223011\": {\"frequency\": 1, \"value\": 1.1184751877223011}, \"4.028674087456913\": {\"frequency\": 1, \"value\": 4.028674087456913}, \"2.3423123206594405\": {\"frequency\": 1, \"value\": 2.3423123206594405}, \"7.935690853153899\": {\"frequency\": 1, \"value\": 7.935690853153899}, \"1.3213789405190515\": {\"frequency\": 1, \"value\": 1.3213789405190515}, \"1.5036070294753945\": {\"frequency\": 1, \"value\": 1.5036070294753945}, \"1.5667039148452755\": {\"frequency\": 1, \"value\": 1.5667039148452755}, \"1.081784010196876\": {\"frequency\": 1, \"value\": 1.081784010196876}, \"3.192430683695904\": {\"frequency\": 1, \"value\": 3.192430683695904}, \"1.35195140124645\": {\"frequency\": 1, \"value\": 1.35195140124645}, \"5.287690178518209\": {\"frequency\": 1, \"value\": 5.287690178518209}, \"1.8025562817307879\": {\"frequency\": 1, \"value\": 1.8025562817307879}, \"4.506342924713557\": {\"frequency\": 1, \"value\": 4.506342924713557}, \"1.0541570280125376\": {\"frequency\": 1, \"value\": 1.0541570280125376}, \"1.1088131242870853\": {\"frequency\": 1, \"value\": 1.1088131242870853}, \"1.2115218763307203\": {\"frequency\": 1, \"value\": 1.2115218763307203}, \"1.2697088874516356\": {\"frequency\": 1, \"value\": 1.2697088874516356}, \"1.1457197834071338\": {\"frequency\": 1, \"value\": 1.1457197834071338}, \"1.917953270805239\": {\"frequency\": 1, \"value\": 1.917953270805239}, \"12.770990524242029\": {\"frequency\": 1, \"value\": 12.770990524242029}, \"1.4481275282597452\": {\"frequency\": 1, \"value\": 1.4481275282597452}, \"28.46326861051614\": {\"frequency\": 1, \"value\": 28.46326861051614}, \"2.550344990194883\": {\"frequency\": 1, \"value\": 2.550344990194883}, \"2.0341545042500364\": {\"frequency\": 1, \"value\": 2.0341545042500364}, \"1.9158256322462535\": {\"frequency\": 1, \"value\": 1.9158256322462535}, \"4.224686167519392\": {\"frequency\": 1, \"value\": 4.224686167519392}, \"2.0952640192451133\": {\"frequency\": 1, \"value\": 2.0952640192451133}, \"1.490168364244858\": {\"frequency\": 1, \"value\": 1.490168364244858}, \"1.7149336660366246\": {\"frequency\": 1, \"value\": 1.7149336660366246}, \"2.1292472546644863\": {\"frequency\": 1, \"value\": 2.1292472546644863}, \"1.0185120452956082\": {\"frequency\": 1, \"value\": 1.0185120452956082}, \"1.2023418321392993\": {\"frequency\": 1, \"value\": 1.2023418321392993}, \"13.657492014846902\": {\"frequency\": 1, \"value\": 13.657492014846902}, \"1.383583827550539\": {\"frequency\": 1, \"value\": 1.383583827550539}, \"3.0174976281706796\": {\"frequency\": 1, \"value\": 3.0174976281706796}, \"1.0386941906279126\": {\"frequency\": 1, \"value\": 1.0386941906279126}, \"2.053677177779854\": {\"frequency\": 1, \"value\": 2.053677177779854}, \"10.650011508721613\": {\"frequency\": 1, \"value\": 10.650011508721613}, \"1.95023709183122\": {\"frequency\": 1, \"value\": 1.95023709183122}, \"1.0045173483100642\": {\"frequency\": 1, \"value\": 1.0045173483100642}, \"3.3276228313466047\": {\"frequency\": 1, \"value\": 3.3276228313466047}, \"1.2154281740739252\": {\"frequency\": 1, \"value\": 1.2154281740739252}, \"13.217321894974162\": {\"frequency\": 1, \"value\": 13.217321894974162}, \"10.66214613121155\": {\"frequency\": 1, \"value\": 10.66214613121155}, \"1.0265978045148194\": {\"frequency\": 1, \"value\": 1.0265978045148194}, \"1.5097692703773995\": {\"frequency\": 1, \"value\": 1.5097692703773995}, \"1.014626811715752\": {\"frequency\": 1, \"value\": 1.014626811715752}, \"1.8992031328938213\": {\"frequency\": 1, \"value\": 1.8992031328938213}, \"1.257843330344245\": {\"frequency\": 1, \"value\": 1.257843330344245}, \"83.49918011874834\": {\"frequency\": 1, \"value\": 83.49918011874834}, \"3.744969613387082\": {\"frequency\": 1, \"value\": 3.744969613387082}, \"1.3976432216010557\": {\"frequency\": 1, \"value\": 1.3976432216010557}, \"5.781377160029677\": {\"frequency\": 1, \"value\": 5.781377160029677}, \"2.9103343431822495\": {\"frequency\": 1, \"value\": 2.9103343431822495}, \"2.020453401802323\": {\"frequency\": 1, \"value\": 2.020453401802323}, \"1.65591176846981\": {\"frequency\": 1, \"value\": 1.65591176846981}, \"2.4830509318945264\": {\"frequency\": 1, \"value\": 2.4830509318945264}, \"1.1494830554277728\": {\"frequency\": 1, \"value\": 1.1494830554277728}, \"1.1708835076593103\": {\"frequency\": 1, \"value\": 1.1708835076593103}, \"5.766827957636358\": {\"frequency\": 1, \"value\": 5.766827957636358}, \"1.9677481263777694\": {\"frequency\": 1, \"value\": 1.9677481263777694}, \"4.335452471020069\": {\"frequency\": 1, \"value\": 4.335452471020069}, \"1.3000530078456554\": {\"frequency\": 1, \"value\": 1.3000530078456554}, \"3.253375326249508\": {\"frequency\": 1, \"value\": 3.253375326249508}, \"1.0262182334056518\": {\"frequency\": 1, \"value\": 1.0262182334056518}, \"2.1267680683338495\": {\"frequency\": 1, \"value\": 2.1267680683338495}, \"7.980449151878084\": {\"frequency\": 1, \"value\": 7.980449151878084}, \"1.2058213871373045\": {\"frequency\": 1, \"value\": 1.2058213871373045}, \"2.227806367881839\": {\"frequency\": 1, \"value\": 2.227806367881839}, \"2.415386908313064\": {\"frequency\": 1, \"value\": 2.415386908313064}, \"1.1630963067644426\": {\"frequency\": 1, \"value\": 1.1630963067644426}, \"24.378881434671346\": {\"frequency\": 1, \"value\": 24.378881434671346}, \"1.021993517615447\": {\"frequency\": 1, \"value\": 1.021993517615447}, \"4.079717160493078\": {\"frequency\": 1, \"value\": 4.079717160493078}, \"1.090756301758156\": {\"frequency\": 1, \"value\": 1.090756301758156}, \"2.100357783342672\": {\"frequency\": 1, \"value\": 2.100357783342672}, \"12.176936130463217\": {\"frequency\": 1, \"value\": 12.176936130463217}, \"1.1755126824197497\": {\"frequency\": 1, \"value\": 1.1755126824197497}, \"1.1401094318559257\": {\"frequency\": 1, \"value\": 1.1401094318559257}, \"1.7758778461430191\": {\"frequency\": 1, \"value\": 1.7758778461430191}, \"1.5102833668114783\": {\"frequency\": 1, \"value\": 1.5102833668114783}, \"1.4487470568578809\": {\"frequency\": 1, \"value\": 1.4487470568578809}, \"4.935828766712126\": {\"frequency\": 1, \"value\": 4.935828766712126}, \"1.2960846068505907\": {\"frequency\": 1, \"value\": 1.2960846068505907}, \"4.053531583532357\": {\"frequency\": 1, \"value\": 4.053531583532357}, \"1.0730265678756097\": {\"frequency\": 1, \"value\": 1.0730265678756097}, \"1.3623417963140252\": {\"frequency\": 1, \"value\": 1.3623417963140252}, \"1.4402402996586081\": {\"frequency\": 1, \"value\": 1.4402402996586081}, \"1.515151898697788\": {\"frequency\": 1, \"value\": 1.515151898697788}, \"1.5577320291938543\": {\"frequency\": 1, \"value\": 1.5577320291938543}, \"1.0969604718275534\": {\"frequency\": 1, \"value\": 1.0969604718275534}, \"1.1232256178251718\": {\"frequency\": 1, \"value\": 1.1232256178251718}, \"2.1364735155717844\": {\"frequency\": 1, \"value\": 2.1364735155717844}, \"1.157074382308415\": {\"frequency\": 1, \"value\": 1.157074382308415}, \"1.4552602084860666\": {\"frequency\": 1, \"value\": 1.4552602084860666}, \"3.885718219955915\": {\"frequency\": 1, \"value\": 3.885718219955915}, \"1.9697841976049084\": {\"frequency\": 1, \"value\": 1.9697841976049084}, \"1.556540428184368\": {\"frequency\": 1, \"value\": 1.556540428184368}, \"5.479394671305752\": {\"frequency\": 1, \"value\": 5.479394671305752}, \"1.6697816253295095\": {\"frequency\": 1, \"value\": 1.6697816253295095}, \"11.093112486094357\": {\"frequency\": 1, \"value\": 11.093112486094357}, \"3.6082579117331766\": {\"frequency\": 1, \"value\": 3.6082579117331766}, \"2.026632199001991\": {\"frequency\": 1, \"value\": 2.026632199001991}, \"1.3322190692015683\": {\"frequency\": 1, \"value\": 1.3322190692015683}, \"1.0182527966727422\": {\"frequency\": 1, \"value\": 1.0182527966727422}, \"3.0300787857236893\": {\"frequency\": 1, \"value\": 3.0300787857236893}, \"1.0433034403415187\": {\"frequency\": 1, \"value\": 1.0433034403415187}, \"2.3203181254163354\": {\"frequency\": 1, \"value\": 2.3203181254163354}, \"1.6467804433970807\": {\"frequency\": 1, \"value\": 1.6467804433970807}, \"1.01177163451623\": {\"frequency\": 1, \"value\": 1.01177163451623}, \"2.1859110952494056\": {\"frequency\": 1, \"value\": 2.1859110952494056}, \"1.2580356203703311\": {\"frequency\": 1, \"value\": 1.2580356203703311}, \"1.0594067194690517\": {\"frequency\": 1, \"value\": 1.0594067194690517}, \"34.961378841562244\": {\"frequency\": 1, \"value\": 34.961378841562244}, \"1.1435999551672278\": {\"frequency\": 1, \"value\": 1.1435999551672278}, \"2.6053889495873808\": {\"frequency\": 1, \"value\": 2.6053889495873808}, \"6.7321547296616\": {\"frequency\": 1, \"value\": 6.7321547296616}, \"1.660819026661117\": {\"frequency\": 1, \"value\": 1.660819026661117}, \"1.3673515062277164\": {\"frequency\": 1, \"value\": 1.3673515062277164}, \"18.51222952772309\": {\"frequency\": 1, \"value\": 18.51222952772309}, \"5.326812647365804\": {\"frequency\": 1, \"value\": 5.326812647365804}, \"6.148418335746797\": {\"frequency\": 1, \"value\": 6.148418335746797}, \"4.935586845212492\": {\"frequency\": 1, \"value\": 4.935586845212492}, \"1.0565986434693415\": {\"frequency\": 1, \"value\": 1.0565986434693415}, \"1.7876333999109437\": {\"frequency\": 1, \"value\": 1.7876333999109437}, \"1.058679562568217\": {\"frequency\": 1, \"value\": 1.058679562568217}, \"1.2635221327791495\": {\"frequency\": 1, \"value\": 1.2635221327791495}, \"1.0732040266209695\": {\"frequency\": 1, \"value\": 1.0732040266209695}, \"2.3790883800243914\": {\"frequency\": 1, \"value\": 2.3790883800243914}, \"931.5834909664245\": {\"frequency\": 1, \"value\": 931.5834909664245}, \"2.5683440977055794\": {\"frequency\": 1, \"value\": 2.5683440977055794}, \"1.012676232450684\": {\"frequency\": 1, \"value\": 1.012676232450684}, \"1.0707874250914258\": {\"frequency\": 1, \"value\": 1.0707874250914258}, \"1.0099959329622672\": {\"frequency\": 1, \"value\": 1.0099959329622672}, \"1.4932470294540652\": {\"frequency\": 1, \"value\": 1.4932470294540652}, \"28.107106485653205\": {\"frequency\": 1, \"value\": 28.107106485653205}, \"6.688718161604199\": {\"frequency\": 1, \"value\": 6.688718161604199}, \"1.1951637284902845\": {\"frequency\": 1, \"value\": 1.1951637284902845}, \"1.7736601857136989\": {\"frequency\": 1, \"value\": 1.7736601857136989}, \"1.3159756747405462\": {\"frequency\": 1, \"value\": 1.3159756747405462}, \"1.1095123418743742\": {\"frequency\": 1, \"value\": 1.1095123418743742}, \"3.0679645799752286\": {\"frequency\": 1, \"value\": 3.0679645799752286}, \"3.4434414221823424\": {\"frequency\": 1, \"value\": 3.4434414221823424}, \"4.50622756211648\": {\"frequency\": 1, \"value\": 4.50622756211648}, \"1.2582760037988705\": {\"frequency\": 1, \"value\": 1.2582760037988705}, \"3.4480603609892406\": {\"frequency\": 1, \"value\": 3.4480603609892406}, \"25.397682530950338\": {\"frequency\": 1, \"value\": 25.397682530950338}, \"1.4853668441425172\": {\"frequency\": 1, \"value\": 1.4853668441425172}, \"1.0144219658265679\": {\"frequency\": 1, \"value\": 1.0144219658265679}, \"1.0130963629717515\": {\"frequency\": 1, \"value\": 1.0130963629717515}, \"7.117412692362212\": {\"frequency\": 1, \"value\": 7.117412692362212}, \"1.8492951710782821\": {\"frequency\": 1, \"value\": 1.8492951710782821}, \"3.8375626273444725\": {\"frequency\": 1, \"value\": 3.8375626273444725}, \"1.3180790322623612\": {\"frequency\": 1, \"value\": 1.3180790322623612}, \"8.805370656207826\": {\"frequency\": 1, \"value\": 8.805370656207826}, \"7.080919430747998\": {\"frequency\": 1, \"value\": 7.080919430747998}, \"3.5544420361639166\": {\"frequency\": 1, \"value\": 3.5544420361639166}, \"1.316086335410492\": {\"frequency\": 1, \"value\": 1.316086335410492}, \"3.6813956213602927\": {\"frequency\": 1, \"value\": 3.6813956213602927}, \"14.100116790429599\": {\"frequency\": 1, \"value\": 14.100116790429599}, \"1.0210090157181522\": {\"frequency\": 1, \"value\": 1.0210090157181522}, \"0.9911849744876137\": {\"frequency\": 1, \"value\": 0.9911849744876137}, \"12.42189795716263\": {\"frequency\": 1, \"value\": 12.42189795716263}, \"3.3603697914798754\": {\"frequency\": 1, \"value\": 3.3603697914798754}, \"4.67126105372375\": {\"frequency\": 1, \"value\": 4.67126105372375}, \"1.1878905869276435\": {\"frequency\": 1, \"value\": 1.1878905869276435}, \"1.1372409447192255\": {\"frequency\": 1, \"value\": 1.1372409447192255}, \"4.054470740043957\": {\"frequency\": 1, \"value\": 4.054470740043957}, \"2.504010319829828\": {\"frequency\": 1, \"value\": 2.504010319829828}, \"4.051544437677601\": {\"frequency\": 1, \"value\": 4.051544437677601}, \"6.363724014021633\": {\"frequency\": 1, \"value\": 6.363724014021633}, \"15.26957373655294\": {\"frequency\": 1, \"value\": 15.26957373655294}, \"2.2969123269090317\": {\"frequency\": 1, \"value\": 2.2969123269090317}, \"1.883022852868031\": {\"frequency\": 1, \"value\": 1.883022852868031}, \"4.619575545820534\": {\"frequency\": 1, \"value\": 4.619575545820534}, \"1.3956285226092693\": {\"frequency\": 1, \"value\": 1.3956285226092693}, \"1.0023194073138275\": {\"frequency\": 1, \"value\": 1.0023194073138275}, \"11.95670378902497\": {\"frequency\": 1, \"value\": 11.95670378902497}, \"7.426082913169797\": {\"frequency\": 1, \"value\": 7.426082913169797}, \"10.385494845207168\": {\"frequency\": 1, \"value\": 10.385494845207168}, \"1.125928480160091\": {\"frequency\": 1, \"value\": 1.125928480160091}, \"4.097925508963521\": {\"frequency\": 1, \"value\": 4.097925508963521}, \"2.6862275084671055\": {\"frequency\": 1, \"value\": 2.6862275084671055}, \"1.0283013233792127\": {\"frequency\": 1, \"value\": 1.0283013233792127}, \"6.644808159089643\": {\"frequency\": 1, \"value\": 6.644808159089643}, \"1.9954849171529856\": {\"frequency\": 1, \"value\": 1.9954849171529856}, \"1.319937795643919\": {\"frequency\": 1, \"value\": 1.319937795643919}, \"4.06281888969779\": {\"frequency\": 1, \"value\": 4.06281888969779}, \"1.5728207922654274\": {\"frequency\": 1, \"value\": 1.5728207922654274}, \"1.174049840930895\": {\"frequency\": 1, \"value\": 1.174049840930895}, \"1.1701766023510833\": {\"frequency\": 1, \"value\": 1.1701766023510833}, \"1.027888876000892\": {\"frequency\": 1, \"value\": 1.027888876000892}, \"2.383292404028061\": {\"frequency\": 1, \"value\": 2.383292404028061}, \"2.087161276810034\": {\"frequency\": 1, \"value\": 2.087161276810034}, \"2.0367622738620477\": {\"frequency\": 1, \"value\": 2.0367622738620477}, \"2.1911318096336183\": {\"frequency\": 1, \"value\": 2.1911318096336183}, \"1.3340383665724362\": {\"frequency\": 1, \"value\": 1.3340383665724362}, \"1.9884298827742368\": {\"frequency\": 1, \"value\": 1.9884298827742368}, \"58.36937309083748\": {\"frequency\": 1, \"value\": 58.36937309083748}, \"1.1583996954471076\": {\"frequency\": 1, \"value\": 1.1583996954471076}, \"1.1922260474905089\": {\"frequency\": 1, \"value\": 1.1922260474905089}, \"1.3012019354002344\": {\"frequency\": 1, \"value\": 1.3012019354002344}, \"1.4298092095454746\": {\"frequency\": 1, \"value\": 1.4298092095454746}, \"3.112073177734795\": {\"frequency\": 1, \"value\": 3.112073177734795}, \"1.1817342025386206\": {\"frequency\": 1, \"value\": 1.1817342025386206}, \"1.2960602049148677\": {\"frequency\": 1, \"value\": 1.2960602049148677}, \"5.342155938915999\": {\"frequency\": 1, \"value\": 5.342155938915999}, \"1.8157613852433339\": {\"frequency\": 1, \"value\": 1.8157613852433339}, \"77.2989278490558\": {\"frequency\": 1, \"value\": 77.2989278490558}, \"1.7476264335083354\": {\"frequency\": 1, \"value\": 1.7476264335083354}, \"1.1566711782340569\": {\"frequency\": 1, \"value\": 1.1566711782340569}, \"1.2804663643314438\": {\"frequency\": 1, \"value\": 1.2804663643314438}, \"5.365454249984874\": {\"frequency\": 1, \"value\": 5.365454249984874}, \"2.9147920534229845\": {\"frequency\": 1, \"value\": 2.9147920534229845}, \"3.7029135550292054\": {\"frequency\": 1, \"value\": 3.7029135550292054}, \"1.1568900516387757\": {\"frequency\": 1, \"value\": 1.1568900516387757}, \"17.24418860627557\": {\"frequency\": 1, \"value\": 17.24418860627557}, \"1.4449416590325264\": {\"frequency\": 1, \"value\": 1.4449416590325264}, \"5.510304967508419\": {\"frequency\": 1, \"value\": 5.510304967508419}, \"1.1099974137992448\": {\"frequency\": 1, \"value\": 1.1099974137992448}, \"2.339215562342295\": {\"frequency\": 1, \"value\": 2.339215562342295}, \"2.1984323283062785\": {\"frequency\": 1, \"value\": 2.1984323283062785}, \"1.0395781058575537\": {\"frequency\": 1, \"value\": 1.0395781058575537}, \"1.0341278957440865\": {\"frequency\": 1, \"value\": 1.0341278957440865}, \"1.0941473563318331\": {\"frequency\": 1, \"value\": 1.0941473563318331}, \"1.057655360046356\": {\"frequency\": 1, \"value\": 1.057655360046356}, \"1.2949501626139168\": {\"frequency\": 1, \"value\": 1.2949501626139168}, \"21.090349796672086\": {\"frequency\": 1, \"value\": 21.090349796672086}, \"1.5304819333329027\": {\"frequency\": 1, \"value\": 1.5304819333329027}, \"1.4839030932965454\": {\"frequency\": 1, \"value\": 1.4839030932965454}, \"4.730744069840194\": {\"frequency\": 1, \"value\": 4.730744069840194}, \"1.7208019991793087\": {\"frequency\": 1, \"value\": 1.7208019991793087}, \"1.9258195683803465\": {\"frequency\": 1, \"value\": 1.9258195683803465}, \"7.728003275137175\": {\"frequency\": 1, \"value\": 7.728003275137175}, \"3.242135399789119\": {\"frequency\": 1, \"value\": 3.242135399789119}, \"4.4074923957069485\": {\"frequency\": 1, \"value\": 4.4074923957069485}, \"6.047447923284571\": {\"frequency\": 1, \"value\": 6.047447923284571}, \"3.334016860025914\": {\"frequency\": 1, \"value\": 3.334016860025914}, \"1.016546907634343\": {\"frequency\": 1, \"value\": 1.016546907634343}, \"2.5954641175777398\": {\"frequency\": 1, \"value\": 2.5954641175777398}, \"1.4266950530963345\": {\"frequency\": 1, \"value\": 1.4266950530963345}, \"2.3602088794724576\": {\"frequency\": 1, \"value\": 2.3602088794724576}, \"1.3263860058382337\": {\"frequency\": 1, \"value\": 1.3263860058382337}, \"6.4185779498845035\": {\"frequency\": 1, \"value\": 6.4185779498845035}, \"3.334194562095502\": {\"frequency\": 1, \"value\": 3.334194562095502}, \"1.215286445017711\": {\"frequency\": 1, \"value\": 1.215286445017711}, \"3.164938355568639\": {\"frequency\": 1, \"value\": 3.164938355568639}, \"34.10942697490804\": {\"frequency\": 1, \"value\": 34.10942697490804}, \"1.162853740611636\": {\"frequency\": 1, \"value\": 1.162853740611636}, \"2.791063306511077\": {\"frequency\": 1, \"value\": 2.791063306511077}, \"1.7881791244199838\": {\"frequency\": 1, \"value\": 1.7881791244199838}, \"5.82353102032124\": {\"frequency\": 1, \"value\": 5.82353102032124}, \"2.3769794878637964\": {\"frequency\": 1, \"value\": 2.3769794878637964}, \"1.0936433983902583\": {\"frequency\": 1, \"value\": 1.0936433983902583}, \"2.0894769357184577\": {\"frequency\": 1, \"value\": 2.0894769357184577}, \"3.175346783523961\": {\"frequency\": 1, \"value\": 3.175346783523961}, \"1.686622835206021\": {\"frequency\": 1, \"value\": 1.686622835206021}, \"6.996688353849635\": {\"frequency\": 1, \"value\": 6.996688353849635}, \"1.0173025032332614\": {\"frequency\": 1, \"value\": 1.0173025032332614}, \"1.0910694437146287\": {\"frequency\": 1, \"value\": 1.0910694437146287}, \"1.476504071640939\": {\"frequency\": 1, \"value\": 1.476504071640939}, \"14.748922256404073\": {\"frequency\": 1, \"value\": 14.748922256404073}, \"5.414469683496905\": {\"frequency\": 1, \"value\": 5.414469683496905}, \"1.7995436110018859\": {\"frequency\": 1, \"value\": 1.7995436110018859}, \"3.2510360857731753\": {\"frequency\": 1, \"value\": 3.2510360857731753}, \"7.352185229988116\": {\"frequency\": 1, \"value\": 7.352185229988116}, \"4.793120379231044\": {\"frequency\": 1, \"value\": 4.793120379231044}, \"24.360126519341264\": {\"frequency\": 1, \"value\": 24.360126519341264}, \"1.4324262175047389\": {\"frequency\": 1, \"value\": 1.4324262175047389}, \"1.1469123412066724\": {\"frequency\": 1, \"value\": 1.1469123412066724}, \"1.1358822598416043\": {\"frequency\": 1, \"value\": 1.1358822598416043}, \"1.016957052959856\": {\"frequency\": 1, \"value\": 1.016957052959856}, \"1.9227783764881705\": {\"frequency\": 1, \"value\": 1.9227783764881705}, \"12.161375123259253\": {\"frequency\": 1, \"value\": 12.161375123259253}, \"3.111768267375386\": {\"frequency\": 1, \"value\": 3.111768267375386}, \"3.764302754274772\": {\"frequency\": 1, \"value\": 3.764302754274772}, \"1.1012375481167833\": {\"frequency\": 1, \"value\": 1.1012375481167833}, \"2.223166971853606\": {\"frequency\": 1, \"value\": 2.223166971853606}, \"3.593528301673117\": {\"frequency\": 1, \"value\": 3.593528301673117}, \"9.858923085681207\": {\"frequency\": 1, \"value\": 9.858923085681207}, \"10.062013767147103\": {\"frequency\": 1, \"value\": 10.062013767147103}, \"3.995588820234571\": {\"frequency\": 1, \"value\": 3.995588820234571}, \"1.0715963478429162\": {\"frequency\": 1, \"value\": 1.0715963478429162}, \"2.4318690749973437\": {\"frequency\": 1, \"value\": 2.4318690749973437}, \"1.2110030886499514\": {\"frequency\": 1, \"value\": 1.2110030886499514}, \"0.9917711162330828\": {\"frequency\": 1, \"value\": 0.9917711162330828}, \"5.921486971109138\": {\"frequency\": 1, \"value\": 5.921486971109138}, \"1.0493262135424515\": {\"frequency\": 1, \"value\": 1.0493262135424515}, \"20.057415532834742\": {\"frequency\": 1, \"value\": 20.057415532834742}, \"1.77184418368845\": {\"frequency\": 1, \"value\": 1.77184418368845}, \"2.9515996688751587\": {\"frequency\": 1, \"value\": 2.9515996688751587}, \"2.287167145932398\": {\"frequency\": 1, \"value\": 2.287167145932398}, \"3.6583267008670615\": {\"frequency\": 1, \"value\": 3.6583267008670615}, \"4.294598733802186\": {\"frequency\": 1, \"value\": 4.294598733802186}, \"9.74492104648385\": {\"frequency\": 1, \"value\": 9.74492104648385}, \"2.2068000670373515\": {\"frequency\": 1, \"value\": 2.2068000670373515}, \"2.318842495151344\": {\"frequency\": 1, \"value\": 2.318842495151344}, \"1.032365128023737\": {\"frequency\": 1, \"value\": 1.032365128023737}, \"1.284216212051811\": {\"frequency\": 1, \"value\": 1.284216212051811}, \"2.444314575475629\": {\"frequency\": 1, \"value\": 2.444314575475629}, \"6.453475194523061\": {\"frequency\": 1, \"value\": 6.453475194523061}, \"383.71833540028354\": {\"frequency\": 1, \"value\": 383.71833540028354}, \"22.678562985450462\": {\"frequency\": 1, \"value\": 22.678562985450462}, \"3.6808553856718147\": {\"frequency\": 1, \"value\": 3.6808553856718147}, \"1.0529592601914322\": {\"frequency\": 1, \"value\": 1.0529592601914322}, \"1.2240894411744734\": {\"frequency\": 1, \"value\": 1.2240894411744734}, \"3.8530126800918163\": {\"frequency\": 1, \"value\": 3.8530126800918163}, \"1.392451079653042\": {\"frequency\": 1, \"value\": 1.392451079653042}, \"1.1338856838419993\": {\"frequency\": 1, \"value\": 1.1338856838419993}, \"9.73267237380586\": {\"frequency\": 1, \"value\": 9.73267237380586}, \"2.919511455621216\": {\"frequency\": 1, \"value\": 2.919511455621216}, \"10.787539122429482\": {\"frequency\": 1, \"value\": 10.787539122429482}, \"1.2846048626234816\": {\"frequency\": 1, \"value\": 1.2846048626234816}, \"1.1792901325114498\": {\"frequency\": 1, \"value\": 1.1792901325114498}, \"1.426669436442051\": {\"frequency\": 1, \"value\": 1.426669436442051}, \"1.7076160640731692\": {\"frequency\": 1, \"value\": 1.7076160640731692}, \"19.31603749954986\": {\"frequency\": 1, \"value\": 19.31603749954986}, \"22.937650056149362\": {\"frequency\": 1, \"value\": 22.937650056149362}, \"1.399367653349593\": {\"frequency\": 1, \"value\": 1.399367653349593}, \"4.745379781742629\": {\"frequency\": 1, \"value\": 4.745379781742629}, \"14.572806076354313\": {\"frequency\": 1, \"value\": 14.572806076354313}, \"5.178542477846608\": {\"frequency\": 1, \"value\": 5.178542477846608}, \"1.816731300251493\": {\"frequency\": 1, \"value\": 1.816731300251493}, \"2.8509165601364206\": {\"frequency\": 1, \"value\": 2.8509165601364206}, \"1.8489883829172806\": {\"frequency\": 1, \"value\": 1.8489883829172806}, \"3.567964255521391\": {\"frequency\": 1, \"value\": 3.567964255521391}, \"10.167528882578846\": {\"frequency\": 1, \"value\": 10.167528882578846}, \"2.0229145935929096\": {\"frequency\": 1, \"value\": 2.0229145935929096}, \"2.02961797475309\": {\"frequency\": 1, \"value\": 2.02961797475309}, \"12.27029687143035\": {\"frequency\": 1, \"value\": 12.27029687143035}, \"15.715349978000436\": {\"frequency\": 1, \"value\": 15.715349978000436}, \"3.15092154373406\": {\"frequency\": 1, \"value\": 3.15092154373406}, \"3.8044335487495773\": {\"frequency\": 1, \"value\": 3.8044335487495773}, \"11.23320816383069\": {\"frequency\": 1, \"value\": 11.23320816383069}, \"1.4530099483202426\": {\"frequency\": 1, \"value\": 1.4530099483202426}, \"21.853765274266756\": {\"frequency\": 1, \"value\": 21.853765274266756}, \"5.300538465528129\": {\"frequency\": 1, \"value\": 5.300538465528129}, \"2.086974837676905\": {\"frequency\": 1, \"value\": 2.086974837676905}, \"1.1395834599086256\": {\"frequency\": 1, \"value\": 1.1395834599086256}, \"1.360290504609098\": {\"frequency\": 1, \"value\": 1.360290504609098}, \"8.687270107564904\": {\"frequency\": 1, \"value\": 8.687270107564904}, \"2.3446032894003643\": {\"frequency\": 1, \"value\": 2.3446032894003643}, \"20.08772079779958\": {\"frequency\": 1, \"value\": 20.08772079779958}, \"2.50233980033969\": {\"frequency\": 1, \"value\": 2.50233980033969}, \"2.2602422227086705\": {\"frequency\": 1, \"value\": 2.2602422227086705}, \"1.2805269973472482\": {\"frequency\": 1, \"value\": 1.2805269973472482}, \"4.004373156801566\": {\"frequency\": 1, \"value\": 4.004373156801566}, \"1.527497178843687\": {\"frequency\": 1, \"value\": 1.527497178843687}, \"6.759178406927396\": {\"frequency\": 1, \"value\": 6.759178406927396}, \"2.0389878916137314\": {\"frequency\": 1, \"value\": 2.0389878916137314}, \"1.6776422362992625\": {\"frequency\": 1, \"value\": 1.6776422362992625}, \"1.9749168262884838\": {\"frequency\": 1, \"value\": 1.9749168262884838}, \"6.356069813761598\": {\"frequency\": 1, \"value\": 6.356069813761598}, \"1.1834582256368973\": {\"frequency\": 1, \"value\": 1.1834582256368973}, \"1.4295143067074068\": {\"frequency\": 1, \"value\": 1.4295143067074068}, \"1.0399383282344634\": {\"frequency\": 1, \"value\": 1.0399383282344634}, \"1.779930494904916\": {\"frequency\": 1, \"value\": 1.779930494904916}, \"2.436103629516054\": {\"frequency\": 1, \"value\": 2.436103629516054}, \"3.7905821500165513\": {\"frequency\": 1, \"value\": 3.7905821500165513}, \"1.2970608747922292\": {\"frequency\": 1, \"value\": 1.2970608747922292}, \"1.522542385846294\": {\"frequency\": 1, \"value\": 1.522542385846294}, \"1.1463045171112531\": {\"frequency\": 1, \"value\": 1.1463045171112531}, \"9.469172721765183\": {\"frequency\": 1, \"value\": 9.469172721765183}, \"5.4504352908736395\": {\"frequency\": 1, \"value\": 5.4504352908736395}, \"6.136914871247765\": {\"frequency\": 1, \"value\": 6.136914871247765}, \"2.8287151603542906\": {\"frequency\": 1, \"value\": 2.8287151603542906}, \"1.3379658877966076\": {\"frequency\": 1, \"value\": 1.3379658877966076}, \"1.1020130353880009\": {\"frequency\": 1, \"value\": 1.1020130353880009}, \"12.8219331502461\": {\"frequency\": 1, \"value\": 12.8219331502461}, \"4.625631035979016\": {\"frequency\": 1, \"value\": 4.625631035979016}, \"9.35336245351211\": {\"frequency\": 1, \"value\": 9.35336245351211}, \"1.0546297309366413\": {\"frequency\": 1, \"value\": 1.0546297309366413}, \"1.9178342103688826\": {\"frequency\": 1, \"value\": 1.9178342103688826}, \"1.1045212050130089\": {\"frequency\": 1, \"value\": 1.1045212050130089}, \"1.4042424466461834\": {\"frequency\": 1, \"value\": 1.4042424466461834}, \"1.4540313996089576\": {\"frequency\": 1, \"value\": 1.4540313996089576}, \"2.6216999344177188\": {\"frequency\": 1, \"value\": 2.6216999344177188}, \"3.2976711910631415\": {\"frequency\": 1, \"value\": 3.2976711910631415}, \"5.259416327654611\": {\"frequency\": 1, \"value\": 5.259416327654611}, \"1.2087759367308148\": {\"frequency\": 1, \"value\": 1.2087759367308148}, \"1.00393814289047\": {\"frequency\": 1, \"value\": 1.00393814289047}, \"1.594128555310456\": {\"frequency\": 1, \"value\": 1.594128555310456}, \"6.321920186492687\": {\"frequency\": 1, \"value\": 6.321920186492687}, \"1.3554062340684232\": {\"frequency\": 1, \"value\": 1.3554062340684232}, \"33.898185489630954\": {\"frequency\": 1, \"value\": 33.898185489630954}, \"1.3377923093201294\": {\"frequency\": 1, \"value\": 1.3377923093201294}, \"2.781124024666537\": {\"frequency\": 1, \"value\": 2.781124024666537}, \"2.631868275151947\": {\"frequency\": 1, \"value\": 2.631868275151947}, \"8.870135938953066\": {\"frequency\": 1, \"value\": 8.870135938953066}, \"4.398692933646495\": {\"frequency\": 1, \"value\": 4.398692933646495}, \"1.7740463866460687\": {\"frequency\": 1, \"value\": 1.7740463866460687}, \"1.0079531347877646\": {\"frequency\": 1, \"value\": 1.0079531347877646}, \"8.037040032992664\": {\"frequency\": 1, \"value\": 8.037040032992664}, \"1.0235523887956437\": {\"frequency\": 1, \"value\": 1.0235523887956437}, \"3.0017060660835577\": {\"frequency\": 1, \"value\": 3.0017060660835577}, \"1.1375264869772554\": {\"frequency\": 1, \"value\": 1.1375264869772554}, \"3.392903282984709\": {\"frequency\": 1, \"value\": 3.392903282984709}, \"2.0598611400254603\": {\"frequency\": 1, \"value\": 2.0598611400254603}, \"5.9546412683547985\": {\"frequency\": 1, \"value\": 5.9546412683547985}, \"79.51592937454292\": {\"frequency\": 1, \"value\": 79.51592937454292}, \"8.111789627713133\": {\"frequency\": 1, \"value\": 8.111789627713133}, \"3.402194006113227\": {\"frequency\": 1, \"value\": 3.402194006113227}, \"2.4074764127006483\": {\"frequency\": 1, \"value\": 2.4074764127006483}, \"1.0485587072177616\": {\"frequency\": 1, \"value\": 1.0485587072177616}, \"1.367288827427509\": {\"frequency\": 1, \"value\": 1.367288827427509}, \"166.8302607823125\": {\"frequency\": 1, \"value\": 166.8302607823125}, \"1.0418605777414915\": {\"frequency\": 1, \"value\": 1.0418605777414915}, \"1.2760319698045932\": {\"frequency\": 1, \"value\": 1.2760319698045932}, \"10.917167656379457\": {\"frequency\": 1, \"value\": 10.917167656379457}, \"1.446914673426878\": {\"frequency\": 2, \"value\": 1.446914673426878}, \"1.1900514768062804\": {\"frequency\": 1, \"value\": 1.1900514768062804}, \"5.58426287303529\": {\"frequency\": 1, \"value\": 5.58426287303529}, \"5.243373901944612\": {\"frequency\": 1, \"value\": 5.243373901944612}, \"1.231521138151269\": {\"frequency\": 1, \"value\": 1.231521138151269}, \"2.55440809340641\": {\"frequency\": 1, \"value\": 2.55440809340641}, \"1.1722979652393057\": {\"frequency\": 1, \"value\": 1.1722979652393057}, \"1.7619514579050735\": {\"frequency\": 1, \"value\": 1.7619514579050735}, \"1.032658817273353\": {\"frequency\": 1, \"value\": 1.032658817273353}, \"1.7472715525967362\": {\"frequency\": 1, \"value\": 1.7472715525967362}, \"2.2394505859853657\": {\"frequency\": 1, \"value\": 2.2394505859853657}, \"1.7253403837881796\": {\"frequency\": 1, \"value\": 1.7253403837881796}, \"23.950119314345873\": {\"frequency\": 1, \"value\": 23.950119314345873}, \"14.673720709744138\": {\"frequency\": 1, \"value\": 14.673720709744138}, \"1.1977415922896866\": {\"frequency\": 1, \"value\": 1.1977415922896866}, \"1.3691949126672658\": {\"frequency\": 1, \"value\": 1.3691949126672658}, \"11.171451811039315\": {\"frequency\": 1, \"value\": 11.171451811039315}, \"1.4100933391441106\": {\"frequency\": 1, \"value\": 1.4100933391441106}, \"3.425718311971618\": {\"frequency\": 1, \"value\": 3.425718311971618}, \"2.721407012248671\": {\"frequency\": 1, \"value\": 2.721407012248671}, \"2.1960240212530366\": {\"frequency\": 1, \"value\": 2.1960240212530366}, \"0.9967870920129308\": {\"frequency\": 1, \"value\": 0.9967870920129308}, \"4.235090438463047\": {\"frequency\": 1, \"value\": 4.235090438463047}, \"2.431801890178204\": {\"frequency\": 1, \"value\": 2.431801890178204}, \"2.561509232332921\": {\"frequency\": 1, \"value\": 2.561509232332921}, \"1.7733884402813938\": {\"frequency\": 1, \"value\": 1.7733884402813938}, \"1.9454370118535347\": {\"frequency\": 1, \"value\": 1.9454370118535347}, \"1.1353002174086861\": {\"frequency\": 1, \"value\": 1.1353002174086861}, \"2.663461803416514\": {\"frequency\": 1, \"value\": 2.663461803416514}, \"1.0449005073609912\": {\"frequency\": 1, \"value\": 1.0449005073609912}, \"9.00485661315103\": {\"frequency\": 1, \"value\": 9.00485661315103}, \"1.0113840745245801\": {\"frequency\": 1, \"value\": 1.0113840745245801}, \"19.25987351184209\": {\"frequency\": 1, \"value\": 19.25987351184209}, \"26.752865025182818\": {\"frequency\": 1, \"value\": 26.752865025182818}, \"10.39588221320483\": {\"frequency\": 1, \"value\": 10.39588221320483}, \"1.7225771662503286\": {\"frequency\": 1, \"value\": 1.7225771662503286}, \"1.0672782819690703\": {\"frequency\": 1, \"value\": 1.0672782819690703}, \"1.372797566270838\": {\"frequency\": 1, \"value\": 1.372797566270838}, \"2.4861585256453282\": {\"frequency\": 1, \"value\": 2.4861585256453282}, \"20.74212011182844\": {\"frequency\": 1, \"value\": 20.74212011182844}, \"1.5662876001798072\": {\"frequency\": 1, \"value\": 1.5662876001798072}, \"25.775338553555066\": {\"frequency\": 1, \"value\": 25.775338553555066}, \"2.170191933733644\": {\"frequency\": 1, \"value\": 2.170191933733644}, \"138.52143540092993\": {\"frequency\": 1, \"value\": 138.52143540092993}, \"2.015321912671649\": {\"frequency\": 1, \"value\": 2.015321912671649}, \"1.946846411355845\": {\"frequency\": 1, \"value\": 1.946846411355845}, \"1.0476819041247423\": {\"frequency\": 1, \"value\": 1.0476819041247423}, \"2.3665487308865853\": {\"frequency\": 1, \"value\": 2.3665487308865853}, \"3.02361585043944\": {\"frequency\": 1, \"value\": 3.02361585043944}, \"1.857588227880939\": {\"frequency\": 1, \"value\": 1.857588227880939}, \"3.7674142860523463\": {\"frequency\": 1, \"value\": 3.7674142860523463}, \"3.292038892011895\": {\"frequency\": 1, \"value\": 3.292038892011895}, \"3.1275484243631992\": {\"frequency\": 1, \"value\": 3.1275484243631992}, \"17.224119701660438\": {\"frequency\": 1, \"value\": 17.224119701660438}, \"5.583101692427347\": {\"frequency\": 1, \"value\": 5.583101692427347}, \"4.428982201977402\": {\"frequency\": 1, \"value\": 4.428982201977402}, \"8.962006466228223\": {\"frequency\": 1, \"value\": 8.962006466228223}, \"1.018544453714472\": {\"frequency\": 1, \"value\": 1.018544453714472}, \"1.0741914112303277\": {\"frequency\": 1, \"value\": 1.0741914112303277}, \"15.255516926693042\": {\"frequency\": 1, \"value\": 15.255516926693042}, \"3.054661017292918\": {\"frequency\": 1, \"value\": 3.054661017292918}, \"7.543413555645021\": {\"frequency\": 1, \"value\": 7.543413555645021}, \"3.070935473616891\": {\"frequency\": 1, \"value\": 3.070935473616891}, \"1.8807823847402902\": {\"frequency\": 1, \"value\": 1.8807823847402902}, \"2.2119181050680505\": {\"frequency\": 1, \"value\": 2.2119181050680505}, \"1.1100989540284234\": {\"frequency\": 1, \"value\": 1.1100989540284234}, \"1.4999920100556716\": {\"frequency\": 1, \"value\": 1.4999920100556716}, \"0.9912275970852176\": {\"frequency\": 1, \"value\": 0.9912275970852176}, \"1.6204143568552025\": {\"frequency\": 1, \"value\": 1.6204143568552025}, \"3.175731904906223\": {\"frequency\": 1, \"value\": 3.175731904906223}, \"2.0633041967438945\": {\"frequency\": 1, \"value\": 2.0633041967438945}, \"3.5766184489893678\": {\"frequency\": 1, \"value\": 3.5766184489893678}, \"2.7651369763676565\": {\"frequency\": 1, \"value\": 2.7651369763676565}, \"3.0641443280385565\": {\"frequency\": 1, \"value\": 3.0641443280385565}, \"1.5285846141116546\": {\"frequency\": 1, \"value\": 1.5285846141116546}, \"1.4954368032232905\": {\"frequency\": 1, \"value\": 1.4954368032232905}, \"3.6142243214289533\": {\"frequency\": 1, \"value\": 3.6142243214289533}, \"1.0534097160863707\": {\"frequency\": 1, \"value\": 1.0534097160863707}, \"1.5491467923735562\": {\"frequency\": 1, \"value\": 1.5491467923735562}, \"3.558320327130473\": {\"frequency\": 1, \"value\": 3.558320327130473}, \"3.479473003035574\": {\"frequency\": 1, \"value\": 3.479473003035574}, \"1.4107682548673124\": {\"frequency\": 1, \"value\": 1.4107682548673124}, \"1.7763358609557047\": {\"frequency\": 1, \"value\": 1.7763358609557047}, \"2.7576268301722733\": {\"frequency\": 1, \"value\": 2.7576268301722733}, \"1.4674992534857378\": {\"frequency\": 1, \"value\": 1.4674992534857378}, \"1.753565462698432\": {\"frequency\": 1, \"value\": 1.753565462698432}, \"1.4384905440508917\": {\"frequency\": 1, \"value\": 1.4384905440508917}, \"7.649681706888276\": {\"frequency\": 1, \"value\": 7.649681706888276}, \"3.7750094702916264\": {\"frequency\": 1, \"value\": 3.7750094702916264}, \"1.6131817510006448\": {\"frequency\": 1, \"value\": 1.6131817510006448}, \"6.777140304479994\": {\"frequency\": 1, \"value\": 6.777140304479994}, \"1.8215123330262042\": {\"frequency\": 1, \"value\": 1.8215123330262042}, \"4.30301923142215\": {\"frequency\": 1, \"value\": 4.30301923142215}, \"1.2034932843580293\": {\"frequency\": 1, \"value\": 1.2034932843580293}, \"2.189236975397315\": {\"frequency\": 1, \"value\": 2.189236975397315}, \"16.812105958882096\": {\"frequency\": 1, \"value\": 16.812105958882096}, \"12.785568603627501\": {\"frequency\": 1, \"value\": 12.785568603627501}, \"1.793597868905013\": {\"frequency\": 1, \"value\": 1.793597868905013}, \"2.3032792661590005\": {\"frequency\": 1, \"value\": 2.3032792661590005}, \"14.67302460461946\": {\"frequency\": 1, \"value\": 14.67302460461946}, \"1.7913114944778066\": {\"frequency\": 1, \"value\": 1.7913114944778066}, \"1.5199357879929172\": {\"frequency\": 1, \"value\": 1.5199357879929172}, \"3.5008607529155187\": {\"frequency\": 1, \"value\": 3.5008607529155187}, \"9.309962845910535\": {\"frequency\": 1, \"value\": 9.309962845910535}, \"1.3050558069038212\": {\"frequency\": 1, \"value\": 1.3050558069038212}, \"1.683264446913339\": {\"frequency\": 1, \"value\": 1.683264446913339}, \"46.173391838753076\": {\"frequency\": 1, \"value\": 46.173391838753076}, \"2.203428666520614\": {\"frequency\": 1, \"value\": 2.203428666520614}, \"2.8893455717503387\": {\"frequency\": 1, \"value\": 2.8893455717503387}, \"1.0337469223684728\": {\"frequency\": 1, \"value\": 1.0337469223684728}, \"1.108756745469175\": {\"frequency\": 1, \"value\": 1.108756745469175}, \"2.2815870553636772\": {\"frequency\": 1, \"value\": 2.2815870553636772}, \"1.1838194994156832\": {\"frequency\": 1, \"value\": 1.1838194994156832}, \"1.2279092957334992\": {\"frequency\": 1, \"value\": 1.2279092957334992}, \"1.1021029647845295\": {\"frequency\": 1, \"value\": 1.1021029647845295}, \"1.433234900801378\": {\"frequency\": 1, \"value\": 1.433234900801378}, \"24.016261594094587\": {\"frequency\": 1, \"value\": 24.016261594094587}, \"26.41747631503482\": {\"frequency\": 1, \"value\": 26.41747631503482}, \"380.2371310489882\": {\"frequency\": 1, \"value\": 380.2371310489882}, \"8.121572350133217\": {\"frequency\": 1, \"value\": 8.121572350133217}, \"13.08910928492105\": {\"frequency\": 1, \"value\": 13.08910928492105}, \"1.4668237178189323\": {\"frequency\": 1, \"value\": 1.4668237178189323}, \"1.3510167446471062\": {\"frequency\": 1, \"value\": 1.3510167446471062}, \"3.735709639206492\": {\"frequency\": 1, \"value\": 3.735709639206492}, \"1.6310747050595376\": {\"frequency\": 1, \"value\": 1.6310747050595376}, \"1.2197549225439\": {\"frequency\": 1, \"value\": 1.2197549225439}, \"2.7261414327446123\": {\"frequency\": 1, \"value\": 2.7261414327446123}, \"1.202377072413264\": {\"frequency\": 1, \"value\": 1.202377072413264}, \"1.4660184773232399\": {\"frequency\": 1, \"value\": 1.4660184773232399}, \"1.7419102119800896\": {\"frequency\": 1, \"value\": 1.7419102119800896}, \"4.071766947455705\": {\"frequency\": 1, \"value\": 4.071766947455705}, \"8.509128251571758\": {\"frequency\": 1, \"value\": 8.509128251571758}, \"1.1246788503931422\": {\"frequency\": 1, \"value\": 1.1246788503931422}, \"2.0594907612997524\": {\"frequency\": 1, \"value\": 2.0594907612997524}, \"1.142214545342767\": {\"frequency\": 1, \"value\": 1.142214545342767}, \"8.313295442612349\": {\"frequency\": 1, \"value\": 8.313295442612349}, \"2.5428816427650327\": {\"frequency\": 1, \"value\": 2.5428816427650327}, \"2.660154850664217\": {\"frequency\": 1, \"value\": 2.660154850664217}, \"1.4661483396762067\": {\"frequency\": 1, \"value\": 1.4661483396762067}, \"2.827064071773968\": {\"frequency\": 1, \"value\": 2.827064071773968}, \"1.3238566106040002\": {\"frequency\": 1, \"value\": 1.3238566106040002}, \"1.1447799392274036\": {\"frequency\": 1, \"value\": 1.1447799392274036}, \"1.6588690648011046\": {\"frequency\": 1, \"value\": 1.6588690648011046}, \"1.1338970878088157\": {\"frequency\": 1, \"value\": 1.1338970878088157}, \"24.17753255482247\": {\"frequency\": 1, \"value\": 24.17753255482247}, \"3.8044124139484943\": {\"frequency\": 1, \"value\": 3.8044124139484943}, \"1.1128762028424861\": {\"frequency\": 1, \"value\": 1.1128762028424861}, \"1.9230168130259513\": {\"frequency\": 1, \"value\": 1.9230168130259513}, \"239.8415242399849\": {\"frequency\": 1, \"value\": 239.8415242399849}, \"2.1601873026222598\": {\"frequency\": 1, \"value\": 2.1601873026222598}, \"7.797726753722427\": {\"frequency\": 1, \"value\": 7.797726753722427}, \"2.1009813060763745\": {\"frequency\": 1, \"value\": 2.1009813060763745}, \"1.6318424117267436\": {\"frequency\": 1, \"value\": 1.6318424117267436}, \"1.2834148080477865\": {\"frequency\": 1, \"value\": 1.2834148080477865}, \"1.108497421547895\": {\"frequency\": 1, \"value\": 1.108497421547895}, \"1.0922217492249116\": {\"frequency\": 1, \"value\": 1.0922217492249116}, \"1.0071580831636249\": {\"frequency\": 1, \"value\": 1.0071580831636249}, \"2.531879037617509\": {\"frequency\": 1, \"value\": 2.531879037617509}, \"1.5211792630601593\": {\"frequency\": 1, \"value\": 1.5211792630601593}, \"3.486561075136501\": {\"frequency\": 1, \"value\": 3.486561075136501}, \"17.618779013662017\": {\"frequency\": 1, \"value\": 17.618779013662017}, \"3.166649440952353\": {\"frequency\": 1, \"value\": 3.166649440952353}, \"5.051490034316544\": {\"frequency\": 1, \"value\": 5.051490034316544}, \"1.236353210831992\": {\"frequency\": 1, \"value\": 1.236353210831992}, \"3.3467249511361015\": {\"frequency\": 1, \"value\": 3.3467249511361015}, \"1.0509388992339652\": {\"frequency\": 1, \"value\": 1.0509388992339652}, \"1.000166710787584\": {\"frequency\": 1, \"value\": 1.000166710787584}, \"1.2003105257992028\": {\"frequency\": 1, \"value\": 1.2003105257992028}, \"1.0452507141414968\": {\"frequency\": 1, \"value\": 1.0452507141414968}, \"2.334574344417368\": {\"frequency\": 1, \"value\": 2.334574344417368}, \"2.068342811791393\": {\"frequency\": 1, \"value\": 2.068342811791393}, \"10.43392158549955\": {\"frequency\": 1, \"value\": 10.43392158549955}, \"2.318760529734385\": {\"frequency\": 1, \"value\": 2.318760529734385}, \"1.093856166336381\": {\"frequency\": 1, \"value\": 1.093856166336381}, \"1.3797024005076453\": {\"frequency\": 1, \"value\": 1.3797024005076453}, \"1.2826015202887988\": {\"frequency\": 1, \"value\": 1.2826015202887988}, \"3.560709622676765\": {\"frequency\": 1, \"value\": 3.560709622676765}, \"1.9050719584681477\": {\"frequency\": 1, \"value\": 1.9050719584681477}, \"5.942103685542834\": {\"frequency\": 1, \"value\": 5.942103685542834}, \"9.259073864386815\": {\"frequency\": 1, \"value\": 9.259073864386815}, \"2.3227621660793853\": {\"frequency\": 1, \"value\": 2.3227621660793853}, \"3.6244201126136657\": {\"frequency\": 1, \"value\": 3.6244201126136657}, \"1.4871452386302806\": {\"frequency\": 1, \"value\": 1.4871452386302806}, \"1.3948939671165534\": {\"frequency\": 1, \"value\": 1.3948939671165534}, \"4.283130025652612\": {\"frequency\": 1, \"value\": 4.283130025652612}, \"3.095002822651389\": {\"frequency\": 1, \"value\": 3.095002822651389}, \"1.3360075919283654\": {\"frequency\": 1, \"value\": 1.3360075919283654}, \"41.148402171821644\": {\"frequency\": 1, \"value\": 41.148402171821644}, \"1.5626371794549563\": {\"frequency\": 1, \"value\": 1.5626371794549563}, \"4.233504381564109\": {\"frequency\": 1, \"value\": 4.233504381564109}, \"1.660459371839755\": {\"frequency\": 1, \"value\": 1.660459371839755}, \"2.700933958150212\": {\"frequency\": 1, \"value\": 2.700933958150212}, \"2.383541773433986\": {\"frequency\": 1, \"value\": 2.383541773433986}, \"2.6037537573053227\": {\"frequency\": 1, \"value\": 2.6037537573053227}, \"1.2813881428369807\": {\"frequency\": 1, \"value\": 1.2813881428369807}, \"1.0371346243841784\": {\"frequency\": 1, \"value\": 1.0371346243841784}, \"1.0355108796219437\": {\"frequency\": 1, \"value\": 1.0355108796219437}, \"6.718465260028524\": {\"frequency\": 1, \"value\": 6.718465260028524}, \"3.4723923625341166\": {\"frequency\": 1, \"value\": 3.4723923625341166}, \"1.6281015722144647\": {\"frequency\": 1, \"value\": 1.6281015722144647}, \"2.0531995099570555\": {\"frequency\": 1, \"value\": 2.0531995099570555}, \"3.5091874416224575\": {\"frequency\": 1, \"value\": 3.5091874416224575}, \"0.9899386724588934\": {\"frequency\": 1, \"value\": 0.9899386724588934}, \"19.478193177762357\": {\"frequency\": 1, \"value\": 19.478193177762357}, \"2.2894141581278986\": {\"frequency\": 1, \"value\": 2.2894141581278986}, \"1.5010431973978937\": {\"frequency\": 1, \"value\": 1.5010431973978937}, \"1.1797322033713384\": {\"frequency\": 1, \"value\": 1.1797322033713384}, \"3.204181433275986\": {\"frequency\": 1, \"value\": 3.204181433275986}, \"1.6926792870666731\": {\"frequency\": 1, \"value\": 1.6926792870666731}, \"3.666782145890318\": {\"frequency\": 1, \"value\": 3.666782145890318}, \"1.0013980673353058\": {\"frequency\": 1, \"value\": 1.0013980673353058}, \"1.3336917369113641\": {\"frequency\": 1, \"value\": 1.3336917369113641}, \"1.0175508321759967\": {\"frequency\": 1, \"value\": 1.0175508321759967}, \"12.710883206155057\": {\"frequency\": 1, \"value\": 12.710883206155057}, \"2.541970986182224\": {\"frequency\": 1, \"value\": 2.541970986182224}, \"20.628652723150484\": {\"frequency\": 1, \"value\": 20.628652723150484}, \"2.2029016234358254\": {\"frequency\": 1, \"value\": 2.2029016234358254}, \"1.4280658835863729\": {\"frequency\": 1, \"value\": 1.4280658835863729}, \"3.4276206860126375\": {\"frequency\": 1, \"value\": 3.4276206860126375}, \"2.6064851701844303\": {\"frequency\": 1, \"value\": 2.6064851701844303}, \"1.1811636908862182\": {\"frequency\": 1, \"value\": 1.1811636908862182}, \"3.728050836489599\": {\"frequency\": 1, \"value\": 3.728050836489599}, \"2.3367956172130526\": {\"frequency\": 1, \"value\": 2.3367956172130526}, \"37.6823725430893\": {\"frequency\": 1, \"value\": 37.6823725430893}, \"1.0632781053127784\": {\"frequency\": 1, \"value\": 1.0632781053127784}, \"4.309035891369682\": {\"frequency\": 1, \"value\": 4.309035891369682}, \"1.3051537580584616\": {\"frequency\": 1, \"value\": 1.3051537580584616}, \"4.610511721185606\": {\"frequency\": 1, \"value\": 4.610511721185606}, \"8.88016821719719\": {\"frequency\": 1, \"value\": 8.88016821719719}, \"2.4399717846484736\": {\"frequency\": 1, \"value\": 2.4399717846484736}, \"2.584900134892395\": {\"frequency\": 1, \"value\": 2.584900134892395}, \"5.441852254099485\": {\"frequency\": 1, \"value\": 5.441852254099485}, \"1.0346178227271514\": {\"frequency\": 1, \"value\": 1.0346178227271514}, \"1.352499885326369\": {\"frequency\": 1, \"value\": 1.352499885326369}, \"4.442071609767953\": {\"frequency\": 1, \"value\": 4.442071609767953}, \"2.3603743004899957\": {\"frequency\": 1, \"value\": 2.3603743004899957}, \"2.2995069936231864\": {\"frequency\": 1, \"value\": 2.2995069936231864}, \"2.2923630323382898\": {\"frequency\": 1, \"value\": 2.2923630323382898}, \"2.028086528270841\": {\"frequency\": 1, \"value\": 2.028086528270841}, \"1.6377434070669386\": {\"frequency\": 1, \"value\": 1.6377434070669386}, \"3.529855597952044\": {\"frequency\": 1, \"value\": 3.529855597952044}, \"2.8790268781933337\": {\"frequency\": 1, \"value\": 2.8790268781933337}, \"5.126437887818517\": {\"frequency\": 1, \"value\": 5.126437887818517}, \"1.333790769307646\": {\"frequency\": 1, \"value\": 1.333790769307646}, \"2.8374141984368833\": {\"frequency\": 1, \"value\": 2.8374141984368833}, \"1.807910437217096\": {\"frequency\": 1, \"value\": 1.807910437217096}, \"9.954146884841265\": {\"frequency\": 1, \"value\": 9.954146884841265}, \"1.697417680809653\": {\"frequency\": 1, \"value\": 1.697417680809653}, \"4.413835488640699\": {\"frequency\": 1, \"value\": 4.413835488640699}, \"2.61249246507052\": {\"frequency\": 1, \"value\": 2.61249246507052}, \"1.0020408175969262\": {\"frequency\": 1, \"value\": 1.0020408175969262}, \"1.1272015504096478\": {\"frequency\": 1, \"value\": 1.1272015504096478}, \"1.5686788156255118\": {\"frequency\": 1, \"value\": 1.5686788156255118}, \"1.2305225929973556\": {\"frequency\": 1, \"value\": 1.2305225929973556}, \"1.3848452178139443\": {\"frequency\": 1, \"value\": 1.3848452178139443}, \"2.4166926601162038\": {\"frequency\": 1, \"value\": 2.4166926601162038}, \"1.1960539459820707\": {\"frequency\": 1, \"value\": 1.1960539459820707}, \"1.3643445637570948\": {\"frequency\": 1, \"value\": 1.3643445637570948}, \"1.848301855509081\": {\"frequency\": 1, \"value\": 1.848301855509081}, \"1.115883186811494\": {\"frequency\": 1, \"value\": 1.115883186811494}, \"2.769335739011026\": {\"frequency\": 1, \"value\": 2.769335739011026}, \"2.0422133933016564\": {\"frequency\": 1, \"value\": 2.0422133933016564}, \"1.2628356586400604\": {\"frequency\": 1, \"value\": 1.2628356586400604}, \"7.703847237760229\": {\"frequency\": 1, \"value\": 7.703847237760229}, \"1.4463987210595035\": {\"frequency\": 1, \"value\": 1.4463987210595035}, \"3.5049113962313347\": {\"frequency\": 1, \"value\": 3.5049113962313347}, \"10.079080811429058\": {\"frequency\": 1, \"value\": 10.079080811429058}, \"2.6142698895667156\": {\"frequency\": 1, \"value\": 2.6142698895667156}, \"60.102645544907325\": {\"frequency\": 1, \"value\": 60.102645544907325}, \"231.7925182661853\": {\"frequency\": 1, \"value\": 231.7925182661853}, \"1.613890639274286\": {\"frequency\": 1, \"value\": 1.613890639274286}, \"4.579722081472147\": {\"frequency\": 1, \"value\": 4.579722081472147}, \"51.282195819409466\": {\"frequency\": 1, \"value\": 51.282195819409466}, \"1.1210702251136806\": {\"frequency\": 1, \"value\": 1.1210702251136806}, \"1.0739583915291155\": {\"frequency\": 1, \"value\": 1.0739583915291155}, \"3.780547778777706\": {\"frequency\": 1, \"value\": 3.780547778777706}}, \"mean\": 7.016511533511476}, \"selected_variable\": {\"name\": [\"<SArray>\"], \"dtype\": \"float\", \"view_component\": \"Numeric\", \"view_file\": \"sarray\", \"descriptives\": {\"rows\": 1050}, \"type\": \"SArray\", \"view_components\": [\"Numeric\", \"Categorical\"]}, \"histogram\": {\"progress\": 1.0, \"histogram\": {\"max\": 935.5742218767286, \"bins\": [1038, 6, 2, 1, 2, 0, 0, 0, 0, 0, 0, 1], \"min\": -1.710792796578744}, \"min\": 0.9899386724588934, \"complete\": 1, \"max\": 931.5834909664245}}, e);\n",
       "                });\n",
       "            })();\n",
       "        "
      ]
     },
     "metadata": {},
     "output_type": "display_data"
    }
   ],
   "source": [
    "(sf_el[sf_el['step_number']==0]['kin_energy_from_vel']/1.e3).show()"
   ]
  },
  {
   "cell_type": "code",
   "execution_count": 46,
   "metadata": {
    "collapsed": false
   },
   "outputs": [],
   "source": [
    "low_energy = sf_el[(sf_el['kin_energy_from_vel']<=76397) & (sf_el['step_number']==0)]"
   ]
  },
  {
   "cell_type": "code",
   "execution_count": 47,
   "metadata": {
    "collapsed": false
   },
   "outputs": [
    {
     "data": {
      "application/javascript": [
       "$(\"head\").append($(\"<link/>\").attr({\n",
       "  rel:  \"stylesheet\",\n",
       "  type: \"text/css\",\n",
       "  href: \"//cdnjs.cloudflare.com/ajax/libs/font-awesome/4.1.0/css/font-awesome.min.css\"\n",
       "}));\n",
       "$(\"head\").append($(\"<link/>\").attr({\n",
       "  rel:  \"stylesheet\",\n",
       "  type: \"text/css\",\n",
       "  href: \"https://static.turi.com/products/graphlab-create/2.1/canvas/css/canvas.css\"\n",
       "}));\n",
       "\n",
       "            (function(){\n",
       "\n",
       "                var e = null;\n",
       "                if (typeof element == 'undefined') {\n",
       "                    var scripts = document.getElementsByTagName('script');\n",
       "                    var thisScriptTag = scripts[scripts.length-1];\n",
       "                    var parentDiv = thisScriptTag.parentNode;\n",
       "                    e = document.createElement('div');\n",
       "                    parentDiv.appendChild(e);\n",
       "                } else {\n",
       "                    e = element[0];\n",
       "                }\n",
       "\n",
       "                if (typeof requirejs !== 'undefined') {\n",
       "                    // disable load timeout; ipython_app.js is large and can take a while to load.\n",
       "                    requirejs.config({waitSeconds: 0});\n",
       "                }\n",
       "\n",
       "                require(['https://static.turi.com/products/graphlab-create/2.1/canvas/js/ipython_app.js'], function(IPythonApp){\n",
       "                    var app = new IPythonApp();\n",
       "                    app.attachView('sarray','Numeric', {\"ipython\": true, \"sketch\": {\"std\": 6643.9643488976835, \"complete\": true, \"min\": 989.9386724588934, \"max\": 69183.2669080059, \"quantile\": [989.9386724588934, 1000.166710787584, 1005.5689292891121, 1014.626811715752, 1021.993517615447, 1034.1278957440866, 1039.9383282344634, 1048.1860206788651, 1057.7764761934695, 1073.0265678756098, 1085.227890539224, 1094.5618095517725, 1106.9083225115978, 1115.0349382848765, 1127.4630743860346, 1139.5834599086256, 1156.671178234057, 1170.8835076593102, 1181.163690886218, 1196.0539459820707, 1211.5218763307203, 1231.521138151269, 1263.5221327791494, 1280.5269973472482, 1297.0608747922292, 1317.9682868768775, 1333.345152816959, 1352.499885326369, 1367.3515062277163, 1384.2901344301288, 1410.7682548673124, 1429.8092095454747, 1446.3987210595035, 1466.8237178189322, 1495.4368032232906, 1515.151898697788, 1548.9064313523847, 1594.128555310456, 1628.1015722144648, 1658.8690648011047, 1697.4176808096531, 1735.7649128364137, 1754.9593469459603, 1783.6865989858131, 1799.543611001886, 1830.6429508112665, 1857.588227880939, 1892.1165255607407, 1925.8195683803465, 1974.9168262884837, 2029.6179747530896, 2066.5028377145964, 2116.7095445985806, 2185.9110952494057, 2206.8000670373517, 2283.0180191191716, 2322.762166079385, 2344.6032894003642, 2383.541773433986, 2448.3747762931494, 2528.4339446512745, 2595.4641175777397, 2630.119705018375, 2731.6643064836057, 2830.203377546204, 2907.867529089643, 3017.4976281706795, 3111.768267375386, 3180.547947456391, 3292.038892011895, 3402.194006113227, 3476.547051274633, 3576.6184489893676, 3680.8553856718145, 3764.302754274772, 3842.829466407598, 4004.373156801566, 4079.717160493078, 4233.504381564109, 4413.8354886407, 4619.575545820534, 4859.833211867535, 5243.373901944612, 5441.852254099485, 5823.53102032124, 6356.069813761598, 6718.465260028524, 7426.0829131697965, 7980.449151878083, 8687.270107564904, 9674.250803585213, 10385.494845207168, 11181.812635964214, 12654.617834066428, 14100.1167904296, 15715.349978000437, 19478.193177762358, 21853.765274266756, 25397.682530950337, 34109.42697490804, 69183.2669080059], \"median\": 2029.6179747530896, \"numeric\": true, \"num_unique\": 1034, \"num_undefined\": 0, \"var\": 44142262.26942342, \"progress\": 1.0, \"size\": 1038, \"frequent_items\": {\"2781.124024666537\": {\"frequency\": 1, \"value\": 2781.124024666537}, \"1945.4370118535346\": {\"frequency\": 1, \"value\": 1945.4370118535346}, \"1333.1718778571003\": {\"frequency\": 1, \"value\": 1333.1718778571003}, \"1384.8452178139444\": {\"frequency\": 1, \"value\": 1384.8452178139444}, \"1421.55078593498\": {\"frequency\": 1, \"value\": 1421.55078593498}, \"3725.7715045133637\": {\"frequency\": 1, \"value\": 3725.7715045133637}, \"1297.0608747922292\": {\"frequency\": 1, \"value\": 1297.0608747922292}, \"2450.127959215343\": {\"frequency\": 1, \"value\": 2450.127959215343}, \"7649.6817068882765\": {\"frequency\": 1, \"value\": 7649.6817068882765}, \"4054.4707400439574\": {\"frequency\": 1, \"value\": 4054.4707400439574}, \"1356.5546744715575\": {\"frequency\": 1, \"value\": 1356.5546744715575}, \"8121.572350133217\": {\"frequency\": 1, \"value\": 8121.572350133217}, \"1096.9604718275534\": {\"frequency\": 1, \"value\": 1096.9604718275534}, \"1174.8740273334138\": {\"frequency\": 1, \"value\": 1174.8740273334138}, \"1441.360193460683\": {\"frequency\": 1, \"value\": 1441.360193460683}, \"5583.101692427346\": {\"frequency\": 1, \"value\": 5583.101692427346}, \"3474.3282096939492\": {\"frequency\": 1, \"value\": 3474.3282096939492}, \"1016.9570529598559\": {\"frequency\": 1, \"value\": 1016.9570529598559}, \"4625.631035979016\": {\"frequency\": 1, \"value\": 4625.631035979016}, \"1094.091355217228\": {\"frequency\": 1, \"value\": 1094.091355217228}, \"1725.3403837881795\": {\"frequency\": 1, \"value\": 1725.3403837881795}, \"1995.4849171529856\": {\"frequency\": 1, \"value\": 1995.4849171529856}, \"1628.1015722144648\": {\"frequency\": 1, \"value\": 1628.1015722144648}, \"3790.582150016551\": {\"frequency\": 1, \"value\": 3790.582150016551}, \"2444.3145754756288\": {\"frequency\": 1, \"value\": 2444.3145754756288}, \"2334.5743444173677\": {\"frequency\": 1, \"value\": 2334.5743444173677}, \"2531.8790376175093\": {\"frequency\": 1, \"value\": 2531.8790376175093}, \"3070.310895716097\": {\"frequency\": 1, \"value\": 3070.310895716097}, \"1389.7954774731459\": {\"frequency\": 1, \"value\": 1389.7954774731459}, \"2837.4141984368835\": {\"frequency\": 1, \"value\": 2837.4141984368835}, \"1092.2217492249115\": {\"frequency\": 1, \"value\": 1092.2217492249115}, \"999.8777204560121\": {\"frequency\": 1, \"value\": 999.8777204560121}, \"2281.5870553636773\": {\"frequency\": 1, \"value\": 2281.5870553636773}, \"2528.4339446512745\": {\"frequency\": 1, \"value\": 2528.4339446512745}, \"1410.0933391441106\": {\"frequency\": 1, \"value\": 1410.0933391441106}, \"1100.911700939307\": {\"frequency\": 1, \"value\": 1100.911700939307}, \"11956.70378902497\": {\"frequency\": 1, \"value\": 11956.70378902497}, \"1102.0130353880008\": {\"frequency\": 1, \"value\": 1102.0130353880008}, \"1799.2842662473354\": {\"frequency\": 1, \"value\": 1799.2842662473354}, \"13743.355583513281\": {\"frequency\": 1, \"value\": 13743.355583513281}, \"1041.8605777414916\": {\"frequency\": 1, \"value\": 1041.8605777414916}, \"6148.418335746797\": {\"frequency\": 1, \"value\": 6148.418335746797}, \"2481.7609300813388\": {\"frequency\": 1, \"value\": 2481.7609300813388}, \"3624.420112613666\": {\"frequency\": 1, \"value\": 3624.420112613666}, \"5126.437887818516\": {\"frequency\": 1, \"value\": 5126.437887818516}, \"2038.9878916137316\": {\"frequency\": 1, \"value\": 2038.9878916137316}, \"3275.386919880584\": {\"frequency\": 1, \"value\": 3275.386919880584}, \"22937.650056149363\": {\"frequency\": 1, \"value\": 22937.650056149363}, \"2028.0865282708407\": {\"frequency\": 1, \"value\": 2028.0865282708407}, \"6718.465260028524\": {\"frequency\": 1, \"value\": 6718.465260028524}, \"1287.533797602692\": {\"frequency\": 1, \"value\": 1287.533797602692}, \"3767.414286052346\": {\"frequency\": 1, \"value\": 3767.414286052346}, \"3334.1945620955016\": {\"frequency\": 1, \"value\": 3334.1945620955016}, \"1037.5162271197257\": {\"frequency\": 1, \"value\": 1037.5162271197257}, \"1227.9092957334992\": {\"frequency\": 1, \"value\": 1227.9092957334992}, \"1684.490352702831\": {\"frequency\": 1, \"value\": 1684.490352702831}, \"1810.8145748859306\": {\"frequency\": 1, \"value\": 1810.8145748859306}, \"1127.4630743860346\": {\"frequency\": 1, \"value\": 1127.4630743860346}, \"2830.203377546204\": {\"frequency\": 1, \"value\": 2830.203377546204}, \"1429.8092095454747\": {\"frequency\": 1, \"value\": 1429.8092095454747}, \"1761.7804029999666\": {\"frequency\": 1, \"value\": 1761.7804029999666}, \"2206.8000670373517\": {\"frequency\": 1, \"value\": 2206.8000670373517}, \"2360.3743004899957\": {\"frequency\": 1, \"value\": 2360.3743004899957}, \"28463.268610516137\": {\"frequency\": 1, \"value\": 28463.268610516137}, \"2541.970986182224\": {\"frequency\": 1, \"value\": 2541.970986182224}, \"1305.0558069038211\": {\"frequency\": 1, \"value\": 1305.0558069038211}, \"1485.3668441425173\": {\"frequency\": 1, \"value\": 1485.3668441425173}, \"1296.0602049148677\": {\"frequency\": 1, \"value\": 1296.0602049148677}, \"1026.5978045148195\": {\"frequency\": 1, \"value\": 1026.5978045148195}, \"1196.663235122191\": {\"frequency\": 1, \"value\": 1196.663235122191}, \"1139.400541874753\": {\"frequency\": 1, \"value\": 1139.400541874753}, \"1085.227890539224\": {\"frequency\": 1, \"value\": 1085.227890539224}, \"2332.995428408846\": {\"frequency\": 1, \"value\": 2332.995428408846}, \"1263.5221327791494\": {\"frequency\": 1, \"value\": 1263.5221327791494}, \"4935.828766712126\": {\"frequency\": 1, \"value\": 4935.828766712126}, \"2486.158525645328\": {\"frequency\": 1, \"value\": 2486.158525645328}, \"25775.338553555066\": {\"frequency\": 1, \"value\": 25775.338553555066}, \"1323.8566106040003\": {\"frequency\": 1, \"value\": 1323.8566106040003}, \"1009.9959329622671\": {\"frequency\": 1, \"value\": 1009.9959329622671}, \"1861.7931357418756\": {\"frequency\": 1, \"value\": 1861.7931357418756}, \"7827.221377956607\": {\"frequency\": 1, \"value\": 7827.221377956607}, \"24006.127713562397\": {\"frequency\": 1, \"value\": 24006.127713562397}, \"3346.7249511361015\": {\"frequency\": 1, \"value\": 3346.7249511361015}, \"5441.852254099485\": {\"frequency\": 1, \"value\": 5441.852254099485}, \"25397.682530950337\": {\"frequency\": 1, \"value\": 25397.682530950337}, \"4610.838605387834\": {\"frequency\": 1, \"value\": 4610.838605387834}, \"2910.3343431822495\": {\"frequency\": 1, \"value\": 2910.3343431822495}, \"1905.0719584681476\": {\"frequency\": 1, \"value\": 1905.0719584681476}, \"1532.8585800948981\": {\"frequency\": 1, \"value\": 1532.8585800948981}, \"1235.7814327927927\": {\"frequency\": 1, \"value\": 1235.7814327927927}, \"4309.035891369682\": {\"frequency\": 1, \"value\": 4309.035891369682}, \"2914.7920534229847\": {\"frequency\": 1, \"value\": 2914.7920534229847}, \"2089.4769357184578\": {\"frequency\": 1, \"value\": 2089.4769357184578}, \"10167.528882578847\": {\"frequency\": 1, \"value\": 10167.528882578847}, \"3567.964255521391\": {\"frequency\": 1, \"value\": 3567.964255521391}, \"1988.4298827742368\": {\"frequency\": 1, \"value\": 1988.4298827742368}, \"2350.8226775763624\": {\"frequency\": 1, \"value\": 2350.8226775763624}, \"1170.8835076593102\": {\"frequency\": 1, \"value\": 1170.8835076593102}, \"2034.1545042500366\": {\"frequency\": 1, \"value\": 2034.1545042500366}, \"1371.1525552039811\": {\"frequency\": 1, \"value\": 1371.1525552039811}, \"5243.373901944612\": {\"frequency\": 1, \"value\": 5243.373901944612}, \"16234.1267266836\": {\"frequency\": 1, \"value\": 16234.1267266836}, \"1487.1452386302806\": {\"frequency\": 1, \"value\": 1487.1452386302806}, \"1137.2409447192256\": {\"frequency\": 1, \"value\": 1137.2409447192256}, \"1018.2527966727422\": {\"frequency\": 1, \"value\": 1018.2527966727422}, \"2137.637165482023\": {\"frequency\": 1, \"value\": 2137.637165482023}, \"1045.250714141497\": {\"frequency\": 1, \"value\": 1045.250714141497}, \"1947.3713203811885\": {\"frequency\": 1, \"value\": 1947.3713203811885}, \"6418.577949884503\": {\"frequency\": 1, \"value\": 6418.577949884503}, \"1467.4992534857379\": {\"frequency\": 1, \"value\": 1467.4992534857379}, \"1925.8195683803465\": {\"frequency\": 1, \"value\": 1925.8195683803465}, \"3702.9135550292053\": {\"frequency\": 1, \"value\": 3702.9135550292053}, \"1196.0539459820707\": {\"frequency\": 1, \"value\": 1196.0539459820707}, \"1784.6047316703457\": {\"frequency\": 1, \"value\": 1784.6047316703457}, \"1333.790769307646\": {\"frequency\": 1, \"value\": 1333.790769307646}, \"1101.2375481167833\": {\"frequency\": 1, \"value\": 1101.2375481167833}, \"1007.1580831636248\": {\"frequency\": 1, \"value\": 1007.1580831636248}, \"1444.9416590325263\": {\"frequency\": 1, \"value\": 1444.9416590325263}, \"1014.626811715752\": {\"frequency\": 1, \"value\": 1014.626811715752}, \"10062.013767147104\": {\"frequency\": 1, \"value\": 10062.013767147104}, \"1163.974378819002\": {\"frequency\": 1, \"value\": 1163.974378819002}, \"1404.2424466461835\": {\"frequency\": 1, \"value\": 1404.2424466461835}, \"4506.342924713557\": {\"frequency\": 1, \"value\": 4506.342924713557}, \"3486.561075136501\": {\"frequency\": 1, \"value\": 3486.561075136501}, \"1784.2317113293743\": {\"frequency\": 1, \"value\": 1784.2317113293743}, \"4294.598733802186\": {\"frequency\": 1, \"value\": 4294.598733802186}, \"2162.037649274421\": {\"frequency\": 1, \"value\": 2162.037649274421}, \"1636.5486129913809\": {\"frequency\": 1, \"value\": 1636.5486129913809}, \"28155.957509875247\": {\"frequency\": 1, \"value\": 28155.957509875247}, \"4838.18861523546\": {\"frequency\": 1, \"value\": 4838.18861523546}, \"2116.7095445985806\": {\"frequency\": 1, \"value\": 2116.7095445985806}, \"1807.910437217096\": {\"frequency\": 1, \"value\": 1807.910437217096}, \"1014.4219658265678\": {\"frequency\": 1, \"value\": 1014.4219658265678}, \"1789.0984305970057\": {\"frequency\": 1, \"value\": 1789.0984305970057}, \"1683.264446913339\": {\"frequency\": 1, \"value\": 1683.264446913339}, \"5584.26287303529\": {\"frequency\": 1, \"value\": 5584.26287303529}, \"1054.1570280125377\": {\"frequency\": 1, \"value\": 1054.1570280125377}, \"47809.743777918055\": {\"frequency\": 1, \"value\": 47809.743777918055}, \"14989.03361671845\": {\"frequency\": 1, \"value\": 14989.03361671845}, \"2448.3747762931494\": {\"frequency\": 1, \"value\": 2448.3747762931494}, \"1838.471008718826\": {\"frequency\": 1, \"value\": 1838.471008718826}, \"1549.1467923735563\": {\"frequency\": 1, \"value\": 1549.1467923735563}, \"8313.295442612349\": {\"frequency\": 1, \"value\": 8313.295442612349}, \"1005.4830651400537\": {\"frequency\": 1, \"value\": 1005.4830651400537}, \"1892.1165255607407\": {\"frequency\": 1, \"value\": 1892.1165255607407}, \"3554.442036163917\": {\"frequency\": 1, \"value\": 3554.442036163917}, \"1337.7923093201293\": {\"frequency\": 1, \"value\": 1337.7923093201293}, \"1332.2190692015683\": {\"frequency\": 1, \"value\": 1332.2190692015683}, \"8962.006466228222\": {\"frequency\": 1, \"value\": 8962.006466228222}, \"2189.2369753973153\": {\"frequency\": 1, \"value\": 2189.2369753973153}, \"2908.6774094792213\": {\"frequency\": 1, \"value\": 2908.6774094792213}, \"1043.3034403415186\": {\"frequency\": 1, \"value\": 1043.3034403415186}, \"7728.0032751371755\": {\"frequency\": 1, \"value\": 7728.0032751371755}, \"3327.622831346605\": {\"frequency\": 1, \"value\": 3327.622831346605}, \"1170.1766023510834\": {\"frequency\": 1, \"value\": 1170.1766023510834}, \"1741.9102119800896\": {\"frequency\": 1, \"value\": 1741.9102119800896}, \"4745.379781742628\": {\"frequency\": 1, \"value\": 4745.379781742628}, \"1153.137544192349\": {\"frequency\": 1, \"value\": 1153.137544192349}, \"6363.724014021633\": {\"frequency\": 1, \"value\": 6363.724014021633}, \"1033.7469223684727\": {\"frequency\": 1, \"value\": 1033.7469223684727}, \"3775.0094702916263\": {\"frequency\": 1, \"value\": 3775.0094702916263}, \"15000.440242644254\": {\"frequency\": 1, \"value\": 15000.440242644254}, \"3648.309283031551\": {\"frequency\": 1, \"value\": 3648.309283031551}, \"1037.1346243841783\": {\"frequency\": 1, \"value\": 1037.1346243841783}, \"7703.847237760229\": {\"frequency\": 1, \"value\": 7703.847237760229}, \"1842.2310050715914\": {\"frequency\": 1, \"value\": 1842.2310050715914}, \"4096.563915997889\": {\"frequency\": 1, \"value\": 4096.563915997889}, \"2339.215562342295\": {\"frequency\": 1, \"value\": 2339.215562342295}, \"995.6119962367313\": {\"frequency\": 1, \"value\": 995.6119962367313}, \"41148.402171821646\": {\"frequency\": 1, \"value\": 41148.402171821646}, \"7543.413555645021\": {\"frequency\": 1, \"value\": 7543.413555645021}, \"2026.632199001991\": {\"frequency\": 1, \"value\": 2026.632199001991}, \"2292.36303233829\": {\"frequency\": 1, \"value\": 2292.36303233829}, \"2110.454830393742\": {\"frequency\": 1, \"value\": 2110.454830393742}, \"7080.9194307479975\": {\"frequency\": 1, \"value\": 7080.9194307479975}, \"1162.8537406116359\": {\"frequency\": 1, \"value\": 1162.8537406116359}, \"1352.499885326369\": {\"frequency\": 1, \"value\": 1352.499885326369}, \"1115.883186811494\": {\"frequency\": 1, \"value\": 1115.883186811494}, \"1669.7816253295096\": {\"frequency\": 1, \"value\": 1669.7816253295096}, \"6313.108926772083\": {\"frequency\": 1, \"value\": 6313.108926772083}, \"11093.112486094356\": {\"frequency\": 1, \"value\": 11093.112486094356}, \"1269.8537897289289\": {\"frequency\": 1, \"value\": 1269.8537897289289}, \"6644.808159089643\": {\"frequency\": 1, \"value\": 6644.808159089643}, \"1197.7415922896867\": {\"frequency\": 1, \"value\": 1197.7415922896867}, \"4398.692933646495\": {\"frequency\": 1, \"value\": 4398.692933646495}, \"1556.540428184368\": {\"frequency\": 1, \"value\": 1556.540428184368}, \"1073.9583915291155\": {\"frequency\": 1, \"value\": 1073.9583915291155}, \"9744.921046483849\": {\"frequency\": 1, \"value\": 9744.921046483849}, \"1125.5194332822477\": {\"frequency\": 1, \"value\": 1125.5194332822477}, \"1882.1825184484412\": {\"frequency\": 1, \"value\": 1882.1825184484412}, \"8870.135938953066\": {\"frequency\": 1, \"value\": 8870.135938953066}, \"1284.216212051811\": {\"frequency\": 1, \"value\": 1284.216212051811}, \"1522.542385846294\": {\"frequency\": 1, \"value\": 1522.542385846294}, \"1211.5218763307203\": {\"frequency\": 1, \"value\": 1211.5218763307203}, \"19259.873511842092\": {\"frequency\": 1, \"value\": 19259.873511842092}, \"1337.9658877966076\": {\"frequency\": 1, \"value\": 1337.9658877966076}, \"1775.877846143019\": {\"frequency\": 1, \"value\": 1775.877846143019}, \"7352.185229988116\": {\"frequency\": 1, \"value\": 7352.185229988116}, \"7132.437191674745\": {\"frequency\": 1, \"value\": 7132.437191674745}, \"1000.166710787584\": {\"frequency\": 1, \"value\": 1000.166710787584}, \"1012.6762324506839\": {\"frequency\": 1, \"value\": 1012.6762324506839}, \"1490.168364244858\": {\"frequency\": 1, \"value\": 1490.168364244858}, \"5510.3049675084185\": {\"frequency\": 1, \"value\": 5510.3049675084185}, \"1622.7513965747617\": {\"frequency\": 1, \"value\": 1622.7513965747617}, \"1443.2147792741564\": {\"frequency\": 1, \"value\": 1443.2147792741564}, \"2199.0545599846905\": {\"frequency\": 1, \"value\": 2199.0545599846905}, \"2757.6268301722735\": {\"frequency\": 1, \"value\": 2757.6268301722735}, \"58369.37309083748\": {\"frequency\": 1, \"value\": 58369.37309083748}, \"2136.4735155717844\": {\"frequency\": 1, \"value\": 2136.4735155717844}, \"5823.53102032124\": {\"frequency\": 1, \"value\": 5823.53102032124}, \"1181.33832252895\": {\"frequency\": 1, \"value\": 1181.33832252895}, \"2663.461803416514\": {\"frequency\": 1, \"value\": 2663.461803416514}, \"8805.370656207826\": {\"frequency\": 1, \"value\": 8805.370656207826}, \"3095.0028226513887\": {\"frequency\": 1, \"value\": 3095.0028226513887}, \"1432.4262175047388\": {\"frequency\": 1, \"value\": 1432.4262175047388}, \"1915.8256322462535\": {\"frequency\": 1, \"value\": 1915.8256322462535}, \"2277.5243137957623\": {\"frequency\": 1, \"value\": 2277.5243137957623}, \"4028.6740874569136\": {\"frequency\": 1, \"value\": 4028.6740874569136}, \"1215.4281740739252\": {\"frequency\": 1, \"value\": 1215.4281740739252}, \"1090.756301758156\": {\"frequency\": 1, \"value\": 1090.756301758156}, \"5766.8279576363575\": {\"frequency\": 1, \"value\": 5766.8279576363575}, \"1493.2470294540651\": {\"frequency\": 1, \"value\": 1493.2470294540651}, \"10917.167656379457\": {\"frequency\": 1, \"value\": 10917.167656379457}, \"1187.8905869276434\": {\"frequency\": 1, \"value\": 1187.8905869276434}, \"3070.935473616891\": {\"frequency\": 1, \"value\": 3070.935473616891}, \"10433.921585499551\": {\"frequency\": 1, \"value\": 10433.921585499551}, \"4079.344657235337\": {\"frequency\": 1, \"value\": 4079.344657235337}, \"15127.033158328131\": {\"frequency\": 1, \"value\": 15127.033158328131}, \"1274.386198694841\": {\"frequency\": 1, \"value\": 1274.386198694841}, \"1127.406218741635\": {\"frequency\": 1, \"value\": 1127.406218741635}, \"1108.7567454691748\": {\"frequency\": 1, \"value\": 1108.7567454691748}, \"1156.8900516387757\": {\"frequency\": 1, \"value\": 1156.8900516387757}, \"3392.903282984709\": {\"frequency\": 1, \"value\": 3392.903282984709}, \"3433.2909817364794\": {\"frequency\": 1, \"value\": 3433.2909817364794}, \"1189.9579918737043\": {\"frequency\": 1, \"value\": 1189.9579918737043}, \"1048.1860206788651\": {\"frequency\": 1, \"value\": 1048.1860206788651}, \"1448.7470568578808\": {\"frequency\": 1, \"value\": 1448.7470568578808}, \"2568.3440977055793\": {\"frequency\": 1, \"value\": 2568.3440977055793}, \"1856.4755421964894\": {\"frequency\": 1, \"value\": 1856.4755421964894}, \"3614.2243214289533\": {\"frequency\": 1, \"value\": 3614.2243214289533}, \"2223.166971853606\": {\"frequency\": 1, \"value\": 2223.166971853606}, \"3593.5283016731173\": {\"frequency\": 1, \"value\": 3593.5283016731173}, \"1572.8207922654274\": {\"frequency\": 1, \"value\": 1572.8207922654274}, \"4213.960910067403\": {\"frequency\": 1, \"value\": 4213.960910067403}, \"5287.690178518209\": {\"frequency\": 1, \"value\": 5287.690178518209}, \"1752.7265586515389\": {\"frequency\": 1, \"value\": 1752.7265586515389}, \"1530.4819333329028\": {\"frequency\": 1, \"value\": 1530.4819333329028}, \"3901.417970556741\": {\"frequency\": 1, \"value\": 3901.417970556741}, \"1791.3114944778065\": {\"frequency\": 1, \"value\": 1791.3114944778065}, \"1631.0747050595376\": {\"frequency\": 1, \"value\": 1631.0747050595376}, \"1074.1914112303277\": {\"frequency\": 1, \"value\": 1074.1914112303277}, \"1466.01847732324\": {\"frequency\": 1, \"value\": 1466.01847732324}, \"1899.2031328938212\": {\"frequency\": 1, \"value\": 1899.2031328938212}, \"3192.430683695904\": {\"frequency\": 1, \"value\": 3192.430683695904}, \"4051.5444376776004\": {\"frequency\": 1, \"value\": 4051.5444376776004}, \"3166.649440952353\": {\"frequency\": 1, \"value\": 3166.649440952353}, \"1875.599137038596\": {\"frequency\": 1, \"value\": 1875.599137038596}, \"11181.812635964214\": {\"frequency\": 1, \"value\": 11181.812635964214}, \"2260.2422227086704\": {\"frequency\": 1, \"value\": 2260.2422227086704}, \"3981.554643958758\": {\"frequency\": 1, \"value\": 3981.554643958758}, \"2762.1244921255175\": {\"frequency\": 1, \"value\": 2762.1244921255175}, \"1021.3659775706531\": {\"frequency\": 1, \"value\": 1021.3659775706531}, \"1112.5034415989371\": {\"frequency\": 1, \"value\": 1112.5034415989371}, \"1371.8933145199644\": {\"frequency\": 1, \"value\": 1371.8933145199644}, \"37682.3725430893\": {\"frequency\": 1, \"value\": 37682.3725430893}, \"1647.5381126844584\": {\"frequency\": 1, \"value\": 1647.5381126844584}, \"1229.7026657168758\": {\"frequency\": 1, \"value\": 1229.7026657168758}, \"1327.484893816245\": {\"frequency\": 1, \"value\": 1327.484893816245}, \"1753.5654626984322\": {\"frequency\": 1, \"value\": 1753.5654626984322}, \"19826.945847892173\": {\"frequency\": 1, \"value\": 19826.945847892173}, \"1202.3418321392994\": {\"frequency\": 1, \"value\": 1202.3418321392994}, \"4571.024439785105\": {\"frequency\": 1, \"value\": 4571.024439785105}, \"1073.2040266209694\": {\"frequency\": 1, \"value\": 1073.2040266209694}, \"2134.210040834466\": {\"frequency\": 1, \"value\": 2134.210040834466}, \"1084.3022925604896\": {\"frequency\": 1, \"value\": 1084.3022925604896}, \"3232.022964766483\": {\"frequency\": 1, \"value\": 3232.022964766483}, \"2289.4141581278986\": {\"frequency\": 1, \"value\": 2289.4141581278986}, \"4407.492395706949\": {\"frequency\": 1, \"value\": 4407.492395706949}, \"1159.2183148522759\": {\"frequency\": 1, \"value\": 1159.2183148522759}, \"1028.3013233792126\": {\"frequency\": 1, \"value\": 1028.3013233792126}, \"4004.373156801566\": {\"frequency\": 1, \"value\": 4004.373156801566}, \"1280.4663643314439\": {\"frequency\": 1, \"value\": 1280.4663643314439}, \"1145.7197834071337\": {\"frequency\": 1, \"value\": 1145.7197834071337}, \"16812.105958882097\": {\"frequency\": 1, \"value\": 16812.105958882097}, \"1828.3472280312149\": {\"frequency\": 1, \"value\": 1828.3472280312149}, \"9076.78564556862\": {\"frequency\": 1, \"value\": 9076.78564556862}, \"3837.5626273444727\": {\"frequency\": 1, \"value\": 3837.5626273444727}, \"1776.1211590445057\": {\"frequency\": 1, \"value\": 1776.1211590445057}, \"1747.2715525967362\": {\"frequency\": 1, \"value\": 1747.2715525967362}, \"1714.9336660366246\": {\"frequency\": 1, \"value\": 1714.9336660366246}, \"1714.455641426507\": {\"frequency\": 1, \"value\": 1714.455641426507}, \"1783.6865989858131\": {\"frequency\": 1, \"value\": 1783.6865989858131}, \"2287.167145932398\": {\"frequency\": 1, \"value\": 2287.167145932398}, \"24177.53255482247\": {\"frequency\": 1, \"value\": 24177.53255482247}, \"1011.3840745245802\": {\"frequency\": 1, \"value\": 1011.3840745245802}, \"1557.7320291938543\": {\"frequency\": 1, \"value\": 1557.7320291938543}, \"1448.1275282597453\": {\"frequency\": 1, \"value\": 1448.1275282597453}, \"1369.1949126672657\": {\"frequency\": 1, \"value\": 1369.1949126672657}, \"4085.3068230007625\": {\"frequency\": 1, \"value\": 4085.3068230007625}, \"20057.41553283474\": {\"frequency\": 1, \"value\": 20057.41553283474}, \"1179.2901325114497\": {\"frequency\": 1, \"value\": 1179.2901325114497}, \"1384.2901344301288\": {\"frequency\": 1, \"value\": 1384.2901344301288}, \"1736.5713854431176\": {\"frequency\": 1, \"value\": 1736.5713854431176}, \"1787.6333999109438\": {\"frequency\": 1, \"value\": 1787.6333999109438}, \"2328.081255181857\": {\"frequency\": 1, \"value\": 2328.081255181857}, \"1017.5508321759968\": {\"frequency\": 1, \"value\": 1017.5508321759968}, \"23292.829832213156\": {\"frequency\": 1, \"value\": 23292.829832213156}, \"2296.912326909032\": {\"frequency\": 1, \"value\": 2296.912326909032}, \"1048.5587072177616\": {\"frequency\": 1, \"value\": 1048.5587072177616}, \"1172.2979652393058\": {\"frequency\": 1, \"value\": 1172.2979652393058}, \"1133.8970878088157\": {\"frequency\": 1, \"value\": 1133.8970878088157}, \"991.2275970852176\": {\"frequency\": 1, \"value\": 991.2275970852176}, \"2208.7346146863842\": {\"frequency\": 1, \"value\": 2208.7346146863842}, \"11366.30180662094\": {\"frequency\": 1, \"value\": 11366.30180662094}, \"1802.5562817307878\": {\"frequency\": 1, \"value\": 1802.5562817307878}, \"1230.5225929973556\": {\"frequency\": 1, \"value\": 1230.5225929973556}, \"23950.119314345873\": {\"frequency\": 1, \"value\": 23950.119314345873}, \"1296.0846068505907\": {\"frequency\": 1, \"value\": 1296.0846068505907}, \"1109.5123418743742\": {\"frequency\": 1, \"value\": 1109.5123418743742}, \"1035.5108796219436\": {\"frequency\": 1, \"value\": 1035.5108796219436}, \"1280.5269973472482\": {\"frequency\": 1, \"value\": 1280.5269973472482}, \"3576.6184489893676\": {\"frequency\": 1, \"value\": 3576.6184489893676}, \"7117.412692362212\": {\"frequency\": 1, \"value\": 7117.412692362212}, \"1429.5143067074068\": {\"frequency\": 1, \"value\": 1429.5143067074068}, \"11434.364462637168\": {\"frequency\": 1, \"value\": 11434.364462637168}, \"1179.7322033713385\": {\"frequency\": 1, \"value\": 1179.7322033713385}, \"2342.3123206594405\": {\"frequency\": 1, \"value\": 2342.3123206594405}, \"1916.0636300542571\": {\"frequency\": 1, \"value\": 1916.0636300542571}, \"1144.7799392274037\": {\"frequency\": 1, \"value\": 1144.7799392274037}, \"4224.686167519392\": {\"frequency\": 1, \"value\": 4224.686167519392}, \"4428.982201977402\": {\"frequency\": 1, \"value\": 4428.982201977402}, \"1211.0030886499515\": {\"frequency\": 1, \"value\": 1211.0030886499515}, \"5921.486971109138\": {\"frequency\": 1, \"value\": 5921.486971109138}, \"1510.2833668114783\": {\"frequency\": 1, \"value\": 1510.2833668114783}, \"992.1868499170555\": {\"frequency\": 1, \"value\": 992.1868499170555}, \"4053.5315835323568\": {\"frequency\": 1, \"value\": 4053.5315835323568}, \"2907.867529089643\": {\"frequency\": 1, \"value\": 2907.867529089643}, \"1240.9083765287335\": {\"frequency\": 1, \"value\": 1240.9083765287335}, \"2995.554583268416\": {\"frequency\": 1, \"value\": 2995.554583268416}, \"1719.7880350861103\": {\"frequency\": 1, \"value\": 1719.7880350861103}, \"1239.0709821493492\": {\"frequency\": 1, \"value\": 1239.0709821493492}, \"2700.933958150212\": {\"frequency\": 1, \"value\": 2700.933958150212}, \"1236.3532108319919\": {\"frequency\": 1, \"value\": 1236.3532108319919}, \"1976.0197178138526\": {\"frequency\": 1, \"value\": 1976.0197178138526}, \"1142.214545342767\": {\"frequency\": 1, \"value\": 1142.214545342767}, \"2611.1859297356837\": {\"frequency\": 1, \"value\": 2611.1859297356837}, \"1366.950387029219\": {\"frequency\": 1, \"value\": 1366.950387029219}, \"5355.451942510024\": {\"frequency\": 1, \"value\": 5355.451942510024}, \"2086.974837676905\": {\"frequency\": 1, \"value\": 2086.974837676905}, \"1992.039258497359\": {\"frequency\": 1, \"value\": 1992.039258497359}, \"13217.321894974162\": {\"frequency\": 1, \"value\": 13217.321894974162}, \"13984.57971828594\": {\"frequency\": 1, \"value\": 13984.57971828594}, \"10662.14613121155\": {\"frequency\": 1, \"value\": 10662.14613121155}, \"1697.4176808096531\": {\"frequency\": 1, \"value\": 1697.4176808096531}, \"1045.3163845053095\": {\"frequency\": 1, \"value\": 1045.3163845053095}, \"2066.5028377145964\": {\"frequency\": 1, \"value\": 2066.5028377145964}, \"1190.0514768062803\": {\"frequency\": 1, \"value\": 1190.0514768062803}, \"1104.521205013009\": {\"frequency\": 1, \"value\": 1104.521205013009}, \"1427.3483564594362\": {\"frequency\": 1, \"value\": 1427.3483564594362}, \"12770.990524242028\": {\"frequency\": 1, \"value\": 12770.990524242028}, \"3476.547051274633\": {\"frequency\": 1, \"value\": 3476.547051274633}, \"1485.2099787301775\": {\"frequency\": 1, \"value\": 1485.2099787301775}, \"1183.4582256368974\": {\"frequency\": 1, \"value\": 1183.4582256368974}, \"2521.3627448834277\": {\"frequency\": 1, \"value\": 2521.3627448834277}, \"3146.090285430097\": {\"frequency\": 1, \"value\": 3146.090285430097}, \"2561.509232332921\": {\"frequency\": 1, \"value\": 2561.509232332921}, \"4233.504381564109\": {\"frequency\": 1, \"value\": 4233.504381564109}, \"2322.762166079385\": {\"frequency\": 1, \"value\": 2322.762166079385}, \"1582.281962591378\": {\"frequency\": 1, \"value\": 1582.281962591378}, \"1112.876202842486\": {\"frequency\": 1, \"value\": 1112.876202842486}, \"1509.7692703773996\": {\"frequency\": 1, \"value\": 1509.7692703773996}, \"1426.6950530963345\": {\"frequency\": 1, \"value\": 1426.6950530963345}, \"1351.95140124645\": {\"frequency\": 1, \"value\": 1351.95140124645}, \"1276.0319698045932\": {\"frequency\": 1, \"value\": 1276.0319698045932}, \"5414.4696834969045\": {\"frequency\": 1, \"value\": 5414.4696834969045}, \"1820.7585344969757\": {\"frequency\": 1, \"value\": 1820.7585344969757}, \"3004.550275527122\": {\"frequency\": 1, \"value\": 3004.550275527122}, \"9309.962845910535\": {\"frequency\": 1, \"value\": 9309.962845910535}, \"991.7711162330828\": {\"frequency\": 1, \"value\": 991.7711162330828}, \"3427.6206860126376\": {\"frequency\": 1, \"value\": 3427.6206860126376}, \"1637.7434070669385\": {\"frequency\": 1, \"value\": 1637.7434070669385}, \"3666.782145890318\": {\"frequency\": 1, \"value\": 3666.782145890318}, \"2379.0883800243914\": {\"frequency\": 1, \"value\": 2379.0883800243914}, \"3264.752450125921\": {\"frequency\": 1, \"value\": 3264.752450125921}, \"1849.295171078282\": {\"frequency\": 1, \"value\": 1849.295171078282}, \"1379.7024005076453\": {\"frequency\": 1, \"value\": 1379.7024005076453}, \"3127.548424363199\": {\"frequency\": 1, \"value\": 3127.548424363199}, \"1537.9367796273507\": {\"frequency\": 1, \"value\": 1537.9367796273507}, \"2350.8556940980984\": {\"frequency\": 1, \"value\": 2350.8556940980984}, \"2095.264019245113\": {\"frequency\": 1, \"value\": 2095.264019245113}, \"1603.3282507158424\": {\"frequency\": 1, \"value\": 1603.3282507158424}, \"2203.428666520614\": {\"frequency\": 1, \"value\": 2203.428666520614}, \"1821.5123330262043\": {\"frequency\": 1, \"value\": 1821.5123330262043}, \"3425.7183119716183\": {\"frequency\": 1, \"value\": 3425.7183119716183}, \"2838.286672842145\": {\"frequency\": 1, \"value\": 2838.286672842145}, \"1512.5517218281727\": {\"frequency\": 1, \"value\": 1512.5517218281727}, \"1950.23709183122\": {\"frequency\": 1, \"value\": 1950.23709183122}, \"1052.9592601914321\": {\"frequency\": 1, \"value\": 1052.9592601914321}, \"2660.154850664217\": {\"frequency\": 1, \"value\": 2660.154850664217}, \"1428.0658835863728\": {\"frequency\": 1, \"value\": 1428.0658835863728}, \"2652.4058324918688\": {\"frequency\": 1, \"value\": 2652.4058324918688}, \"1446.3987210595035\": {\"frequency\": 1, \"value\": 1446.3987210595035}, \"2155.0201011906925\": {\"frequency\": 1, \"value\": 2155.0201011906925}, \"1934.5691342386863\": {\"frequency\": 1, \"value\": 1934.5691342386863}, \"11559.459362807029\": {\"frequency\": 1, \"value\": 11559.459362807029}, \"1212.1233389129068\": {\"frequency\": 1, \"value\": 1212.1233389129068}, \"2827.064071773968\": {\"frequency\": 1, \"value\": 2827.064071773968}, \"6484.675024001881\": {\"frequency\": 1, \"value\": 6484.675024001881}, \"1011.7716345162299\": {\"frequency\": 1, \"value\": 1011.7716345162299}, \"28107.106485653203\": {\"frequency\": 1, \"value\": 28107.106485653203}, \"1334.0383665724362\": {\"frequency\": 1, \"value\": 1334.0383665724362}, \"4793.120379231044\": {\"frequency\": 1, \"value\": 4793.120379231044}, \"3769.9381244203873\": {\"frequency\": 1, \"value\": 3769.9381244203873}, \"1070.7874250914258\": {\"frequency\": 1, \"value\": 1070.7874250914258}, \"1146.304517111253\": {\"frequency\": 1, \"value\": 1146.304517111253}, \"1110.0989540284233\": {\"frequency\": 1, \"value\": 1110.0989540284233}, \"1799.543611001886\": {\"frequency\": 1, \"value\": 1799.543611001886}, \"3150.92154373406\": {\"frequency\": 1, \"value\": 3150.92154373406}, \"11171.451811039315\": {\"frequency\": 1, \"value\": 11171.451811039315}, \"4698.548174293258\": {\"frequency\": 1, \"value\": 4698.548174293258}, \"1364.3445637570949\": {\"frequency\": 1, \"value\": 1364.3445637570949}, \"2206.03288252321\": {\"frequency\": 1, \"value\": 2206.03288252321}, \"1875.7757189705837\": {\"frequency\": 1, \"value\": 1875.7757189705837}, \"1383.583827550539\": {\"frequency\": 1, \"value\": 1383.583827550539}, \"10385.494845207168\": {\"frequency\": 1, \"value\": 10385.494845207168}, \"4137.270871581851\": {\"frequency\": 1, \"value\": 4137.270871581851}, \"10079.080811429058\": {\"frequency\": 1, \"value\": 10079.080811429058}, \"1125.928480160091\": {\"frequency\": 1, \"value\": 1125.928480160091}, \"1039.9383282344634\": {\"frequency\": 1, \"value\": 1039.9383282344634}, \"2612.4924650705198\": {\"frequency\": 1, \"value\": 2612.4924650705198}, \"1109.9974137992447\": {\"frequency\": 1, \"value\": 1109.9974137992447}, \"1143.5999551672278\": {\"frequency\": 1, \"value\": 1143.5999551672278}, \"3607.764367696063\": {\"frequency\": 1, \"value\": 3607.764367696063}, \"1753.4090414027241\": {\"frequency\": 1, \"value\": 1753.4090414027241}, \"1069.3254982276314\": {\"frequency\": 1, \"value\": 1069.3254982276314}, \"24373.388440355775\": {\"frequency\": 1, \"value\": 24373.388440355775}, \"26752.86502518282\": {\"frequency\": 1, \"value\": 26752.86502518282}, \"1043.1722293793794\": {\"frequency\": 1, \"value\": 1043.1722293793794}, \"19478.193177762358\": {\"frequency\": 1, \"value\": 19478.193177762358}, \"2621.699934417719\": {\"frequency\": 1, \"value\": 2621.699934417719}, \"7426.0829131697965\": {\"frequency\": 1, \"value\": 7426.0829131697965}, \"8111.789627713133\": {\"frequency\": 1, \"value\": 8111.789627713133}, \"2000.2713567549686\": {\"frequency\": 1, \"value\": 2000.2713567549686}, \"3673.317137781491\": {\"frequency\": 1, \"value\": 3673.317137781491}, \"8098.431158829572\": {\"frequency\": 1, \"value\": 8098.431158829572}, \"2343.96038426679\": {\"frequency\": 1, \"value\": 2343.96038426679}, \"2320.3181254163355\": {\"frequency\": 1, \"value\": 2320.3181254163355}, \"2333.6696904403834\": {\"frequency\": 1, \"value\": 2333.6696904403834}, \"6465.455003423089\": {\"frequency\": 1, \"value\": 6465.455003423089}, \"2383.541773433986\": {\"frequency\": 1, \"value\": 2383.541773433986}, \"48041.82466499066\": {\"frequency\": 1, \"value\": 48041.82466499066}, \"1032.3651280237368\": {\"frequency\": 1, \"value\": 1032.3651280237368}, \"1094.1473563318332\": {\"frequency\": 1, \"value\": 1094.1473563318332}, \"3204.181433275986\": {\"frequency\": 1, \"value\": 3204.181433275986}, \"3064.1443280385565\": {\"frequency\": 1, \"value\": 3064.1443280385565}, \"1660.4593718397548\": {\"frequency\": 1, \"value\": 1660.4593718397548}, \"6453.475194523061\": {\"frequency\": 1, \"value\": 6453.475194523061}, \"1073.0265678756098\": {\"frequency\": 1, \"value\": 1073.0265678756098}, \"19316.03749954986\": {\"frequency\": 1, \"value\": 19316.03749954986}, \"2303.2792661590006\": {\"frequency\": 1, \"value\": 2303.2792661590006}, \"3448.0603609892405\": {\"frequency\": 1, \"value\": 3448.0603609892405}, \"4235.090438463047\": {\"frequency\": 1, \"value\": 4235.090438463047}, \"1215.286445017711\": {\"frequency\": 1, \"value\": 1215.286445017711}, \"1175.5126824197498\": {\"frequency\": 1, \"value\": 1175.5126824197498}, \"1658.8690648011047\": {\"frequency\": 1, \"value\": 1658.8690648011047}, \"2407.4764127006483\": {\"frequency\": 1, \"value\": 2407.4764127006483}, \"1415.038014037602\": {\"frequency\": 1, \"value\": 1415.038014037602}, \"9858.923085681206\": {\"frequency\": 1, \"value\": 9858.923085681206}, \"1079.1018414997832\": {\"frequency\": 1, \"value\": 1079.1018414997832}, \"1050.9388992339652\": {\"frequency\": 1, \"value\": 1050.9388992339652}, \"1135.8822598416043\": {\"frequency\": 1, \"value\": 1135.8822598416043}, \"1182.5028667894521\": {\"frequency\": 1, \"value\": 1182.5028667894521}, \"3164.9383555686386\": {\"frequency\": 1, \"value\": 3164.9383555686386}, \"1162.2532105988535\": {\"frequency\": 1, \"value\": 1162.2532105988535}, \"4619.575545820534\": {\"frequency\": 1, \"value\": 4619.575545820534}, \"4114.04081607486\": {\"frequency\": 1, \"value\": 4114.04081607486}, \"1455.2602084860666\": {\"frequency\": 1, \"value\": 1455.2602084860666}, \"6289.488253631232\": {\"frequency\": 1, \"value\": 6289.488253631232}, \"1282.6015202887988\": {\"frequency\": 1, \"value\": 1282.6015202887988}, \"3680.8553856718145\": {\"frequency\": 1, \"value\": 3680.8553856718145}, \"1779.930494904916\": {\"frequency\": 1, \"value\": 1779.930494904916}, \"3180.547947456391\": {\"frequency\": 1, \"value\": 3180.547947456391}, \"1087.794883621163\": {\"frequency\": 1, \"value\": 1087.794883621163}, \"17224.11970166044\": {\"frequency\": 1, \"value\": 17224.11970166044}, \"1686.6228352060211\": {\"frequency\": 1, \"value\": 1686.6228352060211}, \"3112.073177734795\": {\"frequency\": 1, \"value\": 3112.073177734795}, \"2828.7151603542907\": {\"frequency\": 1, \"value\": 2828.7151603542907}, \"1655.9117684698099\": {\"frequency\": 1, \"value\": 1655.9117684698099}, \"7565.421782893916\": {\"frequency\": 1, \"value\": 7565.421782893916}, \"1360.290504609098\": {\"frequency\": 1, \"value\": 1360.290504609098}, \"21853.765274266756\": {\"frequency\": 1, \"value\": 21853.765274266756}, \"1059.4067194690517\": {\"frequency\": 1, \"value\": 1059.4067194690517}, \"2686.2275084671055\": {\"frequency\": 1, \"value\": 2686.2275084671055}, \"26417.47631503482\": {\"frequency\": 1, \"value\": 26417.47631503482}, \"4471.228470710216\": {\"frequency\": 1, \"value\": 4471.228470710216}, \"2593.762678914231\": {\"frequency\": 1, \"value\": 2593.762678914231}, \"3685.1992070525985\": {\"frequency\": 1, \"value\": 3685.1992070525985}, \"1362.3417963140253\": {\"frequency\": 1, \"value\": 1362.3417963140253}, \"2376.9794878637963\": {\"frequency\": 1, \"value\": 2376.9794878637963}, \"3360.3697914798754\": {\"frequency\": 1, \"value\": 3360.3697914798754}, \"1510.494303821053\": {\"frequency\": 1, \"value\": 1510.494303821053}, \"1884.423833900281\": {\"frequency\": 1, \"value\": 1884.423833900281}, \"1355.91797824175\": {\"frequency\": 1, \"value\": 1355.91797824175}, \"1172.9707148211196\": {\"frequency\": 1, \"value\": 1172.9707148211196}, \"1566.2876001798072\": {\"frequency\": 1, \"value\": 1566.2876001798072}, \"1613.890639274286\": {\"frequency\": 1, \"value\": 1613.890639274286}, \"1810.3520661434188\": {\"frequency\": 1, \"value\": 1810.3520661434188}, \"1969.7841976049085\": {\"frequency\": 1, \"value\": 1969.7841976049085}, \"2068.342811791393\": {\"frequency\": 1, \"value\": 2068.342811791393}, \"1317.9682868768775\": {\"frequency\": 1, \"value\": 1317.9682868768775}, \"1122.5787805165444\": {\"frequency\": 1, \"value\": 1122.5787805165444}, \"1531.9687784051716\": {\"frequency\": 1, \"value\": 1531.9687784051716}, \"1773.6601857136989\": {\"frequency\": 1, \"value\": 1773.6601857136989}, \"4579.722081472147\": {\"frequency\": 1, \"value\": 4579.722081472147}, \"8880.16821719719\": {\"frequency\": 1, \"value\": 8880.16821719719}, \"1123.2256178251719\": {\"frequency\": 1, \"value\": 1123.2256178251719}, \"1321.3789405190514\": {\"frequency\": 1, \"value\": 1321.3789405190514}, \"2891.6758505339285\": {\"frequency\": 1, \"value\": 2891.6758505339285}, \"46173.39183875308\": {\"frequency\": 1, \"value\": 46173.39183875308}, \"1018.5444537144722\": {\"frequency\": 1, \"value\": 1018.5444537144722}, \"1049.3262135424516\": {\"frequency\": 1, \"value\": 1049.3262135424516}, \"2368.918054869563\": {\"frequency\": 1, \"value\": 2368.918054869563}, \"1661.5522915531953\": {\"frequency\": 1, \"value\": 1661.5522915531953}, \"1901.2324680175557\": {\"frequency\": 1, \"value\": 1901.2324680175557}, \"1950.6123514234841\": {\"frequency\": 1, \"value\": 1950.6123514234841}, \"7797.726753722427\": {\"frequency\": 1, \"value\": 7797.726753722427}, \"12710.883206155057\": {\"frequency\": 1, \"value\": 12710.883206155057}, \"1156.671178234057\": {\"frequency\": 1, \"value\": 1156.671178234057}, \"1922.7783764881706\": {\"frequency\": 1, \"value\": 1922.7783764881706}, \"3681.395621360293\": {\"frequency\": 1, \"value\": 3681.395621360293}, \"3916.4638881409246\": {\"frequency\": 1, \"value\": 3916.4638881409246}, \"1076.3897085620665\": {\"frequency\": 1, \"value\": 1076.3897085620665}, \"9732.67237380586\": {\"frequency\": 1, \"value\": 9732.67237380586}, \"1521.1792630601592\": {\"frequency\": 1, \"value\": 1521.1792630601592}, \"12320.637237450033\": {\"frequency\": 1, \"value\": 12320.637237450033}, \"6321.920186492686\": {\"frequency\": 1, \"value\": 6321.920186492686}, \"2036.7622738620478\": {\"frequency\": 1, \"value\": 2036.7622738620478}, \"17244.188606275573\": {\"frequency\": 1, \"value\": 17244.188606275573}, \"8687.270107564904\": {\"frequency\": 1, \"value\": 8687.270107564904}, \"1440.2402996586081\": {\"frequency\": 1, \"value\": 1440.2402996586081}, \"5259.4163276546105\": {\"frequency\": 1, \"value\": 5259.4163276546105}, \"1967.7481263777695\": {\"frequency\": 1, \"value\": 1967.7481263777695}, \"1337.2344556636622\": {\"frequency\": 1, \"value\": 1337.2344556636622}, \"5479.394671305752\": {\"frequency\": 1, \"value\": 5479.394671305752}, \"1315.9756747405463\": {\"frequency\": 1, \"value\": 1315.9756747405463}, \"2129.2472546644863\": {\"frequency\": 1, \"value\": 2129.2472546644863}, \"2415.386908313064\": {\"frequency\": 1, \"value\": 2415.386908313064}, \"25711.798414313904\": {\"frequency\": 1, \"value\": 25711.798414313904}, \"1707.6160640731691\": {\"frequency\": 1, \"value\": 1707.6160640731691}, \"1205.8213871373046\": {\"frequency\": 1, \"value\": 1205.8213871373046}, \"4320.7211025157785\": {\"frequency\": 1, \"value\": 4320.7211025157785}, \"1038.6941906279126\": {\"frequency\": 1, \"value\": 1038.6941906279126}, \"1420.1831258734255\": {\"frequency\": 1, \"value\": 1420.1831258734255}, \"1395.6285226092693\": {\"frequency\": 1, \"value\": 1395.6285226092693}, \"1380.2691479063076\": {\"frequency\": 1, \"value\": 1380.2691479063076}, \"6732.1547296616\": {\"frequency\": 1, \"value\": 6732.1547296616}, \"1057.7764761934695\": {\"frequency\": 1, \"value\": 1057.7764761934695}, \"4079.717160493078\": {\"frequency\": 1, \"value\": 4079.717160493078}, \"1095.1892408167346\": {\"frequency\": 1, \"value\": 1095.1892408167346}, \"4335.452471020069\": {\"frequency\": 1, \"value\": 4335.452471020069}, \"1163.0963067644427\": {\"frequency\": 1, \"value\": 1163.0963067644427}, \"1181.163690886218\": {\"frequency\": 1, \"value\": 1181.163690886218}, \"3842.829466407598\": {\"frequency\": 1, \"value\": 3842.829466407598}, \"1137.5264869772554\": {\"frequency\": 1, \"value\": 1137.5264869772554}, \"32197.31445252576\": {\"frequency\": 1, \"value\": 32197.31445252576}, \"1446.9146734268782\": {\"frequency\": 2, \"value\": 1446.9146734268782}, \"10948.57912650082\": {\"frequency\": 1, \"value\": 10948.57912650082}, \"1646.6427043374647\": {\"frequency\": 1, \"value\": 1646.6427043374647}, \"20087.72079779958\": {\"frequency\": 1, \"value\": 20087.72079779958}, \"2765.1369763676566\": {\"frequency\": 1, \"value\": 2765.1369763676566}, \"2550.344990194883\": {\"frequency\": 1, \"value\": 2550.344990194883}, \"2015.3219126716492\": {\"frequency\": 1, \"value\": 2015.3219126716492}, \"1021.0090157181522\": {\"frequency\": 1, \"value\": 1021.0090157181522}, \"34961.37884156224\": {\"frequency\": 1, \"value\": 34961.37884156224}, \"1594.128555310456\": {\"frequency\": 1, \"value\": 1594.128555310456}, \"2416.6926601162036\": {\"frequency\": 1, \"value\": 2416.6926601162036}, \"1528.5846141116547\": {\"frequency\": 1, \"value\": 1528.5846141116547}, \"2318.842495151344\": {\"frequency\": 1, \"value\": 2318.842495151344}, \"1504.6726574727595\": {\"frequency\": 1, \"value\": 1504.6726574727595}, \"1917.9532708052388\": {\"frequency\": 1, \"value\": 1917.9532708052388}, \"3297.6711910631416\": {\"frequency\": 1, \"value\": 3297.6711910631416}, \"1034.6178227271514\": {\"frequency\": 1, \"value\": 1034.6178227271514}, \"1851.881984656623\": {\"frequency\": 1, \"value\": 1851.881984656623}, \"1454.0313996089576\": {\"frequency\": 1, \"value\": 1454.0313996089576}, \"14100.1167904296\": {\"frequency\": 1, \"value\": 14100.1167904296}, \"1815.761385243334\": {\"frequency\": 1, \"value\": 1815.761385243334}, \"1017.3025032332614\": {\"frequency\": 1, \"value\": 1017.3025032332614}, \"998.5938286245807\": {\"frequency\": 1, \"value\": 998.5938286245807}, \"1716.8605093650467\": {\"frequency\": 1, \"value\": 1716.8605093650467}, \"2170.191933733644\": {\"frequency\": 1, \"value\": 2170.191933733644}, \"2227.806367881839\": {\"frequency\": 1, \"value\": 2227.806367881839}, \"5954.641268354799\": {\"frequency\": 1, \"value\": 5954.641268354799}, \"15255.516926693042\": {\"frequency\": 1, \"value\": 15255.516926693042}, \"6047.447923284571\": {\"frequency\": 1, \"value\": 6047.447923284571}, \"1476.504071640939\": {\"frequency\": 1, \"value\": 1476.504071640939}, \"3479.473003035574\": {\"frequency\": 1, \"value\": 3479.473003035574}, \"2614.2698895667154\": {\"frequency\": 1, \"value\": 2614.2698895667154}, \"1453.0099483202425\": {\"frequency\": 1, \"value\": 1453.0099483202425}, \"18512.22952772309\": {\"frequency\": 1, \"value\": 18512.22952772309}, \"2239.4505859853657\": {\"frequency\": 1, \"value\": 2239.4505859853657}, \"3101.9811861252824\": {\"frequency\": 1, \"value\": 3101.9811861252824}, \"1315.2995173513493\": {\"frequency\": 1, \"value\": 1315.2995173513493}, \"1372.797566270838\": {\"frequency\": 1, \"value\": 1372.797566270838}, \"3172.112711514115\": {\"frequency\": 1, \"value\": 3172.112711514115}, \"2243.075603517815\": {\"frequency\": 1, \"value\": 2243.075603517815}, \"2584.900134892395\": {\"frequency\": 1, \"value\": 2584.900134892395}, \"2316.9576645227544\": {\"frequency\": 1, \"value\": 2316.9576645227544}, \"1093.856166336381\": {\"frequency\": 1, \"value\": 1093.856166336381}, \"1793.597868905013\": {\"frequency\": 1, \"value\": 1793.597868905013}, \"6996.688353849635\": {\"frequency\": 1, \"value\": 6996.688353849635}, \"11233.20816383069\": {\"frequency\": 1, \"value\": 11233.20816383069}, \"1003.8201772602441\": {\"frequency\": 1, \"value\": 1003.8201772602441}, \"1174.049840930895\": {\"frequency\": 1, \"value\": 1174.049840930895}, \"1946.846411355845\": {\"frequency\": 1, \"value\": 1946.846411355845}, \"2605.388949587381\": {\"frequency\": 1, \"value\": 2605.388949587381}, \"1754.9593469459603\": {\"frequency\": 1, \"value\": 1754.9593469459603}, \"3885.718219955915\": {\"frequency\": 1, \"value\": 3885.718219955915}, \"1433.234900801378\": {\"frequency\": 1, \"value\": 1433.234900801378}, \"3337.6508488787076\": {\"frequency\": 1, \"value\": 3337.6508488787076}, \"1697.6135112126635\": {\"frequency\": 1, \"value\": 1697.6135112126635}, \"1146.9123412066724\": {\"frequency\": 1, \"value\": 1146.9123412066724}, \"13089.10928492105\": {\"frequency\": 1, \"value\": 13089.10928492105}, \"24016.261594094587\": {\"frequency\": 1, \"value\": 24016.261594094587}, \"5178.542477846608\": {\"frequency\": 1, \"value\": 5178.542477846608}, \"1519.935787992917\": {\"frequency\": 1, \"value\": 1519.935787992917}, \"2063.3041967438944\": {\"frequency\": 1, \"value\": 2063.3041967438944}, \"1036.5896004874446\": {\"frequency\": 1, \"value\": 1036.5896004874446}, \"2126.7680683338494\": {\"frequency\": 1, \"value\": 2126.7680683338494}, \"1367.288827427509\": {\"frequency\": 1, \"value\": 1367.288827427509}, \"1283.4148080477864\": {\"frequency\": 1, \"value\": 1283.4148080477864}, \"1328.584242119106\": {\"frequency\": 1, \"value\": 1328.584242119106}, \"8037.040032992664\": {\"frequency\": 1, \"value\": 8037.040032992664}, \"1483.9030932965454\": {\"frequency\": 1, \"value\": 1483.9030932965454}, \"1011.4271330469979\": {\"frequency\": 1, \"value\": 1011.4271330469979}, \"2059.490761299752\": {\"frequency\": 1, \"value\": 2059.490761299752}, \"69183.2669080059\": {\"frequency\": 1, \"value\": 69183.2669080059}, \"20628.652723150484\": {\"frequency\": 1, \"value\": 20628.652723150484}, \"1594.6028088237717\": {\"frequency\": 1, \"value\": 1594.6028088237717}, \"3023.6158504394402\": {\"frequency\": 1, \"value\": 3023.6158504394402}, \"1074.4133584771926\": {\"frequency\": 2, \"value\": 1074.4133584771926}, \"1300.0530078456554\": {\"frequency\": 1, \"value\": 1300.0530078456554}, \"1301.2019354002343\": {\"frequency\": 1, \"value\": 1301.2019354002343}, \"3509.1874416224578\": {\"frequency\": 1, \"value\": 3509.1874416224578}, \"1278.890415452224\": {\"frequency\": 1, \"value\": 1278.890415452224}, \"1495.4368032232906\": {\"frequency\": 1, \"value\": 1495.4368032232906}, \"5365.454249984874\": {\"frequency\": 1, \"value\": 5365.454249984874}, \"1158.3996954471077\": {\"frequency\": 1, \"value\": 1158.3996954471077}, \"1938.9963766104497\": {\"frequency\": 1, \"value\": 1938.9963766104497}, \"1023.5523887956438\": {\"frequency\": 1, \"value\": 1023.5523887956438}, \"1053.4097160863707\": {\"frequency\": 1, \"value\": 1053.4097160863707}, \"5942.103685542835\": {\"frequency\": 1, \"value\": 5942.103685542835}, \"15715.349978000437\": {\"frequency\": 1, \"value\": 15715.349978000437}, \"9954.146884841264\": {\"frequency\": 1, \"value\": 9954.146884841264}, \"4859.833211867535\": {\"frequency\": 1, \"value\": 4859.833211867535}, \"1280.0662228349008\": {\"frequency\": 1, \"value\": 1280.0662228349008}, \"1003.9381428904699\": {\"frequency\": 1, \"value\": 1003.9381428904699}, \"1499.9920100556717\": {\"frequency\": 1, \"value\": 1499.9920100556717}, \"1047.6819041247422\": {\"frequency\": 1, \"value\": 1047.6819041247422}, \"1127.2015504096478\": {\"frequency\": 1, \"value\": 1127.2015504096478}, \"2439.9717846484737\": {\"frequency\": 1, \"value\": 2439.9717846484737}, \"12176.936130463217\": {\"frequency\": 1, \"value\": 12176.936130463217}, \"2029.6179747530896\": {\"frequency\": 1, \"value\": 2029.6179747530896}, \"1081.7840101968761\": {\"frequency\": 1, \"value\": 1081.7840101968761}, \"3868.750639639825\": {\"frequency\": 1, \"value\": 3868.750639639825}, \"1311.4549132746804\": {\"frequency\": 1, \"value\": 1311.4549132746804}, \"12785.568603627502\": {\"frequency\": 1, \"value\": 12785.568603627502}, \"3735.7096392064923\": {\"frequency\": 1, \"value\": 3735.7096392064923}, \"1005.4723323815961\": {\"frequency\": 1, \"value\": 1005.4723323815961}, \"3030.078785723689\": {\"frequency\": 1, \"value\": 3030.078785723689}, \"1093.6433983902582\": {\"frequency\": 1, \"value\": 1093.6433983902582}, \"2835.4879710468717\": {\"frequency\": 1, \"value\": 2835.4879710468717}, \"1106.9083225115978\": {\"frequency\": 1, \"value\": 1106.9083225115978}, \"1054.6297309366412\": {\"frequency\": 1, \"value\": 1054.6297309366412}, \"1857.588227880939\": {\"frequency\": 1, \"value\": 1857.588227880939}, \"5300.53846552813\": {\"frequency\": 1, \"value\": 5300.53846552813}, \"1776.3358609557047\": {\"frequency\": 1, \"value\": 1776.3358609557047}, \"6688.718161604199\": {\"frequency\": 1, \"value\": 6688.718161604199}, \"5082.171293665294\": {\"frequency\": 1, \"value\": 5082.171293665294}, \"2198.4323283062786\": {\"frequency\": 1, \"value\": 2198.4323283062786}, \"3111.768267375386\": {\"frequency\": 1, \"value\": 3111.768267375386}, \"1608.1559071849028\": {\"frequency\": 1, \"value\": 1608.1559071849028}, \"2984.6325285845664\": {\"frequency\": 1, \"value\": 2984.6325285845664}, \"2336.7956172130525\": {\"frequency\": 1, \"value\": 2336.7956172130525}, \"7935.690853153898\": {\"frequency\": 1, \"value\": 7935.690853153898}, \"1108.497421547895\": {\"frequency\": 1, \"value\": 1108.497421547895}, \"1285.9413025006884\": {\"frequency\": 1, \"value\": 1285.9413025006884}, \"1013.0963629717514\": {\"frequency\": 1, \"value\": 1013.0963629717514}, \"1377.3485119617337\": {\"frequency\": 1, \"value\": 1377.3485119617337}, \"19969.25590848647\": {\"frequency\": 1, \"value\": 19969.25590848647}, \"1830.6429508112665\": {\"frequency\": 1, \"value\": 1830.6429508112665}, \"1626.6639471423666\": {\"frequency\": 1, \"value\": 1626.6639471423666}, \"2344.6032894003642\": {\"frequency\": 1, \"value\": 2344.6032894003642}, \"14673.02460461946\": {\"frequency\": 1, \"value\": 14673.02460461946}, \"2769.335739011026\": {\"frequency\": 1, \"value\": 2769.335739011026}, \"2195.0036877567177\": {\"frequency\": 1, \"value\": 2195.0036877567177}, \"2721.407012248671\": {\"frequency\": 1, \"value\": 2721.407012248671}, \"1099.676171415421\": {\"frequency\": 1, \"value\": 1099.676171415421}, \"2160.1873026222597\": {\"frequency\": 1, \"value\": 2160.1873026222597}, \"1266.6678707686158\": {\"frequency\": 1, \"value\": 1266.6678707686158}, \"1269.7088874516355\": {\"frequency\": 1, \"value\": 1269.7088874516355}, \"989.9386724588934\": {\"frequency\": 1, \"value\": 989.9386724588934}, \"1257.8433303442448\": {\"frequency\": 1, \"value\": 1257.8433303442448}, \"3175.731904906223\": {\"frequency\": 1, \"value\": 3175.731904906223}, \"1121.0702251136806\": {\"frequency\": 1, \"value\": 1121.0702251136806}, \"2791.063306511077\": {\"frequency\": 1, \"value\": 2791.063306511077}, \"2799.6306700101877\": {\"frequency\": 1, \"value\": 2799.6306700101877}, \"8509.128251571758\": {\"frequency\": 1, \"value\": 8509.128251571758}, \"6777.1403044799945\": {\"frequency\": 1, \"value\": 6777.1403044799945}, \"2810.63461089782\": {\"frequency\": 1, \"value\": 2810.63461089782}, \"1394.8939671165535\": {\"frequency\": 1, \"value\": 1394.8939671165535}, \"2603.753757305323\": {\"frequency\": 1, \"value\": 2603.753757305323}, \"1333.8031486188452\": {\"frequency\": 1, \"value\": 1333.8031486188452}, \"1157.0743823084151\": {\"frequency\": 1, \"value\": 1157.0743823084151}, \"2100.9813060763745\": {\"frequency\": 1, \"value\": 2100.9813060763745}, \"2889.345571750339\": {\"frequency\": 1, \"value\": 2889.345571750339}, \"1034.1278957440866\": {\"frequency\": 1, \"value\": 1034.1278957440866}, \"1333.345152816959\": {\"frequency\": 1, \"value\": 1333.345152816959}, \"2481.3875724208838\": {\"frequency\": 1, \"value\": 2481.3875724208838}, \"2318.760529734385\": {\"frequency\": 1, \"value\": 2318.760529734385}, \"1367.3515062277163\": {\"frequency\": 1, \"value\": 1367.3515062277163}, \"12821.9331502461\": {\"frequency\": 1, \"value\": 12821.9331502461}, \"1771.84418368845\": {\"frequency\": 1, \"value\": 1771.84418368845}, \"1316.086335410492\": {\"frequency\": 1, \"value\": 1316.086335410492}, \"1008.3937726053575\": {\"frequency\": 1, \"value\": 1008.3937726053575}, \"2870.134662838422\": {\"frequency\": 1, \"value\": 2870.134662838422}, \"9469.172721765182\": {\"frequency\": 1, \"value\": 9469.172721765182}, \"1818.1504557829269\": {\"frequency\": 1, \"value\": 1818.1504557829269}, \"1202.3770724132642\": {\"frequency\": 1, \"value\": 1202.3770724132642}, \"3967.135654481159\": {\"frequency\": 1, \"value\": 3967.135654481159}, \"1362.579547055052\": {\"frequency\": 1, \"value\": 1362.579547055052}, \"2483.0509318945265\": {\"frequency\": 1, \"value\": 2483.0509318945265}, \"1067.2782819690703\": {\"frequency\": 1, \"value\": 1067.2782819690703}, \"3780.5477787777063\": {\"frequency\": 1, \"value\": 3780.5477787777063}, \"1139.5834599086256\": {\"frequency\": 1, \"value\": 1139.5834599086256}, \"1249.3134429417125\": {\"frequency\": 1, \"value\": 1249.3134429417125}, \"1923.6576857081436\": {\"frequency\": 1, \"value\": 1923.6576857081436}, \"1562.6371794549564\": {\"frequency\": 1, \"value\": 1562.6371794549564}, \"1374.6195438387429\": {\"frequency\": 1, \"value\": 1374.6195438387429}, \"1102.1029647845296\": {\"frequency\": 1, \"value\": 1102.1029647845296}, \"2502.33980033969\": {\"frequency\": 1, \"value\": 2502.33980033969}, \"1039.5781058575537\": {\"frequency\": 1, \"value\": 1039.5781058575537}, \"2185.9110952494057\": {\"frequency\": 1, \"value\": 2185.9110952494057}, \"4730.744069840193\": {\"frequency\": 1, \"value\": 4730.744069840193}, \"3175.346783523961\": {\"frequency\": 1, \"value\": 3175.346783523961}, \"3697.642547213189\": {\"frequency\": 1, \"value\": 3697.642547213189}, \"9882.026673264432\": {\"frequency\": 1, \"value\": 9882.026673264432}, \"2191.131809633618\": {\"frequency\": 1, \"value\": 2191.131809633618}, \"1744.589836764864\": {\"frequency\": 1, \"value\": 1744.589836764864}, \"4894.068334129162\": {\"frequency\": 1, \"value\": 4894.068334129162}, \"6379.683572153493\": {\"frequency\": 1, \"value\": 6379.683572153493}, \"1774.0463866460686\": {\"frequency\": 1, \"value\": 1774.0463866460686}, \"4610.511721185606\": {\"frequency\": 1, \"value\": 4610.511721185606}, \"14673.720709744139\": {\"frequency\": 1, \"value\": 14673.720709744139}, \"1426.669436442051\": {\"frequency\": 1, \"value\": 1426.669436442051}, \"2582.630630242928\": {\"frequency\": 1, \"value\": 2582.630630242928}, \"3001.7060660835577\": {\"frequency\": 1, \"value\": 3001.7060660835577}, \"10787.539122429482\": {\"frequency\": 1, \"value\": 10787.539122429482}, \"3443.441422182342\": {\"frequency\": 1, \"value\": 3443.441422182342}, \"3764.302754274772\": {\"frequency\": 1, \"value\": 3764.302754274772}, \"1056.5986434693416\": {\"frequency\": 1, \"value\": 1056.5986434693416}, \"2042.2133933016562\": {\"frequency\": 1, \"value\": 2042.2133933016562}, \"12161.375123259253\": {\"frequency\": 1, \"value\": 12161.375123259253}, \"1722.5771662503287\": {\"frequency\": 1, \"value\": 1722.5771662503287}, \"1007.9531347877645\": {\"frequency\": 1, \"value\": 1007.9531347877645}, \"5342.155938915999\": {\"frequency\": 1, \"value\": 5342.155938915999}, \"1683.9887910548573\": {\"frequency\": 1, \"value\": 1683.9887910548573}, \"1224.0894411744734\": {\"frequency\": 1, \"value\": 1224.0894411744734}, \"1816.7313002514932\": {\"frequency\": 1, \"value\": 1816.7313002514932}, \"3989.521534976388\": {\"frequency\": 1, \"value\": 3989.521534976388}, \"3728.050836489599\": {\"frequency\": 1, \"value\": 3728.050836489599}, \"1004.5173483100643\": {\"frequency\": 1, \"value\": 1004.5173483100643}, \"2951.599668875159\": {\"frequency\": 1, \"value\": 2951.599668875159}, \"1502.094757799988\": {\"frequency\": 1, \"value\": 1502.094757799988}, \"20286.930255820407\": {\"frequency\": 1, \"value\": 20286.930255820407}, \"5326.812647365804\": {\"frequency\": 1, \"value\": 5326.812647365804}, \"10395.88221320483\": {\"frequency\": 1, \"value\": 10395.88221320483}, \"1219.7549225439\": {\"frequency\": 1, \"value\": 1219.7549225439}, \"1515.151898697788\": {\"frequency\": 1, \"value\": 1515.151898697788}, \"14748.922256404074\": {\"frequency\": 1, \"value\": 14748.922256404074}, \"3608.2579117331766\": {\"frequency\": 1, \"value\": 3608.2579117331766}, \"5781.377160029677\": {\"frequency\": 1, \"value\": 5781.377160029677}, \"3781.0112494161863\": {\"frequency\": 1, \"value\": 3781.0112494161863}, \"1175.559136901557\": {\"frequency\": 1, \"value\": 1175.559136901557}, \"2436.1036295160543\": {\"frequency\": 1, \"value\": 2436.1036295160543}, \"1208.775936730815\": {\"frequency\": 1, \"value\": 1208.775936730815}, \"1559.3394139288039\": {\"frequency\": 1, \"value\": 1559.3394139288039}, \"1061.876524681843\": {\"frequency\": 1, \"value\": 1061.876524681843}, \"2424.1993411701037\": {\"frequency\": 1, \"value\": 2424.1993411701037}, \"1002.0408175969262\": {\"frequency\": 1, \"value\": 1002.0408175969262}, \"3529.855597952044\": {\"frequency\": 1, \"value\": 3529.855597952044}, \"2431.8018901782043\": {\"frequency\": 1, \"value\": 2431.8018901782043}, \"1050.2256527945267\": {\"frequency\": 1, \"value\": 1050.2256527945267}, \"2211.9181050680504\": {\"frequency\": 1, \"value\": 2211.9181050680504}, \"3558.3203271304733\": {\"frequency\": 1, \"value\": 3558.3203271304733}, \"2087.161276810034\": {\"frequency\": 1, \"value\": 2087.161276810034}, \"1060.2002689071526\": {\"frequency\": 1, \"value\": 1060.2002689071526}, \"1469.6698275791343\": {\"frequency\": 1, \"value\": 1469.6698275791343}, \"2299.5069936231866\": {\"frequency\": 1, \"value\": 2299.5069936231866}, \"12654.617834066428\": {\"frequency\": 1, \"value\": 12654.617834066428}, \"1847.76148889494\": {\"frequency\": 1, \"value\": 1847.76148889494}, \"3276.9523127482917\": {\"frequency\": 1, \"value\": 3276.9523127482917}, \"1086.8570182418953\": {\"frequency\": 1, \"value\": 1086.8570182418953}, \"3681.624194931219\": {\"frequency\": 1, \"value\": 3681.624194931219}, \"1057.655360046356\": {\"frequency\": 1, \"value\": 1057.655360046356}, \"1098.0373685041445\": {\"frequency\": 1, \"value\": 1098.0373685041445}, \"1692.6792870666732\": {\"frequency\": 1, \"value\": 1692.6792870666732}, \"1848.3018555090812\": {\"frequency\": 1, \"value\": 1848.3018555090812}, \"1118.4751877223011\": {\"frequency\": 1, \"value\": 1118.4751877223011}, \"3696.3722516863736\": {\"frequency\": 1, \"value\": 3696.3722516863736}, \"1024.061446492338\": {\"frequency\": 1, \"value\": 1024.061446492338}, \"4303.0192314221495\": {\"frequency\": 1, \"value\": 4303.0192314221495}, \"24360.126519341266\": {\"frequency\": 1, \"value\": 24360.126519341266}, \"1503.6070294753945\": {\"frequency\": 1, \"value\": 1503.6070294753945}, \"5450.435290873639\": {\"frequency\": 1, \"value\": 5450.435290873639}, \"1623.7906291673262\": {\"frequency\": 1, \"value\": 1623.7906291673262}, \"1568.6788156255118\": {\"frequency\": 1, \"value\": 1568.6788156255118}, \"1091.0694437146287\": {\"frequency\": 1, \"value\": 1091.0694437146287}, \"1613.1817510006447\": {\"frequency\": 1, \"value\": 1613.1817510006447}, \"33898.18548963095\": {\"frequency\": 1, \"value\": 33898.18548963095}, \"2542.8816427650327\": {\"frequency\": 1, \"value\": 2542.8816427650327}, \"9674.250803585213\": {\"frequency\": 1, \"value\": 9674.250803585213}, \"1037.4071905392154\": {\"frequency\": 1, \"value\": 1037.4071905392154}, \"1787.9493353688074\": {\"frequency\": 1, \"value\": 1787.9493353688074}, \"1848.9883829172807\": {\"frequency\": 1, \"value\": 1848.9883829172807}, \"1203.4932843580293\": {\"frequency\": 1, \"value\": 1203.4932843580293}, \"1735.7649128364137\": {\"frequency\": 1, \"value\": 1735.7649128364137}, \"1858.3643802462386\": {\"frequency\": 1, \"value\": 1858.3643802462386}, \"15269.57373655294\": {\"frequency\": 1, \"value\": 15269.57373655294}, \"1258.2760037988705\": {\"frequency\": 1, \"value\": 1258.2760037988705}, \"2595.4641175777397\": {\"frequency\": 1, \"value\": 2595.4641175777397}, \"1631.8424117267436\": {\"frequency\": 1, \"value\": 1631.8424117267436}, \"3334.016860025914\": {\"frequency\": 1, \"value\": 3334.016860025914}, \"1108.8131242870854\": {\"frequency\": 1, \"value\": 1108.8131242870854}, \"1192.2260474905088\": {\"frequency\": 1, \"value\": 1192.2260474905088}, \"2327.9826971194693\": {\"frequency\": 1, \"value\": 2327.9826971194693}, \"5123.7979462461135\": {\"frequency\": 1, \"value\": 5123.7979462461135}, \"1124.6788503931423\": {\"frequency\": 1, \"value\": 1124.6788503931423}, \"3054.661017292918\": {\"frequency\": 1, \"value\": 3054.661017292918}, \"1231.521138151269\": {\"frequency\": 1, \"value\": 1231.521138151269}, \"9004.85661315103\": {\"frequency\": 1, \"value\": 9004.85661315103}, \"1351.0167446471062\": {\"frequency\": 1, \"value\": 1351.0167446471062}, \"2053.1995099570554\": {\"frequency\": 1, \"value\": 2053.1995099570554}, \"1677.6422362992625\": {\"frequency\": 1, \"value\": 1677.6422362992625}, \"7977.986753227622\": {\"frequency\": 1, \"value\": 7977.986753227622}, \"4077.701470767792\": {\"frequency\": 1, \"value\": 4077.701470767792}, \"3804.4124139484943\": {\"frequency\": 1, \"value\": 3804.4124139484943}, \"1195.1637284902845\": {\"frequency\": 1, \"value\": 1195.1637284902845}, \"1397.6432216010558\": {\"frequency\": 1, \"value\": 1397.6432216010558}, \"1115.0349382848765\": {\"frequency\": 1, \"value\": 1115.0349382848765}, \"1071.5963478429162\": {\"frequency\": 1, \"value\": 1071.5963478429162}, \"1527.4971788436872\": {\"frequency\": 1, \"value\": 1527.4971788436872}, \"17618.779013662017\": {\"frequency\": 1, \"value\": 17618.779013662017}, \"1183.8194994156831\": {\"frequency\": 1, \"value\": 1183.8194994156831}, \"1018.5120452956082\": {\"frequency\": 1, \"value\": 1018.5120452956082}, \"7151.6237101335755\": {\"frequency\": 1, \"value\": 7151.6237101335755}, \"6759.178406927396\": {\"frequency\": 1, \"value\": 6759.178406927396}, \"1646.7804433970807\": {\"frequency\": 1, \"value\": 1646.7804433970807}, \"4071.766947455705\": {\"frequency\": 1, \"value\": 4071.766947455705}, \"14572.806076354313\": {\"frequency\": 1, \"value\": 14572.806076354313}, \"1754.1627728090175\": {\"frequency\": 1, \"value\": 1754.1627728090175}, \"1216.7513813601802\": {\"frequency\": 1, \"value\": 1216.7513813601802}, \"1660.8190266611168\": {\"frequency\": 1, \"value\": 1660.8190266611168}, \"2100.357783342672\": {\"frequency\": 1, \"value\": 2100.357783342672}, \"1548.9064313523847\": {\"frequency\": 1, \"value\": 1548.9064313523847}, \"4332.96529287865\": {\"frequency\": 1, \"value\": 4332.96529287865}, \"3252.2835730205175\": {\"frequency\": 1, \"value\": 3252.2835730205175}, \"2599.3900185711864\": {\"frequency\": 1, \"value\": 2599.3900185711864}, \"1305.1537580584616\": {\"frequency\": 1, \"value\": 1305.1537580584616}, \"1410.7682548673124\": {\"frequency\": 1, \"value\": 1410.7682548673124}, \"1861.8224551873825\": {\"frequency\": 1, \"value\": 1861.8224551873825}, \"1834.2638643628832\": {\"frequency\": 1, \"value\": 1834.2638643628832}, \"1263.8112309459589\": {\"frequency\": 1, \"value\": 1263.8112309459589}, \"1426.4132827062133\": {\"frequency\": 1, \"value\": 1426.4132827062133}, \"3457.750395443923\": {\"frequency\": 1, \"value\": 3457.750395443923}, \"1140.1094318559258\": {\"frequency\": 1, \"value\": 1140.1094318559258}, \"3500.860752915519\": {\"frequency\": 1, \"value\": 3500.860752915519}, \"6136.9148712477645\": {\"frequency\": 1, \"value\": 6136.9148712477645}, \"1027.888876000892\": {\"frequency\": 1, \"value\": 1027.888876000892}, \"2383.2924040280614\": {\"frequency\": 1, \"value\": 2383.2924040280614}, \"1262.8356586400605\": {\"frequency\": 1, \"value\": 1262.8356586400605}, \"2053.677177779854\": {\"frequency\": 1, \"value\": 2053.677177779854}, \"1044.9005073609912\": {\"frequency\": 1, \"value\": 1044.9005073609912}, \"996.7870920129308\": {\"frequency\": 1, \"value\": 996.7870920129308}, \"4283.130025652612\": {\"frequency\": 1, \"value\": 4283.130025652612}, \"4706.073125270346\": {\"frequency\": 1, \"value\": 4706.073125270346}, \"1021.993517615447\": {\"frequency\": 1, \"value\": 1021.993517615447}, \"9259.073864386815\": {\"frequency\": 1, \"value\": 9259.073864386815}, \"1648.2546171347199\": {\"frequency\": 1, \"value\": 1648.2546171347199}, \"1917.8342103688826\": {\"frequency\": 1, \"value\": 1917.8342103688826}, \"4935.586845212491\": {\"frequency\": 1, \"value\": 4935.586845212491}, \"1501.0431973978937\": {\"frequency\": 1, \"value\": 1501.0431973978937}, \"1923.0168130259513\": {\"frequency\": 1, \"value\": 1923.0168130259513}, \"1047.3312865213522\": {\"frequency\": 1, \"value\": 1047.3312865213522}, \"1001.3980673353059\": {\"frequency\": 1, \"value\": 1001.3980673353059}, \"2731.6643064836057\": {\"frequency\": 1, \"value\": 2731.6643064836057}, \"1281.3881428369807\": {\"frequency\": 1, \"value\": 1281.3881428369807}, \"7088.350586405482\": {\"frequency\": 1, \"value\": 7088.350586405482}, \"8197.689475469042\": {\"frequency\": 1, \"value\": 8197.689475469042}, \"3466.084554676131\": {\"frequency\": 1, \"value\": 3466.084554676131}, \"3253.375326249508\": {\"frequency\": 1, \"value\": 3253.375326249508}, \"4506.22756211648\": {\"frequency\": 1, \"value\": 4506.22756211648}, \"21498.558702602953\": {\"frequency\": 1, \"value\": 21498.558702602953}, \"1094.5618095517725\": {\"frequency\": 1, \"value\": 1094.5618095517725}, \"2879.0268781933337\": {\"frequency\": 1, \"value\": 2879.0268781933337}, \"1773.3884402813937\": {\"frequency\": 1, \"value\": 1773.3884402813937}, \"2357.3149694199988\": {\"frequency\": 1, \"value\": 2357.3149694199988}, \"51282.19581940947\": {\"frequency\": 1, \"value\": 51282.19581940947}, \"1032.6588172733532\": {\"frequency\": 1, \"value\": 1032.6588172733532}, \"1311.1726269282613\": {\"frequency\": 1, \"value\": 1311.1726269282613}, \"3658.3267008670614\": {\"frequency\": 1, \"value\": 3658.3267008670614}, \"4062.8188896977904\": {\"frequency\": 1, \"value\": 4062.8188896977904}, \"8026.1237262490395\": {\"frequency\": 1, \"value\": 8026.1237262490395}, \"1336.0075919283654\": {\"frequency\": 1, \"value\": 1336.0075919283654}, \"2850.9165601364207\": {\"frequency\": 1, \"value\": 2850.9165601364207}, \"2202.9016234358255\": {\"frequency\": 1, \"value\": 2202.9016234358255}, \"2020.453401802323\": {\"frequency\": 1, \"value\": 2020.453401802323}, \"1036.862094366997\": {\"frequency\": 1, \"value\": 1036.862094366997}, \"2022.9145935929098\": {\"frequency\": 1, \"value\": 2022.9145935929098}, \"5104.895045571454\": {\"frequency\": 1, \"value\": 5104.895045571454}, \"2630.119705018375\": {\"frequency\": 1, \"value\": 2630.119705018375}, \"2554.40809340641\": {\"frequency\": 1, \"value\": 2554.40809340641}, \"994.7364705826602\": {\"frequency\": 1, \"value\": 994.7364705826602}, \"1761.9514579050735\": {\"frequency\": 1, \"value\": 1761.9514579050735}, \"5124.932787354495\": {\"frequency\": 1, \"value\": 5124.932787354495}, \"1294.9501626139167\": {\"frequency\": 1, \"value\": 1294.9501626139167}, \"2196.0240212530366\": {\"frequency\": 1, \"value\": 2196.0240212530366}, \"8031.9718779566665\": {\"frequency\": 1, \"value\": 8031.9718779566665}, \"1620.4143568552024\": {\"frequency\": 1, \"value\": 1620.4143568552024}, \"1319.9377956439191\": {\"frequency\": 1, \"value\": 1319.9377956439191}, \"1110.2117820052677\": {\"frequency\": 1, \"value\": 1110.2117820052677}, \"2366.5487308865854\": {\"frequency\": 1, \"value\": 2366.5487308865854}, \"1747.6264335083354\": {\"frequency\": 1, \"value\": 1747.6264335083354}, \"1566.7039148452754\": {\"frequency\": 1, \"value\": 1566.7039148452754}, \"2102.478145150654\": {\"frequency\": 1, \"value\": 2102.478145150654}, \"2656.1822536446584\": {\"frequency\": 1, \"value\": 2656.1822536446584}, \"4076.9566724973083\": {\"frequency\": 1, \"value\": 4076.9566724973083}, \"1438.4905440508917\": {\"frequency\": 1, \"value\": 1438.4905440508917}, \"1181.7342025386206\": {\"frequency\": 1, \"value\": 1181.7342025386206}, \"3242.1353997891188\": {\"frequency\": 1, \"value\": 3242.1353997891188}, \"3560.709622676765\": {\"frequency\": 1, \"value\": 3560.709622676765}, \"1788.1791244199837\": {\"frequency\": 1, \"value\": 1788.1791244199837}, \"2120.2319639437533\": {\"frequency\": 1, \"value\": 2120.2319639437533}, \"4671.261053723751\": {\"frequency\": 1, \"value\": 4671.261053723751}, \"1974.9168262884837\": {\"frequency\": 1, \"value\": 1974.9168262884837}, \"3402.194006113227\": {\"frequency\": 1, \"value\": 3402.194006113227}, \"4442.071609767953\": {\"frequency\": 1, \"value\": 4442.071609767953}, \"1040.5497587881353\": {\"frequency\": 1, \"value\": 1040.5497587881353}, \"10650.011508721613\": {\"frequency\": 1, \"value\": 10650.011508721613}, \"1333.6917369113642\": {\"frequency\": 1, \"value\": 1333.6917369113642}, \"1005.5689292891121\": {\"frequency\": 1, \"value\": 1005.5689292891121}, \"1466.1483396762067\": {\"frequency\": 1, \"value\": 1466.1483396762067}, \"1258.0356203703311\": {\"frequency\": 1, \"value\": 1258.0356203703311}, \"5998.444725679445\": {\"frequency\": 1, \"value\": 5998.444725679445}, \"5442.106841628022\": {\"frequency\": 1, \"value\": 5442.106841628022}, \"3251.0360857731753\": {\"frequency\": 1, \"value\": 3251.0360857731753}, \"20742.12011182844\": {\"frequency\": 1, \"value\": 20742.12011182844}, \"19466.98996060563\": {\"frequency\": 1, \"value\": 19466.98996060563}, \"1399.367653349593\": {\"frequency\": 1, \"value\": 1399.367653349593}, \"3067.964579975229\": {\"frequency\": 1, \"value\": 3067.964579975229}, \"2919.5114556212156\": {\"frequency\": 1, \"value\": 2919.5114556212156}, \"13657.492014846903\": {\"frequency\": 1, \"value\": 13657.492014846903}, \"1240.6100046533684\": {\"frequency\": 1, \"value\": 1240.6100046533684}, \"1058.679562568217\": {\"frequency\": 1, \"value\": 1058.679562568217}, \"6356.069813761598\": {\"frequency\": 1, \"value\": 6356.069813761598}, \"1002.3194073138276\": {\"frequency\": 1, \"value\": 1002.3194073138276}, \"2283.0180191191716\": {\"frequency\": 1, \"value\": 2283.0180191191716}, \"1376.9710721126073\": {\"frequency\": 1, \"value\": 1376.9710721126073}, \"1720.8019991793087\": {\"frequency\": 1, \"value\": 1720.8019991793087}, \"1284.6048626234817\": {\"frequency\": 1, \"value\": 1284.6048626234817}, \"3504.911396231335\": {\"frequency\": 1, \"value\": 3504.911396231335}, \"6610.18509267975\": {\"frequency\": 1, \"value\": 6610.18509267975}, \"4413.8354886407\": {\"frequency\": 1, \"value\": 4413.8354886407}, \"21090.349796672086\": {\"frequency\": 1, \"value\": 21090.349796672086}, \"3472.3923625341167\": {\"frequency\": 1, \"value\": 3472.3923625341167}, \"10238.84679518244\": {\"frequency\": 1, \"value\": 10238.84679518244}, \"1149.4830554277728\": {\"frequency\": 1, \"value\": 1149.4830554277728}, \"9353.36245351211\": {\"frequency\": 1, \"value\": 9353.36245351211}, \"22678.562985450462\": {\"frequency\": 1, \"value\": 22678.562985450462}, \"1133.6576166698908\": {\"frequency\": 1, \"value\": 1133.6576166698908}, \"1883.0228528680311\": {\"frequency\": 1, \"value\": 1883.0228528680311}, \"1355.4062340684231\": {\"frequency\": 1, \"value\": 1355.4062340684231}, \"1039.2943386382087\": {\"frequency\": 1, \"value\": 1039.2943386382087}, \"2059.8611400254604\": {\"frequency\": 1, \"value\": 2059.8611400254604}, \"1392.4510796530421\": {\"frequency\": 1, \"value\": 1392.4510796530421}, \"2606.4851701844304\": {\"frequency\": 1, \"value\": 2606.4851701844304}, \"1146.1898515679993\": {\"frequency\": 1, \"value\": 1146.1898515679993}, \"24378.881434671344\": {\"frequency\": 1, \"value\": 24378.881434671344}, \"3292.038892011895\": {\"frequency\": 1, \"value\": 3292.038892011895}, \"2726.1414327446123\": {\"frequency\": 1, \"value\": 2726.1414327446123}, \"3017.4976281706795\": {\"frequency\": 1, \"value\": 3017.4976281706795}, \"5743.128352522121\": {\"frequency\": 1, \"value\": 5743.128352522121}, \"2952.0448019169844\": {\"frequency\": 1, \"value\": 2952.0448019169844}, \"1432.015546231105\": {\"frequency\": 1, \"value\": 1432.015546231105}, \"4184.023127941244\": {\"frequency\": 1, \"value\": 4184.023127941244}, \"1135.3002174086862\": {\"frequency\": 1, \"value\": 1135.3002174086862}, \"1063.2781053127785\": {\"frequency\": 1, \"value\": 1063.2781053127785}, \"2631.868275151947\": {\"frequency\": 1, \"value\": 2631.868275151947}, \"2612.9803239541743\": {\"frequency\": 1, \"value\": 2612.9803239541743}, \"1172.6923120371243\": {\"frequency\": 1, \"value\": 1172.6923120371243}, \"1318.0790322623611\": {\"frequency\": 1, \"value\": 1318.0790322623611}, \"4097.925508963521\": {\"frequency\": 1, \"value\": 4097.925508963521}, \"1326.3860058382338\": {\"frequency\": 1, \"value\": 1326.3860058382338}, \"12421.89795716263\": {\"frequency\": 1, \"value\": 12421.89795716263}, \"1133.8856838419993\": {\"frequency\": 1, \"value\": 1133.8856838419993}, \"3744.9696133870816\": {\"frequency\": 1, \"value\": 3744.9696133870816}, \"60102.645544907326\": {\"frequency\": 1, \"value\": 60102.645544907326}, \"2360.2088794724577\": {\"frequency\": 1, \"value\": 2360.2088794724577}, \"5051.490034316544\": {\"frequency\": 1, \"value\": 5051.490034316544}, \"4197.199021477527\": {\"frequency\": 1, \"value\": 4197.199021477527}, \"2504.11261503933\": {\"frequency\": 1, \"value\": 2504.11261503933}, \"1002.4587168209233\": {\"frequency\": 1, \"value\": 1002.4587168209233}, \"2907.2049856913864\": {\"frequency\": 1, \"value\": 2907.2049856913864}, \"1016.546907634343\": {\"frequency\": 1, \"value\": 1016.546907634343}, \"1088.7890198466057\": {\"frequency\": 1, \"value\": 1088.7890198466057}, \"4805.350884890243\": {\"frequency\": 1, \"value\": 4805.350884890243}, \"1445.908652615002\": {\"frequency\": 1, \"value\": 1445.908652615002}, \"2504.010319829828\": {\"frequency\": 1, \"value\": 2504.010319829828}, \"3352.7021911090146\": {\"frequency\": 1, \"value\": 3352.7021911090146}, \"991.1849744876137\": {\"frequency\": 1, \"value\": 991.1849744876137}, \"2431.869074997344\": {\"frequency\": 1, \"value\": 2431.869074997344}, \"4023.6903293428904\": {\"frequency\": 1, \"value\": 4023.6903293428904}, \"1880.7823847402904\": {\"frequency\": 1, \"value\": 1880.7823847402904}, \"1026.2182334056517\": {\"frequency\": 1, \"value\": 1026.2182334056517}, \"1430.8095441450382\": {\"frequency\": 1, \"value\": 1430.8095441450382}, \"1513.1586672389592\": {\"frequency\": 1, \"value\": 1513.1586672389592}, \"3995.588820234571\": {\"frequency\": 1, \"value\": 3995.588820234571}, \"3804.4335487495773\": {\"frequency\": 1, \"value\": 3804.4335487495773}, \"1200.3105257992029\": {\"frequency\": 1, \"value\": 1200.3105257992029}, \"34109.42697490804\": {\"frequency\": 1, \"value\": 34109.42697490804}, \"7980.449151878083\": {\"frequency\": 1, \"value\": 7980.449151878083}, \"5406.373038078868\": {\"frequency\": 1, \"value\": 5406.373038078868}, \"15393.777230237758\": {\"frequency\": 1, \"value\": 15393.777230237758}, \"1466.8237178189322\": {\"frequency\": 1, \"value\": 1466.8237178189322}, \"1127.5654181943232\": {\"frequency\": 1, \"value\": 1127.5654181943232}, \"3853.0126800918165\": {\"frequency\": 1, \"value\": 3853.0126800918165}, \"12270.29687143035\": {\"frequency\": 1, \"value\": 12270.29687143035}}, \"mean\": 4255.37038694453}, \"selected_variable\": {\"name\": [\"<SArray>\"], \"dtype\": \"float\", \"view_component\": \"Numeric\", \"view_file\": \"sarray\", \"descriptives\": {\"rows\": 1038}, \"type\": \"SArray\", \"view_components\": [\"Numeric\", \"Categorical\"]}, \"histogram\": {\"progress\": 1.0, \"histogram\": {\"max\": 70342.99270643169, \"bins\": [872, 87, 33, 18, 15, 4, 1, 2, 3, 1, 1, 1], \"min\": 46.61660593361012}, \"min\": 989.9386724588934, \"complete\": 1, \"max\": 69183.2669080059}}, e);\n",
       "                });\n",
       "            })();\n",
       "        "
      ]
     },
     "metadata": {},
     "output_type": "display_data"
    }
   ],
   "source": [
    "low_energy['kin_energy_from_vel'].show()"
   ]
  },
  {
   "cell_type": "code",
   "execution_count": null,
   "metadata": {
    "collapsed": false
   },
   "outputs": [],
   "source": []
  },
  {
   "cell_type": "code",
   "execution_count": 48,
   "metadata": {
    "collapsed": false
   },
   "outputs": [],
   "source": [
    "x1 = np.array(sf_energy_deposit['position_x'])\n",
    "y1 = np.array(sf_energy_deposit['position_y'])\n",
    "z1 = np.array(sf_energy_deposit['position_z'])\n",
    "r1 = np.array(sf_energy_deposit['position_r'])\n",
    "en_ev = np.array(sf_energy_deposit['energy_deposit']*1e6) #eV\n",
    "elec_generated = np.array(sf_energy_deposit['num_e_gen'])\n"
   ]
  },
  {
   "cell_type": "code",
   "execution_count": 49,
   "metadata": {
    "collapsed": false
   },
   "outputs": [
    {
     "data": {
      "text/plain": [
       "<matplotlib.text.Text at 0x110e44750>"
      ]
     },
     "execution_count": 49,
     "metadata": {},
     "output_type": "execute_result"
    },
    {
     "data": {
      "image/png": "[encoded data removed]",
      "text/plain": [
       "<matplotlib.figure.Figure at 0x118309950>"
      ]
     },
     "metadata": {},
     "output_type": "display_data"
    }
   ],
   "source": [
    "plt.scatter(r1, z1, s=en_ev, alpha=0.5)\n",
    "plt.title('Distribution of energy deposition in polar coords.')\n",
    "plt.xlabel('Radial distance r (mm)')\n",
    "plt.ylabel('Propagation distance z (mm)')"
   ]
  },
  {
   "cell_type": "markdown",
   "metadata": {},
   "source": [
    "# Defining centers of energy deposition "
   ]
  },
  {
   "cell_type": "code",
   "execution_count": 50,
   "metadata": {
    "collapsed": false
   },
   "outputs": [
    {
     "data": {
      "text/plain": [
       "<matplotlib.text.Text at 0x113a6d350>"
      ]
     },
     "execution_count": 50,
     "metadata": {},
     "output_type": "execute_result"
    },
    {
     "data": {
      "image/png": "[encoded data removed]",
      "text/plain": [
       "<matplotlib.figure.Figure at 0x110da1510>"
      ]
     },
     "metadata": {},
     "output_type": "display_data"
    }
   ],
   "source": [
    "#Defining centers\n",
    "plt.scatter(x1,range(len(x1)))\n",
    "plt.title('x distribution')\n",
    "plt.xlabel('position X (mm)')\n",
    "plt.ylabel('x index - dummy label')"
   ]
  },
  {
   "cell_type": "code",
   "execution_count": 51,
   "metadata": {
    "collapsed": false
   },
   "outputs": [
    {
     "data": {
      "text/plain": [
       "<matplotlib.text.Text at 0x1045e69d0>"
      ]
     },
     "execution_count": 51,
     "metadata": {},
     "output_type": "execute_result"
    },
    {
     "data": {
      "image/png": "[encoded data removed]",
      "text/plain": [
       "<matplotlib.figure.Figure at 0x110e7f7d0>"
      ]
     },
     "metadata": {},
     "output_type": "display_data"
    }
   ],
   "source": [
    "plt.scatter(y1,range(len(y1)))\n",
    "plt.title('y distribution')\n",
    "plt.xlabel('position Y (mm)')\n",
    "plt.ylabel('y index - dummy label')"
   ]
  },
  {
   "cell_type": "code",
   "execution_count": 52,
   "metadata": {
    "collapsed": false
   },
   "outputs": [
    {
     "data": {
      "text/plain": [
       "40"
      ]
     },
     "execution_count": 52,
     "metadata": {},
     "output_type": "execute_result"
    }
   ],
   "source": [
    "len(y1)"
   ]
  },
  {
   "cell_type": "code",
   "execution_count": 53,
   "metadata": {
    "collapsed": false
   },
   "outputs": [],
   "source": [
    "#Grouping energy lost by protons\n",
    "p_resume = sf[sf['particle_name']=='proton'].groupby(key_columns='count_particle',\n",
    "                        operations={'sum_energy_deposit': graphlab.aggregate.SUM('energy_deposit'),\n",
    "                                    'sum_dE':graphlab.aggregate.SUM('dE'),\n",
    "                                       'num_steps':graphlab.aggregate.COUNT()})"
   ]
  },
  {
   "cell_type": "code",
   "execution_count": 54,
   "metadata": {
    "collapsed": false
   },
   "outputs": [
    {
     "data": {
      "application/javascript": [
       "$(\"head\").append($(\"<link/>\").attr({\n",
       "  rel:  \"stylesheet\",\n",
       "  type: \"text/css\",\n",
       "  href: \"//cdnjs.cloudflare.com/ajax/libs/font-awesome/4.1.0/css/font-awesome.min.css\"\n",
       "}));\n",
       "$(\"head\").append($(\"<link/>\").attr({\n",
       "  rel:  \"stylesheet\",\n",
       "  type: \"text/css\",\n",
       "  href: \"https://static.turi.com/products/graphlab-create/2.1/canvas/css/canvas.css\"\n",
       "}));\n",
       "\n",
       "            (function(){\n",
       "\n",
       "                var e = null;\n",
       "                if (typeof element == 'undefined') {\n",
       "                    var scripts = document.getElementsByTagName('script');\n",
       "                    var thisScriptTag = scripts[scripts.length-1];\n",
       "                    var parentDiv = thisScriptTag.parentNode;\n",
       "                    e = document.createElement('div');\n",
       "                    parentDiv.appendChild(e);\n",
       "                } else {\n",
       "                    e = element[0];\n",
       "                }\n",
       "\n",
       "                if (typeof requirejs !== 'undefined') {\n",
       "                    // disable load timeout; ipython_app.js is large and can take a while to load.\n",
       "                    requirejs.config({waitSeconds: 0});\n",
       "                }\n",
       "\n",
       "                require(['https://static.turi.com/products/graphlab-create/2.1/canvas/js/ipython_app.js'], function(IPythonApp){\n",
       "                    var app = new IPythonApp();\n",
       "                    app.attachView('sarray','Numeric', {\"ipython\": true, \"sketch\": {\"std\": 1.1932977877782513e-10, \"complete\": true, \"min\": 1.9941999999999993e-05, \"max\": 1.9951999999999995e-05, \"quantile\": [1.9941999999999993e-05, 1.9949999999999994e-05, 1.9949999999999994e-05, 1.9949999999999994e-05, 1.9949999999999994e-05, 1.9949999999999994e-05, 1.9949999999999994e-05, 1.9949999999999994e-05, 1.9949999999999994e-05, 1.9949999999999994e-05, 1.9949999999999994e-05, 1.9949999999999994e-05, 1.9949999999999994e-05, 1.9949999999999994e-05, 1.9949999999999994e-05, 1.9949999999999994e-05, 1.9949999999999994e-05, 1.9949999999999994e-05, 1.9949999999999994e-05, 1.9949999999999994e-05, 1.9949999999999994e-05, 1.9949999999999994e-05, 1.9949999999999994e-05, 1.9949999999999994e-05, 1.9949999999999994e-05, 1.9949999999999994e-05, 1.9949999999999994e-05, 1.9949999999999994e-05, 1.9949999999999994e-05, 1.9949999999999994e-05, 1.9949999999999994e-05, 1.9949999999999994e-05, 1.9949999999999994e-05, 1.9949999999999994e-05, 1.9949999999999994e-05, 1.9949999999999994e-05, 1.9949999999999994e-05, 1.9949999999999994e-05, 1.9949999999999994e-05, 1.9949999999999994e-05, 1.9949999999999994e-05, 1.9949999999999994e-05, 1.9949999999999994e-05, 1.9949999999999994e-05, 1.9949999999999994e-05, 1.9949999999999994e-05, 1.9949999999999994e-05, 1.9949999999999994e-05, 1.9949999999999994e-05, 1.9949999999999994e-05, 1.9949999999999994e-05, 1.9949999999999994e-05, 1.9949999999999994e-05, 1.9949999999999994e-05, 1.9949999999999994e-05, 1.9949999999999994e-05, 1.9949999999999994e-05, 1.9949999999999994e-05, 1.9949999999999994e-05, 1.9949999999999994e-05, 1.9949999999999994e-05, 1.9949999999999994e-05, 1.9949999999999994e-05, 1.9949999999999994e-05, 1.9949999999999994e-05, 1.9949999999999994e-05, 1.9949999999999994e-05, 1.9949999999999994e-05, 1.9949999999999994e-05, 1.9949999999999994e-05, 1.9949999999999994e-05, 1.9949999999999994e-05, 1.9949999999999994e-05, 1.9949999999999994e-05, 1.9949999999999994e-05, 1.9949999999999994e-05, 1.9949999999999994e-05, 1.9949999999999994e-05, 1.9949999999999994e-05, 1.9949999999999994e-05, 1.9949999999999994e-05, 1.9949999999999994e-05, 1.9949999999999994e-05, 1.9949999999999994e-05, 1.9949999999999994e-05, 1.9949999999999994e-05, 1.9949999999999994e-05, 1.9949999999999994e-05, 1.9949999999999994e-05, 1.9949999999999994e-05, 1.9949999999999994e-05, 1.9949999999999994e-05, 1.9949999999999994e-05, 1.9949999999999994e-05, 1.9949999999999994e-05, 1.9949999999999994e-05, 1.9949999999999994e-05, 1.9949999999999994e-05, 1.9949999999999994e-05, 1.9949999999999994e-05, 1.9951999999999995e-05], \"median\": 1.9949999999999994e-05, \"numeric\": true, \"num_unique\": 126, \"num_undefined\": 0, \"var\": 1.4239596103164685e-20, \"progress\": 1.0, \"size\": 999999, \"frequent_items\": {\"1.9943799999999994e-05\": {\"frequency\": 1, \"value\": 1.9943799999999994e-05}, \"1.9947699999999995e-05\": {\"frequency\": 3, \"value\": 1.9947699999999995e-05}, \"1.9943999999999994e-05\": {\"frequency\": 23, \"value\": 1.9943999999999994e-05}, \"1.9951599999999994e-05\": {\"frequency\": 2, \"value\": 1.9951599999999994e-05}, \"1.9947299999999995e-05\": {\"frequency\": 3, \"value\": 1.9947299999999995e-05}, \"1.9946399999999996e-05\": {\"frequency\": 1, \"value\": 1.9946399999999996e-05}, \"1.9951199999999996e-05\": {\"frequency\": 3, \"value\": 1.9951199999999996e-05}, \"1.9942999999999992e-05\": {\"frequency\": 19, \"value\": 1.9942999999999992e-05}, \"1.9946899999999994e-05\": {\"frequency\": 1, \"value\": 1.9946899999999994e-05}, \"1.9950799999999992e-05\": {\"frequency\": 4, \"value\": 1.9950799999999992e-05}, \"1.995049999999999e-05\": {\"frequency\": 1, \"value\": 1.995049999999999e-05}, \"1.9946499999999993e-05\": {\"frequency\": 1, \"value\": 1.9946499999999993e-05}, \"1.9948999999999995e-05\": {\"frequency\": 18, \"value\": 1.9948999999999995e-05}, \"1.9950399999999995e-05\": {\"frequency\": 1, \"value\": 1.9950399999999995e-05}, \"1.9942199999999993e-05\": {\"frequency\": 1, \"value\": 1.9942199999999993e-05}, \"1.9950299999999994e-05\": {\"frequency\": 1, \"value\": 1.9950299999999994e-05}, \"1.9949999999999997e-05\": {\"frequency\": 7, \"value\": 1.9949999999999997e-05}, \"1.9945699999999994e-05\": {\"frequency\": 2, \"value\": 1.9945699999999994e-05}, \"1.9943399999999993e-05\": {\"frequency\": 2, \"value\": 1.9943399999999993e-05}, \"1.9949599999999996e-05\": {\"frequency\": 1, \"value\": 1.9949599999999996e-05}, \"1.9945299999999994e-05\": {\"frequency\": 1, \"value\": 1.9945299999999994e-05}, \"1.994879999999999e-05\": {\"frequency\": 1, \"value\": 1.994879999999999e-05}, \"1.9949199999999995e-05\": {\"frequency\": 2, \"value\": 1.9949199999999995e-05}, \"1.9943029999999994e-05\": {\"frequency\": 1, \"value\": 1.9943029999999994e-05}, \"1.9942949999999992e-05\": {\"frequency\": 1, \"value\": 1.9942949999999992e-05}, \"1.9944899999999993e-05\": {\"frequency\": 1, \"value\": 1.9944899999999993e-05}, \"1.995029999999999e-05\": {\"frequency\": 1, \"value\": 1.995029999999999e-05}, \"1.9944499999999992e-05\": {\"frequency\": 1, \"value\": 1.9944499999999992e-05}, \"1.9943199999999992e-05\": {\"frequency\": 1, \"value\": 1.9943199999999992e-05}, \"1.9948399999999994e-05\": {\"frequency\": 1, \"value\": 1.9948399999999994e-05}, \"1.9944099999999994e-05\": {\"frequency\": 2, \"value\": 1.9944099999999994e-05}, \"1.9947999999999996e-05\": {\"frequency\": 14, \"value\": 1.9947999999999996e-05}, \"1.9943699999999997e-05\": {\"frequency\": 1, \"value\": 1.9943699999999997e-05}, \"1.9947599999999992e-05\": {\"frequency\": 1, \"value\": 1.9947599999999992e-05}, \"1.9943299999999996e-05\": {\"frequency\": 2, \"value\": 1.9943299999999996e-05}, \"1.9942999999999995e-05\": {\"frequency\": 17, \"value\": 1.9942999999999995e-05}, \"1.994289999999999e-05\": {\"frequency\": 1, \"value\": 1.994289999999999e-05}, \"1.9942899999999995e-05\": {\"frequency\": 2, \"value\": 1.9942899999999995e-05}, \"1.9946799999999993e-05\": {\"frequency\": 2, \"value\": 1.9946799999999993e-05}, \"1.9942499999999994e-05\": {\"frequency\": 1, \"value\": 1.9942499999999994e-05}, \"1.9945599999999994e-05\": {\"frequency\": 1, \"value\": 1.9945599999999994e-05}, \"1.9946399999999993e-05\": {\"frequency\": 1, \"value\": 1.9946399999999993e-05}, \"1.9950299999999998e-05\": {\"frequency\": 1, \"value\": 1.9950299999999998e-05}, \"1.9942099999999993e-05\": {\"frequency\": 2, \"value\": 1.9942099999999993e-05}, \"1.9950999999999996e-05\": {\"frequency\": 13, \"value\": 1.9950999999999996e-05}, \"1.9949899999999993e-05\": {\"frequency\": 1, \"value\": 1.9949899999999993e-05}, \"1.9948199999999996e-05\": {\"frequency\": 1, \"value\": 1.9948199999999996e-05}, \"1.994559999999999e-05\": {\"frequency\": 1, \"value\": 1.994559999999999e-05}, \"1.9949499999999993e-05\": {\"frequency\": 1, \"value\": 1.9949499999999993e-05}, \"1.9951529999999992e-05\": {\"frequency\": 1, \"value\": 1.9951529999999992e-05}, \"1.994269999999999e-05\": {\"frequency\": 1, \"value\": 1.994269999999999e-05}, \"1.9945199999999993e-05\": {\"frequency\": 1, \"value\": 1.9945199999999993e-05}, \"1.9949259999999993e-05\": {\"frequency\": 1, \"value\": 1.9949259999999993e-05}, \"1.994259999999999e-05\": {\"frequency\": 1, \"value\": 1.994259999999999e-05}, \"1.9944799999999996e-05\": {\"frequency\": 1, \"value\": 1.9944799999999996e-05}, \"1.9948779999999993e-05\": {\"frequency\": 1, \"value\": 1.9948779999999993e-05}, \"1.9948699999999994e-05\": {\"frequency\": 1, \"value\": 1.9948699999999994e-05}, \"1.9947999999999993e-05\": {\"frequency\": 17, \"value\": 1.9947999999999993e-05}, \"1.9947799999999992e-05\": {\"frequency\": 1, \"value\": 1.9947799999999992e-05}, \"1.9944399999999995e-05\": {\"frequency\": 1, \"value\": 1.9944399999999995e-05}, \"1.9943399999999996e-05\": {\"frequency\": 1, \"value\": 1.9943399999999996e-05}, \"1.9942799999999995e-05\": {\"frequency\": 1, \"value\": 1.9942799999999995e-05}, \"1.9943999999999997e-05\": {\"frequency\": 3, \"value\": 1.9943999999999997e-05}, \"1.9947899999999996e-05\": {\"frequency\": 1, \"value\": 1.9947899999999996e-05}, \"1.9950599999999995e-05\": {\"frequency\": 2, \"value\": 1.9950599999999995e-05}, \"1.9943599999999997e-05\": {\"frequency\": 1, \"value\": 1.9943599999999997e-05}, \"1.9951399999999997e-05\": {\"frequency\": 1, \"value\": 1.9951399999999997e-05}, \"1.9943699999999993e-05\": {\"frequency\": 2, \"value\": 1.9943699999999993e-05}, \"1.9947099999999994e-05\": {\"frequency\": 1, \"value\": 1.9947099999999994e-05}, \"1.9950699999999992e-05\": {\"frequency\": 1, \"value\": 1.9950699999999992e-05}, \"1.9944999999999996e-05\": {\"frequency\": 11, \"value\": 1.9944999999999996e-05}, \"1.9950999999999992e-05\": {\"frequency\": 23, \"value\": 1.9950999999999992e-05}, \"1.9946699999999997e-05\": {\"frequency\": 1, \"value\": 1.9946699999999997e-05}, \"1.9946619999999994e-05\": {\"frequency\": 1, \"value\": 1.9946619999999994e-05}, \"1.995059999999999e-05\": {\"frequency\": 2, \"value\": 1.995059999999999e-05}, \"1.9947599999999995e-05\": {\"frequency\": 1, \"value\": 1.9947599999999995e-05}, \"1.9941999999999993e-05\": {\"frequency\": 16, \"value\": 1.9941999999999993e-05}, \"1.9944799999999992e-05\": {\"frequency\": 1, \"value\": 1.9944799999999992e-05}, \"1.9949799999999997e-05\": {\"frequency\": 1, \"value\": 1.9949799999999997e-05}, \"1.9945419999999995e-05\": {\"frequency\": 1, \"value\": 1.9945419999999995e-05}, \"1.9941999999999996e-05\": {\"frequency\": 10, \"value\": 1.9941999999999996e-05}, \"1.994599999999999e-05\": {\"frequency\": 25, \"value\": 1.994599999999999e-05}, \"1.994899999999999e-05\": {\"frequency\": 17, \"value\": 1.994899999999999e-05}, \"1.9948839999999994e-05\": {\"frequency\": 1, \"value\": 1.9948839999999994e-05}, \"1.9944699999999996e-05\": {\"frequency\": 2, \"value\": 1.9944699999999996e-05}, \"1.9945999999999995e-05\": {\"frequency\": 34, \"value\": 1.9945999999999995e-05}, \"1.994999999999999e-05\": {\"frequency\": 2, \"value\": 1.994999999999999e-05}, \"1.9948199999999993e-05\": {\"frequency\": 1, \"value\": 1.9948199999999993e-05}, \"1.9943899999999994e-05\": {\"frequency\": 2, \"value\": 1.9943899999999994e-05}, \"1.994787999999999e-05\": {\"frequency\": 1, \"value\": 1.994787999999999e-05}, \"1.9947799999999996e-05\": {\"frequency\": 3, \"value\": 1.9947799999999996e-05}, \"1.9951699999999994e-05\": {\"frequency\": 1, \"value\": 1.9951699999999994e-05}, \"1.9947399999999995e-05\": {\"frequency\": 1, \"value\": 1.9947399999999995e-05}, \"1.9943259999999996e-05\": {\"frequency\": 1, \"value\": 1.9943259999999996e-05}, \"1.9947239999999994e-05\": {\"frequency\": 1, \"value\": 1.9947239999999994e-05}, \"1.9943099999999995e-05\": {\"frequency\": 2, \"value\": 1.9943099999999995e-05}, \"1.9946999999999994e-05\": {\"frequency\": 458, \"value\": 1.9946999999999994e-05}, \"1.9951999999999995e-05\": {\"frequency\": 11, \"value\": 1.9951999999999995e-05}, \"1.995019999999999e-05\": {\"frequency\": 2, \"value\": 1.995019999999999e-05}, \"1.9942699999999995e-05\": {\"frequency\": 1, \"value\": 1.9942699999999995e-05}, \"1.9946999999999997e-05\": {\"frequency\": 85, \"value\": 1.9946999999999997e-05}, \"1.9950499999999995e-05\": {\"frequency\": 1, \"value\": 1.9950499999999995e-05}, \"1.9942299999999994e-05\": {\"frequency\": 1, \"value\": 1.9942299999999994e-05}, \"1.9946499999999996e-05\": {\"frequency\": 1, \"value\": 1.9946499999999996e-05}, \"1.9942139999999993e-05\": {\"frequency\": 1, \"value\": 1.9942139999999993e-05}, \"1.9946199999999992e-05\": {\"frequency\": 1, \"value\": 1.9946199999999992e-05}, \"1.9950099999999994e-05\": {\"frequency\": 3, \"value\": 1.9950099999999994e-05}, \"1.9949599999999993e-05\": {\"frequency\": 2, \"value\": 1.9949599999999993e-05}, \"1.9943499999999993e-05\": {\"frequency\": 1, \"value\": 1.9943499999999993e-05}, \"1.994579999999999e-05\": {\"frequency\": 2, \"value\": 1.994579999999999e-05}, \"1.9949699999999996e-05\": {\"frequency\": 1, \"value\": 1.9949699999999996e-05}, \"1.9950899999999992e-05\": {\"frequency\": 2, \"value\": 1.9950899999999992e-05}, \"1.9951599999999997e-05\": {\"frequency\": 1, \"value\": 1.9951599999999997e-05}, \"1.994734999999999e-05\": {\"frequency\": 1, \"value\": 1.994734999999999e-05}, \"1.994399999999999e-05\": {\"frequency\": 11, \"value\": 1.994399999999999e-05}, \"1.9944999999999993e-05\": {\"frequency\": 18, \"value\": 1.9944999999999993e-05}, \"1.994439999999999e-05\": {\"frequency\": 1, \"value\": 1.994439999999999e-05}, \"1.9948899999999995e-05\": {\"frequency\": 1, \"value\": 1.9948899999999995e-05}, \"1.9949399999999996e-05\": {\"frequency\": 1, \"value\": 1.9949399999999996e-05}, \"1.9949999999999994e-05\": {\"frequency\": 998975, \"value\": 1.9949999999999994e-05}, \"1.9948499999999994e-05\": {\"frequency\": 1, \"value\": 1.9948499999999994e-05}, \"1.994249999999999e-05\": {\"frequency\": 2, \"value\": 1.994249999999999e-05}, \"1.9948099999999993e-05\": {\"frequency\": 2, \"value\": 1.9948099999999993e-05}, \"1.994699999999999e-05\": {\"frequency\": 26, \"value\": 1.994699999999999e-05}, \"1.9950699999999995e-05\": {\"frequency\": 1, \"value\": 1.9950699999999995e-05}, \"1.995199999999999e-05\": {\"frequency\": 11, \"value\": 1.995199999999999e-05}}, \"mean\": 1.9949996806796808e-05}, \"selected_variable\": {\"name\": [\"<SArray>\"], \"dtype\": \"float\", \"view_component\": \"Numeric\", \"view_file\": \"sarray\", \"descriptives\": {\"rows\": 999999}, \"type\": \"SArray\", \"view_components\": [\"Numeric\", \"Categorical\"]}, \"histogram\": {\"progress\": 1.0, \"histogram\": {\"max\": 1.9954388999999993e-05, \"bins\": [0, 31, 59, 52, 98, 580, 53, 49, 999004, 51, 22, 0], \"min\": 1.994002499999999e-05}, \"min\": 1.9941999999999993e-05, \"complete\": 1, \"max\": 1.9951999999999995e-05}}, e);\n",
       "                });\n",
       "            })();\n",
       "        "
      ]
     },
     "metadata": {},
     "output_type": "display_data"
    }
   ],
   "source": [
    "p_resume['sum_dE'].show()"
   ]
  },
  {
   "cell_type": "code",
   "execution_count": 55,
   "metadata": {
    "collapsed": false
   },
   "outputs": [
    {
     "data": {
      "text/plain": [
       "16"
      ]
     },
     "execution_count": 55,
     "metadata": {},
     "output_type": "execute_result"
    }
   ],
   "source": [
    "sf[(sf['process_name']=='hIoni') & (sf['particle_name']=='proton')]['step_number'].max()"
   ]
  },
  {
   "cell_type": "code",
   "execution_count": 56,
   "metadata": {
    "collapsed": false
   },
   "outputs": [],
   "source": [
    "a = sf.groupby(key_columns='count_particle',\n",
    "                        operations={'max_num_steps': graphlab.aggregate.MAX('step_number'),\n",
    "                                    'process':graphlab.aggregate.CONCAT('process_name')\n",
    "                            })"
   ]
  },
  {
   "cell_type": "code",
   "execution_count": 57,
   "metadata": {
    "collapsed": false
   },
   "outputs": [],
   "source": [
    "for i in a:\n",
    "    if i['process'][-1] !=\"Transportation\":\n",
    "        print i['process'][-1]"
   ]
  },
  {
   "cell_type": "code",
   "execution_count": 58,
   "metadata": {
    "collapsed": false
   },
   "outputs": [],
   "source": [
    "hioni = sf[(sf['process_name']=='hIoni')]"
   ]
  },
  {
   "cell_type": "code",
   "execution_count": 59,
   "metadata": {
    "collapsed": false
   },
   "outputs": [
    {
     "data": {
      "text/plain": [
       "<matplotlib.text.Text at 0x113a1f390>"
      ]
     },
     "execution_count": 59,
     "metadata": {},
     "output_type": "execute_result"
    },
    {
     "data": {
      "image/png": "[encoded data removed]",
      "text/plain": [
       "<matplotlib.figure.Figure at 0x113a7ba50>"
      ]
     },
     "metadata": {},
     "output_type": "display_data"
    }
   ],
   "source": [
    "plt.scatter(hioni['position_r'],range(len(hioni['position_r'])))\n",
    "plt.xlim([-0.5,40])\n",
    "plt.title('Radial position of ionization processes')\n",
    "plt.xlabel('r (mm)')\n",
    "plt.ylabel('Ionization index - dummy')"
   ]
  },
  {
   "cell_type": "code",
   "execution_count": 60,
   "metadata": {
    "collapsed": false
   },
   "outputs": [],
   "source": [
    "lista=[]\n",
    "for i in hioni:\n",
    "    lista.append(hioni['count_particle'])\n"
   ]
  },
  {
   "cell_type": "code",
   "execution_count": 61,
   "metadata": {
    "collapsed": false
   },
   "outputs": [],
   "source": [
    "import collections\n",
    "new_hioni = hioni.groupby(key_columns='count_particle',\n",
    "                        operations={\n",
    "                        'count1':graphlab.aggregate.COUNT()\n",
    "    })"
   ]
  },
  {
   "cell_type": "code",
   "execution_count": 62,
   "metadata": {
    "collapsed": false
   },
   "outputs": [
    {
     "name": "stdout",
     "output_type": "stream",
     "text": [
      "[]\n"
     ]
    }
   ],
   "source": [
    "print [item for item, count in collections.Counter(lista).items() if count > 1]"
   ]
  },
  {
   "cell_type": "code",
   "execution_count": 63,
   "metadata": {
    "collapsed": false
   },
   "outputs": [
    {
     "data": {
      "text/html": [
       "<div style=\"max-height:1000px;max-width:1500px;overflow:auto;\"><table frame=\"box\" rules=\"cols\">\n",
       "    <tr>\n",
       "        <th style=\"padding-left: 1em; padding-right: 1em; text-align: center\">count_particle</th>\n",
       "        <th style=\"padding-left: 1em; padding-right: 1em; text-align: center\">count1</th>\n",
       "    </tr>\n",
       "    <tr>\n",
       "        <td style=\"padding-left: 1em; padding-right: 1em; text-align: center; vertical-align: top\">398383</td>\n",
       "        <td style=\"padding-left: 1em; padding-right: 1em; text-align: center; vertical-align: top\">2</td>\n",
       "    </tr>\n",
       "    <tr>\n",
       "        <td style=\"padding-left: 1em; padding-right: 1em; text-align: center; vertical-align: top\">593776</td>\n",
       "        <td style=\"padding-left: 1em; padding-right: 1em; text-align: center; vertical-align: top\">2</td>\n",
       "    </tr>\n",
       "    <tr>\n",
       "        <td style=\"padding-left: 1em; padding-right: 1em; text-align: center; vertical-align: top\">193960</td>\n",
       "        <td style=\"padding-left: 1em; padding-right: 1em; text-align: center; vertical-align: top\">1</td>\n",
       "    </tr>\n",
       "    <tr>\n",
       "        <td style=\"padding-left: 1em; padding-right: 1em; text-align: center; vertical-align: top\">218014</td>\n",
       "        <td style=\"padding-left: 1em; padding-right: 1em; text-align: center; vertical-align: top\">1</td>\n",
       "    </tr>\n",
       "    <tr>\n",
       "        <td style=\"padding-left: 1em; padding-right: 1em; text-align: center; vertical-align: top\">606609</td>\n",
       "        <td style=\"padding-left: 1em; padding-right: 1em; text-align: center; vertical-align: top\">1</td>\n",
       "    </tr>\n",
       "    <tr>\n",
       "        <td style=\"padding-left: 1em; padding-right: 1em; text-align: center; vertical-align: top\">341920</td>\n",
       "        <td style=\"padding-left: 1em; padding-right: 1em; text-align: center; vertical-align: top\">1</td>\n",
       "    </tr>\n",
       "    <tr>\n",
       "        <td style=\"padding-left: 1em; padding-right: 1em; text-align: center; vertical-align: top\">641663</td>\n",
       "        <td style=\"padding-left: 1em; padding-right: 1em; text-align: center; vertical-align: top\">1</td>\n",
       "    </tr>\n",
       "    <tr>\n",
       "        <td style=\"padding-left: 1em; padding-right: 1em; text-align: center; vertical-align: top\">103048</td>\n",
       "        <td style=\"padding-left: 1em; padding-right: 1em; text-align: center; vertical-align: top\">1</td>\n",
       "    </tr>\n",
       "    <tr>\n",
       "        <td style=\"padding-left: 1em; padding-right: 1em; text-align: center; vertical-align: top\">522601</td>\n",
       "        <td style=\"padding-left: 1em; padding-right: 1em; text-align: center; vertical-align: top\">1</td>\n",
       "    </tr>\n",
       "    <tr>\n",
       "        <td style=\"padding-left: 1em; padding-right: 1em; text-align: center; vertical-align: top\">729765</td>\n",
       "        <td style=\"padding-left: 1em; padding-right: 1em; text-align: center; vertical-align: top\">1</td>\n",
       "    </tr>\n",
       "</table>\n",
       "[1048 rows x 2 columns]<br/>Note: Only the head of the SFrame is printed.<br/>You can use print_rows(num_rows=m, num_columns=n) to print more rows and columns.\n",
       "</div>"
      ],
      "text/plain": [
       "Columns:\n",
       "\tcount_particle\tint\n",
       "\tcount1\tint\n",
       "\n",
       "Rows: 1048\n",
       "\n",
       "Data:\n",
       "+----------------+--------+\n",
       "| count_particle | count1 |\n",
       "+----------------+--------+\n",
       "|     398383     |   2    |\n",
       "|     593776     |   2    |\n",
       "|     193960     |   1    |\n",
       "|     218014     |   1    |\n",
       "|     606609     |   1    |\n",
       "|     341920     |   1    |\n",
       "|     641663     |   1    |\n",
       "|     103048     |   1    |\n",
       "|     522601     |   1    |\n",
       "|     729765     |   1    |\n",
       "+----------------+--------+\n",
       "[1048 rows x 2 columns]\n",
       "Note: Only the head of the SFrame is printed.\n",
       "You can use print_rows(num_rows=m, num_columns=n) to print more rows and columns."
      ]
     },
     "execution_count": 63,
     "metadata": {},
     "output_type": "execute_result"
    }
   ],
   "source": [
    "new_hioni.sort('count1',ascending=False) #398383\t2 , 593776\t2"
   ]
  },
  {
   "cell_type": "code",
   "execution_count": 64,
   "metadata": {
    "collapsed": false
   },
   "outputs": [],
   "source": [
    "a=sf[sf['count_particle']==398383]\n",
    "b= sf[sf['count_particle']==593776]"
   ]
  },
  {
   "cell_type": "code",
   "execution_count": 65,
   "metadata": {
    "collapsed": false
   },
   "outputs": [
    {
     "name": "stdout",
     "output_type": "stream",
     "text": [
      "0 initStep 0.0\n",
      "1 Transportation 0.0\n",
      "2 Transportation 0.0\n",
      "3 Transportation 0.0\n",
      "4 Transportation 0.0\n",
      "5 Transportation 0.0\n",
      "6 Transportation 0.0\n",
      "7 Transportation 0.0\n",
      "8 Transportation 0.0\n",
      "9 Transportation 0.0\n",
      "10 Transportation 0.0\n",
      "11 hIoni 0.0\n",
      "12 hIoni 3.60555127546\n",
      "13 Transportation 5.0\n",
      "14 Transportation 7.07106781187\n",
      "15 Transportation 3.16227766017\n",
      "16 Transportation 5.09901951359\n",
      "17 Transportation 6.0827625303\n",
      "18 Transportation 8.24621125124\n",
      "19 Transportation 2.0\n"
     ]
    }
   ],
   "source": [
    "for i in a:\n",
    "    print i['step_number'],i['process_name'],i['position_r']"
   ]
  },
  {
   "cell_type": "code",
   "execution_count": 66,
   "metadata": {
    "collapsed": false
   },
   "outputs": [
    {
     "name": "stdout",
     "output_type": "stream",
     "text": [
      "0 initStep 0.0\n",
      "1 Transportation 0.0\n",
      "2 hIoni 0.0\n",
      "3 Transportation 2.2360679775\n",
      "4 Transportation 2.2360679775\n",
      "5 Transportation 4.472135955\n",
      "6 Transportation 6.7082039325\n",
      "7 Transportation 9.8488578018\n",
      "8 Transportation 5.09901951359\n",
      "9 Transportation 6.0827625303\n",
      "10 Transportation 7.07106781187\n",
      "11 Transportation 8.0622577483\n",
      "12 hIoni 9.05538513814\n",
      "13 Transportation 9.21954445729\n",
      "14 Transportation 3.0\n",
      "15 Transportation 4.0\n",
      "16 Transportation 5.0\n",
      "17 Transportation 6.0\n",
      "18 Transportation 7.0\n",
      "19 Transportation 8.0\n"
     ]
    }
   ],
   "source": [
    "for i in b:\n",
    "    print i['step_number'],i['process_name'],i['position_r']"
   ]
  },
  {
   "cell_type": "markdown",
   "metadata": {
    "collapsed": true
   },
   "source": [
    "# Investigating energy loss - 08.09"
   ]
  },
  {
   "cell_type": "code",
   "execution_count": 67,
   "metadata": {
    "collapsed": false
   },
   "outputs": [
    {
     "data": {
      "text/html": [
       "<pre>Finished parsing file /Users/gabrielfior/data_mpp2/400GeV_15steps_full.csv</pre>"
      ],
      "text/plain": [
       "Finished parsing file /Users/gabrielfior/data_mpp2/400GeV_15steps_full.csv"
      ]
     },
     "metadata": {},
     "output_type": "display_data"
    },
    {
     "data": {
      "text/html": [
       "<pre>Parsing completed. Parsed 100 lines in 3.40625 secs.</pre>"
      ],
      "text/plain": [
       "Parsing completed. Parsed 100 lines in 3.40625 secs."
      ]
     },
     "metadata": {},
     "output_type": "display_data"
    },
    {
     "data": {
      "text/html": [
       "<pre>Read 480146 lines. Lines per second: 102779</pre>"
      ],
      "text/plain": [
       "Read 480146 lines. Lines per second: 102779"
      ]
     },
     "metadata": {},
     "output_type": "display_data"
    },
    {
     "data": {
      "text/html": [
       "<pre>Read 1913574 lines. Lines per second: 165036</pre>"
      ],
      "text/plain": [
       "Read 1913574 lines. Lines per second: 165036"
      ]
     },
     "metadata": {},
     "output_type": "display_data"
    },
    {
     "data": {
      "text/html": [
       "<pre>Read 3335291 lines. Lines per second: 176581</pre>"
      ],
      "text/plain": [
       "Read 3335291 lines. Lines per second: 176581"
      ]
     },
     "metadata": {},
     "output_type": "display_data"
    },
    {
     "data": {
      "text/html": [
       "<pre>Read 4283288 lines. Lines per second: 178470</pre>"
      ],
      "text/plain": [
       "Read 4283288 lines. Lines per second: 178470"
      ]
     },
     "metadata": {},
     "output_type": "display_data"
    },
    {
     "data": {
      "text/html": [
       "<pre>Read 5231389 lines. Lines per second: 170920</pre>"
      ],
      "text/plain": [
       "Read 5231389 lines. Lines per second: 170920"
      ]
     },
     "metadata": {},
     "output_type": "display_data"
    },
    {
     "data": {
      "text/html": [
       "<pre>Read 6178682 lines. Lines per second: 166187</pre>"
      ],
      "text/plain": [
       "Read 6178682 lines. Lines per second: 166187"
      ]
     },
     "metadata": {},
     "output_type": "display_data"
    },
    {
     "data": {
      "text/html": [
       "<pre>Read 7126038 lines. Lines per second: 168463</pre>"
      ],
      "text/plain": [
       "Read 7126038 lines. Lines per second: 168463"
      ]
     },
     "metadata": {},
     "output_type": "display_data"
    },
    {
     "data": {
      "text/html": [
       "<pre>Read 8072932 lines. Lines per second: 169661</pre>"
      ],
      "text/plain": [
       "Read 8072932 lines. Lines per second: 169661"
      ]
     },
     "metadata": {},
     "output_type": "display_data"
    },
    {
     "data": {
      "text/html": [
       "<pre>Read 9494299 lines. Lines per second: 172516</pre>"
      ],
      "text/plain": [
       "Read 9494299 lines. Lines per second: 172516"
      ]
     },
     "metadata": {},
     "output_type": "display_data"
    },
    {
     "data": {
      "text/html": [
       "<pre>Read 10915217 lines. Lines per second: 177004</pre>"
      ],
      "text/plain": [
       "Read 10915217 lines. Lines per second: 177004"
      ]
     },
     "metadata": {},
     "output_type": "display_data"
    },
    {
     "data": {
      "text/html": [
       "<pre>Read 12335863 lines. Lines per second: 182514</pre>"
      ],
      "text/plain": [
       "Read 12335863 lines. Lines per second: 182514"
      ]
     },
     "metadata": {},
     "output_type": "display_data"
    },
    {
     "data": {
      "text/html": [
       "<pre>Read 13757638 lines. Lines per second: 185070</pre>"
      ],
      "text/plain": [
       "Read 13757638 lines. Lines per second: 185070"
      ]
     },
     "metadata": {},
     "output_type": "display_data"
    },
    {
     "data": {
      "text/html": [
       "<pre>Read 15178442 lines. Lines per second: 189747</pre>"
      ],
      "text/plain": [
       "Read 15178442 lines. Lines per second: 189747"
      ]
     },
     "metadata": {},
     "output_type": "display_data"
    },
    {
     "data": {
      "text/html": [
       "<pre>Read 16599796 lines. Lines per second: 195175</pre>"
      ],
      "text/plain": [
       "Read 16599796 lines. Lines per second: 195175"
      ]
     },
     "metadata": {},
     "output_type": "display_data"
    },
    {
     "data": {
      "text/html": [
       "<pre>Finished parsing file /Users/gabrielfior/data_mpp2/400GeV_15steps_full.csv</pre>"
      ],
      "text/plain": [
       "Finished parsing file /Users/gabrielfior/data_mpp2/400GeV_15steps_full.csv"
      ]
     },
     "metadata": {},
     "output_type": "display_data"
    },
    {
     "data": {
      "text/html": [
       "<pre>Parsing completed. Parsed 18004185 lines in 89.0903 secs.</pre>"
      ],
      "text/plain": [
       "Parsing completed. Parsed 18004185 lines in 89.0903 secs."
      ]
     },
     "metadata": {},
     "output_type": "display_data"
    },
    {
     "name": "stdout",
     "output_type": "stream",
     "text": [
      "------------------------------------------------------\n",
      "Inferred types from first 100 line(s) of file as \n",
      "column_type_hints=[str,str,int,int,int,int,float,str,int,int,int,int,int,int,int,float,int,int,int,float,int]\n",
      "If parsing fails due to incorrect types, you can correct\n",
      "the inferred type list above and pass it to read_csv in\n",
      "the column_type_hints argument\n",
      "------------------------------------------------------\n"
     ]
    }
   ],
   "source": [
    "#Load csv again\n",
    "sf = graphlab.SFrame.read_csv(full_csv_path) "
   ]
  },
  {
   "cell_type": "code",
   "execution_count": 68,
   "metadata": {
    "collapsed": false
   },
   "outputs": [
    {
     "data": {
      "text/plain": [
       "dtype: int\n",
       "Rows: 1050\n",
       "[284571, 15383, 686195, 960238, 737639, 717293, 827577, 521295, 886399, 507696, 185593, 753860, 272076, 384450, 757686, 72349, 315595, 595581, 95223, 232317, 291882, 166199, 110635, 590412, 617735, 472900, 885518, 193171, 769460, 854883, 628758, 590349, 791490, 867542, 623890, 330794, 308083, 395758, 446801, 754416, 585808, 866464, 475680, 527581, 968474, 901011, 404699, 383820, 237296, 564768, 976281, 564330, 484977, 975440, 973834, 873362, 790665, 643036, 858728, 608243, 679003, 685187, 835148, 395762, 883843, 719941, 387153, 802377, 83344, 855075, 554086, 922156, 428314, 746037, 970425, 419205, 873923, 283758, 815410, 998234, 736807, 94556, 658041, 998349, 259258, 460929, 843529, 6911, 232523, 891676, 946782, 338279, 135625, 227742, 21343, 314126, 313745, 315142, 460198, 435397, ... ]"
      ]
     },
     "execution_count": 68,
     "metadata": {},
     "output_type": "execute_result"
    }
   ],
   "source": [
    "el_resume['count_particle']"
   ]
  },
  {
   "cell_type": "code",
   "execution_count": 69,
   "metadata": {
    "collapsed": false
   },
   "outputs": [
    {
     "data": {
      "text/html": [
       "<div style=\"max-height:1000px;max-width:1500px;overflow:auto;\"><table frame=\"box\" rules=\"cols\">\n",
       "    <tr>\n",
       "        <th style=\"padding-left: 1em; padding-right: 1em; text-align: center\">process_name</th>\n",
       "        <th style=\"padding-left: 1em; padding-right: 1em; text-align: center\">next_vol</th>\n",
       "        <th style=\"padding-left: 1em; padding-right: 1em; text-align: center\">mom_x</th>\n",
       "        <th style=\"padding-left: 1em; padding-right: 1em; text-align: center\">mom_dir_z</th>\n",
       "        <th style=\"padding-left: 1em; padding-right: 1em; text-align: center\">mom_dir_y</th>\n",
       "        <th style=\"padding-left: 1em; padding-right: 1em; text-align: center\">step_number</th>\n",
       "        <th style=\"padding-left: 1em; padding-right: 1em; text-align: center\">dE</th>\n",
       "        <th style=\"padding-left: 1em; padding-right: 1em; text-align: center\">particle_name</th>\n",
       "        <th style=\"padding-left: 1em; padding-right: 1em; text-align: center\">mom_dir_x</th>\n",
       "        <th style=\"padding-left: 1em; padding-right: 1em; text-align: center\">count_particle</th>\n",
       "    </tr>\n",
       "    <tr>\n",
       "        <td style=\"padding-left: 1em; padding-right: 1em; text-align: center; vertical-align: top\">hIoni</td>\n",
       "        <td style=\"padding-left: 1em; padding-right: 1em; text-align: center; vertical-align: top\">Abso</td>\n",
       "        <td style=\"padding-left: 1em; padding-right: 1em; text-align: center; vertical-align: top\">0</td>\n",
       "        <td style=\"padding-left: 1em; padding-right: 1em; text-align: center; vertical-align: top\">1</td>\n",
       "        <td style=\"padding-left: 1em; padding-right: 1em; text-align: center; vertical-align: top\">-1</td>\n",
       "        <td style=\"padding-left: 1em; padding-right: 1em; text-align: center; vertical-align: top\">10</td>\n",
       "        <td style=\"padding-left: 1em; padding-right: 1em; text-align: center; vertical-align: top\">4.14e-07</td>\n",
       "        <td style=\"padding-left: 1em; padding-right: 1em; text-align: center; vertical-align: top\">proton</td>\n",
       "        <td style=\"padding-left: 1em; padding-right: 1em; text-align: center; vertical-align: top\">-8</td>\n",
       "        <td style=\"padding-left: 1em; padding-right: 1em; text-align: center; vertical-align: top\">658040</td>\n",
       "    </tr>\n",
       "</table>\n",
       "<table frame=\"box\" rules=\"cols\">\n",
       "    <tr>\n",
       "        <th style=\"padding-left: 1em; padding-right: 1em; text-align: center\">parent_id</th>\n",
       "        <th style=\"padding-left: 1em; padding-right: 1em; text-align: center\">position_z</th>\n",
       "        <th style=\"padding-left: 1em; padding-right: 1em; text-align: center\">total_energy</th>\n",
       "        <th style=\"padding-left: 1em; padding-right: 1em; text-align: center\">position_x</th>\n",
       "        <th style=\"padding-left: 1em; padding-right: 1em; text-align: center\">position_y</th>\n",
       "        <th style=\"padding-left: 1em; padding-right: 1em; text-align: center\">velocity</th>\n",
       "        <th style=\"padding-left: 1em; padding-right: 1em; text-align: center\">kinetic_energy</th>\n",
       "        <th style=\"padding-left: 1em; padding-right: 1em; text-align: center\">track_id</th>\n",
       "        <th style=\"padding-left: 1em; padding-right: 1em; text-align: center\">mom_y</th>\n",
       "    </tr>\n",
       "    <tr>\n",
       "        <td style=\"padding-left: 1em; padding-right: 1em; text-align: center; vertical-align: top\">0</td>\n",
       "        <td style=\"padding-left: 1em; padding-right: 1em; text-align: center; vertical-align: top\">81</td>\n",
       "        <td style=\"padding-left: 1em; padding-right: 1em; text-align: center; vertical-align: top\">400938</td>\n",
       "        <td style=\"padding-left: 1em; padding-right: 1em; text-align: center; vertical-align: top\">0</td>\n",
       "        <td style=\"padding-left: 1em; padding-right: 1em; text-align: center; vertical-align: top\">0</td>\n",
       "        <td style=\"padding-left: 1em; padding-right: 1em; text-align: center; vertical-align: top\">299.792</td>\n",
       "        <td style=\"padding-left: 1em; padding-right: 1em; text-align: center; vertical-align: top\">400000</td>\n",
       "        <td style=\"padding-left: 1em; padding-right: 1em; text-align: center; vertical-align: top\">1</td>\n",
       "        <td style=\"padding-left: 1em; padding-right: 1em; text-align: center; vertical-align: top\">0</td>\n",
       "    </tr>\n",
       "</table>\n",
       "<table frame=\"box\" rules=\"cols\">\n",
       "    <tr>\n",
       "        <th style=\"padding-left: 1em; padding-right: 1em; text-align: center\">energy_deposit</th>\n",
       "        <th style=\"padding-left: 1em; padding-right: 1em; text-align: center\">mom_z</th>\n",
       "    </tr>\n",
       "    <tr>\n",
       "        <td style=\"padding-left: 1em; padding-right: 1em; text-align: center; vertical-align: top\">9.12591e-07</td>\n",
       "        <td style=\"padding-left: 1em; padding-right: 1em; text-align: center; vertical-align: top\">400937</td>\n",
       "    </tr>\n",
       "</table>\n",
       "[? rows x 21 columns]<br/>Note: Only the head of the SFrame is printed. This SFrame is lazily evaluated.<br/>You can use sf.materialize() to force materialization.\n",
       "</div>"
      ],
      "text/plain": [
       "Columns:\n",
       "\tprocess_name\tstr\n",
       "\tnext_vol\tstr\n",
       "\tmom_x\tint\n",
       "\tmom_dir_z\tint\n",
       "\tmom_dir_y\tint\n",
       "\tstep_number\tint\n",
       "\tdE\tfloat\n",
       "\tparticle_name\tstr\n",
       "\tmom_dir_x\tint\n",
       "\tcount_particle\tint\n",
       "\tparent_id\tint\n",
       "\tposition_z\tint\n",
       "\ttotal_energy\tint\n",
       "\tposition_x\tint\n",
       "\tposition_y\tint\n",
       "\tvelocity\tfloat\n",
       "\tkinetic_energy\tint\n",
       "\ttrack_id\tint\n",
       "\tmom_y\tint\n",
       "\tenergy_deposit\tfloat\n",
       "\tmom_z\tint\n",
       "\n",
       "Rows: Unknown\n",
       "\n",
       "Data:\n",
       "+--------------+----------+-------+-----------+-----------+-------------+\n",
       "| process_name | next_vol | mom_x | mom_dir_z | mom_dir_y | step_number |\n",
       "+--------------+----------+-------+-----------+-----------+-------------+\n",
       "|    hIoni     |   Abso   |   0   |     1     |     -1    |      10     |\n",
       "+--------------+----------+-------+-----------+-----------+-------------+\n",
       "+----------+---------------+-----------+----------------+-----------+------------+\n",
       "|    dE    | particle_name | mom_dir_x | count_particle | parent_id | position_z |\n",
       "+----------+---------------+-----------+----------------+-----------+------------+\n",
       "| 4.14e-07 |     proton    |     -8    |     658040     |     0     |     81     |\n",
       "+----------+---------------+-----------+----------------+-----------+------------+\n",
       "+--------------+------------+------------+----------+----------------+----------+\n",
       "| total_energy | position_x | position_y | velocity | kinetic_energy | track_id |\n",
       "+--------------+------------+------------+----------+----------------+----------+\n",
       "|    400938    |     0      |     0      | 299.792  |     400000     |    1     |\n",
       "+--------------+------------+------------+----------+----------------+----------+\n",
       "+-------+----------------+-----+\n",
       "| mom_y | energy_deposit | ... |\n",
       "+-------+----------------+-----+\n",
       "|   0   |  9.12591e-07   | ... |\n",
       "+-------+----------------+-----+\n",
       "[? rows x 21 columns]\n",
       "Note: Only the head of the SFrame is printed. This SFrame is lazily evaluated.\n",
       "You can use sf.materialize() to force materialization."
      ]
     },
     "execution_count": 69,
     "metadata": {},
     "output_type": "execute_result"
    }
   ],
   "source": [
    "sf[(sf['count_particle']==658040) & (sf['process_name']=='hIoni')]"
   ]
  },
  {
   "cell_type": "code",
   "execution_count": 70,
   "metadata": {
    "collapsed": false
   },
   "outputs": [
    {
     "data": {
      "text/plain": [
       "3901.4179705567408"
      ]
     },
     "execution_count": 70,
     "metadata": {},
     "output_type": "execute_result"
    }
   ],
   "source": [
    "get_kinetic_energy_from_vel(sf[(sf['count_particle']==658041)][0])*1.0e6"
   ]
  },
  {
   "cell_type": "code",
   "execution_count": 71,
   "metadata": {
    "collapsed": false
   },
   "outputs": [
    {
     "data": {
      "text/html": [
       "<div style=\"max-height:1000px;max-width:1500px;overflow:auto;\"><table frame=\"box\" rules=\"cols\">\n",
       "    <tr>\n",
       "        <th style=\"padding-left: 1em; padding-right: 1em; text-align: center\">process_name</th>\n",
       "        <th style=\"padding-left: 1em; padding-right: 1em; text-align: center\">next_vol</th>\n",
       "        <th style=\"padding-left: 1em; padding-right: 1em; text-align: center\">mom_x</th>\n",
       "        <th style=\"padding-left: 1em; padding-right: 1em; text-align: center\">mom_dir_z</th>\n",
       "        <th style=\"padding-left: 1em; padding-right: 1em; text-align: center\">mom_dir_y</th>\n",
       "        <th style=\"padding-left: 1em; padding-right: 1em; text-align: center\">step_number</th>\n",
       "        <th style=\"padding-left: 1em; padding-right: 1em; text-align: center\">dE</th>\n",
       "        <th style=\"padding-left: 1em; padding-right: 1em; text-align: center\">particle_name</th>\n",
       "        <th style=\"padding-left: 1em; padding-right: 1em; text-align: center\">mom_dir_x</th>\n",
       "    </tr>\n",
       "</table>\n",
       "<table frame=\"box\" rules=\"cols\">\n",
       "    <tr>\n",
       "        <th style=\"padding-left: 1em; padding-right: 1em; text-align: center\">count_particle</th>\n",
       "        <th style=\"padding-left: 1em; padding-right: 1em; text-align: center\">parent_id</th>\n",
       "        <th style=\"padding-left: 1em; padding-right: 1em; text-align: center\">position_z</th>\n",
       "        <th style=\"padding-left: 1em; padding-right: 1em; text-align: center\">total_energy</th>\n",
       "        <th style=\"padding-left: 1em; padding-right: 1em; text-align: center\">position_x</th>\n",
       "        <th style=\"padding-left: 1em; padding-right: 1em; text-align: center\">position_y</th>\n",
       "        <th style=\"padding-left: 1em; padding-right: 1em; text-align: center\">velocity</th>\n",
       "    </tr>\n",
       "</table>\n",
       "<table frame=\"box\" rules=\"cols\">\n",
       "    <tr>\n",
       "        <th style=\"padding-left: 1em; padding-right: 1em; text-align: center\">kinetic_energy</th>\n",
       "        <th style=\"padding-left: 1em; padding-right: 1em; text-align: center\">track_id</th>\n",
       "        <th style=\"padding-left: 1em; padding-right: 1em; text-align: center\">mom_y</th>\n",
       "        <th style=\"padding-left: 1em; padding-right: 1em; text-align: center\">energy_deposit</th>\n",
       "        <th style=\"padding-left: 1em; padding-right: 1em; text-align: center\">mom_z</th>\n",
       "    </tr>\n",
       "</table>\n",
       "[? rows x 21 columns]<br/>Note: Only the head of the SFrame is printed. This SFrame is lazily evaluated.<br/>You can use sf.materialize() to force materialization.\n",
       "</div>"
      ],
      "text/plain": [
       "Columns:\n",
       "\tprocess_name\tstr\n",
       "\tnext_vol\tstr\n",
       "\tmom_x\tint\n",
       "\tmom_dir_z\tint\n",
       "\tmom_dir_y\tint\n",
       "\tstep_number\tint\n",
       "\tdE\tfloat\n",
       "\tparticle_name\tstr\n",
       "\tmom_dir_x\tint\n",
       "\tcount_particle\tint\n",
       "\tparent_id\tint\n",
       "\tposition_z\tint\n",
       "\ttotal_energy\tint\n",
       "\tposition_x\tint\n",
       "\tposition_y\tint\n",
       "\tvelocity\tfloat\n",
       "\tkinetic_energy\tint\n",
       "\ttrack_id\tint\n",
       "\tmom_y\tint\n",
       "\tenergy_deposit\tfloat\n",
       "\tmom_z\tint\n",
       "\n",
       "Rows: Unknown\n",
       "\n",
       "Data:\n",
       "\t[]"
      ]
     },
     "execution_count": 71,
     "metadata": {},
     "output_type": "execute_result"
    }
   ],
   "source": [
    "sf[sf['count_particle']==0]"
   ]
  },
  {
   "cell_type": "code",
   "execution_count": 78,
   "metadata": {
    "collapsed": false
   },
   "outputs": [
    {
     "data": {
      "text/plain": [
       "<bound method SFrame.head of Columns:\n",
       "\tcount_particle\tint\n",
       "\tsum_dE\tfloat\n",
       "\tsum_energy_deposit\tfloat\n",
       "\tnum_steps\tint\n",
       "\n",
       "Rows: 999999\n",
       "\n",
       "Data:\n",
       "+----------------+-----------+--------------------+-----------+\n",
       "| count_particle |   sum_dE  | sum_energy_deposit | num_steps |\n",
       "+----------------+-----------+--------------------+-----------+\n",
       "|     368497     | 1.995e-05 |    1.99044e-05     |     18    |\n",
       "|     846413     | 1.995e-05 |    1.99044e-05     |     18    |\n",
       "|     251434     | 1.995e-05 |    1.99044e-05     |     18    |\n",
       "|     504649     | 1.995e-05 |    1.99044e-05     |     18    |\n",
       "|     765931     | 1.995e-05 |    1.99044e-05     |     18    |\n",
       "|     588617     | 1.995e-05 |    1.99044e-05     |     18    |\n",
       "|     879592     | 1.995e-05 |    1.99044e-05     |     18    |\n",
       "|     211023     | 1.995e-05 |    1.99044e-05     |     18    |\n",
       "|     439655     | 1.995e-05 |    1.99044e-05     |     18    |\n",
       "|     893826     | 1.995e-05 |    1.99044e-05     |     18    |\n",
       "+----------------+-----------+--------------------+-----------+\n",
       "[999999 rows x 4 columns]\n",
       "Note: Only the head of the SFrame is printed.\n",
       "You can use print_rows(num_rows=m, num_columns=n) to print more rows and columns.>"
      ]
     },
     "execution_count": 78,
     "metadata": {},
     "output_type": "execute_result"
    }
   ],
   "source": [
    "protons_resume.head"
   ]
  },
  {
   "cell_type": "code",
   "execution_count": 79,
   "metadata": {
    "collapsed": false
   },
   "outputs": [
    {
     "data": {
      "text/plain": [
       "<bound method SFrame.num_rows of Columns:\n",
       "\tprocess_name\tstr\n",
       "\tnext_vol\tstr\n",
       "\tmom_x\tint\n",
       "\tmom_dir_z\tint\n",
       "\tmom_dir_y\tint\n",
       "\tstep_number\tint\n",
       "\tdE\tfloat\n",
       "\tparticle_name\tstr\n",
       "\tmom_dir_x\tint\n",
       "\tcount_particle\tint\n",
       "\tparent_id\tint\n",
       "\tposition_z\tint\n",
       "\ttotal_energy\tint\n",
       "\tposition_x\tint\n",
       "\tposition_y\tint\n",
       "\tvelocity\tfloat\n",
       "\tkinetic_energy\tint\n",
       "\ttrack_id\tint\n",
       "\tmom_y\tint\n",
       "\tenergy_deposit\tfloat\n",
       "\tmom_z\tint\n",
       "\n",
       "Rows: 18004185\n",
       "\n",
       "Data:\n",
       "+----------------+----------+-------+-----------+-----------+-------------+\n",
       "|  process_name  | next_vol | mom_x | mom_dir_z | mom_dir_y | step_number |\n",
       "+----------------+----------+-------+-----------+-----------+-------------+\n",
       "|    initStep    |  World   |   0   |     1     |     0     |      0      |\n",
       "| Transportation |   Abso   |   0   |     1     |     0     |      1      |\n",
       "| Transportation |   Abso   |   0   |     1     |     0     |      2      |\n",
       "| Transportation |   Abso   |   0   |     1     |     0     |      3      |\n",
       "| Transportation |   Abso   |   0   |     1     |     0     |      4      |\n",
       "| Transportation |   Abso   |   0   |     1     |     0     |      5      |\n",
       "| Transportation |   Abso   |   0   |     1     |     0     |      6      |\n",
       "| Transportation |   Abso   |   0   |     1     |     0     |      7      |\n",
       "| Transportation |   Abso   |   0   |     1     |     0     |      8      |\n",
       "| Transportation |   Abso   |   0   |     1     |     0     |      9      |\n",
       "+----------------+----------+-------+-----------+-----------+-------------+\n",
       "+----------+---------------+-----------+----------------+-----------+------------+\n",
       "|    dE    | particle_name | mom_dir_x | count_particle | parent_id | position_z |\n",
       "+----------+---------------+-----------+----------------+-----------+------------+\n",
       "|   0.0    |     proton    |     0     |       1        |     0     |    -900    |\n",
       "| 5.92e-24 |     proton    |     0     |       1        |     0     |    -750    |\n",
       "| 1.33e-06 |     proton    |     0     |       1        |     0     |    -650    |\n",
       "| 1.33e-06 |     proton    |     0     |       1        |     0     |    -550    |\n",
       "| 1.33e-06 |     proton    |     0     |       1        |     0     |    -450    |\n",
       "| 1.33e-06 |     proton    |     0     |       1        |     0     |    -350    |\n",
       "| 1.33e-06 |     proton    |     0     |       1        |     0     |    -250    |\n",
       "| 1.33e-06 |     proton    |     0     |       1        |     0     |    -150    |\n",
       "| 1.33e-06 |     proton    |     0     |       1        |     0     |    -50     |\n",
       "| 1.33e-06 |     proton    |     0     |       1        |     0     |     50     |\n",
       "+----------+---------------+-----------+----------------+-----------+------------+\n",
       "+--------------+------------+------------+----------+----------------+----------+\n",
       "| total_energy | position_x | position_y | velocity | kinetic_energy | track_id |\n",
       "+--------------+------------+------------+----------+----------------+----------+\n",
       "|    400938    |     0      |     0      | 299.792  |     400000     |    1     |\n",
       "|    400938    |     0      |     0      | 299.792  |     400000     |    1     |\n",
       "|    400938    |     0      |     0      | 299.792  |     400000     |    1     |\n",
       "|    400938    |     0      |     0      | 299.792  |     400000     |    1     |\n",
       "|    400938    |     0      |     0      | 299.792  |     400000     |    1     |\n",
       "|    400938    |     0      |     0      | 299.792  |     400000     |    1     |\n",
       "|    400938    |     0      |     0      | 299.792  |     400000     |    1     |\n",
       "|    400938    |     0      |     0      | 299.792  |     400000     |    1     |\n",
       "|    400938    |     0      |     0      | 299.792  |     400000     |    1     |\n",
       "|    400938    |     0      |     0      | 299.792  |     400000     |    1     |\n",
       "+--------------+------------+------------+----------+----------------+----------+\n",
       "+-------+----------------+-----+\n",
       "| mom_y | energy_deposit | ... |\n",
       "+-------+----------------+-----+\n",
       "|   0   |  5.92027e-24   | ... |\n",
       "|   0   |  1.32696e-06   | ... |\n",
       "|   0   |  1.32696e-06   | ... |\n",
       "|   0   |  1.32696e-06   | ... |\n",
       "|   0   |  1.32696e-06   | ... |\n",
       "|   0   |  1.32696e-06   | ... |\n",
       "|   0   |  1.32696e-06   | ... |\n",
       "|   0   |  1.32696e-06   | ... |\n",
       "|   0   |  1.32696e-06   | ... |\n",
       "|   0   |  1.32696e-06   | ... |\n",
       "+-------+----------------+-----+\n",
       "[18004185 rows x 21 columns]\n",
       "Note: Only the head of the SFrame is printed.\n",
       "You can use print_rows(num_rows=m, num_columns=n) to print more rows and columns.>"
      ]
     },
     "execution_count": 79,
     "metadata": {},
     "output_type": "execute_result"
    }
   ],
   "source": [
    "sf"
   ]
  },
  {
   "cell_type": "code",
   "execution_count": 80,
   "metadata": {
    "collapsed": true
   },
   "outputs": [],
   "source": [
    "sf['position_r'] = sf.apply(get_radial_value)"
   ]
  },
  {
   "cell_type": "code",
   "execution_count": 83,
   "metadata": {
    "collapsed": true
   },
   "outputs": [],
   "source": [
    "sf_resumed = sf['energy_deposit','position_r']"
   ]
  },
  {
   "cell_type": "code",
   "execution_count": null,
   "metadata": {
    "collapsed": true
   },
   "outputs": [],
   "source": [
    "sf_resumed.showw()"
   ]
  }
 ],
 "metadata": {
  "kernelspec": {
   "display_name": "Python 2",
   "language": "python",
   "name": "python2"
  },
  "language_info": {
   "codemirror_mode": {
    "name": "ipython",
    "version": 2
   },
   "file_extension": ".py",
   "mimetype": "text/x-python",
   "name": "python",
   "nbconvert_exporter": "python",
   "pygments_lexer": "ipython2",
   "version": "2.7.12"
  }
 },
 "nbformat": 4,
 "nbformat_minor": 0
}
