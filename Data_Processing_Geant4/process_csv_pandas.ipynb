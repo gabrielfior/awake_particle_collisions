{
 "cells": [
  {
   "cell_type": "code",
   "execution_count": 1,
   "metadata": {
    "collapsed": false
   },
   "outputs": [
    {
     "name": "stderr",
     "output_type": "stream",
     "text": [
      "/Users/gabrielfior/anaconda/lib/python2.7/site-packages/matplotlib/font_manager.py:273: UserWarning: Matplotlib is building the font cache using fc-list. This may take a moment.\n",
      "  warnings.warn('Matplotlib is building the font cache using fc-list. This may take a moment.')\n"
     ]
    }
   ],
   "source": [
    "import pandas as pd\n",
    "import datetime\n",
    "import numpy as np\n",
    "import seaborn as sns\n",
    "from scipy.special import erf\n",
    "import matplotlib.pyplot as plt"
   ]
  },
  {
   "cell_type": "code",
   "execution_count": null,
   "metadata": {
    "collapsed": false
   },
   "outputs": [],
   "source": [
    "print 'reading...'\n",
    "t0 = datetime.datetime.now()\n",
    "filename = '10000cm_1e6_400GeV_Rb10minus7_beam_cut1_5mm_nt_B4_g.csv'\n",
    "#filename = '1cm_1e6_400GeV_Rb10minus4_beam_cut1_5mm_nt_B4_g.csv'\n",
    "columns_new2 =['trackId','parentId','volumeName','particleName','stepNumber',\n",
    "                                                   'posX','posY','posZ','perp','kineeticEnergyDiff',\n",
    "                                                   'edepStep','kineticEnergyPostStep','processName',\n",
    "                                    'mompreX','mompreY','mompreZ','momposX','momposY','momposZ',\n",
    "                  'stepLength','totalEnergyDeposit']#,'particleId'] \n",
    "filename2 = '/Volumes/UNTITLED/beam/long_10minus7_thesis2/10000cm_1e6_400GeV_Rb10minus7_beam_cut1_5mm_nt_B4_g.csv'\n",
    "df = pd.read_csv(filename2,skiprows=25,header=None,names=columns_new2)#,nrows=10000)\n",
    "\n",
    "print 'elapsed: '+str(datetime.datetime.now()-t0)\n",
    "print 'shape: '+str(df.shape)"
   ]
  },
  {
   "cell_type": "code",
   "execution_count": null,
   "metadata": {
    "collapsed": false
   },
   "outputs": [],
   "source": [
    "df.head()"
   ]
  },
  {
   "cell_type": "code",
   "execution_count": null,
   "metadata": {
    "collapsed": true
   },
   "outputs": [],
   "source": []
  },
  {
   "cell_type": "code",
   "execution_count": null,
   "metadata": {
    "collapsed": false,
    "scrolled": true
   },
   "outputs": [],
   "source": [
    "# Case with particle ID in dataset\n",
    "print 'reading...'\n",
    "t0 = datetime.datetime.now()\n",
    "columns_new2 =['trackId','parentId','volumeName','particleName','stepNumber',\n",
    "                                                   'posX','posY','posZ','perp','kineeticEnergyDiff',\n",
    "                                                   'edepStep','kineticEnergyPostStep','processName',\n",
    "                                    'mompreX','mompreY','mompreZ','momposX','momposY','momposZ',\n",
    "                  'stepLength','particleId'] \n",
    "df = pd.read_csv('/Volumes/UNTITLED/beam/10minus4/merged10minus4.csv',\n",
    "header=None,names=columns_new2)#,nrows=10000)\n",
    "print 'elapsed: '+str(datetime.datetime.now()-t0)\n",
    "print 'shape: '+str(df.shape)"
   ]
  },
  {
   "cell_type": "code",
   "execution_count": null,
   "metadata": {
    "collapsed": false
   },
   "outputs": [],
   "source": [
    "len(df.particleId.unique())"
   ]
  },
  {
   "cell_type": "code",
   "execution_count": null,
   "metadata": {
    "collapsed": false
   },
   "outputs": [],
   "source": [
    "print df.particleId.max()\n",
    "df[df.particleId==1000000].head()"
   ]
  },
  {
   "cell_type": "code",
   "execution_count": null,
   "metadata": {
    "collapsed": true
   },
   "outputs": [],
   "source": [
    "#df.to_csv('10minus7_longercell.csv')"
   ]
  },
  {
   "cell_type": "code",
   "execution_count": null,
   "metadata": {
    "collapsed": false
   },
   "outputs": [],
   "source": [
    "\n",
    "print 'reading...'\n",
    "t0 = datetime.datetime.now()\n",
    "df['flag_event'] = df.particleName.apply(lambda x: 1 if x=='event' else 0)\n",
    "print 'elapsed: '+str(datetime.datetime.now()-t0)\n"
   ]
  },
  {
   "cell_type": "code",
   "execution_count": null,
   "metadata": {
    "collapsed": false
   },
   "outputs": [],
   "source": [
    "print 'reading...'\n",
    "t0 = datetime.datetime.now()\n",
    "df['particleId'] = df.flag_event.cumsum()\n",
    "print 'elapsed: '+str(datetime.datetime.now()-t0)"
   ]
  },
  {
   "cell_type": "code",
   "execution_count": null,
   "metadata": {
    "collapsed": false
   },
   "outputs": [],
   "source": [
    "print 'reading...'\n",
    "t0 = datetime.datetime.now()\n",
    "df = df[df.particleName!='event']\n",
    "print 'elapsed: '+str(datetime.datetime.now()-t0)\n"
   ]
  },
  {
   "cell_type": "code",
   "execution_count": null,
   "metadata": {
    "collapsed": false
   },
   "outputs": [],
   "source": [
    "df.columns"
   ]
  },
  {
   "cell_type": "code",
   "execution_count": null,
   "metadata": {
    "collapsed": false
   },
   "outputs": [],
   "source": [
    "# WRONG\n",
    "# Detecting if there is particle ID with more particles\n",
    "grouped2 = df.groupby(by='particleId',as_index=False).size()"
   ]
  },
  {
   "cell_type": "code",
   "execution_count": null,
   "metadata": {
    "collapsed": false
   },
   "outputs": [],
   "source": [
    "grouped2.sort_values(ascending=False).head()\n",
    "#df.particleId.unique()\n",
    "df[df.particleId==208720.0].head(5)"
   ]
  },
  {
   "cell_type": "code",
   "execution_count": null,
   "metadata": {
    "collapsed": true
   },
   "outputs": [],
   "source": [
    "elec = df[(df.particleName=='e-') | (df.particleName==' e-')].groupby(by='particleId',as_index=False).agg({\n",
    "    'mompreX':max,\n",
    "    'mompreY':max,\n",
    "    'mompreZ':max,\n",
    "    'momposX':max,\n",
    "    'momposY':max,\n",
    "    'momposZ':max,\n",
    "    'kineticEnergyPostStep':max\n",
    "})\n",
    "elec_min = df[(df.particleName=='e-') | (df.particleName==' e-')].groupby(by='particleId',as_index=False).agg({\n",
    "    'mompreX':min,\n",
    "    'mompreY':min,\n",
    "    'mompreZ':min,\n",
    "    'momposX':min,\n",
    "    'momposY':min,\n",
    "    'momposZ':min\n",
    "})"
   ]
  },
  {
   "cell_type": "code",
   "execution_count": null,
   "metadata": {
    "collapsed": false
   },
   "outputs": [],
   "source": [
    "print elec.shape\n",
    "elec.head()"
   ]
  },
  {
   "cell_type": "code",
   "execution_count": null,
   "metadata": {
    "collapsed": false
   },
   "outputs": [],
   "source": [
    "df[(df.particleId==5) & (df.particleName!=' proton')].head()"
   ]
  },
  {
   "cell_type": "code",
   "execution_count": null,
   "metadata": {
    "collapsed": false
   },
   "outputs": [],
   "source": [
    "# print total momentum perp, momentum z\n",
    "print 'reading...'\n",
    "t0 = datetime.datetime.now()\n",
    "elec['momentum_perp'] = elec.apply(lambda x: np.sqrt(x['mompreX']**2 + x['mompreY']**2),axis=1)\n",
    "#elec_min['momentum_perp'] = elec_min.apply(lambda x: np.sqrt(x['mompreX']**2 + x['mompreY']**2),axis=1)\n",
    "elec['momentum_perp_pos'] = elec.apply(lambda x: np.sqrt(x['momposX']**2 + x['momposY']**2),axis=1)\n",
    "print 'elapsed: '+str(datetime.datetime.now()-t0)"
   ]
  },
  {
   "cell_type": "code",
   "execution_count": null,
   "metadata": {
    "collapsed": false
   },
   "outputs": [],
   "source": [
    "plt.figure(1)\n",
    "plt.subplot(211)\n",
    "plt.yscale('log', nonposy='clip')\n",
    "plt.hist(elec.momentum_perp_pos/1e3,bins=np.linspace(0,200,100))\n",
    "plt.title('Radial momentum log')\n",
    "plt.subplot(212)\n",
    "#plt.yscale('log', nonposy='clip')\n",
    "plt.hist(elec.momentum_perp_pos/1e3,bins=np.linspace(0,200,100))\n",
    "plt.title('Radial momentum')\n",
    "plt.tight_layout()\n",
    "plt.show()"
   ]
  },
  {
   "cell_type": "code",
   "execution_count": null,
   "metadata": {
    "collapsed": false
   },
   "outputs": [],
   "source": [
    "plt.figure(1)\n",
    "plt.subplot(211)\n",
    "plt.yscale('log', nonposy='clip')\n",
    "plt.hist(elec.mompreZ/1e3,bins=np.linspace(0,100,100))\n",
    "plt.title('Longitudinal momentum log')\n",
    "plt.subplot(212)\n",
    "#plt.yscale('log', nonposy='clip')\n",
    "plt.hist(elec.mompreZ/1e3,bins=np.linspace(0,100,100))\n",
    "plt.title('Longitudinal momentum')\n",
    "plt.tight_layout()\n",
    "plt.show()"
   ]
  },
  {
   "cell_type": "code",
   "execution_count": null,
   "metadata": {
    "collapsed": false
   },
   "outputs": [],
   "source": [
    "print elec.momentum_perp.max()\n",
    "print elec.momentum_perp.min()"
   ]
  },
  {
   "cell_type": "code",
   "execution_count": null,
   "metadata": {
    "collapsed": false
   },
   "outputs": [],
   "source": [
    "# Sanity check - energy loss\n",
    "df[df.particleName=='proton'].head()"
   ]
  },
  {
   "cell_type": "code",
   "execution_count": null,
   "metadata": {
    "collapsed": false
   },
   "outputs": [],
   "source": [
    "grouped = df.groupby(by=['particleId','particleName'],as_index=False).agg({'stepLength':sum,'edepStep':sum})"
   ]
  },
  {
   "cell_type": "code",
   "execution_count": null,
   "metadata": {
    "collapsed": true
   },
   "outputs": [],
   "source": [
    "grouped['edep_mm'] = grouped.edepStep/grouped.stepLength #eV/mm"
   ]
  },
  {
   "cell_type": "code",
   "execution_count": null,
   "metadata": {
    "collapsed": false
   },
   "outputs": [],
   "source": [
    "grouped[grouped.particleName=='proton'].edep_mm.mean()*10"
   ]
  },
  {
   "cell_type": "markdown",
   "metadata": {},
   "source": [
    "# Plotting velocities"
   ]
  },
  {
   "cell_type": "code",
   "execution_count": null,
   "metadata": {
    "collapsed": false
   },
   "outputs": [],
   "source": [
    "# Group by track_ID, parentID, particleID (we only want electrons)\n",
    "elec2 = df[df.particleName == 'e-'].copy()\n",
    "#elec2 = df[df.particleName == 'e-'].copy()\n",
    "print elec2.shape"
   ]
  },
  {
   "cell_type": "code",
   "execution_count": null,
   "metadata": {
    "collapsed": false
   },
   "outputs": [],
   "source": [
    "print (elec2.particleName.unique())\n",
    "#print elec2[elec2.particleName==' gamma'].shape"
   ]
  },
  {
   "cell_type": "code",
   "execution_count": null,
   "metadata": {
    "collapsed": false
   },
   "outputs": [],
   "source": [
    "grouped_el = elec2.groupby(['particleId','trackId','parentId'],as_index=False).agg({\n",
    "    'mompreX':max,\n",
    "    'mompreY':max,\n",
    "    'mompreZ':max,\n",
    "    'momposX':max,\n",
    "    'momposY':max,\n",
    "    'momposZ':max,\n",
    "    'kineticEnergyPostStep':max,\n",
    "    'posX':max,\n",
    "    'posY':max\n",
    "})"
   ]
  },
  {
   "cell_type": "code",
   "execution_count": null,
   "metadata": {
    "collapsed": false
   },
   "outputs": [],
   "source": [
    "grouped_el['momentum_perp'] = grouped_el.apply(lambda x: np.sqrt(x['mompreX']**2 + x['mompreY']**2),axis=1)"
   ]
  },
  {
   "cell_type": "code",
   "execution_count": null,
   "metadata": {
    "collapsed": false
   },
   "outputs": [],
   "source": [
    "grouped_el.head()"
   ]
  },
  {
   "cell_type": "code",
   "execution_count": null,
   "metadata": {
    "collapsed": false
   },
   "outputs": [],
   "source": [
    "plt.figure(1,figsize=(6,4))\n",
    "plt.subplot(111)\n",
    "plt.yscale('log', nonposy='clip')\n",
    "#plt.title('Radial momentum - 10^-7')\n",
    "plt.ylabel('Counts')\n",
    "plt.xlabel(r'Radial momentum $(keV/c^2)$')\n",
    "plt.hist(grouped_el.momentum_perp/1e3,bins=np.linspace(0,150,100))\n",
    "#\n",
    "plt.figure(2,figsize=(6,4))\n",
    "plt.subplot(111)\n",
    "#plt.yscale('log', nonposy='clip')\n",
    "plt.hist(grouped_el.momentum_perp/1e3,bins=np.linspace(0,150,100))\n",
    "plt.ylabel('Counts')\n",
    "plt.xlabel(r'Radial momentum $(keV/c^2)$')\n",
    "plt.tight_layout()\n",
    "plt.show()"
   ]
  },
  {
   "cell_type": "code",
   "execution_count": null,
   "metadata": {
    "collapsed": false
   },
   "outputs": [],
   "source": [
    "plt.figure(1,figsize=(6,4))\n",
    "plt.subplot(111)\n",
    "plt.yscale('log', nonposy='clip')\n",
    "#plt.title('Radial momentum - 10^-7')\n",
    "plt.ylabel('Counts')\n",
    "plt.xlabel(r'Longitudinal momentum $(keV/c^2)$')\n",
    "plt.hist(grouped_el.mompreZ/1e3,bins=np.linspace(-50,50,100))\n",
    "#\n",
    "plt.figure(2,figsize=(6,4))\n",
    "plt.subplot(111)\n",
    "#plt.yscale('log', nonposy='clip')\n",
    "plt.hist(grouped_el.mompreZ/1e3,bins=np.linspace(-50,50,100))\n",
    "plt.ylabel('Counts')\n",
    "plt.xlabel(r'Longitudinal momentum $(keV/c^2)$')\n",
    "plt.tight_layout()\n",
    "plt.show()"
   ]
  },
  {
   "cell_type": "markdown",
   "metadata": {},
   "source": [
    "# Why do we have a smaller contribution for low energies?"
   ]
  },
  {
   "cell_type": "code",
   "execution_count": null,
   "metadata": {
    "collapsed": false
   },
   "outputs": [],
   "source": [
    "plt.figure(1)\n",
    "plt.hist(grouped_el.momentum_perp[grouped_el.momentum_perp<18*1e3]/1e3,bins=np.linspace(0,25,100))\n",
    "plt.show()"
   ]
  },
  {
   "cell_type": "code",
   "execution_count": null,
   "metadata": {
    "collapsed": true
   },
   "outputs": [],
   "source": [
    "low_enegy_el = grouped_el[grouped_el.momentum_perp<18*1e3]"
   ]
  },
  {
   "cell_type": "code",
   "execution_count": null,
   "metadata": {
    "collapsed": false
   },
   "outputs": [],
   "source": [
    "low_enegy_el.head()"
   ]
  },
  {
   "cell_type": "code",
   "execution_count": null,
   "metadata": {
    "collapsed": false
   },
   "outputs": [],
   "source": [
    "# inner join elec2\n",
    "result = pd.merge(elec2, low_enegy_el, how='inner', on=['particleId', 'trackId','parentId'])"
   ]
  },
  {
   "cell_type": "code",
   "execution_count": null,
   "metadata": {
    "collapsed": false
   },
   "outputs": [],
   "source": [
    "print len(result.particleId.unique())\n",
    "print len(low_enegy_el.particleId.unique())"
   ]
  },
  {
   "cell_type": "code",
   "execution_count": null,
   "metadata": {
    "collapsed": false
   },
   "outputs": [],
   "source": [
    "#result[result.particleId==5712].head(10)\n",
    "result.head()"
   ]
  },
  {
   "cell_type": "code",
   "execution_count": null,
   "metadata": {
    "collapsed": false
   },
   "outputs": [],
   "source": [
    "result['posR'] = result.apply(lambda x: np.sqrt(x['posX_x']**2 + x['posY_x']**2),axis=1)"
   ]
  },
  {
   "cell_type": "code",
   "execution_count": null,
   "metadata": {
    "collapsed": false
   },
   "outputs": [],
   "source": [
    "plt.figure()\n",
    "plt.hist(result.posR,bins=np.linspace(0,42,100))\n",
    "#plt.title('Histogram of radial position - low energy electrons')\n",
    "plt.xlabel('Pos R (mm)')\n",
    "plt.ylabel('Counts')\n",
    "plt.tight_layout()\n",
    "plt.show()"
   ]
  },
  {
   "cell_type": "code",
   "execution_count": null,
   "metadata": {
    "collapsed": false
   },
   "outputs": [],
   "source": [
    "print 'mean step length: %.2f (mm)' %result.stepLength.mean()\n",
    "print 'mean step number: %.2f ' %result.stepNumber.mean()"
   ]
  },
  {
   "cell_type": "code",
   "execution_count": null,
   "metadata": {
    "collapsed": false
   },
   "outputs": [],
   "source": [
    "\"\"\"\n",
    "plt.figure(1)\n",
    "plt.subplot(211)\n",
    "plt.hist(result.stepNumber,bins=np.linspace(0,8,20))\n",
    "plt.title('Histogram - number of steps of electron, mean = %.2f' %(result.stepNumber.mean()))\n",
    "plt.yscale('log', nonposy='clip')\n",
    "###\n",
    "plt.subplot(212)\n",
    "plt.hist(result.stepLength,bins=np.linspace(0,300,100))\n",
    "plt.title('Histogram - step length of electron, mean = %.2f' %(result.stepLength.mean()))\n",
    "plt.yscale('log', nonposy='clip')\n",
    "plt.xlabel('Step length (mm)')\n",
    "plt.tight_layout()\n",
    "plt.show()\n",
    "\"\"\"\n",
    "plt.figure(2)\n",
    "plt.hist(result.stepLength,bins=np.linspace(0,300,100),label= 'mean = %.2f' %(result.stepLength.mean()))\n",
    "#plt.title('Histogram - step length of electron, mean = %.2f' %(result.stepLength.mean()))\n",
    "plt.yscale('log', nonposy='clip')\n",
    "plt.xlabel('Step length (mm)')\n",
    "plt.ylabel('Counts')\n",
    "plt.legend()\n",
    "plt.tight_layout()\n",
    "plt.show()\n"
   ]
  },
  {
   "cell_type": "markdown",
   "metadata": {},
   "source": [
    "# Processes of high energy electrons"
   ]
  },
  {
   "cell_type": "code",
   "execution_count": null,
   "metadata": {
    "collapsed": false
   },
   "outputs": [],
   "source": [
    "high_energy_el = grouped_el[grouped_el.momentum_perp>18*1e3]"
   ]
  },
  {
   "cell_type": "code",
   "execution_count": null,
   "metadata": {
    "collapsed": true
   },
   "outputs": [],
   "source": [
    "result_high = pd.merge(elec2, high_energy_el, how='inner', on=['particleId', 'trackId','parentId'])"
   ]
  },
  {
   "cell_type": "code",
   "execution_count": null,
   "metadata": {
    "collapsed": false
   },
   "outputs": [],
   "source": [
    "result_high['posR'] = result_high.apply(lambda x: np.sqrt(x['posX_x']**2 + x['posY_x']**2),axis=1)"
   ]
  },
  {
   "cell_type": "code",
   "execution_count": null,
   "metadata": {
    "collapsed": false
   },
   "outputs": [],
   "source": [
    "result_high.processName.value_counts()"
   ]
  },
  {
   "cell_type": "code",
   "execution_count": null,
   "metadata": {
    "collapsed": false
   },
   "outputs": [],
   "source": [
    "# Where is eIoni taking place?\n",
    "ioni = result_high[result_high.processName=='eIoni'].copy()\n",
    "transp = result_high[result_high.processName=='Transportation'].copy()\n",
    "print ioni.shape, transp.shape"
   ]
  },
  {
   "cell_type": "code",
   "execution_count": null,
   "metadata": {
    "collapsed": false
   },
   "outputs": [],
   "source": [
    "plt.figure(1)\n",
    "plt.clf()\n",
    "plt.subplot(111)\n",
    "plt.yscale('log', nonposy='clip')\n",
    "plt.hist(ioni.perp,label= 'total events = %d' %(ioni.shape[0]))\n",
    "#plt.title('Histogram of ionization events (total= %d)' %(ioni.shape[0]))\n",
    "plt.xlabel('Pos R (mm)')\n",
    "plt.xlim([0,40.])\n",
    "plt.ylabel('Counts')\n",
    "plt.legend()\n",
    "plt.tight_layout()\n",
    "##\n",
    "plt.figure(2)\n",
    "plt.subplot(111)\n",
    "plt.hist(transp.perp,label= 'total events = %d' %(transp.shape[0]))\n",
    "plt.yscale('log', nonposy='clip')\n",
    "#plt.title('Histogram of transportation events (total= %d)' %(transp.shape[0]))\n",
    "plt.xlabel('Pos R (mm)')\n",
    "plt.ylabel('Counts')\n",
    "plt.xlim([0,40.])\n",
    "plt.legend()\n",
    "plt.tight_layout()\n",
    "plt.show()\n"
   ]
  },
  {
   "cell_type": "markdown",
   "metadata": {
    "collapsed": false
   },
   "source": [
    "# identifying collisions - graph Lapique"
   ]
  },
  {
   "cell_type": "code",
   "execution_count": null,
   "metadata": {
    "collapsed": false
   },
   "outputs": [],
   "source": [
    "\"\"\"\n",
    "df['flag_hioni'] = df.processName.apply(lambda x: 1 if x==' hIoni' else 0)\n",
    "# group by particle Id\n",
    "grouped_colls = df.groupby(by='particleId',as_index=False).agg({'flag_hioni':sum,'stepLength':sum,'edepStep':sum})\n",
    "grouped_colls['flag_hioni']= pd.to_numeric(grouped_colls.flag_hioni)\n",
    "grouped_colls.stepLength = pd.to_numeric(grouped_colls.stepLength)\n",
    "grouped_colls.edepStep = pd.to_numeric(grouped_colls.edepStep)\n",
    "grouped_colls['avg_col'] = 0.\n",
    "grouped_colls['avg_col'] = grouped_colls[grouped_colls.flag_hioni>0]['flag_hioni']/grouped_colls[grouped_colls.flag_hioni>0]['stepLength']\n",
    "grouped_colls['avg_energy'] = grouped_colls[grouped_colls.flag_hioni>0]['edepStep']/grouped_colls[grouped_colls.flag_hioni>0]['flag_hioni']\n",
    "print grouped_colls[grouped_colls.flag_hioni>0].shape\n",
    "print grouped_colls.shape\n",
    "\"\"\""
   ]
  },
  {
   "cell_type": "code",
   "execution_count": null,
   "metadata": {
    "collapsed": false
   },
   "outputs": [],
   "source": [
    "#protons = df[(df.particleName=='proton') & (df.processName!='Transportation')].copy()\n",
    "protons = df[((df.processName =='hIoni') | (df.processName =='eIoni'))].copy()"
   ]
  },
  {
   "cell_type": "code",
   "execution_count": null,
   "metadata": {
    "collapsed": false
   },
   "outputs": [],
   "source": [
    "protons.processName.unique()"
   ]
  },
  {
   "cell_type": "code",
   "execution_count": null,
   "metadata": {
    "collapsed": false
   },
   "outputs": [],
   "source": [
    "plt.hist(protons.totalEnergyDeposit,bins=np.linspace(0,700,100))\n",
    "plt.show()"
   ]
  },
  {
   "cell_type": "code",
   "execution_count": null,
   "metadata": {
    "collapsed": false
   },
   "outputs": [],
   "source": [
    "print 'reading...'\n",
    "t0 = datetime.datetime.now()\n",
    "#E = 100 #ev\n",
    "list_Es=[]\n",
    "list_edep = []\n",
    "num_steps=1000\n",
    "for E in np.linspace(0,int(protons.totalEnergyDeposit.max()),num_steps):\n",
    "    list_Es.append([E,protons[protons.totalEnergyDeposit>E].shape[0]])\n",
    "    list_edep.append([E,protons[protons.edepStep>E].shape[0]])\n",
    "    \n",
    "print 'elapsed: '+str(datetime.datetime.now()-t0)"
   ]
  },
  {
   "cell_type": "code",
   "execution_count": null,
   "metadata": {
    "collapsed": false
   },
   "outputs": [],
   "source": [
    "print protons.shape[0]\n",
    "#print list_Es[:5]\n",
    "print [protons.totalEnergyDeposit.min(),protons.totalEnergyDeposit.max()]"
   ]
  },
  {
   "cell_type": "code",
   "execution_count": null,
   "metadata": {
    "collapsed": false
   },
   "outputs": [],
   "source": [
    "#plt.figure(1,figsize=(12,8))\n",
    "plt.figure(1)\n",
    "plt.subplot(211)\n",
    "plt.scatter(np.array(list_Es)[:,0],np.array(list_Es)[:,1])\n",
    "#plt.xlim([-100,800])\n",
    "plt.yscale('log', nonposy='clip')\n",
    "plt.title('')\n",
    "plt.ylabel(r'$(\\frac{dN}{dx}) cm^{-1}$')\n",
    "plt.xlabel('E (eV)')\n",
    "#plt.ylim([1e-7,1e1])\n",
    "plt.subplot(212)\n",
    "plt.scatter(np.array(list_Es)[:,0],np.array(list_Es)[:,1]/protons.shape[0])\n",
    "#plt.yscale('log', nonposy='clip')\n",
    "plt.ylabel('%')\n",
    "plt.tight_layout()\n",
    "plt.show()"
   ]
  },
  {
   "cell_type": "code",
   "execution_count": null,
   "metadata": {
    "collapsed": false
   },
   "outputs": [],
   "source": [
    "#plt.figure(1,figsize=(12,8))\n",
    "plt.figure(1)\n",
    "plt.subplot(111)\n",
    "plt.scatter(np.array(list_Es)[:,0],np.array(list_Es)[:,1])\n",
    "plt.xlim([-100,2000])\n",
    "plt.yscale('log', nonposy='clip')\n",
    "plt.title('')\n",
    "plt.ylabel(r'$(\\frac{dN}{dx}) cm^{-1}$')\n",
    "plt.xlabel('E (eV)')\n",
    "#plt.ylim([1e-7,1e1])\n",
    "plt.grid()\n",
    "plt.tight_layout()\n",
    "plt.show()"
   ]
  },
  {
   "cell_type": "code",
   "execution_count": null,
   "metadata": {
    "collapsed": false
   },
   "outputs": [],
   "source": [
    "np.array(list_edep)[:,1].sum()"
   ]
  },
  {
   "cell_type": "code",
   "execution_count": null,
   "metadata": {
    "collapsed": false
   },
   "outputs": [],
   "source": [
    "np.array(list_Es)[:,0]"
   ]
  },
  {
   "cell_type": "code",
   "execution_count": null,
   "metadata": {
    "collapsed": false
   },
   "outputs": [],
   "source": [
    "protons[protons.edepStep==0.0]['processName'].unique()"
   ]
  },
  {
   "cell_type": "code",
   "execution_count": null,
   "metadata": {
    "collapsed": false
   },
   "outputs": [],
   "source": [
    "df.posZ.min()"
   ]
  },
  {
   "cell_type": "code",
   "execution_count": null,
   "metadata": {
    "collapsed": true
   },
   "outputs": [],
   "source": [
    "np.savetxt('export.txt',np.array(list_Es),header='Energy, number of collisions')"
   ]
  },
  {
   "cell_type": "code",
   "execution_count": null,
   "metadata": {
    "collapsed": false
   },
   "outputs": [],
   "source": [
    "protons.shape[0]"
   ]
  },
  {
   "cell_type": "markdown",
   "metadata": {},
   "source": [
    "# Radial distribution - energy"
   ]
  },
  {
   "cell_type": "code",
   "execution_count": null,
   "metadata": {
    "collapsed": false
   },
   "outputs": [],
   "source": [
    "plt.figure(1)\n",
    "plt.subplot(121)\n",
    "#plt.yscale('log', nonposy='clip')\n",
    "plt.title('Energy of secondary electron vs radius')\n",
    "plt.ylabel('Energy (eV))')\n",
    "plt.xlabel('Radius (mm)')\n",
    "plt.scatter(np.sqrt(grouped_el.posX**2 + grouped_el.posY**2),grouped_el.kineticEnergyPostStep)\n",
    "#plt.ylim([1e-10,1e-1])\n",
    "\n",
    "plt.subplot(122)\n",
    "plt.scatter(np.sqrt(grouped_el.posX**2 + grouped_el.posY**2),grouped_el.kineticEnergyPostStep)\n",
    "#plt.ylim([-0.1,1])\n",
    "plt.ylim([1e2,1e7])\n",
    "plt.yscale('log', nonposy='clip')\n",
    "plt.tight_layout()\n",
    "plt.show()"
   ]
  },
  {
   "cell_type": "code",
   "execution_count": null,
   "metadata": {
    "collapsed": false
   },
   "outputs": [],
   "source": [
    "plt.figure()\n",
    "sns.jointplot(x=np.sqrt(grouped_el.posX**2 + grouped_el.posY**2), y=grouped_el.kineticEnergyPostStep)\n",
    "plt.yscale('log', nonposy='clip')\n",
    "#plt.ylim([0.,1e6])\n",
    "plt.show()"
   ]
  },
  {
   "cell_type": "code",
   "execution_count": null,
   "metadata": {
    "collapsed": true
   },
   "outputs": [],
   "source": [
    "# Find duplicates\n",
    "elec2['flag_duplicated'] = elec2.duplicated(['trackId','parentId','particleId'])"
   ]
  },
  {
   "cell_type": "code",
   "execution_count": null,
   "metadata": {
    "collapsed": false
   },
   "outputs": [],
   "source": [
    "elec_born = elec2[elec2.flag_duplicated==False]"
   ]
  },
  {
   "cell_type": "code",
   "execution_count": null,
   "metadata": {
    "collapsed": false
   },
   "outputs": [],
   "source": [
    "elec_born.shape"
   ]
  },
  {
   "cell_type": "code",
   "execution_count": null,
   "metadata": {
    "collapsed": false
   },
   "outputs": [],
   "source": [
    "plt.figure(1)\n",
    "ax = sns.jointplot(x=np.sqrt(elec_born.posX**2 + elec_born.posY**2), y=elec_born.kineticEnergyPostStep\n",
    "                   )\n",
    "ax.set_axis_labels(xlabel='Radial position (mm)', ylabel='Energy (eV)')\n",
    "#ax.ax_marg_y.set_yscale('log', nonposy='clip',[0.,1e6])\n",
    "plt.yscale('log', nonposy='clip')\n",
    "#plt.ylim([0.,1e6])\n",
    "plt.show()"
   ]
  },
  {
   "cell_type": "code",
   "execution_count": null,
   "metadata": {
    "collapsed": false
   },
   "outputs": [],
   "source": [
    "print df.posZ.min()\n",
    "print df.posZ.max()"
   ]
  },
  {
   "cell_type": "code",
   "execution_count": null,
   "metadata": {
    "collapsed": false
   },
   "outputs": [],
   "source": [
    "df[df.particleName=='proton'].iloc[0]['totalEnergyDeposit']/df[df.particleName=='proton'].iloc[0]['stepLength']"
   ]
  },
  {
   "cell_type": "markdown",
   "metadata": {},
   "source": [
    "# Plotting final figure"
   ]
  },
  {
   "cell_type": "code",
   "execution_count": 16,
   "metadata": {
    "collapsed": false
   },
   "outputs": [
    {
     "name": "stdout",
     "output_type": "stream",
     "text": [
      "calculating\n",
      "done, elapsed :0:00:00.036083\n"
     ]
    }
   ],
   "source": [
    "print 'calculating'\n",
    "t0=datetime.datetime.now()\n",
    "x = np.random.normal(loc=0.0,scale=2.,size=int(1e6))\n",
    "print 'done, elapsed :' + str(datetime.datetime.now()-t0)"
   ]
  },
  {
   "cell_type": "code",
   "execution_count": 18,
   "metadata": {
    "collapsed": false
   },
   "outputs": [
    {
     "data": {
      "image/png": "[encoded data removed]",
      "text/plain": [
       "<matplotlib.figure.Figure at 0x10edf3f10>"
      ]
     },
     "metadata": {},
     "output_type": "display_data"
    }
   ],
   "source": [
    "plt.figure(1)\n",
    "plt.hist(x,bins=50)\n",
    "y = np.histogram(x,bins=50)\n",
    "plt.show()"
   ]
  },
  {
   "cell_type": "code",
   "execution_count": 27,
   "metadata": {
    "collapsed": false
   },
   "outputs": [
    {
     "data": {
      "text/plain": [
       "(array([    3,     2,     5,    27,    35,    79,   120,   262,   560,\n",
       "          922,  1600,  2585,  4254,  6500,  9724, 13991, 19659, 26257,\n",
       "        33997, 42353, 51028, 59567, 66617, 71331, 74235, 75619, 72993,\n",
       "        68726, 62285, 54100, 45429, 36976, 29143, 21658, 15963, 11245,\n",
       "         7707,  4917,  3063,  1878,  1158,   676,   364,   198,    96,\n",
       "           42,    34,    10,     5,     2]),\n",
       " array([-9.53997012, -9.16118865, -8.78240719, -8.40362572, -8.02484425,\n",
       "        -7.64606278, -7.26728132, -6.88849985, -6.50971838, -6.13093691,\n",
       "        -5.75215545, -5.37337398, -4.99459251, -4.61581104, -4.23702958,\n",
       "        -3.85824811, -3.47946664, -3.10068517, -2.72190371, -2.34312224,\n",
       "        -1.96434077, -1.58555931, -1.20677784, -0.82799637, -0.4492149 ,\n",
       "        -0.07043344,  0.30834803,  0.6871295 ,  1.06591097,  1.44469243,\n",
       "         1.8234739 ,  2.20225537,  2.58103684,  2.9598183 ,  3.33859977,\n",
       "         3.71738124,  4.0961627 ,  4.47494417,  4.85372564,  5.23250711,\n",
       "         5.61128857,  5.99007004,  6.36885151,  6.74763298,  7.12641444,\n",
       "         7.50519591,  7.88397738,  8.26275885,  8.64154031,  9.02032178,\n",
       "         9.39910325]))"
      ]
     },
     "execution_count": 27,
     "metadata": {},
     "output_type": "execute_result"
    }
   ],
   "source": [
    "y"
   ]
  },
  {
   "cell_type": "code",
   "execution_count": 87,
   "metadata": {
    "collapsed": false
   },
   "outputs": [
    {
     "data": {
      "image/png": "[encoded data removed]",
      "text/plain": [
       "<matplotlib.figure.Figure at 0x13e9e4750>"
      ]
     },
     "metadata": {},
     "output_type": "display_data"
    }
   ],
   "source": [
    "plt.figure(1)\n",
    "plt.clf()\n",
    "range_x = np.linspace(0., 2.,100)\n",
    "range_x_minus = np.linspace(-4., 0,100)\n",
    "baseline = 1e14*np.ones_like(range_x_minus)\n",
    "range_erf = erf(-range_x/np.sqrt(2))\n",
    "Phi = 2*1e12*(1 + range_erf)\n",
    "plt.yscale('log', nonposy='clip')\n",
    "plt.ylim([1e11,1e15])\n",
    "plt.xlim([-3.,3.])\n",
    "#plt.scatter(range_x,Phi,color='red')\n",
    "plt.scatter(range_x_minus,7e14*np.ones_like(range_x_minus),color='blue',label='Baseline density')\n",
    "plt.scatter(range_x,Phi,color='red',label='Extra electronic density')\n",
    "plt.plot(y[1][:-1],y[0]*1e7,'g',label='Proton bunch')\n",
    "plt.xlabel('Longitudinal direction (a.u.)')\n",
    "plt.tick_params(\n",
    "    axis='x',          # changes apply to the x-axis\n",
    "    which='both',      # both major and minor ticks are affected\n",
    "    bottom='off',      # ticks along the bottom edge are off\n",
    "    top='off',         # ticks along the top edge are off\n",
    "    labelbottom='off') # labels along the bottom edge are off\n",
    "plt.legend()\n",
    "plt.show()"
   ]
  },
  {
   "cell_type": "code",
   "execution_count": 68,
   "metadata": {
    "collapsed": false
   },
   "outputs": [
    {
     "data": {
      "image/png": "[encoded data removed]",
      "text/plain": [
       "<matplotlib.figure.Figure at 0x10ed7b1d0>"
      ]
     },
     "metadata": {},
     "output_type": "display_data"
    }
   ],
   "source": []
  },
  {
   "cell_type": "code",
   "execution_count": null,
   "metadata": {
    "collapsed": true
   },
   "outputs": [],
   "source": []
  }
 ],
 "metadata": {
  "kernelspec": {
   "display_name": "Python 2",
   "language": "python",
   "name": "python2"
  },
  "language_info": {
   "codemirror_mode": {
    "name": "ipython",
    "version": 2
   },
   "file_extension": ".py",
   "mimetype": "text/x-python",
   "name": "python",
   "nbconvert_exporter": "python",
   "pygments_lexer": "ipython2",
   "version": "2.7.12"
  }
 },
 "nbformat": 4,
 "nbformat_minor": 0
}
