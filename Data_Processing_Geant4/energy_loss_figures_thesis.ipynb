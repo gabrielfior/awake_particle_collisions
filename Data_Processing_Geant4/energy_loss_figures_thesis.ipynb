{
 "cells": [
  {
   "cell_type": "code",
   "execution_count": 1,
   "metadata": {
    "collapsed": false
   },
   "outputs": [
    {
     "name": "stderr",
     "output_type": "stream",
     "text": [
      "/Users/gabrielfior/anaconda/lib/python2.7/site-packages/matplotlib/font_manager.py:273: UserWarning: Matplotlib is building the font cache using fc-list. This may take a moment.\n",
      "  warnings.warn('Matplotlib is building the font cache using fc-list. This may take a moment.')\n"
     ]
    }
   ],
   "source": [
    "import numpy as np\n",
    "import matplotlib.pyplot as plt\n",
    "import pandas as pd\n",
    "import seaborn as sns\n",
    "from scipy import stats\n",
    "import datetime\n",
    "import matplotlib.ticker as mtick\n",
    "\n",
    "%matplotlib inline"
   ]
  },
  {
   "cell_type": "code",
   "execution_count": 2,
   "metadata": {
    "collapsed": false
   },
   "outputs": [
    {
     "name": "stdout",
     "output_type": "stream",
     "text": [
      "reading...\n",
      "elapsed: 0:01:20.624139\n"
     ]
    }
   ],
   "source": [
    "print 'reading...'\n",
    "t0 = datetime.datetime.now()\n",
    "columns_new2 =['trackId','parentId','volumeName','particleName','stepNumber',\n",
    "                                                   'posX','posY','posZ','perp','kineeticEnergyDiff',\n",
    "                                                   'edepStep','kineticEnergyPostStep','processName',\n",
    "                                    'mompreX','mompreY','mompreZ','momposX','momposY','momposZ',\n",
    "                  'stepLength','particleId'] \n",
    "#filename = '/Volumes/UNTITLED/beam/Ar/mergedAr.csv'\n",
    "filename = '/Volumes/UNTITLED/beam/10minus7/merged10minus7.csv'\n",
    "#filenameAr = 10cm_1e6_400GeV_Ar_cut1_5mm_nt_B4_g_processed.csv\n",
    "density_expression = filename.split('.')[0][-1]\n",
    "#density_expression = 7\n",
    "df = pd.read_csv(filename,header=None,names=columns_new2)#,nrows=100000)\n",
    "print 'elapsed: '+str(datetime.datetime.now()-t0)"
   ]
  },
  {
   "cell_type": "code",
   "execution_count": null,
   "metadata": {
    "collapsed": false
   },
   "outputs": [],
   "source": [
    "len(df.particleId.unique())"
   ]
  },
  {
   "cell_type": "code",
   "execution_count": null,
   "metadata": {
    "collapsed": false
   },
   "outputs": [],
   "source": [
    "print density_expression\n",
    "print df.shape"
   ]
  },
  {
   "cell_type": "code",
   "execution_count": null,
   "metadata": {
    "collapsed": false
   },
   "outputs": [],
   "source": [
    "grouped = df.groupby(by=['trackId','parentId','particleId','particleName'],as_index=False).agg({'stepLength':sum,'edepStep':sum})"
   ]
  },
  {
   "cell_type": "code",
   "execution_count": null,
   "metadata": {
    "collapsed": true
   },
   "outputs": [],
   "source": [
    "grouped['edep_mm'] = grouped.edepStep/grouped.stepLength\n",
    "grouped['particleName'] = grouped.particleName.apply(lambda x: x.strip())"
   ]
  },
  {
   "cell_type": "code",
   "execution_count": null,
   "metadata": {
    "collapsed": false
   },
   "outputs": [],
   "source": [
    "grouped.head()"
   ]
  },
  {
   "cell_type": "code",
   "execution_count": null,
   "metadata": {
    "collapsed": false
   },
   "outputs": [],
   "source": [
    "fig, ax = plt.subplots()\n",
    "plt.hist(grouped[grouped.particleName=='proton'].edep_mm*10,bins=50)\n",
    "plt.title(r'Energy loss / cm distribution - $\\rho = 10^{-' +str(density_expression) +'} g/cm^3$')\n",
    "ax.set_yscale('log')\n",
    "#plt.xlim([-0.1,1.0])\n",
    "plt.ylabel('Frequency')\n",
    "plt.xlabel('Energy deposit (eV/cm)')\n",
    "ax.get_xaxis().get_major_formatter().set_useOffset(False)\n",
    "#ax.xaxis.set_major_formatter(mtick.FormatStrFormatter('%.2e'))\n",
    "#ax.semilogy()\n",
    "plt.show()"
   ]
  },
  {
   "cell_type": "code",
   "execution_count": null,
   "metadata": {
    "collapsed": false
   },
   "outputs": [],
   "source": [
    "\n",
    "ax = sns.distplot(grouped[grouped.particleName=='proton'].edep_mm*10, bins=100, kde=False)#, fit=stats.norm);\n",
    "plt.title(r'Histogram of Energy loss / cm ($\\rho = 10^{-' +str(density_expression) +'} g/cm^3$)')\n",
    "#plt.title(r'Histogram of Energy loss / cm ($\\rho = 1.6 \\cdot 10^{-' +'3' +'} g/cm^3$)')\n",
    "# Get the fitted parameters used by sns\n",
    "(mu, sigma) = stats.norm.fit(grouped[grouped.particleName=='proton'].edep_mm*10)\n",
    "print \"mu={1}, sigma={1}\".format(mu, sigma)\n",
    "#ax.set_yscale('log')\n",
    "#ax.set_ylim([1e-15,1e13])\n",
    "factor_sigma = 50.\n",
    "#plt.xlim([-0.1,800])\n",
    "#plt.xlim([12.58473,12.58480])\n",
    "# Legend and labels \n",
    "#plt.legend([\"normal dist. fit ($\\mu=${0:.2f}, $\\sigma=${1:.2f})\".format(mu, sigma)])\n",
    "plt.legend([\"Mean = {0:.2f} eV/cm\".format((grouped[grouped.particleName=='proton'].edep_mm*10).mean())])\n",
    "#plt.ylabel('log(Frequency)')\n",
    "plt.ylabel('Frequency')\n",
    "plt.xlabel('Energy deposit (eV/cm)')\n",
    "#ax = plt.gca()\n",
    "ax.get_xaxis().get_major_formatter().set_useOffset(False)\n",
    "#ax.xaxis.set_major_formatter(mtick.FormatStrFormatter('%.2e'))\n",
    "#plt.xlim([0,500])\n",
    "plt.tight_layout()\n",
    "plt.show()"
   ]
  },
  {
   "cell_type": "code",
   "execution_count": null,
   "metadata": {
    "collapsed": false
   },
   "outputs": [],
   "source": [
    "#np.histogram(grouped[grouped.particleName=='proton'].edep_mm*10)\n",
    "print (grouped[grouped.particleName=='proton'].edep_mm*10).mean()"
   ]
  },
  {
   "cell_type": "code",
   "execution_count": null,
   "metadata": {
    "collapsed": false
   },
   "outputs": [],
   "source": [
    "grouped[grouped.particleName=='proton'].edep_mm.hist(bins=50)"
   ]
  },
  {
   "cell_type": "code",
   "execution_count": null,
   "metadata": {
    "collapsed": false
   },
   "outputs": [],
   "source": [
    "len(df[df.particleName==' proton'].particleId.unique())"
   ]
  },
  {
   "cell_type": "markdown",
   "metadata": {
    "collapsed": true
   },
   "source": [
    "# Plot clusters"
   ]
  },
  {
   "cell_type": "code",
   "execution_count": null,
   "metadata": {
    "collapsed": true
   },
   "outputs": [],
   "source": [
    "W = 26.4 # eV argon\n",
    "#W = 9.4 # eV, Rb"
   ]
  },
  {
   "cell_type": "code",
   "execution_count": null,
   "metadata": {
    "collapsed": false
   },
   "outputs": [],
   "source": [
    "toPlot = grouped[grouped.particleName=='proton'].edep_mm*10/W #energy loss / cm / W\n",
    "ax = sns.distplot(toPlot, bins=50, kde=False, fit=stats.norm);\n",
    "plt.title(r'Energy loss / cm distribution - $\\rho = 10^{-' +str(density_expression) +'} g/cm^3$')\n",
    "# Get the fitted parameters used by sns\n",
    "(mu, sigma) = stats.norm.fit(toPlot)\n",
    "print \"mu={1}, sigma={1}\".format(mu, sigma)\n",
    "#ax.set_yscale('log')\n",
    "#ax.set_ylim([1e0,1e10])\n",
    "#plt.xlim([-0.1,1.0])\n",
    "# Legend and labels \n",
    "plt.legend([\"normal dist. fit ($\\mu=${0:.2f}, $\\sigma=${1:.2f})\".format(mu, sigma)])\n",
    "plt.ylabel('Frequency')\n",
    "plt.xlabel('Energy deposit (eV/cm)')\n",
    "#ax = plt.gca()\n",
    "ax.get_xaxis().get_major_formatter().set_useOffset(True)\n",
    "ax.xaxis.set_major_formatter(mtick.FormatStrFormatter('%.1f'))\n",
    "plt.tight_layout()\n",
    "plt.show()"
   ]
  },
  {
   "cell_type": "code",
   "execution_count": null,
   "metadata": {
    "collapsed": true
   },
   "outputs": [],
   "source": [
    "# -4,125.80\n",
    "#-5, 12.58\n",
    "#6, 1.26\n",
    "#7, 0.12\n"
   ]
  },
  {
   "cell_type": "code",
   "execution_count": null,
   "metadata": {
    "collapsed": true
   },
   "outputs": [],
   "source": [
    "# -4,255.08\n",
    "#-5, 25.51\n",
    "#6 2.55\n",
    "#7 0.26\n"
   ]
  },
  {
   "cell_type": "code",
   "execution_count": null,
   "metadata": {
    "collapsed": false
   },
   "outputs": [],
   "source": [
    "array_energies=np.array([-4,-5,-6,-7])\n",
    "energy_loss_BB = np.array([255.08,25.51,2.55,0.26])\n",
    "energy_loss_g4 = np.array([125.80,12.58,1.26,0.12])\n",
    "fig = plt.figure(1)\n",
    "ax = plt.gca()\n",
    "ax.scatter(-array_energies,energy_loss_g4 , c='blue', edgecolors='none',label='Geant4')\n",
    "ax.set_yscale('log')\n",
    "#ax.set_xscale('log')\n",
    "plt.xlim([7.1,3.9])\n",
    "plt.semilogy(-array_energies,energy_loss_BB,color='r',label='Bethe-Bloch')\n",
    "plt.ylabel('Energy loss (eV/cm)')\n",
    "plt.xlabel(r'$\\rho \\hspace{0.5} (10^{-x})$')\n",
    "plt.legend(bbox_to_anchor=(1.05, 1), loc=2, borderaxespad=0.)\n",
    "plt.show()"
   ]
  },
  {
   "cell_type": "code",
   "execution_count": null,
   "metadata": {
    "collapsed": false
   },
   "outputs": [],
   "source": [
    "array_energies=np.array([-4,-5,-6,-7])"
   ]
  },
  {
   "cell_type": "code",
   "execution_count": null,
   "metadata": {
    "collapsed": false
   },
   "outputs": [],
   "source": [
    "plt.figure(1)\n",
    "plt.plot(df.edepStep)"
   ]
  },
  {
   "cell_type": "code",
   "execution_count": 3,
   "metadata": {
    "collapsed": false
   },
   "outputs": [
    {
     "data": {
      "text/html": [
       "<div>\n",
       "<table border=\"1\" class=\"dataframe\">\n",
       "  <thead>\n",
       "    <tr style=\"text-align: right;\">\n",
       "      <th></th>\n",
       "      <th>trackId</th>\n",
       "      <th>parentId</th>\n",
       "      <th>volumeName</th>\n",
       "      <th>particleName</th>\n",
       "      <th>stepNumber</th>\n",
       "      <th>posX</th>\n",
       "      <th>posY</th>\n",
       "      <th>posZ</th>\n",
       "      <th>perp</th>\n",
       "      <th>kineeticEnergyDiff</th>\n",
       "      <th>...</th>\n",
       "      <th>kineticEnergyPostStep</th>\n",
       "      <th>processName</th>\n",
       "      <th>mompreX</th>\n",
       "      <th>mompreY</th>\n",
       "      <th>mompreZ</th>\n",
       "      <th>momposX</th>\n",
       "      <th>momposY</th>\n",
       "      <th>momposZ</th>\n",
       "      <th>stepLength</th>\n",
       "      <th>particleId</th>\n",
       "    </tr>\n",
       "  </thead>\n",
       "  <tbody>\n",
       "    <tr>\n",
       "      <th>0</th>\n",
       "      <td>1.0</td>\n",
       "      <td>0.0</td>\n",
       "      <td>Layer</td>\n",
       "      <td>proton</td>\n",
       "      <td>2.0</td>\n",
       "      <td>0.106066</td>\n",
       "      <td>0.03324</td>\n",
       "      <td>-46.3338</td>\n",
       "      <td>0.111153</td>\n",
       "      <td>-0.083877</td>\n",
       "      <td>...</td>\n",
       "      <td>4.000000e+11</td>\n",
       "      <td>Transportation</td>\n",
       "      <td>0.0</td>\n",
       "      <td>0.0</td>\n",
       "      <td>4.009370e+11</td>\n",
       "      <td>0.0</td>\n",
       "      <td>0.0</td>\n",
       "      <td>4.009370e+11</td>\n",
       "      <td>6.66667</td>\n",
       "      <td>0.0</td>\n",
       "    </tr>\n",
       "    <tr>\n",
       "      <th>1</th>\n",
       "      <td>1.0</td>\n",
       "      <td>0.0</td>\n",
       "      <td>Layer</td>\n",
       "      <td>proton</td>\n",
       "      <td>3.0</td>\n",
       "      <td>0.106066</td>\n",
       "      <td>0.03324</td>\n",
       "      <td>-39.8076</td>\n",
       "      <td>0.111153</td>\n",
       "      <td>-0.083877</td>\n",
       "      <td>...</td>\n",
       "      <td>4.000000e+11</td>\n",
       "      <td>Transportation</td>\n",
       "      <td>0.0</td>\n",
       "      <td>0.0</td>\n",
       "      <td>4.009370e+11</td>\n",
       "      <td>0.0</td>\n",
       "      <td>0.0</td>\n",
       "      <td>4.009370e+11</td>\n",
       "      <td>6.66667</td>\n",
       "      <td>0.0</td>\n",
       "    </tr>\n",
       "    <tr>\n",
       "      <th>2</th>\n",
       "      <td>1.0</td>\n",
       "      <td>0.0</td>\n",
       "      <td>Layer</td>\n",
       "      <td>proton</td>\n",
       "      <td>4.0</td>\n",
       "      <td>0.106066</td>\n",
       "      <td>0.03324</td>\n",
       "      <td>-35.5332</td>\n",
       "      <td>0.111153</td>\n",
       "      <td>-0.083877</td>\n",
       "      <td>...</td>\n",
       "      <td>4.000000e+11</td>\n",
       "      <td>Transportation</td>\n",
       "      <td>0.0</td>\n",
       "      <td>0.0</td>\n",
       "      <td>4.009370e+11</td>\n",
       "      <td>0.0</td>\n",
       "      <td>0.0</td>\n",
       "      <td>4.009370e+11</td>\n",
       "      <td>6.66667</td>\n",
       "      <td>0.0</td>\n",
       "    </tr>\n",
       "    <tr>\n",
       "      <th>3</th>\n",
       "      <td>1.0</td>\n",
       "      <td>0.0</td>\n",
       "      <td>Layer</td>\n",
       "      <td>proton</td>\n",
       "      <td>5.0</td>\n",
       "      <td>0.106066</td>\n",
       "      <td>0.03324</td>\n",
       "      <td>-23.6058</td>\n",
       "      <td>0.111153</td>\n",
       "      <td>-0.083877</td>\n",
       "      <td>...</td>\n",
       "      <td>4.000000e+11</td>\n",
       "      <td>Transportation</td>\n",
       "      <td>0.0</td>\n",
       "      <td>0.0</td>\n",
       "      <td>4.009370e+11</td>\n",
       "      <td>0.0</td>\n",
       "      <td>0.0</td>\n",
       "      <td>4.009370e+11</td>\n",
       "      <td>6.66667</td>\n",
       "      <td>0.0</td>\n",
       "    </tr>\n",
       "    <tr>\n",
       "      <th>4</th>\n",
       "      <td>1.0</td>\n",
       "      <td>0.0</td>\n",
       "      <td>Layer</td>\n",
       "      <td>proton</td>\n",
       "      <td>6.0</td>\n",
       "      <td>0.106066</td>\n",
       "      <td>0.03324</td>\n",
       "      <td>-21.3901</td>\n",
       "      <td>0.111153</td>\n",
       "      <td>-0.083877</td>\n",
       "      <td>...</td>\n",
       "      <td>4.000000e+11</td>\n",
       "      <td>Transportation</td>\n",
       "      <td>0.0</td>\n",
       "      <td>0.0</td>\n",
       "      <td>4.009370e+11</td>\n",
       "      <td>0.0</td>\n",
       "      <td>0.0</td>\n",
       "      <td>4.009370e+11</td>\n",
       "      <td>6.66667</td>\n",
       "      <td>0.0</td>\n",
       "    </tr>\n",
       "  </tbody>\n",
       "</table>\n",
       "<p>5 rows × 21 columns</p>\n",
       "</div>"
      ],
      "text/plain": [
       "   trackId  parentId volumeName particleName  stepNumber      posX     posY  \\\n",
       "0      1.0       0.0      Layer       proton         2.0  0.106066  0.03324   \n",
       "1      1.0       0.0      Layer       proton         3.0  0.106066  0.03324   \n",
       "2      1.0       0.0      Layer       proton         4.0  0.106066  0.03324   \n",
       "3      1.0       0.0      Layer       proton         5.0  0.106066  0.03324   \n",
       "4      1.0       0.0      Layer       proton         6.0  0.106066  0.03324   \n",
       "\n",
       "      posZ      perp  kineeticEnergyDiff     ...      kineticEnergyPostStep  \\\n",
       "0 -46.3338  0.111153           -0.083877     ...               4.000000e+11   \n",
       "1 -39.8076  0.111153           -0.083877     ...               4.000000e+11   \n",
       "2 -35.5332  0.111153           -0.083877     ...               4.000000e+11   \n",
       "3 -23.6058  0.111153           -0.083877     ...               4.000000e+11   \n",
       "4 -21.3901  0.111153           -0.083877     ...               4.000000e+11   \n",
       "\n",
       "       processName mompreX  mompreY       mompreZ  momposX  momposY  \\\n",
       "0   Transportation     0.0      0.0  4.009370e+11      0.0      0.0   \n",
       "1   Transportation     0.0      0.0  4.009370e+11      0.0      0.0   \n",
       "2   Transportation     0.0      0.0  4.009370e+11      0.0      0.0   \n",
       "3   Transportation     0.0      0.0  4.009370e+11      0.0      0.0   \n",
       "4   Transportation     0.0      0.0  4.009370e+11      0.0      0.0   \n",
       "\n",
       "        momposZ  stepLength  particleId  \n",
       "0  4.009370e+11     6.66667         0.0  \n",
       "1  4.009370e+11     6.66667         0.0  \n",
       "2  4.009370e+11     6.66667         0.0  \n",
       "3  4.009370e+11     6.66667         0.0  \n",
       "4  4.009370e+11     6.66667         0.0  \n",
       "\n",
       "[5 rows x 21 columns]"
      ]
     },
     "execution_count": 3,
     "metadata": {},
     "output_type": "execute_result"
    }
   ],
   "source": [
    "df.head()"
   ]
  },
  {
   "cell_type": "code",
   "execution_count": 8,
   "metadata": {
    "collapsed": false
   },
   "outputs": [],
   "source": [
    "3.63*.68\n",
    "a = (2.47*1e11/(1.26*1e-2))"
   ]
  },
  {
   "cell_type": "code",
   "execution_count": 7,
   "metadata": {
    "collapsed": false
   },
   "outputs": [
    {
     "data": {
      "text/plain": [
       "'1.96e+13'"
      ]
     },
     "execution_count": 7,
     "metadata": {},
     "output_type": "execute_result"
    }
   ],
   "source": [
    "'%.2e' %(2.47*1e11/(1.26*1e-2))"
   ]
  },
  {
   "cell_type": "code",
   "execution_count": 12,
   "metadata": {
    "collapsed": false
   },
   "outputs": [
    {
     "data": {
      "text/plain": [
       "'1.57e+12'"
      ]
     },
     "execution_count": 12,
     "metadata": {},
     "output_type": "execute_result"
    }
   ],
   "source": [
    "'%.2e' %(a/12.51)"
   ]
  },
  {
   "cell_type": "code",
   "execution_count": 13,
   "metadata": {
    "collapsed": false
   },
   "outputs": [
    {
     "data": {
      "text/plain": [
       "'3.14e+12'"
      ]
     },
     "execution_count": 13,
     "metadata": {},
     "output_type": "execute_result"
    }
   ],
   "source": [
    "'%.2e' %(a/6.25)"
   ]
  },
  {
   "cell_type": "code",
   "execution_count": 16,
   "metadata": {
    "collapsed": false
   },
   "outputs": [
    {
     "data": {
      "text/plain": [
       "0.44857142857142857"
      ]
     },
     "execution_count": 16,
     "metadata": {},
     "output_type": "execute_result"
    }
   ],
   "source": [
    "3.14*1e12/(7*1e14) * 100"
   ]
  },
  {
   "cell_type": "code",
   "execution_count": null,
   "metadata": {
    "collapsed": true
   },
   "outputs": [],
   "source": []
  }
 ],
 "metadata": {
  "kernelspec": {
   "display_name": "Python 2",
   "language": "python",
   "name": "python2"
  },
  "language_info": {
   "codemirror_mode": {
    "name": "ipython",
    "version": 2
   },
   "file_extension": ".py",
   "mimetype": "text/x-python",
   "name": "python",
   "nbconvert_exporter": "python",
   "pygments_lexer": "ipython2",
   "version": "2.7.12"
  }
 },
 "nbformat": 4,
 "nbformat_minor": 0
}
