{
 "cells": [
  {
   "cell_type": "code",
   "execution_count": 1,
   "metadata": {
    "collapsed": false
   },
   "outputs": [
    {
     "name": "stderr",
     "output_type": "stream",
     "text": [
      "/Users/gabrielfior/anaconda/lib/python2.7/site-packages/matplotlib/font_manager.py:273: UserWarning: Matplotlib is building the font cache using fc-list. This may take a moment.\n",
      "  warnings.warn('Matplotlib is building the font cache using fc-list. This may take a moment.')\n"
     ]
    }
   ],
   "source": [
    "import numpy as np\n",
    "import matplotlib.pyplot as plt\n",
    "import pandas as pd\n",
    "import seaborn as sns\n",
    "from scipy import stats\n",
    "import datetime\n",
    "import matplotlib.ticker as mtick\n",
    "\n",
    "%matplotlib inline"
   ]
  },
  {
   "cell_type": "code",
   "execution_count": 137,
   "metadata": {
    "collapsed": false
   },
   "outputs": [
    {
     "name": "stdout",
     "output_type": "stream",
     "text": [
      "reading...\n",
      "elapsed: 0:01:53.641909\n"
     ]
    }
   ],
   "source": [
    "print 'reading...'\n",
    "t0 = datetime.datetime.now()\n",
    "columns_new2 =['trackId','parentId','volumeName','particleName','stepNumber',\n",
    "                                                   'posX','posY','posZ','perp','kineeticEnergyDiff',\n",
    "                                                   'edepStep','kineticEnergyPostStep','processName',\n",
    "                                    'mompreX','mompreY','mompreZ','momposX','momposY','momposZ',\n",
    "                  'stepLength','particleId'] \n",
    "filename = '/Volumes/UNTITLED/beam/Ar/mergedAr.csv'\n",
    "#filename = '/Volumes/UNTITLED/beam/10minus4/merged10minus4.csv'\n",
    "#filenameAr = 10cm_1e6_400GeV_Ar_cut1_5mm_nt_B4_g_processed.csv\n",
    "density_expression = filename.split('.')[0][-1]\n",
    "#density_expression = 7\n",
    "df = pd.read_csv(filename,header=None,names=columns_new2)#,nrows=100000)\n",
    "print 'elapsed: '+str(datetime.datetime.now()-t0)"
   ]
  },
  {
   "cell_type": "code",
   "execution_count": 138,
   "metadata": {
    "collapsed": false
   },
   "outputs": [
    {
     "data": {
      "text/plain": [
       "1000000"
      ]
     },
     "execution_count": 138,
     "metadata": {},
     "output_type": "execute_result"
    }
   ],
   "source": [
    "len(df.particleId.unique())"
   ]
  },
  {
   "cell_type": "code",
   "execution_count": 139,
   "metadata": {
    "collapsed": false
   },
   "outputs": [
    {
     "data": {
      "text/plain": [
       "(19938823, 21)"
      ]
     },
     "execution_count": 139,
     "metadata": {},
     "output_type": "execute_result"
    }
   ],
   "source": [
    "df.shape"
   ]
  },
  {
   "cell_type": "code",
   "execution_count": 140,
   "metadata": {
    "collapsed": false
   },
   "outputs": [],
   "source": [
    "grouped = df.groupby(by=['particleId','particleName'],as_index=False).agg({'stepLength':sum,'edepStep':sum})"
   ]
  },
  {
   "cell_type": "code",
   "execution_count": 141,
   "metadata": {
    "collapsed": true
   },
   "outputs": [],
   "source": [
    "grouped['edep_mm'] = grouped.edepStep/grouped.stepLength\n",
    "grouped['particleName'] = grouped.particleName.apply(lambda x: x.strip())"
   ]
  },
  {
   "cell_type": "code",
   "execution_count": 142,
   "metadata": {
    "collapsed": false
   },
   "outputs": [
    {
     "data": {
      "text/html": [
       "<div>\n",
       "<table border=\"1\" class=\"dataframe\">\n",
       "  <thead>\n",
       "    <tr style=\"text-align: right;\">\n",
       "      <th></th>\n",
       "      <th>particleId</th>\n",
       "      <th>particleName</th>\n",
       "      <th>stepLength</th>\n",
       "      <th>edepStep</th>\n",
       "      <th>edep_mm</th>\n",
       "    </tr>\n",
       "  </thead>\n",
       "  <tbody>\n",
       "    <tr>\n",
       "      <th>0</th>\n",
       "      <td>0.0</td>\n",
       "      <td>e-</td>\n",
       "      <td>3.623177</td>\n",
       "      <td>12113.4500</td>\n",
       "      <td>3343.322448</td>\n",
       "    </tr>\n",
       "    <tr>\n",
       "      <th>1</th>\n",
       "      <td>0.0</td>\n",
       "      <td>proton</td>\n",
       "      <td>100.000050</td>\n",
       "      <td>19235.9700</td>\n",
       "      <td>192.359604</td>\n",
       "    </tr>\n",
       "    <tr>\n",
       "      <th>2</th>\n",
       "      <td>1.0</td>\n",
       "      <td>e-</td>\n",
       "      <td>1.446857</td>\n",
       "      <td>7359.2160</td>\n",
       "      <td>5086.346474</td>\n",
       "    </tr>\n",
       "    <tr>\n",
       "      <th>3</th>\n",
       "      <td>1.0</td>\n",
       "      <td>proton</td>\n",
       "      <td>100.000048</td>\n",
       "      <td>22483.4211</td>\n",
       "      <td>224.834103</td>\n",
       "    </tr>\n",
       "    <tr>\n",
       "      <th>4</th>\n",
       "      <td>2.0</td>\n",
       "      <td>e-</td>\n",
       "      <td>3.790999</td>\n",
       "      <td>16173.9800</td>\n",
       "      <td>4266.416319</td>\n",
       "    </tr>\n",
       "  </tbody>\n",
       "</table>\n",
       "</div>"
      ],
      "text/plain": [
       "   particleId particleName  stepLength    edepStep      edep_mm\n",
       "0         0.0           e-    3.623177  12113.4500  3343.322448\n",
       "1         0.0       proton  100.000050  19235.9700   192.359604\n",
       "2         1.0           e-    1.446857   7359.2160  5086.346474\n",
       "3         1.0       proton  100.000048  22483.4211   224.834103\n",
       "4         2.0           e-    3.790999  16173.9800  4266.416319"
      ]
     },
     "execution_count": 142,
     "metadata": {},
     "output_type": "execute_result"
    }
   ],
   "source": [
    "grouped.head()"
   ]
  },
  {
   "cell_type": "code",
   "execution_count": 143,
   "metadata": {
    "collapsed": false
   },
   "outputs": [
    {
     "data": {
      "image/png": "[encoded data removed]",
      "text/plain": [
       "<matplotlib.figure.Figure at 0x112c99110>"
      ]
     },
     "metadata": {},
     "output_type": "display_data"
    }
   ],
   "source": [
    "fig, ax = plt.subplots()\n",
    "plt.hist(grouped[grouped.particleName=='proton'].edep_mm*10,bins=50)\n",
    "plt.title(r'Energy loss / cm distribution - $\\rho = 10^{-' +str(density_expression) +'} g/cm^3$')\n",
    "ax.set_yscale('log')\n",
    "#plt.xlim([-0.1,1.0])\n",
    "plt.ylabel('Frequency')\n",
    "plt.xlabel('Energy deposit (eV/cm)')\n",
    "ax.get_xaxis().get_major_formatter().set_useOffset(False)\n",
    "#ax.xaxis.set_major_formatter(mtick.FormatStrFormatter('%.2e'))\n",
    "#ax.semilogy()\n",
    "plt.show()"
   ]
  },
  {
   "cell_type": "code",
   "execution_count": 148,
   "metadata": {
    "collapsed": false
   },
   "outputs": [
    {
     "name": "stdout",
     "output_type": "stream",
     "text": [
      "mu=279.371529143, sigma=279.371529143\n"
     ]
    },
    {
     "data": {
      "image/png": "[encoded data removed]",
      "text/plain": [
       "<matplotlib.figure.Figure at 0x10acc3f50>"
      ]
     },
     "metadata": {},
     "output_type": "display_data"
    }
   ],
   "source": [
    "\n",
    "ax = sns.distplot(grouped[grouped.particleName=='proton'].edep_mm*10, bins=50, kde=False, fit=stats.norm);\n",
    "#plt.title(r'Histogram of Energy loss / cm ($\\rho = 10^{-' +str(density_expression) +'} g/cm^3$)')\n",
    "plt.title(r'Histogram of Energy loss / cm ($\\rho = 1.6 \\cdot 10^{-' +'3' +'} g/cm^3$)')\n",
    "# Get the fitted parameters used by sns\n",
    "(mu, sigma) = stats.norm.fit(grouped[grouped.particleName=='proton'].edep_mm*10)\n",
    "print \"mu={1}, sigma={1}\".format(mu, sigma)\n",
    "#ax.set_yscale('log')\n",
    "#ax.set_ylim([1e-15,1e13])\n",
    "factor_sigma = 50.\n",
    "#plt.xlim([-0.1,800])\n",
    "#plt.xlim([12.58473,12.58480])\n",
    "# Legend and labels \n",
    "plt.legend([\"normal dist. fit ($\\mu=${0:.2f}, $\\sigma=${1:.2f})\".format(mu, sigma)])\n",
    "#plt.ylabel('log(Frequency)')\n",
    "plt.ylabel('Frequency')\n",
    "plt.xlabel('Energy deposit (eV/cm)')\n",
    "#ax = plt.gca()\n",
    "ax.get_xaxis().get_major_formatter().set_useOffset(False)\n",
    "#ax.xaxis.set_major_formatter(mtick.FormatStrFormatter('%.2e'))\n",
    "\n",
    "plt.tight_layout()\n",
    "plt.show()"
   ]
  },
  {
   "cell_type": "code",
   "execution_count": 50,
   "metadata": {
    "collapsed": false
   },
   "outputs": [
    {
     "data": {
      "text/plain": [
       "(array([971358,  28641,      0,      0,      0,      0,      0,      0,\n",
       "             0,      1]),\n",
       " array([   18.63021218,   200.28078255,   381.93135293,   563.58192331,\n",
       "          745.23249368,   926.88306406,  1108.53363444,  1290.18420481,\n",
       "         1471.83477519,  1653.48534557,  1835.13591595]))"
      ]
     },
     "execution_count": 50,
     "metadata": {},
     "output_type": "execute_result"
    }
   ],
   "source": [
    "np.histogram(grouped[grouped.particleName=='proton'].edep_mm*10)"
   ]
  },
  {
   "cell_type": "code",
   "execution_count": null,
   "metadata": {
    "collapsed": false
   },
   "outputs": [],
   "source": [
    "grouped[grouped.particleName=='proton'].edep_mm.hist(bins=50)"
   ]
  },
  {
   "cell_type": "code",
   "execution_count": null,
   "metadata": {
    "collapsed": false
   },
   "outputs": [],
   "source": [
    "len(df[df.particleName==' proton'].particleId.unique())"
   ]
  },
  {
   "cell_type": "markdown",
   "metadata": {
    "collapsed": true
   },
   "source": [
    "# Plot clusters"
   ]
  },
  {
   "cell_type": "code",
   "execution_count": null,
   "metadata": {
    "collapsed": true
   },
   "outputs": [],
   "source": [
    "W = 26.4 # eV argon\n",
    "#W = 9.4 # eV, Rb"
   ]
  },
  {
   "cell_type": "code",
   "execution_count": null,
   "metadata": {
    "collapsed": false
   },
   "outputs": [],
   "source": [
    "toPlot = grouped[grouped.particleName=='proton'].edep_mm*10/W #energy loss / cm / W\n",
    "ax = sns.distplot(toPlot, bins=50, kde=False, fit=stats.norm);\n",
    "plt.title(r'Energy loss / cm distribution - $\\rho = 10^{-' +str(density_expression) +'} g/cm^3$')\n",
    "# Get the fitted parameters used by sns\n",
    "(mu, sigma) = stats.norm.fit(toPlot)\n",
    "print \"mu={1}, sigma={1}\".format(mu, sigma)\n",
    "#ax.set_yscale('log')\n",
    "#ax.set_ylim([1e0,1e10])\n",
    "#plt.xlim([-0.1,1.0])\n",
    "# Legend and labels \n",
    "plt.legend([\"normal dist. fit ($\\mu=${0:.2f}, $\\sigma=${1:.2f})\".format(mu, sigma)])\n",
    "plt.ylabel('Frequency')\n",
    "plt.xlabel('Energy deposit (eV/cm)')\n",
    "#ax = plt.gca()\n",
    "ax.get_xaxis().get_major_formatter().set_useOffset(True)\n",
    "ax.xaxis.set_major_formatter(mtick.FormatStrFormatter('%.1f'))\n",
    "plt.tight_layout()\n",
    "plt.show()"
   ]
  },
  {
   "cell_type": "code",
   "execution_count": null,
   "metadata": {
    "collapsed": true
   },
   "outputs": [],
   "source": []
  }
 ],
 "metadata": {
  "kernelspec": {
   "display_name": "Python 2",
   "language": "python",
   "name": "python2"
  },
  "language_info": {
   "codemirror_mode": {
    "name": "ipython",
    "version": 2
   },
   "file_extension": ".py",
   "mimetype": "text/x-python",
   "name": "python",
   "nbconvert_exporter": "python",
   "pygments_lexer": "ipython2",
   "version": "2.7.12"
  }
 },
 "nbformat": 4,
 "nbformat_minor": 0
}
