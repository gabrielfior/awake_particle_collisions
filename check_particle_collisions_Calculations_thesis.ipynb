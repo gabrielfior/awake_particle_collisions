{
 "cells": [
  {
   "cell_type": "code",
   "execution_count": 1,
   "metadata": {
    "collapsed": false
   },
   "outputs": [
    {
     "name": "stderr",
     "output_type": "stream",
     "text": [
      "/Users/gabrielfior/anaconda/lib/python2.7/site-packages/matplotlib/font_manager.py:273: UserWarning: Matplotlib is building the font cache using fc-list. This may take a moment.\n",
      "  warnings.warn('Matplotlib is building the font cache using fc-list. This may take a moment.')\n"
     ]
    }
   ],
   "source": [
    "import numpy as np\n",
    "import matplotlib.pyplot as plt\n",
    "import pandas as pd\n",
    "import seaborn as sns\n",
    "from scipy import stats\n",
    "import datetime\n",
    "import matplotlib.ticker as mtick\n",
    "\n",
    "%matplotlib inline"
   ]
  },
  {
   "cell_type": "code",
   "execution_count": 2,
   "metadata": {
    "collapsed": false
   },
   "outputs": [
    {
     "name": "stdout",
     "output_type": "stream",
     "text": [
      "reading...\n",
      "elapsed: 0:00:03.048624\n",
      "shape: (801908, 21)\n"
     ]
    }
   ],
   "source": [
    "print 'reading...'\n",
    "t0 = datetime.datetime.now()\n",
    "columns_new2 =['trackId','parentId','volumeName','particleName','stepNumber',\n",
    "                                                   'posX','posY','posZ','perp','kineeticEnergyDiff',\n",
    "                                                   'edepStep','kineticEnergyPostStep','processName',\n",
    "                                    'mompreX','mompreY','mompreZ','momposX','momposY','momposZ',\n",
    "                  'stepLength','particleId'] \n",
    "#filename = '/Volumes/UNTITLED/beam/Ar/mergedAr.csv'\n",
    "filename = '/Users/gabrielfior/Dropbox/Test82-build/splitted/1000cm_1e3_400GeV_Rb10minus7_beam_cut1_5mm_nt_B4_g_proc5.txt_proc.csv'\n",
    "density_expression = filename.split('.')[0][-1]\n",
    "density_expression = 7\n",
    "df = pd.read_csv(filename,header=None,names=columns_new2)#,nrows=1000)\n",
    "print 'elapsed: '+str(datetime.datetime.now()-t0)\n",
    "print 'shape: '+str(df.shape)"
   ]
  },
  {
   "cell_type": "code",
   "execution_count": 3,
   "metadata": {
    "collapsed": false
   },
   "outputs": [
    {
     "data": {
      "text/plain": [
       "(940, 21)"
      ]
     },
     "execution_count": 3,
     "metadata": {},
     "output_type": "execute_result"
    }
   ],
   "source": [
    "df[df.processName==' hIoni'].shape"
   ]
  },
  {
   "cell_type": "code",
   "execution_count": 20,
   "metadata": {
    "collapsed": false
   },
   "outputs": [
    {
     "data": {
      "text/plain": [
       "Index([u'trackId', u'parentId', u'volumeName', u'particleName', u'stepNumber',\n",
       "       u'posX', u'posY', u'posZ', u'perp', u'kineeticEnergyDiff', u'edepStep',\n",
       "       u'kineticEnergyPostStep', u'processName', u'mompreX', u'mompreY',\n",
       "       u'mompreZ', u'momposX', u'momposY', u'momposZ', u'stepLength',\n",
       "       u'particleId', u'flag_hioni'],\n",
       "      dtype='object')"
      ]
     },
     "execution_count": 20,
     "metadata": {},
     "output_type": "execute_result"
    }
   ],
   "source": [
    "df.columns"
   ]
  },
  {
   "cell_type": "code",
   "execution_count": 4,
   "metadata": {
    "collapsed": true
   },
   "outputs": [],
   "source": [
    "df['flag_hioni'] = df.processName.apply(lambda x: 1 if x==' hIoni' else 0)"
   ]
  },
  {
   "cell_type": "code",
   "execution_count": 21,
   "metadata": {
    "collapsed": false
   },
   "outputs": [],
   "source": [
    "# group by particle Id\n",
    "grouped_colls = df.groupby(by='particleId',as_index=False).agg({'flag_hioni':sum,'stepLength':sum,'edepStep':sum})"
   ]
  },
  {
   "cell_type": "code",
   "execution_count": 22,
   "metadata": {
    "collapsed": false
   },
   "outputs": [],
   "source": [
    "grouped_colls['flag_hioni']= pd.to_numeric(grouped_colls.flag_hioni)\n",
    "grouped_colls.stepLength = pd.to_numeric(grouped_colls.stepLength)\n",
    "grouped_colls.edepStep = pd.to_numeric(grouped_colls.edepStep)"
   ]
  },
  {
   "cell_type": "code",
   "execution_count": 23,
   "metadata": {
    "collapsed": false
   },
   "outputs": [],
   "source": [
    "grouped_colls['avg_col'] = 0."
   ]
  },
  {
   "cell_type": "code",
   "execution_count": 24,
   "metadata": {
    "collapsed": false
   },
   "outputs": [
    {
     "data": {
      "text/html": [
       "<div>\n",
       "<table border=\"1\" class=\"dataframe\">\n",
       "  <thead>\n",
       "    <tr style=\"text-align: right;\">\n",
       "      <th></th>\n",
       "      <th>particleId</th>\n",
       "      <th>stepLength</th>\n",
       "      <th>edepStep</th>\n",
       "      <th>flag_hioni</th>\n",
       "      <th>avg_col</th>\n",
       "    </tr>\n",
       "  </thead>\n",
       "  <tbody>\n",
       "    <tr>\n",
       "      <th>0</th>\n",
       "      <td>0.0</td>\n",
       "      <td>5055.002</td>\n",
       "      <td>63.61596</td>\n",
       "      <td>0</td>\n",
       "      <td>0.0</td>\n",
       "    </tr>\n",
       "    <tr>\n",
       "      <th>1</th>\n",
       "      <td>1.0</td>\n",
       "      <td>5055.002</td>\n",
       "      <td>63.61596</td>\n",
       "      <td>0</td>\n",
       "      <td>0.0</td>\n",
       "    </tr>\n",
       "    <tr>\n",
       "      <th>2</th>\n",
       "      <td>2.0</td>\n",
       "      <td>5055.002</td>\n",
       "      <td>63.61596</td>\n",
       "      <td>0</td>\n",
       "      <td>0.0</td>\n",
       "    </tr>\n",
       "    <tr>\n",
       "      <th>3</th>\n",
       "      <td>3.0</td>\n",
       "      <td>5055.002</td>\n",
       "      <td>63.61596</td>\n",
       "      <td>0</td>\n",
       "      <td>0.0</td>\n",
       "    </tr>\n",
       "    <tr>\n",
       "      <th>4</th>\n",
       "      <td>4.0</td>\n",
       "      <td>5055.002</td>\n",
       "      <td>63.61596</td>\n",
       "      <td>0</td>\n",
       "      <td>0.0</td>\n",
       "    </tr>\n",
       "  </tbody>\n",
       "</table>\n",
       "</div>"
      ],
      "text/plain": [
       "   particleId  stepLength  edepStep  flag_hioni  avg_col\n",
       "0         0.0    5055.002  63.61596           0      0.0\n",
       "1         1.0    5055.002  63.61596           0      0.0\n",
       "2         2.0    5055.002  63.61596           0      0.0\n",
       "3         3.0    5055.002  63.61596           0      0.0\n",
       "4         4.0    5055.002  63.61596           0      0.0"
      ]
     },
     "execution_count": 24,
     "metadata": {},
     "output_type": "execute_result"
    }
   ],
   "source": [
    "grouped_colls.head()"
   ]
  },
  {
   "cell_type": "code",
   "execution_count": 26,
   "metadata": {
    "collapsed": true
   },
   "outputs": [],
   "source": [
    "grouped_colls['avg_col'] = grouped_colls[grouped_colls.flag_hioni>0]['flag_hioni']/grouped_colls[grouped_colls.flag_hioni>0]['stepLength']\n",
    "grouped_colls['avg_energy'] = grouped_colls[grouped_colls.flag_hioni>0]['edepStep']/grouped_colls[grouped_colls.flag_hioni>0]['flag_hioni']"
   ]
  },
  {
   "cell_type": "code",
   "execution_count": 14,
   "metadata": {
    "collapsed": false
   },
   "outputs": [
    {
     "data": {
      "text/plain": [
       "<matplotlib.axes._subplots.AxesSubplot at 0x10bb588d0>"
      ]
     },
     "execution_count": 14,
     "metadata": {},
     "output_type": "execute_result"
    },
    {
     "data": {
      "image/png": "[encoded data removed]",
      "text/plain": [
       "<matplotlib.figure.Figure at 0x1097f7310>"
      ]
     },
     "metadata": {},
     "output_type": "display_data"
    }
   ],
   "source": [
    "grouped_colls.avg_col.hist(bins=np.linspace(0.00018,0.00022))"
   ]
  },
  {
   "cell_type": "code",
   "execution_count": 18,
   "metadata": {
    "collapsed": false
   },
   "outputs": [
    {
     "name": "stdout",
     "output_type": "stream",
     "text": [
      "(935, 4)\n",
      "(100000, 4)\n"
     ]
    }
   ],
   "source": [
    "print grouped_colls[grouped_colls.flag_hioni>0].shape\n",
    "print grouped_colls.shape"
   ]
  },
  {
   "cell_type": "markdown",
   "metadata": {},
   "source": [
    "# approx 2e-4 collisions/mm, hence 2e-3 collisions/cm (OK with Rutherford calculations). \n",
    "\n",
    "But cannot explain why just 935 out of 10^4 particles suffered collisions\n",
    "\n",
    "Average energy per collisions"
   ]
  },
  {
   "cell_type": "code",
   "execution_count": 31,
   "metadata": {
    "collapsed": false
   },
   "outputs": [
    {
     "data": {
      "text/plain": [
       "<matplotlib.text.Text at 0x10d688310>"
      ]
     },
     "execution_count": 31,
     "metadata": {},
     "output_type": "execute_result"
    },
    {
     "data": {
      "image/png": "[encoded data removed]",
      "text/plain": [
       "<matplotlib.figure.Figure at 0x10b63e790>"
      ]
     },
     "metadata": {},
     "output_type": "display_data"
    }
   ],
   "source": [
    "plt.figure()\n",
    "grouped_colls.avg_energy.hist(bins=np.linspace(0,1400,100))\n",
    "plt.title('histogram - average energy deposited by proton per collision')"
   ]
  },
  {
   "cell_type": "code",
   "execution_count": null,
   "metadata": {
    "collapsed": true
   },
   "outputs": [],
   "source": [
    "e"
   ]
  }
 ],
 "metadata": {
  "kernelspec": {
   "display_name": "Python 2",
   "language": "python",
   "name": "python2"
  },
  "language_info": {
   "codemirror_mode": {
    "name": "ipython",
    "version": 2
   },
   "file_extension": ".py",
   "mimetype": "text/x-python",
   "name": "python",
   "nbconvert_exporter": "python",
   "pygments_lexer": "ipython2",
   "version": "2.7.12"
  }
 },
 "nbformat": 4,
 "nbformat_minor": 0
}
